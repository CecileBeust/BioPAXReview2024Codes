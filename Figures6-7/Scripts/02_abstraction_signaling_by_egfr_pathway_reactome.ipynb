{
 "cells": [
  {
   "cell_type": "markdown",
   "metadata": {},
   "source": [
    "# Abstraction of the \"Signaling by EGFR\" pathway (R-HSA-177929) from Reactome"
   ]
  },
  {
   "cell_type": "markdown",
   "metadata": {},
   "source": [
    "#### Load libraries"
   ]
  },
  {
   "cell_type": "code",
   "execution_count": 10,
   "metadata": {},
   "outputs": [],
   "source": [
    "import networkx as nx\n",
    "import pandas as pd"
   ]
  },
  {
   "cell_type": "markdown",
   "metadata": {},
   "source": [
    "#### Load the pathway extracted in `01_extraction_signaling_by_egfr_pathway_reactome.ipynb`"
   ]
  },
  {
   "cell_type": "code",
   "execution_count": 11,
   "metadata": {},
   "outputs": [],
   "source": [
    "# read edgelist of EGF pathway from Reactome\n",
    "graph = pd.read_csv(\"../Results/Final_pathway_egf_completed.tsv\", sep=\"\\t\", header=None)\n",
    "\n",
    "# Convert it as a networkx object\n",
    "Graphtype = nx.DiGraph()\n",
    "egf_pathway = nx.from_pandas_edgelist(graph, source=0, target=2, edge_attr=1, create_using=Graphtype)\n",
    "\n",
    "# create empty abstracted graph\n",
    "abstracted_graph = pd.DataFrame(columns=[\"subject\", \"predicate\", \"object\", \"new_relation\"])"
   ]
  },
  {
   "cell_type": "markdown",
   "metadata": {},
   "source": [
    "### Simplification of the BioPAX graph"
   ]
  },
  {
   "cell_type": "code",
   "execution_count": null,
   "metadata": {},
   "outputs": [],
   "source": [
    "simplified_graph = egf_pathway\n",
    "print(simplified_graph)\n",
    "nodes_names_to_omit = [\"Protein\", \"Complex\", \"SmallMolecule\", \"LEFT-TO-RIGHT\", \"Stoichiometry\", \"Catalysis\", \"Control\"]\n",
    "nodes_to_remove = list()\n",
    "for node in simplified_graph.nodes():\n",
    "    for node_name in nodes_names_to_omit:\n",
    "        if node_name in node:\n",
    "            nodes_to_remove.append(node)\n",
    "simplified_graph.remove_nodes_from(nodes_to_remove)\n",
    "edgelist = list(simplified_graph.edges(data=True))\n",
    "df = pd.DataFrame(edgelist, columns=[\"Source\", \"Target\", \"Attributes\"])\n",
    "df.to_csv(\"../Results/Simplification_pathway_egf.tsv\", sep='\\t', index=False)\n",
    "#nx.write_edgelist(simplified_graph, sep=\"\\t\", \"../Results/Simplification_pathway_egf.tsv\")"
   ]
  },
  {
   "cell_type": "markdown",
   "metadata": {},
   "source": [
    "#### Extract \"bp3:nextStep\" edges from simplified graph"
   ]
  },
  {
   "cell_type": "code",
   "execution_count": null,
   "metadata": {},
   "outputs": [],
   "source": [
    "# Select next step edges and associated nodes (pathways)\n",
    "next_step_edges = [(u,v) for u,v,e in simplified_graph.edges(data=True) if e[1] == 'bp3:nextStep']\n",
    "print(\"Next step edges\")\n",
    "print(next_step_edges)"
   ]
  },
  {
   "cell_type": "markdown",
   "metadata": {},
   "source": [
    "#### Create a dictionary of pathway steps and associated step processes"
   ]
  },
  {
   "cell_type": "code",
   "execution_count": null,
   "metadata": {},
   "outputs": [],
   "source": [
    "# create empty dictionary to store the BiochemicalReactions associated to each PathwayStep\n",
    "dico_ps_reactions = dict()\n",
    "\n",
    "# build dictionary\n",
    "for edge in next_step_edges:\n",
    "    for step in edge:\n",
    "        out_nodes = egf_pathway.out_edges(step)\n",
    "        dico_ps_reactions[step] = list()\n",
    "        for nodes in out_nodes:\n",
    "            for node in nodes:\n",
    "                if not \"PathwayStep\" in node:\n",
    "                    dico_ps_reactions[step] += [str(node)]\n",
    "\n",
    "print(\"Dico pathway steps reactions\")\n",
    "print(dico_ps_reactions)\n",
    "print(len(set(dico_ps_reactions.keys())))\n"
   ]
  },
  {
   "cell_type": "markdown",
   "metadata": {},
   "source": [
    "#### Link biochemical reactions by a next step if their pathway steps are successive"
   ]
  },
  {
   "cell_type": "code",
   "execution_count": null,
   "metadata": {},
   "outputs": [],
   "source": [
    "keys = list(dico_ps_reactions.keys())\n",
    "values = list(dico_ps_reactions.values())\n",
    "subject_list = list()\n",
    "predicate_list = list()\n",
    "object_list = list()\n",
    "inferred_relation = list()\n",
    "for i in range(0, len(dico_ps_reactions)):\n",
    "    for j in range(i, len(dico_ps_reactions)):\n",
    "        #print(keys[i], keys[j])\n",
    "        for edges in next_step_edges:\n",
    "            if edges == (str(keys[i]), str(keys[j])):\n",
    "                if values[i] != [] and values[j] != []:\n",
    "                    for value1 in values[i]:\n",
    "                        br1 = value1\n",
    "                    for value2 in values[j]:\n",
    "                        br2 = value2\n",
    "                    print(br1, br2)\n",
    "                    subject_list.append(br1)\n",
    "                    predicate_list.append(\"http://abstraction/NextStepBiochemicalReaction/\")\n",
    "                    object_list.append(br2)\n",
    "                    inferred_relation.append(\"yes\")\n",
    "            if edges == (str(keys[j]), str(keys[i])):\n",
    "                if values[i] != [] and values[j] != []:\n",
    "                    for value1 in values[j]:\n",
    "                        br1 = value1\n",
    "                    for value2 in values[i]:\n",
    "                        br2 = value2\n",
    "                    print(br1, br2)\n",
    "                    subject_list.append(br1)\n",
    "                    predicate_list.append(\"http://abstraction/NextStepBiochemicalReaction/\")\n",
    "                    object_list.append(br2)\n",
    "                    inferred_relation.append(\"yes\")"
   ]
  },
  {
   "cell_type": "markdown",
   "metadata": {},
   "source": [
    "#### Abstraction on the pathway steps"
   ]
  },
  {
   "cell_type": "code",
   "execution_count": null,
   "metadata": {},
   "outputs": [],
   "source": [
    "def abstract_biopax_pathway_steps(input_graph, output_graph):\n",
    "    # add sequence of biochemical reactions\n",
    "    output_graph[\"subject\"] = subject_list\n",
    "    output_graph[\"predicate\"] = predicate_list\n",
    "    output_graph[\"object\"] = object_list\n",
    "    output_graph[\"new_relation\"] = inferred_relation\n",
    "\n",
    "    # read input graph as pandas dataframe \n",
    "    input_graph_dataframe = nx.to_pandas_edgelist(input_graph)\n",
    "    input_graph_dataframe = input_graph_dataframe[['source', 1, 'target']]\n",
    "\n",
    "    # add triplets that do not have to be abstracted\n",
    "    for index, row in input_graph_dataframe.iterrows():\n",
    "        if not \"bp3:stepProcess\" in row[1] and not \"bp3:nextStep\" in row[1] and not \"bp3:pathwayOrder\" in row[1]:\n",
    "            print(row['source'], row[1], row['target'])\n",
    "            subject_list.append(row['source'])\n",
    "            predicate_list.append(row[1])\n",
    "            object_list.append(row['target'])\n",
    "            inferred_relation.append(\"no\")\n",
    "\n",
    "    assert len(subject_list) == len(predicate_list) == len(object_list) == len(inferred_relation)\n",
    "    output_graph = output_graph.reindex(range(len(subject_list)))\n",
    "    output_graph[\"subject\"] = subject_list\n",
    "    output_graph[\"predicate\"] = predicate_list\n",
    "    output_graph[\"object\"] = object_list\n",
    "    output_graph[\"new_relation\"] = inferred_relation\n",
    "    # export graph for visualization in Cytoscape\n",
    "    output_graph.to_csv(\"../Results/Abstraction_egfr_pathway.tsv\", sep=\"\\t\", index=False)\n",
    "\n",
    "\n",
    "abstract_biopax_pathway_steps(simplified_graph, abstracted_graph)"
   ]
  },
  {
   "cell_type": "markdown",
   "metadata": {},
   "source": [
    "#### Collapsing of subpathways"
   ]
  },
  {
   "cell_type": "code",
   "execution_count": null,
   "metadata": {},
   "outputs": [],
   "source": [
    "abstracted_graph = pd.read_csv(\"../Results/Abstraction_egfr_pathway.tsv\", sep=\"\\t\")\n",
    "\n",
    "def abstract_collapse_biopax_pathway_steps(input_graph):\n",
    "    output_graph = pd.DataFrame(columns=[\"subject\", \"predicate\", \"object\", \"new_relation\"])\n",
    "    subject_list = list()\n",
    "    predicate_list = list()\n",
    "    object_list = list()\n",
    "    direct_br = list()\n",
    "    pathways = ['reactome:Pathway1389']\n",
    "    \n",
    "    for index, row in input_graph.iterrows():\n",
    "        # get triplets of root pathway\n",
    "        if row[0] == \"reactome:Pathway1389\":\n",
    "            subject_list.append(row[0])\n",
    "            predicate_list.append(row[1])\n",
    "            object_list.append(row[2])\n",
    "            # get direct biochemical reactions\n",
    "            if \"pathwayComponent\" in row[1] and \"BiochemicalReaction\" in row[2]:\n",
    "                direct_br.append(row[2])\n",
    "            # get direct sub-pathways\n",
    "            if \"pathwayComponent\" in row[1] and \"Pathway\" in row[2]:\n",
    "                pathways.append(row[2])\n",
    "    \n",
    "    # get the subpathways associated to the next steps of the BR\n",
    "    # get information about direct BR\n",
    "    for index, row in input_graph.iterrows():\n",
    "        for br in direct_br:\n",
    "            if row[0] == br and row[1] == \"http://abstraction/NextStepBiochemicalReaction/\":\n",
    "                if not row[2] not in direct_br:\n",
    "                    print(row[0], row[1], row[2])\n",
    "                    subject_list.append(row[0])\n",
    "                    predicate_list.append(row[1])\n",
    "                    object_list.append(row[2])\n",
    "            if row[0] == br and row[1] == \"bp3:displayName\":\n",
    "                if not row[2] in direct_br:\n",
    "                    subject_list.append(row[0])\n",
    "                    predicate_list.append(row[1])\n",
    "                    object_list.append(row[2])\n",
    "            if row[0] == br and row[1] == \"http://abstraction/NextStepBiochemicalReaction/\":\n",
    "                next_step = row[2]\n",
    "                # if the next step belongs to another pathway\n",
    "                if not next_step in direct_br:\n",
    "                    for index, row in input_graph.iterrows():\n",
    "                        if row[1] == \"bp3:pathwayComponent\" and row[2] == next_step:\n",
    "                            subject_list.append(br)\n",
    "                            predicate_list.append(\"http://abstraction/NextStepPathway/\")\n",
    "                            object_list.append(row[0])   \n",
    "    \n",
    "    # get information about direct Pathway\n",
    "    dico_subpathways_and_components = dict()\n",
    "    for pathway in pathways:\n",
    "        print(pathway)\n",
    "        dico_subpathways_and_components[pathway] = list()\n",
    "        list_components = list()\n",
    "        for index, row in input_graph.iterrows():\n",
    "            if row[0] == pathway and row[1] == \"bp3:displayName\":\n",
    "                subject_list.append(row[0])\n",
    "                predicate_list.append(row[1])\n",
    "                object_list.append(row[2])\n",
    "            if row[0] == pathway and row[1] == \"bp3:pathwayComponent\":\n",
    "                list_components.append(row[2])\n",
    "        dico_subpathways_and_components[pathway] = list_components\n",
    "\n",
    "    # link subpathways if their biochemical reactions share a next step\n",
    "    for i in range(len(pathways)):\n",
    "        for j in range(i + 1, len(pathways)):\n",
    "            pathway1 = pathways[i]\n",
    "            pathway2 = pathways[j]\n",
    "            liste_br1 = dico_subpathways_and_components[pathway1]\n",
    "            liste_br2 = dico_subpathways_and_components[pathway2]\n",
    "            \n",
    "            for val1 in liste_br1:\n",
    "                for val2 in liste_br2:\n",
    "                    for index, row in input_graph.iterrows():\n",
    "                        if row[0] == val1 and row[1] == \"http://abstraction/NextStepBiochemicalReaction/\" and row[2] == val2:\n",
    "                            if pathway2 != \"reactome:Pathway1389\" and pathway1 != \"reactome:Pathway1389\":\n",
    "                                subject_list.append(str(pathway1))\n",
    "                                predicate_list.append(\"http://abstraction/NextStepPathway/\")\n",
    "                                object_list.append(str(pathway2))\n",
    "                        if row[0] == val2 and row[1] == \"http://abstraction/NextStepBiochemicalReaction/\" and row[2] == val1:\n",
    "                            if pathway2 != \"reactome:Pathway1389\" and pathway1 != \"reactome:Pathway1389\":\n",
    "                                subject_list.append(str(pathway2))\n",
    "                                predicate_list.append(\"http://abstraction/NextStepPathway/\")\n",
    "                                object_list.append(str(pathway1))\n",
    "            \n",
    "    output_graph[\"subject\"] = subject_list\n",
    "    output_graph[\"predicate\"] = predicate_list\n",
    "    output_graph[\"object\"] = object_list\n",
    "    output_graph.to_csv(\"../Results/Abstraction_collapse_egfr_pathway.tsv\", sep=\"\\t\", index=False)\n",
    "    \n",
    "abstract_collapse_biopax_pathway_steps(abstracted_graph)"
   ]
  }
 ],
 "metadata": {
  "kernelspec": {
   "display_name": "biopax_sparql_queries",
   "language": "python",
   "name": "python3"
  },
  "language_info": {
   "codemirror_mode": {
    "name": "ipython",
    "version": 3
   },
   "file_extension": ".py",
   "mimetype": "text/x-python",
   "name": "python",
   "nbconvert_exporter": "python",
   "pygments_lexer": "ipython3",
   "version": "3.12.4"
  }
 },
 "nbformat": 4,
 "nbformat_minor": 2
}
