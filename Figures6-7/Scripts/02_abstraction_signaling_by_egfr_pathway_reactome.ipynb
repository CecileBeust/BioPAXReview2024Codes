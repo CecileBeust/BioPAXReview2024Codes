{
 "cells": [
  {
   "cell_type": "markdown",
   "metadata": {},
   "source": [
    "# Abstraction of the \"Signaling by EGFR\" pathway (R-HSA-177929) from Reactome"
   ]
  },
  {
   "cell_type": "markdown",
   "metadata": {},
   "source": [
    "#### Load libraries"
   ]
  },
  {
   "cell_type": "code",
   "execution_count": 21,
   "metadata": {},
   "outputs": [],
   "source": [
    "import networkx as nx\n",
    "import pandas as pd"
   ]
  },
  {
   "cell_type": "markdown",
   "metadata": {},
   "source": [
    "#### Load the pathway extracted in `01_extraction_signaling_by_egfr_pathway_reactome.ipynb`"
   ]
  },
  {
   "cell_type": "code",
   "execution_count": 22,
   "metadata": {},
   "outputs": [],
   "source": [
    "# read edgelist of EGF pathway from Reactome\n",
    "graph = pd.read_csv(\"../Results/Final_pathway_egf_completed.tsv\", sep=\"\\t\", header=None)\n",
    "\n",
    "# Convert it as a networkx object\n",
    "Graphtype = nx.DiGraph()\n",
    "egf_pathway = nx.from_pandas_edgelist(graph, source=0, target=2, edge_attr=1, create_using=Graphtype)\n",
    "\n",
    "# create empty abstracted graph\n",
    "abstracted_graph = pd.DataFrame(columns=[\"subject\", \"predicate\", \"object\", \"new_relation\"])"
   ]
  },
  {
   "cell_type": "markdown",
   "metadata": {},
   "source": [
    "#### Extract \"bp3:nextStep\" edges from original graph"
   ]
  },
  {
   "cell_type": "code",
   "execution_count": 23,
   "metadata": {},
   "outputs": [
    {
     "name": "stdout",
     "output_type": "stream",
     "text": [
      "Next step edges\n",
      "[('reactome:PathwayStep14662', 'reactome:PathwayStep16677'), ('reactome:PathwayStep14662', 'reactome:PathwayStep14663'), ('reactome:PathwayStep14661', 'reactome:PathwayStep14667'), ('reactome:PathwayStep14661', 'reactome:PathwayStep15089'), ('reactome:PathwayStep14661', 'reactome:PathwayStep3294'), ('reactome:PathwayStep14661', 'reactome:PathwayStep14662'), ('reactome:PathwayStep14661', 'reactome:PathwayStep15106'), ('reactome:PathwayStep14661', 'reactome:PathwayStep14913'), ('reactome:PathwayStep14661', 'reactome:PathwayStep15391'), ('reactome:PathwayStep14658', 'reactome:PathwayStep14659'), ('reactome:PathwayStep14659', 'reactome:PathwayStep2747'), ('reactome:PathwayStep14657', 'reactome:PathwayStep14658'), ('reactome:PathwayStep14696', 'reactome:PathwayStep14698'), ('reactome:PathwayStep14696', 'reactome:PathwayStep14699'), ('reactome:PathwayStep14686', 'reactome:PathwayStep3291'), ('reactome:PathwayStep14686', 'reactome:PathwayStep14687'), ('reactome:PathwayStep14683', 'reactome:PathwayStep14684'), ('reactome:PathwayStep14683', 'reactome:PathwayStep14685'), ('reactome:PathwayStep14702', 'reactome:PathwayStep14703'), ('reactome:PathwayStep14682', 'reactome:PathwayStep14683'), ('reactome:PathwayStep14692', 'reactome:PathwayStep14693'), ('reactome:PathwayStep14693', 'reactome:PathwayStep14694'), ('reactome:PathwayStep14701', 'reactome:PathwayStep14702'), ('reactome:PathwayStep14688', 'reactome:PathwayStep14689'), ('reactome:PathwayStep14695', 'reactome:PathwayStep14701'), ('reactome:PathwayStep14687', 'reactome:PathwayStep14688'), ('reactome:PathwayStep14672', 'reactome:PathwayStep14671'), ('reactome:PathwayStep14670', 'reactome:PathwayStep14739'), ('reactome:PathwayStep14670', 'reactome:PathwayStep14671'), ('reactome:PathwayStep14676', 'reactome:PathwayStep14677'), ('reactome:PathwayStep14676', 'reactome:PathwayStep14679'), ('reactome:PathwayStep14676', 'reactome:PathwayStep14678'), ('reactome:PathwayStep14679', 'reactome:PathwayStep14680'), ('reactome:PathwayStep14675', 'reactome:PathwayStep14672'), ('reactome:PathwayStep14671', 'reactome:PathwayStep14673'), ('reactome:PathwayStep14673', 'reactome:PathwayStep14676'), ('reactome:PathwayStep14673', 'reactome:PathwayStep14674'), ('reactome:PathwayStep14674', 'reactome:PathwayStep14675'), ('reactome:PathwayStep14674', 'reactome:PathwayStep16785'), ('reactome:PathwayStep14667', 'reactome:PathwayStep14668'), ('reactome:PathwayStep14667', 'reactome:PathwayStep16677'), ('reactome:PathwayStep14665', 'reactome:PathwayStep14666'), ('reactome:PathwayStep14666', 'reactome:PathwayStep14667'), ('reactome:PathwayStep14655', 'reactome:PathwayStep14682'), ('reactome:PathwayStep14655', 'reactome:PathwayStep16098'), ('reactome:PathwayStep14655', 'reactome:PathwayStep14662'), ('reactome:PathwayStep14655', 'reactome:PathwayStep14671'), ('reactome:PathwayStep14655', 'reactome:PathwayStep14665'), ('reactome:PathwayStep14655', 'reactome:PathwayStep16568'), ('reactome:PathwayStep14653', 'reactome:PathwayStep15275'), ('reactome:PathwayStep14653', 'reactome:PathwayStep15332'), ('reactome:PathwayStep14653', 'reactome:PathwayStep14654'), ('reactome:PathwayStep14656', 'reactome:PathwayStep14662'), ('reactome:PathwayStep14656', 'reactome:PathwayStep14657'), ('reactome:PathwayStep14650', 'reactome:PathwayStep14653'), ('reactome:PathwayStep14654', 'reactome:PathwayStep14655'), ('reactome:PathwayStep14654', 'reactome:PathwayStep14656')]\n"
     ]
    }
   ],
   "source": [
    "# Select next step edges and associated nodes (pathways)\n",
    "next_step_edges = [(u,v) for u,v,e in egf_pathway.edges(data=True) if e[1] == 'bp3:nextStep']\n",
    "print(\"Next step edges\")\n",
    "print(next_step_edges)"
   ]
  },
  {
   "cell_type": "markdown",
   "metadata": {},
   "source": [
    "#### Create a dictionary of pathway steps and associated biochemical reactions"
   ]
  },
  {
   "cell_type": "code",
   "execution_count": 24,
   "metadata": {},
   "outputs": [
    {
     "name": "stdout",
     "output_type": "stream",
     "text": [
      "Dico pathway steps reactions\n",
      "{'reactome:PathwayStep14662': ['reactome:BiochemicalReaction12392'], 'reactome:PathwayStep16677': [], 'reactome:PathwayStep14663': ['reactome:BiochemicalReaction12393'], 'reactome:PathwayStep14661': ['reactome:BiochemicalReaction12391'], 'reactome:PathwayStep14667': ['reactome:BiochemicalReaction12396'], 'reactome:PathwayStep15089': [], 'reactome:PathwayStep3294': [], 'reactome:PathwayStep15106': [], 'reactome:PathwayStep14913': [], 'reactome:PathwayStep15391': [], 'reactome:PathwayStep14658': ['reactome:BiochemicalReaction12389'], 'reactome:PathwayStep14659': ['reactome:BiochemicalReaction12390'], 'reactome:PathwayStep2747': [], 'reactome:PathwayStep14657': ['reactome:BiochemicalReaction12388'], 'reactome:PathwayStep14696': ['reactome:BiochemicalReaction12423'], 'reactome:PathwayStep14698': ['reactome:BiochemicalReaction12425'], 'reactome:PathwayStep14699': ['reactome:BiochemicalReaction12426'], 'reactome:PathwayStep14686': ['reactome:BiochemicalReaction12413'], 'reactome:PathwayStep3291': [], 'reactome:PathwayStep14687': ['reactome:BiochemicalReaction12414'], 'reactome:PathwayStep14683': ['reactome:BiochemicalReaction12410'], 'reactome:PathwayStep14684': ['reactome:BiochemicalReaction12411'], 'reactome:PathwayStep14685': ['reactome:BiochemicalReaction12412'], 'reactome:PathwayStep14702': ['reactome:BiochemicalReaction12429'], 'reactome:PathwayStep14703': ['reactome:BiochemicalReaction12430'], 'reactome:PathwayStep14682': ['reactome:BiochemicalReaction12409'], 'reactome:PathwayStep14692': ['reactome:BiochemicalReaction12419'], 'reactome:PathwayStep14693': ['reactome:BiochemicalReaction12420'], 'reactome:PathwayStep14694': ['reactome:BiochemicalReaction12421'], 'reactome:PathwayStep14701': ['reactome:BiochemicalReaction12428'], 'reactome:PathwayStep14688': ['reactome:BiochemicalReaction12415'], 'reactome:PathwayStep14689': ['reactome:BiochemicalReaction12416'], 'reactome:PathwayStep14695': ['reactome:BiochemicalReaction12422'], 'reactome:PathwayStep14672': ['reactome:BiochemicalReaction12400'], 'reactome:PathwayStep14671': ['reactome:BiochemicalReaction12399'], 'reactome:PathwayStep14670': ['reactome:BiochemicalReaction12398'], 'reactome:PathwayStep14739': [], 'reactome:PathwayStep14676': ['reactome:BiochemicalReaction12404'], 'reactome:PathwayStep14677': ['reactome:BiochemicalReaction12405'], 'reactome:PathwayStep14679': ['reactome:BiochemicalReaction12407'], 'reactome:PathwayStep14678': ['reactome:BiochemicalReaction12406'], 'reactome:PathwayStep14680': ['reactome:BiochemicalReaction12408'], 'reactome:PathwayStep14675': ['reactome:BiochemicalReaction12403'], 'reactome:PathwayStep14673': ['reactome:BiochemicalReaction12401'], 'reactome:PathwayStep14674': ['reactome:BiochemicalReaction12402'], 'reactome:PathwayStep16785': [], 'reactome:PathwayStep14668': ['reactome:BiochemicalReaction12397'], 'reactome:PathwayStep14665': ['reactome:BiochemicalReaction12394'], 'reactome:PathwayStep14666': ['reactome:BiochemicalReaction12395'], 'reactome:PathwayStep14655': ['reactome:BiochemicalReaction12386'], 'reactome:PathwayStep16098': [], 'reactome:PathwayStep16568': [], 'reactome:PathwayStep14653': ['reactome:BiochemicalReaction12384'], 'reactome:PathwayStep15275': [], 'reactome:PathwayStep15332': [], 'reactome:PathwayStep14654': ['reactome:BiochemicalReaction12385'], 'reactome:PathwayStep14656': ['reactome:BiochemicalReaction12387'], 'reactome:PathwayStep14650': ['reactome:BiochemicalReaction12381']}\n"
     ]
    }
   ],
   "source": [
    "# create empty dictionary to store the BiochemicalReactions associated to each PathwayStep\n",
    "dico_ps_reactions = dict()\n",
    "\n",
    "# build dictionary\n",
    "for next_step_nodes in next_step_edges:\n",
    "    for pathway in next_step_nodes:\n",
    "        out_nodes = egf_pathway.out_edges(pathway)\n",
    "        dico_ps_reactions[pathway] = list()\n",
    "        for nodes in out_nodes:\n",
    "            for node in nodes:\n",
    "                if \"BiochemicalReaction\" in node:\n",
    "                    dico_ps_reactions[pathway] += [str(node)]\n",
    "\n",
    "print(\"Dico pathway steps reactions\")\n",
    "print(dico_ps_reactions)\n"
   ]
  },
  {
   "cell_type": "markdown",
   "metadata": {},
   "source": [
    "#### Link biochemical reactions by a next step if their pathway steps are successive"
   ]
  },
  {
   "cell_type": "code",
   "execution_count": 25,
   "metadata": {},
   "outputs": [],
   "source": [
    "keys = list(dico_ps_reactions.keys())\n",
    "values = list(dico_ps_reactions.values())\n",
    "subject_list = list()\n",
    "predicate_list = list()\n",
    "object_list = list()\n",
    "inferred_relation = list()\n",
    "for i in range(0, len(dico_ps_reactions)):\n",
    "    for j in range(i, len(dico_ps_reactions)):\n",
    "        #print(keys[i], keys[j])\n",
    "        for edges in next_step_edges:\n",
    "            if edges == (str(keys[i]), str(keys[j])):\n",
    "                if values[i] != [] and values[j] != []:\n",
    "                    for value1 in values[i]:\n",
    "                        br1 = value1\n",
    "                    for value2 in values[j]:\n",
    "                        br2 = value2\n",
    "                    subject_list.append(value1)\n",
    "                    predicate_list.append(\"bp3:nextStep\")\n",
    "                    object_list.append(value2)\n",
    "                    inferred_relation.append(\"yes\")"
   ]
  },
  {
   "cell_type": "markdown",
   "metadata": {},
   "source": [
    "#### Abstraction on the pathway steps"
   ]
  },
  {
   "cell_type": "code",
   "execution_count": 26,
   "metadata": {},
   "outputs": [],
   "source": [
    "def abstract_biopax_pathway_steps(input_graph, output_graph):\n",
    "    # add sequence of biochemical reactions\n",
    "    output_graph[\"subject\"] = subject_list\n",
    "    output_graph[\"predicate\"] = predicate_list\n",
    "    output_graph[\"object\"] = object_list\n",
    "    output_graph[\"new_relation\"] = inferred_relation\n",
    "\n",
    "    # read input graph as pandas dataframe \n",
    "    input_graph_dataframe = nx.to_pandas_edgelist(input_graph)\n",
    "    input_graph_dataframe = input_graph_dataframe[['source', 1, 'target']]\n",
    "\n",
    "    # add triplets that do not have to be abstracted\n",
    "    for index, row in input_graph_dataframe.iterrows():\n",
    "        if not \"bp3:stepProcess\" in row[1] and not \"bp3:nextStep\" in row[1] and not \"bp3:pathwayOrder\" in row[1]:\n",
    "            subject_list.append(row['source'])\n",
    "            predicate_list.append(row[1])\n",
    "            object_list.append(row['target'])\n",
    "            inferred_relation.append(\"no\")\n",
    "\n",
    "    assert len(subject_list) == len(predicate_list) == len(object_list) == len(inferred_relation)\n",
    "    output_graph = output_graph.reindex(range(len(subject_list)))\n",
    "    output_graph[\"subject\"] = subject_list\n",
    "    output_graph[\"predicate\"] = predicate_list\n",
    "    output_graph[\"object\"] = object_list\n",
    "    output_graph[\"new_relation\"] = inferred_relation\n",
    "    # export graph for visualization in Cytoscape\n",
    "    output_graph.to_csv(\"../Results/Abstraction_pathway_egf.tsv\", sep=\"\\t\", index=False)\n",
    "\n",
    "\n",
    "abstract_biopax_pathway_steps(egf_pathway, abstracted_graph)"
   ]
  }
 ],
 "metadata": {
  "kernelspec": {
   "display_name": "biopax_sparql_queries",
   "language": "python",
   "name": "python3"
  },
  "language_info": {
   "codemirror_mode": {
    "name": "ipython",
    "version": 3
   },
   "file_extension": ".py",
   "mimetype": "text/x-python",
   "name": "python",
   "nbconvert_exporter": "python",
   "pygments_lexer": "ipython3",
   "version": "3.12.4"
  }
 },
 "nbformat": 4,
 "nbformat_minor": 2
}
