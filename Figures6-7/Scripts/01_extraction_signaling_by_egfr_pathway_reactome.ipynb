{
 "cells": [
  {
   "cell_type": "markdown",
   "metadata": {},
   "source": [
    "# Extraction of the \"Signaling by EGFR\" pathway (R-HSA-177929) from the BioPAX export (v65) of Reactome"
   ]
  },
  {
   "cell_type": "markdown",
   "metadata": {},
   "source": [
    "#### Import libraries"
   ]
  },
  {
   "cell_type": "code",
   "execution_count": null,
   "metadata": {},
   "outputs": [],
   "source": [
    "from SPARQLWrapper import SPARQLWrapper, JSON, CSV\n",
    "import IPython\n",
    "import pandas as pd\n",
    "import subprocess\n",
    "import time"
   ]
  },
  {
   "cell_type": "markdown",
   "metadata": {},
   "source": [
    "#### Define URL of SPARQL endpoint"
   ]
  },
  {
   "cell_type": "code",
   "execution_count": null,
   "metadata": {},
   "outputs": [],
   "source": [
    "endpointURL_reactome_v65 = \"http://localhost:3030/reactome_v65/query\"\n",
    "rdfFormat = \"turtle\""
   ]
  },
  {
   "cell_type": "markdown",
   "metadata": {},
   "source": [
    "#### Define RDF prefixes"
   ]
  },
  {
   "cell_type": "code",
   "execution_count": null,
   "metadata": {},
   "outputs": [],
   "source": [
    "reactomeVersion = 65 \n",
    "prefixes = \"\"\"\n",
    "PREFIX rdf: <http://www.w3.org/1999/02/22-rdf-syntax-ns#>\n",
    "PREFIX rdfs:<http://www.w3.org/2000/01/rdf-schema#>\n",
    "PREFIX owl: <http://www.w3.org/2002/07/owl#>\n",
    "PREFIX xsd: <http://www.w3.org/2001/XMLSchema#>\n",
    "PREFIX dc: <http://purl.org/dc/elements/1.1/>\n",
    "PREFIX dcterms: <http://purl.org/dc/terms/>\n",
    "\n",
    "PREFIX chebi: <http://purl.obolibrary.org/obo/chebi/>\n",
    "PREFIX chebidb: <http://purl.obolibrary.org/obo/CHEBI_>\n",
    "PREFIX chebirel: <http://purl.obolibrary.org/obo/CHEBI#>\n",
    "PREFIX oboInOwl: <http://www.geneontology.org/formats/oboInOwl#>\n",
    "\n",
    "PREFIX bp3: <http://www.biopax.org/release/biopax-level3.owl#>\n",
    "\n",
    "# Homo_sapiens-20170221.owl\n",
    "#PREFIX reactome: <http://www.reactome.org/biopax/59/48887#> \n",
    "#\n",
    "# Homo_sapiens-20210608.owl\n",
    "#PREFIX reactome: <http://www.reactome.org/biopax/77/48887#>\n",
    "#\n",
    "# Homo_sapiens-20220614.owl\n",
    "#PREFIX reactome: <http://www.reactome.org/biopax/81/48887#>\n",
    "#\n",
    "# Homo_sapiens-20221130.owl\n",
    "#PREFIX reactome: <http://www.reactome.org/biopax/83/48887#>\n",
    "\n",
    "PREFIX reactome: <http://www.reactome.org/biopax/{}/48887#>\n",
    "\"\"\".format(reactomeVersion)\n",
    "\n",
    "biopaxURI = \"http://www.biopax.org/release/biopax-level3.owl#\""
   ]
  },
  {
   "cell_type": "markdown",
   "metadata": {},
   "source": [
    "# Useful functions"
   ]
  },
  {
   "cell_type": "code",
   "execution_count": null,
   "metadata": {},
   "outputs": [],
   "source": [
    "def displaySparqlResults(results):\n",
    "    '''\n",
    "    Displays as HTML the result of a SPARQLWrapper query in a Jupyter notebook.\n",
    "    \n",
    "        Parameters:\n",
    "            results (dictionnary): the result of a call to SPARQLWrapper.query().convert()\n",
    "    '''\n",
    "    variableNames = results['head']['vars']\n",
    "    tableCode = '<table><tr><th>{}</th></tr><tr>{}</tr></table>'.format('</th><th>'.join(variableNames), '</tr><tr>'.join('<td>{}</td>'.format('</td><td>'.join([row[vName]['value'] if vName in row.keys() else \"&nbsp;\" for vName in variableNames]))for row in results[\"results\"][\"bindings\"]))\n",
    "    IPython.display.display(IPython.display.HTML(tableCode))"
   ]
  },
  {
   "cell_type": "code",
   "execution_count": null,
   "metadata": {},
   "outputs": [],
   "source": [
    "def getPathwayURIbyName(pathwayName):\n",
    "    query=\"\"\"\n",
    "SELECT DISTINCT ?pathwayURI ?pathwayReactomeID\n",
    "WHERE {\n",
    "  ?pathwayURI bp3:name|bp3:displayName \\\"\"\"\" + pathwayName + \"\"\"\\\" .\n",
    "  ?pathwayURI bp3:xref [ rdf:type bp3:UnificationXref ;\n",
    "                      bp3:db \"Reactome\" ;\n",
    "                      bp3:id ?pathwayReactomeID ] .\n",
    "}\n",
    "\"\"\"\n",
    "    sparql = SPARQLWrapper(endpointURL_reactome_v65)\n",
    "    sparql.setQuery(prefixes+query)\n",
    "    sparql.setReturnFormat(JSON)\n",
    "    results = sparql.query().convert()\n",
    "    return results"
   ]
  },
  {
   "cell_type": "markdown",
   "metadata": {},
   "source": [
    "# Launch SPARQL endpoint loading the standalone BioPAX export of Reactome (version 65)"
   ]
  },
  {
   "cell_type": "code",
   "execution_count": null,
   "metadata": {},
   "outputs": [],
   "source": [
    "# TODO: change path\n",
    "command = [\n",
    "    '/home/cbeust/Softwares/JenaFuseki/apache-jena-fuseki-4.9.0/fuseki-server',\n",
    "    '--file', '/home/cbeust/Projects/2024/BioPAX_Review/Compare_BioPAX_Files/ReactomeBioPAX/_00_Reactome_Data_v65/Homo_sapiens.owl',\n",
    "    '--file', '/home/cbeust/Projects/2024/BioPAX_Review/BioPAX_Ontology/biopax-level3.owl',\n",
    "    '/reactome_v65']\n",
    "process = subprocess.Popen(command)\n",
    "time.sleep(60)"
   ]
  },
  {
   "cell_type": "markdown",
   "metadata": {},
   "source": [
    "# Extraction of \"Signaling by EGFR\" (R-HSA-177929) pathway from Reactome BioPAX export v65"
   ]
  },
  {
   "cell_type": "markdown",
   "metadata": {},
   "source": [
    "## 1 - Extract direct pathway components"
   ]
  },
  {
   "cell_type": "code",
   "execution_count": null,
   "metadata": {},
   "outputs": [],
   "source": [
    "defaultPrefixValue = \"http://www.reactome.org/biopax/{}/48887#\".format(reactomeVersion)\n",
    "pathwayIdent = \"http://www.reactome.org/biopax/65/48887#Pathway2275\"\n",
    "if pathwayIdent.startswith(defaultPrefixValue):\n",
    "        pathwayIdent = pathwayIdent.replace(defaultPrefixValue, \"reactome\" + ':')\n",
    "if not(pathwayIdent.startswith(\"reactome\" + ':')):\n",
    "        pathwayIdent = \"<\" + pathwayIdent + \">\"\n",
    "query = \"\"\"\n",
    "SELECT DISTINCT ?pathwayStart ?pathway_component ?direct_component\n",
    "WHERE {\n",
    "  VALUES ?pathwayStart { reactome:Pathway2275 } # \"Signaling by EGFR\" in Reactome BioPAX v65 (Pathway165 in Reactome BioPAX v38)\n",
    "  \n",
    "  # Pathway components\n",
    "  ?pathwayStart bp3:pathwayComponent ?direct_component .\n",
    "  ?pathwayStart ?pathway_component ?direct_component .\n",
    "}\n",
    "\"\"\"\n",
    "sparql = SPARQLWrapper(endpointURL_reactome_v65)\n",
    "sparql.setQuery(prefixes+query)\n",
    "sparql.setReturnFormat(JSON)\n",
    "results = sparql.query().convert()\n",
    "displaySparqlResults(results)\n",
    "\n",
    "sparql.setReturnFormat(CSV)\n",
    "results = sparql.query().convert()\n",
    "with open(\"../Results/1_direct_pathway_compo.csv\", \"wb\") as f:\n",
    "    f.write(results)"
   ]
  },
  {
   "cell_type": "markdown",
   "metadata": {},
   "source": [
    "## 2 - Description of direct pathway components of type BiochemicalReaction"
   ]
  },
  {
   "cell_type": "code",
   "execution_count": null,
   "metadata": {},
   "outputs": [],
   "source": [
    "defaultPrefixValue = \"http://www.reactome.org/biopax/{}/48887#\".format(reactomeVersion)\n",
    "pathwayIdent = \"http://www.reactome.org/biopax/65/48887#Pathway2275\"\n",
    "if pathwayIdent.startswith(defaultPrefixValue):\n",
    "        pathwayIdent = pathwayIdent.replace(defaultPrefixValue, \"reactome\" + ':')\n",
    "if not(pathwayIdent.startswith(\"reactome\" + ':')):\n",
    "        pathwayIdent = \"<\" + pathwayIdent + \">\"\n",
    "query = \"\"\"\n",
    "SELECT DISTINCT ?direct_component ?relations_pathway_compo_br ?linked_pathway_compo_br\n",
    "WHERE {\n",
    "  VALUES ?pathwayStart { reactome:Pathway2275 } # \"Signaling by EGFR\" in Reactome BioPAX v65 (Pathway165 in Reactome BioPAX v38)\n",
    "  \n",
    "  # Pathway components\n",
    "  ?pathwayStart bp3:pathwayComponent ?direct_component .\n",
    "  ?pathwayStart ?pathway_component ?direct_component .\n",
    "  ?direct_component rdf:type bp3:BiochemicalReaction .\n",
    "  VALUES ?relations_pathway_compo_br { bp3:displayName bp3:left bp3:right bp3:conversionDirection bp3:participantStoichiometry}\n",
    "  ?direct_component ?relations_pathway_compo_br ?linked_pathway_compo_br .\n",
    "}\n",
    "\"\"\"\n",
    "sparql = SPARQLWrapper(endpointURL_reactome_v65)\n",
    "sparql.setQuery(prefixes+query)\n",
    "sparql.setReturnFormat(JSON)\n",
    "results = sparql.query().convert()\n",
    "displaySparqlResults(results)\n",
    "\n",
    "sparql.setReturnFormat(CSV)\n",
    "results = sparql.query().convert()\n",
    "with open(\"../Results/2_direct_pathway_compo_br.csv\", \"wb\") as f:\n",
    "    f.write(results)"
   ]
  },
  {
   "cell_type": "markdown",
   "metadata": {},
   "source": [
    "## 3 - Description of direct pathway components of type Pathway"
   ]
  },
  {
   "cell_type": "code",
   "execution_count": null,
   "metadata": {},
   "outputs": [],
   "source": [
    "defaultPrefixValue = \"http://www.reactome.org/biopax/{}/48887#\".format(reactomeVersion)\n",
    "pathwayIdent = \"http://www.reactome.org/biopax/65/48887#Pathway2275\"\n",
    "if pathwayIdent.startswith(defaultPrefixValue):\n",
    "        pathwayIdent = pathwayIdent.replace(defaultPrefixValue, \"reactome\" + ':')\n",
    "if not(pathwayIdent.startswith(\"reactome\" + ':')):\n",
    "        pathwayIdent = \"<\" + pathwayIdent + \">\"\n",
    "query = \"\"\"\n",
    "SELECT DISTINCT ?direct_component ?relations_pathway_compo_path ?linked_pathway_compo_path\n",
    "WHERE {\n",
    "  VALUES ?pathwayStart { reactome:Pathway2275 } # \"Signaling by EGFR\" in Reactome BioPAX v65 (Pathway165 in Reactome BioPAX v38)\n",
    "  \n",
    "  # Pathway components\n",
    "  ?pathwayStart bp3:pathwayComponent ?direct_component .\n",
    "  ?pathwayStart ?pathway_component ?direct_component .\n",
    "  ?direct_component rdf:type bp3:Pathway .\n",
    "  VALUES ?relations_pathway_compo_path { bp3:displayName bp3:pathwayComponent bp3:pathwayOrder }\n",
    "  ?direct_component ?relations_pathway_compo_path ?linked_pathway_compo_path .\n",
    "}\n",
    "\"\"\"\n",
    "sparql = SPARQLWrapper(endpointURL_reactome_v65)\n",
    "sparql.setQuery(prefixes+query)\n",
    "sparql.setReturnFormat(JSON)\n",
    "results = sparql.query().convert()\n",
    "displaySparqlResults(results)\n",
    "\n",
    "sparql.setReturnFormat(CSV)\n",
    "results = sparql.query().convert()\n",
    "with open(\"../Results/3_direct_pathway_compo_path.csv\", \"wb\") as f:\n",
    "    f.write(results)"
   ]
  },
  {
   "cell_type": "markdown",
   "metadata": {},
   "source": [
    "## 4 - Extraction of direct pathway steps"
   ]
  },
  {
   "cell_type": "code",
   "execution_count": null,
   "metadata": {},
   "outputs": [],
   "source": [
    "defaultPrefixValue = \"http://www.reactome.org/biopax/{}/48887#\".format(reactomeVersion)\n",
    "pathwayIdent = \"http://www.reactome.org/biopax/65/48887#Pathway2275\"\n",
    "if pathwayIdent.startswith(defaultPrefixValue):\n",
    "        pathwayIdent = pathwayIdent.replace(defaultPrefixValue, \"reactome\" + ':')\n",
    "if not(pathwayIdent.startswith(\"reactome\" + ':')):\n",
    "        pathwayIdent = \"<\" + pathwayIdent + \">\"\n",
    "query = \"\"\"\n",
    "SELECT DISTINCT ?pathwayStart ?pathway_order ?direct_ps\n",
    "WHERE {\n",
    "  VALUES ?pathwayStart { reactome:Pathway2275 } # \"Signaling by EGFR\" in Reactome BioPAX v65 (Pathway165 in Reactome BioPAX v38)\n",
    "  \n",
    "  # DIRECT PATHWAY STEPS\n",
    "  ?pathwayStart bp3:pathwayOrder ?direct_ps .\n",
    "  ?pathwayStart ?pathway_order ?direct_ps .\n",
    "  ?direct_ps rdf:type bp3:PathwayStep .\n",
    "}\n",
    "\"\"\"\n",
    "sparql = SPARQLWrapper(endpointURL_reactome_v65)\n",
    "sparql.setQuery(prefixes+query)\n",
    "sparql.setReturnFormat(JSON)\n",
    "results = sparql.query().convert()\n",
    "displaySparqlResults(results)\n",
    "\n",
    "sparql.setReturnFormat(CSV)\n",
    "results = sparql.query().convert()\n",
    "with open(\"../Results/4_direct_pathway_steps.csv\", \"wb\") as f:\n",
    "    f.write(results)"
   ]
  },
  {
   "cell_type": "markdown",
   "metadata": {},
   "source": [
    "## 5 - Description of direct pathway steps "
   ]
  },
  {
   "cell_type": "code",
   "execution_count": null,
   "metadata": {},
   "outputs": [],
   "source": [
    "defaultPrefixValue = \"http://www.reactome.org/biopax/{}/48887#\".format(reactomeVersion)\n",
    "pathwayIdent = \"http://www.reactome.org/biopax/65/48887#Pathway2275\"\n",
    "if pathwayIdent.startswith(defaultPrefixValue):\n",
    "        pathwayIdent = pathwayIdent.replace(defaultPrefixValue, \"reactome\" + ':')\n",
    "if not(pathwayIdent.startswith(\"reactome\" + ':')):\n",
    "        pathwayIdent = \"<\" + pathwayIdent + \">\"\n",
    "query = \"\"\"\n",
    "SELECT DISTINCT ?direct_ps ?relations_of_interest ?linked_to_ps\n",
    "WHERE {\n",
    "  VALUES ?pathwayStart { reactome:Pathway2275 } # \"Signaling by EGFR\" in Reactome BioPAX v65 (Pathway165 in Reactome BioPAX v38)\n",
    "  \n",
    "  # DIRECT PATHWAY STEPS\n",
    "  ?pathwayStart bp3:pathwayOrder ?direct_ps .\n",
    "  ?pathwayStart ?pathway_order ?direct_ps .\n",
    "  ?direct_ps rdf:type bp3:PathwayStep .\n",
    "  \n",
    "  # RELATIONS OF PATHWAY STEPS\n",
    "  VALUES ?relations_of_interest { bp3:stepProcess bp3:nextStep }\n",
    "  ?direct_ps ?relations_of_interest ?linked_to_ps .\n",
    "}\n",
    "\"\"\"\n",
    "sparql = SPARQLWrapper(endpointURL_reactome_v65)\n",
    "sparql.setQuery(prefixes+query)\n",
    "sparql.setReturnFormat(JSON)\n",
    "results = sparql.query().convert()\n",
    "displaySparqlResults(results)\n",
    "\n",
    "sparql.setReturnFormat(CSV)\n",
    "results = sparql.query().convert()\n",
    "with open(\"../Results/5_direct_pathway_steps_next_steps_and_step_process.csv\", \"wb\") as f:\n",
    "    f.write(results)"
   ]
  },
  {
   "cell_type": "markdown",
   "metadata": {},
   "source": [
    "## 6 - Description of step processes linked to pathway steps"
   ]
  },
  {
   "cell_type": "code",
   "execution_count": null,
   "metadata": {},
   "outputs": [],
   "source": [
    "defaultPrefixValue = \"http://www.reactome.org/biopax/{}/48887#\".format(reactomeVersion)\n",
    "pathwayIdent = \"http://www.reactome.org/biopax/65/48887#Pathway2275\"\n",
    "if pathwayIdent.startswith(defaultPrefixValue):\n",
    "        pathwayIdent = pathwayIdent.replace(defaultPrefixValue, \"reactome\" + ':')\n",
    "if not(pathwayIdent.startswith(\"reactome\" + ':')):\n",
    "        pathwayIdent = \"<\" + pathwayIdent + \">\"\n",
    "query = \"\"\"\n",
    "SELECT DISTINCT ?linked_to_ps ?relations_of_interest_starting_from_step_process ?step_process_relations\n",
    "WHERE {\n",
    "  VALUES ?pathwayStart { reactome:Pathway2275 } # \"Signaling by EGFR\" in Reactome BioPAX v65 (Pathway165 in Reactome BioPAX v38)\n",
    "  \n",
    "  # DIRECT PATHWAY STEPS\n",
    "  ?pathwayStart bp3:pathwayOrder ?direct_ps .\n",
    "  ?pathwayStart ?pathway_order ?direct_ps .\n",
    "  ?direct_ps rdf:type bp3:PathwayStep .\n",
    "  \n",
    "  # RELATIONS OF PATHWAY STEPS\n",
    "  VALUES ?relations_of_interest { bp3:stepProcess bp3:nextStep }\n",
    "  ?direct_ps ?relations_of_interest ?linked_to_ps .\n",
    "  VALUES ?relations_of_interest_starting_from_step_process { bp3:left bp3:pathwayOrder bp3:pathwayComponent bp3:right bp3:controller bp3:controlled bp3:displayName bp3:conversionDirection bp3:participantStoichiometry }\n",
    "  ?linked_to_ps ?relations_of_interest_starting_from_step_process ?step_process_relations .\n",
    "}\n",
    "\"\"\"\n",
    "sparql = SPARQLWrapper(endpointURL_reactome_v65)\n",
    "sparql.setQuery(prefixes+query)\n",
    "sparql.setReturnFormat(JSON)\n",
    "results = sparql.query().convert()\n",
    "displaySparqlResults(results)\n",
    "\n",
    "sparql.setReturnFormat(CSV)\n",
    "results = sparql.query().convert()\n",
    "with open(\"../Results/6_pathway_steps_steps_processes.csv\", \"wb\") as f:\n",
    "    f.write(results)"
   ]
  },
  {
   "cell_type": "markdown",
   "metadata": {},
   "source": [
    "## 7 - Description of biochemical reactions linked to direct subpathways"
   ]
  },
  {
   "cell_type": "code",
   "execution_count": null,
   "metadata": {},
   "outputs": [],
   "source": [
    "defaultPrefixValue = \"http://www.reactome.org/biopax/{}/48887#\".format(reactomeVersion)\n",
    "pathwayIdent = \"http://www.reactome.org/biopax/65/48887#Pathway2275\"\n",
    "if pathwayIdent.startswith(defaultPrefixValue):\n",
    "        pathwayIdent = pathwayIdent.replace(defaultPrefixValue, \"reactome\" + ':')\n",
    "if not(pathwayIdent.startswith(\"reactome\" + ':')):\n",
    "        pathwayIdent = \"<\" + pathwayIdent + \">\"\n",
    "query = \"\"\"\n",
    "SELECT DISTINCT ?linked_to_direct_compo ?relations_br ?description_br\n",
    "WHERE {\n",
    "  VALUES ?pathwayStart { reactome:Pathway2275 } # \"Signaling by EGFR\" in Reactome BioPAX v65 (Pathway165 in Reactome BioPAX v38)\n",
    "  VALUES ?pathway_compo_types { bp3:Pathway bp3:BiochemicalReaction }\n",
    "  \n",
    "  # DIRECT COMPONENTS\n",
    "  ?pathwayStart bp3:pathwayComponent ?direct_component .\n",
    "  ?pathwayStart ?pathway_component ?direct_component .\n",
    "  ?direct_component rdf:type ?pathway_compo_types .\n",
    "  \n",
    "  # RELATIONS OF PATHWAY COMPONENTS\n",
    "  VALUES ?relations_of_interest { bp3:left bp3:right bp3:displayName bp3:conversionDirection bp3:pathwayOrder bp3:pathwayComponent bp3:participantStoichiometry }\n",
    "  ?direct_component ?relations_of_interest ?linked_to_direct_compo .\n",
    "  \n",
    "  ?linked_to_direct_compo rdf:type bp3:BiochemicalReaction .\n",
    "  VALUES ?relations_br {bp3:left bp3:right bp3:displayName bp3:conversionDirection bp3:bp3:participantStoichiometry }\n",
    "  ?linked_to_direct_compo ?relations_br ?description_br\n",
    "  \n",
    "}\n",
    "\"\"\"\n",
    "sparql = SPARQLWrapper(endpointURL_reactome_v65)\n",
    "sparql.setQuery(prefixes+query)\n",
    "sparql.setReturnFormat(JSON)\n",
    "results = sparql.query().convert()\n",
    "displaySparqlResults(results)\n",
    "\n",
    "sparql.setReturnFormat(CSV)\n",
    "results = sparql.query().convert()\n",
    "with open(\"../Results/7_linked_to_br_of_direct_pathway.csv\", \"wb\") as f:\n",
    "    f.write(results)"
   ]
  },
  {
   "cell_type": "markdown",
   "metadata": {},
   "source": [
    "## 8 - Description of step processes of pathway steps linked to subpathways"
   ]
  },
  {
   "cell_type": "code",
   "execution_count": null,
   "metadata": {},
   "outputs": [],
   "source": [
    "defaultPrefixValue = \"http://www.reactome.org/biopax/{}/48887#\".format(reactomeVersion)\n",
    "pathwayIdent = \"http://www.reactome.org/biopax/65/48887#Pathway2275\"\n",
    "if pathwayIdent.startswith(defaultPrefixValue):\n",
    "        pathwayIdent = pathwayIdent.replace(defaultPrefixValue, \"reactome\" + ':')\n",
    "if not(pathwayIdent.startswith(\"reactome\" + ':')):\n",
    "        pathwayIdent = \"<\" + pathwayIdent + \">\"\n",
    "query = \"\"\"\n",
    "SELECT DISTINCT ?pathwayStep ?relation ?stepProcess\n",
    "WHERE {\n",
    "  VALUES ?pathwayRoot { \"\"\" + pathwayIdent + \"\"\" } # Signaling by EGFR\n",
    "\n",
    "  ?pathwayRoot bp3:pathwayComponent ?pathwayCompo .\n",
    "  ?pathwayCompo bp3:pathwayOrder ?pathwayStep .\n",
    "  ?pathwayStep bp3:stepProcess ?stepProcess .\n",
    "  ?pathwayStep ?relation ?stepProcess .\n",
    "\n",
    "}\n",
    "\"\"\"\n",
    "\n",
    "sparql = SPARQLWrapper(endpointURL_reactome_v65)\n",
    "sparql.setQuery(prefixes+query)\n",
    "sparql.setReturnFormat(JSON)\n",
    "results = sparql.query().convert()\n",
    "displaySparqlResults(results)\n",
    "\n",
    "sparql.setReturnFormat(CSV)\n",
    "results = sparql.query().convert()\n",
    "with open(\"../Results/8_processes_of_pathway_steps_linked_to_subpathways.csv\", \"wb\") as f:\n",
    "    f.write(results)"
   ]
  },
  {
   "cell_type": "markdown",
   "metadata": {},
   "source": [
    "## Describe the processes linked to pathway steps linked to direct subpathways"
   ]
  },
  {
   "cell_type": "code",
   "execution_count": null,
   "metadata": {},
   "outputs": [],
   "source": [
    "defaultPrefixValue = \"http://www.reactome.org/biopax/{}/48887#\".format(reactomeVersion)\n",
    "pathwayIdent = \"http://www.reactome.org/biopax/65/48887#Pathway2275\"\n",
    "if pathwayIdent.startswith(defaultPrefixValue):\n",
    "        pathwayIdent = pathwayIdent.replace(defaultPrefixValue, \"reactome\" + ':')\n",
    "if not(pathwayIdent.startswith(\"reactome\" + ':')):\n",
    "        pathwayIdent = \"<\" + pathwayIdent + \">\"\n",
    "query = \"\"\"\n",
    "SELECT DISTINCT ?stepProcess ?properties_of_interest ?description_step_process\n",
    "WHERE {\n",
    "  VALUES ?pathwayRoot { \"\"\" + pathwayIdent + \"\"\" } # Signaling by EGFR\n",
    "  VALUES ?properties_of_interest { bp3:right bp3:left bp3:participantStoichiometry bp3:controlled bp3:controller bp3:displayName}\n",
    "\n",
    "  ?pathwayRoot bp3:pathwayComponent ?pathwayCompo .\n",
    "  ?pathwayCompo bp3:pathwayOrder ?pathwayStep .\n",
    "  ?pathwayStep bp3:stepProcess ?stepProcess .\n",
    "  ?stepProcess ?properties_of_interest ?description_step_process .\n",
    "\n",
    "}\n",
    "\"\"\"\n",
    "\n",
    "sparql = SPARQLWrapper(endpointURL_reactome_v65)\n",
    "sparql.setQuery(prefixes+query)\n",
    "sparql.setReturnFormat(JSON)\n",
    "results = sparql.query().convert()\n",
    "displaySparqlResults(results)\n",
    "\n",
    "\n",
    "sparql.setReturnFormat(CSV)\n",
    "results = sparql.query().convert()\n",
    "with open(\"../Results/9_description_processes_pf_ps_linked_to_subpathways.csv\", \"wb\") as f:\n",
    "    f.write(results)"
   ]
  },
  {
   "cell_type": "markdown",
   "metadata": {},
   "source": [
    "## 10 - Get next steps between pathway steps linked to direct subpathways"
   ]
  },
  {
   "cell_type": "code",
   "execution_count": null,
   "metadata": {},
   "outputs": [],
   "source": [
    "defaultPrefixValue = \"http://www.reactome.org/biopax/{}/48887#\".format(reactomeVersion)\n",
    "pathwayIdent = \"http://www.reactome.org/biopax/65/48887#Pathway2275\"\n",
    "if pathwayIdent.startswith(defaultPrefixValue):\n",
    "        pathwayIdent = pathwayIdent.replace(defaultPrefixValue, \"reactome\" + ':')\n",
    "if not(pathwayIdent.startswith(\"reactome\" + ':')):\n",
    "        pathwayIdent = \"<\" + pathwayIdent + \">\"\n",
    "query = \"\"\"\n",
    "SELECT DISTINCT ?pathwayStep ?property ?nextStep\n",
    "WHERE {\n",
    "  VALUES ?pathwayRoot { \"\"\" + pathwayIdent + \"\"\" } # Signaling by EGFR\n",
    "  VALUES ?properties_of_interest { bp3:right bp3:left bp3:participantStoichiometry bp3:controlled bp3:controller bp3:displayName}\n",
    "\n",
    "  ?pathwayRoot bp3:pathwayComponent ?pathwayCompo .\n",
    "  ?pathwayCompo bp3:pathwayOrder ?pathwayStep .\n",
    "  ?pathwayStep bp3:nextStep ?nextStep .\n",
    "  ?pathwayStep ?property ?nextStep .\n",
    "\n",
    "}\n",
    "\"\"\"\n",
    "\n",
    "sparql = SPARQLWrapper(endpointURL_reactome_v65)\n",
    "sparql.setQuery(prefixes+query)\n",
    "sparql.setReturnFormat(JSON)\n",
    "results = sparql.query().convert()\n",
    "displaySparqlResults(results)\n",
    "\n",
    "sparql.setReturnFormat(CSV)\n",
    "results = sparql.query().convert()\n",
    "with open(\"../Results/10_next_steps_between_PS_linked_to_subpathways.csv\", \"wb\") as f:\n",
    "    f.write(results)"
   ]
  },
  {
   "cell_type": "markdown",
   "metadata": {},
   "source": [
    "# Merge query results in a single file"
   ]
  },
  {
   "cell_type": "code",
   "execution_count": null,
   "metadata": {},
   "outputs": [],
   "source": [
    "q1 = pd.read_csv(\"../Results/1_direct_pathway_compo.csv\", header=None, sep=\",\")\n",
    "q1 = q1.drop(q1.index[0]).reset_index(drop=True)\n",
    "q2 = pd.read_csv(\"../Results/2_direct_pathway_compo_br.csv\", header=None, sep=\",\")\n",
    "q2 = q2.drop(q2.index[0]).reset_index(drop=True)\n",
    "q3 = pd.read_csv(\"../Results/3_direct_pathway_compo_path.csv\", header=None, sep=\",\")\n",
    "q3 = q3.drop(q3.index[0]).reset_index(drop=True)\n",
    "q4 = pd.read_csv(\"../Results/4_direct_pathway_steps.csv\", header=None, sep=\",\")\n",
    "q4 = q4.drop(q4.index[0]).reset_index(drop=True)\n",
    "q5 = pd.read_csv(\"../Results/5_direct_pathway_steps_next_steps_and_step_process.csv\", header=None, sep=\",\")\n",
    "q5 = q5.drop(q5.index[0]).reset_index(drop=True)\n",
    "q6 = pd.read_csv(\"../Results/6_pathway_steps_steps_processes.csv\", header=None, sep=\",\")\n",
    "q6 = q6.drop(q6.index[0]).reset_index(drop=True)\n",
    "q7 = pd.read_csv(\"../Results/7_linked_to_br_of_direct_pathway.csv\", header=None, sep=\",\")\n",
    "q7 = q7.drop(q7.index[0]).reset_index(drop=True)\n",
    "q8 = pd.read_csv(\"../Results/8_processes_of_pathway_steps_linked_to_subpathways.csv\", header=None, sep=\",\")\n",
    "q8 = q8.drop(q8.index[0]).reset_index(drop=True)\n",
    "q9 = pd.read_csv(\"../Results/9_description_processes_pf_ps_linked_to_subpathways.csv\", header=None, sep=\",\")\n",
    "q9 = q9.drop(q9.index[0]).reset_index(drop=True)\n",
    "q10 = pd.read_csv(\"../Results/10_next_steps_between_PS_linked_to_subpathways.csv\", header=None, sep=\",\")\n",
    "q10 = q10.drop(q10.index[0]).reset_index(drop=True)\n",
    "\n",
    "\n",
    "concat_df = pd.concat([q1, q2, q3, q4, q5, q6, q7, q8, q9, q10], ignore_index=True)\n",
    "\n",
    "concat_df = concat_df.replace({\"http://www.reactome.org/biopax/65/48887#\": \"reactome:\", \"http://www.biopax.org/release/biopax-level3.owl#\": \"bp3:\"}, regex=True)\n",
    "print(concat_df)\n",
    "concat_df.to_csv(\"../Results/Final_pathway_egf_completed.tsv\", sep=\"\\t\", header=None, index=False)"
   ]
  }
 ],
 "metadata": {
  "kernelspec": {
   "display_name": "base",
   "language": "python",
   "name": "python3"
  },
  "language_info": {
   "codemirror_mode": {
    "name": "ipython",
    "version": 3
   },
   "file_extension": ".py",
   "mimetype": "text/x-python",
   "name": "python",
   "nbconvert_exporter": "python",
   "pygments_lexer": "ipython3",
   "version": "3.12.4"
  }
 },
 "nbformat": 4,
 "nbformat_minor": 2
}
