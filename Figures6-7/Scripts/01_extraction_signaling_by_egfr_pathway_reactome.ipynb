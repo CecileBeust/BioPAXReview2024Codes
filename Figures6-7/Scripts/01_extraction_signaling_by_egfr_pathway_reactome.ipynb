{
 "cells": [
  {
   "cell_type": "markdown",
   "metadata": {},
   "source": [
    "# Extraction of the \"Signaling by EGFR\" pathway\n"
   ]
  },
  {
   "cell_type": "markdown",
   "metadata": {},
   "source": [
    "#### Import libraries"
   ]
  },
  {
   "cell_type": "code",
   "execution_count": 1,
   "metadata": {},
   "outputs": [],
   "source": [
    "from SPARQLWrapper import SPARQLWrapper, JSON, CSV, N3, XML, TURTLE\n",
    "import IPython\n",
    "import subprocess\n",
    "import time\n",
    "import os\n",
    "import glob\n",
    "from requests.utils import requote_uri\n",
    "from urllib.parse import quote\n",
    "import re\n",
    "import rdflib\n",
    "import pandas as pd"
   ]
  },
  {
   "cell_type": "markdown",
   "metadata": {},
   "source": [
    "#### Define URL of SPARQL endpoint"
   ]
  },
  {
   "cell_type": "code",
   "execution_count": 2,
   "metadata": {},
   "outputs": [],
   "source": [
    "endpointURL_reactome_standalone_biopax = \"http://localhost:3030/reactome_standalone_biopax/query\"\n",
    "rdfFormat = \"turtle\"\n",
    "current_directory = os.getcwd()\n",
    "BioPAX_Ontology_file_path = os.path.join(current_directory, '../..', 'BioPAX_Data/BioPAX_Ontology', 'biopax-level3.owl')"
   ]
  },
  {
   "cell_type": "markdown",
   "metadata": {},
   "source": [
    "#### Define RDF prefixes"
   ]
  },
  {
   "cell_type": "code",
   "execution_count": 3,
   "metadata": {},
   "outputs": [],
   "source": [
    "reactomeVersion = 77 # actually it is version 90 (version in October, 2024), but 77 is mentioned in the URI \n",
    "prefixes = \"\"\"\n",
    "PREFIX rdf: <http://www.w3.org/1999/02/22-rdf-syntax-ns#>\n",
    "PREFIX rdfs:<http://www.w3.org/2000/01/rdf-schema#>\n",
    "PREFIX owl: <http://www.w3.org/2002/07/owl#>\n",
    "PREFIX xsd: <http://www.w3.org/2001/XMLSchema#>\n",
    "PREFIX dc: <http://purl.org/dc/elements/1.1/>\n",
    "PREFIX dcterms: <http://purl.org/dc/terms/>\n",
    "\n",
    "PREFIX chebi: <http://purl.obolibrary.org/obo/chebi/>\n",
    "PREFIX chebidb: <http://purl.obolibrary.org/obo/CHEBI_>\n",
    "PREFIX chebirel: <http://purl.obolibrary.org/obo/CHEBI#>\n",
    "PREFIX oboInOwl: <http://www.geneontology.org/formats/oboInOwl#>\n",
    "\n",
    "PREFIX bp3: <http://www.biopax.org/release/biopax-level3.owl#>\n",
    "\n",
    "# Homo_sapiens-20170221.owl\n",
    "#PREFIX reactome: <http://www.reactome.org/biopax/59/48887#> \n",
    "#\n",
    "# Homo_sapiens-20210608.owl\n",
    "#PREFIX reactome: <http://www.reactome.org/biopax/77/48887#>\n",
    "#\n",
    "# Homo_sapiens-20220614.owl\n",
    "#PREFIX reactome: <http://www.reactome.org/biopax/81/48887#>\n",
    "#\n",
    "# Homo_sapiens-20221130.owl\n",
    "#PREFIX reactome: <http://www.reactome.org/biopax/83/48887#>\n",
    "\n",
    "PREFIX reactome: <http://www.reactome.org/biopax/{}/48887#>\n",
    "\"\"\".format(reactomeVersion)\n",
    "\n",
    "biopaxURI = \"http://www.biopax.org/release/biopax-level3.owl#\""
   ]
  },
  {
   "cell_type": "markdown",
   "metadata": {},
   "source": [
    "# Useful functions"
   ]
  },
  {
   "cell_type": "code",
   "execution_count": 4,
   "metadata": {},
   "outputs": [],
   "source": [
    "def displaySparqlResults(results):\n",
    "    '''\n",
    "    Displays as HTML the result of a SPARQLWrapper query in a Jupyter notebook.\n",
    "    \n",
    "        Parameters:\n",
    "            results (dictionnary): the result of a call to SPARQLWrapper.query().convert()\n",
    "    '''\n",
    "    variableNames = results['head']['vars']\n",
    "    tableCode = '<table><tr><th>{}</th></tr><tr>{}</tr></table>'.format('</th><th>'.join(variableNames), '</tr><tr>'.join('<td>{}</td>'.format('</td><td>'.join([row[vName]['value'] if vName in row.keys() else \"&nbsp;\" for vName in variableNames]))for row in results[\"results\"][\"bindings\"]))\n",
    "    IPython.display.display(IPython.display.HTML(tableCode))"
   ]
  },
  {
   "cell_type": "code",
   "execution_count": 5,
   "metadata": {},
   "outputs": [],
   "source": [
    "def getPathwayURIbyName(pathwayName):\n",
    "    query=\"\"\"\n",
    "SELECT DISTINCT ?pathwayURI ?pathwayReactomeID\n",
    "WHERE {\n",
    "  ?pathwayURI bp3:name|bp3:displayName \\\"\"\"\" + pathwayName + \"\"\"\\\" .\n",
    "  ?pathwayURI bp3:xref [ rdf:type bp3:UnificationXref ;\n",
    "                      bp3:db \"Reactome\" ;\n",
    "                      bp3:id ?pathwayReactomeID ] .\n",
    "}\n",
    "\"\"\"\n",
    "    sparql = SPARQLWrapper(endpointURL_reactome_standalone_biopax)\n",
    "    sparql.setQuery(prefixes+query)\n",
    "    sparql.setReturnFormat(JSON)\n",
    "    results = sparql.query().convert()\n",
    "    return results"
   ]
  },
  {
   "cell_type": "code",
   "execution_count": null,
   "metadata": {},
   "outputs": [],
   "source": [
    "def extract_prefix_mappings(prefixes_string):\n",
    "    \"\"\"\n",
    "    Extract prefix mappings from the SPARQL prefixes string.\n",
    "    \n",
    "    Parameters:\n",
    "    prefixes_string (str): String containing PREFIX declarations\n",
    "    \n",
    "    Returns:\n",
    "    dict: Mapping of full URIs to their prefixes\n",
    "    \"\"\"\n",
    "    # Extract prefix declarations using regex\n",
    "    prefix_pattern = re.compile(r'PREFIX\\s+(\\w+):\\s*<([^>]+)>', re.IGNORECASE)\n",
    "    return {uri: prefix for prefix, uri in prefix_pattern.findall(prefixes_string)}\n",
    "\n",
    "def convert_to_prefixed_uri(uri_string, prefix_mappings):\n",
    "    \"\"\"\n",
    "    Convert a full URI to prefixed format.\n",
    "    \n",
    "    Parameters:\n",
    "    uri_string (str): Full URI string\n",
    "    prefix_mappings (dict): Mapping of URIs to prefixes\n",
    "    \n",
    "    Returns:\n",
    "    str: URI in prefixed format (e.g., 'reactome:Protein')\n",
    "    \"\"\"\n",
    "    for uri_base, prefix in prefix_mappings.items():\n",
    "        if uri_string.startswith(uri_base):\n",
    "            local_part = uri_string[len(uri_base):]\n",
    "            return f\"{prefix}:{local_part}\"\n",
    "    return uri_string  # Return original if no prefix matches\n",
    "\n",
    "def save_for_cytoscape(sparql, prefixes_string, output_file, format='csv', separator=','):\n",
    "    \"\"\"\n",
    "    Save SPARQL CONSTRUCT results in a format compatible with Cytoscape,\n",
    "    using prefix notation for URIs.\n",
    "    \n",
    "    Parameters:\n",
    "    sparql (SPARQLWrapper): Configured SPARQLWrapper instance with query\n",
    "    prefixes_string (str): String containing PREFIX declarations\n",
    "    output_file (str): Path to save the output file\n",
    "    format (str): Output format ('csv' or 'tsv')\n",
    "    separator (str): Column separator (',' for CSV, '\\t' for TSV)\n",
    "    \"\"\"\n",
    "    # Extract prefix mappings\n",
    "    prefix_mappings = extract_prefix_mappings(prefixes_string)\n",
    "    \n",
    "    # Get the results as an RDF graph\n",
    "    sparql.setReturnFormat(TURTLE)\n",
    "    results = sparql.queryAndConvert()\n",
    "    \n",
    "    # Create an RDFlib graph\n",
    "    g = rdflib.Graph()\n",
    "    if isinstance(results, bytes):\n",
    "        g.parse(data=results.decode('utf-8'), format='turtle')\n",
    "    else:\n",
    "        g.parse(data=results, format='turtle')\n",
    "    \n",
    "    # Convert triples to a list of dictionaries with prefixed URIs\n",
    "    triples_data = []\n",
    "    for s, p, o in g:\n",
    "        # Convert each URI to prefixed format\n",
    "        subject = convert_to_prefixed_uri(str(s), prefix_mappings)\n",
    "        predicate = convert_to_prefixed_uri(str(p), prefix_mappings)\n",
    "        object_ = convert_to_prefixed_uri(str(o), prefix_mappings)\n",
    "        \n",
    "        triples_data.append({\n",
    "            'Source': subject,\n",
    "            'Interaction': predicate,\n",
    "            'Target': object_\n",
    "        })\n",
    "    \n",
    "    # Convert to DataFrame for easy CSV/TSV export\n",
    "    df = pd.DataFrame(triples_data)\n",
    "    \n",
    "    # Save to file\n",
    "    if format == 'csv':\n",
    "        df.to_csv(output_file, index=False, sep=',')\n",
    "    else:  # tsv\n",
    "        df.to_csv(output_file, index=False, sep='\\t')\n",
    "    \n",
    "    print(f\"Saved {len(triples_data)} interactions to {output_file}\")\n",
    "    return df\n",
    "\n",
    "def preview_network_data(df, n=5):\n",
    "    \"\"\"\n",
    "    Preview the network data before importing into Cytoscape.\n",
    "    \n",
    "    Parameters:\n",
    "    df (pandas.DataFrame): DataFrame containing the network data\n",
    "    n (int): Number of rows to preview\n",
    "    \"\"\"\n",
    "    print(f\"\\nPreview of network data ({len(df)} total interactions):\")\n",
    "    print(f\"\\nFirst {n} interactions:\")\n",
    "    print(df.head(n))\n",
    "    \n",
    "    # Print some basic network statistics\n",
    "    unique_nodes = set(df['Source'].unique()) | set(df['Target'].unique())\n",
    "    print(f\"\\nNetwork statistics:\")\n",
    "    print(f\"Number of unique nodes: {len(unique_nodes)}\")\n",
    "    print(f\"Number of interactions: {len(df)}\")\n",
    "    print(f\"Unique interaction types:\")\n",
    "    for interaction in sorted(df['Interaction'].unique()):\n",
    "        print(f\"  - {interaction}\")"
   ]
  },
  {
   "cell_type": "markdown",
   "metadata": {},
   "source": [
    "# Launch SPARQL endpoint loading the standalone BioPAX export of Reactome"
   ]
  },
  {
   "cell_type": "code",
   "execution_count": null,
   "metadata": {},
   "outputs": [],
   "source": [
    "ReactomeBioPAX_file_path = os.path.join(current_directory, '../..', 'BioPAX_Data/ReactomeBioPAX/', 'Homo_sapiens.owl')\n",
    "command = [\n",
    "    '/home/cbeust/Softwares/JenaFuseki/apache-jena-fuseki-4.9.0/fuseki-server',\n",
    "    '--file', ReactomeBioPAX_file_path,\n",
    "    '--file', BioPAX_Ontology_file_path,\n",
    "    '/reactome_standalone_biopax']\n",
    "\n",
    "\n",
    "process = subprocess.Popen(command)\n",
    "time.sleep(60)"
   ]
  },
  {
   "cell_type": "markdown",
   "metadata": {},
   "source": [
    "# Extraction of \"Signaling by EGFR\" (R-HSA-177929) pathway from Reactome BioPAX export version 90"
   ]
  },
  {
   "cell_type": "markdown",
   "metadata": {},
   "source": [
    "## 1 - Extract direct pathway components"
   ]
  },
  {
   "cell_type": "code",
   "execution_count": null,
   "metadata": {},
   "outputs": [],
   "source": [
    "query_extract_pathway_compo = \"\"\" \n",
    "CONSTRUCT {\n",
    "  ?pathwayStart bp3:pathwayComponent ?direct_component\n",
    "}\n",
    "WHERE {\n",
    "  VALUES ?pathwayID { \"R-HSA-177929\" }\n",
    "  ?pathwayIDxref bp3:id ?pathwayID .\n",
    "  ?pathwayIDxref rdf:type bp3:UnificationXref .\n",
    "  ?pathwayStart bp3:xref ?pathwayIDxref .\n",
    "  ?pathwayStart rdf:type bp3:Pathway .\n",
    "  \n",
    "  ?pathwayStart bp3:pathwayComponent ?direct_component .\n",
    "}\n",
    "\"\"\"\n",
    "\n",
    "sparql = SPARQLWrapper(endpointURL_reactome_standalone_biopax)\n",
    "sparql.setQuery(prefixes+query_extract_pathway_compo)\n",
    "df = save_for_cytoscape(sparql, prefixes, \"../Results/1_direct_pathway_compo.csv\", format='csv')\n",
    "preview_network_data(df)"
   ]
  },
  {
   "cell_type": "markdown",
   "metadata": {},
   "source": [
    "## 2 - Description of direct pathway components of type BiochemicalReaction"
   ]
  },
  {
   "cell_type": "code",
   "execution_count": null,
   "metadata": {},
   "outputs": [],
   "source": [
    "query_direct_br = \"\"\" \n",
    "CONSTRUCT {\n",
    "  ?direct_component ?relations_pathway_compo_br ?linked_pathway_compo_br\n",
    "}\n",
    "WHERE {\n",
    "  VALUES ?pathwayID { \"R-HSA-177929\" }\n",
    "  ?pathwayIDxref bp3:id ?pathwayID .\n",
    "  ?pathwayIDxref rdf:type bp3:UnificationXref .\n",
    "  ?pathwayStart bp3:xref ?pathwayIDxref .\n",
    "  ?pathwayStart rdf:type bp3:Pathway .\n",
    "  \n",
    "  # Pathway components\n",
    "  ?pathwayStart bp3:pathwayComponent ?direct_component .\n",
    "  ?direct_component rdf:type bp3:BiochemicalReaction .\n",
    "  VALUES ?relations_pathway_compo_br { bp3:displayName bp3:left bp3:right bp3:conversionDirection bp3:participantStoichiometry}\n",
    "  ?direct_component ?relations_pathway_compo_br ?linked_pathway_compo_br .\n",
    "}\n",
    "\"\"\" \n",
    "\n",
    "sparql = SPARQLWrapper(endpointURL_reactome_standalone_biopax)\n",
    "sparql.setQuery(prefixes+query_direct_br)\n",
    "df = save_for_cytoscape(sparql, prefixes, \"../Results/2_direct_pathway_compo_br.csv\", format='csv')\n",
    "preview_network_data(df)"
   ]
  },
  {
   "cell_type": "markdown",
   "metadata": {},
   "source": [
    "## 3 - Description of direct pathway components of type Pathway"
   ]
  },
  {
   "cell_type": "code",
   "execution_count": null,
   "metadata": {},
   "outputs": [],
   "source": [
    "query_direct_pathway = \"\"\" \n",
    "CONSTRUCT {\n",
    "  ?direct_component ?relations_pathway_compo_path ?linked_pathway_compo_path\n",
    "}\n",
    "WHERE {\n",
    "  VALUES ?pathwayID { \"R-HSA-177929\" }\n",
    "  ?pathwayIDxref bp3:id ?pathwayID .\n",
    "  ?pathwayIDxref rdf:type bp3:UnificationXref .\n",
    "  ?pathwayStart bp3:xref ?pathwayIDxref .\n",
    "  ?pathwayStart rdf:type bp3:Pathway .\n",
    "  \n",
    "  # Pathway components\n",
    "  ?pathwayStart bp3:pathwayComponent ?direct_component .\n",
    "  ?pathwayStart ?pathway_component ?direct_component .\n",
    "  ?direct_component rdf:type bp3:Pathway .\n",
    "  VALUES ?relations_pathway_compo_path { bp3:displayName bp3:pathwayComponent bp3:pathwayOrder }\n",
    "  ?direct_component ?relations_pathway_compo_path ?linked_pathway_compo_path .\n",
    "}\n",
    "\"\"\"\n",
    "\n",
    "sparql = SPARQLWrapper(endpointURL_reactome_standalone_biopax)\n",
    "sparql.setQuery(prefixes+query_direct_pathway)\n",
    "df = save_for_cytoscape(sparql, prefixes, \"../Results/3_direct_pathway_compo_path.csv\", format='csv')\n",
    "preview_network_data(df)"
   ]
  },
  {
   "cell_type": "markdown",
   "metadata": {},
   "source": [
    "## 4 - Extraction of direct pathway steps"
   ]
  },
  {
   "cell_type": "code",
   "execution_count": null,
   "metadata": {},
   "outputs": [],
   "source": [
    "query_direct_ps = \"\"\" \n",
    "CONSTRUCT {\n",
    "  ?pathwayStart bp3:pathwayOrder ?direct_ps\n",
    "}\n",
    "WHERE {\n",
    "  VALUES ?pathwayID { \"R-HSA-177929\" }\n",
    "  ?pathwayIDxref bp3:id ?pathwayID .\n",
    "  ?pathwayIDxref rdf:type bp3:UnificationXref .\n",
    "  ?pathwayStart bp3:xref ?pathwayIDxref .\n",
    "  ?pathwayStart rdf:type bp3:Pathway .\n",
    "  \n",
    "  # DIRECT PATHWAY STEPS\n",
    "  ?pathwayStart bp3:pathwayOrder ?direct_ps .\n",
    "  ?direct_ps rdf:type bp3:PathwayStep .\n",
    "}\n",
    "\"\"\"\n",
    "\n",
    "sparql = SPARQLWrapper(endpointURL_reactome_standalone_biopax)\n",
    "sparql.setQuery(prefixes+query_direct_ps)\n",
    "df = save_for_cytoscape(sparql, prefixes, \"../Results/4_direct_pathway_steps.csv\", format='csv')\n",
    "preview_network_data(df)"
   ]
  },
  {
   "cell_type": "markdown",
   "metadata": {},
   "source": [
    "## 5 - Description of direct pathway steps "
   ]
  },
  {
   "cell_type": "code",
   "execution_count": null,
   "metadata": {},
   "outputs": [],
   "source": [
    "query_description_direct_ps = \"\"\" \n",
    "CONSTRUCT {\n",
    "  ?direct_ps ?relations_of_interest ?linked_to_ps\n",
    "}\n",
    "WHERE {\n",
    "  VALUES ?pathwayID { \"R-HSA-177929\" }\n",
    "  ?pathwayIDxref bp3:id ?pathwayID .\n",
    "  ?pathwayIDxref rdf:type bp3:UnificationXref .\n",
    "  ?pathwayStart bp3:xref ?pathwayIDxref .\n",
    "  ?pathwayStart rdf:type bp3:Pathway .\n",
    "  \n",
    "  # DIRECT PATHWAY STEPS\n",
    "  ?pathwayStart bp3:pathwayOrder ?direct_ps .\n",
    "  ?direct_ps rdf:type bp3:PathwayStep .\n",
    "  \n",
    "  # RELATIONS OF PATHWAY STEPS\n",
    "  VALUES ?relations_of_interest { bp3:stepProcess bp3:nextStep }\n",
    "  ?direct_ps ?relations_of_interest ?linked_to_ps .\n",
    "}\n",
    "\"\"\"\n",
    "\n",
    "sparql = SPARQLWrapper(endpointURL_reactome_standalone_biopax)\n",
    "sparql.setQuery(prefixes+query_description_direct_ps)\n",
    "df = save_for_cytoscape(sparql, prefixes, \"../Results/5_direct_pathway_steps_next_steps_and_step_process.csv\", format='csv')\n",
    "preview_network_data(df)"
   ]
  },
  {
   "cell_type": "markdown",
   "metadata": {},
   "source": [
    "## 6 - Description of step processes linked to pathway steps"
   ]
  },
  {
   "cell_type": "code",
   "execution_count": null,
   "metadata": {},
   "outputs": [],
   "source": [
    "query_step_processes = \"\"\" \n",
    "CONSTRUCT {\n",
    "  ?linked_to_ps ?relations_of_interest_starting_from_step_process ?step_process_relations\n",
    "}\n",
    "WHERE {\n",
    "  VALUES ?pathwayID { \"R-HSA-177929\" }\n",
    "  ?pathwayIDxref bp3:id ?pathwayID .\n",
    "  ?pathwayIDxref rdf:type bp3:UnificationXref .\n",
    "  ?pathwayStart bp3:xref ?pathwayIDxref .\n",
    "  ?pathwayStart rdf:type bp3:Pathway .\n",
    "  \n",
    "  # DIRECT PATHWAY STEPS\n",
    "  ?pathwayStart bp3:pathwayOrder ?direct_ps .\n",
    "  ?direct_ps rdf:type bp3:PathwayStep .\n",
    "  \n",
    "  # RELATIONS OF PATHWAY STEPS\n",
    "  VALUES ?relations_of_interest { bp3:stepProcess bp3:nextStep }\n",
    "  ?direct_ps ?relations_of_interest ?linked_to_ps .\n",
    "  VALUES ?relations_of_interest_starting_from_step_process { bp3:left bp3:pathwayOrder bp3:pathwayComponent bp3:right bp3:controller bp3:controlled bp3:displayName bp3:conversionDirection bp3:participantStoichiometry }\n",
    "  ?linked_to_ps ?relations_of_interest_starting_from_step_process ?step_process_relations .\n",
    "}\n",
    "\"\"\"\n",
    "\n",
    "sparql = SPARQLWrapper(endpointURL_reactome_standalone_biopax)\n",
    "sparql.setQuery(prefixes+query_step_processes)\n",
    "df = save_for_cytoscape(sparql, prefixes, \"../Results/6_pathway_steps_steps_processes.csv\", format='csv')\n",
    "preview_network_data(df)"
   ]
  },
  {
   "cell_type": "markdown",
   "metadata": {},
   "source": [
    "## 7 - Description of biochemical reactions linked to direct subpathways"
   ]
  },
  {
   "cell_type": "code",
   "execution_count": null,
   "metadata": {},
   "outputs": [],
   "source": [
    "query_br_linked_to_ps = \"\"\" \n",
    "CONSTRUCT {\n",
    "  ?linked_to_direct_compo ?relations_br ?description_br\n",
    "}\n",
    "WHERE {\n",
    "  VALUES ?pathwayID { \"R-HSA-177929\" }\n",
    "  ?pathwayIDxref bp3:id ?pathwayID .\n",
    "  ?pathwayIDxref rdf:type bp3:UnificationXref .\n",
    "  ?pathwayStart bp3:xref ?pathwayIDxref .\n",
    "  ?pathwayStart rdf:type bp3:Pathway .\n",
    "  VALUES ?pathway_compo_types { bp3:Pathway bp3:BiochemicalReaction }\n",
    "  \n",
    "  # DIRECT COMPONENTS\n",
    "  ?pathwayStart bp3:pathwayComponent ?direct_component .\n",
    "  ?pathwayStart ?pathway_component ?direct_component .\n",
    "  ?direct_component rdf:type ?pathway_compo_types .\n",
    "  \n",
    "  # RELATIONS OF PATHWAY COMPONENTS\n",
    "  VALUES ?relations_of_interest { bp3:left bp3:right bp3:displayName bp3:conversionDirection bp3:pathwayOrder bp3:pathwayComponent bp3:participantStoichiometry }\n",
    "  ?direct_component ?relations_of_interest ?linked_to_direct_compo .\n",
    "  \n",
    "  ?linked_to_direct_compo rdf:type bp3:BiochemicalReaction .\n",
    "  VALUES ?relations_br {bp3:left bp3:right bp3:displayName bp3:conversionDirection bp3:bp3:participantStoichiometry }\n",
    "  ?linked_to_direct_compo ?relations_br ?description_br .\n",
    "}\n",
    "\"\"\"\n",
    "\n",
    "sparql = SPARQLWrapper(endpointURL_reactome_standalone_biopax)\n",
    "sparql.setQuery(prefixes+query_br_linked_to_ps)\n",
    "df = save_for_cytoscape(sparql, prefixes, \"../Results/7_linked_to_br_of_direct_pathway.csv\", format='csv')\n",
    "preview_network_data(df)"
   ]
  },
  {
   "cell_type": "markdown",
   "metadata": {},
   "source": [
    "## 8 - Description of step processes of pathway steps linked to subpathways"
   ]
  },
  {
   "cell_type": "code",
   "execution_count": null,
   "metadata": {},
   "outputs": [],
   "source": [
    "query_step_processes_subpathways = \"\"\" \n",
    "CONSTRUCT {\n",
    "  ?pathwayStep bp3:stepProcess ?stepProcess\n",
    "}\n",
    "WHERE {\n",
    "  VALUES ?pathwayID { \"R-HSA-177929\" }\n",
    "  ?pathwayIDxref bp3:id ?pathwayID .\n",
    "  ?pathwayIDxref rdf:type bp3:UnificationXref .\n",
    "  ?pathwayStart bp3:xref ?pathwayIDxref .\n",
    "  ?pathwayStart rdf:type bp3:Pathway .\n",
    "\n",
    "  ?pathwayStart bp3:pathwayComponent ?pathwayCompo .\n",
    "  ?pathwayCompo bp3:pathwayOrder ?pathwayStep .\n",
    "  ?pathwayStep bp3:stepProcess ?stepProcess .\n",
    "}\n",
    "\"\"\"\n",
    "\n",
    "sparql = SPARQLWrapper(endpointURL_reactome_standalone_biopax)\n",
    "sparql.setQuery(prefixes+query_step_processes_subpathways)\n",
    "df = save_for_cytoscape(sparql, prefixes, \"../Results/8_processes_of_pathway_steps_linked_to_subpathways.csv\", format='csv')\n",
    "preview_network_data(df)"
   ]
  },
  {
   "cell_type": "markdown",
   "metadata": {},
   "source": [
    "## 9 - Describe the processes linked to pathway steps linked to direct subpathways"
   ]
  },
  {
   "cell_type": "code",
   "execution_count": null,
   "metadata": {},
   "outputs": [],
   "source": [
    "query_step_processes_subpathways_description = \"\"\"  \n",
    "CONSTRUCT {\n",
    "  ?stepProcess ?properties_of_interest ?description_step_process\n",
    "}\n",
    "WHERE {\n",
    "  VALUES ?pathwayID { \"R-HSA-177929\" }\n",
    "  ?pathwayIDxref bp3:id ?pathwayID .\n",
    "  ?pathwayIDxref rdf:type bp3:UnificationXref .\n",
    "  ?pathwayStart bp3:xref ?pathwayIDxref .\n",
    "  ?pathwayStart rdf:type bp3:Pathway .\n",
    "  VALUES ?properties_of_interest { bp3:right bp3:left bp3:participantStoichiometry bp3:controlled bp3:controller bp3:displayName}\n",
    "\n",
    "  ?pathwayStart bp3:pathwayComponent ?pathwayCompo .\n",
    "  ?pathwayCompo bp3:pathwayOrder ?pathwayStep .\n",
    "  ?pathwayStep bp3:stepProcess ?stepProcess .\n",
    "  ?stepProcess ?properties_of_interest ?description_step_process .\n",
    "}\n",
    "\"\"\"\n",
    "\n",
    "sparql = SPARQLWrapper(endpointURL_reactome_standalone_biopax)\n",
    "sparql.setQuery(prefixes+query_step_processes_subpathways_description)\n",
    "df = save_for_cytoscape(sparql, prefixes, \"../Results/9_description_processes_pf_ps_linked_to_subpathways.csv\", format='csv')\n",
    "preview_network_data(df)"
   ]
  },
  {
   "cell_type": "markdown",
   "metadata": {},
   "source": [
    "## 10 - Get next steps between pathway steps linked to direct subpathways"
   ]
  },
  {
   "cell_type": "code",
   "execution_count": null,
   "metadata": {},
   "outputs": [],
   "source": [
    "query_next_steps = \"\"\" \n",
    "CONSTRUCT {\n",
    "  ?pathwayStep bp3:nextStep ?nextStep\n",
    "}\n",
    "WHERE {\n",
    "  VALUES ?pathwayID { \"R-HSA-177929\" }\n",
    "  ?pathwayIDxref bp3:id ?pathwayID .\n",
    "  ?pathwayIDxref rdf:type bp3:UnificationXref .\n",
    "  ?pathwayStart bp3:xref ?pathwayIDxref .\n",
    "  ?pathwayStart rdf:type bp3:Pathway .\n",
    "  VALUES ?properties_of_interest { bp3:right bp3:left bp3:participantStoichiometry bp3:controlled bp3:controller bp3:displayName}\n",
    "\n",
    "  ?pathwayStart bp3:pathwayComponent ?pathwayCompo .\n",
    "  ?pathwayCompo bp3:pathwayOrder ?pathwayStep .\n",
    "  ?pathwayStep bp3:nextStep ?nextStep .\n",
    "}\n",
    "\"\"\"\n",
    "\n",
    "sparql = SPARQLWrapper(endpointURL_reactome_standalone_biopax)\n",
    "sparql.setQuery(prefixes+query_next_steps)\n",
    "df = save_for_cytoscape(sparql, prefixes, \"../Results/10_next_steps_between_PS_linked_to_subpathways.csv\", format='csv')\n",
    "preview_network_data(df)"
   ]
  },
  {
   "cell_type": "code",
   "execution_count": null,
   "metadata": {},
   "outputs": [],
   "source": [
    "q1 = pd.read_csv(\"../Results/1_direct_pathway_compo.csv\", header=None, sep=\",\")\n",
    "q1 = q1.drop(q1.index[0]).reset_index(drop=True)\n",
    "q2 = pd.read_csv(\"../Results/2_direct_pathway_compo_br.csv\", header=None, sep=\",\")\n",
    "q2 = q2.drop(q2.index[0]).reset_index(drop=True)\n",
    "q3 = pd.read_csv(\"../Results/3_direct_pathway_compo_path.csv\", header=None, sep=\",\")\n",
    "q3 = q3.drop(q3.index[0]).reset_index(drop=True)\n",
    "q4 = pd.read_csv(\"../Results/4_direct_pathway_steps.csv\", header=None, sep=\",\")\n",
    "q4 = q4.drop(q4.index[0]).reset_index(drop=True)\n",
    "q5 = pd.read_csv(\"../Results/5_direct_pathway_steps_next_steps_and_step_process.csv\", header=None, sep=\",\")\n",
    "q5 = q5.drop(q5.index[0]).reset_index(drop=True)\n",
    "q6 = pd.read_csv(\"../Results/6_pathway_steps_steps_processes.csv\", header=None, sep=\",\")\n",
    "q6 = q6.drop(q6.index[0]).reset_index(drop=True)\n",
    "q7 = pd.read_csv(\"../Results/7_linked_to_br_of_direct_pathway.csv\", header=None, sep=\",\")\n",
    "q7 = q7.drop(q7.index[0]).reset_index(drop=True)\n",
    "q8 = pd.read_csv(\"../Results/8_processes_of_pathway_steps_linked_to_subpathways.csv\", header=None, sep=\",\")\n",
    "q8 = q8.drop(q8.index[0]).reset_index(drop=True)\n",
    "q9 = pd.read_csv(\"../Results/9_description_processes_pf_ps_linked_to_subpathways.csv\", header=None, sep=\",\")\n",
    "q9 = q9.drop(q9.index[0]).reset_index(drop=True)\n",
    "q10 = pd.read_csv(\"../Results/10_next_steps_between_PS_linked_to_subpathways.csv\", header=None, sep=\",\")\n",
    "q10 = q10.drop(q10.index[0]).reset_index(drop=True)\n",
    "\n",
    "\n",
    "concat_df = pd.concat([q1, q2, q3, q4, q5, q6, q7, q8, q9, q10], ignore_index=True)\n",
    "\n",
    "concat_df.to_csv(\"../Results/Final_pathway_egf_completed.tsv\", sep=\"\\t\", header=None, index=False)\n",
    "print(concat_df)"
   ]
  }
 ],
 "metadata": {
  "kernelspec": {
   "display_name": "biopax_sparql_queries",
   "language": "python",
   "name": "python3"
  },
  "language_info": {
   "codemirror_mode": {
    "name": "ipython",
    "version": 3
   },
   "file_extension": ".py",
   "mimetype": "text/x-python",
   "name": "python",
   "nbconvert_exporter": "python",
   "pygments_lexer": "ipython3",
   "version": "3.12.4"
  }
 },
 "nbformat": 4,
 "nbformat_minor": 2
}
