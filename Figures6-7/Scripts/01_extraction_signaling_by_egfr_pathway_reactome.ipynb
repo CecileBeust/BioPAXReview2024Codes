{
 "cells": [
  {
   "cell_type": "markdown",
   "metadata": {},
   "source": [
    "# Extraction of the \"Signaling by EGFR\" pathway\n"
   ]
  },
  {
   "cell_type": "code",
   "execution_count": 1,
   "metadata": {},
   "outputs": [],
   "source": [
    "from SPARQLWrapper import SPARQLWrapper, JSON, CSV, N3, XML, TURTLE\n",
    "import IPython\n",
    "import subprocess\n",
    "import time\n",
    "import os\n",
    "import glob\n",
    "from requests.utils import requote_uri\n",
    "from urllib.parse import quote\n",
    "import re\n",
    "import rdflib\n",
    "import pandas as pd"
   ]
  },
  {
   "cell_type": "code",
   "execution_count": 2,
   "metadata": {},
   "outputs": [],
   "source": [
    "endpointURL_reactome_standalone_biopax = \"http://localhost:3030/reactome_standalone_biopax/query\"\n",
    "rdfFormat = \"turtle\"\n",
    "current_directory = os.getcwd()\n",
    "BioPAX_Ontology_file_path = os.path.join(current_directory, '../..', 'BioPAX_Data/BioPAX_Ontology', 'biopax-level3.owl')"
   ]
  },
  {
   "cell_type": "code",
   "execution_count": 3,
   "metadata": {},
   "outputs": [],
   "source": [
    "reactomeVersion = 77 # actually it is version 90 (version in October, 2024), but 77 is mentioned in the URI \n",
    "prefixes = \"\"\"\n",
    "PREFIX rdf: <http://www.w3.org/1999/02/22-rdf-syntax-ns#>\n",
    "PREFIX rdfs:<http://www.w3.org/2000/01/rdf-schema#>\n",
    "PREFIX owl: <http://www.w3.org/2002/07/owl#>\n",
    "PREFIX xsd: <http://www.w3.org/2001/XMLSchema#>\n",
    "PREFIX dc: <http://purl.org/dc/elements/1.1/>\n",
    "PREFIX dcterms: <http://purl.org/dc/terms/>\n",
    "\n",
    "PREFIX chebi: <http://purl.obolibrary.org/obo/chebi/>\n",
    "PREFIX chebidb: <http://purl.obolibrary.org/obo/CHEBI_>\n",
    "PREFIX chebirel: <http://purl.obolibrary.org/obo/CHEBI#>\n",
    "PREFIX oboInOwl: <http://www.geneontology.org/formats/oboInOwl#>\n",
    "\n",
    "PREFIX bp3: <http://www.biopax.org/release/biopax-level3.owl#>\n",
    "\n",
    "# Homo_sapiens-20170221.owl\n",
    "#PREFIX reactome: <http://www.reactome.org/biopax/59/48887#> \n",
    "#\n",
    "# Homo_sapiens-20210608.owl\n",
    "#PREFIX reactome: <http://www.reactome.org/biopax/77/48887#>\n",
    "#\n",
    "# Homo_sapiens-20220614.owl\n",
    "#PREFIX reactome: <http://www.reactome.org/biopax/81/48887#>\n",
    "#\n",
    "# Homo_sapiens-20221130.owl\n",
    "#PREFIX reactome: <http://www.reactome.org/biopax/83/48887#>\n",
    "\n",
    "PREFIX reactome: <http://www.reactome.org/biopax/{}/48887#>\n",
    "\"\"\".format(reactomeVersion)\n",
    "\n",
    "biopaxURI = \"http://www.biopax.org/release/biopax-level3.owl#\""
   ]
  },
  {
   "cell_type": "code",
   "execution_count": 4,
   "metadata": {},
   "outputs": [],
   "source": [
    "def displaySparqlResults(results):\n",
    "    '''\n",
    "    Displays as HTML the result of a SPARQLWrapper query in a Jupyter notebook.\n",
    "    \n",
    "        Parameters:\n",
    "            results (dictionnary): the result of a call to SPARQLWrapper.query().convert()\n",
    "    '''\n",
    "    variableNames = results['head']['vars']\n",
    "    tableCode = '<table><tr><th>{}</th></tr><tr>{}</tr></table>'.format('</th><th>'.join(variableNames), '</tr><tr>'.join('<td>{}</td>'.format('</td><td>'.join([row[vName]['value'] if vName in row.keys() else \"&nbsp;\" for vName in variableNames]))for row in results[\"results\"][\"bindings\"]))\n",
    "    IPython.display.display(IPython.display.HTML(tableCode))"
   ]
  },
  {
   "cell_type": "code",
   "execution_count": 5,
   "metadata": {},
   "outputs": [],
   "source": [
    "def getPathwayURIbyName(pathwayName):\n",
    "    query=\"\"\"\n",
    "SELECT DISTINCT ?pathwayURI ?pathwayReactomeID\n",
    "WHERE {\n",
    "  ?pathwayURI bp3:name|bp3:displayName \\\"\"\"\" + pathwayName + \"\"\"\\\" .\n",
    "  ?pathwayURI bp3:xref [ rdf:type bp3:UnificationXref ;\n",
    "                      bp3:db \"Reactome\" ;\n",
    "                      bp3:id ?pathwayReactomeID ] .\n",
    "}\n",
    "\"\"\"\n",
    "    sparql = SPARQLWrapper(endpointURL_reactome_standalone_biopax)\n",
    "    sparql.setQuery(prefixes+query)\n",
    "    sparql.setReturnFormat(JSON)\n",
    "    results = sparql.query().convert()\n",
    "    return results"
   ]
  },
  {
   "cell_type": "code",
   "execution_count": 6,
   "metadata": {},
   "outputs": [
    {
     "name": "stderr",
     "output_type": "stream",
     "text": [
      "14:45:04 INFO  Server          :: Dataset: in-memory: load file: /home/cbeust/Projects/2024/BioPAX_Review/BioPAXReview2024Codes/Figures6-7/Scripts/../../BioPAX_Data/ReactomeBioPAX/Homo_sapiens.owl\n",
      "14:45:05 WARN  riot            :: [line: 67087, col: 52] {W137} Input is large. Switching off checking for illegal reuse of rdf:ID's.\n",
      "14:45:25 INFO  Server          :: Dataset: in-memory: load file: /home/cbeust/Projects/2024/BioPAX_Review/BioPAXReview2024Codes/Figures6-7/Scripts/../../BioPAX_Data/BioPAX_Ontology/biopax-level3.owl\n",
      "14:45:26 INFO  Server          :: Running in read-only mode for /reactome_standalone_biopax\n",
      "14:45:26 INFO  Server          :: Apache Jena Fuseki 4.9.0\n",
      "14:45:26 INFO  Config          :: FUSEKI_HOME=/home/cbeust/Softwares/JenaFuseki/apache-jena-fuseki-4.9.0\n",
      "14:45:26 INFO  Config          :: FUSEKI_BASE=/home/cbeust/Projects/2024/BioPAX_Review/BioPAXReview2024Codes/Figures6-7/Scripts/run\n",
      "14:45:26 INFO  Config          :: Shiro file: file:///home/cbeust/Projects/2024/BioPAX_Review/BioPAXReview2024Codes/Figures6-7/Scripts/run/shiro.ini\n",
      "14:45:26 INFO  Server          :: Database: in-memory, with files loaded\n",
      "14:45:26 INFO  Server          :: Path = /reactome_standalone_biopax\n",
      "14:45:26 INFO  Server          ::   Memory: 16.0 GiB\n",
      "14:45:26 INFO  Server          ::   Java:   17.0.11\n",
      "14:45:26 INFO  Server          ::   OS:     Linux 6.8.9-100.fc38.x86_64 amd64\n",
      "14:45:26 INFO  Server          ::   PID:    278522\n",
      "14:45:26 INFO  Server          :: Started 2025/02/05 14:45:26 CET on port 3030\n"
     ]
    }
   ],
   "source": [
    "ReactomeBioPAX_file_path = os.path.join(current_directory, '../..', 'BioPAX_Data/ReactomeBioPAX/', 'Homo_sapiens.owl')\n",
    "command = [\n",
    "    '/home/cbeust/Softwares/JenaFuseki/apache-jena-fuseki-4.9.0/fuseki-server',\n",
    "    '--file', ReactomeBioPAX_file_path,\n",
    "    '--file', BioPAX_Ontology_file_path,\n",
    "    '/reactome_standalone_biopax']\n",
    "\n",
    "\n",
    "process = subprocess.Popen(command)\n",
    "time.sleep(60)"
   ]
  },
  {
   "cell_type": "code",
   "execution_count": 7,
   "metadata": {},
   "outputs": [],
   "source": [
    "def extract_prefix_mappings(prefixes_string):\n",
    "    \"\"\"\n",
    "    Extract prefix mappings from the SPARQL prefixes string.\n",
    "    \n",
    "    Parameters:\n",
    "    prefixes_string (str): String containing PREFIX declarations\n",
    "    \n",
    "    Returns:\n",
    "    dict: Mapping of full URIs to their prefixes\n",
    "    \"\"\"\n",
    "    # Extract prefix declarations using regex\n",
    "    prefix_pattern = re.compile(r'PREFIX\\s+(\\w+):\\s*<([^>]+)>', re.IGNORECASE)\n",
    "    return {uri: prefix for prefix, uri in prefix_pattern.findall(prefixes_string)}\n",
    "\n",
    "def convert_to_prefixed_uri(uri_string, prefix_mappings):\n",
    "    \"\"\"\n",
    "    Convert a full URI to prefixed format.\n",
    "    \n",
    "    Parameters:\n",
    "    uri_string (str): Full URI string\n",
    "    prefix_mappings (dict): Mapping of URIs to prefixes\n",
    "    \n",
    "    Returns:\n",
    "    str: URI in prefixed format (e.g., 'reactome:Protein')\n",
    "    \"\"\"\n",
    "    for uri_base, prefix in prefix_mappings.items():\n",
    "        if uri_string.startswith(uri_base):\n",
    "            local_part = uri_string[len(uri_base):]\n",
    "            return f\"{prefix}:{local_part}\"\n",
    "    return uri_string  # Return original if no prefix matches\n",
    "\n",
    "def save_for_cytoscape(sparql, prefixes_string, output_file, format='csv', separator=','):\n",
    "    \"\"\"\n",
    "    Save SPARQL CONSTRUCT results in a format compatible with Cytoscape,\n",
    "    using prefix notation for URIs.\n",
    "    \n",
    "    Parameters:\n",
    "    sparql (SPARQLWrapper): Configured SPARQLWrapper instance with query\n",
    "    prefixes_string (str): String containing PREFIX declarations\n",
    "    output_file (str): Path to save the output file\n",
    "    format (str): Output format ('csv' or 'tsv')\n",
    "    separator (str): Column separator (',' for CSV, '\\t' for TSV)\n",
    "    \"\"\"\n",
    "    # Extract prefix mappings\n",
    "    prefix_mappings = extract_prefix_mappings(prefixes_string)\n",
    "    \n",
    "    # Get the results as an RDF graph\n",
    "    sparql.setReturnFormat(TURTLE)\n",
    "    results = sparql.queryAndConvert()\n",
    "    \n",
    "    # Create an RDFlib graph\n",
    "    g = rdflib.Graph()\n",
    "    if isinstance(results, bytes):\n",
    "        g.parse(data=results.decode('utf-8'), format='turtle')\n",
    "    else:\n",
    "        g.parse(data=results, format='turtle')\n",
    "    \n",
    "    # Convert triples to a list of dictionaries with prefixed URIs\n",
    "    triples_data = []\n",
    "    for s, p, o in g:\n",
    "        # Convert each URI to prefixed format\n",
    "        subject = convert_to_prefixed_uri(str(s), prefix_mappings)\n",
    "        predicate = convert_to_prefixed_uri(str(p), prefix_mappings)\n",
    "        object_ = convert_to_prefixed_uri(str(o), prefix_mappings)\n",
    "        \n",
    "        triples_data.append({\n",
    "            'Source': subject,\n",
    "            'Interaction': predicate,\n",
    "            'Target': object_\n",
    "        })\n",
    "    \n",
    "    # Convert to DataFrame for easy CSV/TSV export\n",
    "    df = pd.DataFrame(triples_data)\n",
    "    \n",
    "    # Save to file\n",
    "    if format == 'csv':\n",
    "        df.to_csv(output_file, index=False, sep=',')\n",
    "    else:  # tsv\n",
    "        df.to_csv(output_file, index=False, sep='\\t')\n",
    "    \n",
    "    print(f\"Saved {len(triples_data)} interactions to {output_file}\")\n",
    "    return df\n",
    "\n",
    "def preview_network_data(df, n=5):\n",
    "    \"\"\"\n",
    "    Preview the network data before importing into Cytoscape.\n",
    "    \n",
    "    Parameters:\n",
    "    df (pandas.DataFrame): DataFrame containing the network data\n",
    "    n (int): Number of rows to preview\n",
    "    \"\"\"\n",
    "    print(f\"\\nPreview of network data ({len(df)} total interactions):\")\n",
    "    print(f\"\\nFirst {n} interactions:\")\n",
    "    print(df.head(n))\n",
    "    \n",
    "    # Print some basic network statistics\n",
    "    unique_nodes = set(df['Source'].unique()) | set(df['Target'].unique())\n",
    "    print(f\"\\nNetwork statistics:\")\n",
    "    print(f\"Number of unique nodes: {len(unique_nodes)}\")\n",
    "    print(f\"Number of interactions: {len(df)}\")\n",
    "    print(f\"Unique interaction types:\")\n",
    "    for interaction in sorted(df['Interaction'].unique()):\n",
    "        print(f\"  - {interaction}\")"
   ]
  },
  {
   "cell_type": "markdown",
   "metadata": {},
   "source": [
    "## 1 - Extract direct pathway components"
   ]
  },
  {
   "cell_type": "code",
   "execution_count": 9,
   "metadata": {},
   "outputs": [
    {
     "name": "stdout",
     "output_type": "stream",
     "text": [
      "Saved 12 interactions to ../Results/1_direct_pathway_compo.csv\n",
      "\n",
      "Preview of network data (12 total interactions):\n",
      "\n",
      "First 5 interactions:\n",
      "                 Source           Interaction  \\\n",
      "0  reactome:Pathway1389  bp3:pathwayComponent   \n",
      "1  reactome:Pathway1389  bp3:pathwayComponent   \n",
      "2  reactome:Pathway1389  bp3:pathwayComponent   \n",
      "3  reactome:Pathway1389  bp3:pathwayComponent   \n",
      "4  reactome:Pathway1389  bp3:pathwayComponent   \n",
      "\n",
      "                             Target  \n",
      "0  reactome:BiochemicalReaction5443  \n",
      "1              reactome:Pathway1390  \n",
      "2  reactome:BiochemicalReaction5442  \n",
      "3  reactome:BiochemicalReaction5440  \n",
      "4              reactome:Pathway1393  \n",
      "\n",
      "Network statistics:\n",
      "Number of unique nodes: 13\n",
      "Number of interactions: 12\n",
      "Unique interaction types:\n",
      "  - bp3:pathwayComponent\n"
     ]
    },
    {
     "name": "stderr",
     "output_type": "stream",
     "text": [
      "14:53:53 INFO  Fuseki          :: [8] GET http://localhost:3030/reactome_standalone_biopax/query?query=%0APREFIX+rdf%3A+%3Chttp%3A//www.w3.org/1999/02/22-rdf-syntax-ns%23%3E%0APREFIX+rdfs%3A%3Chttp%3A//www.w3.org/2000/01/rdf-schema%23%3E%0APREFIX+owl%3A+%3Chttp%3A//www.w3.org/2002/07/owl%23%3E%0APREFIX+xsd%3A+%3Chttp%3A//www.w3.org/2001/XMLSchema%23%3E%0APREFIX+dc%3A+%3Chttp%3A//purl.org/dc/elements/1.1/%3E%0APREFIX+dcterms%3A+%3Chttp%3A//purl.org/dc/terms/%3E%0A%0APREFIX+chebi%3A+%3Chttp%3A//purl.obolibrary.org/obo/chebi/%3E%0APREFIX+chebidb%3A+%3Chttp%3A//purl.obolibrary.org/obo/CHEBI_%3E%0APREFIX+chebirel%3A+%3Chttp%3A//purl.obolibrary.org/obo/CHEBI%23%3E%0APREFIX+oboInOwl%3A+%3Chttp%3A//www.geneontology.org/formats/oboInOwl%23%3E%0A%0APREFIX+bp3%3A+%3Chttp%3A//www.biopax.org/release/biopax-level3.owl%23%3E%0A%0A%23+Homo_sapiens-20170221.owl%0A%23PREFIX+reactome%3A+%3Chttp%3A//www.reactome.org/biopax/59/48887%23%3E+%0A%23%0A%23+Homo_sapiens-20210608.owl%0A%23PREFIX+reactome%3A+%3Chttp%3A//www.reactome.org/biopax/77/48887%23%3E%0A%23%0A%23+Homo_sapiens-20220614.owl%0A%23PREFIX+reactome%3A+%3Chttp%3A//www.reactome.org/biopax/81/48887%23%3E%0A%23%0A%23+Homo_sapiens-20221130.owl%0A%23PREFIX+reactome%3A+%3Chttp%3A//www.reactome.org/biopax/83/48887%23%3E%0A%0APREFIX+reactome%3A+%3Chttp%3A//www.reactome.org/biopax/77/48887%23%3E%0A+%0ACONSTRUCT+%7B%0A++%3FpathwayStart+bp3%3ApathwayComponent+%3Fdirect_component%0A%7D%0AWHERE+%7B%0A++VALUES+%3FpathwayID+%7B+%22R-HSA-177929%22+%7D%0A++%3FpathwayIDxref+bp3%3Aid+%3FpathwayID+.%0A++%3FpathwayIDxref+rdf%3Atype+bp3%3AUnificationXref+.%0A++%3FpathwayStart+bp3%3Axref+%3FpathwayIDxref+.%0A++%3FpathwayStart+rdf%3Atype+bp3%3APathway+.%0A++%0A++%3FpathwayStart+bp3%3ApathwayComponent+%3Fdirect_component+.%0A%7D%0A&format=turtle&output=turtle&results=turtle\n",
      "14:53:53 INFO  Fuseki          :: [8] Query =  PREFIX rdf: <http://www.w3.org/1999/02/22-rdf-syntax-ns#> PREFIX rdfs:<http://www.w3.org/2000/01/rdf-schema#> PREFIX owl: <http://www.w3.org/2002/07/owl#> PREFIX xsd: <http://www.w3.org/2001/XMLSchema#> PREFIX dc: <http://purl.org/dc/elements/1.1/> PREFIX dcterms: <http://purl.org/dc/terms/>  PREFIX chebi: <http://purl.obolibrary.org/obo/chebi/> PREFIX chebidb: <http://purl.obolibrary.org/obo/CHEBI_> PREFIX chebirel: <http://purl.obolibrary.org/obo/CHEBI#> PREFIX oboInOwl: <http://www.geneontology.org/formats/oboInOwl#>  PREFIX bp3: <http://www.biopax.org/release/biopax-level3.owl#>  # Homo_sapiens-20170221.owl #PREFIX reactome: <http://www.reactome.org/biopax/59/48887#>  # # Homo_sapiens-20210608.owl #PREFIX reactome: <http://www.reactome.org/biopax/77/48887#> # # Homo_sapiens-20220614.owl #PREFIX reactome: <http://www.reactome.org/biopax/81/48887#> # # Homo_sapiens-20221130.owl #PREFIX reactome: <http://www.reactome.org/biopax/83/48887#>  PREFIX reactome: <http://www.reactome.org/biopax/77/48887#>   CONSTRUCT {   ?pathwayStart bp3:pathwayComponent ?direct_component } WHERE {   VALUES ?pathwayID { \"R-HSA-177929\" }   ?pathwayIDxref bp3:id ?pathwayID .   ?pathwayIDxref rdf:type bp3:UnificationXref .   ?pathwayStart bp3:xref ?pathwayIDxref .   ?pathwayStart rdf:type bp3:Pathway .      ?pathwayStart bp3:pathwayComponent ?direct_component . } \n",
      "14:53:53 INFO  Fuseki          :: [8] 200 OK (18 ms)\n"
     ]
    }
   ],
   "source": [
    "query_extract_pathway_compo = \"\"\" \n",
    "CONSTRUCT {\n",
    "  ?pathwayStart bp3:pathwayComponent ?direct_component\n",
    "}\n",
    "WHERE {\n",
    "  VALUES ?pathwayID { \"R-HSA-177929\" }\n",
    "  ?pathwayIDxref bp3:id ?pathwayID .\n",
    "  ?pathwayIDxref rdf:type bp3:UnificationXref .\n",
    "  ?pathwayStart bp3:xref ?pathwayIDxref .\n",
    "  ?pathwayStart rdf:type bp3:Pathway .\n",
    "  \n",
    "  ?pathwayStart bp3:pathwayComponent ?direct_component .\n",
    "}\n",
    "\"\"\"\n",
    "\n",
    "sparql = SPARQLWrapper(endpointURL_reactome_standalone_biopax)\n",
    "sparql.setQuery(prefixes+query_extract_pathway_compo)\n",
    "df = save_for_cytoscape(sparql, prefixes, \"../Results/1_direct_pathway_compo.csv\", format='csv')\n",
    "preview_network_data(df)"
   ]
  },
  {
   "cell_type": "markdown",
   "metadata": {},
   "source": [
    "## 2 - Description of direct pathway components of type BiochemicalReaction"
   ]
  },
  {
   "cell_type": "code",
   "execution_count": 13,
   "metadata": {},
   "outputs": [
    {
     "name": "stdout",
     "output_type": "stream",
     "text": [
      "Saved 40 interactions to ../Results/2_direct_pathway_compo_br.csv\n",
      "\n",
      "Preview of network data (40 total interactions):\n",
      "\n",
      "First 5 interactions:\n",
      "                             Source              Interaction  \\\n",
      "0  reactome:BiochemicalReaction5442                 bp3:left   \n",
      "1  reactome:BiochemicalReaction5444                 bp3:left   \n",
      "2  reactome:BiochemicalReaction5446                 bp3:left   \n",
      "3  reactome:BiochemicalReaction5440  bp3:conversionDirection   \n",
      "4  reactome:BiochemicalReaction5446                 bp3:left   \n",
      "\n",
      "                     Target  \n",
      "0     reactome:Protein19151  \n",
      "1      reactome:Complex3513  \n",
      "2  reactome:SmallMolecule27  \n",
      "3             LEFT-TO-RIGHT  \n",
      "4      reactome:Complex3512  \n",
      "\n",
      "Network statistics:\n",
      "Number of unique nodes: 33\n",
      "Number of interactions: 40\n",
      "Unique interaction types:\n",
      "  - bp3:conversionDirection\n",
      "  - bp3:displayName\n",
      "  - bp3:left\n",
      "  - bp3:participantStoichiometry\n",
      "  - bp3:right\n"
     ]
    },
    {
     "name": "stderr",
     "output_type": "stream",
     "text": [
      "15:00:04 INFO  Fuseki          :: [14] GET http://localhost:3030/reactome_standalone_biopax/query?query=%0APREFIX+rdf%3A+%3Chttp%3A//www.w3.org/1999/02/22-rdf-syntax-ns%23%3E%0APREFIX+rdfs%3A%3Chttp%3A//www.w3.org/2000/01/rdf-schema%23%3E%0APREFIX+owl%3A+%3Chttp%3A//www.w3.org/2002/07/owl%23%3E%0APREFIX+xsd%3A+%3Chttp%3A//www.w3.org/2001/XMLSchema%23%3E%0APREFIX+dc%3A+%3Chttp%3A//purl.org/dc/elements/1.1/%3E%0APREFIX+dcterms%3A+%3Chttp%3A//purl.org/dc/terms/%3E%0A%0APREFIX+chebi%3A+%3Chttp%3A//purl.obolibrary.org/obo/chebi/%3E%0APREFIX+chebidb%3A+%3Chttp%3A//purl.obolibrary.org/obo/CHEBI_%3E%0APREFIX+chebirel%3A+%3Chttp%3A//purl.obolibrary.org/obo/CHEBI%23%3E%0APREFIX+oboInOwl%3A+%3Chttp%3A//www.geneontology.org/formats/oboInOwl%23%3E%0A%0APREFIX+bp3%3A+%3Chttp%3A//www.biopax.org/release/biopax-level3.owl%23%3E%0A%0A%23+Homo_sapiens-20170221.owl%0A%23PREFIX+reactome%3A+%3Chttp%3A//www.reactome.org/biopax/59/48887%23%3E+%0A%23%0A%23+Homo_sapiens-20210608.owl%0A%23PREFIX+reactome%3A+%3Chttp%3A//www.reactome.org/biopax/77/48887%23%3E%0A%23%0A%23+Homo_sapiens-20220614.owl%0A%23PREFIX+reactome%3A+%3Chttp%3A//www.reactome.org/biopax/81/48887%23%3E%0A%23%0A%23+Homo_sapiens-20221130.owl%0A%23PREFIX+reactome%3A+%3Chttp%3A//www.reactome.org/biopax/83/48887%23%3E%0A%0APREFIX+reactome%3A+%3Chttp%3A//www.reactome.org/biopax/77/48887%23%3E%0A+%0ACONSTRUCT+%7B%0A++%3Fdirect_component+%3Frelations_pathway_compo_br+%3Flinked_pathway_compo_br%0A%7D%0AWHERE+%7B%0A++VALUES+%3FpathwayID+%7B+%22R-HSA-177929%22+%7D%0A++%3FpathwayIDxref+bp3%3Aid+%3FpathwayID+.%0A++%3FpathwayIDxref+rdf%3Atype+bp3%3AUnificationXref+.%0A++%3FpathwayStart+bp3%3Axref+%3FpathwayIDxref+.%0A++%3FpathwayStart+rdf%3Atype+bp3%3APathway+.%0A++%0A++%23+Pathway+components%0A++%3FpathwayStart+bp3%3ApathwayComponent+%3Fdirect_component+.%0A++%3Fdirect_component+rdf%3Atype+bp3%3ABiochemicalReaction+.%0A++VALUES+%3Frelations_pathway_compo_br+%7B+bp3%3AdisplayName+bp3%3Aleft+bp3%3Aright+bp3%3AconversionDirection+bp3%3AparticipantStoichiometry%7D%0A++%3Fdirect_component+%3Frelations_pathway_compo_br+%3Flinked_pathway_compo_br+.%0A%7D%0A&format=turtle&output=turtle&results=turtle\n",
      "15:00:04 INFO  Fuseki          :: [14] Query =  PREFIX rdf: <http://www.w3.org/1999/02/22-rdf-syntax-ns#> PREFIX rdfs:<http://www.w3.org/2000/01/rdf-schema#> PREFIX owl: <http://www.w3.org/2002/07/owl#> PREFIX xsd: <http://www.w3.org/2001/XMLSchema#> PREFIX dc: <http://purl.org/dc/elements/1.1/> PREFIX dcterms: <http://purl.org/dc/terms/>  PREFIX chebi: <http://purl.obolibrary.org/obo/chebi/> PREFIX chebidb: <http://purl.obolibrary.org/obo/CHEBI_> PREFIX chebirel: <http://purl.obolibrary.org/obo/CHEBI#> PREFIX oboInOwl: <http://www.geneontology.org/formats/oboInOwl#>  PREFIX bp3: <http://www.biopax.org/release/biopax-level3.owl#>  # Homo_sapiens-20170221.owl #PREFIX reactome: <http://www.reactome.org/biopax/59/48887#>  # # Homo_sapiens-20210608.owl #PREFIX reactome: <http://www.reactome.org/biopax/77/48887#> # # Homo_sapiens-20220614.owl #PREFIX reactome: <http://www.reactome.org/biopax/81/48887#> # # Homo_sapiens-20221130.owl #PREFIX reactome: <http://www.reactome.org/biopax/83/48887#>  PREFIX reactome: <http://www.reactome.org/biopax/77/48887#>   CONSTRUCT {   ?direct_component ?relations_pathway_compo_br ?linked_pathway_compo_br } WHERE {   VALUES ?pathwayID { \"R-HSA-177929\" }   ?pathwayIDxref bp3:id ?pathwayID .   ?pathwayIDxref rdf:type bp3:UnificationXref .   ?pathwayStart bp3:xref ?pathwayIDxref .   ?pathwayStart rdf:type bp3:Pathway .      # Pathway components   ?pathwayStart bp3:pathwayComponent ?direct_component .   ?direct_component rdf:type bp3:BiochemicalReaction .   VALUES ?relations_pathway_compo_br { bp3:displayName bp3:left bp3:right bp3:conversionDirection bp3:participantStoichiometry}   ?direct_component ?relations_pathway_compo_br ?linked_pathway_compo_br . } \n",
      "15:00:04 INFO  Fuseki          :: [14] 200 OK (30 ms)\n"
     ]
    }
   ],
   "source": [
    "query_direct_br = \"\"\" \n",
    "CONSTRUCT {\n",
    "  ?direct_component ?relations_pathway_compo_br ?linked_pathway_compo_br\n",
    "}\n",
    "WHERE {\n",
    "  VALUES ?pathwayID { \"R-HSA-177929\" }\n",
    "  ?pathwayIDxref bp3:id ?pathwayID .\n",
    "  ?pathwayIDxref rdf:type bp3:UnificationXref .\n",
    "  ?pathwayStart bp3:xref ?pathwayIDxref .\n",
    "  ?pathwayStart rdf:type bp3:Pathway .\n",
    "  \n",
    "  # Pathway components\n",
    "  ?pathwayStart bp3:pathwayComponent ?direct_component .\n",
    "  ?direct_component rdf:type bp3:BiochemicalReaction .\n",
    "  VALUES ?relations_pathway_compo_br { bp3:displayName bp3:left bp3:right bp3:conversionDirection bp3:participantStoichiometry}\n",
    "  ?direct_component ?relations_pathway_compo_br ?linked_pathway_compo_br .\n",
    "}\n",
    "\"\"\" \n",
    "\n",
    "sparql = SPARQLWrapper(endpointURL_reactome_standalone_biopax)\n",
    "sparql.setQuery(prefixes+query_direct_br)\n",
    "df = save_for_cytoscape(sparql, prefixes, \"../Results/2_direct_pathway_compo_br.csv\", format='csv')\n",
    "preview_network_data(df)"
   ]
  },
  {
   "cell_type": "markdown",
   "metadata": {},
   "source": [
    "## 3 - Description of direct pathway components of type Pathway"
   ]
  },
  {
   "cell_type": "code",
   "execution_count": 14,
   "metadata": {},
   "outputs": [
    {
     "name": "stdout",
     "output_type": "stream",
     "text": [
      "Saved 91 interactions to ../Results/3_direct_pathway_compo_path.csv\n",
      "\n",
      "Preview of network data (91 total interactions):\n",
      "\n",
      "First 5 interactions:\n",
      "                 Source           Interaction  \\\n",
      "0  reactome:Pathway1394  bp3:pathwayComponent   \n",
      "1  reactome:Pathway1393  bp3:pathwayComponent   \n",
      "2  reactome:Pathway1394  bp3:pathwayComponent   \n",
      "3  reactome:Pathway1394      bp3:pathwayOrder   \n",
      "4  reactome:Pathway1394      bp3:pathwayOrder   \n",
      "\n",
      "                             Target  \n",
      "0  reactome:BiochemicalReaction5471  \n",
      "1  reactome:BiochemicalReaction5466  \n",
      "2  reactome:BiochemicalReaction5479  \n",
      "3          reactome:PathwayStep6866  \n",
      "4          reactome:PathwayStep6861  \n",
      "\n",
      "Network statistics:\n",
      "Number of unique nodes: 96\n",
      "Number of interactions: 91\n",
      "Unique interaction types:\n",
      "  - bp3:displayName\n",
      "  - bp3:pathwayComponent\n",
      "  - bp3:pathwayOrder\n"
     ]
    },
    {
     "name": "stderr",
     "output_type": "stream",
     "text": [
      "15:00:36 INFO  Fuseki          :: [15] GET http://localhost:3030/reactome_standalone_biopax/query?query=%0APREFIX+rdf%3A+%3Chttp%3A//www.w3.org/1999/02/22-rdf-syntax-ns%23%3E%0APREFIX+rdfs%3A%3Chttp%3A//www.w3.org/2000/01/rdf-schema%23%3E%0APREFIX+owl%3A+%3Chttp%3A//www.w3.org/2002/07/owl%23%3E%0APREFIX+xsd%3A+%3Chttp%3A//www.w3.org/2001/XMLSchema%23%3E%0APREFIX+dc%3A+%3Chttp%3A//purl.org/dc/elements/1.1/%3E%0APREFIX+dcterms%3A+%3Chttp%3A//purl.org/dc/terms/%3E%0A%0APREFIX+chebi%3A+%3Chttp%3A//purl.obolibrary.org/obo/chebi/%3E%0APREFIX+chebidb%3A+%3Chttp%3A//purl.obolibrary.org/obo/CHEBI_%3E%0APREFIX+chebirel%3A+%3Chttp%3A//purl.obolibrary.org/obo/CHEBI%23%3E%0APREFIX+oboInOwl%3A+%3Chttp%3A//www.geneontology.org/formats/oboInOwl%23%3E%0A%0APREFIX+bp3%3A+%3Chttp%3A//www.biopax.org/release/biopax-level3.owl%23%3E%0A%0A%23+Homo_sapiens-20170221.owl%0A%23PREFIX+reactome%3A+%3Chttp%3A//www.reactome.org/biopax/59/48887%23%3E+%0A%23%0A%23+Homo_sapiens-20210608.owl%0A%23PREFIX+reactome%3A+%3Chttp%3A//www.reactome.org/biopax/77/48887%23%3E%0A%23%0A%23+Homo_sapiens-20220614.owl%0A%23PREFIX+reactome%3A+%3Chttp%3A//www.reactome.org/biopax/81/48887%23%3E%0A%23%0A%23+Homo_sapiens-20221130.owl%0A%23PREFIX+reactome%3A+%3Chttp%3A//www.reactome.org/biopax/83/48887%23%3E%0A%0APREFIX+reactome%3A+%3Chttp%3A//www.reactome.org/biopax/77/48887%23%3E%0A+%0ACONSTRUCT+%7B%0A++%3Fdirect_component+%3Frelations_pathway_compo_path+%3Flinked_pathway_compo_path%0A%7D%0AWHERE+%7B%0A++VALUES+%3FpathwayID+%7B+%22R-HSA-177929%22+%7D%0A++%3FpathwayIDxref+bp3%3Aid+%3FpathwayID+.%0A++%3FpathwayIDxref+rdf%3Atype+bp3%3AUnificationXref+.%0A++%3FpathwayStart+bp3%3Axref+%3FpathwayIDxref+.%0A++%3FpathwayStart+rdf%3Atype+bp3%3APathway+.%0A++%0A++%23+Pathway+components%0A++%3FpathwayStart+bp3%3ApathwayComponent+%3Fdirect_component+.%0A++%3FpathwayStart+%3Fpathway_component+%3Fdirect_component+.%0A++%3Fdirect_component+rdf%3Atype+bp3%3APathway+.%0A++VALUES+%3Frelations_pathway_compo_path+%7B+bp3%3AdisplayName+bp3%3ApathwayComponent+bp3%3ApathwayOrder+%7D%0A++%3Fdirect_component+%3Frelations_pathway_compo_path+%3Flinked_pathway_compo_path+.%0A%7D%0A&format=turtle&output=turtle&results=turtle\n",
      "15:00:36 INFO  Fuseki          :: [15] Query =  PREFIX rdf: <http://www.w3.org/1999/02/22-rdf-syntax-ns#> PREFIX rdfs:<http://www.w3.org/2000/01/rdf-schema#> PREFIX owl: <http://www.w3.org/2002/07/owl#> PREFIX xsd: <http://www.w3.org/2001/XMLSchema#> PREFIX dc: <http://purl.org/dc/elements/1.1/> PREFIX dcterms: <http://purl.org/dc/terms/>  PREFIX chebi: <http://purl.obolibrary.org/obo/chebi/> PREFIX chebidb: <http://purl.obolibrary.org/obo/CHEBI_> PREFIX chebirel: <http://purl.obolibrary.org/obo/CHEBI#> PREFIX oboInOwl: <http://www.geneontology.org/formats/oboInOwl#>  PREFIX bp3: <http://www.biopax.org/release/biopax-level3.owl#>  # Homo_sapiens-20170221.owl #PREFIX reactome: <http://www.reactome.org/biopax/59/48887#>  # # Homo_sapiens-20210608.owl #PREFIX reactome: <http://www.reactome.org/biopax/77/48887#> # # Homo_sapiens-20220614.owl #PREFIX reactome: <http://www.reactome.org/biopax/81/48887#> # # Homo_sapiens-20221130.owl #PREFIX reactome: <http://www.reactome.org/biopax/83/48887#>  PREFIX reactome: <http://www.reactome.org/biopax/77/48887#>   CONSTRUCT {   ?direct_component ?relations_pathway_compo_path ?linked_pathway_compo_path } WHERE {   VALUES ?pathwayID { \"R-HSA-177929\" }   ?pathwayIDxref bp3:id ?pathwayID .   ?pathwayIDxref rdf:type bp3:UnificationXref .   ?pathwayStart bp3:xref ?pathwayIDxref .   ?pathwayStart rdf:type bp3:Pathway .      # Pathway components   ?pathwayStart bp3:pathwayComponent ?direct_component .   ?pathwayStart ?pathway_component ?direct_component .   ?direct_component rdf:type bp3:Pathway .   VALUES ?relations_pathway_compo_path { bp3:displayName bp3:pathwayComponent bp3:pathwayOrder }   ?direct_component ?relations_pathway_compo_path ?linked_pathway_compo_path . } \n",
      "15:00:36 INFO  Fuseki          :: [15] 200 OK (33 ms)\n"
     ]
    }
   ],
   "source": [
    "query_direct_pathway = \"\"\" \n",
    "CONSTRUCT {\n",
    "  ?direct_component ?relations_pathway_compo_path ?linked_pathway_compo_path\n",
    "}\n",
    "WHERE {\n",
    "  VALUES ?pathwayID { \"R-HSA-177929\" }\n",
    "  ?pathwayIDxref bp3:id ?pathwayID .\n",
    "  ?pathwayIDxref rdf:type bp3:UnificationXref .\n",
    "  ?pathwayStart bp3:xref ?pathwayIDxref .\n",
    "  ?pathwayStart rdf:type bp3:Pathway .\n",
    "  \n",
    "  # Pathway components\n",
    "  ?pathwayStart bp3:pathwayComponent ?direct_component .\n",
    "  ?pathwayStart ?pathway_component ?direct_component .\n",
    "  ?direct_component rdf:type bp3:Pathway .\n",
    "  VALUES ?relations_pathway_compo_path { bp3:displayName bp3:pathwayComponent bp3:pathwayOrder }\n",
    "  ?direct_component ?relations_pathway_compo_path ?linked_pathway_compo_path .\n",
    "}\n",
    "\"\"\"\n",
    "\n",
    "sparql = SPARQLWrapper(endpointURL_reactome_standalone_biopax)\n",
    "sparql.setQuery(prefixes+query_direct_pathway)\n",
    "df = save_for_cytoscape(sparql, prefixes, \"../Results/3_direct_pathway_compo_path.csv\", format='csv')\n",
    "preview_network_data(df)"
   ]
  },
  {
   "cell_type": "markdown",
   "metadata": {},
   "source": [
    "## 4 - Extraction of direct pathway steps"
   ]
  },
  {
   "cell_type": "code",
   "execution_count": 15,
   "metadata": {},
   "outputs": [
    {
     "name": "stdout",
     "output_type": "stream",
     "text": [
      "Saved 12 interactions to ../Results/4_direct_pathway_steps.csv\n",
      "\n",
      "Preview of network data (12 total interactions):\n",
      "\n",
      "First 5 interactions:\n",
      "                 Source       Interaction                    Target\n",
      "0  reactome:Pathway1389  bp3:pathwayOrder  reactome:PathwayStep6873\n",
      "1  reactome:Pathway1389  bp3:pathwayOrder  reactome:PathwayStep6824\n",
      "2  reactome:Pathway1389  bp3:pathwayOrder  reactome:PathwayStep6838\n",
      "3  reactome:Pathway1389  bp3:pathwayOrder  reactome:PathwayStep6850\n",
      "4  reactome:Pathway1389  bp3:pathwayOrder  reactome:PathwayStep6819\n",
      "\n",
      "Network statistics:\n",
      "Number of unique nodes: 13\n",
      "Number of interactions: 12\n",
      "Unique interaction types:\n",
      "  - bp3:pathwayOrder\n"
     ]
    },
    {
     "name": "stderr",
     "output_type": "stream",
     "text": [
      "15:01:10 INFO  Fuseki          :: [16] GET http://localhost:3030/reactome_standalone_biopax/query?query=%0APREFIX+rdf%3A+%3Chttp%3A//www.w3.org/1999/02/22-rdf-syntax-ns%23%3E%0APREFIX+rdfs%3A%3Chttp%3A//www.w3.org/2000/01/rdf-schema%23%3E%0APREFIX+owl%3A+%3Chttp%3A//www.w3.org/2002/07/owl%23%3E%0APREFIX+xsd%3A+%3Chttp%3A//www.w3.org/2001/XMLSchema%23%3E%0APREFIX+dc%3A+%3Chttp%3A//purl.org/dc/elements/1.1/%3E%0APREFIX+dcterms%3A+%3Chttp%3A//purl.org/dc/terms/%3E%0A%0APREFIX+chebi%3A+%3Chttp%3A//purl.obolibrary.org/obo/chebi/%3E%0APREFIX+chebidb%3A+%3Chttp%3A//purl.obolibrary.org/obo/CHEBI_%3E%0APREFIX+chebirel%3A+%3Chttp%3A//purl.obolibrary.org/obo/CHEBI%23%3E%0APREFIX+oboInOwl%3A+%3Chttp%3A//www.geneontology.org/formats/oboInOwl%23%3E%0A%0APREFIX+bp3%3A+%3Chttp%3A//www.biopax.org/release/biopax-level3.owl%23%3E%0A%0A%23+Homo_sapiens-20170221.owl%0A%23PREFIX+reactome%3A+%3Chttp%3A//www.reactome.org/biopax/59/48887%23%3E+%0A%23%0A%23+Homo_sapiens-20210608.owl%0A%23PREFIX+reactome%3A+%3Chttp%3A//www.reactome.org/biopax/77/48887%23%3E%0A%23%0A%23+Homo_sapiens-20220614.owl%0A%23PREFIX+reactome%3A+%3Chttp%3A//www.reactome.org/biopax/81/48887%23%3E%0A%23%0A%23+Homo_sapiens-20221130.owl%0A%23PREFIX+reactome%3A+%3Chttp%3A//www.reactome.org/biopax/83/48887%23%3E%0A%0APREFIX+reactome%3A+%3Chttp%3A//www.reactome.org/biopax/77/48887%23%3E%0A+%0ACONSTRUCT+%7B%0A++%3FpathwayStart+bp3%3ApathwayOrder+%3Fdirect_ps%0A%7D%0AWHERE+%7B%0A++VALUES+%3FpathwayID+%7B+%22R-HSA-177929%22+%7D%0A++%3FpathwayIDxref+bp3%3Aid+%3FpathwayID+.%0A++%3FpathwayIDxref+rdf%3Atype+bp3%3AUnificationXref+.%0A++%3FpathwayStart+bp3%3Axref+%3FpathwayIDxref+.%0A++%3FpathwayStart+rdf%3Atype+bp3%3APathway+.%0A++%0A++%23+DIRECT+PATHWAY+STEPS%0A++%3FpathwayStart+bp3%3ApathwayOrder+%3Fdirect_ps+.%0A++%3Fdirect_ps+rdf%3Atype+bp3%3APathwayStep+.%0A%7D%0A&format=turtle&output=turtle&results=turtle\n",
      "15:01:10 INFO  Fuseki          :: [16] Query =  PREFIX rdf: <http://www.w3.org/1999/02/22-rdf-syntax-ns#> PREFIX rdfs:<http://www.w3.org/2000/01/rdf-schema#> PREFIX owl: <http://www.w3.org/2002/07/owl#> PREFIX xsd: <http://www.w3.org/2001/XMLSchema#> PREFIX dc: <http://purl.org/dc/elements/1.1/> PREFIX dcterms: <http://purl.org/dc/terms/>  PREFIX chebi: <http://purl.obolibrary.org/obo/chebi/> PREFIX chebidb: <http://purl.obolibrary.org/obo/CHEBI_> PREFIX chebirel: <http://purl.obolibrary.org/obo/CHEBI#> PREFIX oboInOwl: <http://www.geneontology.org/formats/oboInOwl#>  PREFIX bp3: <http://www.biopax.org/release/biopax-level3.owl#>  # Homo_sapiens-20170221.owl #PREFIX reactome: <http://www.reactome.org/biopax/59/48887#>  # # Homo_sapiens-20210608.owl #PREFIX reactome: <http://www.reactome.org/biopax/77/48887#> # # Homo_sapiens-20220614.owl #PREFIX reactome: <http://www.reactome.org/biopax/81/48887#> # # Homo_sapiens-20221130.owl #PREFIX reactome: <http://www.reactome.org/biopax/83/48887#>  PREFIX reactome: <http://www.reactome.org/biopax/77/48887#>   CONSTRUCT {   ?pathwayStart bp3:pathwayOrder ?direct_ps } WHERE {   VALUES ?pathwayID { \"R-HSA-177929\" }   ?pathwayIDxref bp3:id ?pathwayID .   ?pathwayIDxref rdf:type bp3:UnificationXref .   ?pathwayStart bp3:xref ?pathwayIDxref .   ?pathwayStart rdf:type bp3:Pathway .      # DIRECT PATHWAY STEPS   ?pathwayStart bp3:pathwayOrder ?direct_ps .   ?direct_ps rdf:type bp3:PathwayStep . } \n",
      "15:01:10 INFO  Fuseki          :: [16] 200 OK (14 ms)\n"
     ]
    }
   ],
   "source": [
    "query_direct_ps = \"\"\" \n",
    "CONSTRUCT {\n",
    "  ?pathwayStart bp3:pathwayOrder ?direct_ps\n",
    "}\n",
    "WHERE {\n",
    "  VALUES ?pathwayID { \"R-HSA-177929\" }\n",
    "  ?pathwayIDxref bp3:id ?pathwayID .\n",
    "  ?pathwayIDxref rdf:type bp3:UnificationXref .\n",
    "  ?pathwayStart bp3:xref ?pathwayIDxref .\n",
    "  ?pathwayStart rdf:type bp3:Pathway .\n",
    "  \n",
    "  # DIRECT PATHWAY STEPS\n",
    "  ?pathwayStart bp3:pathwayOrder ?direct_ps .\n",
    "  ?direct_ps rdf:type bp3:PathwayStep .\n",
    "}\n",
    "\"\"\"\n",
    "\n",
    "sparql = SPARQLWrapper(endpointURL_reactome_standalone_biopax)\n",
    "sparql.setQuery(prefixes+query_direct_ps)\n",
    "df = save_for_cytoscape(sparql, prefixes, \"../Results/4_direct_pathway_steps.csv\", format='csv')\n",
    "preview_network_data(df)"
   ]
  },
  {
   "cell_type": "markdown",
   "metadata": {},
   "source": [
    "## 5 - Description of direct pathway steps "
   ]
  },
  {
   "cell_type": "code",
   "execution_count": 16,
   "metadata": {},
   "outputs": [
    {
     "name": "stdout",
     "output_type": "stream",
     "text": [
      "Saved 41 interactions to ../Results/5_direct_pathway_steps_next_steps_and_step_process.csv\n",
      "\n",
      "Preview of network data (41 total interactions):\n",
      "\n",
      "First 5 interactions:\n",
      "                     Source      Interaction                            Target\n",
      "0  reactome:PathwayStep6819  bp3:stepProcess  reactome:BiochemicalReaction5440\n",
      "1  reactome:PathwayStep6824     bp3:nextStep          reactome:PathwayStep6840\n",
      "2  reactome:PathwayStep6824  bp3:stepProcess  reactome:BiochemicalReaction5445\n",
      "3  reactome:PathwayStep6823     bp3:nextStep          reactome:PathwayStep6824\n",
      "4  reactome:PathwayStep6825     bp3:nextStep          reactome:PathwayStep6851\n",
      "\n",
      "Network statistics:\n",
      "Number of unique nodes: 41\n",
      "Number of interactions: 41\n",
      "Unique interaction types:\n",
      "  - bp3:nextStep\n",
      "  - bp3:stepProcess\n"
     ]
    },
    {
     "name": "stderr",
     "output_type": "stream",
     "text": [
      "15:01:51 INFO  Fuseki          :: [17] GET http://localhost:3030/reactome_standalone_biopax/query?query=%0APREFIX+rdf%3A+%3Chttp%3A//www.w3.org/1999/02/22-rdf-syntax-ns%23%3E%0APREFIX+rdfs%3A%3Chttp%3A//www.w3.org/2000/01/rdf-schema%23%3E%0APREFIX+owl%3A+%3Chttp%3A//www.w3.org/2002/07/owl%23%3E%0APREFIX+xsd%3A+%3Chttp%3A//www.w3.org/2001/XMLSchema%23%3E%0APREFIX+dc%3A+%3Chttp%3A//purl.org/dc/elements/1.1/%3E%0APREFIX+dcterms%3A+%3Chttp%3A//purl.org/dc/terms/%3E%0A%0APREFIX+chebi%3A+%3Chttp%3A//purl.obolibrary.org/obo/chebi/%3E%0APREFIX+chebidb%3A+%3Chttp%3A//purl.obolibrary.org/obo/CHEBI_%3E%0APREFIX+chebirel%3A+%3Chttp%3A//purl.obolibrary.org/obo/CHEBI%23%3E%0APREFIX+oboInOwl%3A+%3Chttp%3A//www.geneontology.org/formats/oboInOwl%23%3E%0A%0APREFIX+bp3%3A+%3Chttp%3A//www.biopax.org/release/biopax-level3.owl%23%3E%0A%0A%23+Homo_sapiens-20170221.owl%0A%23PREFIX+reactome%3A+%3Chttp%3A//www.reactome.org/biopax/59/48887%23%3E+%0A%23%0A%23+Homo_sapiens-20210608.owl%0A%23PREFIX+reactome%3A+%3Chttp%3A//www.reactome.org/biopax/77/48887%23%3E%0A%23%0A%23+Homo_sapiens-20220614.owl%0A%23PREFIX+reactome%3A+%3Chttp%3A//www.reactome.org/biopax/81/48887%23%3E%0A%23%0A%23+Homo_sapiens-20221130.owl%0A%23PREFIX+reactome%3A+%3Chttp%3A//www.reactome.org/biopax/83/48887%23%3E%0A%0APREFIX+reactome%3A+%3Chttp%3A//www.reactome.org/biopax/77/48887%23%3E%0A+%0ACONSTRUCT+%7B%0A++%3Fdirect_ps+%3Frelations_of_interest+%3Flinked_to_ps%0A%7D%0AWHERE+%7B%0A++VALUES+%3FpathwayID+%7B+%22R-HSA-177929%22+%7D%0A++%3FpathwayIDxref+bp3%3Aid+%3FpathwayID+.%0A++%3FpathwayIDxref+rdf%3Atype+bp3%3AUnificationXref+.%0A++%3FpathwayStart+bp3%3Axref+%3FpathwayIDxref+.%0A++%3FpathwayStart+rdf%3Atype+bp3%3APathway+.%0A++%0A++%23+DIRECT+PATHWAY+STEPS%0A++%3FpathwayStart+bp3%3ApathwayOrder+%3Fdirect_ps+.%0A++%3Fdirect_ps+rdf%3Atype+bp3%3APathwayStep+.%0A++%0A++%23+RELATIONS+OF+PATHWAY+STEPS%0A++VALUES+%3Frelations_of_interest+%7B+bp3%3AstepProcess+bp3%3AnextStep+%7D%0A++%3Fdirect_ps+%3Frelations_of_interest+%3Flinked_to_ps+.%0A%7D%0A&format=turtle&output=turtle&results=turtle\n",
      "15:01:51 INFO  Fuseki          :: [17] Query =  PREFIX rdf: <http://www.w3.org/1999/02/22-rdf-syntax-ns#> PREFIX rdfs:<http://www.w3.org/2000/01/rdf-schema#> PREFIX owl: <http://www.w3.org/2002/07/owl#> PREFIX xsd: <http://www.w3.org/2001/XMLSchema#> PREFIX dc: <http://purl.org/dc/elements/1.1/> PREFIX dcterms: <http://purl.org/dc/terms/>  PREFIX chebi: <http://purl.obolibrary.org/obo/chebi/> PREFIX chebidb: <http://purl.obolibrary.org/obo/CHEBI_> PREFIX chebirel: <http://purl.obolibrary.org/obo/CHEBI#> PREFIX oboInOwl: <http://www.geneontology.org/formats/oboInOwl#>  PREFIX bp3: <http://www.biopax.org/release/biopax-level3.owl#>  # Homo_sapiens-20170221.owl #PREFIX reactome: <http://www.reactome.org/biopax/59/48887#>  # # Homo_sapiens-20210608.owl #PREFIX reactome: <http://www.reactome.org/biopax/77/48887#> # # Homo_sapiens-20220614.owl #PREFIX reactome: <http://www.reactome.org/biopax/81/48887#> # # Homo_sapiens-20221130.owl #PREFIX reactome: <http://www.reactome.org/biopax/83/48887#>  PREFIX reactome: <http://www.reactome.org/biopax/77/48887#>   CONSTRUCT {   ?direct_ps ?relations_of_interest ?linked_to_ps } WHERE {   VALUES ?pathwayID { \"R-HSA-177929\" }   ?pathwayIDxref bp3:id ?pathwayID .   ?pathwayIDxref rdf:type bp3:UnificationXref .   ?pathwayStart bp3:xref ?pathwayIDxref .   ?pathwayStart rdf:type bp3:Pathway .      # DIRECT PATHWAY STEPS   ?pathwayStart bp3:pathwayOrder ?direct_ps .   ?direct_ps rdf:type bp3:PathwayStep .      # RELATIONS OF PATHWAY STEPS   VALUES ?relations_of_interest { bp3:stepProcess bp3:nextStep }   ?direct_ps ?relations_of_interest ?linked_to_ps . } \n",
      "15:01:51 INFO  Fuseki          :: [17] 200 OK (18 ms)\n"
     ]
    }
   ],
   "source": [
    "query_description_direct_ps = \"\"\" \n",
    "CONSTRUCT {\n",
    "  ?direct_ps ?relations_of_interest ?linked_to_ps\n",
    "}\n",
    "WHERE {\n",
    "  VALUES ?pathwayID { \"R-HSA-177929\" }\n",
    "  ?pathwayIDxref bp3:id ?pathwayID .\n",
    "  ?pathwayIDxref rdf:type bp3:UnificationXref .\n",
    "  ?pathwayStart bp3:xref ?pathwayIDxref .\n",
    "  ?pathwayStart rdf:type bp3:Pathway .\n",
    "  \n",
    "  # DIRECT PATHWAY STEPS\n",
    "  ?pathwayStart bp3:pathwayOrder ?direct_ps .\n",
    "  ?direct_ps rdf:type bp3:PathwayStep .\n",
    "  \n",
    "  # RELATIONS OF PATHWAY STEPS\n",
    "  VALUES ?relations_of_interest { bp3:stepProcess bp3:nextStep }\n",
    "  ?direct_ps ?relations_of_interest ?linked_to_ps .\n",
    "}\n",
    "\"\"\"\n",
    "\n",
    "sparql = SPARQLWrapper(endpointURL_reactome_standalone_biopax)\n",
    "sparql.setQuery(prefixes+query_description_direct_ps)\n",
    "df = save_for_cytoscape(sparql, prefixes, \"../Results/5_direct_pathway_steps_next_steps_and_step_process.csv\", format='csv')\n",
    "preview_network_data(df)"
   ]
  },
  {
   "cell_type": "markdown",
   "metadata": {},
   "source": [
    "## 6 - Description of step processes linked to pathway steps"
   ]
  },
  {
   "cell_type": "code",
   "execution_count": 17,
   "metadata": {},
   "outputs": [
    {
     "name": "stdout",
     "output_type": "stream",
     "text": [
      "Saved 143 interactions to ../Results/6_pathway_steps_steps_processes.csv\n",
      "\n",
      "Preview of network data (143 total interactions):\n",
      "\n",
      "First 5 interactions:\n",
      "                             Source           Interaction  \\\n",
      "0              reactome:Pathway1393  bp3:pathwayComponent   \n",
      "1              reactome:Pathway1394  bp3:pathwayComponent   \n",
      "2  reactome:BiochemicalReaction5442              bp3:left   \n",
      "3            reactome:Catalysis2348        bp3:controller   \n",
      "4              reactome:Pathway1394  bp3:pathwayComponent   \n",
      "\n",
      "                             Target  \n",
      "0  reactome:BiochemicalReaction5466  \n",
      "1  reactome:BiochemicalReaction5479  \n",
      "2             reactome:Protein19151  \n",
      "3             reactome:Protein19156  \n",
      "4  reactome:BiochemicalReaction5475  \n",
      "\n",
      "Network statistics:\n",
      "Number of unique nodes: 138\n",
      "Number of interactions: 143\n",
      "Unique interaction types:\n",
      "  - bp3:controlled\n",
      "  - bp3:controller\n",
      "  - bp3:conversionDirection\n",
      "  - bp3:displayName\n",
      "  - bp3:left\n",
      "  - bp3:participantStoichiometry\n",
      "  - bp3:pathwayComponent\n",
      "  - bp3:pathwayOrder\n",
      "  - bp3:right\n"
     ]
    },
    {
     "name": "stderr",
     "output_type": "stream",
     "text": [
      "15:02:22 INFO  Fuseki          :: [18] GET http://localhost:3030/reactome_standalone_biopax/query?query=%0APREFIX+rdf%3A+%3Chttp%3A//www.w3.org/1999/02/22-rdf-syntax-ns%23%3E%0APREFIX+rdfs%3A%3Chttp%3A//www.w3.org/2000/01/rdf-schema%23%3E%0APREFIX+owl%3A+%3Chttp%3A//www.w3.org/2002/07/owl%23%3E%0APREFIX+xsd%3A+%3Chttp%3A//www.w3.org/2001/XMLSchema%23%3E%0APREFIX+dc%3A+%3Chttp%3A//purl.org/dc/elements/1.1/%3E%0APREFIX+dcterms%3A+%3Chttp%3A//purl.org/dc/terms/%3E%0A%0APREFIX+chebi%3A+%3Chttp%3A//purl.obolibrary.org/obo/chebi/%3E%0APREFIX+chebidb%3A+%3Chttp%3A//purl.obolibrary.org/obo/CHEBI_%3E%0APREFIX+chebirel%3A+%3Chttp%3A//purl.obolibrary.org/obo/CHEBI%23%3E%0APREFIX+oboInOwl%3A+%3Chttp%3A//www.geneontology.org/formats/oboInOwl%23%3E%0A%0APREFIX+bp3%3A+%3Chttp%3A//www.biopax.org/release/biopax-level3.owl%23%3E%0A%0A%23+Homo_sapiens-20170221.owl%0A%23PREFIX+reactome%3A+%3Chttp%3A//www.reactome.org/biopax/59/48887%23%3E+%0A%23%0A%23+Homo_sapiens-20210608.owl%0A%23PREFIX+reactome%3A+%3Chttp%3A//www.reactome.org/biopax/77/48887%23%3E%0A%23%0A%23+Homo_sapiens-20220614.owl%0A%23PREFIX+reactome%3A+%3Chttp%3A//www.reactome.org/biopax/81/48887%23%3E%0A%23%0A%23+Homo_sapiens-20221130.owl%0A%23PREFIX+reactome%3A+%3Chttp%3A//www.reactome.org/biopax/83/48887%23%3E%0A%0APREFIX+reactome%3A+%3Chttp%3A//www.reactome.org/biopax/77/48887%23%3E%0A+%0ACONSTRUCT+%7B%0A++%3Flinked_to_ps+%3Frelations_of_interest_starting_from_step_process+%3Fstep_process_relations%0A%7D%0AWHERE+%7B%0A++VALUES+%3FpathwayID+%7B+%22R-HSA-177929%22+%7D%0A++%3FpathwayIDxref+bp3%3Aid+%3FpathwayID+.%0A++%3FpathwayIDxref+rdf%3Atype+bp3%3AUnificationXref+.%0A++%3FpathwayStart+bp3%3Axref+%3FpathwayIDxref+.%0A++%3FpathwayStart+rdf%3Atype+bp3%3APathway+.%0A++%0A++%23+DIRECT+PATHWAY+STEPS%0A++%3FpathwayStart+bp3%3ApathwayOrder+%3Fdirect_ps+.%0A++%3Fdirect_ps+rdf%3Atype+bp3%3APathwayStep+.%0A++%0A++%23+RELATIONS+OF+PATHWAY+STEPS%0A++VALUES+%3Frelations_of_interest+%7B+bp3%3AstepProcess+bp3%3AnextStep+%7D%0A++%3Fdirect_ps+%3Frelations_of_interest+%3Flinked_to_ps+.%0A++VALUES+%3Frelations_of_interest_starting_from_step_process+%7B+bp3%3Aleft+bp3%3ApathwayOrder+bp3%3ApathwayComponent+bp3%3Aright+bp3%3Acontroller+bp3%3Acontrolled+bp3%3AdisplayName+bp3%3AconversionDirection+bp3%3AparticipantStoichiometry+%7D%0A++%3Flinked_to_ps+%3Frelations_of_interest_starting_from_step_process+%3Fstep_process_relations+.%0A%7D%0A&format=turtle&output=turtle&results=turtle\n",
      "15:02:22 INFO  Fuseki          :: [18] Query =  PREFIX rdf: <http://www.w3.org/1999/02/22-rdf-syntax-ns#> PREFIX rdfs:<http://www.w3.org/2000/01/rdf-schema#> PREFIX owl: <http://www.w3.org/2002/07/owl#> PREFIX xsd: <http://www.w3.org/2001/XMLSchema#> PREFIX dc: <http://purl.org/dc/elements/1.1/> PREFIX dcterms: <http://purl.org/dc/terms/>  PREFIX chebi: <http://purl.obolibrary.org/obo/chebi/> PREFIX chebidb: <http://purl.obolibrary.org/obo/CHEBI_> PREFIX chebirel: <http://purl.obolibrary.org/obo/CHEBI#> PREFIX oboInOwl: <http://www.geneontology.org/formats/oboInOwl#>  PREFIX bp3: <http://www.biopax.org/release/biopax-level3.owl#>  # Homo_sapiens-20170221.owl #PREFIX reactome: <http://www.reactome.org/biopax/59/48887#>  # # Homo_sapiens-20210608.owl #PREFIX reactome: <http://www.reactome.org/biopax/77/48887#> # # Homo_sapiens-20220614.owl #PREFIX reactome: <http://www.reactome.org/biopax/81/48887#> # # Homo_sapiens-20221130.owl #PREFIX reactome: <http://www.reactome.org/biopax/83/48887#>  PREFIX reactome: <http://www.reactome.org/biopax/77/48887#>   CONSTRUCT {   ?linked_to_ps ?relations_of_interest_starting_from_step_process ?step_process_relations } WHERE {   VALUES ?pathwayID { \"R-HSA-177929\" }   ?pathwayIDxref bp3:id ?pathwayID .   ?pathwayIDxref rdf:type bp3:UnificationXref .   ?pathwayStart bp3:xref ?pathwayIDxref .   ?pathwayStart rdf:type bp3:Pathway .      # DIRECT PATHWAY STEPS   ?pathwayStart bp3:pathwayOrder ?direct_ps .   ?direct_ps rdf:type bp3:PathwayStep .      # RELATIONS OF PATHWAY STEPS   VALUES ?relations_of_interest { bp3:stepProcess bp3:nextStep }   ?direct_ps ?relations_of_interest ?linked_to_ps .   VALUES ?relations_of_interest_starting_from_step_process { bp3:left bp3:pathwayOrder bp3:pathwayComponent bp3:right bp3:controller bp3:controlled bp3:displayName bp3:conversionDirection bp3:participantStoichiometry }   ?linked_to_ps ?relations_of_interest_starting_from_step_process ?step_process_relations . } \n",
      "15:02:22 INFO  Fuseki          :: [18] 200 OK (41 ms)\n"
     ]
    }
   ],
   "source": [
    "query_step_processes = \"\"\" \n",
    "CONSTRUCT {\n",
    "  ?linked_to_ps ?relations_of_interest_starting_from_step_process ?step_process_relations\n",
    "}\n",
    "WHERE {\n",
    "  VALUES ?pathwayID { \"R-HSA-177929\" }\n",
    "  ?pathwayIDxref bp3:id ?pathwayID .\n",
    "  ?pathwayIDxref rdf:type bp3:UnificationXref .\n",
    "  ?pathwayStart bp3:xref ?pathwayIDxref .\n",
    "  ?pathwayStart rdf:type bp3:Pathway .\n",
    "  \n",
    "  # DIRECT PATHWAY STEPS\n",
    "  ?pathwayStart bp3:pathwayOrder ?direct_ps .\n",
    "  ?direct_ps rdf:type bp3:PathwayStep .\n",
    "  \n",
    "  # RELATIONS OF PATHWAY STEPS\n",
    "  VALUES ?relations_of_interest { bp3:stepProcess bp3:nextStep }\n",
    "  ?direct_ps ?relations_of_interest ?linked_to_ps .\n",
    "  VALUES ?relations_of_interest_starting_from_step_process { bp3:left bp3:pathwayOrder bp3:pathwayComponent bp3:right bp3:controller bp3:controlled bp3:displayName bp3:conversionDirection bp3:participantStoichiometry }\n",
    "  ?linked_to_ps ?relations_of_interest_starting_from_step_process ?step_process_relations .\n",
    "}\n",
    "\"\"\"\n",
    "\n",
    "sparql = SPARQLWrapper(endpointURL_reactome_standalone_biopax)\n",
    "sparql.setQuery(prefixes+query_step_processes)\n",
    "df = save_for_cytoscape(sparql, prefixes, \"../Results/6_pathway_steps_steps_processes.csv\", format='csv')\n",
    "preview_network_data(df)"
   ]
  },
  {
   "cell_type": "markdown",
   "metadata": {},
   "source": [
    "## 7 - Description of biochemical reactions linked to direct subpathways"
   ]
  },
  {
   "cell_type": "code",
   "execution_count": 18,
   "metadata": {},
   "outputs": [
    {
     "name": "stdout",
     "output_type": "stream",
     "text": [
      "Saved 239 interactions to ../Results/7_linked_to_br_of_direct_pathway.csv\n",
      "\n",
      "Preview of network data (239 total interactions):\n",
      "\n",
      "First 5 interactions:\n",
      "                             Source              Interaction  \\\n",
      "0  reactome:BiochemicalReaction5481          bp3:displayName   \n",
      "1  reactome:BiochemicalReaction5449          bp3:displayName   \n",
      "2  reactome:BiochemicalReaction5479  bp3:conversionDirection   \n",
      "3  reactome:BiochemicalReaction5469  bp3:conversionDirection   \n",
      "4  reactome:BiochemicalReaction5474  bp3:conversionDirection   \n",
      "\n",
      "                                              Target  \n",
      "0  Assembly of EGFR complex in clathrin-coated ve...  \n",
      "1            Active PLC-gamma1 dissociates from EGFR  \n",
      "2                                      LEFT-TO-RIGHT  \n",
      "3                                      LEFT-TO-RIGHT  \n",
      "4                                      LEFT-TO-RIGHT  \n",
      "\n",
      "Network statistics:\n",
      "Number of unique nodes: 159\n",
      "Number of interactions: 239\n",
      "Unique interaction types:\n",
      "  - bp3:conversionDirection\n",
      "  - bp3:displayName\n",
      "  - bp3:left\n",
      "  - bp3:right\n"
     ]
    },
    {
     "name": "stderr",
     "output_type": "stream",
     "text": [
      "15:02:58 INFO  Fuseki          :: [19] GET http://localhost:3030/reactome_standalone_biopax/query?query=%0APREFIX+rdf%3A+%3Chttp%3A//www.w3.org/1999/02/22-rdf-syntax-ns%23%3E%0APREFIX+rdfs%3A%3Chttp%3A//www.w3.org/2000/01/rdf-schema%23%3E%0APREFIX+owl%3A+%3Chttp%3A//www.w3.org/2002/07/owl%23%3E%0APREFIX+xsd%3A+%3Chttp%3A//www.w3.org/2001/XMLSchema%23%3E%0APREFIX+dc%3A+%3Chttp%3A//purl.org/dc/elements/1.1/%3E%0APREFIX+dcterms%3A+%3Chttp%3A//purl.org/dc/terms/%3E%0A%0APREFIX+chebi%3A+%3Chttp%3A//purl.obolibrary.org/obo/chebi/%3E%0APREFIX+chebidb%3A+%3Chttp%3A//purl.obolibrary.org/obo/CHEBI_%3E%0APREFIX+chebirel%3A+%3Chttp%3A//purl.obolibrary.org/obo/CHEBI%23%3E%0APREFIX+oboInOwl%3A+%3Chttp%3A//www.geneontology.org/formats/oboInOwl%23%3E%0A%0APREFIX+bp3%3A+%3Chttp%3A//www.biopax.org/release/biopax-level3.owl%23%3E%0A%0A%23+Homo_sapiens-20170221.owl%0A%23PREFIX+reactome%3A+%3Chttp%3A//www.reactome.org/biopax/59/48887%23%3E+%0A%23%0A%23+Homo_sapiens-20210608.owl%0A%23PREFIX+reactome%3A+%3Chttp%3A//www.reactome.org/biopax/77/48887%23%3E%0A%23%0A%23+Homo_sapiens-20220614.owl%0A%23PREFIX+reactome%3A+%3Chttp%3A//www.reactome.org/biopax/81/48887%23%3E%0A%23%0A%23+Homo_sapiens-20221130.owl%0A%23PREFIX+reactome%3A+%3Chttp%3A//www.reactome.org/biopax/83/48887%23%3E%0A%0APREFIX+reactome%3A+%3Chttp%3A//www.reactome.org/biopax/77/48887%23%3E%0A+%0ACONSTRUCT+%7B%0A++%3Flinked_to_direct_compo+%3Frelations_br+%3Fdescription_br%0A%7D%0AWHERE+%7B%0A++VALUES+%3FpathwayID+%7B+%22R-HSA-177929%22+%7D%0A++%3FpathwayIDxref+bp3%3Aid+%3FpathwayID+.%0A++%3FpathwayIDxref+rdf%3Atype+bp3%3AUnificationXref+.%0A++%3FpathwayStart+bp3%3Axref+%3FpathwayIDxref+.%0A++%3FpathwayStart+rdf%3Atype+bp3%3APathway+.%0A++VALUES+%3Fpathway_compo_types+%7B+bp3%3APathway+bp3%3ABiochemicalReaction+%7D%0A++%0A++%23+DIRECT+COMPONENTS%0A++%3FpathwayStart+bp3%3ApathwayComponent+%3Fdirect_component+.%0A++%3FpathwayStart+%3Fpathway_component+%3Fdirect_component+.%0A++%3Fdirect_component+rdf%3Atype+%3Fpathway_compo_types+.%0A++%0A++%23+RELATIONS+OF+PATHWAY+COMPONENTS%0A++VALUES+%3Frelations_of_interest+%7B+bp3%3Aleft+bp3%3Aright+bp3%3AdisplayName+bp3%3AconversionDirection+bp3%3ApathwayOrder+bp3%3ApathwayComponent+bp3%3AparticipantStoichiometry+%7D%0A++%3Fdirect_component+%3Frelations_of_interest+%3Flinked_to_direct_compo+.%0A++%0A++%3Flinked_to_direct_compo+rdf%3Atype+bp3%3ABiochemicalReaction+.%0A++VALUES+%3Frelations_br+%7Bbp3%3Aleft+bp3%3Aright+bp3%3AdisplayName+bp3%3AconversionDirection+bp3%3Abp3%3AparticipantStoichiometry+%7D%0A++%3Flinked_to_direct_compo+%3Frelations_br+%3Fdescription_br+.%0A%7D%0A&format=turtle&output=turtle&results=turtle\n",
      "15:02:58 INFO  Fuseki          :: [19] Query =  PREFIX rdf: <http://www.w3.org/1999/02/22-rdf-syntax-ns#> PREFIX rdfs:<http://www.w3.org/2000/01/rdf-schema#> PREFIX owl: <http://www.w3.org/2002/07/owl#> PREFIX xsd: <http://www.w3.org/2001/XMLSchema#> PREFIX dc: <http://purl.org/dc/elements/1.1/> PREFIX dcterms: <http://purl.org/dc/terms/>  PREFIX chebi: <http://purl.obolibrary.org/obo/chebi/> PREFIX chebidb: <http://purl.obolibrary.org/obo/CHEBI_> PREFIX chebirel: <http://purl.obolibrary.org/obo/CHEBI#> PREFIX oboInOwl: <http://www.geneontology.org/formats/oboInOwl#>  PREFIX bp3: <http://www.biopax.org/release/biopax-level3.owl#>  # Homo_sapiens-20170221.owl #PREFIX reactome: <http://www.reactome.org/biopax/59/48887#>  # # Homo_sapiens-20210608.owl #PREFIX reactome: <http://www.reactome.org/biopax/77/48887#> # # Homo_sapiens-20220614.owl #PREFIX reactome: <http://www.reactome.org/biopax/81/48887#> # # Homo_sapiens-20221130.owl #PREFIX reactome: <http://www.reactome.org/biopax/83/48887#>  PREFIX reactome: <http://www.reactome.org/biopax/77/48887#>   CONSTRUCT {   ?linked_to_direct_compo ?relations_br ?description_br } WHERE {   VALUES ?pathwayID { \"R-HSA-177929\" }   ?pathwayIDxref bp3:id ?pathwayID .   ?pathwayIDxref rdf:type bp3:UnificationXref .   ?pathwayStart bp3:xref ?pathwayIDxref .   ?pathwayStart rdf:type bp3:Pathway .   VALUES ?pathway_compo_types { bp3:Pathway bp3:BiochemicalReaction }      # DIRECT COMPONENTS   ?pathwayStart bp3:pathwayComponent ?direct_component .   ?pathwayStart ?pathway_component ?direct_component .   ?direct_component rdf:type ?pathway_compo_types .      # RELATIONS OF PATHWAY COMPONENTS   VALUES ?relations_of_interest { bp3:left bp3:right bp3:displayName bp3:conversionDirection bp3:pathwayOrder bp3:pathwayComponent bp3:participantStoichiometry }   ?direct_component ?relations_of_interest ?linked_to_direct_compo .      ?linked_to_direct_compo rdf:type bp3:BiochemicalReaction .   VALUES ?relations_br {bp3:left bp3:right bp3:displayName bp3:conversionDirection bp3:bp3:participantStoichiometry }   ?linked_to_direct_compo ?relations_br ?description_br . } \n",
      "15:02:58 INFO  Fuseki          :: [19] 200 OK (63 ms)\n"
     ]
    }
   ],
   "source": [
    "query_br_linked_to_ps = \"\"\" \n",
    "CONSTRUCT {\n",
    "  ?linked_to_direct_compo ?relations_br ?description_br\n",
    "}\n",
    "WHERE {\n",
    "  VALUES ?pathwayID { \"R-HSA-177929\" }\n",
    "  ?pathwayIDxref bp3:id ?pathwayID .\n",
    "  ?pathwayIDxref rdf:type bp3:UnificationXref .\n",
    "  ?pathwayStart bp3:xref ?pathwayIDxref .\n",
    "  ?pathwayStart rdf:type bp3:Pathway .\n",
    "  VALUES ?pathway_compo_types { bp3:Pathway bp3:BiochemicalReaction }\n",
    "  \n",
    "  # DIRECT COMPONENTS\n",
    "  ?pathwayStart bp3:pathwayComponent ?direct_component .\n",
    "  ?pathwayStart ?pathway_component ?direct_component .\n",
    "  ?direct_component rdf:type ?pathway_compo_types .\n",
    "  \n",
    "  # RELATIONS OF PATHWAY COMPONENTS\n",
    "  VALUES ?relations_of_interest { bp3:left bp3:right bp3:displayName bp3:conversionDirection bp3:pathwayOrder bp3:pathwayComponent bp3:participantStoichiometry }\n",
    "  ?direct_component ?relations_of_interest ?linked_to_direct_compo .\n",
    "  \n",
    "  ?linked_to_direct_compo rdf:type bp3:BiochemicalReaction .\n",
    "  VALUES ?relations_br {bp3:left bp3:right bp3:displayName bp3:conversionDirection bp3:bp3:participantStoichiometry }\n",
    "  ?linked_to_direct_compo ?relations_br ?description_br .\n",
    "}\n",
    "\"\"\"\n",
    "\n",
    "sparql = SPARQLWrapper(endpointURL_reactome_standalone_biopax)\n",
    "sparql.setQuery(prefixes+query_br_linked_to_ps)\n",
    "df = save_for_cytoscape(sparql, prefixes, \"../Results/7_linked_to_br_of_direct_pathway.csv\", format='csv')\n",
    "preview_network_data(df)"
   ]
  },
  {
   "cell_type": "markdown",
   "metadata": {},
   "source": [
    "## 8 - Description of step processes of pathway steps linked to subpathways"
   ]
  },
  {
   "cell_type": "code",
   "execution_count": 19,
   "metadata": {},
   "outputs": [
    {
     "name": "stdout",
     "output_type": "stream",
     "text": [
      "Saved 65 interactions to ../Results/8_processes_of_pathway_steps_linked_to_subpathways.csv\n",
      "\n",
      "Preview of network data (65 total interactions):\n",
      "\n",
      "First 5 interactions:\n",
      "                     Source      Interaction                            Target\n",
      "0  reactome:PathwayStep6867  bp3:stepProcess            reactome:Catalysis2366\n",
      "1  reactome:PathwayStep6835  bp3:stepProcess            reactome:Catalysis2351\n",
      "2  reactome:PathwayStep6872  bp3:stepProcess            reactome:Catalysis2369\n",
      "3  reactome:PathwayStep6851  bp3:stepProcess  reactome:BiochemicalReaction5468\n",
      "4  reactome:PathwayStep6858  bp3:stepProcess            reactome:Catalysis2363\n",
      "\n",
      "Network statistics:\n",
      "Number of unique nodes: 108\n",
      "Number of interactions: 65\n",
      "Unique interaction types:\n",
      "  - bp3:stepProcess\n"
     ]
    },
    {
     "name": "stderr",
     "output_type": "stream",
     "text": [
      "15:03:41 INFO  Fuseki          :: [20] GET http://localhost:3030/reactome_standalone_biopax/query?query=%0APREFIX+rdf%3A+%3Chttp%3A//www.w3.org/1999/02/22-rdf-syntax-ns%23%3E%0APREFIX+rdfs%3A%3Chttp%3A//www.w3.org/2000/01/rdf-schema%23%3E%0APREFIX+owl%3A+%3Chttp%3A//www.w3.org/2002/07/owl%23%3E%0APREFIX+xsd%3A+%3Chttp%3A//www.w3.org/2001/XMLSchema%23%3E%0APREFIX+dc%3A+%3Chttp%3A//purl.org/dc/elements/1.1/%3E%0APREFIX+dcterms%3A+%3Chttp%3A//purl.org/dc/terms/%3E%0A%0APREFIX+chebi%3A+%3Chttp%3A//purl.obolibrary.org/obo/chebi/%3E%0APREFIX+chebidb%3A+%3Chttp%3A//purl.obolibrary.org/obo/CHEBI_%3E%0APREFIX+chebirel%3A+%3Chttp%3A//purl.obolibrary.org/obo/CHEBI%23%3E%0APREFIX+oboInOwl%3A+%3Chttp%3A//www.geneontology.org/formats/oboInOwl%23%3E%0A%0APREFIX+bp3%3A+%3Chttp%3A//www.biopax.org/release/biopax-level3.owl%23%3E%0A%0A%23+Homo_sapiens-20170221.owl%0A%23PREFIX+reactome%3A+%3Chttp%3A//www.reactome.org/biopax/59/48887%23%3E+%0A%23%0A%23+Homo_sapiens-20210608.owl%0A%23PREFIX+reactome%3A+%3Chttp%3A//www.reactome.org/biopax/77/48887%23%3E%0A%23%0A%23+Homo_sapiens-20220614.owl%0A%23PREFIX+reactome%3A+%3Chttp%3A//www.reactome.org/biopax/81/48887%23%3E%0A%23%0A%23+Homo_sapiens-20221130.owl%0A%23PREFIX+reactome%3A+%3Chttp%3A//www.reactome.org/biopax/83/48887%23%3E%0A%0APREFIX+reactome%3A+%3Chttp%3A//www.reactome.org/biopax/77/48887%23%3E%0A+%0ACONSTRUCT+%7B%0A++%3FpathwayStep+bp3%3AstepProcess+%3FstepProcess%0A%7D%0AWHERE+%7B%0A++VALUES+%3FpathwayID+%7B+%22R-HSA-177929%22+%7D%0A++%3FpathwayIDxref+bp3%3Aid+%3FpathwayID+.%0A++%3FpathwayIDxref+rdf%3Atype+bp3%3AUnificationXref+.%0A++%3FpathwayStart+bp3%3Axref+%3FpathwayIDxref+.%0A++%3FpathwayStart+rdf%3Atype+bp3%3APathway+.%0A%0A++%3FpathwayStart+bp3%3ApathwayComponent+%3FpathwayCompo+.%0A++%3FpathwayCompo+bp3%3ApathwayOrder+%3FpathwayStep+.%0A++%3FpathwayStep+bp3%3AstepProcess+%3FstepProcess+.%0A%7D%0A&format=turtle&output=turtle&results=turtle\n",
      "15:03:41 INFO  Fuseki          :: [20] Query =  PREFIX rdf: <http://www.w3.org/1999/02/22-rdf-syntax-ns#> PREFIX rdfs:<http://www.w3.org/2000/01/rdf-schema#> PREFIX owl: <http://www.w3.org/2002/07/owl#> PREFIX xsd: <http://www.w3.org/2001/XMLSchema#> PREFIX dc: <http://purl.org/dc/elements/1.1/> PREFIX dcterms: <http://purl.org/dc/terms/>  PREFIX chebi: <http://purl.obolibrary.org/obo/chebi/> PREFIX chebidb: <http://purl.obolibrary.org/obo/CHEBI_> PREFIX chebirel: <http://purl.obolibrary.org/obo/CHEBI#> PREFIX oboInOwl: <http://www.geneontology.org/formats/oboInOwl#>  PREFIX bp3: <http://www.biopax.org/release/biopax-level3.owl#>  # Homo_sapiens-20170221.owl #PREFIX reactome: <http://www.reactome.org/biopax/59/48887#>  # # Homo_sapiens-20210608.owl #PREFIX reactome: <http://www.reactome.org/biopax/77/48887#> # # Homo_sapiens-20220614.owl #PREFIX reactome: <http://www.reactome.org/biopax/81/48887#> # # Homo_sapiens-20221130.owl #PREFIX reactome: <http://www.reactome.org/biopax/83/48887#>  PREFIX reactome: <http://www.reactome.org/biopax/77/48887#>   CONSTRUCT {   ?pathwayStep bp3:stepProcess ?stepProcess } WHERE {   VALUES ?pathwayID { \"R-HSA-177929\" }   ?pathwayIDxref bp3:id ?pathwayID .   ?pathwayIDxref rdf:type bp3:UnificationXref .   ?pathwayStart bp3:xref ?pathwayIDxref .   ?pathwayStart rdf:type bp3:Pathway .    ?pathwayStart bp3:pathwayComponent ?pathwayCompo .   ?pathwayCompo bp3:pathwayOrder ?pathwayStep .   ?pathwayStep bp3:stepProcess ?stepProcess . } \n",
      "15:03:41 INFO  Fuseki          :: [20] 200 OK (14 ms)\n"
     ]
    }
   ],
   "source": [
    "query_step_processes_subpathways = \"\"\" \n",
    "CONSTRUCT {\n",
    "  ?pathwayStep bp3:stepProcess ?stepProcess\n",
    "}\n",
    "WHERE {\n",
    "  VALUES ?pathwayID { \"R-HSA-177929\" }\n",
    "  ?pathwayIDxref bp3:id ?pathwayID .\n",
    "  ?pathwayIDxref rdf:type bp3:UnificationXref .\n",
    "  ?pathwayStart bp3:xref ?pathwayIDxref .\n",
    "  ?pathwayStart rdf:type bp3:Pathway .\n",
    "\n",
    "  ?pathwayStart bp3:pathwayComponent ?pathwayCompo .\n",
    "  ?pathwayCompo bp3:pathwayOrder ?pathwayStep .\n",
    "  ?pathwayStep bp3:stepProcess ?stepProcess .\n",
    "}\n",
    "\"\"\"\n",
    "\n",
    "sparql = SPARQLWrapper(endpointURL_reactome_standalone_biopax)\n",
    "sparql.setQuery(prefixes+query_step_processes_subpathways)\n",
    "df = save_for_cytoscape(sparql, prefixes, \"../Results/8_processes_of_pathway_steps_linked_to_subpathways.csv\", format='csv')\n",
    "preview_network_data(df)"
   ]
  },
  {
   "cell_type": "markdown",
   "metadata": {},
   "source": [
    "## 9 - Describe the processes linked to pathway steps linked to direct subpathways"
   ]
  },
  {
   "cell_type": "code",
   "execution_count": 20,
   "metadata": {},
   "outputs": [
    {
     "name": "stdout",
     "output_type": "stream",
     "text": [
      "Saved 261 interactions to ../Results/9_description_processes_pf_ps_linked_to_subpathways.csv\n",
      "\n",
      "Preview of network data (261 total interactions):\n",
      "\n",
      "First 5 interactions:\n",
      "                             Source                   Interaction  \\\n",
      "0  reactome:BiochemicalReaction5481               bp3:displayName   \n",
      "1  reactome:BiochemicalReaction5478  bp3:participantStoichiometry   \n",
      "2            reactome:Catalysis2362                bp3:controller   \n",
      "3            reactome:Catalysis2356                bp3:controller   \n",
      "4  reactome:BiochemicalReaction5447                      bp3:left   \n",
      "\n",
      "                                              Target  \n",
      "0  Assembly of EGFR complex in clathrin-coated ve...  \n",
      "1                        reactome:Stoichiometry18978  \n",
      "2                               reactome:Complex7562  \n",
      "3                               reactome:Complex7547  \n",
      "4                               reactome:Complex3916  \n",
      "\n",
      "Network statistics:\n",
      "Number of unique nodes: 204\n",
      "Number of interactions: 261\n",
      "Unique interaction types:\n",
      "  - bp3:controlled\n",
      "  - bp3:controller\n",
      "  - bp3:displayName\n",
      "  - bp3:left\n",
      "  - bp3:participantStoichiometry\n",
      "  - bp3:right\n"
     ]
    },
    {
     "name": "stderr",
     "output_type": "stream",
     "text": [
      "15:04:04 INFO  Fuseki          :: [21] GET http://localhost:3030/reactome_standalone_biopax/query?query=%0APREFIX+rdf%3A+%3Chttp%3A//www.w3.org/1999/02/22-rdf-syntax-ns%23%3E%0APREFIX+rdfs%3A%3Chttp%3A//www.w3.org/2000/01/rdf-schema%23%3E%0APREFIX+owl%3A+%3Chttp%3A//www.w3.org/2002/07/owl%23%3E%0APREFIX+xsd%3A+%3Chttp%3A//www.w3.org/2001/XMLSchema%23%3E%0APREFIX+dc%3A+%3Chttp%3A//purl.org/dc/elements/1.1/%3E%0APREFIX+dcterms%3A+%3Chttp%3A//purl.org/dc/terms/%3E%0A%0APREFIX+chebi%3A+%3Chttp%3A//purl.obolibrary.org/obo/chebi/%3E%0APREFIX+chebidb%3A+%3Chttp%3A//purl.obolibrary.org/obo/CHEBI_%3E%0APREFIX+chebirel%3A+%3Chttp%3A//purl.obolibrary.org/obo/CHEBI%23%3E%0APREFIX+oboInOwl%3A+%3Chttp%3A//www.geneontology.org/formats/oboInOwl%23%3E%0A%0APREFIX+bp3%3A+%3Chttp%3A//www.biopax.org/release/biopax-level3.owl%23%3E%0A%0A%23+Homo_sapiens-20170221.owl%0A%23PREFIX+reactome%3A+%3Chttp%3A//www.reactome.org/biopax/59/48887%23%3E+%0A%23%0A%23+Homo_sapiens-20210608.owl%0A%23PREFIX+reactome%3A+%3Chttp%3A//www.reactome.org/biopax/77/48887%23%3E%0A%23%0A%23+Homo_sapiens-20220614.owl%0A%23PREFIX+reactome%3A+%3Chttp%3A//www.reactome.org/biopax/81/48887%23%3E%0A%23%0A%23+Homo_sapiens-20221130.owl%0A%23PREFIX+reactome%3A+%3Chttp%3A//www.reactome.org/biopax/83/48887%23%3E%0A%0APREFIX+reactome%3A+%3Chttp%3A//www.reactome.org/biopax/77/48887%23%3E%0A++%0ACONSTRUCT+%7B%0A++%3FstepProcess+%3Fproperties_of_interest+%3Fdescription_step_process%0A%7D%0AWHERE+%7B%0A++VALUES+%3FpathwayID+%7B+%22R-HSA-177929%22+%7D%0A++%3FpathwayIDxref+bp3%3Aid+%3FpathwayID+.%0A++%3FpathwayIDxref+rdf%3Atype+bp3%3AUnificationXref+.%0A++%3FpathwayStart+bp3%3Axref+%3FpathwayIDxref+.%0A++%3FpathwayStart+rdf%3Atype+bp3%3APathway+.%0A++VALUES+%3Fproperties_of_interest+%7B+bp3%3Aright+bp3%3Aleft+bp3%3AparticipantStoichiometry+bp3%3Acontrolled+bp3%3Acontroller+bp3%3AdisplayName%7D%0A%0A++%3FpathwayStart+bp3%3ApathwayComponent+%3FpathwayCompo+.%0A++%3FpathwayCompo+bp3%3ApathwayOrder+%3FpathwayStep+.%0A++%3FpathwayStep+bp3%3AstepProcess+%3FstepProcess+.%0A++%3FstepProcess+%3Fproperties_of_interest+%3Fdescription_step_process+.%0A%7D%0A&format=turtle&output=turtle&results=turtle\n",
      "15:04:04 INFO  Fuseki          :: [21] Query =  PREFIX rdf: <http://www.w3.org/1999/02/22-rdf-syntax-ns#> PREFIX rdfs:<http://www.w3.org/2000/01/rdf-schema#> PREFIX owl: <http://www.w3.org/2002/07/owl#> PREFIX xsd: <http://www.w3.org/2001/XMLSchema#> PREFIX dc: <http://purl.org/dc/elements/1.1/> PREFIX dcterms: <http://purl.org/dc/terms/>  PREFIX chebi: <http://purl.obolibrary.org/obo/chebi/> PREFIX chebidb: <http://purl.obolibrary.org/obo/CHEBI_> PREFIX chebirel: <http://purl.obolibrary.org/obo/CHEBI#> PREFIX oboInOwl: <http://www.geneontology.org/formats/oboInOwl#>  PREFIX bp3: <http://www.biopax.org/release/biopax-level3.owl#>  # Homo_sapiens-20170221.owl #PREFIX reactome: <http://www.reactome.org/biopax/59/48887#>  # # Homo_sapiens-20210608.owl #PREFIX reactome: <http://www.reactome.org/biopax/77/48887#> # # Homo_sapiens-20220614.owl #PREFIX reactome: <http://www.reactome.org/biopax/81/48887#> # # Homo_sapiens-20221130.owl #PREFIX reactome: <http://www.reactome.org/biopax/83/48887#>  PREFIX reactome: <http://www.reactome.org/biopax/77/48887#>    CONSTRUCT {   ?stepProcess ?properties_of_interest ?description_step_process } WHERE {   VALUES ?pathwayID { \"R-HSA-177929\" }   ?pathwayIDxref bp3:id ?pathwayID .   ?pathwayIDxref rdf:type bp3:UnificationXref .   ?pathwayStart bp3:xref ?pathwayIDxref .   ?pathwayStart rdf:type bp3:Pathway .   VALUES ?properties_of_interest { bp3:right bp3:left bp3:participantStoichiometry bp3:controlled bp3:controller bp3:displayName}    ?pathwayStart bp3:pathwayComponent ?pathwayCompo .   ?pathwayCompo bp3:pathwayOrder ?pathwayStep .   ?pathwayStep bp3:stepProcess ?stepProcess .   ?stepProcess ?properties_of_interest ?description_step_process . } \n",
      "15:04:04 INFO  Fuseki          :: [21] 200 OK (47 ms)\n"
     ]
    }
   ],
   "source": [
    "query_step_processes_subpathways_description = \"\"\"  \n",
    "CONSTRUCT {\n",
    "  ?stepProcess ?properties_of_interest ?description_step_process\n",
    "}\n",
    "WHERE {\n",
    "  VALUES ?pathwayID { \"R-HSA-177929\" }\n",
    "  ?pathwayIDxref bp3:id ?pathwayID .\n",
    "  ?pathwayIDxref rdf:type bp3:UnificationXref .\n",
    "  ?pathwayStart bp3:xref ?pathwayIDxref .\n",
    "  ?pathwayStart rdf:type bp3:Pathway .\n",
    "  VALUES ?properties_of_interest { bp3:right bp3:left bp3:participantStoichiometry bp3:controlled bp3:controller bp3:displayName}\n",
    "\n",
    "  ?pathwayStart bp3:pathwayComponent ?pathwayCompo .\n",
    "  ?pathwayCompo bp3:pathwayOrder ?pathwayStep .\n",
    "  ?pathwayStep bp3:stepProcess ?stepProcess .\n",
    "  ?stepProcess ?properties_of_interest ?description_step_process .\n",
    "}\n",
    "\"\"\"\n",
    "\n",
    "sparql = SPARQLWrapper(endpointURL_reactome_standalone_biopax)\n",
    "sparql.setQuery(prefixes+query_step_processes_subpathways_description)\n",
    "df = save_for_cytoscape(sparql, prefixes, \"../Results/9_description_processes_pf_ps_linked_to_subpathways.csv\", format='csv')\n",
    "preview_network_data(df)"
   ]
  },
  {
   "cell_type": "markdown",
   "metadata": {},
   "source": [
    "## 10 - Get next steps between pathway steps linked to direct subpathways"
   ]
  },
  {
   "cell_type": "code",
   "execution_count": 21,
   "metadata": {},
   "outputs": [
    {
     "name": "stdout",
     "output_type": "stream",
     "text": [
      "Saved 49 interactions to ../Results/10_next_steps_between_PS_linked_to_subpathways.csv\n",
      "\n",
      "Preview of network data (49 total interactions):\n",
      "\n",
      "First 5 interactions:\n",
      "                     Source   Interaction                     Target\n",
      "0  reactome:PathwayStep6852  bp3:nextStep   reactome:PathwayStep6865\n",
      "1  reactome:PathwayStep6830  bp3:nextStep   reactome:PathwayStep7272\n",
      "2  reactome:PathwayStep6841  bp3:nextStep   reactome:PathwayStep6840\n",
      "3  reactome:PathwayStep6845  bp3:nextStep   reactome:PathwayStep6847\n",
      "4  reactome:PathwayStep6855  bp3:nextStep  reactome:PathwayStep13151\n",
      "\n",
      "Network statistics:\n",
      "Number of unique nodes: 49\n",
      "Number of interactions: 49\n",
      "Unique interaction types:\n",
      "  - bp3:nextStep\n"
     ]
    },
    {
     "name": "stderr",
     "output_type": "stream",
     "text": [
      "15:04:45 INFO  Fuseki          :: [22] GET http://localhost:3030/reactome_standalone_biopax/query?query=%0APREFIX+rdf%3A+%3Chttp%3A//www.w3.org/1999/02/22-rdf-syntax-ns%23%3E%0APREFIX+rdfs%3A%3Chttp%3A//www.w3.org/2000/01/rdf-schema%23%3E%0APREFIX+owl%3A+%3Chttp%3A//www.w3.org/2002/07/owl%23%3E%0APREFIX+xsd%3A+%3Chttp%3A//www.w3.org/2001/XMLSchema%23%3E%0APREFIX+dc%3A+%3Chttp%3A//purl.org/dc/elements/1.1/%3E%0APREFIX+dcterms%3A+%3Chttp%3A//purl.org/dc/terms/%3E%0A%0APREFIX+chebi%3A+%3Chttp%3A//purl.obolibrary.org/obo/chebi/%3E%0APREFIX+chebidb%3A+%3Chttp%3A//purl.obolibrary.org/obo/CHEBI_%3E%0APREFIX+chebirel%3A+%3Chttp%3A//purl.obolibrary.org/obo/CHEBI%23%3E%0APREFIX+oboInOwl%3A+%3Chttp%3A//www.geneontology.org/formats/oboInOwl%23%3E%0A%0APREFIX+bp3%3A+%3Chttp%3A//www.biopax.org/release/biopax-level3.owl%23%3E%0A%0A%23+Homo_sapiens-20170221.owl%0A%23PREFIX+reactome%3A+%3Chttp%3A//www.reactome.org/biopax/59/48887%23%3E+%0A%23%0A%23+Homo_sapiens-20210608.owl%0A%23PREFIX+reactome%3A+%3Chttp%3A//www.reactome.org/biopax/77/48887%23%3E%0A%23%0A%23+Homo_sapiens-20220614.owl%0A%23PREFIX+reactome%3A+%3Chttp%3A//www.reactome.org/biopax/81/48887%23%3E%0A%23%0A%23+Homo_sapiens-20221130.owl%0A%23PREFIX+reactome%3A+%3Chttp%3A//www.reactome.org/biopax/83/48887%23%3E%0A%0APREFIX+reactome%3A+%3Chttp%3A//www.reactome.org/biopax/77/48887%23%3E%0A+%0ACONSTRUCT+%7B%0A++%3FpathwayStep+bp3%3AnextStep+%3FnextStep%0A%7D%0AWHERE+%7B%0A++VALUES+%3FpathwayID+%7B+%22R-HSA-177929%22+%7D%0A++%3FpathwayIDxref+bp3%3Aid+%3FpathwayID+.%0A++%3FpathwayIDxref+rdf%3Atype+bp3%3AUnificationXref+.%0A++%3FpathwayStart+bp3%3Axref+%3FpathwayIDxref+.%0A++%3FpathwayStart+rdf%3Atype+bp3%3APathway+.%0A++VALUES+%3Fproperties_of_interest+%7B+bp3%3Aright+bp3%3Aleft+bp3%3AparticipantStoichiometry+bp3%3Acontrolled+bp3%3Acontroller+bp3%3AdisplayName%7D%0A%0A++%3FpathwayStart+bp3%3ApathwayComponent+%3FpathwayCompo+.%0A++%3FpathwayCompo+bp3%3ApathwayOrder+%3FpathwayStep+.%0A++%3FpathwayStep+bp3%3AnextStep+%3FnextStep+.%0A%7D%0A&format=turtle&output=turtle&results=turtle\n",
      "15:04:45 INFO  Fuseki          :: [22] Query =  PREFIX rdf: <http://www.w3.org/1999/02/22-rdf-syntax-ns#> PREFIX rdfs:<http://www.w3.org/2000/01/rdf-schema#> PREFIX owl: <http://www.w3.org/2002/07/owl#> PREFIX xsd: <http://www.w3.org/2001/XMLSchema#> PREFIX dc: <http://purl.org/dc/elements/1.1/> PREFIX dcterms: <http://purl.org/dc/terms/>  PREFIX chebi: <http://purl.obolibrary.org/obo/chebi/> PREFIX chebidb: <http://purl.obolibrary.org/obo/CHEBI_> PREFIX chebirel: <http://purl.obolibrary.org/obo/CHEBI#> PREFIX oboInOwl: <http://www.geneontology.org/formats/oboInOwl#>  PREFIX bp3: <http://www.biopax.org/release/biopax-level3.owl#>  # Homo_sapiens-20170221.owl #PREFIX reactome: <http://www.reactome.org/biopax/59/48887#>  # # Homo_sapiens-20210608.owl #PREFIX reactome: <http://www.reactome.org/biopax/77/48887#> # # Homo_sapiens-20220614.owl #PREFIX reactome: <http://www.reactome.org/biopax/81/48887#> # # Homo_sapiens-20221130.owl #PREFIX reactome: <http://www.reactome.org/biopax/83/48887#>  PREFIX reactome: <http://www.reactome.org/biopax/77/48887#>   CONSTRUCT {   ?pathwayStep bp3:nextStep ?nextStep } WHERE {   VALUES ?pathwayID { \"R-HSA-177929\" }   ?pathwayIDxref bp3:id ?pathwayID .   ?pathwayIDxref rdf:type bp3:UnificationXref .   ?pathwayStart bp3:xref ?pathwayIDxref .   ?pathwayStart rdf:type bp3:Pathway .   VALUES ?properties_of_interest { bp3:right bp3:left bp3:participantStoichiometry bp3:controlled bp3:controller bp3:displayName}    ?pathwayStart bp3:pathwayComponent ?pathwayCompo .   ?pathwayCompo bp3:pathwayOrder ?pathwayStep .   ?pathwayStep bp3:nextStep ?nextStep . } \n",
      "15:04:45 INFO  Fuseki          :: [22] 200 OK (31 ms)\n"
     ]
    }
   ],
   "source": [
    "query_next_steps = \"\"\" \n",
    "CONSTRUCT {\n",
    "  ?pathwayStep bp3:nextStep ?nextStep\n",
    "}\n",
    "WHERE {\n",
    "  VALUES ?pathwayID { \"R-HSA-177929\" }\n",
    "  ?pathwayIDxref bp3:id ?pathwayID .\n",
    "  ?pathwayIDxref rdf:type bp3:UnificationXref .\n",
    "  ?pathwayStart bp3:xref ?pathwayIDxref .\n",
    "  ?pathwayStart rdf:type bp3:Pathway .\n",
    "  VALUES ?properties_of_interest { bp3:right bp3:left bp3:participantStoichiometry bp3:controlled bp3:controller bp3:displayName}\n",
    "\n",
    "  ?pathwayStart bp3:pathwayComponent ?pathwayCompo .\n",
    "  ?pathwayCompo bp3:pathwayOrder ?pathwayStep .\n",
    "  ?pathwayStep bp3:nextStep ?nextStep .\n",
    "}\n",
    "\"\"\"\n",
    "\n",
    "sparql = SPARQLWrapper(endpointURL_reactome_standalone_biopax)\n",
    "sparql.setQuery(prefixes+query_next_steps)\n",
    "df = save_for_cytoscape(sparql, prefixes, \"../Results/10_next_steps_between_PS_linked_to_subpathways.csv\", format='csv')\n",
    "preview_network_data(df)"
   ]
  },
  {
   "cell_type": "code",
   "execution_count": 24,
   "metadata": {},
   "outputs": [
    {
     "name": "stdout",
     "output_type": "stream",
     "text": [
      "                            0                     1  \\\n",
      "0        reactome:Pathway1389  bp3:pathwayComponent   \n",
      "1        reactome:Pathway1389  bp3:pathwayComponent   \n",
      "2        reactome:Pathway1389  bp3:pathwayComponent   \n",
      "3        reactome:Pathway1389  bp3:pathwayComponent   \n",
      "4        reactome:Pathway1389  bp3:pathwayComponent   \n",
      "..                        ...                   ...   \n",
      "948  reactome:PathwayStep6863          bp3:nextStep   \n",
      "949  reactome:PathwayStep6871          bp3:nextStep   \n",
      "950  reactome:PathwayStep6845          bp3:nextStep   \n",
      "951  reactome:PathwayStep6852          bp3:nextStep   \n",
      "952  reactome:PathwayStep6845          bp3:nextStep   \n",
      "\n",
      "                                    2  \n",
      "0    reactome:BiochemicalReaction5443  \n",
      "1                reactome:Pathway1390  \n",
      "2    reactome:BiochemicalReaction5442  \n",
      "3    reactome:BiochemicalReaction5440  \n",
      "4                reactome:Pathway1393  \n",
      "..                                ...  \n",
      "948          reactome:PathwayStep6857  \n",
      "949          reactome:PathwayStep6872  \n",
      "950          reactome:PathwayStep6848  \n",
      "951          reactome:PathwayStep6854  \n",
      "952          reactome:PathwayStep6849  \n",
      "\n",
      "[953 rows x 3 columns]\n"
     ]
    }
   ],
   "source": [
    "q1 = pd.read_csv(\"../Results/1_direct_pathway_compo.csv\", header=None, sep=\",\")\n",
    "q1 = q1.drop(q1.index[0]).reset_index(drop=True)\n",
    "q2 = pd.read_csv(\"../Results/2_direct_pathway_compo_br.csv\", header=None, sep=\",\")\n",
    "q2 = q2.drop(q2.index[0]).reset_index(drop=True)\n",
    "q3 = pd.read_csv(\"../Results/3_direct_pathway_compo_path.csv\", header=None, sep=\",\")\n",
    "q3 = q3.drop(q3.index[0]).reset_index(drop=True)\n",
    "q4 = pd.read_csv(\"../Results/4_direct_pathway_steps.csv\", header=None, sep=\",\")\n",
    "q4 = q4.drop(q4.index[0]).reset_index(drop=True)\n",
    "q5 = pd.read_csv(\"../Results/5_direct_pathway_steps_next_steps_and_step_process.csv\", header=None, sep=\",\")\n",
    "q5 = q5.drop(q5.index[0]).reset_index(drop=True)\n",
    "q6 = pd.read_csv(\"../Results/6_pathway_steps_steps_processes.csv\", header=None, sep=\",\")\n",
    "q6 = q6.drop(q6.index[0]).reset_index(drop=True)\n",
    "q7 = pd.read_csv(\"../Results/7_linked_to_br_of_direct_pathway.csv\", header=None, sep=\",\")\n",
    "q7 = q7.drop(q7.index[0]).reset_index(drop=True)\n",
    "q8 = pd.read_csv(\"../Results/8_processes_of_pathway_steps_linked_to_subpathways.csv\", header=None, sep=\",\")\n",
    "q8 = q8.drop(q8.index[0]).reset_index(drop=True)\n",
    "q9 = pd.read_csv(\"../Results/9_description_processes_pf_ps_linked_to_subpathways.csv\", header=None, sep=\",\")\n",
    "q9 = q9.drop(q9.index[0]).reset_index(drop=True)\n",
    "q10 = pd.read_csv(\"../Results/10_next_steps_between_PS_linked_to_subpathways.csv\", header=None, sep=\",\")\n",
    "q10 = q10.drop(q10.index[0]).reset_index(drop=True)\n",
    "\n",
    "\n",
    "concat_df = pd.concat([q1, q2, q3, q4, q5, q6, q7, q8, q9, q10], ignore_index=True)\n",
    "\n",
    "concat_df.to_csv(\"../Results/Final_pathway_egf_completed.tsv\", sep=\"\\t\", header=None, index=False)\n",
    "print(concat_df)"
   ]
  }
 ],
 "metadata": {
  "kernelspec": {
   "display_name": "biopax_sparql_queries",
   "language": "python",
   "name": "python3"
  },
  "language_info": {
   "codemirror_mode": {
    "name": "ipython",
    "version": 3
   },
   "file_extension": ".py",
   "mimetype": "text/x-python",
   "name": "python",
   "nbconvert_exporter": "python",
   "pygments_lexer": "ipython3",
   "version": "3.12.4"
  }
 },
 "nbformat": 4,
 "nbformat_minor": 2
}
