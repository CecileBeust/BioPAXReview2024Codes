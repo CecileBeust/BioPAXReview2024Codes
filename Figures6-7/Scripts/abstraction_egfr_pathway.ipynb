{
 "cells": [
  {
   "cell_type": "markdown",
   "metadata": {},
   "source": [
    "# Extraction of the \"Signaling by EGFR\" pathway\n",
    "\n",
    "## 1 - Extract direct pathway components"
   ]
  },
  {
   "cell_type": "code",
   "execution_count": null,
   "metadata": {},
   "outputs": [],
   "source": [
    "query_extract_pathway_compo = \"\"\" \n",
    "CONSTRUCT {\n",
    "  ?pathway bp3:pathwayComponent ?pathwayCompo\n",
    "}\n",
    "WHERE {\n",
    "  VALUES ?pathwayID { \"R-HSA-177929\" }\n",
    "  ?pathwayIDxref bp3:id ?pathwayID .\n",
    "  ?pathwayIDxref rdf:type bp3:UnificationXref .\n",
    "  ?pathwayStart bp3:xref ?pathwayIDxref .\n",
    "  ?pathwayStart rdf:type bp3:Pathway .\n",
    "  \n",
    "  ?pathwayStart bp3:pathwayComponent ?direct_component .\n",
    "}\n",
    "\"\"\""
   ]
  },
  {
   "cell_type": "markdown",
   "metadata": {},
   "source": [
    "## 2 - Description of direct pathway components of type BiochemicalReaction"
   ]
  },
  {
   "cell_type": "code",
   "execution_count": null,
   "metadata": {},
   "outputs": [],
   "source": [
    "query_direct_br = \"\"\" \n",
    "CONSTRUCT {\n",
    "  ?direct_component ?relations_pathway_compo_br ?linked_pathway_compo_br\n",
    "}\n",
    "WHERE {\n",
    "  VALUES ?pathwayID { \"R-HSA-177929\" }\n",
    "  ?pathwayIDxref bp3:id ?pathwayID .\n",
    "  ?pathwayIDxref rdf:type bp3:UnificationXref .\n",
    "  ?pathwayStart bp3:xref ?pathwayIDxref .\n",
    "  ?pathwayStart rdf:type bp3:Pathway .\n",
    "  \n",
    "  # Pathway components\n",
    "  ?pathwayStart bp3:pathwayComponent ?direct_component .\n",
    "  ?direct_component rdf:type bp3:BiochemicalReaction .\n",
    "  VALUES ?relations_pathway_compo_br { bp3:displayName bp3:left bp3:right bp3:conversionDirection bp3:participantStoichiometry}\n",
    "  ?direct_component ?relations_pathway_compo_br ?linked_pathway_compo_br .\n",
    "}\n",
    "\"\"\" "
   ]
  },
  {
   "cell_type": "markdown",
   "metadata": {},
   "source": [
    "## 3 - Description of direct pathway components of type Pathway"
   ]
  },
  {
   "cell_type": "code",
   "execution_count": null,
   "metadata": {},
   "outputs": [],
   "source": [
    "query_direct_pathway = \"\"\" \n",
    "CONSTRUCT {\n",
    "  ?direct_component ?relations_pathway_compo_path ?linked_pathway_compo_path\n",
    "}\n",
    "WHERE {\n",
    "  VALUES ?pathwayID { \"R-HSA-177929\" }\n",
    "  ?pathwayIDxref bp3:id ?pathwayID .\n",
    "  ?pathwayIDxref rdf:type bp3:UnificationXref .\n",
    "  ?pathwayStart bp3:xref ?pathwayIDxref .\n",
    "  ?pathwayStart rdf:type bp3:Pathway .\n",
    "  \n",
    "  # Pathway components\n",
    "  ?pathwayStart bp3:pathwayComponent ?direct_component .\n",
    "  ?pathwayStart ?pathway_component ?direct_component .\n",
    "  ?direct_component rdf:type bp3:Pathway .\n",
    "  VALUES ?relations_pathway_compo_path { bp3:displayName bp3:pathwayComponent bp3:pathwayOrder }\n",
    "  ?direct_component ?relations_pathway_compo_path ?linked_pathway_compo_path .\n",
    "}\n",
    "\"\"\""
   ]
  },
  {
   "cell_type": "markdown",
   "metadata": {},
   "source": [
    "## 4 - Extraction of direct pathway steps"
   ]
  },
  {
   "cell_type": "code",
   "execution_count": null,
   "metadata": {},
   "outputs": [],
   "source": [
    "query_direct_ps = \"\"\" \n",
    "CONSTRUCT {\n",
    "  ?pathwayStart bp3:pathwayOrder ?direct_ps\n",
    "}\n",
    "WHERE {\n",
    "  VALUES ?pathwayID { \"R-HSA-177929\" }\n",
    "  ?pathwayIDxref bp3:id ?pathwayID .\n",
    "  ?pathwayIDxref rdf:type bp3:UnificationXref .\n",
    "  ?pathwayStart bp3:xref ?pathwayIDxref .\n",
    "  ?pathwayStart rdf:type bp3:Pathway .\n",
    "  \n",
    "  # DIRECT PATHWAY STEPS\n",
    "  ?pathwayStart bp3:pathwayOrder ?direct_ps .\n",
    "  ?direct_ps rdf:type bp3:PathwayStep .\n",
    "}\n",
    "\"\"\""
   ]
  },
  {
   "cell_type": "markdown",
   "metadata": {},
   "source": [
    "## 5 - Description of direct pathway steps "
   ]
  },
  {
   "cell_type": "code",
   "execution_count": null,
   "metadata": {},
   "outputs": [],
   "source": [
    "query_description_direct_ps = \"\"\" \n",
    "CONSTRUCT {\n",
    "  ?direct_ps ?relations_of_interest ?linked_to_ps\n",
    "}\n",
    "WHERE {\n",
    "  VALUES ?pathwayID { \"R-HSA-177929\" }\n",
    "  ?pathwayIDxref bp3:id ?pathwayID .\n",
    "  ?pathwayIDxref rdf:type bp3:UnificationXref .\n",
    "  ?pathwayStart bp3:xref ?pathwayIDxref .\n",
    "  ?pathwayStart rdf:type bp3:Pathway .\n",
    "  \n",
    "  # DIRECT PATHWAY STEPS\n",
    "  ?pathwayStart bp3:pathwayOrder ?direct_ps .\n",
    "  ?direct_ps rdf:type bp3:PathwayStep .\n",
    "  \n",
    "  # RELATIONS OF PATHWAY STEPS\n",
    "  VALUES ?relations_of_interest { bp3:stepProcess bp3:nextStep }\n",
    "  ?direct_ps ?relations_of_interest ?linked_to_ps .\n",
    "}\n",
    "\"\"\""
   ]
  },
  {
   "cell_type": "markdown",
   "metadata": {},
   "source": [
    "## 6 - Description of step processes linked to pathway steps"
   ]
  },
  {
   "cell_type": "code",
   "execution_count": null,
   "metadata": {},
   "outputs": [],
   "source": [
    "query_step_processes = \"\"\" \n",
    "CONSTRUCT {\n",
    "  ?linked_to_ps ?relations_of_interest_starting_from_step_process ?step_process_relations\n",
    "}\n",
    "WHERE {\n",
    "  VALUES ?pathwayID { \"R-HSA-177929\" }\n",
    "  ?pathwayIDxref bp3:id ?pathwayID .\n",
    "  ?pathwayIDxref rdf:type bp3:UnificationXref .\n",
    "  ?pathwayStart bp3:xref ?pathwayIDxref .\n",
    "  ?pathwayStart rdf:type bp3:Pathway .\n",
    "  \n",
    "  # DIRECT PATHWAY STEPS\n",
    "  ?pathwayStart bp3:pathwayOrder ?direct_ps .\n",
    "  ?direct_ps rdf:type bp3:PathwayStep .\n",
    "  \n",
    "  # RELATIONS OF PATHWAY STEPS\n",
    "  VALUES ?relations_of_interest { bp3:stepProcess bp3:nextStep }\n",
    "  ?direct_ps ?relations_of_interest ?linked_to_ps .\n",
    "  VALUES ?relations_of_interest_starting_from_step_process { bp3:left bp3:pathwayOrder bp3:pathwayComponent bp3:right bp3:controller bp3:controlled bp3:displayName bp3:conversionDirection bp3:participantStoichiometry }\n",
    "  ?linked_to_ps ?relations_of_interest_starting_from_step_process ?step_process_relations .\n",
    "}\n",
    "\"\"\""
   ]
  },
  {
   "cell_type": "markdown",
   "metadata": {},
   "source": [
    "## 7 - Description of biochemical reactions linked to direct subpathways"
   ]
  },
  {
   "cell_type": "code",
   "execution_count": null,
   "metadata": {},
   "outputs": [],
   "source": [
    "query_br_linked_to_ps = \"\"\" \n",
    "CONSTRUCT {\n",
    "  ?linked_to_direct_compo ?relations_br ?description_br\n",
    "}\n",
    "WHERE {\n",
    "  VALUES ?pathwayID { \"R-HSA-177929\" }\n",
    "  ?pathwayIDxref bp3:id ?pathwayID .\n",
    "  ?pathwayIDxref rdf:type bp3:UnificationXref .\n",
    "  ?pathwayStart bp3:xref ?pathwayIDxref .\n",
    "  ?pathwayStart rdf:type bp3:Pathway .\n",
    "  VALUES ?pathway_compo_types { bp3:Pathway bp3:BiochemicalReaction }\n",
    "  \n",
    "  # DIRECT COMPONENTS\n",
    "  ?pathwayStart bp3:pathwayComponent ?direct_component .\n",
    "  ?pathwayStart ?pathway_component ?direct_component .\n",
    "  ?direct_component rdf:type ?pathway_compo_types .\n",
    "  \n",
    "  # RELATIONS OF PATHWAY COMPONENTS\n",
    "  VALUES ?relations_of_interest { bp3:left bp3:right bp3:displayName bp3:conversionDirection bp3:pathwayOrder bp3:pathwayComponent bp3:participantStoichiometry }\n",
    "  ?direct_component ?relations_of_interest ?linked_to_direct_compo .\n",
    "  \n",
    "  ?linked_to_direct_compo rdf:type bp3:BiochemicalReaction .\n",
    "  VALUES ?relations_br {bp3:left bp3:right bp3:displayName bp3:conversionDirection bp3:bp3:participantStoichiometry }\n",
    "  ?linked_to_direct_compo ?relations_br ?description_br .\n",
    "}\n",
    "\"\"\""
   ]
  },
  {
   "cell_type": "markdown",
   "metadata": {},
   "source": [
    "## 8 - Description of step processes of pathway steps linked to subpathways"
   ]
  },
  {
   "cell_type": "code",
   "execution_count": null,
   "metadata": {},
   "outputs": [],
   "source": [
    "query_step_processes_subpathways = \"\"\" \n",
    "CONSTRUCT {\n",
    "  ?pathwayStep bp3:stepProcess ?stepProcess\n",
    "}\n",
    "WHERE {\n",
    "  VALUES ?pathwayID { \"R-HSA-177929\" }\n",
    "  ?pathwayIDxref bp3:id ?pathwayID .\n",
    "  ?pathwayIDxref rdf:type bp3:UnificationXref .\n",
    "  ?pathwayStart bp3:xref ?pathwayIDxref .\n",
    "  ?pathwayStart rdf:type bp3:Pathway .\n",
    "\n",
    "  ?pathwayStart bp3:pathwayComponent ?pathwayCompo .\n",
    "  ?pathwayCompo bp3:pathwayOrder ?pathwayStep .\n",
    "  ?pathwayStep bp3:stepProcess ?stepProcess .\n",
    "}\n",
    "\"\"\""
   ]
  },
  {
   "cell_type": "markdown",
   "metadata": {},
   "source": [
    "## 9 - Describe the processes linked to pathway steps linked to direct subpathways"
   ]
  },
  {
   "cell_type": "code",
   "execution_count": null,
   "metadata": {},
   "outputs": [],
   "source": [
    "query_step_processes_subpathways_description = \"\"\"  \n",
    "CONSTRUCT {\n",
    "  ?stepProcess ?properties_of_interest ?description_step_process\n",
    "}\n",
    "WHERE {\n",
    "  VALUES ?pathwayID { \"R-HSA-177929\" }\n",
    "  ?pathwayIDxref bp3:id ?pathwayID .\n",
    "  ?pathwayIDxref rdf:type bp3:UnificationXref .\n",
    "  ?pathwayStart bp3:xref ?pathwayIDxref .\n",
    "  ?pathwayStart rdf:type bp3:Pathway .\n",
    "  VALUES ?properties_of_interest { bp3:right bp3:left bp3:participantStoichiometry bp3:controlled bp3:controller bp3:displayName}\n",
    "\n",
    "  ?pathwayStart bp3:pathwayComponent ?pathwayCompo .\n",
    "  ?pathwayCompo bp3:pathwayOrder ?pathwayStep .\n",
    "  ?pathwayStep bp3:stepProcess ?stepProcess .\n",
    "  ?stepProcess ?properties_of_interest ?description_step_process .\n",
    "}\n",
    "\"\"\""
   ]
  },
  {
   "cell_type": "markdown",
   "metadata": {},
   "source": [
    "## 10 - Get next steps between pathway steps linked to direct subpathways"
   ]
  },
  {
   "cell_type": "code",
   "execution_count": null,
   "metadata": {},
   "outputs": [],
   "source": [
    "query_next_steps = \"\"\" \n",
    "CONSTRUCT {\n",
    "  ?pathwayStep bp3:nextStep ?nextStep\n",
    "}\n",
    "WHERE {\n",
    "  VALUES ?pathwayID { \"R-HSA-177929\" }\n",
    "  ?pathwayIDxref bp3:id ?pathwayID .\n",
    "  ?pathwayIDxref rdf:type bp3:UnificationXref .\n",
    "  ?pathwayStart bp3:xref ?pathwayIDxref .\n",
    "  ?pathwayStart rdf:type bp3:Pathway .\n",
    "  VALUES ?properties_of_interest { bp3:right bp3:left bp3:participantStoichiometry bp3:controlled bp3:controller bp3:displayName}\n",
    "\n",
    "  ?pathwayStart bp3:pathwayComponent ?pathwayCompo .\n",
    "  ?pathwayCompo bp3:pathwayOrder ?pathwayStep .\n",
    "  ?pathwayStep bp3:nextStep ?nextStep .\n",
    "}\n",
    "\"\"\""
   ]
  }
 ],
 "metadata": {
  "kernelspec": {
   "display_name": "biopax_sparql_queries",
   "language": "python",
   "name": "python3"
  },
  "language_info": {
   "name": "python",
   "version": "3.12.4"
  }
 },
 "nbformat": 4,
 "nbformat_minor": 2
}
