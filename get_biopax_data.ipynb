{
 "cells": [
  {
   "cell_type": "code",
   "execution_count": 2,
   "metadata": {},
   "outputs": [],
   "source": [
    "import requests, os, zipfile, tarfile"
   ]
  },
  {
   "cell_type": "code",
   "execution_count": 5,
   "metadata": {},
   "outputs": [
    {
     "name": "stdout",
     "output_type": "stream",
     "text": [
      "/home/cbeust/Projects/2024/BioPAX_Review/BioPAXReview2024Codes\n"
     ]
    }
   ],
   "source": [
    "# create directories\n",
    "current_dir = os.getcwd()\n",
    "print(current_dir)\n",
    "reactome_biopax_path = os.path.join(current_dir, 'BioPAX_Data/ReactomeBioPAX')\n",
    "os.makedirs(reactome_biopax_path, exist_ok=True)\n",
    "panther_biopax_path = os.path.join(current_dir, 'BioPAX_Data/PantherBioPAX')\n",
    "os.makedirs(panther_biopax_path, exist_ok=True)\n",
    "pathwaycommons_biopax_path = os.path.join(current_dir, 'BioPAX_Data/PathwayCommons')\n",
    "os.makedirs(pathwaycommons_biopax_path, exist_ok=True)\n",
    "pathwaycommonsReactome_biopax_path = os.path.join(current_dir, 'BioPAX_Data/PathwayCommons/reactome_pc')\n",
    "os.makedirs(pathwaycommonsReactome_biopax_path, exist_ok=True)\n",
    "pathwaycommonsPanther_biopax_path = os.path.join(current_dir, 'BioPAX_Data/PathwayCommons/panther_pc')\n",
    "os.makedirs(pathwaycommonsPanther_biopax_path, exist_ok=True)\n",
    "pathwaycommonsPathbank_biopax_path = os.path.join(current_dir, 'BioPAX_Data/PathwayCommons/pathbank_pc')\n",
    "os.makedirs(pathwaycommonsPathbank_biopax_path, exist_ok=True)\n",
    "pathwaycommonsHumancyc_biopax_path = os.path.join(current_dir, 'BioPAX_Data/PathwayCommons/humancyc_pc')\n",
    "os.makedirs(pathwaycommonsHumancyc_biopax_path, exist_ok=True)\n",
    "pathwaycommonsKegg_biopax_path = os.path.join(current_dir, 'BioPAX_Data/PathwayCommons/kegg_pc')\n",
    "os.makedirs(pathwaycommonsKegg_biopax_path, exist_ok=True)\n",
    "pathwaycommonsPid_biopax_path = os.path.join(current_dir, 'BioPAX_Data/PathwayCommons/pid_pc')\n",
    "os.makedirs(pathwaycommonsPid_biopax_path, exist_ok=True)\n",
    "pathwaycommonsInoh_biopax_path = os.path.join(current_dir, 'BioPAX_Data/PathwayCommons/inoh_pc')\n",
    "os.makedirs(pathwaycommonsInoh_biopax_path, exist_ok=True)\n",
    "pathwaycommonsNetpath_biopax_path = os.path.join(current_dir, 'BioPAX_Data/PathwayCommons/netpath_pc')\n",
    "os.makedirs(pathwaycommonsNetpath_biopax_path, exist_ok=True)"
   ]
  },
  {
   "cell_type": "code",
   "execution_count": 7,
   "metadata": {},
   "outputs": [
    {
     "name": "stderr",
     "output_type": "stream",
     "text": [
      "/tmp/ipykernel_14994/2905579901.py:23: DeprecationWarning: Python 3.14 will, by default, filter extracted tar archives and reject files or modify their metadata. Use the filter argument to control this behavior.\n",
      "  tar_ref.extractall(panther_data_folder)\n"
     ]
    }
   ],
   "source": [
    "url_reactome_biopax_file = \"https://reactome.org/download/current/biopax.zip\" # currently v89\n",
    "url_panther_biopax_file = \"http://data.pantherdb.org/ftp/pathway/current_release/BioPAX.tar.gz\"\n",
    "url_reactome_pc = \"https://download.baderlab.org/PathwayCommons/PC2/v14/original-intermediate-data/reactome.zip\"\n",
    "url_panther_pc = \"https://download.baderlab.org/PathwayCommons/PC2/v14/original-intermediate-data/panther.zip\"\n",
    "url_pathbank_pc = \"https://download.baderlab.org/PathwayCommons/PC2/v14/original-intermediate-data/pathbank.zip\"\n",
    "url_humancyc_pc = \"https://download.baderlab.org/PathwayCommons/PC2/v14/original-intermediate-data/humancyc.zip\"\n",
    "url_kegg_pc = \"https://download.baderlab.org/PathwayCommons/PC2/v14/original-intermediate-data/kegg.zip\"\n",
    "url_pid_pc = \"https://download.baderlab.org/PathwayCommons/PC2/v14/original-intermediate-data/pid.zip\"\n",
    "url_inoh_pc = \"https://download.baderlab.org/PathwayCommons/PC2/v14/original-intermediate-data/inoh.zip\"\n",
    "url_netpath_pc = \"https://download.baderlab.org/PathwayCommons/PC2/v14/original-intermediate-data/netpath.zip\"\n",
    "\n",
    "# Download standalones biopax exports\n",
    "# reactome\n",
    "reactome_data_folder = \"BioPAX_Data/ReactomeBioPAX\"\n",
    "open(os.path.join(reactome_data_folder, url_reactome_biopax_file.split('/')[-1]), 'wb').write(requests.get(url_reactome_biopax_file).content)\n",
    "with zipfile.ZipFile(reactome_data_folder + \"/biopax.zip\", 'r') as zip_ref:\n",
    "    zip_ref.extractall(reactome_data_folder) \n",
    "\n",
    "# panther\n",
    "panther_data_folder = \"BioPAX_Data/PantherBioPAX\"\n",
    "open(os.path.join(panther_data_folder, url_panther_biopax_file.split('/')[-1]), 'wb').write(requests.get(url_panther_biopax_file).content)\n",
    "with tarfile.open(panther_data_folder + \"/BioPAX.tar.gz\", 'r:gz') as tar_ref:\n",
    "    tar_ref.extractall(panther_data_folder)\n",
    "\n",
    "# Download BioPAX files from PathwayCommons\n",
    "files_to_download_pc = [url_reactome_pc, \n",
    "                        url_panther_pc, \n",
    "                        url_pathbank_pc, \n",
    "                        url_humancyc_pc, \n",
    "                        url_kegg_pc, \n",
    "                        url_pid_pc, \n",
    "                        url_inoh_pc, \n",
    "                        url_netpath_pc]\n",
    "\n",
    "filenames = [\"reactome.zip\", \n",
    "             \"panther.zip\", \n",
    "             \"pathbank.zip\", \n",
    "             \"humancyc.zip\", \n",
    "             \"kegg.zip\", \n",
    "             \"pid.zip\", \n",
    "             \"inoh.zip\", \n",
    "             \"netpath.zip\"]\n",
    "\n",
    "reactome_pc_data_folder = \"BioPAX_Data/PathwayCommons/reactome_pc\"\n",
    "panther_pc_data_folder = \"BioPAX_Data/PathwayCommons/panther_pc\"\n",
    "pathbank_pc_data_folder = \"BioPAX_Data/PathwayCommons/pathbank_pc\"\n",
    "humancyc_pc_data_folder = \"BioPAX_Data/PathwayCommons/humancyc_pc\"\n",
    "kegg_pc_data_folder = \"BioPAX_Data/PathwayCommons/kegg_pc\"\n",
    "pid_pc_data_folder = \"BioPAX_Data/PathwayCommons/pid_pc\"\n",
    "inoh_pc_data_folder = \"BioPAX_Data/PathwayCommons/inoh_pc\"\n",
    "netpath_pc_data_folder = \"BioPAX_Data/PathwayCommons/netpath_pc\"\n",
    "panther_pc_data_folder = \"BioPAX_Data/PathwayCommons/panther_pc\"\n",
    "\n",
    "folders = [reactome_pc_data_folder,\n",
    "           panther_pc_data_folder,\n",
    "           pathbank_pc_data_folder,\n",
    "           humancyc_pc_data_folder,\n",
    "           kegg_pc_data_folder,\n",
    "           pid_pc_data_folder,\n",
    "           inoh_pc_data_folder,\n",
    "           netpath_pc_data_folder\n",
    "           ]\n",
    "\n",
    "for file, filename, folder in zip(files_to_download_pc, filenames, folders):\n",
    "    open(os.path.join(folder, filename.split('/')[-1]), 'wb').write(requests.get(file).content)\n",
    "    with zipfile.ZipFile(folder + \"/\" + filename, 'r') as zip_ref:\n",
    "        zip_ref.extractall(folder)  "
   ]
  },
  {
   "cell_type": "code",
   "execution_count": 9,
   "metadata": {},
   "outputs": [
    {
     "data": {
      "text/plain": [
       "174656"
      ]
     },
     "execution_count": 9,
     "metadata": {},
     "output_type": "execute_result"
    }
   ],
   "source": [
    "# Download Biopax Ontology\n",
    "\n",
    "biopax_ontology_path = os.path.join(current_dir, 'BioPAX_Data/BioPAX_Ontology')\n",
    "os.makedirs(biopax_ontology_path, exist_ok=True)\n",
    "\n",
    "url_biopax_ontology = \"https://www.biopax.org/release/biopax-level3.owl\"\n",
    "open(os.path.join(biopax_ontology_path, url_biopax_ontology.split('/')[-1]), 'wb').write(requests.get(url_biopax_ontology).content)"
   ]
  }
 ],
 "metadata": {
  "kernelspec": {
   "display_name": "biopax_sparql_queries",
   "language": "python",
   "name": "python3"
  },
  "language_info": {
   "codemirror_mode": {
    "name": "ipython",
    "version": 3
   },
   "file_extension": ".py",
   "mimetype": "text/x-python",
   "name": "python",
   "nbconvert_exporter": "python",
   "pygments_lexer": "ipython3",
   "version": "3.12.4"
  }
 },
 "nbformat": 4,
 "nbformat_minor": 2
}
