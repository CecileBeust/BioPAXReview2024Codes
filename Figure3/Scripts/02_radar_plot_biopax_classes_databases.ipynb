{
 "cells": [
  {
   "cell_type": "markdown",
   "metadata": {},
   "source": [
    "## Radar Plots: number of instances of BioPAX classes in the BioPAX exports of several pathway databases"
   ]
  },
  {
   "cell_type": "markdown",
   "metadata": {},
   "source": [
    "#### Import libraries"
   ]
  },
  {
   "cell_type": "code",
   "execution_count": 20,
   "metadata": {},
   "outputs": [],
   "source": [
    "import pandas as pd\n",
    "import plotly.express as px\n",
    "from plotly.subplots import make_subplots\n",
    "import plotly.graph_objects as go"
   ]
  },
  {
   "cell_type": "markdown",
   "metadata": {},
   "source": [
    "#### Get the results of the SPARQL queries\n",
    "\n",
    "The results of SPARQL queries generated in `01_count_biopax_classes.ipynb`are used to build the radar plots"
   ]
  },
  {
   "cell_type": "code",
   "execution_count": 21,
   "metadata": {},
   "outputs": [],
   "source": [
    "# Get SPARQL queries results files for each database\n",
    "reactome_v65 = pd.read_csv(\"../Results/reactome_v65_counts_bp_classes.csv\", sep=\",\", skiprows=1, header=None, index_col=0)\n",
    "reactome_pc = pd.read_csv(\"../Results/reactome_pc_counts_bp_classes.csv\", sep=\",\", skiprows=1, header=None, index_col=0)\n",
    "panther_pc = pd.read_csv(\"../Results/panther_pc_counts_bp_classes.csv\", sep=\",\", skiprows=1, header=None, index_col=0)\n",
    "pathbank_pc = pd.read_csv(\"../Results/pathbank_pc_counts_bp_classes.csv\", sep=\",\", skiprows=1, header=None, index_col=0)\n",
    "humancyc_pc = pd.read_csv(\"../Results/humancyc_pc_counts_bp_classes.csv\", sep=\",\", skiprows=1, header=None, index_col=0)\n",
    "kegg_pc = pd.read_csv(\"../Results/kegg_pc_counts_bp_classes.csv\", sep=\",\", skiprows=1, header=None, index_col=0)\n",
    "pid_pc = pd.read_csv(\"../Results/pid_pc_counts_bp_classes.csv\", sep=\",\", skiprows=1, header=None, index_col=0)\n",
    "inoh_pc = pd.read_csv(\"../Results/inoh_pc_counts_bp_classes.csv\", sep=\",\", skiprows=1, header=None, index_col=0)\n",
    "netpath_pc = pd.read_csv(\"../Results/netpath_pc_counts_bp_classes.csv\", sep=\",\", skiprows=1, header=None, index_col=0)\n",
    "\n",
    "df_list = [reactome_v65, reactome_pc, panther_pc, pathbank_pc, humancyc_pc, kegg_pc, pid_pc, inoh_pc, netpath_pc]"
   ]
  },
  {
   "cell_type": "code",
   "execution_count": 22,
   "metadata": {},
   "outputs": [],
   "source": [
    "# List of BioPAX classes to represent on the radar plots\n",
    "classes = ['Pathway', 'PathwayStep', 'BiochemicalReaction', 'Rna', 'Dna', 'Protein', 'SmallMolecule', 'Interaction', 'Pathway']\n",
    "# Define angles for the radar plot\n",
    "angles = [i*(360/8) for i in range(1,9)]"
   ]
  },
  {
   "cell_type": "code",
   "execution_count": 23,
   "metadata": {},
   "outputs": [
    {
     "name": "stdout",
     "output_type": "stream",
     "text": [
      "                     reactome_v65  reactome_pc  panther_pc  pathbank_pc  \\\n",
      "Pathway                       1.0     0.849981    0.110363     0.484474   \n",
      "PathwayStep                   1.0     0.831847    0.000000     0.000000   \n",
      "BiochemicalReaction           1.0     0.828336    0.151064     0.137467   \n",
      "Rna                           1.0     0.477064    0.000000     0.079511   \n",
      "Dna                           1.0     0.601758    0.000000     0.006085   \n",
      "Protein                       1.0     0.839900    0.168789     0.078075   \n",
      "SmallMolecule                 1.0     0.766551    0.372594     0.640108   \n",
      "Interaction                   1.0     0.833015    0.253722     0.224414   \n",
      "Pathway                       1.0     0.849981    0.110363     0.484474   \n",
      "\n",
      "                     humancyc_pc   kegg_pc    pid_pc   inoh_pc  netpath_pc  \n",
      "Pathway                 0.090535  0.045642  0.278713  0.289562    0.010101  \n",
      "PathwayStep             0.063510  0.000000  0.000000  0.197147    0.000000  \n",
      "BiochemicalReaction     0.122714  0.121150  0.208376  0.107825    0.136923  \n",
      "Rna                     0.077982  0.000000  0.033639  0.269113    0.000000  \n",
      "Dna                     0.000000  0.000000  0.000000  0.397566    0.000000  \n",
      "Protein                 0.083794  0.059149  0.208032  0.404563    0.153591  \n",
      "SmallMolecule           0.418399  0.320246  0.036182  0.822363    0.000000  \n",
      "Interaction             0.284430  0.151334  0.679349  0.238580    0.305976  \n",
      "Pathway                 0.090535  0.045642  0.278713  0.289562    0.010101  \n"
     ]
    }
   ],
   "source": [
    "# Concatenate SPARQL query results in a single dataframe\n",
    "concat_df_reduced = pd.concat([reactome_v65, reactome_pc[1], panther_pc[1], pathbank_pc[1], humancyc_pc[1], kegg_pc[1], pid_pc[1], inoh_pc[1], netpath_pc[1]], axis=1, ignore_index=True)\n",
    "concat_df_reduced.columns = [\"reactome_v65\", \"reactome_pc\", \"panther_pc\", \"pathbank_pc\", \"humancyc_pc\", \"kegg_pc\", \"pid_pc\", \"inoh_pc\", \"netpath_pc\"]\n",
    "concat_df_reduced.index = [\"BiochemicalReaction\", \"Pathway\", \"PathwayStep\", \"SmallMolecule\", \"Rna\", \"Interaction\", \"Protein\", \"Dna\"]\n",
    "# export to CSV\n",
    "concat_df_reduced.to_csv(\"../Results/Counts_BP_Classes_All_Databases.csv\", sep=\",\")\n",
    "\n",
    "# Normalize dataset by the maximal value of each category (max number of instances for a BioPAX class)\n",
    "concat_df_reduced_norm = concat_df_reduced.div(concat_df_reduced.max(axis=1), axis=0)\n",
    "concat_df_reduced_norm = concat_df_reduced_norm.reindex(classes)\n",
    "print(concat_df_reduced_norm)\n"
   ]
  },
  {
   "cell_type": "code",
   "execution_count": 24,
   "metadata": {},
   "outputs": [],
   "source": [
    "# Get the counts of instances for each databases into a list\n",
    "counts_reactome_v65 = concat_df_reduced_norm['reactome_v65'].to_list()\n",
    "# Duplicate first value to close the line\n",
    "counts_reactome_v65.append(counts_reactome_v65[0])\n",
    "counts_reactome_pc = concat_df_reduced_norm['reactome_pc'].to_list()\n",
    "counts_reactome_pc.append(counts_reactome_pc[0])\n",
    "counts_panther = concat_df_reduced_norm['panther_pc'].to_list()\n",
    "counts_panther.append(counts_panther[0])\n",
    "counts_pathbank = concat_df_reduced_norm['pathbank_pc'].to_list()\n",
    "counts_pathbank.append(counts_pathbank[0])\n",
    "counts_humancyc = concat_df_reduced_norm['humancyc_pc'].to_list()\n",
    "counts_humancyc.append(counts_humancyc[0])\n",
    "counts_kegg = concat_df_reduced_norm['kegg_pc'].to_list()\n",
    "counts_kegg.append(counts_kegg[0])\n",
    "counts_pid = concat_df_reduced_norm['pid_pc'].to_list()\n",
    "counts_pid.append(counts_pid[0])\n",
    "counts_inoh = concat_df_reduced_norm['inoh_pc'].to_list()\n",
    "counts_inoh.append(counts_inoh[0])\n",
    "counts_netpath = concat_df_reduced_norm['netpath_pc'].to_list()\n",
    "counts_netpath.append(counts_netpath[0])"
   ]
  },
  {
   "cell_type": "markdown",
   "metadata": {},
   "source": [
    "## Generate the radar plots\n",
    "\n",
    "We generate here the radar plots for the pathway databases that are maintained: Reactome (standalone export version 65 and PathwayCommons version), Panther (PathwayCommons), PathBank (PathwayCommons), HumanCyc (PathwayCommons), KEGG (PathwayCommons)"
   ]
  },
  {
   "cell_type": "code",
   "execution_count": 25,
   "metadata": {},
   "outputs": [
    {
     "data": {
      "application/vnd.plotly.v1+json": {
       "config": {
        "plotlyServerURL": "https://plot.ly"
       },
       "data": [
        {
         "name": "Reactome BioPAX v65",
         "r": [
          1,
          1,
          1,
          1,
          1,
          1,
          1,
          1,
          1,
          1
         ],
         "subplot": "polar",
         "theta": [
          "Pathway",
          "PathwayStep",
          "BiochemicalReaction",
          "Rna",
          "Dna",
          "Protein",
          "SmallMolecule",
          "Interaction",
          "Pathway"
         ],
         "type": "scatterpolar"
        },
        {
         "name": "Reactome PC",
         "r": [
          0.8499812944257389,
          0.8318472070413623,
          0.8283363926847508,
          0.47706422018348627,
          0.6017579445571332,
          0.8399001548232171,
          0.7665511932255581,
          0.8330152267039912,
          0.8499812944257389,
          0.8499812944257389
         ],
         "subplot": "polar2",
         "theta": [
          "Pathway",
          "PathwayStep",
          "BiochemicalReaction",
          "Rna",
          "Dna",
          "Protein",
          "SmallMolecule",
          "Interaction",
          "Pathway"
         ],
         "type": "scatterpolar"
        },
        {
         "name": "Panther PC",
         "r": [
          0.11036288814066592,
          0,
          0.15106397443741926,
          0,
          0,
          0.16878890328288412,
          0.37259430331023863,
          0.25372184756330324,
          0.11036288814066592,
          0.11036288814066592
         ],
         "subplot": "polar3",
         "theta": [
          "Pathway",
          "PathwayStep",
          "BiochemicalReaction",
          "Rna",
          "Dna",
          "Protein",
          "SmallMolecule",
          "Interaction",
          "Pathway"
         ],
         "type": "scatterpolar"
        },
        {
         "name": "PathBank PC",
         "r": [
          0.48447437336326227,
          0,
          0.13746685702631042,
          0.07951070336391437,
          0.006085192697768763,
          0.07807513665518657,
          0.6401077752117013,
          0.22441362344657928,
          0.48447437336326227,
          0.48447437336326227
         ],
         "subplot": "polar4",
         "theta": [
          "Pathway",
          "PathwayStep",
          "BiochemicalReaction",
          "Rna",
          "Dna",
          "Protein",
          "SmallMolecule",
          "Interaction",
          "Pathway"
         ],
         "type": "scatterpolar"
        },
        {
         "name": "HumanCyc PC",
         "r": [
          0.09053497942386832,
          0.06351032618075131,
          0.12271398463525733,
          0.0779816513761468,
          0,
          0.0837941167177478,
          0.41839876828329486,
          0.28442974084913264,
          0.09053497942386832,
          0.09053497942386832
         ],
         "subplot": "polar5",
         "theta": [
          "Pathway",
          "PathwayStep",
          "BiochemicalReaction",
          "Rna",
          "Dna",
          "Protein",
          "SmallMolecule",
          "Interaction",
          "Pathway"
         ],
         "type": "scatterpolar"
        },
        {
         "name": "KEGG PC",
         "r": [
          0.04564160119715675,
          0,
          0.1211503161329798,
          0,
          0,
          0.05914878827135139,
          0.3202463433410316,
          0.15133392713237478,
          0.04564160119715675,
          0.04564160119715675
         ],
         "subplot": "polar6",
         "theta": [
          "Pathway",
          "PathwayStep",
          "BiochemicalReaction",
          "Rna",
          "Dna",
          "Protein",
          "SmallMolecule",
          "Interaction",
          "Pathway"
         ],
         "type": "scatterpolar"
        }
       ],
       "layout": {
        "height": 1300,
        "margin": {
         "t": 150
        },
        "polar": {
         "domain": {
          "x": [
           0,
           0.26666666666666666
          ],
          "y": [
           0.55,
           1
          ]
         },
         "radialaxis": {
          "range": [
           0,
           1
          ],
          "visible": true
         }
        },
        "polar2": {
         "domain": {
          "x": [
           0.3666666666666667,
           0.6333333333333333
          ],
          "y": [
           0.55,
           1
          ]
         },
         "radialaxis": {
          "range": [
           0,
           1
          ]
         }
        },
        "polar3": {
         "domain": {
          "x": [
           0.7333333333333334,
           1
          ],
          "y": [
           0.55,
           1
          ]
         },
         "radialaxis": {
          "range": [
           0,
           1
          ]
         }
        },
        "polar4": {
         "domain": {
          "x": [
           0,
           0.26666666666666666
          ],
          "y": [
           0,
           0.45
          ]
         },
         "radialaxis": {
          "range": [
           0,
           1
          ]
         }
        },
        "polar5": {
         "domain": {
          "x": [
           0.3666666666666667,
           0.6333333333333333
          ],
          "y": [
           0,
           0.45
          ]
         },
         "radialaxis": {
          "range": [
           0,
           1
          ]
         }
        },
        "polar6": {
         "domain": {
          "x": [
           0.7333333333333334,
           1
          ],
          "y": [
           0,
           0.45
          ]
         },
         "radialaxis": {
          "range": [
           0,
           1
          ]
         }
        },
        "template": {
         "data": {
          "bar": [
           {
            "error_x": {
             "color": "#2a3f5f"
            },
            "error_y": {
             "color": "#2a3f5f"
            },
            "marker": {
             "line": {
              "color": "#E5ECF6",
              "width": 0.5
             },
             "pattern": {
              "fillmode": "overlay",
              "size": 10,
              "solidity": 0.2
             }
            },
            "type": "bar"
           }
          ],
          "barpolar": [
           {
            "marker": {
             "line": {
              "color": "#E5ECF6",
              "width": 0.5
             },
             "pattern": {
              "fillmode": "overlay",
              "size": 10,
              "solidity": 0.2
             }
            },
            "type": "barpolar"
           }
          ],
          "carpet": [
           {
            "aaxis": {
             "endlinecolor": "#2a3f5f",
             "gridcolor": "white",
             "linecolor": "white",
             "minorgridcolor": "white",
             "startlinecolor": "#2a3f5f"
            },
            "baxis": {
             "endlinecolor": "#2a3f5f",
             "gridcolor": "white",
             "linecolor": "white",
             "minorgridcolor": "white",
             "startlinecolor": "#2a3f5f"
            },
            "type": "carpet"
           }
          ],
          "choropleth": [
           {
            "colorbar": {
             "outlinewidth": 0,
             "ticks": ""
            },
            "type": "choropleth"
           }
          ],
          "contour": [
           {
            "colorbar": {
             "outlinewidth": 0,
             "ticks": ""
            },
            "colorscale": [
             [
              0,
              "#0d0887"
             ],
             [
              0.1111111111111111,
              "#46039f"
             ],
             [
              0.2222222222222222,
              "#7201a8"
             ],
             [
              0.3333333333333333,
              "#9c179e"
             ],
             [
              0.4444444444444444,
              "#bd3786"
             ],
             [
              0.5555555555555556,
              "#d8576b"
             ],
             [
              0.6666666666666666,
              "#ed7953"
             ],
             [
              0.7777777777777778,
              "#fb9f3a"
             ],
             [
              0.8888888888888888,
              "#fdca26"
             ],
             [
              1,
              "#f0f921"
             ]
            ],
            "type": "contour"
           }
          ],
          "contourcarpet": [
           {
            "colorbar": {
             "outlinewidth": 0,
             "ticks": ""
            },
            "type": "contourcarpet"
           }
          ],
          "heatmap": [
           {
            "colorbar": {
             "outlinewidth": 0,
             "ticks": ""
            },
            "colorscale": [
             [
              0,
              "#0d0887"
             ],
             [
              0.1111111111111111,
              "#46039f"
             ],
             [
              0.2222222222222222,
              "#7201a8"
             ],
             [
              0.3333333333333333,
              "#9c179e"
             ],
             [
              0.4444444444444444,
              "#bd3786"
             ],
             [
              0.5555555555555556,
              "#d8576b"
             ],
             [
              0.6666666666666666,
              "#ed7953"
             ],
             [
              0.7777777777777778,
              "#fb9f3a"
             ],
             [
              0.8888888888888888,
              "#fdca26"
             ],
             [
              1,
              "#f0f921"
             ]
            ],
            "type": "heatmap"
           }
          ],
          "heatmapgl": [
           {
            "colorbar": {
             "outlinewidth": 0,
             "ticks": ""
            },
            "colorscale": [
             [
              0,
              "#0d0887"
             ],
             [
              0.1111111111111111,
              "#46039f"
             ],
             [
              0.2222222222222222,
              "#7201a8"
             ],
             [
              0.3333333333333333,
              "#9c179e"
             ],
             [
              0.4444444444444444,
              "#bd3786"
             ],
             [
              0.5555555555555556,
              "#d8576b"
             ],
             [
              0.6666666666666666,
              "#ed7953"
             ],
             [
              0.7777777777777778,
              "#fb9f3a"
             ],
             [
              0.8888888888888888,
              "#fdca26"
             ],
             [
              1,
              "#f0f921"
             ]
            ],
            "type": "heatmapgl"
           }
          ],
          "histogram": [
           {
            "marker": {
             "pattern": {
              "fillmode": "overlay",
              "size": 10,
              "solidity": 0.2
             }
            },
            "type": "histogram"
           }
          ],
          "histogram2d": [
           {
            "colorbar": {
             "outlinewidth": 0,
             "ticks": ""
            },
            "colorscale": [
             [
              0,
              "#0d0887"
             ],
             [
              0.1111111111111111,
              "#46039f"
             ],
             [
              0.2222222222222222,
              "#7201a8"
             ],
             [
              0.3333333333333333,
              "#9c179e"
             ],
             [
              0.4444444444444444,
              "#bd3786"
             ],
             [
              0.5555555555555556,
              "#d8576b"
             ],
             [
              0.6666666666666666,
              "#ed7953"
             ],
             [
              0.7777777777777778,
              "#fb9f3a"
             ],
             [
              0.8888888888888888,
              "#fdca26"
             ],
             [
              1,
              "#f0f921"
             ]
            ],
            "type": "histogram2d"
           }
          ],
          "histogram2dcontour": [
           {
            "colorbar": {
             "outlinewidth": 0,
             "ticks": ""
            },
            "colorscale": [
             [
              0,
              "#0d0887"
             ],
             [
              0.1111111111111111,
              "#46039f"
             ],
             [
              0.2222222222222222,
              "#7201a8"
             ],
             [
              0.3333333333333333,
              "#9c179e"
             ],
             [
              0.4444444444444444,
              "#bd3786"
             ],
             [
              0.5555555555555556,
              "#d8576b"
             ],
             [
              0.6666666666666666,
              "#ed7953"
             ],
             [
              0.7777777777777778,
              "#fb9f3a"
             ],
             [
              0.8888888888888888,
              "#fdca26"
             ],
             [
              1,
              "#f0f921"
             ]
            ],
            "type": "histogram2dcontour"
           }
          ],
          "mesh3d": [
           {
            "colorbar": {
             "outlinewidth": 0,
             "ticks": ""
            },
            "type": "mesh3d"
           }
          ],
          "parcoords": [
           {
            "line": {
             "colorbar": {
              "outlinewidth": 0,
              "ticks": ""
             }
            },
            "type": "parcoords"
           }
          ],
          "pie": [
           {
            "automargin": true,
            "type": "pie"
           }
          ],
          "scatter": [
           {
            "fillpattern": {
             "fillmode": "overlay",
             "size": 10,
             "solidity": 0.2
            },
            "type": "scatter"
           }
          ],
          "scatter3d": [
           {
            "line": {
             "colorbar": {
              "outlinewidth": 0,
              "ticks": ""
             }
            },
            "marker": {
             "colorbar": {
              "outlinewidth": 0,
              "ticks": ""
             }
            },
            "type": "scatter3d"
           }
          ],
          "scattercarpet": [
           {
            "marker": {
             "colorbar": {
              "outlinewidth": 0,
              "ticks": ""
             }
            },
            "type": "scattercarpet"
           }
          ],
          "scattergeo": [
           {
            "marker": {
             "colorbar": {
              "outlinewidth": 0,
              "ticks": ""
             }
            },
            "type": "scattergeo"
           }
          ],
          "scattergl": [
           {
            "marker": {
             "colorbar": {
              "outlinewidth": 0,
              "ticks": ""
             }
            },
            "type": "scattergl"
           }
          ],
          "scattermapbox": [
           {
            "marker": {
             "colorbar": {
              "outlinewidth": 0,
              "ticks": ""
             }
            },
            "type": "scattermapbox"
           }
          ],
          "scatterpolar": [
           {
            "marker": {
             "colorbar": {
              "outlinewidth": 0,
              "ticks": ""
             }
            },
            "type": "scatterpolar"
           }
          ],
          "scatterpolargl": [
           {
            "marker": {
             "colorbar": {
              "outlinewidth": 0,
              "ticks": ""
             }
            },
            "type": "scatterpolargl"
           }
          ],
          "scatterternary": [
           {
            "marker": {
             "colorbar": {
              "outlinewidth": 0,
              "ticks": ""
             }
            },
            "type": "scatterternary"
           }
          ],
          "surface": [
           {
            "colorbar": {
             "outlinewidth": 0,
             "ticks": ""
            },
            "colorscale": [
             [
              0,
              "#0d0887"
             ],
             [
              0.1111111111111111,
              "#46039f"
             ],
             [
              0.2222222222222222,
              "#7201a8"
             ],
             [
              0.3333333333333333,
              "#9c179e"
             ],
             [
              0.4444444444444444,
              "#bd3786"
             ],
             [
              0.5555555555555556,
              "#d8576b"
             ],
             [
              0.6666666666666666,
              "#ed7953"
             ],
             [
              0.7777777777777778,
              "#fb9f3a"
             ],
             [
              0.8888888888888888,
              "#fdca26"
             ],
             [
              1,
              "#f0f921"
             ]
            ],
            "type": "surface"
           }
          ],
          "table": [
           {
            "cells": {
             "fill": {
              "color": "#EBF0F8"
             },
             "line": {
              "color": "white"
             }
            },
            "header": {
             "fill": {
              "color": "#C8D4E3"
             },
             "line": {
              "color": "white"
             }
            },
            "type": "table"
           }
          ]
         },
         "layout": {
          "annotationdefaults": {
           "arrowcolor": "#2a3f5f",
           "arrowhead": 0,
           "arrowwidth": 1
          },
          "autotypenumbers": "strict",
          "coloraxis": {
           "colorbar": {
            "outlinewidth": 0,
            "ticks": ""
           }
          },
          "colorscale": {
           "diverging": [
            [
             0,
             "#8e0152"
            ],
            [
             0.1,
             "#c51b7d"
            ],
            [
             0.2,
             "#de77ae"
            ],
            [
             0.3,
             "#f1b6da"
            ],
            [
             0.4,
             "#fde0ef"
            ],
            [
             0.5,
             "#f7f7f7"
            ],
            [
             0.6,
             "#e6f5d0"
            ],
            [
             0.7,
             "#b8e186"
            ],
            [
             0.8,
             "#7fbc41"
            ],
            [
             0.9,
             "#4d9221"
            ],
            [
             1,
             "#276419"
            ]
           ],
           "sequential": [
            [
             0,
             "#0d0887"
            ],
            [
             0.1111111111111111,
             "#46039f"
            ],
            [
             0.2222222222222222,
             "#7201a8"
            ],
            [
             0.3333333333333333,
             "#9c179e"
            ],
            [
             0.4444444444444444,
             "#bd3786"
            ],
            [
             0.5555555555555556,
             "#d8576b"
            ],
            [
             0.6666666666666666,
             "#ed7953"
            ],
            [
             0.7777777777777778,
             "#fb9f3a"
            ],
            [
             0.8888888888888888,
             "#fdca26"
            ],
            [
             1,
             "#f0f921"
            ]
           ],
           "sequentialminus": [
            [
             0,
             "#0d0887"
            ],
            [
             0.1111111111111111,
             "#46039f"
            ],
            [
             0.2222222222222222,
             "#7201a8"
            ],
            [
             0.3333333333333333,
             "#9c179e"
            ],
            [
             0.4444444444444444,
             "#bd3786"
            ],
            [
             0.5555555555555556,
             "#d8576b"
            ],
            [
             0.6666666666666666,
             "#ed7953"
            ],
            [
             0.7777777777777778,
             "#fb9f3a"
            ],
            [
             0.8888888888888888,
             "#fdca26"
            ],
            [
             1,
             "#f0f921"
            ]
           ]
          },
          "colorway": [
           "#636efa",
           "#EF553B",
           "#00cc96",
           "#ab63fa",
           "#FFA15A",
           "#19d3f3",
           "#FF6692",
           "#B6E880",
           "#FF97FF",
           "#FECB52"
          ],
          "font": {
           "color": "#2a3f5f"
          },
          "geo": {
           "bgcolor": "white",
           "lakecolor": "white",
           "landcolor": "#E5ECF6",
           "showlakes": true,
           "showland": true,
           "subunitcolor": "white"
          },
          "hoverlabel": {
           "align": "left"
          },
          "hovermode": "closest",
          "mapbox": {
           "style": "light"
          },
          "paper_bgcolor": "white",
          "plot_bgcolor": "#E5ECF6",
          "polar": {
           "angularaxis": {
            "gridcolor": "white",
            "linecolor": "white",
            "ticks": ""
           },
           "bgcolor": "#E5ECF6",
           "radialaxis": {
            "gridcolor": "white",
            "linecolor": "white",
            "ticks": ""
           }
          },
          "scene": {
           "xaxis": {
            "backgroundcolor": "#E5ECF6",
            "gridcolor": "white",
            "gridwidth": 2,
            "linecolor": "white",
            "showbackground": true,
            "ticks": "",
            "zerolinecolor": "white"
           },
           "yaxis": {
            "backgroundcolor": "#E5ECF6",
            "gridcolor": "white",
            "gridwidth": 2,
            "linecolor": "white",
            "showbackground": true,
            "ticks": "",
            "zerolinecolor": "white"
           },
           "zaxis": {
            "backgroundcolor": "#E5ECF6",
            "gridcolor": "white",
            "gridwidth": 2,
            "linecolor": "white",
            "showbackground": true,
            "ticks": "",
            "zerolinecolor": "white"
           }
          },
          "shapedefaults": {
           "line": {
            "color": "#2a3f5f"
           }
          },
          "ternary": {
           "aaxis": {
            "gridcolor": "white",
            "linecolor": "white",
            "ticks": ""
           },
           "baxis": {
            "gridcolor": "white",
            "linecolor": "white",
            "ticks": ""
           },
           "bgcolor": "#E5ECF6",
           "caxis": {
            "gridcolor": "white",
            "linecolor": "white",
            "ticks": ""
           }
          },
          "title": {
           "x": 0.05
          },
          "xaxis": {
           "automargin": true,
           "gridcolor": "white",
           "linecolor": "white",
           "ticks": "",
           "title": {
            "standoff": 15
           },
           "zerolinecolor": "white",
           "zerolinewidth": 2
          },
          "yaxis": {
           "automargin": true,
           "gridcolor": "white",
           "linecolor": "white",
           "ticks": "",
           "title": {
            "standoff": 15
           },
           "zerolinecolor": "white",
           "zerolinewidth": 2
          }
         }
        },
        "width": 1600
       }
      }
     },
     "metadata": {},
     "output_type": "display_data"
    }
   ],
   "source": [
    "fig = make_subplots(rows=2, \n",
    "                    cols=3, \n",
    "                    start_cell=\"top-left\", \n",
    "                    horizontal_spacing=0.1,\n",
    "                    vertical_spacing=0.1,\n",
    "                    specs=[\n",
    "    [{\"type\":\"scatterpolar\"}, {\"type\":\"scatterpolar\"}, {\"type\":\"scatterpolar\"}],\n",
    "    [{\"type\":\"scatterpolar\"}, {\"type\":\"scatterpolar\"}, {\"type\":\"scatterpolar\"}]\n",
    "])  \n",
    "\n",
    "fig.add_trace(go.Scatterpolar(name = \"Reactome BioPAX v65\", r = counts_reactome_v65, theta=classes), 1, 1)\n",
    "fig.add_trace(go.Scatterpolar(name = \"Reactome PC\", r = counts_reactome_pc, theta=classes), 1, 2)\n",
    "fig.add_trace(go.Scatterpolar(name = \"Panther PC\", r = counts_panther, theta=classes), 1, 3)\n",
    "fig.add_trace(go.Scatterpolar(name = \"PathBank PC\", r = counts_pathbank, theta=classes), 2, 1)\n",
    "fig.add_trace(go.Scatterpolar(name = \"HumanCyc PC\", r = counts_humancyc, theta=classes), 2, 2)\n",
    "fig.add_trace(go.Scatterpolar(name = \"KEGG PC\", r = counts_kegg, theta=classes), 2, 3)\n",
    "\n",
    "\n",
    "fig.update_layout(margin=dict(t=150))\n",
    "fig.update_polars(radialaxis=dict(range=[0, 1])) # same axis\n",
    "fig.update_layout(width=1600, height=1300, polar=dict(radialaxis=dict(visible=True)))\n",
    "fig.write_image(\"../Results/radar_plot_bp_classes_updated_databases.pdf\")\n",
    "fig.write_image(\"../Results/radar_plot_bp_classes_updated_databases.svg\")\n",
    "fig.show()"
   ]
  },
  {
   "cell_type": "markdown",
   "metadata": {},
   "source": [
    "## Supplementary Figure\n",
    "\n",
    "The supplementary figure represents the radar plots of the nine pathway databases listed on PathwayCommons: Reactome (standalone export version 65 and PathwayCommons version), Panther (PathwayCommons), PathBank (PathwayCommons), HumanCyc (PathwayCommons), KEGG (PathwayCommons), PID (PathwayCommons), INOH (PathwayCommons) and NetPath (PathwayCommons)"
   ]
  },
  {
   "cell_type": "code",
   "execution_count": 26,
   "metadata": {},
   "outputs": [
    {
     "data": {
      "application/vnd.plotly.v1+json": {
       "config": {
        "plotlyServerURL": "https://plot.ly"
       },
       "data": [
        {
         "name": "Reactome BioPAX v65",
         "r": [
          1,
          1,
          1,
          1,
          1,
          1,
          1,
          1,
          1,
          1
         ],
         "subplot": "polar",
         "theta": [
          "Pathway",
          "PathwayStep",
          "BiochemicalReaction",
          "Rna",
          "Dna",
          "Protein",
          "SmallMolecule",
          "Interaction",
          "Pathway"
         ],
         "type": "scatterpolar"
        },
        {
         "name": "Reactome PC",
         "r": [
          0.8499812944257389,
          0.8318472070413623,
          0.8283363926847508,
          0.47706422018348627,
          0.6017579445571332,
          0.8399001548232171,
          0.7665511932255581,
          0.8330152267039912,
          0.8499812944257389,
          0.8499812944257389
         ],
         "subplot": "polar2",
         "theta": [
          "Pathway",
          "PathwayStep",
          "BiochemicalReaction",
          "Rna",
          "Dna",
          "Protein",
          "SmallMolecule",
          "Interaction",
          "Pathway"
         ],
         "type": "scatterpolar"
        },
        {
         "name": "Panther PC",
         "r": [
          0.11036288814066592,
          0,
          0.15106397443741926,
          0,
          0,
          0.16878890328288412,
          0.37259430331023863,
          0.25372184756330324,
          0.11036288814066592,
          0.11036288814066592
         ],
         "subplot": "polar3",
         "theta": [
          "Pathway",
          "PathwayStep",
          "BiochemicalReaction",
          "Rna",
          "Dna",
          "Protein",
          "SmallMolecule",
          "Interaction",
          "Pathway"
         ],
         "type": "scatterpolar"
        },
        {
         "name": "PathBank PC",
         "r": [
          0.48447437336326227,
          0,
          0.13746685702631042,
          0.07951070336391437,
          0.006085192697768763,
          0.07807513665518657,
          0.6401077752117013,
          0.22441362344657928,
          0.48447437336326227,
          0.48447437336326227
         ],
         "subplot": "polar4",
         "theta": [
          "Pathway",
          "PathwayStep",
          "BiochemicalReaction",
          "Rna",
          "Dna",
          "Protein",
          "SmallMolecule",
          "Interaction",
          "Pathway"
         ],
         "type": "scatterpolar"
        },
        {
         "name": "HumanCyc PC",
         "r": [
          0.09053497942386832,
          0.06351032618075131,
          0.12271398463525733,
          0.0779816513761468,
          0,
          0.0837941167177478,
          0.41839876828329486,
          0.28442974084913264,
          0.09053497942386832,
          0.09053497942386832
         ],
         "subplot": "polar5",
         "theta": [
          "Pathway",
          "PathwayStep",
          "BiochemicalReaction",
          "Rna",
          "Dna",
          "Protein",
          "SmallMolecule",
          "Interaction",
          "Pathway"
         ],
         "type": "scatterpolar"
        },
        {
         "name": "KEGG PC",
         "r": [
          0.04564160119715675,
          0,
          0.1211503161329798,
          0,
          0,
          0.05914878827135139,
          0.3202463433410316,
          0.15133392713237478,
          0.04564160119715675,
          0.04564160119715675
         ],
         "subplot": "polar6",
         "theta": [
          "Pathway",
          "PathwayStep",
          "BiochemicalReaction",
          "Rna",
          "Dna",
          "Protein",
          "SmallMolecule",
          "Interaction",
          "Pathway"
         ],
         "type": "scatterpolar"
        },
        {
         "name": "PID PC",
         "r": [
          0.2787130564908343,
          0,
          0.20837582432524304,
          0.03363914373088685,
          0,
          0.20803184934753072,
          0.036181678214010776,
          0.6793485176231072,
          0.2787130564908343,
          0.2787130564908343
         ],
         "subplot": "polar7",
         "theta": [
          "Pathway",
          "PathwayStep",
          "BiochemicalReaction",
          "Rna",
          "Dna",
          "Protein",
          "SmallMolecule",
          "Interaction",
          "Pathway"
         ],
         "type": "scatterpolar"
        },
        {
         "name": "INOH PC",
         "r": [
          0.2895622895622896,
          0.19714663751941552,
          0.10782514107009314,
          0.2691131498470948,
          0.3975659229208925,
          0.40456254542007647,
          0.8223633564280216,
          0.23857997200661663,
          0.2895622895622896,
          0.2895622895622896
         ],
         "subplot": "polar8",
         "theta": [
          "Pathway",
          "PathwayStep",
          "BiochemicalReaction",
          "Rna",
          "Dna",
          "Protein",
          "SmallMolecule",
          "Interaction",
          "Pathway"
         ],
         "type": "scatterpolar"
        },
        {
         "name": "NetPath PC",
         "r": [
          0.010101010101010102,
          0,
          0.13692297232986606,
          0,
          0,
          0.15359095074093967,
          0,
          0.30597616320990795,
          0.010101010101010102,
          0.010101010101010102
         ],
         "subplot": "polar9",
         "theta": [
          "Pathway",
          "PathwayStep",
          "BiochemicalReaction",
          "Rna",
          "Dna",
          "Protein",
          "SmallMolecule",
          "Interaction",
          "Pathway"
         ],
         "type": "scatterpolar"
        }
       ],
       "layout": {
        "height": 1300,
        "margin": {
         "t": 150
        },
        "polar": {
         "domain": {
          "x": [
           0,
           0.26666666666666666
          ],
          "y": [
           0.7333333333333334,
           1
          ]
         },
         "radialaxis": {
          "range": [
           0,
           1
          ],
          "visible": true
         }
        },
        "polar2": {
         "domain": {
          "x": [
           0.3666666666666667,
           0.6333333333333333
          ],
          "y": [
           0.7333333333333334,
           1
          ]
         },
         "radialaxis": {
          "range": [
           0,
           1
          ]
         }
        },
        "polar3": {
         "domain": {
          "x": [
           0.7333333333333334,
           1
          ],
          "y": [
           0.7333333333333334,
           1
          ]
         },
         "radialaxis": {
          "range": [
           0,
           1
          ]
         }
        },
        "polar4": {
         "domain": {
          "x": [
           0,
           0.26666666666666666
          ],
          "y": [
           0.3666666666666667,
           0.6333333333333333
          ]
         },
         "radialaxis": {
          "range": [
           0,
           1
          ]
         }
        },
        "polar5": {
         "domain": {
          "x": [
           0.3666666666666667,
           0.6333333333333333
          ],
          "y": [
           0.3666666666666667,
           0.6333333333333333
          ]
         },
         "radialaxis": {
          "range": [
           0,
           1
          ]
         }
        },
        "polar6": {
         "domain": {
          "x": [
           0.7333333333333334,
           1
          ],
          "y": [
           0.3666666666666667,
           0.6333333333333333
          ]
         },
         "radialaxis": {
          "range": [
           0,
           1
          ]
         }
        },
        "polar7": {
         "domain": {
          "x": [
           0,
           0.26666666666666666
          ],
          "y": [
           0,
           0.26666666666666666
          ]
         },
         "radialaxis": {
          "range": [
           0,
           1
          ]
         }
        },
        "polar8": {
         "domain": {
          "x": [
           0.3666666666666667,
           0.6333333333333333
          ],
          "y": [
           0,
           0.26666666666666666
          ]
         },
         "radialaxis": {
          "range": [
           0,
           1
          ]
         }
        },
        "polar9": {
         "domain": {
          "x": [
           0.7333333333333334,
           1
          ],
          "y": [
           0,
           0.26666666666666666
          ]
         },
         "radialaxis": {
          "range": [
           0,
           1
          ]
         }
        },
        "template": {
         "data": {
          "bar": [
           {
            "error_x": {
             "color": "#2a3f5f"
            },
            "error_y": {
             "color": "#2a3f5f"
            },
            "marker": {
             "line": {
              "color": "#E5ECF6",
              "width": 0.5
             },
             "pattern": {
              "fillmode": "overlay",
              "size": 10,
              "solidity": 0.2
             }
            },
            "type": "bar"
           }
          ],
          "barpolar": [
           {
            "marker": {
             "line": {
              "color": "#E5ECF6",
              "width": 0.5
             },
             "pattern": {
              "fillmode": "overlay",
              "size": 10,
              "solidity": 0.2
             }
            },
            "type": "barpolar"
           }
          ],
          "carpet": [
           {
            "aaxis": {
             "endlinecolor": "#2a3f5f",
             "gridcolor": "white",
             "linecolor": "white",
             "minorgridcolor": "white",
             "startlinecolor": "#2a3f5f"
            },
            "baxis": {
             "endlinecolor": "#2a3f5f",
             "gridcolor": "white",
             "linecolor": "white",
             "minorgridcolor": "white",
             "startlinecolor": "#2a3f5f"
            },
            "type": "carpet"
           }
          ],
          "choropleth": [
           {
            "colorbar": {
             "outlinewidth": 0,
             "ticks": ""
            },
            "type": "choropleth"
           }
          ],
          "contour": [
           {
            "colorbar": {
             "outlinewidth": 0,
             "ticks": ""
            },
            "colorscale": [
             [
              0,
              "#0d0887"
             ],
             [
              0.1111111111111111,
              "#46039f"
             ],
             [
              0.2222222222222222,
              "#7201a8"
             ],
             [
              0.3333333333333333,
              "#9c179e"
             ],
             [
              0.4444444444444444,
              "#bd3786"
             ],
             [
              0.5555555555555556,
              "#d8576b"
             ],
             [
              0.6666666666666666,
              "#ed7953"
             ],
             [
              0.7777777777777778,
              "#fb9f3a"
             ],
             [
              0.8888888888888888,
              "#fdca26"
             ],
             [
              1,
              "#f0f921"
             ]
            ],
            "type": "contour"
           }
          ],
          "contourcarpet": [
           {
            "colorbar": {
             "outlinewidth": 0,
             "ticks": ""
            },
            "type": "contourcarpet"
           }
          ],
          "heatmap": [
           {
            "colorbar": {
             "outlinewidth": 0,
             "ticks": ""
            },
            "colorscale": [
             [
              0,
              "#0d0887"
             ],
             [
              0.1111111111111111,
              "#46039f"
             ],
             [
              0.2222222222222222,
              "#7201a8"
             ],
             [
              0.3333333333333333,
              "#9c179e"
             ],
             [
              0.4444444444444444,
              "#bd3786"
             ],
             [
              0.5555555555555556,
              "#d8576b"
             ],
             [
              0.6666666666666666,
              "#ed7953"
             ],
             [
              0.7777777777777778,
              "#fb9f3a"
             ],
             [
              0.8888888888888888,
              "#fdca26"
             ],
             [
              1,
              "#f0f921"
             ]
            ],
            "type": "heatmap"
           }
          ],
          "heatmapgl": [
           {
            "colorbar": {
             "outlinewidth": 0,
             "ticks": ""
            },
            "colorscale": [
             [
              0,
              "#0d0887"
             ],
             [
              0.1111111111111111,
              "#46039f"
             ],
             [
              0.2222222222222222,
              "#7201a8"
             ],
             [
              0.3333333333333333,
              "#9c179e"
             ],
             [
              0.4444444444444444,
              "#bd3786"
             ],
             [
              0.5555555555555556,
              "#d8576b"
             ],
             [
              0.6666666666666666,
              "#ed7953"
             ],
             [
              0.7777777777777778,
              "#fb9f3a"
             ],
             [
              0.8888888888888888,
              "#fdca26"
             ],
             [
              1,
              "#f0f921"
             ]
            ],
            "type": "heatmapgl"
           }
          ],
          "histogram": [
           {
            "marker": {
             "pattern": {
              "fillmode": "overlay",
              "size": 10,
              "solidity": 0.2
             }
            },
            "type": "histogram"
           }
          ],
          "histogram2d": [
           {
            "colorbar": {
             "outlinewidth": 0,
             "ticks": ""
            },
            "colorscale": [
             [
              0,
              "#0d0887"
             ],
             [
              0.1111111111111111,
              "#46039f"
             ],
             [
              0.2222222222222222,
              "#7201a8"
             ],
             [
              0.3333333333333333,
              "#9c179e"
             ],
             [
              0.4444444444444444,
              "#bd3786"
             ],
             [
              0.5555555555555556,
              "#d8576b"
             ],
             [
              0.6666666666666666,
              "#ed7953"
             ],
             [
              0.7777777777777778,
              "#fb9f3a"
             ],
             [
              0.8888888888888888,
              "#fdca26"
             ],
             [
              1,
              "#f0f921"
             ]
            ],
            "type": "histogram2d"
           }
          ],
          "histogram2dcontour": [
           {
            "colorbar": {
             "outlinewidth": 0,
             "ticks": ""
            },
            "colorscale": [
             [
              0,
              "#0d0887"
             ],
             [
              0.1111111111111111,
              "#46039f"
             ],
             [
              0.2222222222222222,
              "#7201a8"
             ],
             [
              0.3333333333333333,
              "#9c179e"
             ],
             [
              0.4444444444444444,
              "#bd3786"
             ],
             [
              0.5555555555555556,
              "#d8576b"
             ],
             [
              0.6666666666666666,
              "#ed7953"
             ],
             [
              0.7777777777777778,
              "#fb9f3a"
             ],
             [
              0.8888888888888888,
              "#fdca26"
             ],
             [
              1,
              "#f0f921"
             ]
            ],
            "type": "histogram2dcontour"
           }
          ],
          "mesh3d": [
           {
            "colorbar": {
             "outlinewidth": 0,
             "ticks": ""
            },
            "type": "mesh3d"
           }
          ],
          "parcoords": [
           {
            "line": {
             "colorbar": {
              "outlinewidth": 0,
              "ticks": ""
             }
            },
            "type": "parcoords"
           }
          ],
          "pie": [
           {
            "automargin": true,
            "type": "pie"
           }
          ],
          "scatter": [
           {
            "fillpattern": {
             "fillmode": "overlay",
             "size": 10,
             "solidity": 0.2
            },
            "type": "scatter"
           }
          ],
          "scatter3d": [
           {
            "line": {
             "colorbar": {
              "outlinewidth": 0,
              "ticks": ""
             }
            },
            "marker": {
             "colorbar": {
              "outlinewidth": 0,
              "ticks": ""
             }
            },
            "type": "scatter3d"
           }
          ],
          "scattercarpet": [
           {
            "marker": {
             "colorbar": {
              "outlinewidth": 0,
              "ticks": ""
             }
            },
            "type": "scattercarpet"
           }
          ],
          "scattergeo": [
           {
            "marker": {
             "colorbar": {
              "outlinewidth": 0,
              "ticks": ""
             }
            },
            "type": "scattergeo"
           }
          ],
          "scattergl": [
           {
            "marker": {
             "colorbar": {
              "outlinewidth": 0,
              "ticks": ""
             }
            },
            "type": "scattergl"
           }
          ],
          "scattermapbox": [
           {
            "marker": {
             "colorbar": {
              "outlinewidth": 0,
              "ticks": ""
             }
            },
            "type": "scattermapbox"
           }
          ],
          "scatterpolar": [
           {
            "marker": {
             "colorbar": {
              "outlinewidth": 0,
              "ticks": ""
             }
            },
            "type": "scatterpolar"
           }
          ],
          "scatterpolargl": [
           {
            "marker": {
             "colorbar": {
              "outlinewidth": 0,
              "ticks": ""
             }
            },
            "type": "scatterpolargl"
           }
          ],
          "scatterternary": [
           {
            "marker": {
             "colorbar": {
              "outlinewidth": 0,
              "ticks": ""
             }
            },
            "type": "scatterternary"
           }
          ],
          "surface": [
           {
            "colorbar": {
             "outlinewidth": 0,
             "ticks": ""
            },
            "colorscale": [
             [
              0,
              "#0d0887"
             ],
             [
              0.1111111111111111,
              "#46039f"
             ],
             [
              0.2222222222222222,
              "#7201a8"
             ],
             [
              0.3333333333333333,
              "#9c179e"
             ],
             [
              0.4444444444444444,
              "#bd3786"
             ],
             [
              0.5555555555555556,
              "#d8576b"
             ],
             [
              0.6666666666666666,
              "#ed7953"
             ],
             [
              0.7777777777777778,
              "#fb9f3a"
             ],
             [
              0.8888888888888888,
              "#fdca26"
             ],
             [
              1,
              "#f0f921"
             ]
            ],
            "type": "surface"
           }
          ],
          "table": [
           {
            "cells": {
             "fill": {
              "color": "#EBF0F8"
             },
             "line": {
              "color": "white"
             }
            },
            "header": {
             "fill": {
              "color": "#C8D4E3"
             },
             "line": {
              "color": "white"
             }
            },
            "type": "table"
           }
          ]
         },
         "layout": {
          "annotationdefaults": {
           "arrowcolor": "#2a3f5f",
           "arrowhead": 0,
           "arrowwidth": 1
          },
          "autotypenumbers": "strict",
          "coloraxis": {
           "colorbar": {
            "outlinewidth": 0,
            "ticks": ""
           }
          },
          "colorscale": {
           "diverging": [
            [
             0,
             "#8e0152"
            ],
            [
             0.1,
             "#c51b7d"
            ],
            [
             0.2,
             "#de77ae"
            ],
            [
             0.3,
             "#f1b6da"
            ],
            [
             0.4,
             "#fde0ef"
            ],
            [
             0.5,
             "#f7f7f7"
            ],
            [
             0.6,
             "#e6f5d0"
            ],
            [
             0.7,
             "#b8e186"
            ],
            [
             0.8,
             "#7fbc41"
            ],
            [
             0.9,
             "#4d9221"
            ],
            [
             1,
             "#276419"
            ]
           ],
           "sequential": [
            [
             0,
             "#0d0887"
            ],
            [
             0.1111111111111111,
             "#46039f"
            ],
            [
             0.2222222222222222,
             "#7201a8"
            ],
            [
             0.3333333333333333,
             "#9c179e"
            ],
            [
             0.4444444444444444,
             "#bd3786"
            ],
            [
             0.5555555555555556,
             "#d8576b"
            ],
            [
             0.6666666666666666,
             "#ed7953"
            ],
            [
             0.7777777777777778,
             "#fb9f3a"
            ],
            [
             0.8888888888888888,
             "#fdca26"
            ],
            [
             1,
             "#f0f921"
            ]
           ],
           "sequentialminus": [
            [
             0,
             "#0d0887"
            ],
            [
             0.1111111111111111,
             "#46039f"
            ],
            [
             0.2222222222222222,
             "#7201a8"
            ],
            [
             0.3333333333333333,
             "#9c179e"
            ],
            [
             0.4444444444444444,
             "#bd3786"
            ],
            [
             0.5555555555555556,
             "#d8576b"
            ],
            [
             0.6666666666666666,
             "#ed7953"
            ],
            [
             0.7777777777777778,
             "#fb9f3a"
            ],
            [
             0.8888888888888888,
             "#fdca26"
            ],
            [
             1,
             "#f0f921"
            ]
           ]
          },
          "colorway": [
           "#636efa",
           "#EF553B",
           "#00cc96",
           "#ab63fa",
           "#FFA15A",
           "#19d3f3",
           "#FF6692",
           "#B6E880",
           "#FF97FF",
           "#FECB52"
          ],
          "font": {
           "color": "#2a3f5f"
          },
          "geo": {
           "bgcolor": "white",
           "lakecolor": "white",
           "landcolor": "#E5ECF6",
           "showlakes": true,
           "showland": true,
           "subunitcolor": "white"
          },
          "hoverlabel": {
           "align": "left"
          },
          "hovermode": "closest",
          "mapbox": {
           "style": "light"
          },
          "paper_bgcolor": "white",
          "plot_bgcolor": "#E5ECF6",
          "polar": {
           "angularaxis": {
            "gridcolor": "white",
            "linecolor": "white",
            "ticks": ""
           },
           "bgcolor": "#E5ECF6",
           "radialaxis": {
            "gridcolor": "white",
            "linecolor": "white",
            "ticks": ""
           }
          },
          "scene": {
           "xaxis": {
            "backgroundcolor": "#E5ECF6",
            "gridcolor": "white",
            "gridwidth": 2,
            "linecolor": "white",
            "showbackground": true,
            "ticks": "",
            "zerolinecolor": "white"
           },
           "yaxis": {
            "backgroundcolor": "#E5ECF6",
            "gridcolor": "white",
            "gridwidth": 2,
            "linecolor": "white",
            "showbackground": true,
            "ticks": "",
            "zerolinecolor": "white"
           },
           "zaxis": {
            "backgroundcolor": "#E5ECF6",
            "gridcolor": "white",
            "gridwidth": 2,
            "linecolor": "white",
            "showbackground": true,
            "ticks": "",
            "zerolinecolor": "white"
           }
          },
          "shapedefaults": {
           "line": {
            "color": "#2a3f5f"
           }
          },
          "ternary": {
           "aaxis": {
            "gridcolor": "white",
            "linecolor": "white",
            "ticks": ""
           },
           "baxis": {
            "gridcolor": "white",
            "linecolor": "white",
            "ticks": ""
           },
           "bgcolor": "#E5ECF6",
           "caxis": {
            "gridcolor": "white",
            "linecolor": "white",
            "ticks": ""
           }
          },
          "title": {
           "x": 0.05
          },
          "xaxis": {
           "automargin": true,
           "gridcolor": "white",
           "linecolor": "white",
           "ticks": "",
           "title": {
            "standoff": 15
           },
           "zerolinecolor": "white",
           "zerolinewidth": 2
          },
          "yaxis": {
           "automargin": true,
           "gridcolor": "white",
           "linecolor": "white",
           "ticks": "",
           "title": {
            "standoff": 15
           },
           "zerolinecolor": "white",
           "zerolinewidth": 2
          }
         }
        },
        "width": 1600
       }
      }
     },
     "metadata": {},
     "output_type": "display_data"
    }
   ],
   "source": [
    "fig2 = make_subplots(rows=3, \n",
    "                    cols=3, \n",
    "                    start_cell=\"top-left\", \n",
    "                    horizontal_spacing=0.1,\n",
    "                    vertical_spacing=0.1,\n",
    "                    specs=[\n",
    "    [{\"type\":\"scatterpolar\"}, {\"type\":\"scatterpolar\"}, {\"type\":\"scatterpolar\"}],\n",
    "    [{\"type\":\"scatterpolar\"}, {\"type\":\"scatterpolar\"}, {\"type\":\"scatterpolar\"}],\n",
    "    [{\"type\":\"scatterpolar\"}, {\"type\":\"scatterpolar\"}, {\"type\":\"scatterpolar\"}]\n",
    "])  \n",
    "\n",
    "fig2.add_trace(go.Scatterpolar(name = \"Reactome BioPAX v65\", r = counts_reactome_v65, theta=classes), 1, 1)\n",
    "fig2.add_trace(go.Scatterpolar(name = \"Reactome PC\", r = counts_reactome_pc, theta=classes), 1, 2)\n",
    "fig2.add_trace(go.Scatterpolar(name = \"Panther PC\", r = counts_panther, theta=classes), 1, 3)\n",
    "fig2.add_trace(go.Scatterpolar(name = \"PathBank PC\", r = counts_pathbank, theta=classes), 2, 1)\n",
    "fig2.add_trace(go.Scatterpolar(name = \"HumanCyc PC\", r = counts_humancyc, theta=classes), 2, 2)\n",
    "fig2.add_trace(go.Scatterpolar(name = \"KEGG PC\", r = counts_kegg, theta=classes), 2, 3)\n",
    "fig2.add_trace(go.Scatterpolar(name = \"PID PC\", r = counts_pid, theta=classes), 3, 1)\n",
    "fig2.add_trace(go.Scatterpolar(name = \"INOH PC\", r = counts_inoh, theta=classes), 3, 2)\n",
    "fig2.add_trace(go.Scatterpolar(name = \"NetPath PC\", r = counts_netpath, theta=classes), 3, 3)\n",
    "\n",
    "\n",
    "fig2.update_layout(margin=dict(t=150))\n",
    "fig2.update_polars(radialaxis=dict(range=[0, 1])) # same axis\n",
    "fig2.update_layout(width=1600, height=1300, polar=dict(radialaxis=dict(visible=True)))\n",
    "fig2.write_image(\"../Results/radar_plot_bp_classes_all_databases.pdf\")\n",
    "fig2.write_image(\"../Results/radar_plot_bp_classes_all_databases.svg\")\n",
    "fig2.show()"
   ]
  }
 ],
 "metadata": {
  "kernelspec": {
   "display_name": "biopax_sparql_queries",
   "language": "python",
   "name": "python3"
  },
  "language_info": {
   "codemirror_mode": {
    "name": "ipython",
    "version": 3
   },
   "file_extension": ".py",
   "mimetype": "text/x-python",
   "name": "python",
   "nbconvert_exporter": "python",
   "pygments_lexer": "ipython3",
   "version": "3.12.4"
  }
 },
 "nbformat": 4,
 "nbformat_minor": 2
}
