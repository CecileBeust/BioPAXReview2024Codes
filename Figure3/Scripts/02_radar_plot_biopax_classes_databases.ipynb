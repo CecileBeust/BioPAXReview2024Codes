{
 "cells": [
  {
   "cell_type": "markdown",
   "metadata": {},
   "source": [
    "## Radar Plots: number of instances of BioPAX classes in the BioPAX exports of several pathway databases"
   ]
  },
  {
   "cell_type": "markdown",
   "metadata": {},
   "source": [
    "#### Import libraries"
   ]
  },
  {
   "cell_type": "code",
   "execution_count": 21,
   "metadata": {},
   "outputs": [],
   "source": [
    "import pandas as pd\n",
    "import plotly.express as px\n",
    "from plotly.subplots import make_subplots\n",
    "import plotly.graph_objects as go"
   ]
  },
  {
   "cell_type": "markdown",
   "metadata": {},
   "source": [
    "#### Get the results of the SPARQL queries\n",
    "\n",
    "The results of SPARQL queries generated in `01_count_biopax_classes.ipynb`are used to build the radar plots"
   ]
  },
  {
   "cell_type": "code",
   "execution_count": 22,
   "metadata": {},
   "outputs": [],
   "source": [
    "# Get SPARQL queries results files for each database\n",
    "reactome_standalone = pd.read_csv(\"../Results/reactome_standalone_biopax_counts_bp_classes.csv\", sep=\",\", skiprows=1, header=None, index_col=0)\n",
    "reactome_pc = pd.read_csv(\"../Results/reactome_pc_counts_bp_classes.csv\", sep=\",\", skiprows=1, header=None, index_col=0)\n",
    "panther_standalone = pd.read_csv(\"../Results/panther_standalone_biopax_counts_bp_classes.csv\", sep=\",\", skiprows=1, header=None, index_col=0)\n",
    "panther_pc = pd.read_csv(\"../Results/panther_pc_counts_bp_classes.csv\", sep=\",\", skiprows=1, header=None, index_col=0)\n",
    "pathbank_pc = pd.read_csv(\"../Results/pathbank_pc_counts_bp_classes.csv\", sep=\",\", skiprows=1, header=None, index_col=0)\n",
    "humancyc_pc = pd.read_csv(\"../Results/humancyc_pc_counts_bp_classes.csv\", sep=\",\", skiprows=1, header=None, index_col=0)\n",
    "kegg_pc = pd.read_csv(\"../Results/kegg_pc_counts_bp_classes.csv\", sep=\",\", skiprows=1, header=None, index_col=0)\n",
    "pid_pc = pd.read_csv(\"../Results/pid_pc_counts_bp_classes.csv\", sep=\",\", skiprows=1, header=None, index_col=0)\n",
    "inoh_pc = pd.read_csv(\"../Results/inoh_pc_counts_bp_classes.csv\", sep=\",\", skiprows=1, header=None, index_col=0)\n",
    "netpath_pc = pd.read_csv(\"../Results/netpath_pc_counts_bp_classes.csv\", sep=\",\", skiprows=1, header=None, index_col=0)\n",
    "\n",
    "df_list = [reactome_standalone, reactome_pc, panther_pc, pathbank_pc, humancyc_pc, kegg_pc, pid_pc, inoh_pc, netpath_pc]"
   ]
  },
  {
   "cell_type": "code",
   "execution_count": 23,
   "metadata": {},
   "outputs": [],
   "source": [
    "# List of BioPAX classes to represent on the radar plots\n",
    "classes = ['Pathway', 'PathwayStep', 'BiochemicalReaction', 'Rna', 'Dna', 'Protein', 'SmallMolecule', 'Interaction', 'Pathway']\n",
    "# Define angles for the radar plot\n",
    "angles = [i*(360/8) for i in range(1,9)]"
   ]
  },
  {
   "cell_type": "code",
   "execution_count": 24,
   "metadata": {},
   "outputs": [
    {
     "name": "stdout",
     "output_type": "stream",
     "text": [
      "                     reactome_standalone  reactome_pc  panther_standalone  \\\n",
      "Pathway                         0.724247     0.712625            0.085578   \n",
      "PathwayStep                     0.662164     0.650322            0.000000   \n",
      "BiochemicalReaction             1.000000     0.981917            0.163939   \n",
      "Rna                             1.000000     0.992447            0.000000   \n",
      "Dna                             1.000000     0.988327            0.000000   \n",
      "Protein                         1.000000     0.991037            0.190418   \n",
      "SmallMolecule                   0.892480     0.888568            0.379891   \n",
      "Interaction                     0.791676     0.775048            0.211987   \n",
      "Pathway                         0.724247     0.712625            0.085578   \n",
      "\n",
      "                     panther_pc  pathbank_pc  humancyc_pc   kegg_pc    pid_pc  \\\n",
      "Pathway                0.085578     1.000000     0.094559  0.051506  0.196778   \n",
      "PathwayStep            0.000000     1.000000     0.079528  0.000000  0.000000   \n",
      "BiochemicalReaction    0.163939     0.761154     0.160243  0.117608  0.202284   \n",
      "Rna                    0.000000     0.149547     0.090634  0.000000  0.033233   \n",
      "Dna                    0.000000     0.048638     0.000000  0.000000  0.000000   \n",
      "Protein                0.190418     0.351448     0.091571  0.058465  0.205628   \n",
      "SmallMolecule          0.379891     1.000000     0.466825  0.283089  0.031984   \n",
      "Interaction            0.211987     1.000000     0.232796  0.115653  0.519173   \n",
      "Pathway                0.085578     1.000000     0.094559  0.051506  0.196778   \n",
      "\n",
      "                      inoh_pc  netpath_pc  \n",
      "Pathway              0.204437    0.007132  \n",
      "PathwayStep          0.131078    0.000000  \n",
      "BiochemicalReaction  0.104673    0.132920  \n",
      "Rna                  0.265861    0.000000  \n",
      "Dna                  0.381323    0.000000  \n",
      "Protein              0.399888    0.151785  \n",
      "SmallMolecule        0.726948    0.000000  \n",
      "Interaction          0.182976    0.233834  \n",
      "Pathway              0.204437    0.007132  \n"
     ]
    }
   ],
   "source": [
    "# Concatenate SPARQL query results in a single dataframe\n",
    "concat_df_reduced = pd.concat([reactome_standalone, reactome_pc[1], panther_standalone[1], panther_pc[1], pathbank_pc[1], humancyc_pc[1], kegg_pc[1], pid_pc[1], inoh_pc[1], netpath_pc[1]], axis=1, ignore_index=True)\n",
    "concat_df_reduced.columns = [\"reactome_standalone\", \"reactome_pc\", \"panther_standalone\", \"panther_pc\", \"pathbank_pc\", \"humancyc_pc\", \"kegg_pc\", \"pid_pc\", \"inoh_pc\", \"netpath_pc\"]\n",
    "concat_df_reduced.index = [\"BiochemicalReaction\", \"Pathway\", \"PathwayStep\", \"SmallMolecule\", \"Rna\", \"Interaction\", \"Protein\", \"Dna\"]\n",
    "# export to CSV\n",
    "concat_df_reduced.to_csv(\"../Results/Counts_BP_Classes_All_Databases.csv\", sep=\",\")\n",
    "\n",
    "# Normalize dataset by the maximal value of each category (max number of instances for a BioPAX class)\n",
    "concat_df_reduced_norm = concat_df_reduced.div(concat_df_reduced.max(axis=1), axis=0)\n",
    "concat_df_reduced_norm = concat_df_reduced_norm.reindex(classes)\n",
    "print(concat_df_reduced_norm)\n"
   ]
  },
  {
   "cell_type": "code",
   "execution_count": 25,
   "metadata": {},
   "outputs": [],
   "source": [
    "# Get the counts of instances for each databases into a list\n",
    "counts_reactome_standalone = concat_df_reduced_norm['reactome_standalone'].to_list()\n",
    "# Duplicate first value to close the line\n",
    "counts_reactome_standalone.append(counts_reactome_standalone[0])\n",
    "\n",
    "counts_panther_standalone = concat_df_reduced_norm['panther_standalone'].to_list()\n",
    "counts_panther_standalone.append(counts_panther_standalone[0])\n",
    "\n",
    "counts_reactome_pc = concat_df_reduced_norm['reactome_pc'].to_list()\n",
    "counts_reactome_pc.append(counts_reactome_pc[0])\n",
    "counts_panther = concat_df_reduced_norm['panther_pc'].to_list()\n",
    "counts_panther.append(counts_panther[0])\n",
    "counts_pathbank = concat_df_reduced_norm['pathbank_pc'].to_list()\n",
    "counts_pathbank.append(counts_pathbank[0])\n",
    "counts_humancyc = concat_df_reduced_norm['humancyc_pc'].to_list()\n",
    "counts_humancyc.append(counts_humancyc[0])\n",
    "counts_kegg = concat_df_reduced_norm['kegg_pc'].to_list()\n",
    "counts_kegg.append(counts_kegg[0])\n",
    "counts_pid = concat_df_reduced_norm['pid_pc'].to_list()\n",
    "counts_pid.append(counts_pid[0])\n",
    "counts_inoh = concat_df_reduced_norm['inoh_pc'].to_list()\n",
    "counts_inoh.append(counts_inoh[0])\n",
    "counts_netpath = concat_df_reduced_norm['netpath_pc'].to_list()\n",
    "counts_netpath.append(counts_netpath[0])"
   ]
  },
  {
   "cell_type": "markdown",
   "metadata": {},
   "source": [
    "## Generate the radar plots\n",
    "\n",
    "We generate here the radar plots for the pathway databases that are maintained: Reactome (standalone export version 87 and PathwayCommons version), Panther (PathwayCommons), PathBank (PathwayCommons), HumanCyc (PathwayCommons), KEGG (PathwayCommons)"
   ]
  },
  {
   "cell_type": "code",
   "execution_count": 26,
   "metadata": {},
   "outputs": [
    {
     "data": {
      "application/vnd.plotly.v1+json": {
       "config": {
        "plotlyServerURL": "https://plot.ly"
       },
       "data": [
        {
         "name": "Reactome Standalone BioPAX",
         "r": [
          0.7242472266244057,
          0.6621641625342314,
          1,
          1,
          1,
          1,
          0.8924804355222865,
          0.7916761207092152,
          0.7242472266244057,
          0.7242472266244057
         ],
         "subplot": "polar",
         "theta": [
          "Pathway",
          "PathwayStep",
          "BiochemicalReaction",
          "Rna",
          "Dna",
          "Protein",
          "SmallMolecule",
          "Interaction",
          "Pathway"
         ],
         "type": "scatterpolar"
        },
        {
         "name": "Reactome PC",
         "r": [
          0.7126254622292657,
          0.6503219598845386,
          0.9819165786694826,
          0.9924471299093656,
          0.9883268482490273,
          0.991036572035354,
          0.8885675399795849,
          0.7750478104437457,
          0.7126254622292657,
          0.7126254622292657
         ],
         "subplot": "polar2",
         "theta": [
          "Pathway",
          "PathwayStep",
          "BiochemicalReaction",
          "Rna",
          "Dna",
          "Protein",
          "SmallMolecule",
          "Interaction",
          "Pathway"
         ],
         "type": "scatterpolar"
        },
        {
         "name": "Panther Standalone BioPAX",
         "r": [
          0.08557844690966719,
          0,
          0.16393875395987328,
          0,
          0,
          0.1904181892001624,
          0.379891119428377,
          0.21198664548961135,
          0.08557844690966719,
          0.08557844690966719
         ],
         "subplot": "polar3",
         "theta": [
          "Pathway",
          "PathwayStep",
          "BiochemicalReaction",
          "Rna",
          "Dna",
          "Protein",
          "SmallMolecule",
          "Interaction",
          "Pathway"
         ],
         "type": "scatterpolar"
        },
        {
         "name": "PANTHER Pathway PC",
         "r": [
          0.08557844690966719,
          0,
          0.16393875395987328,
          0,
          0,
          0.1904181892001624,
          0.379891119428377,
          0.21198664548961135,
          0.08557844690966719,
          0.08557844690966719
         ],
         "subplot": "polar4",
         "theta": [
          "Pathway",
          "PathwayStep",
          "BiochemicalReaction",
          "Rna",
          "Dna",
          "Protein",
          "SmallMolecule",
          "Interaction",
          "Pathway"
         ],
         "type": "scatterpolar"
        },
        {
         "name": "PathBank PC",
         "r": [
          1,
          1,
          0.7611536430834214,
          0.14954682779456194,
          0.048638132295719845,
          0.35144757800056214,
          1,
          1,
          1,
          1
         ],
         "subplot": "polar5",
         "theta": [
          "Pathway",
          "PathwayStep",
          "BiochemicalReaction",
          "Rna",
          "Dna",
          "Protein",
          "SmallMolecule",
          "Interaction",
          "Pathway"
         ],
         "type": "scatterpolar"
        },
        {
         "name": "HumanCyc PC",
         "r": [
          0.09455890121500264,
          0.0795277921693435,
          0.1602428722280887,
          0.09063444108761329,
          0,
          0.09157062993847404,
          0.4668254508336169,
          0.2327963437165732,
          0.09455890121500264,
          0.09455890121500264
         ],
         "subplot": "polar6",
         "theta": [
          "Pathway",
          "PathwayStep",
          "BiochemicalReaction",
          "Rna",
          "Dna",
          "Protein",
          "SmallMolecule",
          "Interaction",
          "Pathway"
         ],
         "type": "scatterpolar"
        },
        {
         "name": "KEGG Pathway PC",
         "r": [
          0.05150554675118859,
          0,
          0.11760823653643084,
          0,
          0,
          0.058465286236297195,
          0.2830894862198027,
          0.11565265307445463,
          0.05150554675118859,
          0.05150554675118859
         ],
         "subplot": "polar7",
         "theta": [
          "Pathway",
          "PathwayStep",
          "BiochemicalReaction",
          "Rna",
          "Dna",
          "Protein",
          "SmallMolecule",
          "Interaction",
          "Pathway"
         ],
         "type": "scatterpolar"
        }
       ],
       "layout": {
        "height": 1300,
        "margin": {
         "t": 150
        },
        "polar": {
         "domain": {
          "x": [
           0,
           0.175
          ],
          "y": [
           0.55,
           1
          ]
         },
         "radialaxis": {
          "range": [
           0,
           1
          ],
          "visible": true
         }
        },
        "polar2": {
         "domain": {
          "x": [
           0.275,
           0.45
          ],
          "y": [
           0.55,
           1
          ]
         },
         "radialaxis": {
          "range": [
           0,
           1
          ]
         }
        },
        "polar3": {
         "domain": {
          "x": [
           0.55,
           0.7250000000000001
          ],
          "y": [
           0.55,
           1
          ]
         },
         "radialaxis": {
          "range": [
           0,
           1
          ]
         }
        },
        "polar4": {
         "domain": {
          "x": [
           0.825,
           1
          ],
          "y": [
           0.55,
           1
          ]
         },
         "radialaxis": {
          "range": [
           0,
           1
          ]
         }
        },
        "polar5": {
         "domain": {
          "x": [
           0,
           0.175
          ],
          "y": [
           0,
           0.45
          ]
         },
         "radialaxis": {
          "range": [
           0,
           1
          ]
         }
        },
        "polar6": {
         "domain": {
          "x": [
           0.275,
           0.45
          ],
          "y": [
           0,
           0.45
          ]
         },
         "radialaxis": {
          "range": [
           0,
           1
          ]
         }
        },
        "polar7": {
         "domain": {
          "x": [
           0.55,
           0.7250000000000001
          ],
          "y": [
           0,
           0.45
          ]
         },
         "radialaxis": {
          "range": [
           0,
           1
          ]
         }
        },
        "template": {
         "data": {
          "bar": [
           {
            "error_x": {
             "color": "#2a3f5f"
            },
            "error_y": {
             "color": "#2a3f5f"
            },
            "marker": {
             "line": {
              "color": "#E5ECF6",
              "width": 0.5
             },
             "pattern": {
              "fillmode": "overlay",
              "size": 10,
              "solidity": 0.2
             }
            },
            "type": "bar"
           }
          ],
          "barpolar": [
           {
            "marker": {
             "line": {
              "color": "#E5ECF6",
              "width": 0.5
             },
             "pattern": {
              "fillmode": "overlay",
              "size": 10,
              "solidity": 0.2
             }
            },
            "type": "barpolar"
           }
          ],
          "carpet": [
           {
            "aaxis": {
             "endlinecolor": "#2a3f5f",
             "gridcolor": "white",
             "linecolor": "white",
             "minorgridcolor": "white",
             "startlinecolor": "#2a3f5f"
            },
            "baxis": {
             "endlinecolor": "#2a3f5f",
             "gridcolor": "white",
             "linecolor": "white",
             "minorgridcolor": "white",
             "startlinecolor": "#2a3f5f"
            },
            "type": "carpet"
           }
          ],
          "choropleth": [
           {
            "colorbar": {
             "outlinewidth": 0,
             "ticks": ""
            },
            "type": "choropleth"
           }
          ],
          "contour": [
           {
            "colorbar": {
             "outlinewidth": 0,
             "ticks": ""
            },
            "colorscale": [
             [
              0,
              "#0d0887"
             ],
             [
              0.1111111111111111,
              "#46039f"
             ],
             [
              0.2222222222222222,
              "#7201a8"
             ],
             [
              0.3333333333333333,
              "#9c179e"
             ],
             [
              0.4444444444444444,
              "#bd3786"
             ],
             [
              0.5555555555555556,
              "#d8576b"
             ],
             [
              0.6666666666666666,
              "#ed7953"
             ],
             [
              0.7777777777777778,
              "#fb9f3a"
             ],
             [
              0.8888888888888888,
              "#fdca26"
             ],
             [
              1,
              "#f0f921"
             ]
            ],
            "type": "contour"
           }
          ],
          "contourcarpet": [
           {
            "colorbar": {
             "outlinewidth": 0,
             "ticks": ""
            },
            "type": "contourcarpet"
           }
          ],
          "heatmap": [
           {
            "colorbar": {
             "outlinewidth": 0,
             "ticks": ""
            },
            "colorscale": [
             [
              0,
              "#0d0887"
             ],
             [
              0.1111111111111111,
              "#46039f"
             ],
             [
              0.2222222222222222,
              "#7201a8"
             ],
             [
              0.3333333333333333,
              "#9c179e"
             ],
             [
              0.4444444444444444,
              "#bd3786"
             ],
             [
              0.5555555555555556,
              "#d8576b"
             ],
             [
              0.6666666666666666,
              "#ed7953"
             ],
             [
              0.7777777777777778,
              "#fb9f3a"
             ],
             [
              0.8888888888888888,
              "#fdca26"
             ],
             [
              1,
              "#f0f921"
             ]
            ],
            "type": "heatmap"
           }
          ],
          "heatmapgl": [
           {
            "colorbar": {
             "outlinewidth": 0,
             "ticks": ""
            },
            "colorscale": [
             [
              0,
              "#0d0887"
             ],
             [
              0.1111111111111111,
              "#46039f"
             ],
             [
              0.2222222222222222,
              "#7201a8"
             ],
             [
              0.3333333333333333,
              "#9c179e"
             ],
             [
              0.4444444444444444,
              "#bd3786"
             ],
             [
              0.5555555555555556,
              "#d8576b"
             ],
             [
              0.6666666666666666,
              "#ed7953"
             ],
             [
              0.7777777777777778,
              "#fb9f3a"
             ],
             [
              0.8888888888888888,
              "#fdca26"
             ],
             [
              1,
              "#f0f921"
             ]
            ],
            "type": "heatmapgl"
           }
          ],
          "histogram": [
           {
            "marker": {
             "pattern": {
              "fillmode": "overlay",
              "size": 10,
              "solidity": 0.2
             }
            },
            "type": "histogram"
           }
          ],
          "histogram2d": [
           {
            "colorbar": {
             "outlinewidth": 0,
             "ticks": ""
            },
            "colorscale": [
             [
              0,
              "#0d0887"
             ],
             [
              0.1111111111111111,
              "#46039f"
             ],
             [
              0.2222222222222222,
              "#7201a8"
             ],
             [
              0.3333333333333333,
              "#9c179e"
             ],
             [
              0.4444444444444444,
              "#bd3786"
             ],
             [
              0.5555555555555556,
              "#d8576b"
             ],
             [
              0.6666666666666666,
              "#ed7953"
             ],
             [
              0.7777777777777778,
              "#fb9f3a"
             ],
             [
              0.8888888888888888,
              "#fdca26"
             ],
             [
              1,
              "#f0f921"
             ]
            ],
            "type": "histogram2d"
           }
          ],
          "histogram2dcontour": [
           {
            "colorbar": {
             "outlinewidth": 0,
             "ticks": ""
            },
            "colorscale": [
             [
              0,
              "#0d0887"
             ],
             [
              0.1111111111111111,
              "#46039f"
             ],
             [
              0.2222222222222222,
              "#7201a8"
             ],
             [
              0.3333333333333333,
              "#9c179e"
             ],
             [
              0.4444444444444444,
              "#bd3786"
             ],
             [
              0.5555555555555556,
              "#d8576b"
             ],
             [
              0.6666666666666666,
              "#ed7953"
             ],
             [
              0.7777777777777778,
              "#fb9f3a"
             ],
             [
              0.8888888888888888,
              "#fdca26"
             ],
             [
              1,
              "#f0f921"
             ]
            ],
            "type": "histogram2dcontour"
           }
          ],
          "mesh3d": [
           {
            "colorbar": {
             "outlinewidth": 0,
             "ticks": ""
            },
            "type": "mesh3d"
           }
          ],
          "parcoords": [
           {
            "line": {
             "colorbar": {
              "outlinewidth": 0,
              "ticks": ""
             }
            },
            "type": "parcoords"
           }
          ],
          "pie": [
           {
            "automargin": true,
            "type": "pie"
           }
          ],
          "scatter": [
           {
            "fillpattern": {
             "fillmode": "overlay",
             "size": 10,
             "solidity": 0.2
            },
            "type": "scatter"
           }
          ],
          "scatter3d": [
           {
            "line": {
             "colorbar": {
              "outlinewidth": 0,
              "ticks": ""
             }
            },
            "marker": {
             "colorbar": {
              "outlinewidth": 0,
              "ticks": ""
             }
            },
            "type": "scatter3d"
           }
          ],
          "scattercarpet": [
           {
            "marker": {
             "colorbar": {
              "outlinewidth": 0,
              "ticks": ""
             }
            },
            "type": "scattercarpet"
           }
          ],
          "scattergeo": [
           {
            "marker": {
             "colorbar": {
              "outlinewidth": 0,
              "ticks": ""
             }
            },
            "type": "scattergeo"
           }
          ],
          "scattergl": [
           {
            "marker": {
             "colorbar": {
              "outlinewidth": 0,
              "ticks": ""
             }
            },
            "type": "scattergl"
           }
          ],
          "scattermapbox": [
           {
            "marker": {
             "colorbar": {
              "outlinewidth": 0,
              "ticks": ""
             }
            },
            "type": "scattermapbox"
           }
          ],
          "scatterpolar": [
           {
            "marker": {
             "colorbar": {
              "outlinewidth": 0,
              "ticks": ""
             }
            },
            "type": "scatterpolar"
           }
          ],
          "scatterpolargl": [
           {
            "marker": {
             "colorbar": {
              "outlinewidth": 0,
              "ticks": ""
             }
            },
            "type": "scatterpolargl"
           }
          ],
          "scatterternary": [
           {
            "marker": {
             "colorbar": {
              "outlinewidth": 0,
              "ticks": ""
             }
            },
            "type": "scatterternary"
           }
          ],
          "surface": [
           {
            "colorbar": {
             "outlinewidth": 0,
             "ticks": ""
            },
            "colorscale": [
             [
              0,
              "#0d0887"
             ],
             [
              0.1111111111111111,
              "#46039f"
             ],
             [
              0.2222222222222222,
              "#7201a8"
             ],
             [
              0.3333333333333333,
              "#9c179e"
             ],
             [
              0.4444444444444444,
              "#bd3786"
             ],
             [
              0.5555555555555556,
              "#d8576b"
             ],
             [
              0.6666666666666666,
              "#ed7953"
             ],
             [
              0.7777777777777778,
              "#fb9f3a"
             ],
             [
              0.8888888888888888,
              "#fdca26"
             ],
             [
              1,
              "#f0f921"
             ]
            ],
            "type": "surface"
           }
          ],
          "table": [
           {
            "cells": {
             "fill": {
              "color": "#EBF0F8"
             },
             "line": {
              "color": "white"
             }
            },
            "header": {
             "fill": {
              "color": "#C8D4E3"
             },
             "line": {
              "color": "white"
             }
            },
            "type": "table"
           }
          ]
         },
         "layout": {
          "annotationdefaults": {
           "arrowcolor": "#2a3f5f",
           "arrowhead": 0,
           "arrowwidth": 1
          },
          "autotypenumbers": "strict",
          "coloraxis": {
           "colorbar": {
            "outlinewidth": 0,
            "ticks": ""
           }
          },
          "colorscale": {
           "diverging": [
            [
             0,
             "#8e0152"
            ],
            [
             0.1,
             "#c51b7d"
            ],
            [
             0.2,
             "#de77ae"
            ],
            [
             0.3,
             "#f1b6da"
            ],
            [
             0.4,
             "#fde0ef"
            ],
            [
             0.5,
             "#f7f7f7"
            ],
            [
             0.6,
             "#e6f5d0"
            ],
            [
             0.7,
             "#b8e186"
            ],
            [
             0.8,
             "#7fbc41"
            ],
            [
             0.9,
             "#4d9221"
            ],
            [
             1,
             "#276419"
            ]
           ],
           "sequential": [
            [
             0,
             "#0d0887"
            ],
            [
             0.1111111111111111,
             "#46039f"
            ],
            [
             0.2222222222222222,
             "#7201a8"
            ],
            [
             0.3333333333333333,
             "#9c179e"
            ],
            [
             0.4444444444444444,
             "#bd3786"
            ],
            [
             0.5555555555555556,
             "#d8576b"
            ],
            [
             0.6666666666666666,
             "#ed7953"
            ],
            [
             0.7777777777777778,
             "#fb9f3a"
            ],
            [
             0.8888888888888888,
             "#fdca26"
            ],
            [
             1,
             "#f0f921"
            ]
           ],
           "sequentialminus": [
            [
             0,
             "#0d0887"
            ],
            [
             0.1111111111111111,
             "#46039f"
            ],
            [
             0.2222222222222222,
             "#7201a8"
            ],
            [
             0.3333333333333333,
             "#9c179e"
            ],
            [
             0.4444444444444444,
             "#bd3786"
            ],
            [
             0.5555555555555556,
             "#d8576b"
            ],
            [
             0.6666666666666666,
             "#ed7953"
            ],
            [
             0.7777777777777778,
             "#fb9f3a"
            ],
            [
             0.8888888888888888,
             "#fdca26"
            ],
            [
             1,
             "#f0f921"
            ]
           ]
          },
          "colorway": [
           "#636efa",
           "#EF553B",
           "#00cc96",
           "#ab63fa",
           "#FFA15A",
           "#19d3f3",
           "#FF6692",
           "#B6E880",
           "#FF97FF",
           "#FECB52"
          ],
          "font": {
           "color": "#2a3f5f"
          },
          "geo": {
           "bgcolor": "white",
           "lakecolor": "white",
           "landcolor": "#E5ECF6",
           "showlakes": true,
           "showland": true,
           "subunitcolor": "white"
          },
          "hoverlabel": {
           "align": "left"
          },
          "hovermode": "closest",
          "mapbox": {
           "style": "light"
          },
          "paper_bgcolor": "white",
          "plot_bgcolor": "#E5ECF6",
          "polar": {
           "angularaxis": {
            "gridcolor": "white",
            "linecolor": "white",
            "ticks": ""
           },
           "bgcolor": "#E5ECF6",
           "radialaxis": {
            "gridcolor": "white",
            "linecolor": "white",
            "ticks": ""
           }
          },
          "scene": {
           "xaxis": {
            "backgroundcolor": "#E5ECF6",
            "gridcolor": "white",
            "gridwidth": 2,
            "linecolor": "white",
            "showbackground": true,
            "ticks": "",
            "zerolinecolor": "white"
           },
           "yaxis": {
            "backgroundcolor": "#E5ECF6",
            "gridcolor": "white",
            "gridwidth": 2,
            "linecolor": "white",
            "showbackground": true,
            "ticks": "",
            "zerolinecolor": "white"
           },
           "zaxis": {
            "backgroundcolor": "#E5ECF6",
            "gridcolor": "white",
            "gridwidth": 2,
            "linecolor": "white",
            "showbackground": true,
            "ticks": "",
            "zerolinecolor": "white"
           }
          },
          "shapedefaults": {
           "line": {
            "color": "#2a3f5f"
           }
          },
          "ternary": {
           "aaxis": {
            "gridcolor": "white",
            "linecolor": "white",
            "ticks": ""
           },
           "baxis": {
            "gridcolor": "white",
            "linecolor": "white",
            "ticks": ""
           },
           "bgcolor": "#E5ECF6",
           "caxis": {
            "gridcolor": "white",
            "linecolor": "white",
            "ticks": ""
           }
          },
          "title": {
           "x": 0.05
          },
          "xaxis": {
           "automargin": true,
           "gridcolor": "white",
           "linecolor": "white",
           "ticks": "",
           "title": {
            "standoff": 15
           },
           "zerolinecolor": "white",
           "zerolinewidth": 2
          },
          "yaxis": {
           "automargin": true,
           "gridcolor": "white",
           "linecolor": "white",
           "ticks": "",
           "title": {
            "standoff": 15
           },
           "zerolinecolor": "white",
           "zerolinewidth": 2
          }
         }
        },
        "width": 1600
       }
      }
     },
     "metadata": {},
     "output_type": "display_data"
    }
   ],
   "source": [
    "fig = make_subplots(\n",
    "    rows=2, \n",
    "    cols=4, \n",
    "    start_cell=\"top-left\", \n",
    "    horizontal_spacing=0.1,\n",
    "    vertical_spacing=0.1,\n",
    "    specs=[\n",
    "        [{\"type\":\"scatterpolar\"}, {\"type\":\"scatterpolar\"}, {\"type\":\"scatterpolar\"}, {\"type\":\"scatterpolar\"}],\n",
    "        [{\"type\":\"scatterpolar\"}, {\"type\":\"scatterpolar\"}, {\"type\":\"scatterpolar\"}, None]\n",
    "    ]\n",
    ")  \n",
    "\n",
    "fig.add_trace(go.Scatterpolar(name = \"Reactome Standalone BioPAX\", r = counts_reactome_standalone, theta=classes), 1, 1)\n",
    "fig.add_trace(go.Scatterpolar(name = \"Reactome PC\", r = counts_reactome_pc, theta=classes), 1, 2)\n",
    "fig.add_trace(go.Scatterpolar(name = \"Panther Standalone BioPAX\", r = counts_panther_standalone, theta=classes), 1, 3)\n",
    "fig.add_trace(go.Scatterpolar(name = \"PANTHER Pathway PC\", r = counts_panther, theta=classes), 1, 4)\n",
    "fig.add_trace(go.Scatterpolar(name = \"PathBank PC\", r = counts_pathbank, theta=classes), 2, 1)\n",
    "fig.add_trace(go.Scatterpolar(name = \"HumanCyc PC\", r = counts_humancyc, theta=classes), 2, 2)\n",
    "fig.add_trace(go.Scatterpolar(name = \"KEGG Pathway PC\", r = counts_kegg, theta=classes), 2, 3)\n",
    "\n",
    "# Update layout\n",
    "fig.update_layout(\n",
    "    margin=dict(t=150),\n",
    "    width=1600,\n",
    "    height=1300,\n",
    "    polar=dict(radialaxis=dict(visible=True))\n",
    ")\n",
    "# Apply consistent radial axis range\n",
    "fig.update_polars(radialaxis=dict(range=[0, 1]))\n",
    "\n",
    "# Exporting as image files\n",
    "fig.write_image(\"../Results/radar_plot_bp_classes_updated_databases.pdf\")\n",
    "fig.write_image(\"../Results/radar_plot_bp_classes_updated_databases.svg\")\n",
    "\n",
    "# Display the plot\n",
    "fig.show()\n"
   ]
  },
  {
   "cell_type": "markdown",
   "metadata": {},
   "source": [
    "## Supplementary Figure\n",
    "\n",
    "The supplementary figure represents the radar plots of the nine pathway databases listed on PathwayCommons: Reactome (standalone export version 87 and PathwayCommons version), Panther (PathwayCommons), PathBank (PathwayCommons), HumanCyc (PathwayCommons), KEGG (PathwayCommons), PID (PathwayCommons), INOH (PathwayCommons) and NetPath (PathwayCommons)"
   ]
  },
  {
   "cell_type": "code",
   "execution_count": 27,
   "metadata": {},
   "outputs": [
    {
     "data": {
      "application/vnd.plotly.v1+json": {
       "config": {
        "plotlyServerURL": "https://plot.ly"
       },
       "data": [
        {
         "name": "Reactome Standalone BioPAX",
         "r": [
          0.7242472266244057,
          0.6621641625342314,
          1,
          1,
          1,
          1,
          0.8924804355222865,
          0.7916761207092152,
          0.7242472266244057,
          0.7242472266244057
         ],
         "subplot": "polar",
         "theta": [
          "Pathway",
          "PathwayStep",
          "BiochemicalReaction",
          "Rna",
          "Dna",
          "Protein",
          "SmallMolecule",
          "Interaction",
          "Pathway"
         ],
         "type": "scatterpolar"
        },
        {
         "name": "Reactome PC",
         "r": [
          0.7126254622292657,
          0.6503219598845386,
          0.9819165786694826,
          0.9924471299093656,
          0.9883268482490273,
          0.991036572035354,
          0.8885675399795849,
          0.7750478104437457,
          0.7126254622292657,
          0.7126254622292657
         ],
         "subplot": "polar2",
         "theta": [
          "Pathway",
          "PathwayStep",
          "BiochemicalReaction",
          "Rna",
          "Dna",
          "Protein",
          "SmallMolecule",
          "Interaction",
          "Pathway"
         ],
         "type": "scatterpolar"
        },
        {
         "name": "Panther Standalone BioPAX",
         "r": [
          0.08557844690966719,
          0,
          0.16393875395987328,
          0,
          0,
          0.1904181892001624,
          0.379891119428377,
          0.21198664548961135,
          0.08557844690966719,
          0.08557844690966719
         ],
         "subplot": "polar3",
         "theta": [
          "Pathway",
          "PathwayStep",
          "BiochemicalReaction",
          "Rna",
          "Dna",
          "Protein",
          "SmallMolecule",
          "Interaction",
          "Pathway"
         ],
         "type": "scatterpolar"
        },
        {
         "name": "PANTHER Pathway PC",
         "r": [
          0.08557844690966719,
          0,
          0.16393875395987328,
          0,
          0,
          0.1904181892001624,
          0.379891119428377,
          0.21198664548961135,
          0.08557844690966719,
          0.08557844690966719
         ],
         "subplot": "polar4",
         "theta": [
          "Pathway",
          "PathwayStep",
          "BiochemicalReaction",
          "Rna",
          "Dna",
          "Protein",
          "SmallMolecule",
          "Interaction",
          "Pathway"
         ],
         "type": "scatterpolar"
        },
        {
         "name": "PathBank PC",
         "r": [
          1,
          1,
          0.7611536430834214,
          0.14954682779456194,
          0.048638132295719845,
          0.35144757800056214,
          1,
          1,
          1,
          1
         ],
         "subplot": "polar5",
         "theta": [
          "Pathway",
          "PathwayStep",
          "BiochemicalReaction",
          "Rna",
          "Dna",
          "Protein",
          "SmallMolecule",
          "Interaction",
          "Pathway"
         ],
         "type": "scatterpolar"
        },
        {
         "name": "HumanCyc PC",
         "r": [
          0.09455890121500264,
          0.0795277921693435,
          0.1602428722280887,
          0.09063444108761329,
          0,
          0.09157062993847404,
          0.4668254508336169,
          0.2327963437165732,
          0.09455890121500264,
          0.09455890121500264
         ],
         "subplot": "polar6",
         "theta": [
          "Pathway",
          "PathwayStep",
          "BiochemicalReaction",
          "Rna",
          "Dna",
          "Protein",
          "SmallMolecule",
          "Interaction",
          "Pathway"
         ],
         "type": "scatterpolar"
        },
        {
         "name": "KEGG Pathway PC",
         "r": [
          0.05150554675118859,
          0,
          0.11760823653643084,
          0,
          0,
          0.058465286236297195,
          0.2830894862198027,
          0.11565265307445463,
          0.05150554675118859,
          0.05150554675118859
         ],
         "subplot": "polar7",
         "theta": [
          "Pathway",
          "PathwayStep",
          "BiochemicalReaction",
          "Rna",
          "Dna",
          "Protein",
          "SmallMolecule",
          "Interaction",
          "Pathway"
         ],
         "type": "scatterpolar"
        },
        {
         "name": "PID PC",
         "r": [
          0.19677760169043845,
          0,
          0.20228352692713833,
          0.03323262839879154,
          0,
          0.20562790842937007,
          0.03198366791425655,
          0.5191727982885482,
          0.19677760169043845,
          0.19677760169043845
         ],
         "subplot": "polar8",
         "theta": [
          "Pathway",
          "PathwayStep",
          "BiochemicalReaction",
          "Rna",
          "Dna",
          "Protein",
          "SmallMolecule",
          "Interaction",
          "Pathway"
         ],
         "type": "scatterpolar"
        },
        {
         "name": "INOH PC",
         "r": [
          0.20443740095087162,
          0.13107838057878765,
          0.1046726504751848,
          0.26586102719033233,
          0.38132295719844356,
          0.3998875667572379,
          0.7269479414766927,
          0.1829762406404979,
          0.20443740095087162,
          0.20443740095087162
         ],
         "subplot": "polar9",
         "theta": [
          "Pathway",
          "PathwayStep",
          "BiochemicalReaction",
          "Rna",
          "Dna",
          "Protein",
          "SmallMolecule",
          "Interaction",
          "Pathway"
         ],
         "type": "scatterpolar"
        },
        {
         "name": "NetPath PC",
         "r": [
          0.0071315372424722665,
          0,
          0.13291974656810981,
          0,
          0,
          0.1517848777288485,
          0,
          0.23383358724190464,
          0.0071315372424722665,
          0.0071315372424722665
         ],
         "subplot": "polar10",
         "theta": [
          "Pathway",
          "PathwayStep",
          "BiochemicalReaction",
          "Rna",
          "Dna",
          "Protein",
          "SmallMolecule",
          "Interaction",
          "Pathway"
         ],
         "type": "scatterpolar"
        }
       ],
       "layout": {
        "height": 1300,
        "margin": {
         "t": 150
        },
        "polar": {
         "domain": {
          "x": [
           0,
           0.175
          ],
          "y": [
           0.7333333333333334,
           1
          ]
         },
         "radialaxis": {
          "range": [
           0,
           1
          ],
          "visible": true
         }
        },
        "polar10": {
         "domain": {
          "x": [
           0.275,
           0.45
          ],
          "y": [
           0,
           0.26666666666666666
          ]
         },
         "radialaxis": {
          "range": [
           0,
           1
          ]
         }
        },
        "polar11": {
         "domain": {
          "x": [
           0.55,
           0.7250000000000001
          ],
          "y": [
           0,
           0.26666666666666666
          ]
         },
         "radialaxis": {
          "range": [
           0,
           1
          ]
         }
        },
        "polar12": {
         "domain": {
          "x": [
           0.825,
           1
          ],
          "y": [
           0,
           0.26666666666666666
          ]
         },
         "radialaxis": {
          "range": [
           0,
           1
          ]
         }
        },
        "polar2": {
         "domain": {
          "x": [
           0.275,
           0.45
          ],
          "y": [
           0.7333333333333334,
           1
          ]
         },
         "radialaxis": {
          "range": [
           0,
           1
          ]
         }
        },
        "polar3": {
         "domain": {
          "x": [
           0.55,
           0.7250000000000001
          ],
          "y": [
           0.7333333333333334,
           1
          ]
         },
         "radialaxis": {
          "range": [
           0,
           1
          ]
         }
        },
        "polar4": {
         "domain": {
          "x": [
           0.825,
           1
          ],
          "y": [
           0.7333333333333334,
           1
          ]
         },
         "radialaxis": {
          "range": [
           0,
           1
          ]
         }
        },
        "polar5": {
         "domain": {
          "x": [
           0,
           0.175
          ],
          "y": [
           0.3666666666666667,
           0.6333333333333333
          ]
         },
         "radialaxis": {
          "range": [
           0,
           1
          ]
         }
        },
        "polar6": {
         "domain": {
          "x": [
           0.275,
           0.45
          ],
          "y": [
           0.3666666666666667,
           0.6333333333333333
          ]
         },
         "radialaxis": {
          "range": [
           0,
           1
          ]
         }
        },
        "polar7": {
         "domain": {
          "x": [
           0.55,
           0.7250000000000001
          ],
          "y": [
           0.3666666666666667,
           0.6333333333333333
          ]
         },
         "radialaxis": {
          "range": [
           0,
           1
          ]
         }
        },
        "polar8": {
         "domain": {
          "x": [
           0.825,
           1
          ],
          "y": [
           0.3666666666666667,
           0.6333333333333333
          ]
         },
         "radialaxis": {
          "range": [
           0,
           1
          ]
         }
        },
        "polar9": {
         "domain": {
          "x": [
           0,
           0.175
          ],
          "y": [
           0,
           0.26666666666666666
          ]
         },
         "radialaxis": {
          "range": [
           0,
           1
          ]
         }
        },
        "template": {
         "data": {
          "bar": [
           {
            "error_x": {
             "color": "#2a3f5f"
            },
            "error_y": {
             "color": "#2a3f5f"
            },
            "marker": {
             "line": {
              "color": "#E5ECF6",
              "width": 0.5
             },
             "pattern": {
              "fillmode": "overlay",
              "size": 10,
              "solidity": 0.2
             }
            },
            "type": "bar"
           }
          ],
          "barpolar": [
           {
            "marker": {
             "line": {
              "color": "#E5ECF6",
              "width": 0.5
             },
             "pattern": {
              "fillmode": "overlay",
              "size": 10,
              "solidity": 0.2
             }
            },
            "type": "barpolar"
           }
          ],
          "carpet": [
           {
            "aaxis": {
             "endlinecolor": "#2a3f5f",
             "gridcolor": "white",
             "linecolor": "white",
             "minorgridcolor": "white",
             "startlinecolor": "#2a3f5f"
            },
            "baxis": {
             "endlinecolor": "#2a3f5f",
             "gridcolor": "white",
             "linecolor": "white",
             "minorgridcolor": "white",
             "startlinecolor": "#2a3f5f"
            },
            "type": "carpet"
           }
          ],
          "choropleth": [
           {
            "colorbar": {
             "outlinewidth": 0,
             "ticks": ""
            },
            "type": "choropleth"
           }
          ],
          "contour": [
           {
            "colorbar": {
             "outlinewidth": 0,
             "ticks": ""
            },
            "colorscale": [
             [
              0,
              "#0d0887"
             ],
             [
              0.1111111111111111,
              "#46039f"
             ],
             [
              0.2222222222222222,
              "#7201a8"
             ],
             [
              0.3333333333333333,
              "#9c179e"
             ],
             [
              0.4444444444444444,
              "#bd3786"
             ],
             [
              0.5555555555555556,
              "#d8576b"
             ],
             [
              0.6666666666666666,
              "#ed7953"
             ],
             [
              0.7777777777777778,
              "#fb9f3a"
             ],
             [
              0.8888888888888888,
              "#fdca26"
             ],
             [
              1,
              "#f0f921"
             ]
            ],
            "type": "contour"
           }
          ],
          "contourcarpet": [
           {
            "colorbar": {
             "outlinewidth": 0,
             "ticks": ""
            },
            "type": "contourcarpet"
           }
          ],
          "heatmap": [
           {
            "colorbar": {
             "outlinewidth": 0,
             "ticks": ""
            },
            "colorscale": [
             [
              0,
              "#0d0887"
             ],
             [
              0.1111111111111111,
              "#46039f"
             ],
             [
              0.2222222222222222,
              "#7201a8"
             ],
             [
              0.3333333333333333,
              "#9c179e"
             ],
             [
              0.4444444444444444,
              "#bd3786"
             ],
             [
              0.5555555555555556,
              "#d8576b"
             ],
             [
              0.6666666666666666,
              "#ed7953"
             ],
             [
              0.7777777777777778,
              "#fb9f3a"
             ],
             [
              0.8888888888888888,
              "#fdca26"
             ],
             [
              1,
              "#f0f921"
             ]
            ],
            "type": "heatmap"
           }
          ],
          "heatmapgl": [
           {
            "colorbar": {
             "outlinewidth": 0,
             "ticks": ""
            },
            "colorscale": [
             [
              0,
              "#0d0887"
             ],
             [
              0.1111111111111111,
              "#46039f"
             ],
             [
              0.2222222222222222,
              "#7201a8"
             ],
             [
              0.3333333333333333,
              "#9c179e"
             ],
             [
              0.4444444444444444,
              "#bd3786"
             ],
             [
              0.5555555555555556,
              "#d8576b"
             ],
             [
              0.6666666666666666,
              "#ed7953"
             ],
             [
              0.7777777777777778,
              "#fb9f3a"
             ],
             [
              0.8888888888888888,
              "#fdca26"
             ],
             [
              1,
              "#f0f921"
             ]
            ],
            "type": "heatmapgl"
           }
          ],
          "histogram": [
           {
            "marker": {
             "pattern": {
              "fillmode": "overlay",
              "size": 10,
              "solidity": 0.2
             }
            },
            "type": "histogram"
           }
          ],
          "histogram2d": [
           {
            "colorbar": {
             "outlinewidth": 0,
             "ticks": ""
            },
            "colorscale": [
             [
              0,
              "#0d0887"
             ],
             [
              0.1111111111111111,
              "#46039f"
             ],
             [
              0.2222222222222222,
              "#7201a8"
             ],
             [
              0.3333333333333333,
              "#9c179e"
             ],
             [
              0.4444444444444444,
              "#bd3786"
             ],
             [
              0.5555555555555556,
              "#d8576b"
             ],
             [
              0.6666666666666666,
              "#ed7953"
             ],
             [
              0.7777777777777778,
              "#fb9f3a"
             ],
             [
              0.8888888888888888,
              "#fdca26"
             ],
             [
              1,
              "#f0f921"
             ]
            ],
            "type": "histogram2d"
           }
          ],
          "histogram2dcontour": [
           {
            "colorbar": {
             "outlinewidth": 0,
             "ticks": ""
            },
            "colorscale": [
             [
              0,
              "#0d0887"
             ],
             [
              0.1111111111111111,
              "#46039f"
             ],
             [
              0.2222222222222222,
              "#7201a8"
             ],
             [
              0.3333333333333333,
              "#9c179e"
             ],
             [
              0.4444444444444444,
              "#bd3786"
             ],
             [
              0.5555555555555556,
              "#d8576b"
             ],
             [
              0.6666666666666666,
              "#ed7953"
             ],
             [
              0.7777777777777778,
              "#fb9f3a"
             ],
             [
              0.8888888888888888,
              "#fdca26"
             ],
             [
              1,
              "#f0f921"
             ]
            ],
            "type": "histogram2dcontour"
           }
          ],
          "mesh3d": [
           {
            "colorbar": {
             "outlinewidth": 0,
             "ticks": ""
            },
            "type": "mesh3d"
           }
          ],
          "parcoords": [
           {
            "line": {
             "colorbar": {
              "outlinewidth": 0,
              "ticks": ""
             }
            },
            "type": "parcoords"
           }
          ],
          "pie": [
           {
            "automargin": true,
            "type": "pie"
           }
          ],
          "scatter": [
           {
            "fillpattern": {
             "fillmode": "overlay",
             "size": 10,
             "solidity": 0.2
            },
            "type": "scatter"
           }
          ],
          "scatter3d": [
           {
            "line": {
             "colorbar": {
              "outlinewidth": 0,
              "ticks": ""
             }
            },
            "marker": {
             "colorbar": {
              "outlinewidth": 0,
              "ticks": ""
             }
            },
            "type": "scatter3d"
           }
          ],
          "scattercarpet": [
           {
            "marker": {
             "colorbar": {
              "outlinewidth": 0,
              "ticks": ""
             }
            },
            "type": "scattercarpet"
           }
          ],
          "scattergeo": [
           {
            "marker": {
             "colorbar": {
              "outlinewidth": 0,
              "ticks": ""
             }
            },
            "type": "scattergeo"
           }
          ],
          "scattergl": [
           {
            "marker": {
             "colorbar": {
              "outlinewidth": 0,
              "ticks": ""
             }
            },
            "type": "scattergl"
           }
          ],
          "scattermapbox": [
           {
            "marker": {
             "colorbar": {
              "outlinewidth": 0,
              "ticks": ""
             }
            },
            "type": "scattermapbox"
           }
          ],
          "scatterpolar": [
           {
            "marker": {
             "colorbar": {
              "outlinewidth": 0,
              "ticks": ""
             }
            },
            "type": "scatterpolar"
           }
          ],
          "scatterpolargl": [
           {
            "marker": {
             "colorbar": {
              "outlinewidth": 0,
              "ticks": ""
             }
            },
            "type": "scatterpolargl"
           }
          ],
          "scatterternary": [
           {
            "marker": {
             "colorbar": {
              "outlinewidth": 0,
              "ticks": ""
             }
            },
            "type": "scatterternary"
           }
          ],
          "surface": [
           {
            "colorbar": {
             "outlinewidth": 0,
             "ticks": ""
            },
            "colorscale": [
             [
              0,
              "#0d0887"
             ],
             [
              0.1111111111111111,
              "#46039f"
             ],
             [
              0.2222222222222222,
              "#7201a8"
             ],
             [
              0.3333333333333333,
              "#9c179e"
             ],
             [
              0.4444444444444444,
              "#bd3786"
             ],
             [
              0.5555555555555556,
              "#d8576b"
             ],
             [
              0.6666666666666666,
              "#ed7953"
             ],
             [
              0.7777777777777778,
              "#fb9f3a"
             ],
             [
              0.8888888888888888,
              "#fdca26"
             ],
             [
              1,
              "#f0f921"
             ]
            ],
            "type": "surface"
           }
          ],
          "table": [
           {
            "cells": {
             "fill": {
              "color": "#EBF0F8"
             },
             "line": {
              "color": "white"
             }
            },
            "header": {
             "fill": {
              "color": "#C8D4E3"
             },
             "line": {
              "color": "white"
             }
            },
            "type": "table"
           }
          ]
         },
         "layout": {
          "annotationdefaults": {
           "arrowcolor": "#2a3f5f",
           "arrowhead": 0,
           "arrowwidth": 1
          },
          "autotypenumbers": "strict",
          "coloraxis": {
           "colorbar": {
            "outlinewidth": 0,
            "ticks": ""
           }
          },
          "colorscale": {
           "diverging": [
            [
             0,
             "#8e0152"
            ],
            [
             0.1,
             "#c51b7d"
            ],
            [
             0.2,
             "#de77ae"
            ],
            [
             0.3,
             "#f1b6da"
            ],
            [
             0.4,
             "#fde0ef"
            ],
            [
             0.5,
             "#f7f7f7"
            ],
            [
             0.6,
             "#e6f5d0"
            ],
            [
             0.7,
             "#b8e186"
            ],
            [
             0.8,
             "#7fbc41"
            ],
            [
             0.9,
             "#4d9221"
            ],
            [
             1,
             "#276419"
            ]
           ],
           "sequential": [
            [
             0,
             "#0d0887"
            ],
            [
             0.1111111111111111,
             "#46039f"
            ],
            [
             0.2222222222222222,
             "#7201a8"
            ],
            [
             0.3333333333333333,
             "#9c179e"
            ],
            [
             0.4444444444444444,
             "#bd3786"
            ],
            [
             0.5555555555555556,
             "#d8576b"
            ],
            [
             0.6666666666666666,
             "#ed7953"
            ],
            [
             0.7777777777777778,
             "#fb9f3a"
            ],
            [
             0.8888888888888888,
             "#fdca26"
            ],
            [
             1,
             "#f0f921"
            ]
           ],
           "sequentialminus": [
            [
             0,
             "#0d0887"
            ],
            [
             0.1111111111111111,
             "#46039f"
            ],
            [
             0.2222222222222222,
             "#7201a8"
            ],
            [
             0.3333333333333333,
             "#9c179e"
            ],
            [
             0.4444444444444444,
             "#bd3786"
            ],
            [
             0.5555555555555556,
             "#d8576b"
            ],
            [
             0.6666666666666666,
             "#ed7953"
            ],
            [
             0.7777777777777778,
             "#fb9f3a"
            ],
            [
             0.8888888888888888,
             "#fdca26"
            ],
            [
             1,
             "#f0f921"
            ]
           ]
          },
          "colorway": [
           "#636efa",
           "#EF553B",
           "#00cc96",
           "#ab63fa",
           "#FFA15A",
           "#19d3f3",
           "#FF6692",
           "#B6E880",
           "#FF97FF",
           "#FECB52"
          ],
          "font": {
           "color": "#2a3f5f"
          },
          "geo": {
           "bgcolor": "white",
           "lakecolor": "white",
           "landcolor": "#E5ECF6",
           "showlakes": true,
           "showland": true,
           "subunitcolor": "white"
          },
          "hoverlabel": {
           "align": "left"
          },
          "hovermode": "closest",
          "mapbox": {
           "style": "light"
          },
          "paper_bgcolor": "white",
          "plot_bgcolor": "#E5ECF6",
          "polar": {
           "angularaxis": {
            "gridcolor": "white",
            "linecolor": "white",
            "ticks": ""
           },
           "bgcolor": "#E5ECF6",
           "radialaxis": {
            "gridcolor": "white",
            "linecolor": "white",
            "ticks": ""
           }
          },
          "scene": {
           "xaxis": {
            "backgroundcolor": "#E5ECF6",
            "gridcolor": "white",
            "gridwidth": 2,
            "linecolor": "white",
            "showbackground": true,
            "ticks": "",
            "zerolinecolor": "white"
           },
           "yaxis": {
            "backgroundcolor": "#E5ECF6",
            "gridcolor": "white",
            "gridwidth": 2,
            "linecolor": "white",
            "showbackground": true,
            "ticks": "",
            "zerolinecolor": "white"
           },
           "zaxis": {
            "backgroundcolor": "#E5ECF6",
            "gridcolor": "white",
            "gridwidth": 2,
            "linecolor": "white",
            "showbackground": true,
            "ticks": "",
            "zerolinecolor": "white"
           }
          },
          "shapedefaults": {
           "line": {
            "color": "#2a3f5f"
           }
          },
          "ternary": {
           "aaxis": {
            "gridcolor": "white",
            "linecolor": "white",
            "ticks": ""
           },
           "baxis": {
            "gridcolor": "white",
            "linecolor": "white",
            "ticks": ""
           },
           "bgcolor": "#E5ECF6",
           "caxis": {
            "gridcolor": "white",
            "linecolor": "white",
            "ticks": ""
           }
          },
          "title": {
           "x": 0.05
          },
          "xaxis": {
           "automargin": true,
           "gridcolor": "white",
           "linecolor": "white",
           "ticks": "",
           "title": {
            "standoff": 15
           },
           "zerolinecolor": "white",
           "zerolinewidth": 2
          },
          "yaxis": {
           "automargin": true,
           "gridcolor": "white",
           "linecolor": "white",
           "ticks": "",
           "title": {
            "standoff": 15
           },
           "zerolinecolor": "white",
           "zerolinewidth": 2
          }
         }
        },
        "width": 1600
       }
      }
     },
     "metadata": {},
     "output_type": "display_data"
    }
   ],
   "source": [
    "# Adjusting to a 3x4 grid (3 rows, 4 columns) for 10 plots\n",
    "fig2 = make_subplots(\n",
    "    rows=3, \n",
    "    cols=4, \n",
    "    start_cell=\"top-left\", \n",
    "    horizontal_spacing=0.1,\n",
    "    vertical_spacing=0.1,\n",
    "    specs=[\n",
    "        [{\"type\":\"scatterpolar\"}, {\"type\":\"scatterpolar\"}, {\"type\":\"scatterpolar\"}, {\"type\":\"scatterpolar\"}],\n",
    "        [{\"type\":\"scatterpolar\"}, {\"type\":\"scatterpolar\"}, {\"type\":\"scatterpolar\"}, {\"type\":\"scatterpolar\"}],\n",
    "        [{\"type\":\"scatterpolar\"}, {\"type\":\"scatterpolar\"}, {\"type\":\"scatterpolar\"}, {\"type\":\"scatterpolar\"}]\n",
    "    ]\n",
    ")  \n",
    "\n",
    "# Add traces to the appropriate cells (10 scatterpolar plots)\n",
    "fig2.add_trace(go.Scatterpolar(name = \"Reactome Standalone BioPAX\", r = counts_reactome_standalone, theta=classes), 1, 1)\n",
    "fig2.add_trace(go.Scatterpolar(name = \"Reactome PC\", r = counts_reactome_pc, theta=classes), 1, 2)\n",
    "fig2.add_trace(go.Scatterpolar(name = \"Panther Standalone BioPAX\", r = counts_panther_standalone, theta=classes), 1, 3)\n",
    "fig2.add_trace(go.Scatterpolar(name = \"PANTHER Pathway PC\", r = counts_panther, theta=classes), 1, 4)\n",
    "fig2.add_trace(go.Scatterpolar(name = \"PathBank PC\", r = counts_pathbank, theta=classes), 2, 1)\n",
    "fig2.add_trace(go.Scatterpolar(name = \"HumanCyc PC\", r = counts_humancyc, theta=classes), 2, 2)\n",
    "fig2.add_trace(go.Scatterpolar(name = \"KEGG Pathway PC\", r = counts_kegg, theta=classes), 2, 3)\n",
    "fig2.add_trace(go.Scatterpolar(name = \"PID PC\", r = counts_pid, theta=classes), 2, 4)\n",
    "fig2.add_trace(go.Scatterpolar(name = \"INOH PC\", r = counts_inoh, theta=classes), 3, 1)\n",
    "fig2.add_trace(go.Scatterpolar(name = \"NetPath PC\", r = counts_netpath, theta=classes), 3, 2)\n",
    "\n",
    "# Update layout and axis ranges\n",
    "fig2.update_layout(\n",
    "    margin=dict(t=150),\n",
    "    width=1600,\n",
    "    height=1300,\n",
    "    polar=dict(radialaxis=dict(visible=True))\n",
    ")\n",
    "\n",
    "# Apply consistent radial axis range for all plots\n",
    "fig2.update_polars(radialaxis=dict(range=[0, 1]))\n",
    "\n",
    "# Save as PDF and SVG\n",
    "fig2.write_image(\"../Results/radar_plot_bp_classes_all_databases.pdf\")\n",
    "fig2.write_image(\"../Results/radar_plot_bp_classes_all_databases.svg\")\n",
    "\n",
    "# Display the plot\n",
    "fig2.show()\n"
   ]
  }
 ],
 "metadata": {
  "kernelspec": {
   "display_name": "biopax_sparql_queries",
   "language": "python",
   "name": "python3"
  },
  "language_info": {
   "codemirror_mode": {
    "name": "ipython",
    "version": 3
   },
   "file_extension": ".py",
   "mimetype": "text/x-python",
   "name": "python",
   "nbconvert_exporter": "python",
   "pygments_lexer": "ipython3",
   "version": "3.12.4"
  }
 },
 "nbformat": 4,
 "nbformat_minor": 2
}
