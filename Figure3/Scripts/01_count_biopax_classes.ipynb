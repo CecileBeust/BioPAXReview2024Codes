{
 "cells": [
  {
   "cell_type": "markdown",
   "metadata": {},
   "source": [
    "# Querying of BioPAX exports of pathway databases: Get the number of instances of main BioPAX classes"
   ]
  },
  {
   "cell_type": "markdown",
   "metadata": {},
   "source": [
    "#### Import libraries"
   ]
  },
  {
   "cell_type": "code",
   "execution_count": null,
   "metadata": {},
   "outputs": [],
   "source": [
    "from SPARQLWrapper import SPARQLWrapper, JSON, CSV\n",
    "import IPython\n",
    "import subprocess\n",
    "import time"
   ]
  },
  {
   "cell_type": "markdown",
   "metadata": {},
   "source": [
    "#### Define the URL of local SPARQL endpoints"
   ]
  },
  {
   "cell_type": "code",
   "execution_count": null,
   "metadata": {},
   "outputs": [],
   "source": [
    "endpointURL_reactome_v65 = \"http://localhost:3030/reactome_v65/query\"\n",
    "endpointURL_reactome_pc = \"http://localhost:3030/reactome_pc/query\"\n",
    "endpointURL_panther_pc = \"http://localhost:3030/panther_pc/query\"\n",
    "endpointURL_pathbank_pc = \"http://localhost:3030/pathbank_pc/query\"\n",
    "endpointURL_humancyc_pc = \"http://localhost:3030/humancyc_pc/query\"\n",
    "endpointURL_kegg_pc = \"http://localhost:3030/kegg_pc/query\"\n",
    "endpointURL_pid_pc = \"http://localhost:3030/pid_pc/query\"\n",
    "endpointURL_inoh_pc = \"http://localhost:3030/inoh_pc/query\"\n",
    "endpointURL_netpath_pc = \"http://localhost:3030/netpath_pc/query\"\n",
    "rdfFormat = \"turtle\""
   ]
  },
  {
   "cell_type": "markdown",
   "metadata": {},
   "source": [
    "#### Define RDF prefixes for SPARQL queries"
   ]
  },
  {
   "cell_type": "code",
   "execution_count": null,
   "metadata": {},
   "outputs": [],
   "source": [
    "reactomeVersion = 65 \n",
    "prefixes = \"\"\"\n",
    "PREFIX rdf: <http://www.w3.org/1999/02/22-rdf-syntax-ns#>\n",
    "PREFIX rdfs:<http://www.w3.org/2000/01/rdf-schema#>\n",
    "PREFIX owl: <http://www.w3.org/2002/07/owl#>\n",
    "PREFIX xsd: <http://www.w3.org/2001/XMLSchema#>\n",
    "PREFIX dc: <http://purl.org/dc/elements/1.1/>\n",
    "PREFIX dcterms: <http://purl.org/dc/terms/>\n",
    "\n",
    "PREFIX chebi: <http://purl.obolibrary.org/obo/chebi/>\n",
    "PREFIX chebidb: <http://purl.obolibrary.org/obo/CHEBI_>\n",
    "PREFIX chebirel: <http://purl.obolibrary.org/obo/CHEBI#>\n",
    "PREFIX oboInOwl: <http://www.geneontology.org/formats/oboInOwl#>\n",
    "\n",
    "PREFIX bp3: <http://www.biopax.org/release/biopax-level3.owl#>\n",
    "\n",
    "# Homo_sapiens-20170221.owl\n",
    "#PREFIX reactome: <http://www.reactome.org/biopax/59/48887#> \n",
    "#\n",
    "# Homo_sapiens-20210608.owl\n",
    "#PREFIX reactome: <http://www.reactome.org/biopax/77/48887#>\n",
    "#\n",
    "# Homo_sapiens-20220614.owl\n",
    "#PREFIX reactome: <http://www.reactome.org/biopax/81/48887#>\n",
    "#\n",
    "# Homo_sapiens-20221130.owl\n",
    "#PREFIX reactome: <http://www.reactome.org/biopax/83/48887#>\n",
    "\n",
    "PREFIX reactome: <http://www.reactome.org/biopax/{}/48887#>\n",
    "\"\"\".format(reactomeVersion)\n",
    "\n",
    "biopaxURI = \"http://www.biopax.org/release/biopax-level3.owl#\""
   ]
  },
  {
   "cell_type": "markdown",
   "metadata": {},
   "source": [
    "#### Function to display the results of SPARQL queries"
   ]
  },
  {
   "cell_type": "code",
   "execution_count": null,
   "metadata": {},
   "outputs": [],
   "source": [
    "def displaySparqlResults(results):\n",
    "    '''\n",
    "    Displays as HTML the result of a SPARQLWrapper query in a Jupyter notebook.\n",
    "    \n",
    "        Parameters:\n",
    "            results (dictionnary): the result of a call to SPARQLWrapper.query().convert()\n",
    "    '''\n",
    "    variableNames = results['head']['vars']\n",
    "    tableCode = '<table><tr><th>{}</th></tr><tr>{}</tr></table>'.format('</th><th>'.join(variableNames), '</tr><tr>'.join('<td>{}</td>'.format('</td><td>'.join([row[vName]['value'] if vName in row.keys() else \"&nbsp;\" for vName in variableNames]))for row in results[\"results\"][\"bindings\"]))\n",
    "    IPython.display.display(IPython.display.HTML(tableCode))"
   ]
  },
  {
   "cell_type": "markdown",
   "metadata": {},
   "source": [
    "## Count number of instances of BioPAX classes in BioPAX exports of pathway databases\n",
    "\n",
    "TODO: change the path to fuseki server and BioPAX files + BioPAX ontology in the command line to launch the SPARQL endpoint"
   ]
  },
  {
   "cell_type": "markdown",
   "metadata": {},
   "source": [
    "#### Define SPARQL query"
   ]
  },
  {
   "cell_type": "code",
   "execution_count": null,
   "metadata": {},
   "outputs": [],
   "source": [
    "query = \"\"\"\n",
    "SELECT ?class_of_interest (COUNT(DISTINCT ?instances) AS ?nb_instances) \n",
    "WHERE {  \n",
    "  # BioPAX classe for which we want to count the number of instances\n",
    "  VALUES ?class_of_interest { bp3:SmallMolecule bp3:Interaction bp3:Pathway bp3:PathwayStep bp3:BiochemicalReaction bp3:Protein bp3:Dna bp3:Rna }\n",
    "  OPTIONAL {\n",
    "  ?instances rdf:type/(rdfs:subClassOf*) ?class_of_interest .\n",
    "  }\n",
    "}\n",
    "GROUP BY ?class_of_interest\n",
    "\"\"\""
   ]
  },
  {
   "cell_type": "markdown",
   "metadata": {},
   "source": [
    "#### Query on Reactome BioPAX standalone export version 65"
   ]
  },
  {
   "cell_type": "code",
   "execution_count": null,
   "metadata": {},
   "outputs": [],
   "source": [
    "# TODO: change path\n",
    "command = [\n",
    "    '/home/cbeust/Softwares/JenaFuseki/apache-jena-fuseki-4.9.0/fuseki-server',\n",
    "    '--file', '/home/cbeust/Projects/2024/BioPAX_Review/Compare_BioPAX_Files/ReactomeBioPAX/_00_Reactome_Data_v65/Homo_sapiens.owl',\n",
    "    '--file', '/home/cbeust/Projects/2024/BioPAX_Review/BioPAX_Ontology/biopax-level3.owl',\n",
    "    '/reactome_v65']\n",
    "process = subprocess.Popen(command)\n",
    "time.sleep(60)\n",
    "# execute SPARQL query\n",
    "sparql = SPARQLWrapper(endpointURL_reactome_v65)\n",
    "sparql.setQuery(prefixes+query)\n",
    "\n",
    "# display results\n",
    "sparql.setReturnFormat(JSON)\n",
    "results = sparql.query().convert()\n",
    "displaySparqlResults(results)\n",
    "\n",
    "# export results to CSV\n",
    "sparql.setReturnFormat(CSV)\n",
    "results = sparql.query().convert()\n",
    "with open(f\"../Results/reactome_v65_counts_bp_classes.csv\", \"wb\") as f:\n",
    "    f.write(results)\n",
    "\n",
    "# end process\n",
    "process.kill()\n",
    "time.sleep(60)"
   ]
  },
  {
   "cell_type": "markdown",
   "metadata": {},
   "source": [
    "#### Query on BioPAX export of Reactome from PathwayCommons"
   ]
  },
  {
   "cell_type": "code",
   "execution_count": null,
   "metadata": {},
   "outputs": [],
   "source": [
    "# TODO: change path\n",
    "command = [\n",
    "    '/home/cbeust/Softwares/JenaFuseki/apache-jena-fuseki-4.9.0/fuseki-server',\n",
    "    '--file', '/home/cbeust/Projects/2024/BioPAX_Review/Compare_BioPAX_Files/PathwayCommonsFiles/PathwayCommons12.reactome.BIOPAX.owl',\n",
    "    '--file', '/home/cbeust/Projects/2024/BioPAX_Review/BioPAX_Ontology/biopax-level3.owl',\n",
    "    '/reactome_pc']\n",
    "process = subprocess.Popen(command)\n",
    "time.sleep(60)\n",
    "\n",
    "# execute SPARQL query\n",
    "sparql = SPARQLWrapper(endpointURL_reactome_pc)\n",
    "sparql.setQuery(prefixes+query)\n",
    "\n",
    "# display results\n",
    "sparql.setReturnFormat(JSON)\n",
    "results = sparql.query().convert()\n",
    "displaySparqlResults(results)\n",
    "\n",
    "# export results to CSV\n",
    "sparql.setReturnFormat(CSV)\n",
    "results = sparql.query().convert()\n",
    "with open(f\"../Results/reactome_pc_counts_bp_classes.csv\", \"wb\") as f:\n",
    "    f.write(results)\n",
    "\n",
    "# end process\n",
    "process.kill()\n",
    "time.sleep(60)"
   ]
  },
  {
   "cell_type": "markdown",
   "metadata": {},
   "source": [
    "#### Query on BioPAX export of Panther from PathwayCommons"
   ]
  },
  {
   "cell_type": "code",
   "execution_count": null,
   "metadata": {},
   "outputs": [],
   "source": [
    "# TODO: change path\n",
    "command = [\n",
    "    '/home/cbeust/Softwares/JenaFuseki/apache-jena-fuseki-4.9.0/fuseki-server',\n",
    "    '--file', '/home/cbeust/Projects/2024/BioPAX_Review/Compare_BioPAX_Files/PathwayCommonsFiles/PathwayCommons12.panther.BIOPAX.owl',\n",
    "    '--file', '/home/cbeust/Projects/2024/BioPAX_Review/BioPAX_Ontology/biopax-level3.owl',\n",
    "    '/panther_pc']\n",
    "process = subprocess.Popen(command)\n",
    "time.sleep(60)\n",
    "\n",
    "# execute SPARQL query\n",
    "sparql = SPARQLWrapper(endpointURL_panther_pc)\n",
    "sparql.setQuery(prefixes+query)\n",
    "\n",
    "# display results\n",
    "sparql.setReturnFormat(JSON)\n",
    "results = sparql.query().convert()\n",
    "displaySparqlResults(results)\n",
    "\n",
    "# export results to CSV\n",
    "sparql.setReturnFormat(CSV)\n",
    "results = sparql.query().convert()\n",
    "with open(\"../Results/panther_pc_counts_bp_classes.csv\", \"wb\") as f:\n",
    "    f.write(results)\n",
    "\n",
    "# end process\n",
    "process.kill()\n",
    "time.sleep(60)"
   ]
  },
  {
   "cell_type": "markdown",
   "metadata": {},
   "source": [
    "#### Query on BioPAX export of PathBank from PathwayCommons"
   ]
  },
  {
   "cell_type": "code",
   "execution_count": null,
   "metadata": {},
   "outputs": [],
   "source": [
    "# TODO: change path\n",
    "command = [\n",
    "    '/home/cbeust/Softwares/JenaFuseki/apache-jena-fuseki-4.9.0/fuseki-server',\n",
    "    '--file', '/home/cbeust/Projects/2024/BioPAX_Review/Compare_BioPAX_Files/PathwayCommonsFiles/PathwayCommons12.pathbank.BIOPAX.owl',\n",
    "    '--file', '/home/cbeust/Projects/2024/BioPAX_Review/BioPAX_Ontology/biopax-level3.owl',\n",
    "    '/pathbank_pc']\n",
    "process = subprocess.Popen(command)\n",
    "time.sleep(60)\n",
    "\n",
    "# execute SPARQL query\n",
    "sparql = SPARQLWrapper(endpointURL_pathbank_pc)\n",
    "sparql.setQuery(prefixes+query)\n",
    "\n",
    "# display results\n",
    "sparql.setReturnFormat(JSON)\n",
    "results = sparql.query().convert()\n",
    "displaySparqlResults(results)\n",
    "\n",
    "# export results to CSV\n",
    "sparql.setReturnFormat(CSV)\n",
    "results = sparql.query().convert()\n",
    "with open(\"../Results/pathbank_pc_counts_bp_classes.csv\", \"wb\") as f:\n",
    "    f.write(results)\n",
    "\n",
    "# end process\n",
    "process.kill()\n",
    "time.sleep(60)"
   ]
  },
  {
   "cell_type": "markdown",
   "metadata": {},
   "source": [
    "#### Query on BioPAX export of HumanCyc from PathwayCommons"
   ]
  },
  {
   "cell_type": "code",
   "execution_count": null,
   "metadata": {},
   "outputs": [],
   "source": [
    "# TODO: change path\n",
    "command = [\n",
    "    '/home/cbeust/Softwares/JenaFuseki/apache-jena-fuseki-4.9.0/fuseki-server',\n",
    "    '--file', '/home/cbeust/Projects/2024/BioPAX_Review/Compare_BioPAX_Files/PathwayCommonsFiles/PathwayCommons12.humancyc.BIOPAX.owl',\n",
    "    '--file', '/home/cbeust/Projects/2024/BioPAX_Review/BioPAX_Ontology/biopax-level3.owl',\n",
    "    '/humancyc_pc']\n",
    "process = subprocess.Popen(command)\n",
    "time.sleep(60)\n",
    "\n",
    "# execute SPARQL query\n",
    "sparql = SPARQLWrapper(endpointURL_humancyc_pc)\n",
    "sparql.setQuery(prefixes+query)\n",
    "\n",
    "# display results\n",
    "sparql.setReturnFormat(JSON)\n",
    "results = sparql.query().convert()\n",
    "displaySparqlResults(results)\n",
    "\n",
    "# export results to CSV\n",
    "sparql.setReturnFormat(CSV)\n",
    "results = sparql.query().convert()\n",
    "with open(\"../Results/humancyc_pc_counts_bp_classes.csv\", \"wb\") as f:\n",
    "    f.write(results)\n",
    "\n",
    "# end process\n",
    "process.kill()\n",
    "time.sleep(60)"
   ]
  },
  {
   "cell_type": "markdown",
   "metadata": {},
   "source": [
    "#### Query on BioPAX export of KEGG from PathwayCommons"
   ]
  },
  {
   "cell_type": "code",
   "execution_count": null,
   "metadata": {},
   "outputs": [],
   "source": [
    "# TODO: change path\n",
    "command = [\n",
    "    '/home/cbeust/Softwares/JenaFuseki/apache-jena-fuseki-4.9.0/fuseki-server',\n",
    "    '--file', '/home/cbeust/Projects/2024/BioPAX_Review/Compare_BioPAX_Files/PathwayCommonsFiles/PathwayCommons12.kegg.BIOPAX.owl',\n",
    "    '--file', '/home/cbeust/Projects/2024/BioPAX_Review/BioPAX_Ontology/biopax-level3.owl',\n",
    "    '/kegg_pc']\n",
    "process = subprocess.Popen(command)\n",
    "time.sleep(60)\n",
    "# execute SPARQL query\n",
    "sparql = SPARQLWrapper(endpointURL_kegg_pc)\n",
    "sparql.setQuery(prefixes+query)\n",
    "\n",
    "# display results\n",
    "sparql.setReturnFormat(JSON)\n",
    "results = sparql.query().convert()\n",
    "displaySparqlResults(results)\n",
    "\n",
    "# export results to CSV\n",
    "sparql.setReturnFormat(CSV)\n",
    "results = sparql.query().convert()\n",
    "with open(\"../Results/kegg_pc_counts_bp_classes.csv\", \"wb\") as f:\n",
    "    f.write(results)\n",
    "\n",
    "# end process\n",
    "process.kill()\n",
    "time.sleep(60)"
   ]
  },
  {
   "cell_type": "markdown",
   "metadata": {},
   "source": [
    "#### Query on BioPAX export of PID from PathwayCommons"
   ]
  },
  {
   "cell_type": "code",
   "execution_count": null,
   "metadata": {},
   "outputs": [],
   "source": [
    "# TODO: change path\n",
    "command = [\n",
    "    '/home/cbeust/Softwares/JenaFuseki/apache-jena-fuseki-4.9.0/fuseki-server',\n",
    "    '--file', '/home/cbeust/Projects/2024/BioPAX_Review/Compare_BioPAX_Files/PathwayCommonsFiles/PathwayCommons12.pid.BIOPAX.owl',\n",
    "    '--file', '/home/cbeust/Projects/2024/BioPAX_Review/BioPAX_Ontology/biopax-level3.owl',\n",
    "    '/pid_pc']\n",
    "process = subprocess.Popen(command)\n",
    "time.sleep(60)\n",
    "\n",
    "# execute SPARQL query\n",
    "sparql = SPARQLWrapper(endpointURL_pid_pc)\n",
    "sparql.setQuery(prefixes+query)\n",
    "\n",
    "# display results\n",
    "sparql.setReturnFormat(JSON)\n",
    "results = sparql.query().convert()\n",
    "displaySparqlResults(results)\n",
    "\n",
    "# export results to CSV\n",
    "sparql.setReturnFormat(CSV)\n",
    "results = sparql.query().convert()\n",
    "with open(\"../Results/pid_pc_counts_bp_classes.csv\", \"wb\") as f:\n",
    "    f.write(results)\n",
    "\n",
    "# end process\n",
    "process.kill()\n",
    "time.sleep(60)"
   ]
  },
  {
   "cell_type": "markdown",
   "metadata": {},
   "source": [
    "#### Query on BioPAX export of INOH from PathwayCommons"
   ]
  },
  {
   "cell_type": "code",
   "execution_count": null,
   "metadata": {},
   "outputs": [],
   "source": [
    "# TODO: change path\n",
    "command = [\n",
    "    '/home/cbeust/Softwares/JenaFuseki/apache-jena-fuseki-4.9.0/fuseki-server',\n",
    "    '--file', '/home/cbeust/Projects/2024/BioPAX_Review/Compare_BioPAX_Files/PathwayCommonsFiles/PathwayCommons12.inoh.BIOPAX.owl',\n",
    "    '--file', '/home/cbeust/Projects/2024/BioPAX_Review/BioPAX_Ontology/biopax-level3.owl',\n",
    "    '/inoh_pc']\n",
    "process = subprocess.Popen(command)\n",
    "time.sleep(60)\n",
    "\n",
    "# execute SPARQL query\n",
    "sparql = SPARQLWrapper(endpointURL_inoh_pc)\n",
    "sparql.setQuery(prefixes+query)\n",
    "\n",
    "# display results\n",
    "sparql.setReturnFormat(JSON)\n",
    "results = sparql.query().convert()\n",
    "displaySparqlResults(results)\n",
    "\n",
    "# export results to CSV\n",
    "sparql.setReturnFormat(CSV)\n",
    "results = sparql.query().convert()\n",
    "with open(\"../Results/inoh_pc_counts_bp_classes.csv\", \"wb\") as f:\n",
    "    f.write(results)\n",
    "\n",
    "# end process\n",
    "process.kill()\n",
    "time.sleep(60)"
   ]
  },
  {
   "cell_type": "markdown",
   "metadata": {},
   "source": [
    "#### Query on BioPAX export of NetPath from PathwayCommons"
   ]
  },
  {
   "cell_type": "code",
   "execution_count": null,
   "metadata": {},
   "outputs": [],
   "source": [
    "# TODO: change path\n",
    "command = [\n",
    "    '/home/cbeust/Softwares/JenaFuseki/apache-jena-fuseki-4.9.0/fuseki-server',\n",
    "    '--file', '/home/cbeust/Projects/2024/BioPAX_Review/Compare_BioPAX_Files/PathwayCommonsFiles/PathwayCommons12.netpath.BIOPAX.owl',\n",
    "    '--file', '/home/cbeust/Projects/2024/BioPAX_Review/BioPAX_Ontology/biopax-level3.owl',\n",
    "    '/netpath_pc']\n",
    "process = subprocess.Popen(command)\n",
    "time.sleep(60)\n",
    "\n",
    "# execute SPARQL query\n",
    "sparql = SPARQLWrapper(endpointURL_netpath_pc)\n",
    "sparql.setQuery(prefixes+query)\n",
    "\n",
    "# display results\n",
    "sparql.setReturnFormat(JSON)\n",
    "results = sparql.query().convert()\n",
    "displaySparqlResults(results)\n",
    "\n",
    "# export results to CSV\n",
    "sparql.setReturnFormat(CSV)\n",
    "results = sparql.query().convert()\n",
    "with open(\"../Results/netpath_pc_counts_bp_classes.csv\", \"wb\") as f:\n",
    "    f.write(results)\n",
    "\n",
    "# end process\n",
    "process.kill()\n",
    "time.sleep(60)"
   ]
  }
 ],
 "metadata": {
  "kernelspec": {
   "display_name": "biopax_sparql_queries",
   "language": "python",
   "name": "python3"
  },
  "language_info": {
   "codemirror_mode": {
    "name": "ipython",
    "version": 3
   },
   "file_extension": ".py",
   "mimetype": "text/x-python",
   "name": "python",
   "nbconvert_exporter": "python",
   "pygments_lexer": "ipython3",
   "version": "3.12.4"
  }
 },
 "nbformat": 4,
 "nbformat_minor": 2
}
