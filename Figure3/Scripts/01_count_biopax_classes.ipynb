{
 "cells": [
  {
   "cell_type": "markdown",
   "metadata": {},
   "source": [
    "# Querying of BioPAX exports of pathway databases: Get the number of instances of main BioPAX classes"
   ]
  },
  {
   "cell_type": "markdown",
   "metadata": {},
   "source": [
    "#### Import libraries"
   ]
  },
  {
   "cell_type": "code",
   "execution_count": 1,
   "metadata": {},
   "outputs": [],
   "source": [
    "from SPARQLWrapper import SPARQLWrapper, JSON, CSV\n",
    "import IPython\n",
    "import subprocess\n",
    "import time"
   ]
  },
  {
   "cell_type": "markdown",
   "metadata": {},
   "source": [
    "#### Define the URL of local SPARQL endpoints"
   ]
  },
  {
   "cell_type": "code",
   "execution_count": 2,
   "metadata": {},
   "outputs": [],
   "source": [
    "endpointURL_reactome_v87 = \"http://localhost:3030/reactome_v87/query\"\n",
    "endpointURL_reactome_pc = \"http://localhost:3030/reactome_pc/query\"\n",
    "endpointURL_panther_pc = \"http://localhost:3030/panther_pc/query\"\n",
    "endpointURL_pathbank_pc = \"http://localhost:3030/pathbank_pc/query\"\n",
    "endpointURL_humancyc_pc = \"http://localhost:3030/humancyc_pc/query\"\n",
    "endpointURL_kegg_pc = \"http://localhost:3030/kegg_pc/query\"\n",
    "endpointURL_pid_pc = \"http://localhost:3030/pid_pc/query\"\n",
    "endpointURL_inoh_pc = \"http://localhost:3030/inoh_pc/query\"\n",
    "endpointURL_netpath_pc = \"http://localhost:3030/netpath_pc/query\"\n",
    "rdfFormat = \"turtle\""
   ]
  },
  {
   "cell_type": "markdown",
   "metadata": {},
   "source": [
    "#### Define RDF prefixes for SPARQL queries"
   ]
  },
  {
   "cell_type": "code",
   "execution_count": 3,
   "metadata": {},
   "outputs": [],
   "source": [
    "reactomeVersion = 87\n",
    "prefixes = \"\"\"\n",
    "PREFIX rdf: <http://www.w3.org/1999/02/22-rdf-syntax-ns#>\n",
    "PREFIX rdfs:<http://www.w3.org/2000/01/rdf-schema#>\n",
    "PREFIX owl: <http://www.w3.org/2002/07/owl#>\n",
    "PREFIX xsd: <http://www.w3.org/2001/XMLSchema#>\n",
    "PREFIX dc: <http://purl.org/dc/elements/1.1/>\n",
    "PREFIX dcterms: <http://purl.org/dc/terms/>\n",
    "\n",
    "PREFIX chebi: <http://purl.obolibrary.org/obo/chebi/>\n",
    "PREFIX chebidb: <http://purl.obolibrary.org/obo/CHEBI_>\n",
    "PREFIX chebirel: <http://purl.obolibrary.org/obo/CHEBI#>\n",
    "PREFIX oboInOwl: <http://www.geneontology.org/formats/oboInOwl#>\n",
    "\n",
    "PREFIX bp3: <http://www.biopax.org/release/biopax-level3.owl#>\n",
    "\n",
    "# Homo_sapiens-20170221.owl\n",
    "#PREFIX reactome: <http://www.reactome.org/biopax/59/48887#> \n",
    "#\n",
    "# Homo_sapiens-20210608.owl\n",
    "#PREFIX reactome: <http://www.reactome.org/biopax/77/48887#>\n",
    "#\n",
    "# Homo_sapiens-20220614.owl\n",
    "#PREFIX reactome: <http://www.reactome.org/biopax/81/48887#>\n",
    "#\n",
    "# Homo_sapiens-20221130.owl\n",
    "#PREFIX reactome: <http://www.reactome.org/biopax/83/48887#>\n",
    "\n",
    "PREFIX reactome: <http://www.reactome.org/biopax/{}/48887#>\n",
    "\"\"\".format(reactomeVersion)\n",
    "\n",
    "biopaxURI = \"http://www.biopax.org/release/biopax-level3.owl#\""
   ]
  },
  {
   "cell_type": "markdown",
   "metadata": {},
   "source": [
    "#### Function to display the results of SPARQL queries"
   ]
  },
  {
   "cell_type": "code",
   "execution_count": 4,
   "metadata": {},
   "outputs": [],
   "source": [
    "def displaySparqlResults(results):\n",
    "    '''\n",
    "    Displays as HTML the result of a SPARQLWrapper query in a Jupyter notebook.\n",
    "    \n",
    "        Parameters:\n",
    "            results (dictionnary): the result of a call to SPARQLWrapper.query().convert()\n",
    "    '''\n",
    "    variableNames = results['head']['vars']\n",
    "    tableCode = '<table><tr><th>{}</th></tr><tr>{}</tr></table>'.format('</th><th>'.join(variableNames), '</tr><tr>'.join('<td>{}</td>'.format('</td><td>'.join([row[vName]['value'] if vName in row.keys() else \"&nbsp;\" for vName in variableNames]))for row in results[\"results\"][\"bindings\"]))\n",
    "    IPython.display.display(IPython.display.HTML(tableCode))"
   ]
  },
  {
   "cell_type": "markdown",
   "metadata": {},
   "source": [
    "## Count number of instances of BioPAX classes in BioPAX exports of pathway databases\n",
    "\n",
    "TODO: change the path to fuseki server and BioPAX files + BioPAX ontology in the command line to launch the SPARQL endpoint"
   ]
  },
  {
   "cell_type": "markdown",
   "metadata": {},
   "source": [
    "#### Define SPARQL query"
   ]
  },
  {
   "cell_type": "code",
   "execution_count": 5,
   "metadata": {},
   "outputs": [],
   "source": [
    "query = \"\"\"\n",
    "SELECT ?class_of_interest (COUNT(DISTINCT ?instances) AS ?nb_instances) \n",
    "WHERE {  \n",
    "  # BioPAX classe for which we want to count the number of instances\n",
    "  VALUES ?class_of_interest { bp3:SmallMolecule bp3:Interaction bp3:Pathway bp3:PathwayStep bp3:BiochemicalReaction bp3:Protein bp3:Dna bp3:Rna }\n",
    "  OPTIONAL {\n",
    "  ?instances rdf:type/(rdfs:subClassOf*) ?class_of_interest .\n",
    "  }\n",
    "}\n",
    "GROUP BY ?class_of_interest\n",
    "\"\"\""
   ]
  },
  {
   "cell_type": "markdown",
   "metadata": {},
   "source": [
    "#### Query on Reactome BioPAX standalone export version 87"
   ]
  },
  {
   "cell_type": "code",
   "execution_count": 6,
   "metadata": {},
   "outputs": [
    {
     "name": "stderr",
     "output_type": "stream",
     "text": [
      "18:25:11 INFO  Server          :: Dataset: in-memory: load file: /home/cbeust/Projects/2024/BioPAX_Review/Compare_BioPAX_Files/ReactomeBioPAX/_00_Reactome_Data_v87/Homo_sapiens.owl\n",
      "18:25:13 WARN  riot            :: [line: 67280, col: 52] {W137} Input is large. Switching off checking for illegal reuse of rdf:ID's.\n",
      "18:25:32 INFO  Server          :: Dataset: in-memory: load file: /home/cbeust/Projects/2024/BioPAX_Review/BioPAX_Ontology/biopax-level3.owl\n",
      "18:25:32 INFO  Server          :: Running in read-only mode for /reactome_v87\n",
      "18:25:33 INFO  Server          :: Apache Jena Fuseki 4.9.0\n",
      "18:25:33 INFO  Config          :: FUSEKI_HOME=/home/cbeust/Softwares/JenaFuseki/apache-jena-fuseki-4.9.0\n",
      "18:25:33 INFO  Config          :: FUSEKI_BASE=/home/cbeust/Projects/2024/BioPAX_Review/BioPAXReview2024Codes/Figure3/Scripts/run\n",
      "18:25:33 INFO  Config          :: Shiro file: file:///home/cbeust/Projects/2024/BioPAX_Review/BioPAXReview2024Codes/Figure3/Scripts/run/shiro.ini\n",
      "18:25:33 INFO  Server          :: Database: in-memory, with files loaded\n",
      "18:25:33 INFO  Server          :: Path = /reactome_v87\n",
      "18:25:33 INFO  Server          ::   Memory: 16.0 GiB\n",
      "18:25:33 INFO  Server          ::   Java:   17.0.11\n",
      "18:25:33 INFO  Server          ::   OS:     Linux 6.8.9-100.fc38.x86_64 amd64\n",
      "18:25:33 INFO  Server          ::   PID:    61418\n",
      "18:25:33 INFO  Server          :: Started 2024/07/29 18:25:33 CEST on port 3030\n",
      "18:26:11 INFO  Fuseki          :: [1] GET http://localhost:3030/reactome_v87/query?query=%0APREFIX+rdf%3A+%3Chttp%3A//www.w3.org/1999/02/22-rdf-syntax-ns%23%3E%0APREFIX+rdfs%3A%3Chttp%3A//www.w3.org/2000/01/rdf-schema%23%3E%0APREFIX+owl%3A+%3Chttp%3A//www.w3.org/2002/07/owl%23%3E%0APREFIX+xsd%3A+%3Chttp%3A//www.w3.org/2001/XMLSchema%23%3E%0APREFIX+dc%3A+%3Chttp%3A//purl.org/dc/elements/1.1/%3E%0APREFIX+dcterms%3A+%3Chttp%3A//purl.org/dc/terms/%3E%0A%0APREFIX+chebi%3A+%3Chttp%3A//purl.obolibrary.org/obo/chebi/%3E%0APREFIX+chebidb%3A+%3Chttp%3A//purl.obolibrary.org/obo/CHEBI_%3E%0APREFIX+chebirel%3A+%3Chttp%3A//purl.obolibrary.org/obo/CHEBI%23%3E%0APREFIX+oboInOwl%3A+%3Chttp%3A//www.geneontology.org/formats/oboInOwl%23%3E%0A%0APREFIX+bp3%3A+%3Chttp%3A//www.biopax.org/release/biopax-level3.owl%23%3E%0A%0A%23+Homo_sapiens-20170221.owl%0A%23PREFIX+reactome%3A+%3Chttp%3A//www.reactome.org/biopax/59/48887%23%3E+%0A%23%0A%23+Homo_sapiens-20210608.owl%0A%23PREFIX+reactome%3A+%3Chttp%3A//www.reactome.org/biopax/77/48887%23%3E%0A%23%0A%23+Homo_sapiens-20220614.owl%0A%23PREFIX+reactome%3A+%3Chttp%3A//www.reactome.org/biopax/81/48887%23%3E%0A%23%0A%23+Homo_sapiens-20221130.owl%0A%23PREFIX+reactome%3A+%3Chttp%3A//www.reactome.org/biopax/83/48887%23%3E%0A%0APREFIX+reactome%3A+%3Chttp%3A//www.reactome.org/biopax/87/48887%23%3E%0A%0ASELECT+%3Fclass_of_interest+%28COUNT%28DISTINCT+%3Finstances%29+AS+%3Fnb_instances%29+%0AWHERE+%7B++%0A++%23+BioPAX+classe+for+which+we+want+to+count+the+number+of+instances%0A++VALUES+%3Fclass_of_interest+%7B+bp3%3ASmallMolecule+bp3%3AInteraction+bp3%3APathway+bp3%3APathwayStep+bp3%3ABiochemicalReaction+bp3%3AProtein+bp3%3ADna+bp3%3ARna+%7D%0A++OPTIONAL+%7B%0A++%3Finstances+rdf%3Atype/%28rdfs%3AsubClassOf%2A%29+%3Fclass_of_interest+.%0A++%7D%0A%7D%0AGROUP+BY+%3Fclass_of_interest%0A&format=json&output=json&results=json\n",
      "18:26:11 INFO  Fuseki          :: [1] Query =  PREFIX rdf: <http://www.w3.org/1999/02/22-rdf-syntax-ns#> PREFIX rdfs:<http://www.w3.org/2000/01/rdf-schema#> PREFIX owl: <http://www.w3.org/2002/07/owl#> PREFIX xsd: <http://www.w3.org/2001/XMLSchema#> PREFIX dc: <http://purl.org/dc/elements/1.1/> PREFIX dcterms: <http://purl.org/dc/terms/>  PREFIX chebi: <http://purl.obolibrary.org/obo/chebi/> PREFIX chebidb: <http://purl.obolibrary.org/obo/CHEBI_> PREFIX chebirel: <http://purl.obolibrary.org/obo/CHEBI#> PREFIX oboInOwl: <http://www.geneontology.org/formats/oboInOwl#>  PREFIX bp3: <http://www.biopax.org/release/biopax-level3.owl#>  # Homo_sapiens-20170221.owl #PREFIX reactome: <http://www.reactome.org/biopax/59/48887#>  # # Homo_sapiens-20210608.owl #PREFIX reactome: <http://www.reactome.org/biopax/77/48887#> # # Homo_sapiens-20220614.owl #PREFIX reactome: <http://www.reactome.org/biopax/81/48887#> # # Homo_sapiens-20221130.owl #PREFIX reactome: <http://www.reactome.org/biopax/83/48887#>  PREFIX reactome: <http://www.reactome.org/biopax/87/48887#>  SELECT ?class_of_interest (COUNT(DISTINCT ?instances) AS ?nb_instances)  WHERE {     # BioPAX classe for which we want to count the number of instances   VALUES ?class_of_interest { bp3:SmallMolecule bp3:Interaction bp3:Pathway bp3:PathwayStep bp3:BiochemicalReaction bp3:Protein bp3:Dna bp3:Rna }   OPTIONAL {   ?instances rdf:type/(rdfs:subClassOf*) ?class_of_interest .   } } GROUP BY ?class_of_interest \n",
      "18:26:21 INFO  Fuseki          :: [1] 200 OK (10.168 s)\n"
     ]
    },
    {
     "data": {
      "text/html": [
       "<table><tr><th>class_of_interest</th><th>nb_instances</th></tr><tr><td>http://www.biopax.org/release/biopax-level3.owl#BiochemicalReaction</td><td>14709</td></tr><tr><td>http://www.biopax.org/release/biopax-level3.owl#Pathway</td><td>2673</td></tr><tr><td>http://www.biopax.org/release/biopax-level3.owl#PathwayStep</td><td>17383</td></tr><tr><td>http://www.biopax.org/release/biopax-level3.owl#SmallMolecule</td><td>5196</td></tr><tr><td>http://www.biopax.org/release/biopax-level3.owl#Rna</td><td>654</td></tr><tr><td>http://www.biopax.org/release/biopax-level3.owl#Interaction</td><td>23577</td></tr><tr><td>http://www.biopax.org/release/biopax-level3.owl#Protein</td><td>31649</td></tr><tr><td>http://www.biopax.org/release/biopax-level3.owl#Dna</td><td>1479</td></tr></table>"
      ],
      "text/plain": [
       "<IPython.core.display.HTML object>"
      ]
     },
     "metadata": {},
     "output_type": "display_data"
    },
    {
     "name": "stderr",
     "output_type": "stream",
     "text": [
      "18:26:21 INFO  Fuseki          :: [2] GET http://localhost:3030/reactome_v87/query?query=%0APREFIX+rdf%3A+%3Chttp%3A//www.w3.org/1999/02/22-rdf-syntax-ns%23%3E%0APREFIX+rdfs%3A%3Chttp%3A//www.w3.org/2000/01/rdf-schema%23%3E%0APREFIX+owl%3A+%3Chttp%3A//www.w3.org/2002/07/owl%23%3E%0APREFIX+xsd%3A+%3Chttp%3A//www.w3.org/2001/XMLSchema%23%3E%0APREFIX+dc%3A+%3Chttp%3A//purl.org/dc/elements/1.1/%3E%0APREFIX+dcterms%3A+%3Chttp%3A//purl.org/dc/terms/%3E%0A%0APREFIX+chebi%3A+%3Chttp%3A//purl.obolibrary.org/obo/chebi/%3E%0APREFIX+chebidb%3A+%3Chttp%3A//purl.obolibrary.org/obo/CHEBI_%3E%0APREFIX+chebirel%3A+%3Chttp%3A//purl.obolibrary.org/obo/CHEBI%23%3E%0APREFIX+oboInOwl%3A+%3Chttp%3A//www.geneontology.org/formats/oboInOwl%23%3E%0A%0APREFIX+bp3%3A+%3Chttp%3A//www.biopax.org/release/biopax-level3.owl%23%3E%0A%0A%23+Homo_sapiens-20170221.owl%0A%23PREFIX+reactome%3A+%3Chttp%3A//www.reactome.org/biopax/59/48887%23%3E+%0A%23%0A%23+Homo_sapiens-20210608.owl%0A%23PREFIX+reactome%3A+%3Chttp%3A//www.reactome.org/biopax/77/48887%23%3E%0A%23%0A%23+Homo_sapiens-20220614.owl%0A%23PREFIX+reactome%3A+%3Chttp%3A//www.reactome.org/biopax/81/48887%23%3E%0A%23%0A%23+Homo_sapiens-20221130.owl%0A%23PREFIX+reactome%3A+%3Chttp%3A//www.reactome.org/biopax/83/48887%23%3E%0A%0APREFIX+reactome%3A+%3Chttp%3A//www.reactome.org/biopax/87/48887%23%3E%0A%0ASELECT+%3Fclass_of_interest+%28COUNT%28DISTINCT+%3Finstances%29+AS+%3Fnb_instances%29+%0AWHERE+%7B++%0A++%23+BioPAX+classe+for+which+we+want+to+count+the+number+of+instances%0A++VALUES+%3Fclass_of_interest+%7B+bp3%3ASmallMolecule+bp3%3AInteraction+bp3%3APathway+bp3%3APathwayStep+bp3%3ABiochemicalReaction+bp3%3AProtein+bp3%3ADna+bp3%3ARna+%7D%0A++OPTIONAL+%7B%0A++%3Finstances+rdf%3Atype/%28rdfs%3AsubClassOf%2A%29+%3Fclass_of_interest+.%0A++%7D%0A%7D%0AGROUP+BY+%3Fclass_of_interest%0A&format=csv&output=csv&results=csv\n",
      "18:26:21 INFO  Fuseki          :: [2] Query =  PREFIX rdf: <http://www.w3.org/1999/02/22-rdf-syntax-ns#> PREFIX rdfs:<http://www.w3.org/2000/01/rdf-schema#> PREFIX owl: <http://www.w3.org/2002/07/owl#> PREFIX xsd: <http://www.w3.org/2001/XMLSchema#> PREFIX dc: <http://purl.org/dc/elements/1.1/> PREFIX dcterms: <http://purl.org/dc/terms/>  PREFIX chebi: <http://purl.obolibrary.org/obo/chebi/> PREFIX chebidb: <http://purl.obolibrary.org/obo/CHEBI_> PREFIX chebirel: <http://purl.obolibrary.org/obo/CHEBI#> PREFIX oboInOwl: <http://www.geneontology.org/formats/oboInOwl#>  PREFIX bp3: <http://www.biopax.org/release/biopax-level3.owl#>  # Homo_sapiens-20170221.owl #PREFIX reactome: <http://www.reactome.org/biopax/59/48887#>  # # Homo_sapiens-20210608.owl #PREFIX reactome: <http://www.reactome.org/biopax/77/48887#> # # Homo_sapiens-20220614.owl #PREFIX reactome: <http://www.reactome.org/biopax/81/48887#> # # Homo_sapiens-20221130.owl #PREFIX reactome: <http://www.reactome.org/biopax/83/48887#>  PREFIX reactome: <http://www.reactome.org/biopax/87/48887#>  SELECT ?class_of_interest (COUNT(DISTINCT ?instances) AS ?nb_instances)  WHERE {     # BioPAX classe for which we want to count the number of instances   VALUES ?class_of_interest { bp3:SmallMolecule bp3:Interaction bp3:Pathway bp3:PathwayStep bp3:BiochemicalReaction bp3:Protein bp3:Dna bp3:Rna }   OPTIONAL {   ?instances rdf:type/(rdfs:subClassOf*) ?class_of_interest .   } } GROUP BY ?class_of_interest \n",
      "18:26:30 INFO  Fuseki          :: [2] 200 OK (8.877 s)\n"
     ]
    }
   ],
   "source": [
    "# TODO: change path\n",
    "command = [\n",
    "    '/home/cbeust/Softwares/JenaFuseki/apache-jena-fuseki-4.9.0/fuseki-server',\n",
    "    '--file', '/home/cbeust/Projects/2024/BioPAX_Review/Compare_BioPAX_Files/ReactomeBioPAX/_00_Reactome_Data_v87/Homo_sapiens.owl',\n",
    "    '--file', '/home/cbeust/Projects/2024/BioPAX_Review/BioPAX_Ontology/biopax-level3.owl',\n",
    "    '/reactome_v87']\n",
    "process = subprocess.Popen(command)\n",
    "time.sleep(60)\n",
    "# execute SPARQL query\n",
    "sparql = SPARQLWrapper(endpointURL_reactome_v87)\n",
    "sparql.setQuery(prefixes+query)\n",
    "\n",
    "# display results\n",
    "sparql.setReturnFormat(JSON)\n",
    "results = sparql.query().convert()\n",
    "displaySparqlResults(results)\n",
    "\n",
    "# export results to CSV\n",
    "sparql.setReturnFormat(CSV)\n",
    "results = sparql.query().convert()\n",
    "with open(f\"../Results/reactome_v87_counts_bp_classes.csv\", \"wb\") as f:\n",
    "    f.write(results)\n",
    "\n",
    "# end process\n",
    "process.kill()\n",
    "time.sleep(60)"
   ]
  },
  {
   "cell_type": "markdown",
   "metadata": {},
   "source": [
    "#### Query on BioPAX export of Reactome from PathwayCommons"
   ]
  },
  {
   "cell_type": "code",
   "execution_count": 7,
   "metadata": {},
   "outputs": [
    {
     "name": "stderr",
     "output_type": "stream",
     "text": [
      "18:27:30 INFO  Server          :: Dataset: in-memory: load file: /home/cbeust/Projects/2024/BioPAX_Review/Compare_BioPAX_Files/PathwayCommonsFiles/PathwayCommons12.reactome.BIOPAX.owl\n",
      "18:27:32 WARN  riot            :: [line: 100212, col: 81] {W137} Input is large. Switching off checking for illegal reuse of rdf:ID's.\n",
      "18:27:51 INFO  Server          :: Dataset: in-memory: load file: /home/cbeust/Projects/2024/BioPAX_Review/BioPAX_Ontology/biopax-level3.owl\n",
      "18:27:51 INFO  Server          :: Running in read-only mode for /reactome_pc\n",
      "18:27:51 INFO  Server          :: Apache Jena Fuseki 4.9.0\n",
      "18:27:51 INFO  Config          :: FUSEKI_HOME=/home/cbeust/Softwares/JenaFuseki/apache-jena-fuseki-4.9.0\n",
      "18:27:51 INFO  Config          :: FUSEKI_BASE=/home/cbeust/Projects/2024/BioPAX_Review/BioPAXReview2024Codes/Figure3/Scripts/run\n",
      "18:27:51 INFO  Config          :: Shiro file: file:///home/cbeust/Projects/2024/BioPAX_Review/BioPAXReview2024Codes/Figure3/Scripts/run/shiro.ini\n",
      "18:27:51 INFO  Server          :: Database: in-memory, with files loaded\n",
      "18:27:51 INFO  Server          :: Path = /reactome_pc\n",
      "18:27:51 INFO  Server          ::   Memory: 16.0 GiB\n",
      "18:27:51 INFO  Server          ::   Java:   17.0.11\n",
      "18:27:51 INFO  Server          ::   OS:     Linux 6.8.9-100.fc38.x86_64 amd64\n",
      "18:27:51 INFO  Server          ::   PID:    61967\n",
      "18:27:51 INFO  Server          :: Started 2024/07/29 18:27:51 CEST on port 3030\n",
      "18:28:30 INFO  Fuseki          :: [1] GET http://localhost:3030/reactome_pc/query?query=%0APREFIX+rdf%3A+%3Chttp%3A//www.w3.org/1999/02/22-rdf-syntax-ns%23%3E%0APREFIX+rdfs%3A%3Chttp%3A//www.w3.org/2000/01/rdf-schema%23%3E%0APREFIX+owl%3A+%3Chttp%3A//www.w3.org/2002/07/owl%23%3E%0APREFIX+xsd%3A+%3Chttp%3A//www.w3.org/2001/XMLSchema%23%3E%0APREFIX+dc%3A+%3Chttp%3A//purl.org/dc/elements/1.1/%3E%0APREFIX+dcterms%3A+%3Chttp%3A//purl.org/dc/terms/%3E%0A%0APREFIX+chebi%3A+%3Chttp%3A//purl.obolibrary.org/obo/chebi/%3E%0APREFIX+chebidb%3A+%3Chttp%3A//purl.obolibrary.org/obo/CHEBI_%3E%0APREFIX+chebirel%3A+%3Chttp%3A//purl.obolibrary.org/obo/CHEBI%23%3E%0APREFIX+oboInOwl%3A+%3Chttp%3A//www.geneontology.org/formats/oboInOwl%23%3E%0A%0APREFIX+bp3%3A+%3Chttp%3A//www.biopax.org/release/biopax-level3.owl%23%3E%0A%0A%23+Homo_sapiens-20170221.owl%0A%23PREFIX+reactome%3A+%3Chttp%3A//www.reactome.org/biopax/59/48887%23%3E+%0A%23%0A%23+Homo_sapiens-20210608.owl%0A%23PREFIX+reactome%3A+%3Chttp%3A//www.reactome.org/biopax/77/48887%23%3E%0A%23%0A%23+Homo_sapiens-20220614.owl%0A%23PREFIX+reactome%3A+%3Chttp%3A//www.reactome.org/biopax/81/48887%23%3E%0A%23%0A%23+Homo_sapiens-20221130.owl%0A%23PREFIX+reactome%3A+%3Chttp%3A//www.reactome.org/biopax/83/48887%23%3E%0A%0APREFIX+reactome%3A+%3Chttp%3A//www.reactome.org/biopax/87/48887%23%3E%0A%0ASELECT+%3Fclass_of_interest+%28COUNT%28DISTINCT+%3Finstances%29+AS+%3Fnb_instances%29+%0AWHERE+%7B++%0A++%23+BioPAX+classe+for+which+we+want+to+count+the+number+of+instances%0A++VALUES+%3Fclass_of_interest+%7B+bp3%3ASmallMolecule+bp3%3AInteraction+bp3%3APathway+bp3%3APathwayStep+bp3%3ABiochemicalReaction+bp3%3AProtein+bp3%3ADna+bp3%3ARna+%7D%0A++OPTIONAL+%7B%0A++%3Finstances+rdf%3Atype/%28rdfs%3AsubClassOf%2A%29+%3Fclass_of_interest+.%0A++%7D%0A%7D%0AGROUP+BY+%3Fclass_of_interest%0A&format=json&output=json&results=json\n",
      "18:28:30 INFO  Fuseki          :: [1] Query =  PREFIX rdf: <http://www.w3.org/1999/02/22-rdf-syntax-ns#> PREFIX rdfs:<http://www.w3.org/2000/01/rdf-schema#> PREFIX owl: <http://www.w3.org/2002/07/owl#> PREFIX xsd: <http://www.w3.org/2001/XMLSchema#> PREFIX dc: <http://purl.org/dc/elements/1.1/> PREFIX dcterms: <http://purl.org/dc/terms/>  PREFIX chebi: <http://purl.obolibrary.org/obo/chebi/> PREFIX chebidb: <http://purl.obolibrary.org/obo/CHEBI_> PREFIX chebirel: <http://purl.obolibrary.org/obo/CHEBI#> PREFIX oboInOwl: <http://www.geneontology.org/formats/oboInOwl#>  PREFIX bp3: <http://www.biopax.org/release/biopax-level3.owl#>  # Homo_sapiens-20170221.owl #PREFIX reactome: <http://www.reactome.org/biopax/59/48887#>  # # Homo_sapiens-20210608.owl #PREFIX reactome: <http://www.reactome.org/biopax/77/48887#> # # Homo_sapiens-20220614.owl #PREFIX reactome: <http://www.reactome.org/biopax/81/48887#> # # Homo_sapiens-20221130.owl #PREFIX reactome: <http://www.reactome.org/biopax/83/48887#>  PREFIX reactome: <http://www.reactome.org/biopax/87/48887#>  SELECT ?class_of_interest (COUNT(DISTINCT ?instances) AS ?nb_instances)  WHERE {     # BioPAX classe for which we want to count the number of instances   VALUES ?class_of_interest { bp3:SmallMolecule bp3:Interaction bp3:Pathway bp3:PathwayStep bp3:BiochemicalReaction bp3:Protein bp3:Dna bp3:Rna }   OPTIONAL {   ?instances rdf:type/(rdfs:subClassOf*) ?class_of_interest .   } } GROUP BY ?class_of_interest \n",
      "18:28:39 INFO  Fuseki          :: [1] 200 OK (8.844 s)\n"
     ]
    },
    {
     "data": {
      "text/html": [
       "<table><tr><th>class_of_interest</th><th>nb_instances</th></tr><tr><td>http://www.biopax.org/release/biopax-level3.owl#BiochemicalReaction</td><td>12184</td></tr><tr><td>http://www.biopax.org/release/biopax-level3.owl#Pathway</td><td>2272</td></tr><tr><td>http://www.biopax.org/release/biopax-level3.owl#PathwayStep</td><td>14460</td></tr><tr><td>http://www.biopax.org/release/biopax-level3.owl#SmallMolecule</td><td>3983</td></tr><tr><td>http://www.biopax.org/release/biopax-level3.owl#Rna</td><td>312</td></tr><tr><td>http://www.biopax.org/release/biopax-level3.owl#Interaction</td><td>19640</td></tr><tr><td>http://www.biopax.org/release/biopax-level3.owl#Protein</td><td>26582</td></tr><tr><td>http://www.biopax.org/release/biopax-level3.owl#Dna</td><td>890</td></tr></table>"
      ],
      "text/plain": [
       "<IPython.core.display.HTML object>"
      ]
     },
     "metadata": {},
     "output_type": "display_data"
    },
    {
     "name": "stderr",
     "output_type": "stream",
     "text": [
      "18:28:39 INFO  Fuseki          :: [2] GET http://localhost:3030/reactome_pc/query?query=%0APREFIX+rdf%3A+%3Chttp%3A//www.w3.org/1999/02/22-rdf-syntax-ns%23%3E%0APREFIX+rdfs%3A%3Chttp%3A//www.w3.org/2000/01/rdf-schema%23%3E%0APREFIX+owl%3A+%3Chttp%3A//www.w3.org/2002/07/owl%23%3E%0APREFIX+xsd%3A+%3Chttp%3A//www.w3.org/2001/XMLSchema%23%3E%0APREFIX+dc%3A+%3Chttp%3A//purl.org/dc/elements/1.1/%3E%0APREFIX+dcterms%3A+%3Chttp%3A//purl.org/dc/terms/%3E%0A%0APREFIX+chebi%3A+%3Chttp%3A//purl.obolibrary.org/obo/chebi/%3E%0APREFIX+chebidb%3A+%3Chttp%3A//purl.obolibrary.org/obo/CHEBI_%3E%0APREFIX+chebirel%3A+%3Chttp%3A//purl.obolibrary.org/obo/CHEBI%23%3E%0APREFIX+oboInOwl%3A+%3Chttp%3A//www.geneontology.org/formats/oboInOwl%23%3E%0A%0APREFIX+bp3%3A+%3Chttp%3A//www.biopax.org/release/biopax-level3.owl%23%3E%0A%0A%23+Homo_sapiens-20170221.owl%0A%23PREFIX+reactome%3A+%3Chttp%3A//www.reactome.org/biopax/59/48887%23%3E+%0A%23%0A%23+Homo_sapiens-20210608.owl%0A%23PREFIX+reactome%3A+%3Chttp%3A//www.reactome.org/biopax/77/48887%23%3E%0A%23%0A%23+Homo_sapiens-20220614.owl%0A%23PREFIX+reactome%3A+%3Chttp%3A//www.reactome.org/biopax/81/48887%23%3E%0A%23%0A%23+Homo_sapiens-20221130.owl%0A%23PREFIX+reactome%3A+%3Chttp%3A//www.reactome.org/biopax/83/48887%23%3E%0A%0APREFIX+reactome%3A+%3Chttp%3A//www.reactome.org/biopax/87/48887%23%3E%0A%0ASELECT+%3Fclass_of_interest+%28COUNT%28DISTINCT+%3Finstances%29+AS+%3Fnb_instances%29+%0AWHERE+%7B++%0A++%23+BioPAX+classe+for+which+we+want+to+count+the+number+of+instances%0A++VALUES+%3Fclass_of_interest+%7B+bp3%3ASmallMolecule+bp3%3AInteraction+bp3%3APathway+bp3%3APathwayStep+bp3%3ABiochemicalReaction+bp3%3AProtein+bp3%3ADna+bp3%3ARna+%7D%0A++OPTIONAL+%7B%0A++%3Finstances+rdf%3Atype/%28rdfs%3AsubClassOf%2A%29+%3Fclass_of_interest+.%0A++%7D%0A%7D%0AGROUP+BY+%3Fclass_of_interest%0A&format=csv&output=csv&results=csv\n",
      "18:28:39 INFO  Fuseki          :: [2] Query =  PREFIX rdf: <http://www.w3.org/1999/02/22-rdf-syntax-ns#> PREFIX rdfs:<http://www.w3.org/2000/01/rdf-schema#> PREFIX owl: <http://www.w3.org/2002/07/owl#> PREFIX xsd: <http://www.w3.org/2001/XMLSchema#> PREFIX dc: <http://purl.org/dc/elements/1.1/> PREFIX dcterms: <http://purl.org/dc/terms/>  PREFIX chebi: <http://purl.obolibrary.org/obo/chebi/> PREFIX chebidb: <http://purl.obolibrary.org/obo/CHEBI_> PREFIX chebirel: <http://purl.obolibrary.org/obo/CHEBI#> PREFIX oboInOwl: <http://www.geneontology.org/formats/oboInOwl#>  PREFIX bp3: <http://www.biopax.org/release/biopax-level3.owl#>  # Homo_sapiens-20170221.owl #PREFIX reactome: <http://www.reactome.org/biopax/59/48887#>  # # Homo_sapiens-20210608.owl #PREFIX reactome: <http://www.reactome.org/biopax/77/48887#> # # Homo_sapiens-20220614.owl #PREFIX reactome: <http://www.reactome.org/biopax/81/48887#> # # Homo_sapiens-20221130.owl #PREFIX reactome: <http://www.reactome.org/biopax/83/48887#>  PREFIX reactome: <http://www.reactome.org/biopax/87/48887#>  SELECT ?class_of_interest (COUNT(DISTINCT ?instances) AS ?nb_instances)  WHERE {     # BioPAX classe for which we want to count the number of instances   VALUES ?class_of_interest { bp3:SmallMolecule bp3:Interaction bp3:Pathway bp3:PathwayStep bp3:BiochemicalReaction bp3:Protein bp3:Dna bp3:Rna }   OPTIONAL {   ?instances rdf:type/(rdfs:subClassOf*) ?class_of_interest .   } } GROUP BY ?class_of_interest \n",
      "18:28:46 INFO  Fuseki          :: [2] 200 OK (7.574 s)\n"
     ]
    }
   ],
   "source": [
    "# TODO: change path\n",
    "command = [\n",
    "    '/home/cbeust/Softwares/JenaFuseki/apache-jena-fuseki-4.9.0/fuseki-server',\n",
    "    '--file', '/home/cbeust/Projects/2024/BioPAX_Review/Compare_BioPAX_Files/PathwayCommonsFiles/PathwayCommons12.reactome.BIOPAX.owl',\n",
    "    '--file', '/home/cbeust/Projects/2024/BioPAX_Review/BioPAX_Ontology/biopax-level3.owl',\n",
    "    '/reactome_pc']\n",
    "process = subprocess.Popen(command)\n",
    "time.sleep(60)\n",
    "\n",
    "# execute SPARQL query\n",
    "sparql = SPARQLWrapper(endpointURL_reactome_pc)\n",
    "sparql.setQuery(prefixes+query)\n",
    "\n",
    "# display results\n",
    "sparql.setReturnFormat(JSON)\n",
    "results = sparql.query().convert()\n",
    "displaySparqlResults(results)\n",
    "\n",
    "# export results to CSV\n",
    "sparql.setReturnFormat(CSV)\n",
    "results = sparql.query().convert()\n",
    "with open(f\"../Results/reactome_pc_counts_bp_classes.csv\", \"wb\") as f:\n",
    "    f.write(results)\n",
    "\n",
    "# end process\n",
    "process.kill()\n",
    "time.sleep(60)"
   ]
  },
  {
   "cell_type": "markdown",
   "metadata": {},
   "source": [
    "#### Query on BioPAX export of Panther from PathwayCommons"
   ]
  },
  {
   "cell_type": "code",
   "execution_count": 8,
   "metadata": {},
   "outputs": [
    {
     "name": "stderr",
     "output_type": "stream",
     "text": [
      "18:29:47 INFO  Server          :: Dataset: in-memory: load file: /home/cbeust/Projects/2024/BioPAX_Review/Compare_BioPAX_Files/PathwayCommonsFiles/PathwayCommons12.panther.BIOPAX.owl\n",
      "18:29:48 WARN  riot            :: [line: 80968, col: 73] {W137} Input is large. Switching off checking for illegal reuse of rdf:ID's.\n",
      "18:29:50 INFO  Server          :: Dataset: in-memory: load file: /home/cbeust/Projects/2024/BioPAX_Review/BioPAX_Ontology/biopax-level3.owl\n",
      "18:29:50 INFO  Server          :: Running in read-only mode for /panther_pc\n",
      "18:29:50 INFO  Server          :: Apache Jena Fuseki 4.9.0\n",
      "18:29:50 INFO  Config          :: FUSEKI_HOME=/home/cbeust/Softwares/JenaFuseki/apache-jena-fuseki-4.9.0\n",
      "18:29:50 INFO  Config          :: FUSEKI_BASE=/home/cbeust/Projects/2024/BioPAX_Review/BioPAXReview2024Codes/Figure3/Scripts/run\n",
      "18:29:50 INFO  Config          :: Shiro file: file:///home/cbeust/Projects/2024/BioPAX_Review/BioPAXReview2024Codes/Figure3/Scripts/run/shiro.ini\n",
      "18:29:51 INFO  Server          :: Database: in-memory, with files loaded\n",
      "18:29:51 INFO  Server          :: Path = /panther_pc\n",
      "18:29:51 INFO  Server          ::   Memory: 16.0 GiB\n",
      "18:29:51 INFO  Server          ::   Java:   17.0.11\n",
      "18:29:51 INFO  Server          ::   OS:     Linux 6.8.9-100.fc38.x86_64 amd64\n",
      "18:29:51 INFO  Server          ::   PID:    62352\n",
      "18:29:51 INFO  Server          :: Started 2024/07/29 18:29:51 CEST on port 3030\n",
      "18:30:46 INFO  Fuseki          :: [1] GET http://localhost:3030/panther_pc/query?query=%0APREFIX+rdf%3A+%3Chttp%3A//www.w3.org/1999/02/22-rdf-syntax-ns%23%3E%0APREFIX+rdfs%3A%3Chttp%3A//www.w3.org/2000/01/rdf-schema%23%3E%0APREFIX+owl%3A+%3Chttp%3A//www.w3.org/2002/07/owl%23%3E%0APREFIX+xsd%3A+%3Chttp%3A//www.w3.org/2001/XMLSchema%23%3E%0APREFIX+dc%3A+%3Chttp%3A//purl.org/dc/elements/1.1/%3E%0APREFIX+dcterms%3A+%3Chttp%3A//purl.org/dc/terms/%3E%0A%0APREFIX+chebi%3A+%3Chttp%3A//purl.obolibrary.org/obo/chebi/%3E%0APREFIX+chebidb%3A+%3Chttp%3A//purl.obolibrary.org/obo/CHEBI_%3E%0APREFIX+chebirel%3A+%3Chttp%3A//purl.obolibrary.org/obo/CHEBI%23%3E%0APREFIX+oboInOwl%3A+%3Chttp%3A//www.geneontology.org/formats/oboInOwl%23%3E%0A%0APREFIX+bp3%3A+%3Chttp%3A//www.biopax.org/release/biopax-level3.owl%23%3E%0A%0A%23+Homo_sapiens-20170221.owl%0A%23PREFIX+reactome%3A+%3Chttp%3A//www.reactome.org/biopax/59/48887%23%3E+%0A%23%0A%23+Homo_sapiens-20210608.owl%0A%23PREFIX+reactome%3A+%3Chttp%3A//www.reactome.org/biopax/77/48887%23%3E%0A%23%0A%23+Homo_sapiens-20220614.owl%0A%23PREFIX+reactome%3A+%3Chttp%3A//www.reactome.org/biopax/81/48887%23%3E%0A%23%0A%23+Homo_sapiens-20221130.owl%0A%23PREFIX+reactome%3A+%3Chttp%3A//www.reactome.org/biopax/83/48887%23%3E%0A%0APREFIX+reactome%3A+%3Chttp%3A//www.reactome.org/biopax/87/48887%23%3E%0A%0ASELECT+%3Fclass_of_interest+%28COUNT%28DISTINCT+%3Finstances%29+AS+%3Fnb_instances%29+%0AWHERE+%7B++%0A++%23+BioPAX+classe+for+which+we+want+to+count+the+number+of+instances%0A++VALUES+%3Fclass_of_interest+%7B+bp3%3ASmallMolecule+bp3%3AInteraction+bp3%3APathway+bp3%3APathwayStep+bp3%3ABiochemicalReaction+bp3%3AProtein+bp3%3ADna+bp3%3ARna+%7D%0A++OPTIONAL+%7B%0A++%3Finstances+rdf%3Atype/%28rdfs%3AsubClassOf%2A%29+%3Fclass_of_interest+.%0A++%7D%0A%7D%0AGROUP+BY+%3Fclass_of_interest%0A&format=json&output=json&results=json\n",
      "18:30:46 INFO  Fuseki          :: [1] Query =  PREFIX rdf: <http://www.w3.org/1999/02/22-rdf-syntax-ns#> PREFIX rdfs:<http://www.w3.org/2000/01/rdf-schema#> PREFIX owl: <http://www.w3.org/2002/07/owl#> PREFIX xsd: <http://www.w3.org/2001/XMLSchema#> PREFIX dc: <http://purl.org/dc/elements/1.1/> PREFIX dcterms: <http://purl.org/dc/terms/>  PREFIX chebi: <http://purl.obolibrary.org/obo/chebi/> PREFIX chebidb: <http://purl.obolibrary.org/obo/CHEBI_> PREFIX chebirel: <http://purl.obolibrary.org/obo/CHEBI#> PREFIX oboInOwl: <http://www.geneontology.org/formats/oboInOwl#>  PREFIX bp3: <http://www.biopax.org/release/biopax-level3.owl#>  # Homo_sapiens-20170221.owl #PREFIX reactome: <http://www.reactome.org/biopax/59/48887#>  # # Homo_sapiens-20210608.owl #PREFIX reactome: <http://www.reactome.org/biopax/77/48887#> # # Homo_sapiens-20220614.owl #PREFIX reactome: <http://www.reactome.org/biopax/81/48887#> # # Homo_sapiens-20221130.owl #PREFIX reactome: <http://www.reactome.org/biopax/83/48887#>  PREFIX reactome: <http://www.reactome.org/biopax/87/48887#>  SELECT ?class_of_interest (COUNT(DISTINCT ?instances) AS ?nb_instances)  WHERE {     # BioPAX classe for which we want to count the number of instances   VALUES ?class_of_interest { bp3:SmallMolecule bp3:Interaction bp3:Pathway bp3:PathwayStep bp3:BiochemicalReaction bp3:Protein bp3:Dna bp3:Rna }   OPTIONAL {   ?instances rdf:type/(rdfs:subClassOf*) ?class_of_interest .   } } GROUP BY ?class_of_interest \n",
      "18:30:48 INFO  Fuseki          :: [1] 200 OK (1.829 s)\n"
     ]
    },
    {
     "data": {
      "text/html": [
       "<table><tr><th>class_of_interest</th><th>nb_instances</th></tr><tr><td>http://www.biopax.org/release/biopax-level3.owl#BiochemicalReaction</td><td>2222</td></tr><tr><td>http://www.biopax.org/release/biopax-level3.owl#Pathway</td><td>295</td></tr><tr><td>http://www.biopax.org/release/biopax-level3.owl#PathwayStep</td><td>0</td></tr><tr><td>http://www.biopax.org/release/biopax-level3.owl#SmallMolecule</td><td>1936</td></tr><tr><td>http://www.biopax.org/release/biopax-level3.owl#Rna</td><td>0</td></tr><tr><td>http://www.biopax.org/release/biopax-level3.owl#Interaction</td><td>5982</td></tr><tr><td>http://www.biopax.org/release/biopax-level3.owl#Protein</td><td>5342</td></tr><tr><td>http://www.biopax.org/release/biopax-level3.owl#Dna</td><td>0</td></tr></table>"
      ],
      "text/plain": [
       "<IPython.core.display.HTML object>"
      ]
     },
     "metadata": {},
     "output_type": "display_data"
    },
    {
     "name": "stderr",
     "output_type": "stream",
     "text": [
      "18:30:48 INFO  Fuseki          :: [2] GET http://localhost:3030/panther_pc/query?query=%0APREFIX+rdf%3A+%3Chttp%3A//www.w3.org/1999/02/22-rdf-syntax-ns%23%3E%0APREFIX+rdfs%3A%3Chttp%3A//www.w3.org/2000/01/rdf-schema%23%3E%0APREFIX+owl%3A+%3Chttp%3A//www.w3.org/2002/07/owl%23%3E%0APREFIX+xsd%3A+%3Chttp%3A//www.w3.org/2001/XMLSchema%23%3E%0APREFIX+dc%3A+%3Chttp%3A//purl.org/dc/elements/1.1/%3E%0APREFIX+dcterms%3A+%3Chttp%3A//purl.org/dc/terms/%3E%0A%0APREFIX+chebi%3A+%3Chttp%3A//purl.obolibrary.org/obo/chebi/%3E%0APREFIX+chebidb%3A+%3Chttp%3A//purl.obolibrary.org/obo/CHEBI_%3E%0APREFIX+chebirel%3A+%3Chttp%3A//purl.obolibrary.org/obo/CHEBI%23%3E%0APREFIX+oboInOwl%3A+%3Chttp%3A//www.geneontology.org/formats/oboInOwl%23%3E%0A%0APREFIX+bp3%3A+%3Chttp%3A//www.biopax.org/release/biopax-level3.owl%23%3E%0A%0A%23+Homo_sapiens-20170221.owl%0A%23PREFIX+reactome%3A+%3Chttp%3A//www.reactome.org/biopax/59/48887%23%3E+%0A%23%0A%23+Homo_sapiens-20210608.owl%0A%23PREFIX+reactome%3A+%3Chttp%3A//www.reactome.org/biopax/77/48887%23%3E%0A%23%0A%23+Homo_sapiens-20220614.owl%0A%23PREFIX+reactome%3A+%3Chttp%3A//www.reactome.org/biopax/81/48887%23%3E%0A%23%0A%23+Homo_sapiens-20221130.owl%0A%23PREFIX+reactome%3A+%3Chttp%3A//www.reactome.org/biopax/83/48887%23%3E%0A%0APREFIX+reactome%3A+%3Chttp%3A//www.reactome.org/biopax/87/48887%23%3E%0A%0ASELECT+%3Fclass_of_interest+%28COUNT%28DISTINCT+%3Finstances%29+AS+%3Fnb_instances%29+%0AWHERE+%7B++%0A++%23+BioPAX+classe+for+which+we+want+to+count+the+number+of+instances%0A++VALUES+%3Fclass_of_interest+%7B+bp3%3ASmallMolecule+bp3%3AInteraction+bp3%3APathway+bp3%3APathwayStep+bp3%3ABiochemicalReaction+bp3%3AProtein+bp3%3ADna+bp3%3ARna+%7D%0A++OPTIONAL+%7B%0A++%3Finstances+rdf%3Atype/%28rdfs%3AsubClassOf%2A%29+%3Fclass_of_interest+.%0A++%7D%0A%7D%0AGROUP+BY+%3Fclass_of_interest%0A&format=csv&output=csv&results=csv\n",
      "18:30:48 INFO  Fuseki          :: [2] Query =  PREFIX rdf: <http://www.w3.org/1999/02/22-rdf-syntax-ns#> PREFIX rdfs:<http://www.w3.org/2000/01/rdf-schema#> PREFIX owl: <http://www.w3.org/2002/07/owl#> PREFIX xsd: <http://www.w3.org/2001/XMLSchema#> PREFIX dc: <http://purl.org/dc/elements/1.1/> PREFIX dcterms: <http://purl.org/dc/terms/>  PREFIX chebi: <http://purl.obolibrary.org/obo/chebi/> PREFIX chebidb: <http://purl.obolibrary.org/obo/CHEBI_> PREFIX chebirel: <http://purl.obolibrary.org/obo/CHEBI#> PREFIX oboInOwl: <http://www.geneontology.org/formats/oboInOwl#>  PREFIX bp3: <http://www.biopax.org/release/biopax-level3.owl#>  # Homo_sapiens-20170221.owl #PREFIX reactome: <http://www.reactome.org/biopax/59/48887#>  # # Homo_sapiens-20210608.owl #PREFIX reactome: <http://www.reactome.org/biopax/77/48887#> # # Homo_sapiens-20220614.owl #PREFIX reactome: <http://www.reactome.org/biopax/81/48887#> # # Homo_sapiens-20221130.owl #PREFIX reactome: <http://www.reactome.org/biopax/83/48887#>  PREFIX reactome: <http://www.reactome.org/biopax/87/48887#>  SELECT ?class_of_interest (COUNT(DISTINCT ?instances) AS ?nb_instances)  WHERE {     # BioPAX classe for which we want to count the number of instances   VALUES ?class_of_interest { bp3:SmallMolecule bp3:Interaction bp3:Pathway bp3:PathwayStep bp3:BiochemicalReaction bp3:Protein bp3:Dna bp3:Rna }   OPTIONAL {   ?instances rdf:type/(rdfs:subClassOf*) ?class_of_interest .   } } GROUP BY ?class_of_interest \n",
      "18:30:49 INFO  Fuseki          :: [2] 200 OK (1.232 s)\n"
     ]
    }
   ],
   "source": [
    "# TODO: change path\n",
    "command = [\n",
    "    '/home/cbeust/Softwares/JenaFuseki/apache-jena-fuseki-4.9.0/fuseki-server',\n",
    "    '--file', '/home/cbeust/Projects/2024/BioPAX_Review/Compare_BioPAX_Files/PathwayCommonsFiles/PathwayCommons12.panther.BIOPAX.owl',\n",
    "    '--file', '/home/cbeust/Projects/2024/BioPAX_Review/BioPAX_Ontology/biopax-level3.owl',\n",
    "    '/panther_pc']\n",
    "process = subprocess.Popen(command)\n",
    "time.sleep(60)\n",
    "\n",
    "# execute SPARQL query\n",
    "sparql = SPARQLWrapper(endpointURL_panther_pc)\n",
    "sparql.setQuery(prefixes+query)\n",
    "\n",
    "# display results\n",
    "sparql.setReturnFormat(JSON)\n",
    "results = sparql.query().convert()\n",
    "displaySparqlResults(results)\n",
    "\n",
    "# export results to CSV\n",
    "sparql.setReturnFormat(CSV)\n",
    "results = sparql.query().convert()\n",
    "with open(\"../Results/panther_pc_counts_bp_classes.csv\", \"wb\") as f:\n",
    "    f.write(results)\n",
    "\n",
    "# end process\n",
    "process.kill()\n",
    "time.sleep(60)"
   ]
  },
  {
   "cell_type": "markdown",
   "metadata": {},
   "source": [
    "#### Query on BioPAX export of PathBank from PathwayCommons"
   ]
  },
  {
   "cell_type": "code",
   "execution_count": 9,
   "metadata": {},
   "outputs": [
    {
     "name": "stderr",
     "output_type": "stream",
     "text": [
      "18:31:50 INFO  Server          :: Dataset: in-memory: load file: /home/cbeust/Projects/2024/BioPAX_Review/Compare_BioPAX_Files/PathwayCommonsFiles/PathwayCommons12.pathbank.BIOPAX.owl\n",
      "18:31:51 WARN  riot            :: [line: 89570, col: 87] {W137} Input is large. Switching off checking for illegal reuse of rdf:ID's.\n",
      "18:31:53 INFO  Server          :: Dataset: in-memory: load file: /home/cbeust/Projects/2024/BioPAX_Review/BioPAX_Ontology/biopax-level3.owl\n",
      "18:31:53 INFO  Server          :: Running in read-only mode for /pathbank_pc\n",
      "18:31:53 INFO  Server          :: Apache Jena Fuseki 4.9.0\n",
      "18:31:53 INFO  Config          :: FUSEKI_HOME=/home/cbeust/Softwares/JenaFuseki/apache-jena-fuseki-4.9.0\n",
      "18:31:53 INFO  Config          :: FUSEKI_BASE=/home/cbeust/Projects/2024/BioPAX_Review/BioPAXReview2024Codes/Figure3/Scripts/run\n",
      "18:31:53 INFO  Config          :: Shiro file: file:///home/cbeust/Projects/2024/BioPAX_Review/BioPAXReview2024Codes/Figure3/Scripts/run/shiro.ini\n",
      "18:31:54 INFO  Server          :: Database: in-memory, with files loaded\n",
      "18:31:54 INFO  Server          :: Path = /pathbank_pc\n",
      "18:31:54 INFO  Server          ::   Memory: 16.0 GiB\n",
      "18:31:54 INFO  Server          ::   Java:   17.0.11\n",
      "18:31:54 INFO  Server          ::   OS:     Linux 6.8.9-100.fc38.x86_64 amd64\n",
      "18:31:54 INFO  Server          ::   PID:    62803\n",
      "18:31:54 INFO  Server          :: Started 2024/07/29 18:31:54 CEST on port 3030\n",
      "18:32:49 INFO  Fuseki          :: [1] GET http://localhost:3030/pathbank_pc/query?query=%0APREFIX+rdf%3A+%3Chttp%3A//www.w3.org/1999/02/22-rdf-syntax-ns%23%3E%0APREFIX+rdfs%3A%3Chttp%3A//www.w3.org/2000/01/rdf-schema%23%3E%0APREFIX+owl%3A+%3Chttp%3A//www.w3.org/2002/07/owl%23%3E%0APREFIX+xsd%3A+%3Chttp%3A//www.w3.org/2001/XMLSchema%23%3E%0APREFIX+dc%3A+%3Chttp%3A//purl.org/dc/elements/1.1/%3E%0APREFIX+dcterms%3A+%3Chttp%3A//purl.org/dc/terms/%3E%0A%0APREFIX+chebi%3A+%3Chttp%3A//purl.obolibrary.org/obo/chebi/%3E%0APREFIX+chebidb%3A+%3Chttp%3A//purl.obolibrary.org/obo/CHEBI_%3E%0APREFIX+chebirel%3A+%3Chttp%3A//purl.obolibrary.org/obo/CHEBI%23%3E%0APREFIX+oboInOwl%3A+%3Chttp%3A//www.geneontology.org/formats/oboInOwl%23%3E%0A%0APREFIX+bp3%3A+%3Chttp%3A//www.biopax.org/release/biopax-level3.owl%23%3E%0A%0A%23+Homo_sapiens-20170221.owl%0A%23PREFIX+reactome%3A+%3Chttp%3A//www.reactome.org/biopax/59/48887%23%3E+%0A%23%0A%23+Homo_sapiens-20210608.owl%0A%23PREFIX+reactome%3A+%3Chttp%3A//www.reactome.org/biopax/77/48887%23%3E%0A%23%0A%23+Homo_sapiens-20220614.owl%0A%23PREFIX+reactome%3A+%3Chttp%3A//www.reactome.org/biopax/81/48887%23%3E%0A%23%0A%23+Homo_sapiens-20221130.owl%0A%23PREFIX+reactome%3A+%3Chttp%3A//www.reactome.org/biopax/83/48887%23%3E%0A%0APREFIX+reactome%3A+%3Chttp%3A//www.reactome.org/biopax/87/48887%23%3E%0A%0ASELECT+%3Fclass_of_interest+%28COUNT%28DISTINCT+%3Finstances%29+AS+%3Fnb_instances%29+%0AWHERE+%7B++%0A++%23+BioPAX+classe+for+which+we+want+to+count+the+number+of+instances%0A++VALUES+%3Fclass_of_interest+%7B+bp3%3ASmallMolecule+bp3%3AInteraction+bp3%3APathway+bp3%3APathwayStep+bp3%3ABiochemicalReaction+bp3%3AProtein+bp3%3ADna+bp3%3ARna+%7D%0A++OPTIONAL+%7B%0A++%3Finstances+rdf%3Atype/%28rdfs%3AsubClassOf%2A%29+%3Fclass_of_interest+.%0A++%7D%0A%7D%0AGROUP+BY+%3Fclass_of_interest%0A&format=json&output=json&results=json\n",
      "18:32:50 INFO  Fuseki          :: [1] Query =  PREFIX rdf: <http://www.w3.org/1999/02/22-rdf-syntax-ns#> PREFIX rdfs:<http://www.w3.org/2000/01/rdf-schema#> PREFIX owl: <http://www.w3.org/2002/07/owl#> PREFIX xsd: <http://www.w3.org/2001/XMLSchema#> PREFIX dc: <http://purl.org/dc/elements/1.1/> PREFIX dcterms: <http://purl.org/dc/terms/>  PREFIX chebi: <http://purl.obolibrary.org/obo/chebi/> PREFIX chebidb: <http://purl.obolibrary.org/obo/CHEBI_> PREFIX chebirel: <http://purl.obolibrary.org/obo/CHEBI#> PREFIX oboInOwl: <http://www.geneontology.org/formats/oboInOwl#>  PREFIX bp3: <http://www.biopax.org/release/biopax-level3.owl#>  # Homo_sapiens-20170221.owl #PREFIX reactome: <http://www.reactome.org/biopax/59/48887#>  # # Homo_sapiens-20210608.owl #PREFIX reactome: <http://www.reactome.org/biopax/77/48887#> # # Homo_sapiens-20220614.owl #PREFIX reactome: <http://www.reactome.org/biopax/81/48887#> # # Homo_sapiens-20221130.owl #PREFIX reactome: <http://www.reactome.org/biopax/83/48887#>  PREFIX reactome: <http://www.reactome.org/biopax/87/48887#>  SELECT ?class_of_interest (COUNT(DISTINCT ?instances) AS ?nb_instances)  WHERE {     # BioPAX classe for which we want to count the number of instances   VALUES ?class_of_interest { bp3:SmallMolecule bp3:Interaction bp3:Pathway bp3:PathwayStep bp3:BiochemicalReaction bp3:Protein bp3:Dna bp3:Rna }   OPTIONAL {   ?instances rdf:type/(rdfs:subClassOf*) ?class_of_interest .   } } GROUP BY ?class_of_interest \n",
      "18:32:51 INFO  Fuseki          :: [1] 200 OK (1.481 s)\n"
     ]
    },
    {
     "data": {
      "text/html": [
       "<table><tr><th>class_of_interest</th><th>nb_instances</th></tr><tr><td>http://www.biopax.org/release/biopax-level3.owl#BiochemicalReaction</td><td>2022</td></tr><tr><td>http://www.biopax.org/release/biopax-level3.owl#Pathway</td><td>1295</td></tr><tr><td>http://www.biopax.org/release/biopax-level3.owl#PathwayStep</td><td>0</td></tr><tr><td>http://www.biopax.org/release/biopax-level3.owl#SmallMolecule</td><td>3326</td></tr><tr><td>http://www.biopax.org/release/biopax-level3.owl#Rna</td><td>52</td></tr><tr><td>http://www.biopax.org/release/biopax-level3.owl#Interaction</td><td>5291</td></tr><tr><td>http://www.biopax.org/release/biopax-level3.owl#Protein</td><td>2471</td></tr><tr><td>http://www.biopax.org/release/biopax-level3.owl#Dna</td><td>9</td></tr></table>"
      ],
      "text/plain": [
       "<IPython.core.display.HTML object>"
      ]
     },
     "metadata": {},
     "output_type": "display_data"
    },
    {
     "name": "stderr",
     "output_type": "stream",
     "text": [
      "18:32:51 INFO  Fuseki          :: [2] GET http://localhost:3030/pathbank_pc/query?query=%0APREFIX+rdf%3A+%3Chttp%3A//www.w3.org/1999/02/22-rdf-syntax-ns%23%3E%0APREFIX+rdfs%3A%3Chttp%3A//www.w3.org/2000/01/rdf-schema%23%3E%0APREFIX+owl%3A+%3Chttp%3A//www.w3.org/2002/07/owl%23%3E%0APREFIX+xsd%3A+%3Chttp%3A//www.w3.org/2001/XMLSchema%23%3E%0APREFIX+dc%3A+%3Chttp%3A//purl.org/dc/elements/1.1/%3E%0APREFIX+dcterms%3A+%3Chttp%3A//purl.org/dc/terms/%3E%0A%0APREFIX+chebi%3A+%3Chttp%3A//purl.obolibrary.org/obo/chebi/%3E%0APREFIX+chebidb%3A+%3Chttp%3A//purl.obolibrary.org/obo/CHEBI_%3E%0APREFIX+chebirel%3A+%3Chttp%3A//purl.obolibrary.org/obo/CHEBI%23%3E%0APREFIX+oboInOwl%3A+%3Chttp%3A//www.geneontology.org/formats/oboInOwl%23%3E%0A%0APREFIX+bp3%3A+%3Chttp%3A//www.biopax.org/release/biopax-level3.owl%23%3E%0A%0A%23+Homo_sapiens-20170221.owl%0A%23PREFIX+reactome%3A+%3Chttp%3A//www.reactome.org/biopax/59/48887%23%3E+%0A%23%0A%23+Homo_sapiens-20210608.owl%0A%23PREFIX+reactome%3A+%3Chttp%3A//www.reactome.org/biopax/77/48887%23%3E%0A%23%0A%23+Homo_sapiens-20220614.owl%0A%23PREFIX+reactome%3A+%3Chttp%3A//www.reactome.org/biopax/81/48887%23%3E%0A%23%0A%23+Homo_sapiens-20221130.owl%0A%23PREFIX+reactome%3A+%3Chttp%3A//www.reactome.org/biopax/83/48887%23%3E%0A%0APREFIX+reactome%3A+%3Chttp%3A//www.reactome.org/biopax/87/48887%23%3E%0A%0ASELECT+%3Fclass_of_interest+%28COUNT%28DISTINCT+%3Finstances%29+AS+%3Fnb_instances%29+%0AWHERE+%7B++%0A++%23+BioPAX+classe+for+which+we+want+to+count+the+number+of+instances%0A++VALUES+%3Fclass_of_interest+%7B+bp3%3ASmallMolecule+bp3%3AInteraction+bp3%3APathway+bp3%3APathwayStep+bp3%3ABiochemicalReaction+bp3%3AProtein+bp3%3ADna+bp3%3ARna+%7D%0A++OPTIONAL+%7B%0A++%3Finstances+rdf%3Atype/%28rdfs%3AsubClassOf%2A%29+%3Fclass_of_interest+.%0A++%7D%0A%7D%0AGROUP+BY+%3Fclass_of_interest%0A&format=csv&output=csv&results=csv\n",
      "18:32:51 INFO  Fuseki          :: [2] Query =  PREFIX rdf: <http://www.w3.org/1999/02/22-rdf-syntax-ns#> PREFIX rdfs:<http://www.w3.org/2000/01/rdf-schema#> PREFIX owl: <http://www.w3.org/2002/07/owl#> PREFIX xsd: <http://www.w3.org/2001/XMLSchema#> PREFIX dc: <http://purl.org/dc/elements/1.1/> PREFIX dcterms: <http://purl.org/dc/terms/>  PREFIX chebi: <http://purl.obolibrary.org/obo/chebi/> PREFIX chebidb: <http://purl.obolibrary.org/obo/CHEBI_> PREFIX chebirel: <http://purl.obolibrary.org/obo/CHEBI#> PREFIX oboInOwl: <http://www.geneontology.org/formats/oboInOwl#>  PREFIX bp3: <http://www.biopax.org/release/biopax-level3.owl#>  # Homo_sapiens-20170221.owl #PREFIX reactome: <http://www.reactome.org/biopax/59/48887#>  # # Homo_sapiens-20210608.owl #PREFIX reactome: <http://www.reactome.org/biopax/77/48887#> # # Homo_sapiens-20220614.owl #PREFIX reactome: <http://www.reactome.org/biopax/81/48887#> # # Homo_sapiens-20221130.owl #PREFIX reactome: <http://www.reactome.org/biopax/83/48887#>  PREFIX reactome: <http://www.reactome.org/biopax/87/48887#>  SELECT ?class_of_interest (COUNT(DISTINCT ?instances) AS ?nb_instances)  WHERE {     # BioPAX classe for which we want to count the number of instances   VALUES ?class_of_interest { bp3:SmallMolecule bp3:Interaction bp3:Pathway bp3:PathwayStep bp3:BiochemicalReaction bp3:Protein bp3:Dna bp3:Rna }   OPTIONAL {   ?instances rdf:type/(rdfs:subClassOf*) ?class_of_interest .   } } GROUP BY ?class_of_interest \n",
      "18:32:52 INFO  Fuseki          :: [2] 200 OK (1.025 s)\n"
     ]
    }
   ],
   "source": [
    "# TODO: change path\n",
    "command = [\n",
    "    '/home/cbeust/Softwares/JenaFuseki/apache-jena-fuseki-4.9.0/fuseki-server',\n",
    "    '--file', '/home/cbeust/Projects/2024/BioPAX_Review/Compare_BioPAX_Files/PathwayCommonsFiles/PathwayCommons12.pathbank.BIOPAX.owl',\n",
    "    '--file', '/home/cbeust/Projects/2024/BioPAX_Review/BioPAX_Ontology/biopax-level3.owl',\n",
    "    '/pathbank_pc']\n",
    "process = subprocess.Popen(command)\n",
    "time.sleep(60)\n",
    "\n",
    "# execute SPARQL query\n",
    "sparql = SPARQLWrapper(endpointURL_pathbank_pc)\n",
    "sparql.setQuery(prefixes+query)\n",
    "\n",
    "# display results\n",
    "sparql.setReturnFormat(JSON)\n",
    "results = sparql.query().convert()\n",
    "displaySparqlResults(results)\n",
    "\n",
    "# export results to CSV\n",
    "sparql.setReturnFormat(CSV)\n",
    "results = sparql.query().convert()\n",
    "with open(\"../Results/pathbank_pc_counts_bp_classes.csv\", \"wb\") as f:\n",
    "    f.write(results)\n",
    "\n",
    "# end process\n",
    "process.kill()\n",
    "time.sleep(60)"
   ]
  },
  {
   "cell_type": "markdown",
   "metadata": {},
   "source": [
    "#### Query on BioPAX export of HumanCyc from PathwayCommons"
   ]
  },
  {
   "cell_type": "code",
   "execution_count": 10,
   "metadata": {},
   "outputs": [
    {
     "name": "stderr",
     "output_type": "stream",
     "text": [
      "18:33:53 INFO  Server          :: Dataset: in-memory: load file: /home/cbeust/Projects/2024/BioPAX_Review/Compare_BioPAX_Files/PathwayCommonsFiles/PathwayCommons12.humancyc.BIOPAX.owl\n",
      "18:33:54 WARN  riot            :: [line: 108021, col: 73] {W137} Input is large. Switching off checking for illegal reuse of rdf:ID's.\n",
      "18:33:57 INFO  Server          :: Dataset: in-memory: load file: /home/cbeust/Projects/2024/BioPAX_Review/BioPAX_Ontology/biopax-level3.owl\n",
      "18:33:57 INFO  Server          :: Running in read-only mode for /humancyc_pc\n",
      "18:33:57 INFO  Server          :: Apache Jena Fuseki 4.9.0\n",
      "18:33:57 INFO  Config          :: FUSEKI_HOME=/home/cbeust/Softwares/JenaFuseki/apache-jena-fuseki-4.9.0\n",
      "18:33:57 INFO  Config          :: FUSEKI_BASE=/home/cbeust/Projects/2024/BioPAX_Review/BioPAXReview2024Codes/Figure3/Scripts/run\n",
      "18:33:57 INFO  Config          :: Shiro file: file:///home/cbeust/Projects/2024/BioPAX_Review/BioPAXReview2024Codes/Figure3/Scripts/run/shiro.ini\n",
      "18:33:57 INFO  Server          :: Database: in-memory, with files loaded\n",
      "18:33:57 INFO  Server          :: Path = /humancyc_pc\n",
      "18:33:57 INFO  Server          ::   Memory: 16.0 GiB\n",
      "18:33:57 INFO  Server          ::   Java:   17.0.11\n",
      "18:33:57 INFO  Server          ::   OS:     Linux 6.8.9-100.fc38.x86_64 amd64\n",
      "18:33:57 INFO  Server          ::   PID:    63200\n",
      "18:33:57 INFO  Server          :: Started 2024/07/29 18:33:57 CEST on port 3030\n",
      "18:34:52 INFO  Fuseki          :: [1] GET http://localhost:3030/humancyc_pc/query?query=%0APREFIX+rdf%3A+%3Chttp%3A//www.w3.org/1999/02/22-rdf-syntax-ns%23%3E%0APREFIX+rdfs%3A%3Chttp%3A//www.w3.org/2000/01/rdf-schema%23%3E%0APREFIX+owl%3A+%3Chttp%3A//www.w3.org/2002/07/owl%23%3E%0APREFIX+xsd%3A+%3Chttp%3A//www.w3.org/2001/XMLSchema%23%3E%0APREFIX+dc%3A+%3Chttp%3A//purl.org/dc/elements/1.1/%3E%0APREFIX+dcterms%3A+%3Chttp%3A//purl.org/dc/terms/%3E%0A%0APREFIX+chebi%3A+%3Chttp%3A//purl.obolibrary.org/obo/chebi/%3E%0APREFIX+chebidb%3A+%3Chttp%3A//purl.obolibrary.org/obo/CHEBI_%3E%0APREFIX+chebirel%3A+%3Chttp%3A//purl.obolibrary.org/obo/CHEBI%23%3E%0APREFIX+oboInOwl%3A+%3Chttp%3A//www.geneontology.org/formats/oboInOwl%23%3E%0A%0APREFIX+bp3%3A+%3Chttp%3A//www.biopax.org/release/biopax-level3.owl%23%3E%0A%0A%23+Homo_sapiens-20170221.owl%0A%23PREFIX+reactome%3A+%3Chttp%3A//www.reactome.org/biopax/59/48887%23%3E+%0A%23%0A%23+Homo_sapiens-20210608.owl%0A%23PREFIX+reactome%3A+%3Chttp%3A//www.reactome.org/biopax/77/48887%23%3E%0A%23%0A%23+Homo_sapiens-20220614.owl%0A%23PREFIX+reactome%3A+%3Chttp%3A//www.reactome.org/biopax/81/48887%23%3E%0A%23%0A%23+Homo_sapiens-20221130.owl%0A%23PREFIX+reactome%3A+%3Chttp%3A//www.reactome.org/biopax/83/48887%23%3E%0A%0APREFIX+reactome%3A+%3Chttp%3A//www.reactome.org/biopax/87/48887%23%3E%0A%0ASELECT+%3Fclass_of_interest+%28COUNT%28DISTINCT+%3Finstances%29+AS+%3Fnb_instances%29+%0AWHERE+%7B++%0A++%23+BioPAX+classe+for+which+we+want+to+count+the+number+of+instances%0A++VALUES+%3Fclass_of_interest+%7B+bp3%3ASmallMolecule+bp3%3AInteraction+bp3%3APathway+bp3%3APathwayStep+bp3%3ABiochemicalReaction+bp3%3AProtein+bp3%3ADna+bp3%3ARna+%7D%0A++OPTIONAL+%7B%0A++%3Finstances+rdf%3Atype/%28rdfs%3AsubClassOf%2A%29+%3Fclass_of_interest+.%0A++%7D%0A%7D%0AGROUP+BY+%3Fclass_of_interest%0A&format=json&output=json&results=json\n",
      "18:34:52 INFO  Fuseki          :: [1] Query =  PREFIX rdf: <http://www.w3.org/1999/02/22-rdf-syntax-ns#> PREFIX rdfs:<http://www.w3.org/2000/01/rdf-schema#> PREFIX owl: <http://www.w3.org/2002/07/owl#> PREFIX xsd: <http://www.w3.org/2001/XMLSchema#> PREFIX dc: <http://purl.org/dc/elements/1.1/> PREFIX dcterms: <http://purl.org/dc/terms/>  PREFIX chebi: <http://purl.obolibrary.org/obo/chebi/> PREFIX chebidb: <http://purl.obolibrary.org/obo/CHEBI_> PREFIX chebirel: <http://purl.obolibrary.org/obo/CHEBI#> PREFIX oboInOwl: <http://www.geneontology.org/formats/oboInOwl#>  PREFIX bp3: <http://www.biopax.org/release/biopax-level3.owl#>  # Homo_sapiens-20170221.owl #PREFIX reactome: <http://www.reactome.org/biopax/59/48887#>  # # Homo_sapiens-20210608.owl #PREFIX reactome: <http://www.reactome.org/biopax/77/48887#> # # Homo_sapiens-20220614.owl #PREFIX reactome: <http://www.reactome.org/biopax/81/48887#> # # Homo_sapiens-20221130.owl #PREFIX reactome: <http://www.reactome.org/biopax/83/48887#>  PREFIX reactome: <http://www.reactome.org/biopax/87/48887#>  SELECT ?class_of_interest (COUNT(DISTINCT ?instances) AS ?nb_instances)  WHERE {     # BioPAX classe for which we want to count the number of instances   VALUES ?class_of_interest { bp3:SmallMolecule bp3:Interaction bp3:Pathway bp3:PathwayStep bp3:BiochemicalReaction bp3:Protein bp3:Dna bp3:Rna }   OPTIONAL {   ?instances rdf:type/(rdfs:subClassOf*) ?class_of_interest .   } } GROUP BY ?class_of_interest \n",
      "18:34:54 INFO  Fuseki          :: [1] 200 OK (1.994 s)\n"
     ]
    },
    {
     "data": {
      "text/html": [
       "<table><tr><th>class_of_interest</th><th>nb_instances</th></tr><tr><td>http://www.biopax.org/release/biopax-level3.owl#BiochemicalReaction</td><td>1805</td></tr><tr><td>http://www.biopax.org/release/biopax-level3.owl#Pathway</td><td>242</td></tr><tr><td>http://www.biopax.org/release/biopax-level3.owl#PathwayStep</td><td>1104</td></tr><tr><td>http://www.biopax.org/release/biopax-level3.owl#SmallMolecule</td><td>2174</td></tr><tr><td>http://www.biopax.org/release/biopax-level3.owl#Rna</td><td>51</td></tr><tr><td>http://www.biopax.org/release/biopax-level3.owl#Interaction</td><td>6706</td></tr><tr><td>http://www.biopax.org/release/biopax-level3.owl#Protein</td><td>2652</td></tr><tr><td>http://www.biopax.org/release/biopax-level3.owl#Dna</td><td>0</td></tr></table>"
      ],
      "text/plain": [
       "<IPython.core.display.HTML object>"
      ]
     },
     "metadata": {},
     "output_type": "display_data"
    },
    {
     "name": "stderr",
     "output_type": "stream",
     "text": [
      "18:34:54 INFO  Fuseki          :: [2] GET http://localhost:3030/humancyc_pc/query?query=%0APREFIX+rdf%3A+%3Chttp%3A//www.w3.org/1999/02/22-rdf-syntax-ns%23%3E%0APREFIX+rdfs%3A%3Chttp%3A//www.w3.org/2000/01/rdf-schema%23%3E%0APREFIX+owl%3A+%3Chttp%3A//www.w3.org/2002/07/owl%23%3E%0APREFIX+xsd%3A+%3Chttp%3A//www.w3.org/2001/XMLSchema%23%3E%0APREFIX+dc%3A+%3Chttp%3A//purl.org/dc/elements/1.1/%3E%0APREFIX+dcterms%3A+%3Chttp%3A//purl.org/dc/terms/%3E%0A%0APREFIX+chebi%3A+%3Chttp%3A//purl.obolibrary.org/obo/chebi/%3E%0APREFIX+chebidb%3A+%3Chttp%3A//purl.obolibrary.org/obo/CHEBI_%3E%0APREFIX+chebirel%3A+%3Chttp%3A//purl.obolibrary.org/obo/CHEBI%23%3E%0APREFIX+oboInOwl%3A+%3Chttp%3A//www.geneontology.org/formats/oboInOwl%23%3E%0A%0APREFIX+bp3%3A+%3Chttp%3A//www.biopax.org/release/biopax-level3.owl%23%3E%0A%0A%23+Homo_sapiens-20170221.owl%0A%23PREFIX+reactome%3A+%3Chttp%3A//www.reactome.org/biopax/59/48887%23%3E+%0A%23%0A%23+Homo_sapiens-20210608.owl%0A%23PREFIX+reactome%3A+%3Chttp%3A//www.reactome.org/biopax/77/48887%23%3E%0A%23%0A%23+Homo_sapiens-20220614.owl%0A%23PREFIX+reactome%3A+%3Chttp%3A//www.reactome.org/biopax/81/48887%23%3E%0A%23%0A%23+Homo_sapiens-20221130.owl%0A%23PREFIX+reactome%3A+%3Chttp%3A//www.reactome.org/biopax/83/48887%23%3E%0A%0APREFIX+reactome%3A+%3Chttp%3A//www.reactome.org/biopax/87/48887%23%3E%0A%0ASELECT+%3Fclass_of_interest+%28COUNT%28DISTINCT+%3Finstances%29+AS+%3Fnb_instances%29+%0AWHERE+%7B++%0A++%23+BioPAX+classe+for+which+we+want+to+count+the+number+of+instances%0A++VALUES+%3Fclass_of_interest+%7B+bp3%3ASmallMolecule+bp3%3AInteraction+bp3%3APathway+bp3%3APathwayStep+bp3%3ABiochemicalReaction+bp3%3AProtein+bp3%3ADna+bp3%3ARna+%7D%0A++OPTIONAL+%7B%0A++%3Finstances+rdf%3Atype/%28rdfs%3AsubClassOf%2A%29+%3Fclass_of_interest+.%0A++%7D%0A%7D%0AGROUP+BY+%3Fclass_of_interest%0A&format=csv&output=csv&results=csv\n",
      "18:34:54 INFO  Fuseki          :: [2] Query =  PREFIX rdf: <http://www.w3.org/1999/02/22-rdf-syntax-ns#> PREFIX rdfs:<http://www.w3.org/2000/01/rdf-schema#> PREFIX owl: <http://www.w3.org/2002/07/owl#> PREFIX xsd: <http://www.w3.org/2001/XMLSchema#> PREFIX dc: <http://purl.org/dc/elements/1.1/> PREFIX dcterms: <http://purl.org/dc/terms/>  PREFIX chebi: <http://purl.obolibrary.org/obo/chebi/> PREFIX chebidb: <http://purl.obolibrary.org/obo/CHEBI_> PREFIX chebirel: <http://purl.obolibrary.org/obo/CHEBI#> PREFIX oboInOwl: <http://www.geneontology.org/formats/oboInOwl#>  PREFIX bp3: <http://www.biopax.org/release/biopax-level3.owl#>  # Homo_sapiens-20170221.owl #PREFIX reactome: <http://www.reactome.org/biopax/59/48887#>  # # Homo_sapiens-20210608.owl #PREFIX reactome: <http://www.reactome.org/biopax/77/48887#> # # Homo_sapiens-20220614.owl #PREFIX reactome: <http://www.reactome.org/biopax/81/48887#> # # Homo_sapiens-20221130.owl #PREFIX reactome: <http://www.reactome.org/biopax/83/48887#>  PREFIX reactome: <http://www.reactome.org/biopax/87/48887#>  SELECT ?class_of_interest (COUNT(DISTINCT ?instances) AS ?nb_instances)  WHERE {     # BioPAX classe for which we want to count the number of instances   VALUES ?class_of_interest { bp3:SmallMolecule bp3:Interaction bp3:Pathway bp3:PathwayStep bp3:BiochemicalReaction bp3:Protein bp3:Dna bp3:Rna }   OPTIONAL {   ?instances rdf:type/(rdfs:subClassOf*) ?class_of_interest .   } } GROUP BY ?class_of_interest \n",
      "18:34:55 INFO  Fuseki          :: [2] 200 OK (1.349 s)\n"
     ]
    }
   ],
   "source": [
    "# TODO: change path\n",
    "command = [\n",
    "    '/home/cbeust/Softwares/JenaFuseki/apache-jena-fuseki-4.9.0/fuseki-server',\n",
    "    '--file', '/home/cbeust/Projects/2024/BioPAX_Review/Compare_BioPAX_Files/PathwayCommonsFiles/PathwayCommons12.humancyc.BIOPAX.owl',\n",
    "    '--file', '/home/cbeust/Projects/2024/BioPAX_Review/BioPAX_Ontology/biopax-level3.owl',\n",
    "    '/humancyc_pc']\n",
    "process = subprocess.Popen(command)\n",
    "time.sleep(60)\n",
    "\n",
    "# execute SPARQL query\n",
    "sparql = SPARQLWrapper(endpointURL_humancyc_pc)\n",
    "sparql.setQuery(prefixes+query)\n",
    "\n",
    "# display results\n",
    "sparql.setReturnFormat(JSON)\n",
    "results = sparql.query().convert()\n",
    "displaySparqlResults(results)\n",
    "\n",
    "# export results to CSV\n",
    "sparql.setReturnFormat(CSV)\n",
    "results = sparql.query().convert()\n",
    "with open(\"../Results/humancyc_pc_counts_bp_classes.csv\", \"wb\") as f:\n",
    "    f.write(results)\n",
    "\n",
    "# end process\n",
    "process.kill()\n",
    "time.sleep(60)"
   ]
  },
  {
   "cell_type": "markdown",
   "metadata": {},
   "source": [
    "#### Query on BioPAX export of KEGG from PathwayCommons"
   ]
  },
  {
   "cell_type": "code",
   "execution_count": 11,
   "metadata": {},
   "outputs": [
    {
     "name": "stderr",
     "output_type": "stream",
     "text": [
      "18:35:56 INFO  Server          :: Dataset: in-memory: load file: /home/cbeust/Projects/2024/BioPAX_Review/Compare_BioPAX_Files/PathwayCommonsFiles/PathwayCommons12.kegg.BIOPAX.owl\n",
      "18:35:57 WARN  riot            :: [line: 96269, col: 75] {W137} Input is large. Switching off checking for illegal reuse of rdf:ID's.\n",
      "18:35:59 INFO  Server          :: Dataset: in-memory: load file: /home/cbeust/Projects/2024/BioPAX_Review/BioPAX_Ontology/biopax-level3.owl\n",
      "18:35:59 INFO  Server          :: Running in read-only mode for /kegg_pc\n",
      "18:35:59 INFO  Server          :: Apache Jena Fuseki 4.9.0\n",
      "18:35:59 INFO  Config          :: FUSEKI_HOME=/home/cbeust/Softwares/JenaFuseki/apache-jena-fuseki-4.9.0\n",
      "18:35:59 INFO  Config          :: FUSEKI_BASE=/home/cbeust/Projects/2024/BioPAX_Review/BioPAXReview2024Codes/Figure3/Scripts/run\n",
      "18:35:59 INFO  Config          :: Shiro file: file:///home/cbeust/Projects/2024/BioPAX_Review/BioPAXReview2024Codes/Figure3/Scripts/run/shiro.ini\n",
      "18:35:59 INFO  Server          :: Database: in-memory, with files loaded\n",
      "18:35:59 INFO  Server          :: Path = /kegg_pc\n",
      "18:35:59 INFO  Server          ::   Memory: 16.0 GiB\n",
      "18:35:59 INFO  Server          ::   Java:   17.0.11\n",
      "18:35:59 INFO  Server          ::   OS:     Linux 6.8.9-100.fc38.x86_64 amd64\n",
      "18:35:59 INFO  Server          ::   PID:    63563\n",
      "18:35:59 INFO  Server          :: Started 2024/07/29 18:35:59 CEST on port 3030\n",
      "18:36:56 INFO  Fuseki          :: [1] GET http://localhost:3030/kegg_pc/query?query=%0APREFIX+rdf%3A+%3Chttp%3A//www.w3.org/1999/02/22-rdf-syntax-ns%23%3E%0APREFIX+rdfs%3A%3Chttp%3A//www.w3.org/2000/01/rdf-schema%23%3E%0APREFIX+owl%3A+%3Chttp%3A//www.w3.org/2002/07/owl%23%3E%0APREFIX+xsd%3A+%3Chttp%3A//www.w3.org/2001/XMLSchema%23%3E%0APREFIX+dc%3A+%3Chttp%3A//purl.org/dc/elements/1.1/%3E%0APREFIX+dcterms%3A+%3Chttp%3A//purl.org/dc/terms/%3E%0A%0APREFIX+chebi%3A+%3Chttp%3A//purl.obolibrary.org/obo/chebi/%3E%0APREFIX+chebidb%3A+%3Chttp%3A//purl.obolibrary.org/obo/CHEBI_%3E%0APREFIX+chebirel%3A+%3Chttp%3A//purl.obolibrary.org/obo/CHEBI%23%3E%0APREFIX+oboInOwl%3A+%3Chttp%3A//www.geneontology.org/formats/oboInOwl%23%3E%0A%0APREFIX+bp3%3A+%3Chttp%3A//www.biopax.org/release/biopax-level3.owl%23%3E%0A%0A%23+Homo_sapiens-20170221.owl%0A%23PREFIX+reactome%3A+%3Chttp%3A//www.reactome.org/biopax/59/48887%23%3E+%0A%23%0A%23+Homo_sapiens-20210608.owl%0A%23PREFIX+reactome%3A+%3Chttp%3A//www.reactome.org/biopax/77/48887%23%3E%0A%23%0A%23+Homo_sapiens-20220614.owl%0A%23PREFIX+reactome%3A+%3Chttp%3A//www.reactome.org/biopax/81/48887%23%3E%0A%23%0A%23+Homo_sapiens-20221130.owl%0A%23PREFIX+reactome%3A+%3Chttp%3A//www.reactome.org/biopax/83/48887%23%3E%0A%0APREFIX+reactome%3A+%3Chttp%3A//www.reactome.org/biopax/87/48887%23%3E%0A%0ASELECT+%3Fclass_of_interest+%28COUNT%28DISTINCT+%3Finstances%29+AS+%3Fnb_instances%29+%0AWHERE+%7B++%0A++%23+BioPAX+classe+for+which+we+want+to+count+the+number+of+instances%0A++VALUES+%3Fclass_of_interest+%7B+bp3%3ASmallMolecule+bp3%3AInteraction+bp3%3APathway+bp3%3APathwayStep+bp3%3ABiochemicalReaction+bp3%3AProtein+bp3%3ADna+bp3%3ARna+%7D%0A++OPTIONAL+%7B%0A++%3Finstances+rdf%3Atype/%28rdfs%3AsubClassOf%2A%29+%3Fclass_of_interest+.%0A++%7D%0A%7D%0AGROUP+BY+%3Fclass_of_interest%0A&format=json&output=json&results=json\n",
      "18:36:56 INFO  Fuseki          :: [1] Query =  PREFIX rdf: <http://www.w3.org/1999/02/22-rdf-syntax-ns#> PREFIX rdfs:<http://www.w3.org/2000/01/rdf-schema#> PREFIX owl: <http://www.w3.org/2002/07/owl#> PREFIX xsd: <http://www.w3.org/2001/XMLSchema#> PREFIX dc: <http://purl.org/dc/elements/1.1/> PREFIX dcterms: <http://purl.org/dc/terms/>  PREFIX chebi: <http://purl.obolibrary.org/obo/chebi/> PREFIX chebidb: <http://purl.obolibrary.org/obo/CHEBI_> PREFIX chebirel: <http://purl.obolibrary.org/obo/CHEBI#> PREFIX oboInOwl: <http://www.geneontology.org/formats/oboInOwl#>  PREFIX bp3: <http://www.biopax.org/release/biopax-level3.owl#>  # Homo_sapiens-20170221.owl #PREFIX reactome: <http://www.reactome.org/biopax/59/48887#>  # # Homo_sapiens-20210608.owl #PREFIX reactome: <http://www.reactome.org/biopax/77/48887#> # # Homo_sapiens-20220614.owl #PREFIX reactome: <http://www.reactome.org/biopax/81/48887#> # # Homo_sapiens-20221130.owl #PREFIX reactome: <http://www.reactome.org/biopax/83/48887#>  PREFIX reactome: <http://www.reactome.org/biopax/87/48887#>  SELECT ?class_of_interest (COUNT(DISTINCT ?instances) AS ?nb_instances)  WHERE {     # BioPAX classe for which we want to count the number of instances   VALUES ?class_of_interest { bp3:SmallMolecule bp3:Interaction bp3:Pathway bp3:PathwayStep bp3:BiochemicalReaction bp3:Protein bp3:Dna bp3:Rna }   OPTIONAL {   ?instances rdf:type/(rdfs:subClassOf*) ?class_of_interest .   } } GROUP BY ?class_of_interest \n",
      "18:36:57 INFO  Fuseki          :: [1] 200 OK (1.663 s)\n"
     ]
    },
    {
     "data": {
      "text/html": [
       "<table><tr><th>class_of_interest</th><th>nb_instances</th></tr><tr><td>http://www.biopax.org/release/biopax-level3.owl#BiochemicalReaction</td><td>1782</td></tr><tr><td>http://www.biopax.org/release/biopax-level3.owl#Pathway</td><td>122</td></tr><tr><td>http://www.biopax.org/release/biopax-level3.owl#PathwayStep</td><td>0</td></tr><tr><td>http://www.biopax.org/release/biopax-level3.owl#SmallMolecule</td><td>1664</td></tr><tr><td>http://www.biopax.org/release/biopax-level3.owl#Rna</td><td>0</td></tr><tr><td>http://www.biopax.org/release/biopax-level3.owl#Interaction</td><td>3568</td></tr><tr><td>http://www.biopax.org/release/biopax-level3.owl#Protein</td><td>1872</td></tr><tr><td>http://www.biopax.org/release/biopax-level3.owl#Dna</td><td>0</td></tr></table>"
      ],
      "text/plain": [
       "<IPython.core.display.HTML object>"
      ]
     },
     "metadata": {},
     "output_type": "display_data"
    },
    {
     "name": "stderr",
     "output_type": "stream",
     "text": [
      "18:36:57 INFO  Fuseki          :: [2] GET http://localhost:3030/kegg_pc/query?query=%0APREFIX+rdf%3A+%3Chttp%3A//www.w3.org/1999/02/22-rdf-syntax-ns%23%3E%0APREFIX+rdfs%3A%3Chttp%3A//www.w3.org/2000/01/rdf-schema%23%3E%0APREFIX+owl%3A+%3Chttp%3A//www.w3.org/2002/07/owl%23%3E%0APREFIX+xsd%3A+%3Chttp%3A//www.w3.org/2001/XMLSchema%23%3E%0APREFIX+dc%3A+%3Chttp%3A//purl.org/dc/elements/1.1/%3E%0APREFIX+dcterms%3A+%3Chttp%3A//purl.org/dc/terms/%3E%0A%0APREFIX+chebi%3A+%3Chttp%3A//purl.obolibrary.org/obo/chebi/%3E%0APREFIX+chebidb%3A+%3Chttp%3A//purl.obolibrary.org/obo/CHEBI_%3E%0APREFIX+chebirel%3A+%3Chttp%3A//purl.obolibrary.org/obo/CHEBI%23%3E%0APREFIX+oboInOwl%3A+%3Chttp%3A//www.geneontology.org/formats/oboInOwl%23%3E%0A%0APREFIX+bp3%3A+%3Chttp%3A//www.biopax.org/release/biopax-level3.owl%23%3E%0A%0A%23+Homo_sapiens-20170221.owl%0A%23PREFIX+reactome%3A+%3Chttp%3A//www.reactome.org/biopax/59/48887%23%3E+%0A%23%0A%23+Homo_sapiens-20210608.owl%0A%23PREFIX+reactome%3A+%3Chttp%3A//www.reactome.org/biopax/77/48887%23%3E%0A%23%0A%23+Homo_sapiens-20220614.owl%0A%23PREFIX+reactome%3A+%3Chttp%3A//www.reactome.org/biopax/81/48887%23%3E%0A%23%0A%23+Homo_sapiens-20221130.owl%0A%23PREFIX+reactome%3A+%3Chttp%3A//www.reactome.org/biopax/83/48887%23%3E%0A%0APREFIX+reactome%3A+%3Chttp%3A//www.reactome.org/biopax/87/48887%23%3E%0A%0ASELECT+%3Fclass_of_interest+%28COUNT%28DISTINCT+%3Finstances%29+AS+%3Fnb_instances%29+%0AWHERE+%7B++%0A++%23+BioPAX+classe+for+which+we+want+to+count+the+number+of+instances%0A++VALUES+%3Fclass_of_interest+%7B+bp3%3ASmallMolecule+bp3%3AInteraction+bp3%3APathway+bp3%3APathwayStep+bp3%3ABiochemicalReaction+bp3%3AProtein+bp3%3ADna+bp3%3ARna+%7D%0A++OPTIONAL+%7B%0A++%3Finstances+rdf%3Atype/%28rdfs%3AsubClassOf%2A%29+%3Fclass_of_interest+.%0A++%7D%0A%7D%0AGROUP+BY+%3Fclass_of_interest%0A&format=csv&output=csv&results=csv\n",
      "18:36:57 INFO  Fuseki          :: [2] Query =  PREFIX rdf: <http://www.w3.org/1999/02/22-rdf-syntax-ns#> PREFIX rdfs:<http://www.w3.org/2000/01/rdf-schema#> PREFIX owl: <http://www.w3.org/2002/07/owl#> PREFIX xsd: <http://www.w3.org/2001/XMLSchema#> PREFIX dc: <http://purl.org/dc/elements/1.1/> PREFIX dcterms: <http://purl.org/dc/terms/>  PREFIX chebi: <http://purl.obolibrary.org/obo/chebi/> PREFIX chebidb: <http://purl.obolibrary.org/obo/CHEBI_> PREFIX chebirel: <http://purl.obolibrary.org/obo/CHEBI#> PREFIX oboInOwl: <http://www.geneontology.org/formats/oboInOwl#>  PREFIX bp3: <http://www.biopax.org/release/biopax-level3.owl#>  # Homo_sapiens-20170221.owl #PREFIX reactome: <http://www.reactome.org/biopax/59/48887#>  # # Homo_sapiens-20210608.owl #PREFIX reactome: <http://www.reactome.org/biopax/77/48887#> # # Homo_sapiens-20220614.owl #PREFIX reactome: <http://www.reactome.org/biopax/81/48887#> # # Homo_sapiens-20221130.owl #PREFIX reactome: <http://www.reactome.org/biopax/83/48887#>  PREFIX reactome: <http://www.reactome.org/biopax/87/48887#>  SELECT ?class_of_interest (COUNT(DISTINCT ?instances) AS ?nb_instances)  WHERE {     # BioPAX classe for which we want to count the number of instances   VALUES ?class_of_interest { bp3:SmallMolecule bp3:Interaction bp3:Pathway bp3:PathwayStep bp3:BiochemicalReaction bp3:Protein bp3:Dna bp3:Rna }   OPTIONAL {   ?instances rdf:type/(rdfs:subClassOf*) ?class_of_interest .   } } GROUP BY ?class_of_interest \n",
      "18:36:58 INFO  Fuseki          :: [2] 200 OK (826 ms)\n"
     ]
    }
   ],
   "source": [
    "# TODO: change path\n",
    "command = [\n",
    "    '/home/cbeust/Softwares/JenaFuseki/apache-jena-fuseki-4.9.0/fuseki-server',\n",
    "    '--file', '/home/cbeust/Projects/2024/BioPAX_Review/Compare_BioPAX_Files/PathwayCommonsFiles/PathwayCommons12.kegg.BIOPAX.owl',\n",
    "    '--file', '/home/cbeust/Projects/2024/BioPAX_Review/BioPAX_Ontology/biopax-level3.owl',\n",
    "    '/kegg_pc']\n",
    "process = subprocess.Popen(command)\n",
    "time.sleep(60)\n",
    "# execute SPARQL query\n",
    "sparql = SPARQLWrapper(endpointURL_kegg_pc)\n",
    "sparql.setQuery(prefixes+query)\n",
    "\n",
    "# display results\n",
    "sparql.setReturnFormat(JSON)\n",
    "results = sparql.query().convert()\n",
    "displaySparqlResults(results)\n",
    "\n",
    "# export results to CSV\n",
    "sparql.setReturnFormat(CSV)\n",
    "results = sparql.query().convert()\n",
    "with open(\"../Results/kegg_pc_counts_bp_classes.csv\", \"wb\") as f:\n",
    "    f.write(results)\n",
    "\n",
    "# end process\n",
    "process.kill()\n",
    "time.sleep(60)"
   ]
  },
  {
   "cell_type": "markdown",
   "metadata": {},
   "source": [
    "#### Query on BioPAX export of PID from PathwayCommons"
   ]
  },
  {
   "cell_type": "code",
   "execution_count": 12,
   "metadata": {},
   "outputs": [
    {
     "name": "stderr",
     "output_type": "stream",
     "text": [
      "18:37:59 INFO  Server          :: Dataset: in-memory: load file: /home/cbeust/Projects/2024/BioPAX_Review/Compare_BioPAX_Files/PathwayCommonsFiles/PathwayCommons12.pid.BIOPAX.owl\n",
      "18:38:00 WARN  riot            :: [line: 77671, col: 87] {W137} Input is large. Switching off checking for illegal reuse of rdf:ID's.\n",
      "18:38:04 INFO  Server          :: Dataset: in-memory: load file: /home/cbeust/Projects/2024/BioPAX_Review/BioPAX_Ontology/biopax-level3.owl\n",
      "18:38:04 INFO  Server          :: Running in read-only mode for /pid_pc\n",
      "18:38:04 INFO  Server          :: Apache Jena Fuseki 4.9.0\n",
      "18:38:04 INFO  Config          :: FUSEKI_HOME=/home/cbeust/Softwares/JenaFuseki/apache-jena-fuseki-4.9.0\n",
      "18:38:04 INFO  Config          :: FUSEKI_BASE=/home/cbeust/Projects/2024/BioPAX_Review/BioPAXReview2024Codes/Figure3/Scripts/run\n",
      "18:38:04 INFO  Config          :: Shiro file: file:///home/cbeust/Projects/2024/BioPAX_Review/BioPAXReview2024Codes/Figure3/Scripts/run/shiro.ini\n",
      "18:38:04 INFO  Server          :: Database: in-memory, with files loaded\n",
      "18:38:04 INFO  Server          :: Path = /pid_pc\n",
      "18:38:04 INFO  Server          ::   Memory: 16.0 GiB\n",
      "18:38:04 INFO  Server          ::   Java:   17.0.11\n",
      "18:38:04 INFO  Server          ::   OS:     Linux 6.8.9-100.fc38.x86_64 amd64\n",
      "18:38:04 INFO  Server          ::   PID:    63945\n",
      "18:38:04 INFO  Server          :: Started 2024/07/29 18:38:04 CEST on port 3030\n",
      "18:38:58 INFO  Fuseki          :: [1] GET http://localhost:3030/pid_pc/query?query=%0APREFIX+rdf%3A+%3Chttp%3A//www.w3.org/1999/02/22-rdf-syntax-ns%23%3E%0APREFIX+rdfs%3A%3Chttp%3A//www.w3.org/2000/01/rdf-schema%23%3E%0APREFIX+owl%3A+%3Chttp%3A//www.w3.org/2002/07/owl%23%3E%0APREFIX+xsd%3A+%3Chttp%3A//www.w3.org/2001/XMLSchema%23%3E%0APREFIX+dc%3A+%3Chttp%3A//purl.org/dc/elements/1.1/%3E%0APREFIX+dcterms%3A+%3Chttp%3A//purl.org/dc/terms/%3E%0A%0APREFIX+chebi%3A+%3Chttp%3A//purl.obolibrary.org/obo/chebi/%3E%0APREFIX+chebidb%3A+%3Chttp%3A//purl.obolibrary.org/obo/CHEBI_%3E%0APREFIX+chebirel%3A+%3Chttp%3A//purl.obolibrary.org/obo/CHEBI%23%3E%0APREFIX+oboInOwl%3A+%3Chttp%3A//www.geneontology.org/formats/oboInOwl%23%3E%0A%0APREFIX+bp3%3A+%3Chttp%3A//www.biopax.org/release/biopax-level3.owl%23%3E%0A%0A%23+Homo_sapiens-20170221.owl%0A%23PREFIX+reactome%3A+%3Chttp%3A//www.reactome.org/biopax/59/48887%23%3E+%0A%23%0A%23+Homo_sapiens-20210608.owl%0A%23PREFIX+reactome%3A+%3Chttp%3A//www.reactome.org/biopax/77/48887%23%3E%0A%23%0A%23+Homo_sapiens-20220614.owl%0A%23PREFIX+reactome%3A+%3Chttp%3A//www.reactome.org/biopax/81/48887%23%3E%0A%23%0A%23+Homo_sapiens-20221130.owl%0A%23PREFIX+reactome%3A+%3Chttp%3A//www.reactome.org/biopax/83/48887%23%3E%0A%0APREFIX+reactome%3A+%3Chttp%3A//www.reactome.org/biopax/87/48887%23%3E%0A%0ASELECT+%3Fclass_of_interest+%28COUNT%28DISTINCT+%3Finstances%29+AS+%3Fnb_instances%29+%0AWHERE+%7B++%0A++%23+BioPAX+classe+for+which+we+want+to+count+the+number+of+instances%0A++VALUES+%3Fclass_of_interest+%7B+bp3%3ASmallMolecule+bp3%3AInteraction+bp3%3APathway+bp3%3APathwayStep+bp3%3ABiochemicalReaction+bp3%3AProtein+bp3%3ADna+bp3%3ARna+%7D%0A++OPTIONAL+%7B%0A++%3Finstances+rdf%3Atype/%28rdfs%3AsubClassOf%2A%29+%3Fclass_of_interest+.%0A++%7D%0A%7D%0AGROUP+BY+%3Fclass_of_interest%0A&format=json&output=json&results=json\n",
      "18:38:58 INFO  Fuseki          :: [1] Query =  PREFIX rdf: <http://www.w3.org/1999/02/22-rdf-syntax-ns#> PREFIX rdfs:<http://www.w3.org/2000/01/rdf-schema#> PREFIX owl: <http://www.w3.org/2002/07/owl#> PREFIX xsd: <http://www.w3.org/2001/XMLSchema#> PREFIX dc: <http://purl.org/dc/elements/1.1/> PREFIX dcterms: <http://purl.org/dc/terms/>  PREFIX chebi: <http://purl.obolibrary.org/obo/chebi/> PREFIX chebidb: <http://purl.obolibrary.org/obo/CHEBI_> PREFIX chebirel: <http://purl.obolibrary.org/obo/CHEBI#> PREFIX oboInOwl: <http://www.geneontology.org/formats/oboInOwl#>  PREFIX bp3: <http://www.biopax.org/release/biopax-level3.owl#>  # Homo_sapiens-20170221.owl #PREFIX reactome: <http://www.reactome.org/biopax/59/48887#>  # # Homo_sapiens-20210608.owl #PREFIX reactome: <http://www.reactome.org/biopax/77/48887#> # # Homo_sapiens-20220614.owl #PREFIX reactome: <http://www.reactome.org/biopax/81/48887#> # # Homo_sapiens-20221130.owl #PREFIX reactome: <http://www.reactome.org/biopax/83/48887#>  PREFIX reactome: <http://www.reactome.org/biopax/87/48887#>  SELECT ?class_of_interest (COUNT(DISTINCT ?instances) AS ?nb_instances)  WHERE {     # BioPAX classe for which we want to count the number of instances   VALUES ?class_of_interest { bp3:SmallMolecule bp3:Interaction bp3:Pathway bp3:PathwayStep bp3:BiochemicalReaction bp3:Protein bp3:Dna bp3:Rna }   OPTIONAL {   ?instances rdf:type/(rdfs:subClassOf*) ?class_of_interest .   } } GROUP BY ?class_of_interest \n",
      "18:39:01 INFO  Fuseki          :: [1] 200 OK (3.003 s)\n"
     ]
    },
    {
     "data": {
      "text/html": [
       "<table><tr><th>class_of_interest</th><th>nb_instances</th></tr><tr><td>http://www.biopax.org/release/biopax-level3.owl#BiochemicalReaction</td><td>3065</td></tr><tr><td>http://www.biopax.org/release/biopax-level3.owl#Pathway</td><td>745</td></tr><tr><td>http://www.biopax.org/release/biopax-level3.owl#PathwayStep</td><td>0</td></tr><tr><td>http://www.biopax.org/release/biopax-level3.owl#SmallMolecule</td><td>188</td></tr><tr><td>http://www.biopax.org/release/biopax-level3.owl#Rna</td><td>22</td></tr><tr><td>http://www.biopax.org/release/biopax-level3.owl#Interaction</td><td>16017</td></tr><tr><td>http://www.biopax.org/release/biopax-level3.owl#Protein</td><td>6584</td></tr><tr><td>http://www.biopax.org/release/biopax-level3.owl#Dna</td><td>0</td></tr></table>"
      ],
      "text/plain": [
       "<IPython.core.display.HTML object>"
      ]
     },
     "metadata": {},
     "output_type": "display_data"
    },
    {
     "name": "stderr",
     "output_type": "stream",
     "text": [
      "18:39:01 INFO  Fuseki          :: [2] GET http://localhost:3030/pid_pc/query?query=%0APREFIX+rdf%3A+%3Chttp%3A//www.w3.org/1999/02/22-rdf-syntax-ns%23%3E%0APREFIX+rdfs%3A%3Chttp%3A//www.w3.org/2000/01/rdf-schema%23%3E%0APREFIX+owl%3A+%3Chttp%3A//www.w3.org/2002/07/owl%23%3E%0APREFIX+xsd%3A+%3Chttp%3A//www.w3.org/2001/XMLSchema%23%3E%0APREFIX+dc%3A+%3Chttp%3A//purl.org/dc/elements/1.1/%3E%0APREFIX+dcterms%3A+%3Chttp%3A//purl.org/dc/terms/%3E%0A%0APREFIX+chebi%3A+%3Chttp%3A//purl.obolibrary.org/obo/chebi/%3E%0APREFIX+chebidb%3A+%3Chttp%3A//purl.obolibrary.org/obo/CHEBI_%3E%0APREFIX+chebirel%3A+%3Chttp%3A//purl.obolibrary.org/obo/CHEBI%23%3E%0APREFIX+oboInOwl%3A+%3Chttp%3A//www.geneontology.org/formats/oboInOwl%23%3E%0A%0APREFIX+bp3%3A+%3Chttp%3A//www.biopax.org/release/biopax-level3.owl%23%3E%0A%0A%23+Homo_sapiens-20170221.owl%0A%23PREFIX+reactome%3A+%3Chttp%3A//www.reactome.org/biopax/59/48887%23%3E+%0A%23%0A%23+Homo_sapiens-20210608.owl%0A%23PREFIX+reactome%3A+%3Chttp%3A//www.reactome.org/biopax/77/48887%23%3E%0A%23%0A%23+Homo_sapiens-20220614.owl%0A%23PREFIX+reactome%3A+%3Chttp%3A//www.reactome.org/biopax/81/48887%23%3E%0A%23%0A%23+Homo_sapiens-20221130.owl%0A%23PREFIX+reactome%3A+%3Chttp%3A//www.reactome.org/biopax/83/48887%23%3E%0A%0APREFIX+reactome%3A+%3Chttp%3A//www.reactome.org/biopax/87/48887%23%3E%0A%0ASELECT+%3Fclass_of_interest+%28COUNT%28DISTINCT+%3Finstances%29+AS+%3Fnb_instances%29+%0AWHERE+%7B++%0A++%23+BioPAX+classe+for+which+we+want+to+count+the+number+of+instances%0A++VALUES+%3Fclass_of_interest+%7B+bp3%3ASmallMolecule+bp3%3AInteraction+bp3%3APathway+bp3%3APathwayStep+bp3%3ABiochemicalReaction+bp3%3AProtein+bp3%3ADna+bp3%3ARna+%7D%0A++OPTIONAL+%7B%0A++%3Finstances+rdf%3Atype/%28rdfs%3AsubClassOf%2A%29+%3Fclass_of_interest+.%0A++%7D%0A%7D%0AGROUP+BY+%3Fclass_of_interest%0A&format=csv&output=csv&results=csv\n",
      "18:39:01 INFO  Fuseki          :: [2] Query =  PREFIX rdf: <http://www.w3.org/1999/02/22-rdf-syntax-ns#> PREFIX rdfs:<http://www.w3.org/2000/01/rdf-schema#> PREFIX owl: <http://www.w3.org/2002/07/owl#> PREFIX xsd: <http://www.w3.org/2001/XMLSchema#> PREFIX dc: <http://purl.org/dc/elements/1.1/> PREFIX dcterms: <http://purl.org/dc/terms/>  PREFIX chebi: <http://purl.obolibrary.org/obo/chebi/> PREFIX chebidb: <http://purl.obolibrary.org/obo/CHEBI_> PREFIX chebirel: <http://purl.obolibrary.org/obo/CHEBI#> PREFIX oboInOwl: <http://www.geneontology.org/formats/oboInOwl#>  PREFIX bp3: <http://www.biopax.org/release/biopax-level3.owl#>  # Homo_sapiens-20170221.owl #PREFIX reactome: <http://www.reactome.org/biopax/59/48887#>  # # Homo_sapiens-20210608.owl #PREFIX reactome: <http://www.reactome.org/biopax/77/48887#> # # Homo_sapiens-20220614.owl #PREFIX reactome: <http://www.reactome.org/biopax/81/48887#> # # Homo_sapiens-20221130.owl #PREFIX reactome: <http://www.reactome.org/biopax/83/48887#>  PREFIX reactome: <http://www.reactome.org/biopax/87/48887#>  SELECT ?class_of_interest (COUNT(DISTINCT ?instances) AS ?nb_instances)  WHERE {     # BioPAX classe for which we want to count the number of instances   VALUES ?class_of_interest { bp3:SmallMolecule bp3:Interaction bp3:Pathway bp3:PathwayStep bp3:BiochemicalReaction bp3:Protein bp3:Dna bp3:Rna }   OPTIONAL {   ?instances rdf:type/(rdfs:subClassOf*) ?class_of_interest .   } } GROUP BY ?class_of_interest \n",
      "18:39:03 INFO  Fuseki          :: [2] 200 OK (2.049 s)\n"
     ]
    }
   ],
   "source": [
    "# TODO: change path\n",
    "command = [\n",
    "    '/home/cbeust/Softwares/JenaFuseki/apache-jena-fuseki-4.9.0/fuseki-server',\n",
    "    '--file', '/home/cbeust/Projects/2024/BioPAX_Review/Compare_BioPAX_Files/PathwayCommonsFiles/PathwayCommons12.pid.BIOPAX.owl',\n",
    "    '--file', '/home/cbeust/Projects/2024/BioPAX_Review/BioPAX_Ontology/biopax-level3.owl',\n",
    "    '/pid_pc']\n",
    "process = subprocess.Popen(command)\n",
    "time.sleep(60)\n",
    "\n",
    "# execute SPARQL query\n",
    "sparql = SPARQLWrapper(endpointURL_pid_pc)\n",
    "sparql.setQuery(prefixes+query)\n",
    "\n",
    "# display results\n",
    "sparql.setReturnFormat(JSON)\n",
    "results = sparql.query().convert()\n",
    "displaySparqlResults(results)\n",
    "\n",
    "# export results to CSV\n",
    "sparql.setReturnFormat(CSV)\n",
    "results = sparql.query().convert()\n",
    "with open(\"../Results/pid_pc_counts_bp_classes.csv\", \"wb\") as f:\n",
    "    f.write(results)\n",
    "\n",
    "# end process\n",
    "process.kill()\n",
    "time.sleep(60)"
   ]
  },
  {
   "cell_type": "markdown",
   "metadata": {},
   "source": [
    "#### Query on BioPAX export of INOH from PathwayCommons"
   ]
  },
  {
   "cell_type": "code",
   "execution_count": 13,
   "metadata": {},
   "outputs": [
    {
     "name": "stderr",
     "output_type": "stream",
     "text": [
      "18:40:04 INFO  Server          :: Dataset: in-memory: load file: /home/cbeust/Projects/2024/BioPAX_Review/Compare_BioPAX_Files/PathwayCommonsFiles/PathwayCommons12.inoh.BIOPAX.owl\n",
      "18:40:05 WARN  riot            :: [line: 100079, col: 94] {W137} Input is large. Switching off checking for illegal reuse of rdf:ID's.\n",
      "18:40:12 INFO  Server          :: Dataset: in-memory: load file: /home/cbeust/Projects/2024/BioPAX_Review/BioPAX_Ontology/biopax-level3.owl\n",
      "18:40:12 INFO  Server          :: Running in read-only mode for /inoh_pc\n",
      "18:40:12 INFO  Server          :: Apache Jena Fuseki 4.9.0\n",
      "18:40:12 INFO  Config          :: FUSEKI_HOME=/home/cbeust/Softwares/JenaFuseki/apache-jena-fuseki-4.9.0\n",
      "18:40:12 INFO  Config          :: FUSEKI_BASE=/home/cbeust/Projects/2024/BioPAX_Review/BioPAXReview2024Codes/Figure3/Scripts/run\n",
      "18:40:12 INFO  Config          :: Shiro file: file:///home/cbeust/Projects/2024/BioPAX_Review/BioPAXReview2024Codes/Figure3/Scripts/run/shiro.ini\n",
      "18:40:12 INFO  Server          :: Database: in-memory, with files loaded\n",
      "18:40:12 INFO  Server          :: Path = /inoh_pc\n",
      "18:40:12 INFO  Server          ::   Memory: 16.0 GiB\n",
      "18:40:12 INFO  Server          ::   Java:   17.0.11\n",
      "18:40:12 INFO  Server          ::   OS:     Linux 6.8.9-100.fc38.x86_64 amd64\n",
      "18:40:12 INFO  Server          ::   PID:    64320\n",
      "18:40:12 INFO  Server          :: Started 2024/07/29 18:40:12 CEST on port 3030\n",
      "18:41:03 INFO  Fuseki          :: [1] GET http://localhost:3030/inoh_pc/query?query=%0APREFIX+rdf%3A+%3Chttp%3A//www.w3.org/1999/02/22-rdf-syntax-ns%23%3E%0APREFIX+rdfs%3A%3Chttp%3A//www.w3.org/2000/01/rdf-schema%23%3E%0APREFIX+owl%3A+%3Chttp%3A//www.w3.org/2002/07/owl%23%3E%0APREFIX+xsd%3A+%3Chttp%3A//www.w3.org/2001/XMLSchema%23%3E%0APREFIX+dc%3A+%3Chttp%3A//purl.org/dc/elements/1.1/%3E%0APREFIX+dcterms%3A+%3Chttp%3A//purl.org/dc/terms/%3E%0A%0APREFIX+chebi%3A+%3Chttp%3A//purl.obolibrary.org/obo/chebi/%3E%0APREFIX+chebidb%3A+%3Chttp%3A//purl.obolibrary.org/obo/CHEBI_%3E%0APREFIX+chebirel%3A+%3Chttp%3A//purl.obolibrary.org/obo/CHEBI%23%3E%0APREFIX+oboInOwl%3A+%3Chttp%3A//www.geneontology.org/formats/oboInOwl%23%3E%0A%0APREFIX+bp3%3A+%3Chttp%3A//www.biopax.org/release/biopax-level3.owl%23%3E%0A%0A%23+Homo_sapiens-20170221.owl%0A%23PREFIX+reactome%3A+%3Chttp%3A//www.reactome.org/biopax/59/48887%23%3E+%0A%23%0A%23+Homo_sapiens-20210608.owl%0A%23PREFIX+reactome%3A+%3Chttp%3A//www.reactome.org/biopax/77/48887%23%3E%0A%23%0A%23+Homo_sapiens-20220614.owl%0A%23PREFIX+reactome%3A+%3Chttp%3A//www.reactome.org/biopax/81/48887%23%3E%0A%23%0A%23+Homo_sapiens-20221130.owl%0A%23PREFIX+reactome%3A+%3Chttp%3A//www.reactome.org/biopax/83/48887%23%3E%0A%0APREFIX+reactome%3A+%3Chttp%3A//www.reactome.org/biopax/87/48887%23%3E%0A%0ASELECT+%3Fclass_of_interest+%28COUNT%28DISTINCT+%3Finstances%29+AS+%3Fnb_instances%29+%0AWHERE+%7B++%0A++%23+BioPAX+classe+for+which+we+want+to+count+the+number+of+instances%0A++VALUES+%3Fclass_of_interest+%7B+bp3%3ASmallMolecule+bp3%3AInteraction+bp3%3APathway+bp3%3APathwayStep+bp3%3ABiochemicalReaction+bp3%3AProtein+bp3%3ADna+bp3%3ARna+%7D%0A++OPTIONAL+%7B%0A++%3Finstances+rdf%3Atype/%28rdfs%3AsubClassOf%2A%29+%3Fclass_of_interest+.%0A++%7D%0A%7D%0AGROUP+BY+%3Fclass_of_interest%0A&format=json&output=json&results=json\n",
      "18:41:03 INFO  Fuseki          :: [1] Query =  PREFIX rdf: <http://www.w3.org/1999/02/22-rdf-syntax-ns#> PREFIX rdfs:<http://www.w3.org/2000/01/rdf-schema#> PREFIX owl: <http://www.w3.org/2002/07/owl#> PREFIX xsd: <http://www.w3.org/2001/XMLSchema#> PREFIX dc: <http://purl.org/dc/elements/1.1/> PREFIX dcterms: <http://purl.org/dc/terms/>  PREFIX chebi: <http://purl.obolibrary.org/obo/chebi/> PREFIX chebidb: <http://purl.obolibrary.org/obo/CHEBI_> PREFIX chebirel: <http://purl.obolibrary.org/obo/CHEBI#> PREFIX oboInOwl: <http://www.geneontology.org/formats/oboInOwl#>  PREFIX bp3: <http://www.biopax.org/release/biopax-level3.owl#>  # Homo_sapiens-20170221.owl #PREFIX reactome: <http://www.reactome.org/biopax/59/48887#>  # # Homo_sapiens-20210608.owl #PREFIX reactome: <http://www.reactome.org/biopax/77/48887#> # # Homo_sapiens-20220614.owl #PREFIX reactome: <http://www.reactome.org/biopax/81/48887#> # # Homo_sapiens-20221130.owl #PREFIX reactome: <http://www.reactome.org/biopax/83/48887#>  PREFIX reactome: <http://www.reactome.org/biopax/87/48887#>  SELECT ?class_of_interest (COUNT(DISTINCT ?instances) AS ?nb_instances)  WHERE {     # BioPAX classe for which we want to count the number of instances   VALUES ?class_of_interest { bp3:SmallMolecule bp3:Interaction bp3:Pathway bp3:PathwayStep bp3:BiochemicalReaction bp3:Protein bp3:Dna bp3:Rna }   OPTIONAL {   ?instances rdf:type/(rdfs:subClassOf*) ?class_of_interest .   } } GROUP BY ?class_of_interest \n",
      "18:41:07 INFO  Fuseki          :: [1] 200 OK (3.464 s)\n"
     ]
    },
    {
     "data": {
      "text/html": [
       "<table><tr><th>class_of_interest</th><th>nb_instances</th></tr><tr><td>http://www.biopax.org/release/biopax-level3.owl#BiochemicalReaction</td><td>1586</td></tr><tr><td>http://www.biopax.org/release/biopax-level3.owl#Pathway</td><td>774</td></tr><tr><td>http://www.biopax.org/release/biopax-level3.owl#PathwayStep</td><td>3427</td></tr><tr><td>http://www.biopax.org/release/biopax-level3.owl#SmallMolecule</td><td>4273</td></tr><tr><td>http://www.biopax.org/release/biopax-level3.owl#Rna</td><td>176</td></tr><tr><td>http://www.biopax.org/release/biopax-level3.owl#Interaction</td><td>5625</td></tr><tr><td>http://www.biopax.org/release/biopax-level3.owl#Protein</td><td>12804</td></tr><tr><td>http://www.biopax.org/release/biopax-level3.owl#Dna</td><td>588</td></tr></table>"
      ],
      "text/plain": [
       "<IPython.core.display.HTML object>"
      ]
     },
     "metadata": {},
     "output_type": "display_data"
    },
    {
     "name": "stderr",
     "output_type": "stream",
     "text": [
      "18:41:07 INFO  Fuseki          :: [2] GET http://localhost:3030/inoh_pc/query?query=%0APREFIX+rdf%3A+%3Chttp%3A//www.w3.org/1999/02/22-rdf-syntax-ns%23%3E%0APREFIX+rdfs%3A%3Chttp%3A//www.w3.org/2000/01/rdf-schema%23%3E%0APREFIX+owl%3A+%3Chttp%3A//www.w3.org/2002/07/owl%23%3E%0APREFIX+xsd%3A+%3Chttp%3A//www.w3.org/2001/XMLSchema%23%3E%0APREFIX+dc%3A+%3Chttp%3A//purl.org/dc/elements/1.1/%3E%0APREFIX+dcterms%3A+%3Chttp%3A//purl.org/dc/terms/%3E%0A%0APREFIX+chebi%3A+%3Chttp%3A//purl.obolibrary.org/obo/chebi/%3E%0APREFIX+chebidb%3A+%3Chttp%3A//purl.obolibrary.org/obo/CHEBI_%3E%0APREFIX+chebirel%3A+%3Chttp%3A//purl.obolibrary.org/obo/CHEBI%23%3E%0APREFIX+oboInOwl%3A+%3Chttp%3A//www.geneontology.org/formats/oboInOwl%23%3E%0A%0APREFIX+bp3%3A+%3Chttp%3A//www.biopax.org/release/biopax-level3.owl%23%3E%0A%0A%23+Homo_sapiens-20170221.owl%0A%23PREFIX+reactome%3A+%3Chttp%3A//www.reactome.org/biopax/59/48887%23%3E+%0A%23%0A%23+Homo_sapiens-20210608.owl%0A%23PREFIX+reactome%3A+%3Chttp%3A//www.reactome.org/biopax/77/48887%23%3E%0A%23%0A%23+Homo_sapiens-20220614.owl%0A%23PREFIX+reactome%3A+%3Chttp%3A//www.reactome.org/biopax/81/48887%23%3E%0A%23%0A%23+Homo_sapiens-20221130.owl%0A%23PREFIX+reactome%3A+%3Chttp%3A//www.reactome.org/biopax/83/48887%23%3E%0A%0APREFIX+reactome%3A+%3Chttp%3A//www.reactome.org/biopax/87/48887%23%3E%0A%0ASELECT+%3Fclass_of_interest+%28COUNT%28DISTINCT+%3Finstances%29+AS+%3Fnb_instances%29+%0AWHERE+%7B++%0A++%23+BioPAX+classe+for+which+we+want+to+count+the+number+of+instances%0A++VALUES+%3Fclass_of_interest+%7B+bp3%3ASmallMolecule+bp3%3AInteraction+bp3%3APathway+bp3%3APathwayStep+bp3%3ABiochemicalReaction+bp3%3AProtein+bp3%3ADna+bp3%3ARna+%7D%0A++OPTIONAL+%7B%0A++%3Finstances+rdf%3Atype/%28rdfs%3AsubClassOf%2A%29+%3Fclass_of_interest+.%0A++%7D%0A%7D%0AGROUP+BY+%3Fclass_of_interest%0A&format=csv&output=csv&results=csv\n",
      "18:41:07 INFO  Fuseki          :: [2] Query =  PREFIX rdf: <http://www.w3.org/1999/02/22-rdf-syntax-ns#> PREFIX rdfs:<http://www.w3.org/2000/01/rdf-schema#> PREFIX owl: <http://www.w3.org/2002/07/owl#> PREFIX xsd: <http://www.w3.org/2001/XMLSchema#> PREFIX dc: <http://purl.org/dc/elements/1.1/> PREFIX dcterms: <http://purl.org/dc/terms/>  PREFIX chebi: <http://purl.obolibrary.org/obo/chebi/> PREFIX chebidb: <http://purl.obolibrary.org/obo/CHEBI_> PREFIX chebirel: <http://purl.obolibrary.org/obo/CHEBI#> PREFIX oboInOwl: <http://www.geneontology.org/formats/oboInOwl#>  PREFIX bp3: <http://www.biopax.org/release/biopax-level3.owl#>  # Homo_sapiens-20170221.owl #PREFIX reactome: <http://www.reactome.org/biopax/59/48887#>  # # Homo_sapiens-20210608.owl #PREFIX reactome: <http://www.reactome.org/biopax/77/48887#> # # Homo_sapiens-20220614.owl #PREFIX reactome: <http://www.reactome.org/biopax/81/48887#> # # Homo_sapiens-20221130.owl #PREFIX reactome: <http://www.reactome.org/biopax/83/48887#>  PREFIX reactome: <http://www.reactome.org/biopax/87/48887#>  SELECT ?class_of_interest (COUNT(DISTINCT ?instances) AS ?nb_instances)  WHERE {     # BioPAX classe for which we want to count the number of instances   VALUES ?class_of_interest { bp3:SmallMolecule bp3:Interaction bp3:Pathway bp3:PathwayStep bp3:BiochemicalReaction bp3:Protein bp3:Dna bp3:Rna }   OPTIONAL {   ?instances rdf:type/(rdfs:subClassOf*) ?class_of_interest .   } } GROUP BY ?class_of_interest \n",
      "18:41:09 INFO  Fuseki          :: [2] 200 OK (2.198 s)\n"
     ]
    }
   ],
   "source": [
    "# TODO: change path\n",
    "command = [\n",
    "    '/home/cbeust/Softwares/JenaFuseki/apache-jena-fuseki-4.9.0/fuseki-server',\n",
    "    '--file', '/home/cbeust/Projects/2024/BioPAX_Review/Compare_BioPAX_Files/PathwayCommonsFiles/PathwayCommons12.inoh.BIOPAX.owl',\n",
    "    '--file', '/home/cbeust/Projects/2024/BioPAX_Review/BioPAX_Ontology/biopax-level3.owl',\n",
    "    '/inoh_pc']\n",
    "process = subprocess.Popen(command)\n",
    "time.sleep(60)\n",
    "\n",
    "# execute SPARQL query\n",
    "sparql = SPARQLWrapper(endpointURL_inoh_pc)\n",
    "sparql.setQuery(prefixes+query)\n",
    "\n",
    "# display results\n",
    "sparql.setReturnFormat(JSON)\n",
    "results = sparql.query().convert()\n",
    "displaySparqlResults(results)\n",
    "\n",
    "# export results to CSV\n",
    "sparql.setReturnFormat(CSV)\n",
    "results = sparql.query().convert()\n",
    "with open(\"../Results/inoh_pc_counts_bp_classes.csv\", \"wb\") as f:\n",
    "    f.write(results)\n",
    "\n",
    "# end process\n",
    "process.kill()\n",
    "time.sleep(60)"
   ]
  },
  {
   "cell_type": "markdown",
   "metadata": {},
   "source": [
    "#### Query on BioPAX export of NetPath from PathwayCommons"
   ]
  },
  {
   "cell_type": "code",
   "execution_count": 14,
   "metadata": {},
   "outputs": [
    {
     "name": "stderr",
     "output_type": "stream",
     "text": [
      "18:42:09 INFO  Server          :: Dataset: in-memory: load file: /home/cbeust/Projects/2024/BioPAX_Review/Compare_BioPAX_Files/PathwayCommonsFiles/PathwayCommons12.netpath.BIOPAX.owl\n",
      "18:42:11 WARN  riot            :: [line: 83771, col: 87] {W137} Input is large. Switching off checking for illegal reuse of rdf:ID's.\n",
      "18:42:12 INFO  Server          :: Dataset: in-memory: load file: /home/cbeust/Projects/2024/BioPAX_Review/BioPAX_Ontology/biopax-level3.owl\n",
      "18:42:12 INFO  Server          :: Running in read-only mode for /netpath_pc\n",
      "18:42:12 INFO  Server          :: Apache Jena Fuseki 4.9.0\n",
      "18:42:12 INFO  Config          :: FUSEKI_HOME=/home/cbeust/Softwares/JenaFuseki/apache-jena-fuseki-4.9.0\n",
      "18:42:12 INFO  Config          :: FUSEKI_BASE=/home/cbeust/Projects/2024/BioPAX_Review/BioPAXReview2024Codes/Figure3/Scripts/run\n",
      "18:42:12 INFO  Config          :: Shiro file: file:///home/cbeust/Projects/2024/BioPAX_Review/BioPAXReview2024Codes/Figure3/Scripts/run/shiro.ini\n",
      "18:42:12 INFO  Server          :: Database: in-memory, with files loaded\n",
      "18:42:12 INFO  Server          :: Path = /netpath_pc\n",
      "18:42:12 INFO  Server          ::   Memory: 16.0 GiB\n",
      "18:42:12 INFO  Server          ::   Java:   17.0.11\n",
      "18:42:12 INFO  Server          ::   OS:     Linux 6.8.9-100.fc38.x86_64 amd64\n",
      "18:42:12 INFO  Server          ::   PID:    64742\n",
      "18:42:12 INFO  Server          :: Started 2024/07/29 18:42:12 CEST on port 3030\n",
      "18:43:09 INFO  Fuseki          :: [1] GET http://localhost:3030/netpath_pc/query?query=%0APREFIX+rdf%3A+%3Chttp%3A//www.w3.org/1999/02/22-rdf-syntax-ns%23%3E%0APREFIX+rdfs%3A%3Chttp%3A//www.w3.org/2000/01/rdf-schema%23%3E%0APREFIX+owl%3A+%3Chttp%3A//www.w3.org/2002/07/owl%23%3E%0APREFIX+xsd%3A+%3Chttp%3A//www.w3.org/2001/XMLSchema%23%3E%0APREFIX+dc%3A+%3Chttp%3A//purl.org/dc/elements/1.1/%3E%0APREFIX+dcterms%3A+%3Chttp%3A//purl.org/dc/terms/%3E%0A%0APREFIX+chebi%3A+%3Chttp%3A//purl.obolibrary.org/obo/chebi/%3E%0APREFIX+chebidb%3A+%3Chttp%3A//purl.obolibrary.org/obo/CHEBI_%3E%0APREFIX+chebirel%3A+%3Chttp%3A//purl.obolibrary.org/obo/CHEBI%23%3E%0APREFIX+oboInOwl%3A+%3Chttp%3A//www.geneontology.org/formats/oboInOwl%23%3E%0A%0APREFIX+bp3%3A+%3Chttp%3A//www.biopax.org/release/biopax-level3.owl%23%3E%0A%0A%23+Homo_sapiens-20170221.owl%0A%23PREFIX+reactome%3A+%3Chttp%3A//www.reactome.org/biopax/59/48887%23%3E+%0A%23%0A%23+Homo_sapiens-20210608.owl%0A%23PREFIX+reactome%3A+%3Chttp%3A//www.reactome.org/biopax/77/48887%23%3E%0A%23%0A%23+Homo_sapiens-20220614.owl%0A%23PREFIX+reactome%3A+%3Chttp%3A//www.reactome.org/biopax/81/48887%23%3E%0A%23%0A%23+Homo_sapiens-20221130.owl%0A%23PREFIX+reactome%3A+%3Chttp%3A//www.reactome.org/biopax/83/48887%23%3E%0A%0APREFIX+reactome%3A+%3Chttp%3A//www.reactome.org/biopax/87/48887%23%3E%0A%0ASELECT+%3Fclass_of_interest+%28COUNT%28DISTINCT+%3Finstances%29+AS+%3Fnb_instances%29+%0AWHERE+%7B++%0A++%23+BioPAX+classe+for+which+we+want+to+count+the+number+of+instances%0A++VALUES+%3Fclass_of_interest+%7B+bp3%3ASmallMolecule+bp3%3AInteraction+bp3%3APathway+bp3%3APathwayStep+bp3%3ABiochemicalReaction+bp3%3AProtein+bp3%3ADna+bp3%3ARna+%7D%0A++OPTIONAL+%7B%0A++%3Finstances+rdf%3Atype/%28rdfs%3AsubClassOf%2A%29+%3Fclass_of_interest+.%0A++%7D%0A%7D%0AGROUP+BY+%3Fclass_of_interest%0A&format=json&output=json&results=json\n",
      "18:43:09 INFO  Fuseki          :: [1] Query =  PREFIX rdf: <http://www.w3.org/1999/02/22-rdf-syntax-ns#> PREFIX rdfs:<http://www.w3.org/2000/01/rdf-schema#> PREFIX owl: <http://www.w3.org/2002/07/owl#> PREFIX xsd: <http://www.w3.org/2001/XMLSchema#> PREFIX dc: <http://purl.org/dc/elements/1.1/> PREFIX dcterms: <http://purl.org/dc/terms/>  PREFIX chebi: <http://purl.obolibrary.org/obo/chebi/> PREFIX chebidb: <http://purl.obolibrary.org/obo/CHEBI_> PREFIX chebirel: <http://purl.obolibrary.org/obo/CHEBI#> PREFIX oboInOwl: <http://www.geneontology.org/formats/oboInOwl#>  PREFIX bp3: <http://www.biopax.org/release/biopax-level3.owl#>  # Homo_sapiens-20170221.owl #PREFIX reactome: <http://www.reactome.org/biopax/59/48887#>  # # Homo_sapiens-20210608.owl #PREFIX reactome: <http://www.reactome.org/biopax/77/48887#> # # Homo_sapiens-20220614.owl #PREFIX reactome: <http://www.reactome.org/biopax/81/48887#> # # Homo_sapiens-20221130.owl #PREFIX reactome: <http://www.reactome.org/biopax/83/48887#>  PREFIX reactome: <http://www.reactome.org/biopax/87/48887#>  SELECT ?class_of_interest (COUNT(DISTINCT ?instances) AS ?nb_instances)  WHERE {     # BioPAX classe for which we want to count the number of instances   VALUES ?class_of_interest { bp3:SmallMolecule bp3:Interaction bp3:Pathway bp3:PathwayStep bp3:BiochemicalReaction bp3:Protein bp3:Dna bp3:Rna }   OPTIONAL {   ?instances rdf:type/(rdfs:subClassOf*) ?class_of_interest .   } } GROUP BY ?class_of_interest \n",
      "18:43:11 INFO  Fuseki          :: [1] 200 OK (1.580 s)\n"
     ]
    },
    {
     "data": {
      "text/html": [
       "<table><tr><th>class_of_interest</th><th>nb_instances</th></tr><tr><td>http://www.biopax.org/release/biopax-level3.owl#BiochemicalReaction</td><td>2014</td></tr><tr><td>http://www.biopax.org/release/biopax-level3.owl#Pathway</td><td>27</td></tr><tr><td>http://www.biopax.org/release/biopax-level3.owl#PathwayStep</td><td>0</td></tr><tr><td>http://www.biopax.org/release/biopax-level3.owl#SmallMolecule</td><td>0</td></tr><tr><td>http://www.biopax.org/release/biopax-level3.owl#Rna</td><td>0</td></tr><tr><td>http://www.biopax.org/release/biopax-level3.owl#Interaction</td><td>7214</td></tr><tr><td>http://www.biopax.org/release/biopax-level3.owl#Protein</td><td>4861</td></tr><tr><td>http://www.biopax.org/release/biopax-level3.owl#Dna</td><td>0</td></tr></table>"
      ],
      "text/plain": [
       "<IPython.core.display.HTML object>"
      ]
     },
     "metadata": {},
     "output_type": "display_data"
    },
    {
     "name": "stderr",
     "output_type": "stream",
     "text": [
      "18:43:11 INFO  Fuseki          :: [2] GET http://localhost:3030/netpath_pc/query?query=%0APREFIX+rdf%3A+%3Chttp%3A//www.w3.org/1999/02/22-rdf-syntax-ns%23%3E%0APREFIX+rdfs%3A%3Chttp%3A//www.w3.org/2000/01/rdf-schema%23%3E%0APREFIX+owl%3A+%3Chttp%3A//www.w3.org/2002/07/owl%23%3E%0APREFIX+xsd%3A+%3Chttp%3A//www.w3.org/2001/XMLSchema%23%3E%0APREFIX+dc%3A+%3Chttp%3A//purl.org/dc/elements/1.1/%3E%0APREFIX+dcterms%3A+%3Chttp%3A//purl.org/dc/terms/%3E%0A%0APREFIX+chebi%3A+%3Chttp%3A//purl.obolibrary.org/obo/chebi/%3E%0APREFIX+chebidb%3A+%3Chttp%3A//purl.obolibrary.org/obo/CHEBI_%3E%0APREFIX+chebirel%3A+%3Chttp%3A//purl.obolibrary.org/obo/CHEBI%23%3E%0APREFIX+oboInOwl%3A+%3Chttp%3A//www.geneontology.org/formats/oboInOwl%23%3E%0A%0APREFIX+bp3%3A+%3Chttp%3A//www.biopax.org/release/biopax-level3.owl%23%3E%0A%0A%23+Homo_sapiens-20170221.owl%0A%23PREFIX+reactome%3A+%3Chttp%3A//www.reactome.org/biopax/59/48887%23%3E+%0A%23%0A%23+Homo_sapiens-20210608.owl%0A%23PREFIX+reactome%3A+%3Chttp%3A//www.reactome.org/biopax/77/48887%23%3E%0A%23%0A%23+Homo_sapiens-20220614.owl%0A%23PREFIX+reactome%3A+%3Chttp%3A//www.reactome.org/biopax/81/48887%23%3E%0A%23%0A%23+Homo_sapiens-20221130.owl%0A%23PREFIX+reactome%3A+%3Chttp%3A//www.reactome.org/biopax/83/48887%23%3E%0A%0APREFIX+reactome%3A+%3Chttp%3A//www.reactome.org/biopax/87/48887%23%3E%0A%0ASELECT+%3Fclass_of_interest+%28COUNT%28DISTINCT+%3Finstances%29+AS+%3Fnb_instances%29+%0AWHERE+%7B++%0A++%23+BioPAX+classe+for+which+we+want+to+count+the+number+of+instances%0A++VALUES+%3Fclass_of_interest+%7B+bp3%3ASmallMolecule+bp3%3AInteraction+bp3%3APathway+bp3%3APathwayStep+bp3%3ABiochemicalReaction+bp3%3AProtein+bp3%3ADna+bp3%3ARna+%7D%0A++OPTIONAL+%7B%0A++%3Finstances+rdf%3Atype/%28rdfs%3AsubClassOf%2A%29+%3Fclass_of_interest+.%0A++%7D%0A%7D%0AGROUP+BY+%3Fclass_of_interest%0A&format=csv&output=csv&results=csv\n",
      "18:43:11 INFO  Fuseki          :: [2] Query =  PREFIX rdf: <http://www.w3.org/1999/02/22-rdf-syntax-ns#> PREFIX rdfs:<http://www.w3.org/2000/01/rdf-schema#> PREFIX owl: <http://www.w3.org/2002/07/owl#> PREFIX xsd: <http://www.w3.org/2001/XMLSchema#> PREFIX dc: <http://purl.org/dc/elements/1.1/> PREFIX dcterms: <http://purl.org/dc/terms/>  PREFIX chebi: <http://purl.obolibrary.org/obo/chebi/> PREFIX chebidb: <http://purl.obolibrary.org/obo/CHEBI_> PREFIX chebirel: <http://purl.obolibrary.org/obo/CHEBI#> PREFIX oboInOwl: <http://www.geneontology.org/formats/oboInOwl#>  PREFIX bp3: <http://www.biopax.org/release/biopax-level3.owl#>  # Homo_sapiens-20170221.owl #PREFIX reactome: <http://www.reactome.org/biopax/59/48887#>  # # Homo_sapiens-20210608.owl #PREFIX reactome: <http://www.reactome.org/biopax/77/48887#> # # Homo_sapiens-20220614.owl #PREFIX reactome: <http://www.reactome.org/biopax/81/48887#> # # Homo_sapiens-20221130.owl #PREFIX reactome: <http://www.reactome.org/biopax/83/48887#>  PREFIX reactome: <http://www.reactome.org/biopax/87/48887#>  SELECT ?class_of_interest (COUNT(DISTINCT ?instances) AS ?nb_instances)  WHERE {     # BioPAX classe for which we want to count the number of instances   VALUES ?class_of_interest { bp3:SmallMolecule bp3:Interaction bp3:Pathway bp3:PathwayStep bp3:BiochemicalReaction bp3:Protein bp3:Dna bp3:Rna }   OPTIONAL {   ?instances rdf:type/(rdfs:subClassOf*) ?class_of_interest .   } } GROUP BY ?class_of_interest \n",
      "18:43:11 INFO  Fuseki          :: [2] 200 OK (738 ms)\n"
     ]
    }
   ],
   "source": [
    "# TODO: change path\n",
    "command = [\n",
    "    '/home/cbeust/Softwares/JenaFuseki/apache-jena-fuseki-4.9.0/fuseki-server',\n",
    "    '--file', '/home/cbeust/Projects/2024/BioPAX_Review/Compare_BioPAX_Files/PathwayCommonsFiles/PathwayCommons12.netpath.BIOPAX.owl',\n",
    "    '--file', '/home/cbeust/Projects/2024/BioPAX_Review/BioPAX_Ontology/biopax-level3.owl',\n",
    "    '/netpath_pc']\n",
    "process = subprocess.Popen(command)\n",
    "time.sleep(60)\n",
    "\n",
    "# execute SPARQL query\n",
    "sparql = SPARQLWrapper(endpointURL_netpath_pc)\n",
    "sparql.setQuery(prefixes+query)\n",
    "\n",
    "# display results\n",
    "sparql.setReturnFormat(JSON)\n",
    "results = sparql.query().convert()\n",
    "displaySparqlResults(results)\n",
    "\n",
    "# export results to CSV\n",
    "sparql.setReturnFormat(CSV)\n",
    "results = sparql.query().convert()\n",
    "with open(\"../Results/netpath_pc_counts_bp_classes.csv\", \"wb\") as f:\n",
    "    f.write(results)\n",
    "\n",
    "# end process\n",
    "process.kill()\n",
    "time.sleep(60)"
   ]
  }
 ],
 "metadata": {
  "kernelspec": {
   "display_name": "biopax_sparql_queries",
   "language": "python",
   "name": "python3"
  },
  "language_info": {
   "codemirror_mode": {
    "name": "ipython",
    "version": 3
   },
   "file_extension": ".py",
   "mimetype": "text/x-python",
   "name": "python",
   "nbconvert_exporter": "python",
   "pygments_lexer": "ipython3",
   "version": "3.12.4"
  }
 },
 "nbformat": 4,
 "nbformat_minor": 2
}
