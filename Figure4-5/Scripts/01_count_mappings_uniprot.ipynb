{
 "cells": [
  {
   "cell_type": "code",
   "execution_count": 1,
   "metadata": {},
   "outputs": [],
   "source": [
    "from SPARQLWrapper import SPARQLWrapper, JSON, CSV\n",
    "import IPython\n",
    "import subprocess\n",
    "import time"
   ]
  },
  {
   "cell_type": "code",
   "execution_count": 2,
   "metadata": {},
   "outputs": [],
   "source": [
    "endpointURL_reactome_v87 = \"http://localhost:3030/reactome_v87/query\"\n",
    "endpointURL_reactome_pc = \"http://localhost:3030/reactome_pc/query\"\n",
    "endpointURL_panther_pc = \"http://localhost:3030/panther_pc/query\"\n",
    "endpointURL_pathbank_pc = \"http://localhost:3030/pathbank_pc/query\"\n",
    "endpointURL_humancyc_pc = \"http://localhost:3030/humancyc_pc/query\"\n",
    "endpointURL_kegg_pc = \"http://localhost:3030/kegg_pc/query\"\n",
    "endpointURL_pid_pc = \"http://localhost:3030/pid_pc/query\"\n",
    "endpointURL_inoh_pc = \"http://localhost:3030/inoh_pc/query\"\n",
    "endpointURL_netpath_pc = \"http://localhost:3030/netpath_pc/query\"\n",
    "rdfFormat = \"turtle\""
   ]
  },
  {
   "cell_type": "code",
   "execution_count": 3,
   "metadata": {},
   "outputs": [],
   "source": [
    "reactomeVersion = 87\n",
    "prefixes = \"\"\"\n",
    "PREFIX rdf: <http://www.w3.org/1999/02/22-rdf-syntax-ns#>\n",
    "PREFIX rdfs:<http://www.w3.org/2000/01/rdf-schema#>\n",
    "PREFIX owl: <http://www.w3.org/2002/07/owl#>\n",
    "PREFIX xsd: <http://www.w3.org/2001/XMLSchema#>\n",
    "PREFIX dc: <http://purl.org/dc/elements/1.1/>\n",
    "PREFIX dcterms: <http://purl.org/dc/terms/>\n",
    "\n",
    "PREFIX chebi: <http://purl.obolibrary.org/obo/chebi/>\n",
    "PREFIX chebidb: <http://purl.obolibrary.org/obo/CHEBI_>\n",
    "PREFIX chebirel: <http://purl.obolibrary.org/obo/CHEBI#>\n",
    "PREFIX oboInOwl: <http://www.geneontology.org/formats/oboInOwl#>\n",
    "\n",
    "PREFIX bp3: <http://www.biopax.org/release/biopax-level3.owl#>\n",
    "\n",
    "# Homo_sapiens-20170221.owl\n",
    "#PREFIX reactome: <http://www.reactome.org/biopax/59/48887#> \n",
    "#\n",
    "# Homo_sapiens-20210608.owl\n",
    "#PREFIX reactome: <http://www.reactome.org/biopax/77/48887#>\n",
    "#\n",
    "# Homo_sapiens-20220614.owl\n",
    "#PREFIX reactome: <http://www.reactome.org/biopax/81/48887#>\n",
    "#\n",
    "# Homo_sapiens-20221130.owl\n",
    "#PREFIX reactome: <http://www.reactome.org/biopax/83/48887#>\n",
    "\n",
    "PREFIX reactome: <http://www.reactome.org/biopax/{}/48887#>\n",
    "\"\"\".format(reactomeVersion)\n",
    "\n",
    "biopaxURI = \"http://www.biopax.org/release/biopax-level3.owl#\""
   ]
  },
  {
   "cell_type": "code",
   "execution_count": 4,
   "metadata": {},
   "outputs": [],
   "source": [
    "def displaySparqlResults(results):\n",
    "    '''\n",
    "    Displays as HTML the result of a SPARQLWrapper query in a Jupyter notebook.\n",
    "    \n",
    "        Parameters:\n",
    "            results (dictionnary): the result of a call to SPARQLWrapper.query().convert()\n",
    "    '''\n",
    "    variableNames = results['head']['vars']\n",
    "    tableCode = '<table><tr><th>{}</th></tr><tr>{}</tr></table>'.format('</th><th>'.join(variableNames), '</tr><tr>'.join('<td>{}</td>'.format('</td><td>'.join([row[vName]['value'] if vName in row.keys() else \"&nbsp;\" for vName in variableNames]))for row in results[\"results\"][\"bindings\"]))\n",
    "    IPython.display.display(IPython.display.HTML(tableCode))"
   ]
  },
  {
   "cell_type": "markdown",
   "metadata": {},
   "source": [
    "## Mappings to UniProt"
   ]
  },
  {
   "cell_type": "code",
   "execution_count": 5,
   "metadata": {},
   "outputs": [],
   "source": [
    "# First SPARQL query using the string \"UniProt\" to map to UniProt resources\n",
    "query1 = \"\"\"\n",
    "SELECT ?metric ?count\n",
    "# Number of instances of Protein\n",
    "WHERE {\n",
    "OPTIONAL {\n",
    "    {\n",
    "        SELECT ?metric (COUNT(DISTINCT ?protein) AS ?count)\n",
    "        WHERE {\n",
    "            BIND(\"Protein\" AS ?metric)\n",
    "            ?protein rdf:type/(rdfs:subClassOf*) bp3:Protein .\n",
    "        }\n",
    "        GROUP BY ?metric\n",
    "    }\n",
    "    UNION\n",
    "    {\n",
    "        SELECT ?metric (COUNT(DISTINCT ?protein_ref) AS ?count)\n",
    "        WHERE {\n",
    "            BIND(\"ProteinReference\" AS ?metric)\n",
    "            ?protein_ref rdf:type bp3:ProteinReference .\n",
    "        }\n",
    "        GROUP BY ?metric\n",
    "    }\n",
    "    UNION\n",
    "    {\n",
    "        SELECT ?metric (COUNT(DISTINCT ?protein_without_ref) AS ?count)\n",
    "        WHERE {\n",
    "            BIND(\"Protein with no PR\" AS ?metric)\n",
    "            OPTIONAL {\n",
    "            ?protein_without_ref rdf:type/(rdfs:subClassOf*) bp3:Protein .\n",
    "            FILTER NOT EXISTS {\n",
    "                ?protein_without_ref bp3:entityReference ?ref .\n",
    "                ?ref rdf:type bp3:ProteinReference .\n",
    "            }\n",
    "        }\n",
    "        }\n",
    "        GROUP BY ?metric\n",
    "    }\n",
    "    UNION\n",
    "    {\n",
    "        SELECT ?metric (COUNT(DISTINCT ?protein_that_map_to_uniprot) AS ?count)\n",
    "        WHERE {\n",
    "            BIND(\"Uniprot mappings\" AS ?metric)\n",
    "            ?protein_that_map_to_uniprot rdf:type bp3:Protein .\n",
    "            ?protein_that_map_to_uniprot bp3:entityReference ?protein_ref .\n",
    "            ?protein_ref rdf:type bp3:ProteinReference .\n",
    "            ?protein_ref bp3:xref ?protein_ref_xref .\n",
    "            ?protein_ref_xref rdf:type bp3:UnificationXref .\n",
    "            ?protein_ref_xref bp3:db \"UniProt\" .\n",
    "            ?protein_ref_xref bp3:id ?up_id .\n",
    "        }\n",
    "        GROUP BY ?metric\n",
    "    }\n",
    "    UNION \n",
    "    {\n",
    "        SELECT ?metric (COUNT(DISTINCT ?protein_no_map_to_uniprot) AS ?count)\n",
    "        WHERE {\n",
    "            BIND(\"Protein with no mapping\" AS ?metric)\n",
    "            ?protein_no_map_to_uniprot rdf:type/(rdfs:subClassOf*) bp3:Protein .\n",
    "            ?protein_no_map_to_uniprot bp3:entityReference ?protein_ref .\n",
    "            FILTER NOT EXISTS {\n",
    "                ?protein_ref bp3:xref ?xref .\n",
    "                ?xref rdf:type bp3:UnificationXref .\n",
    "                ?xref bp3:db \"UniProt\" .\n",
    "                ?xref bp3:id ?id .\n",
    "            }\n",
    "        }\n",
    "        GROUP BY ?metric\n",
    "    }\n",
    "    UNION \n",
    "    {\n",
    "        SELECT ?metric (COUNT(DISTINCT ?up_id) AS ?count)\n",
    "        WHERE {\n",
    "            BIND(\"Unique Uniprot\" AS ?metric)\n",
    "            ?unif_xref rdf:type bp3:UnificationXref .\n",
    "            ?unif_xref bp3:db \"UniProt\" .\n",
    "            ?unif_xref bp3:id ?up_id .\n",
    "        }\n",
    "        GROUP BY ?metric\n",
    "    }\n",
    "   }\n",
    "}\n",
    "ORDER BY ?metric\n",
    "\n",
    "\"\"\"\n",
    "\n",
    "# Second SPARQL query using the string \"uniprot knowledgebase\" to map to UniProt resources\n",
    "query2 = \"\"\"\n",
    "SELECT ?metric ?count\n",
    "# Number of instances of Protein\n",
    "WHERE {\n",
    "    {\n",
    "        SELECT ?metric (COUNT(DISTINCT ?protein) AS ?count)\n",
    "        WHERE {\n",
    "            BIND(\"Protein\" AS ?metric)\n",
    "            ?protein rdf:type/(rdfs:subClassOf*) bp3:Protein .\n",
    "        }\n",
    "        GROUP BY ?metric\n",
    "    }\n",
    "    UNION\n",
    "    {\n",
    "        SELECT ?metric (COUNT(DISTINCT ?protein_ref) AS ?count)\n",
    "        WHERE {\n",
    "            BIND(\"ProteinReference\" AS ?metric)\n",
    "            ?protein_ref rdf:type bp3:ProteinReference .\n",
    "        }\n",
    "        GROUP BY ?metric\n",
    "    }\n",
    "    UNION\n",
    "    {\n",
    "        SELECT ?metric (COUNT(DISTINCT ?protein_without_ref) AS ?count)\n",
    "        WHERE {\n",
    "      BIND(\"Protein with no PR\" AS ?metric)\n",
    "      OPTIONAL {\n",
    "            ?protein_without_ref rdf:type/(rdfs:subClassOf*) bp3:Protein .\n",
    "            FILTER NOT EXISTS {\n",
    "                ?protein_without_ref bp3:entityReference ?ref .\n",
    "                ?ref rdf:type bp3:ProteinReference .\n",
    "            }\n",
    "        }\n",
    "    }\n",
    "        GROUP BY ?metric\n",
    "    }\n",
    "    UNION\n",
    "    {\n",
    "        SELECT ?metric (COUNT(DISTINCT ?protein_that_map_to_uniprot) AS ?count)\n",
    "        WHERE {\n",
    "            BIND(\"Uniprot mappings\" AS ?metric)\n",
    "            ?protein_that_map_to_uniprot rdf:type bp3:Protein .\n",
    "            ?protein_that_map_to_uniprot bp3:entityReference ?protein_ref .\n",
    "            ?protein_ref rdf:type bp3:ProteinReference .\n",
    "            ?protein_ref bp3:xref ?protein_ref_xref .\n",
    "            ?protein_ref_xref rdf:type bp3:UnificationXref .\n",
    "            ?protein_ref_xref bp3:db \"uniprot knowledgebase\" .\n",
    "            ?protein_ref_xref bp3:id ?up_id .\n",
    "        }\n",
    "        GROUP BY ?metric\n",
    "    }\n",
    "    UNION \n",
    "    {\n",
    "        SELECT ?metric (COUNT(DISTINCT ?protein_no_map_to_uniprot) AS ?count)\n",
    "        WHERE {\n",
    "            BIND(\"Protein with no mapping\" AS ?metric)\n",
    "            ?protein_no_map_to_uniprot rdf:type/(rdfs:subClassOf*) bp3:Protein .\n",
    "            ?protein_no_map_to_uniprot bp3:entityReference ?protein_ref .\n",
    "            FILTER NOT EXISTS {\n",
    "                ?protein_ref bp3:xref ?xref .\n",
    "                ?xref rdf:type bp3:UnificationXref .\n",
    "                ?xref bp3:db \"uniprot knowledgebase\" .\n",
    "                ?xref bp3:id ?id .\n",
    "            }\n",
    "        }\n",
    "        GROUP BY ?metric\n",
    "    }\n",
    "    UNION \n",
    "    {\n",
    "        SELECT ?metric (COUNT(DISTINCT ?up_id) AS ?count)\n",
    "        WHERE {\n",
    "            BIND(\"Unique Uniprot\" AS ?metric)\n",
    "            ?unif_xref rdf:type bp3:UnificationXref .\n",
    "            ?unif_xref bp3:db \"uniprot knowledgebase\" .\n",
    "            ?unif_xref bp3:id ?up_id .\n",
    "        }\n",
    "        GROUP BY ?metric\n",
    "    }\n",
    "}\n",
    "ORDER BY ?metric\n",
    "\n",
    "\"\"\""
   ]
  },
  {
   "cell_type": "markdown",
   "metadata": {},
   "source": [
    "TODO: change the path to fuseki server and BioPAX files + BioPAX ontology in the command line to launch the SPARQL endpoint"
   ]
  },
  {
   "cell_type": "markdown",
   "metadata": {},
   "source": [
    "#### Query on Reactome BioPAX standalone export version 87"
   ]
  },
  {
   "cell_type": "code",
   "execution_count": 6,
   "metadata": {},
   "outputs": [
    {
     "name": "stderr",
     "output_type": "stream",
     "text": [
      "19:11:03 INFO  Server          :: Dataset: in-memory: load file: /home/cbeust/Projects/2024/BioPAX_Review/Compare_BioPAX_Files/ReactomeBioPAX/_00_Reactome_Data_v87/Homo_sapiens.owl\n",
      "19:11:04 WARN  riot            :: [line: 67280, col: 52] {W137} Input is large. Switching off checking for illegal reuse of rdf:ID's.\n",
      "19:11:24 INFO  Server          :: Dataset: in-memory: load file: /home/cbeust/Projects/2024/BioPAX_Review/BioPAX_Ontology/biopax-level3.owl\n",
      "19:11:24 INFO  Server          :: Running in read-only mode for /reactome_v87\n",
      "19:11:24 INFO  Server          :: Apache Jena Fuseki 4.9.0\n",
      "19:11:24 INFO  Config          :: FUSEKI_HOME=/home/cbeust/Softwares/JenaFuseki/apache-jena-fuseki-4.9.0\n",
      "19:11:24 INFO  Config          :: FUSEKI_BASE=/home/cbeust/Projects/2024/BioPAX_Review/BioPAXReview2024Codes/Figure4-5/Scripts/run\n",
      "19:11:24 INFO  Config          :: Shiro file: file:///home/cbeust/Projects/2024/BioPAX_Review/BioPAXReview2024Codes/Figure4-5/Scripts/run/shiro.ini\n",
      "19:11:24 INFO  Server          :: Database: in-memory, with files loaded\n",
      "19:11:24 INFO  Server          :: Path = /reactome_v87\n",
      "19:11:24 INFO  Server          ::   Memory: 16.0 GiB\n",
      "19:11:24 INFO  Server          ::   Java:   17.0.11\n",
      "19:11:24 INFO  Server          ::   OS:     Linux 6.8.9-100.fc38.x86_64 amd64\n",
      "19:11:24 INFO  Server          ::   PID:    69418\n",
      "19:11:24 INFO  Server          :: Started 2024/07/29 19:11:24 CEST on port 3030\n",
      "19:12:02 INFO  Fuseki          :: [1] GET http://localhost:3030/reactome_v87/query?query=%0APREFIX+rdf%3A+%3Chttp%3A//www.w3.org/1999/02/22-rdf-syntax-ns%23%3E%0APREFIX+rdfs%3A%3Chttp%3A//www.w3.org/2000/01/rdf-schema%23%3E%0APREFIX+owl%3A+%3Chttp%3A//www.w3.org/2002/07/owl%23%3E%0APREFIX+xsd%3A+%3Chttp%3A//www.w3.org/2001/XMLSchema%23%3E%0APREFIX+dc%3A+%3Chttp%3A//purl.org/dc/elements/1.1/%3E%0APREFIX+dcterms%3A+%3Chttp%3A//purl.org/dc/terms/%3E%0A%0APREFIX+chebi%3A+%3Chttp%3A//purl.obolibrary.org/obo/chebi/%3E%0APREFIX+chebidb%3A+%3Chttp%3A//purl.obolibrary.org/obo/CHEBI_%3E%0APREFIX+chebirel%3A+%3Chttp%3A//purl.obolibrary.org/obo/CHEBI%23%3E%0APREFIX+oboInOwl%3A+%3Chttp%3A//www.geneontology.org/formats/oboInOwl%23%3E%0A%0APREFIX+bp3%3A+%3Chttp%3A//www.biopax.org/release/biopax-level3.owl%23%3E%0A%0A%23+Homo_sapiens-20170221.owl%0A%23PREFIX+reactome%3A+%3Chttp%3A//www.reactome.org/biopax/59/48887%23%3E+%0A%23%0A%23+Homo_sapiens-20210608.owl%0A%23PREFIX+reactome%3A+%3Chttp%3A//www.reactome.org/biopax/77/48887%23%3E%0A%23%0A%23+Homo_sapiens-20220614.owl%0A%23PREFIX+reactome%3A+%3Chttp%3A//www.reactome.org/biopax/81/48887%23%3E%0A%23%0A%23+Homo_sapiens-20221130.owl%0A%23PREFIX+reactome%3A+%3Chttp%3A//www.reactome.org/biopax/83/48887%23%3E%0A%0APREFIX+reactome%3A+%3Chttp%3A//www.reactome.org/biopax/87/48887%23%3E%0A%0ASELECT+%3Fmetric+%3Fcount%0A%23+Number+of+instances+of+Protein%0AWHERE+%7B%0AOPTIONAL+%7B%0A++++%7B%0A++++++++SELECT+%3Fmetric+%28COUNT%28DISTINCT+%3Fprotein%29+AS+%3Fcount%29%0A++++++++WHERE+%7B%0A++++++++++++BIND%28%22Protein%22+AS+%3Fmetric%29%0A++++++++++++%3Fprotein+rdf%3Atype/%28rdfs%3AsubClassOf%2A%29+bp3%3AProtein+.%0A++++++++%7D%0A++++++++GROUP+BY+%3Fmetric%0A++++%7D%0A++++UNION%0A++++%7B%0A++++++++SELECT+%3Fmetric+%28COUNT%28DISTINCT+%3Fprotein_ref%29+AS+%3Fcount%29%0A++++++++WHERE+%7B%0A++++++++++++BIND%28%22ProteinReference%22+AS+%3Fmetric%29%0A++++++++++++%3Fprotein_ref+rdf%3Atype+bp3%3AProteinReference+.%0A++++++++%7D%0A++++++++GROUP+BY+%3Fmetric%0A++++%7D%0A++++UNION%0A++++%7B%0A++++++++SELECT+%3Fmetric+%28COUNT%28DISTINCT+%3Fprotein_without_ref%29+AS+%3Fcount%29%0A++++++++WHERE+%7B%0A++++++++++++BIND%28%22Protein+with+no+PR%22+AS+%3Fmetric%29%0A++++++++++++OPTIONAL+%7B%0A++++++++++++%3Fprotein_without_ref+rdf%3Atype/%28rdfs%3AsubClassOf%2A%29+bp3%3AProtein+.%0A++++++++++++FILTER+NOT+EXISTS+%7B%0A++++++++++++++++%3Fprotein_without_ref+bp3%3AentityReference+%3Fref+.%0A++++++++++++++++%3Fref+rdf%3Atype+bp3%3AProteinReference+.%0A++++++++++++%7D%0A++++++++%7D%0A++++++++%7D%0A++++++++GROUP+BY+%3Fmetric%0A++++%7D%0A++++UNION%0A++++%7B%0A++++++++SELECT+%3Fmetric+%28COUNT%28DISTINCT+%3Fprotein_that_map_to_uniprot%29+AS+%3Fcount%29%0A++++++++WHERE+%7B%0A++++++++++++BIND%28%22Uniprot+mappings%22+AS+%3Fmetric%29%0A++++++++++++%3Fprotein_that_map_to_uniprot+rdf%3Atype+bp3%3AProtein+.%0A++++++++++++%3Fprotein_that_map_to_uniprot+bp3%3AentityReference+%3Fprotein_ref+.%0A++++++++++++%3Fprotein_ref+rdf%3Atype+bp3%3AProteinReference+.%0A++++++++++++%3Fprotein_ref+bp3%3Axref+%3Fprotein_ref_xref+.%0A++++++++++++%3Fprotein_ref_xref+rdf%3Atype+bp3%3AUnificationXref+.%0A++++++++++++%3Fprotein_ref_xref+bp3%3Adb+%22UniProt%22+.%0A++++++++++++%3Fprotein_ref_xref+bp3%3Aid+%3Fup_id+.%0A++++++++%7D%0A++++++++GROUP+BY+%3Fmetric%0A++++%7D%0A++++UNION+%0A++++%7B%0A++++++++SELECT+%3Fmetric+%28COUNT%28DISTINCT+%3Fprotein_no_map_to_uniprot%29+AS+%3Fcount%29%0A++++++++WHERE+%7B%0A++++++++++++BIND%28%22Protein+with+no+mapping%22+AS+%3Fmetric%29%0A++++++++++++%3Fprotein_no_map_to_uniprot+rdf%3Atype/%28rdfs%3AsubClassOf%2A%29+bp3%3AProtein+.%0A++++++++++++%3Fprotein_no_map_to_uniprot+bp3%3AentityReference+%3Fprotein_ref+.%0A++++++++++++FILTER+NOT+EXISTS+%7B%0A++++++++++++++++%3Fprotein_ref+bp3%3Axref+%3Fxref+.%0A++++++++++++++++%3Fxref+rdf%3Atype+bp3%3AUnificationXref+.%0A++++++++++++++++%3Fxref+bp3%3Adb+%22UniProt%22+.%0A++++++++++++++++%3Fxref+bp3%3Aid+%3Fid+.%0A++++++++++++%7D%0A++++++++%7D%0A++++++++GROUP+BY+%3Fmetric%0A++++%7D%0A++++UNION+%0A++++%7B%0A++++++++SELECT+%3Fmetric+%28COUNT%28DISTINCT+%3Fup_id%29+AS+%3Fcount%29%0A++++++++WHERE+%7B%0A++++++++++++BIND%28%22Unique+Uniprot%22+AS+%3Fmetric%29%0A++++++++++++%3Funif_xref+rdf%3Atype+bp3%3AUnificationXref+.%0A++++++++++++%3Funif_xref+bp3%3Adb+%22UniProt%22+.%0A++++++++++++%3Funif_xref+bp3%3Aid+%3Fup_id+.%0A++++++++%7D%0A++++++++GROUP+BY+%3Fmetric%0A++++%7D%0A+++%7D%0A%7D%0AORDER+BY+%3Fmetric%0A%0A&format=json&output=json&results=json\n",
      "19:12:02 INFO  Fuseki          :: [1] Query =  PREFIX rdf: <http://www.w3.org/1999/02/22-rdf-syntax-ns#> PREFIX rdfs:<http://www.w3.org/2000/01/rdf-schema#> PREFIX owl: <http://www.w3.org/2002/07/owl#> PREFIX xsd: <http://www.w3.org/2001/XMLSchema#> PREFIX dc: <http://purl.org/dc/elements/1.1/> PREFIX dcterms: <http://purl.org/dc/terms/>  PREFIX chebi: <http://purl.obolibrary.org/obo/chebi/> PREFIX chebidb: <http://purl.obolibrary.org/obo/CHEBI_> PREFIX chebirel: <http://purl.obolibrary.org/obo/CHEBI#> PREFIX oboInOwl: <http://www.geneontology.org/formats/oboInOwl#>  PREFIX bp3: <http://www.biopax.org/release/biopax-level3.owl#>  # Homo_sapiens-20170221.owl #PREFIX reactome: <http://www.reactome.org/biopax/59/48887#>  # # Homo_sapiens-20210608.owl #PREFIX reactome: <http://www.reactome.org/biopax/77/48887#> # # Homo_sapiens-20220614.owl #PREFIX reactome: <http://www.reactome.org/biopax/81/48887#> # # Homo_sapiens-20221130.owl #PREFIX reactome: <http://www.reactome.org/biopax/83/48887#>  PREFIX reactome: <http://www.reactome.org/biopax/87/48887#>  SELECT ?metric ?count # Number of instances of Protein WHERE { OPTIONAL {     {         SELECT ?metric (COUNT(DISTINCT ?protein) AS ?count)         WHERE {             BIND(\"Protein\" AS ?metric)             ?protein rdf:type/(rdfs:subClassOf*) bp3:Protein .         }         GROUP BY ?metric     }     UNION     {         SELECT ?metric (COUNT(DISTINCT ?protein_ref) AS ?count)         WHERE {             BIND(\"ProteinReference\" AS ?metric)             ?protein_ref rdf:type bp3:ProteinReference .         }         GROUP BY ?metric     }     UNION     {         SELECT ?metric (COUNT(DISTINCT ?protein_without_ref) AS ?count)         WHERE {             BIND(\"Protein with no PR\" AS ?metric)             OPTIONAL {             ?protein_without_ref rdf:type/(rdfs:subClassOf*) bp3:Protein .             FILTER NOT EXISTS {                 ?protein_without_ref bp3:entityReference ?ref .                 ?ref rdf:type bp3:ProteinReference .             }         }         }         GROUP BY ?metric     }     UNION     {         SELECT ?metric (COUNT(DISTINCT ?protein_that_map_to_uniprot) AS ?count)         WHERE {             BIND(\"Uniprot mappings\" AS ?metric)             ?protein_that_map_to_uniprot rdf:type bp3:Protein .             ?protein_that_map_to_uniprot bp3:entityReference ?protein_ref .             ?protein_ref rdf:type bp3:ProteinReference .             ?protein_ref bp3:xref ?protein_ref_xref .             ?protein_ref_xref rdf:type bp3:UnificationXref .             ?protein_ref_xref bp3:db \"UniProt\" .             ?protein_ref_xref bp3:id ?up_id .         }         GROUP BY ?metric     }     UNION      {         SELECT ?metric (COUNT(DISTINCT ?protein_no_map_to_uniprot) AS ?count)         WHERE {             BIND(\"Protein with no mapping\" AS ?metric)             ?protein_no_map_to_uniprot rdf:type/(rdfs:subClassOf*) bp3:Protein .             ?protein_no_map_to_uniprot bp3:entityReference ?protein_ref .             FILTER NOT EXISTS {                 ?protein_ref bp3:xref ?xref .                 ?xref rdf:type bp3:UnificationXref .                 ?xref bp3:db \"UniProt\" .                 ?xref bp3:id ?id .             }         }         GROUP BY ?metric     }     UNION      {         SELECT ?metric (COUNT(DISTINCT ?up_id) AS ?count)         WHERE {             BIND(\"Unique Uniprot\" AS ?metric)             ?unif_xref rdf:type bp3:UnificationXref .             ?unif_xref bp3:db \"UniProt\" .             ?unif_xref bp3:id ?up_id .         }         GROUP BY ?metric     }    } } ORDER BY ?metric  \n",
      "19:12:04 INFO  Fuseki          :: [1] 200 OK (1.651 s)\n"
     ]
    },
    {
     "data": {
      "text/html": [
       "<table><tr><th>metric</th><th>count</th></tr><tr><td>Protein</td><td>31649</td></tr><tr><td>Protein with no PR</td><td>3193</td></tr><tr><td>Protein with no mapping</td><td>743</td></tr><tr><td>ProteinReference</td><td>11808</td></tr><tr><td>Uniprot mappings</td><td>27713</td></tr><tr><td>Unique Uniprot</td><td>11421</td></tr></table>"
      ],
      "text/plain": [
       "<IPython.core.display.HTML object>"
      ]
     },
     "metadata": {},
     "output_type": "display_data"
    },
    {
     "name": "stderr",
     "output_type": "stream",
     "text": [
      "19:12:04 INFO  Fuseki          :: [2] GET http://localhost:3030/reactome_v87/query?query=%0APREFIX+rdf%3A+%3Chttp%3A//www.w3.org/1999/02/22-rdf-syntax-ns%23%3E%0APREFIX+rdfs%3A%3Chttp%3A//www.w3.org/2000/01/rdf-schema%23%3E%0APREFIX+owl%3A+%3Chttp%3A//www.w3.org/2002/07/owl%23%3E%0APREFIX+xsd%3A+%3Chttp%3A//www.w3.org/2001/XMLSchema%23%3E%0APREFIX+dc%3A+%3Chttp%3A//purl.org/dc/elements/1.1/%3E%0APREFIX+dcterms%3A+%3Chttp%3A//purl.org/dc/terms/%3E%0A%0APREFIX+chebi%3A+%3Chttp%3A//purl.obolibrary.org/obo/chebi/%3E%0APREFIX+chebidb%3A+%3Chttp%3A//purl.obolibrary.org/obo/CHEBI_%3E%0APREFIX+chebirel%3A+%3Chttp%3A//purl.obolibrary.org/obo/CHEBI%23%3E%0APREFIX+oboInOwl%3A+%3Chttp%3A//www.geneontology.org/formats/oboInOwl%23%3E%0A%0APREFIX+bp3%3A+%3Chttp%3A//www.biopax.org/release/biopax-level3.owl%23%3E%0A%0A%23+Homo_sapiens-20170221.owl%0A%23PREFIX+reactome%3A+%3Chttp%3A//www.reactome.org/biopax/59/48887%23%3E+%0A%23%0A%23+Homo_sapiens-20210608.owl%0A%23PREFIX+reactome%3A+%3Chttp%3A//www.reactome.org/biopax/77/48887%23%3E%0A%23%0A%23+Homo_sapiens-20220614.owl%0A%23PREFIX+reactome%3A+%3Chttp%3A//www.reactome.org/biopax/81/48887%23%3E%0A%23%0A%23+Homo_sapiens-20221130.owl%0A%23PREFIX+reactome%3A+%3Chttp%3A//www.reactome.org/biopax/83/48887%23%3E%0A%0APREFIX+reactome%3A+%3Chttp%3A//www.reactome.org/biopax/87/48887%23%3E%0A%0ASELECT+%3Fmetric+%3Fcount%0A%23+Number+of+instances+of+Protein%0AWHERE+%7B%0AOPTIONAL+%7B%0A++++%7B%0A++++++++SELECT+%3Fmetric+%28COUNT%28DISTINCT+%3Fprotein%29+AS+%3Fcount%29%0A++++++++WHERE+%7B%0A++++++++++++BIND%28%22Protein%22+AS+%3Fmetric%29%0A++++++++++++%3Fprotein+rdf%3Atype/%28rdfs%3AsubClassOf%2A%29+bp3%3AProtein+.%0A++++++++%7D%0A++++++++GROUP+BY+%3Fmetric%0A++++%7D%0A++++UNION%0A++++%7B%0A++++++++SELECT+%3Fmetric+%28COUNT%28DISTINCT+%3Fprotein_ref%29+AS+%3Fcount%29%0A++++++++WHERE+%7B%0A++++++++++++BIND%28%22ProteinReference%22+AS+%3Fmetric%29%0A++++++++++++%3Fprotein_ref+rdf%3Atype+bp3%3AProteinReference+.%0A++++++++%7D%0A++++++++GROUP+BY+%3Fmetric%0A++++%7D%0A++++UNION%0A++++%7B%0A++++++++SELECT+%3Fmetric+%28COUNT%28DISTINCT+%3Fprotein_without_ref%29+AS+%3Fcount%29%0A++++++++WHERE+%7B%0A++++++++++++BIND%28%22Protein+with+no+PR%22+AS+%3Fmetric%29%0A++++++++++++OPTIONAL+%7B%0A++++++++++++%3Fprotein_without_ref+rdf%3Atype/%28rdfs%3AsubClassOf%2A%29+bp3%3AProtein+.%0A++++++++++++FILTER+NOT+EXISTS+%7B%0A++++++++++++++++%3Fprotein_without_ref+bp3%3AentityReference+%3Fref+.%0A++++++++++++++++%3Fref+rdf%3Atype+bp3%3AProteinReference+.%0A++++++++++++%7D%0A++++++++%7D%0A++++++++%7D%0A++++++++GROUP+BY+%3Fmetric%0A++++%7D%0A++++UNION%0A++++%7B%0A++++++++SELECT+%3Fmetric+%28COUNT%28DISTINCT+%3Fprotein_that_map_to_uniprot%29+AS+%3Fcount%29%0A++++++++WHERE+%7B%0A++++++++++++BIND%28%22Uniprot+mappings%22+AS+%3Fmetric%29%0A++++++++++++%3Fprotein_that_map_to_uniprot+rdf%3Atype+bp3%3AProtein+.%0A++++++++++++%3Fprotein_that_map_to_uniprot+bp3%3AentityReference+%3Fprotein_ref+.%0A++++++++++++%3Fprotein_ref+rdf%3Atype+bp3%3AProteinReference+.%0A++++++++++++%3Fprotein_ref+bp3%3Axref+%3Fprotein_ref_xref+.%0A++++++++++++%3Fprotein_ref_xref+rdf%3Atype+bp3%3AUnificationXref+.%0A++++++++++++%3Fprotein_ref_xref+bp3%3Adb+%22UniProt%22+.%0A++++++++++++%3Fprotein_ref_xref+bp3%3Aid+%3Fup_id+.%0A++++++++%7D%0A++++++++GROUP+BY+%3Fmetric%0A++++%7D%0A++++UNION+%0A++++%7B%0A++++++++SELECT+%3Fmetric+%28COUNT%28DISTINCT+%3Fprotein_no_map_to_uniprot%29+AS+%3Fcount%29%0A++++++++WHERE+%7B%0A++++++++++++BIND%28%22Protein+with+no+mapping%22+AS+%3Fmetric%29%0A++++++++++++%3Fprotein_no_map_to_uniprot+rdf%3Atype/%28rdfs%3AsubClassOf%2A%29+bp3%3AProtein+.%0A++++++++++++%3Fprotein_no_map_to_uniprot+bp3%3AentityReference+%3Fprotein_ref+.%0A++++++++++++FILTER+NOT+EXISTS+%7B%0A++++++++++++++++%3Fprotein_ref+bp3%3Axref+%3Fxref+.%0A++++++++++++++++%3Fxref+rdf%3Atype+bp3%3AUnificationXref+.%0A++++++++++++++++%3Fxref+bp3%3Adb+%22UniProt%22+.%0A++++++++++++++++%3Fxref+bp3%3Aid+%3Fid+.%0A++++++++++++%7D%0A++++++++%7D%0A++++++++GROUP+BY+%3Fmetric%0A++++%7D%0A++++UNION+%0A++++%7B%0A++++++++SELECT+%3Fmetric+%28COUNT%28DISTINCT+%3Fup_id%29+AS+%3Fcount%29%0A++++++++WHERE+%7B%0A++++++++++++BIND%28%22Unique+Uniprot%22+AS+%3Fmetric%29%0A++++++++++++%3Funif_xref+rdf%3Atype+bp3%3AUnificationXref+.%0A++++++++++++%3Funif_xref+bp3%3Adb+%22UniProt%22+.%0A++++++++++++%3Funif_xref+bp3%3Aid+%3Fup_id+.%0A++++++++%7D%0A++++++++GROUP+BY+%3Fmetric%0A++++%7D%0A+++%7D%0A%7D%0AORDER+BY+%3Fmetric%0A%0A&format=csv&output=csv&results=csv\n",
      "19:12:04 INFO  Fuseki          :: [2] Query =  PREFIX rdf: <http://www.w3.org/1999/02/22-rdf-syntax-ns#> PREFIX rdfs:<http://www.w3.org/2000/01/rdf-schema#> PREFIX owl: <http://www.w3.org/2002/07/owl#> PREFIX xsd: <http://www.w3.org/2001/XMLSchema#> PREFIX dc: <http://purl.org/dc/elements/1.1/> PREFIX dcterms: <http://purl.org/dc/terms/>  PREFIX chebi: <http://purl.obolibrary.org/obo/chebi/> PREFIX chebidb: <http://purl.obolibrary.org/obo/CHEBI_> PREFIX chebirel: <http://purl.obolibrary.org/obo/CHEBI#> PREFIX oboInOwl: <http://www.geneontology.org/formats/oboInOwl#>  PREFIX bp3: <http://www.biopax.org/release/biopax-level3.owl#>  # Homo_sapiens-20170221.owl #PREFIX reactome: <http://www.reactome.org/biopax/59/48887#>  # # Homo_sapiens-20210608.owl #PREFIX reactome: <http://www.reactome.org/biopax/77/48887#> # # Homo_sapiens-20220614.owl #PREFIX reactome: <http://www.reactome.org/biopax/81/48887#> # # Homo_sapiens-20221130.owl #PREFIX reactome: <http://www.reactome.org/biopax/83/48887#>  PREFIX reactome: <http://www.reactome.org/biopax/87/48887#>  SELECT ?metric ?count # Number of instances of Protein WHERE { OPTIONAL {     {         SELECT ?metric (COUNT(DISTINCT ?protein) AS ?count)         WHERE {             BIND(\"Protein\" AS ?metric)             ?protein rdf:type/(rdfs:subClassOf*) bp3:Protein .         }         GROUP BY ?metric     }     UNION     {         SELECT ?metric (COUNT(DISTINCT ?protein_ref) AS ?count)         WHERE {             BIND(\"ProteinReference\" AS ?metric)             ?protein_ref rdf:type bp3:ProteinReference .         }         GROUP BY ?metric     }     UNION     {         SELECT ?metric (COUNT(DISTINCT ?protein_without_ref) AS ?count)         WHERE {             BIND(\"Protein with no PR\" AS ?metric)             OPTIONAL {             ?protein_without_ref rdf:type/(rdfs:subClassOf*) bp3:Protein .             FILTER NOT EXISTS {                 ?protein_without_ref bp3:entityReference ?ref .                 ?ref rdf:type bp3:ProteinReference .             }         }         }         GROUP BY ?metric     }     UNION     {         SELECT ?metric (COUNT(DISTINCT ?protein_that_map_to_uniprot) AS ?count)         WHERE {             BIND(\"Uniprot mappings\" AS ?metric)             ?protein_that_map_to_uniprot rdf:type bp3:Protein .             ?protein_that_map_to_uniprot bp3:entityReference ?protein_ref .             ?protein_ref rdf:type bp3:ProteinReference .             ?protein_ref bp3:xref ?protein_ref_xref .             ?protein_ref_xref rdf:type bp3:UnificationXref .             ?protein_ref_xref bp3:db \"UniProt\" .             ?protein_ref_xref bp3:id ?up_id .         }         GROUP BY ?metric     }     UNION      {         SELECT ?metric (COUNT(DISTINCT ?protein_no_map_to_uniprot) AS ?count)         WHERE {             BIND(\"Protein with no mapping\" AS ?metric)             ?protein_no_map_to_uniprot rdf:type/(rdfs:subClassOf*) bp3:Protein .             ?protein_no_map_to_uniprot bp3:entityReference ?protein_ref .             FILTER NOT EXISTS {                 ?protein_ref bp3:xref ?xref .                 ?xref rdf:type bp3:UnificationXref .                 ?xref bp3:db \"UniProt\" .                 ?xref bp3:id ?id .             }         }         GROUP BY ?metric     }     UNION      {         SELECT ?metric (COUNT(DISTINCT ?up_id) AS ?count)         WHERE {             BIND(\"Unique Uniprot\" AS ?metric)             ?unif_xref rdf:type bp3:UnificationXref .             ?unif_xref bp3:db \"UniProt\" .             ?unif_xref bp3:id ?up_id .         }         GROUP BY ?metric     }    } } ORDER BY ?metric  \n",
      "19:12:04 INFO  Fuseki          :: [2] 200 OK (426 ms)\n"
     ]
    }
   ],
   "source": [
    "# TODO: change path\n",
    "command = [\n",
    "    '/home/cbeust/Softwares/JenaFuseki/apache-jena-fuseki-4.9.0/fuseki-server',\n",
    "    '--file', '/home/cbeust/Projects/2024/BioPAX_Review/Compare_BioPAX_Files/ReactomeBioPAX/_00_Reactome_Data_v87/Homo_sapiens.owl',\n",
    "    '--file', '/home/cbeust/Projects/2024/BioPAX_Review/BioPAX_Ontology/biopax-level3.owl',\n",
    "    '/reactome_v87']\n",
    "process = subprocess.Popen(command)\n",
    "time.sleep(60)\n",
    "\n",
    "# execute SPARQL query\n",
    "sparql = SPARQLWrapper(endpointURL_reactome_v87)\n",
    "sparql.setQuery(prefixes+query1)\n",
    "\n",
    "# display results\n",
    "sparql.setReturnFormat(JSON)\n",
    "results = sparql.query().convert()\n",
    "displaySparqlResults(results)\n",
    "\n",
    "# export to CSV\n",
    "sparql.setReturnFormat(CSV)\n",
    "results = sparql.query().convert()\n",
    "with open(f\"../Results/reactome_v87_mappings_uniprot.csv\", \"wb\") as f:\n",
    "    f.write(results)\n",
    "\n",
    "# end process\n",
    "process.kill()\n",
    "time.sleep(60)"
   ]
  },
  {
   "cell_type": "markdown",
   "metadata": {},
   "source": [
    "#### Query on BioPAX export of Reactome from PathwayCommons"
   ]
  },
  {
   "cell_type": "code",
   "execution_count": 7,
   "metadata": {},
   "outputs": [
    {
     "name": "stderr",
     "output_type": "stream",
     "text": [
      "19:13:05 INFO  Server          :: Dataset: in-memory: load file: /home/cbeust/Projects/2024/BioPAX_Review/Compare_BioPAX_Files/PathwayCommonsFiles/PathwayCommons12.reactome.BIOPAX.owl\n",
      "19:13:06 WARN  riot            :: [line: 100212, col: 81] {W137} Input is large. Switching off checking for illegal reuse of rdf:ID's.\n",
      "19:13:25 INFO  Server          :: Dataset: in-memory: load file: /home/cbeust/Projects/2024/BioPAX_Review/BioPAX_Ontology/biopax-level3.owl\n",
      "19:13:25 INFO  Server          :: Running in read-only mode for /reactome_pc\n",
      "19:13:26 INFO  Server          :: Apache Jena Fuseki 4.9.0\n",
      "19:13:26 INFO  Config          :: FUSEKI_HOME=/home/cbeust/Softwares/JenaFuseki/apache-jena-fuseki-4.9.0\n",
      "19:13:26 INFO  Config          :: FUSEKI_BASE=/home/cbeust/Projects/2024/BioPAX_Review/BioPAXReview2024Codes/Figure4-5/Scripts/run\n",
      "19:13:26 INFO  Config          :: Shiro file: file:///home/cbeust/Projects/2024/BioPAX_Review/BioPAXReview2024Codes/Figure4-5/Scripts/run/shiro.ini\n",
      "19:13:26 INFO  Server          :: Database: in-memory, with files loaded\n",
      "19:13:26 INFO  Server          :: Path = /reactome_pc\n",
      "19:13:26 INFO  Server          ::   Memory: 16.0 GiB\n",
      "19:13:26 INFO  Server          ::   Java:   17.0.11\n",
      "19:13:26 INFO  Server          ::   OS:     Linux 6.8.9-100.fc38.x86_64 amd64\n",
      "19:13:26 INFO  Server          ::   PID:    69785\n",
      "19:13:26 INFO  Server          :: Started 2024/07/29 19:13:26 CEST on port 3030\n",
      "19:14:04 INFO  Fuseki          :: [1] GET http://localhost:3030/reactome_pc/query?query=%0APREFIX+rdf%3A+%3Chttp%3A//www.w3.org/1999/02/22-rdf-syntax-ns%23%3E%0APREFIX+rdfs%3A%3Chttp%3A//www.w3.org/2000/01/rdf-schema%23%3E%0APREFIX+owl%3A+%3Chttp%3A//www.w3.org/2002/07/owl%23%3E%0APREFIX+xsd%3A+%3Chttp%3A//www.w3.org/2001/XMLSchema%23%3E%0APREFIX+dc%3A+%3Chttp%3A//purl.org/dc/elements/1.1/%3E%0APREFIX+dcterms%3A+%3Chttp%3A//purl.org/dc/terms/%3E%0A%0APREFIX+chebi%3A+%3Chttp%3A//purl.obolibrary.org/obo/chebi/%3E%0APREFIX+chebidb%3A+%3Chttp%3A//purl.obolibrary.org/obo/CHEBI_%3E%0APREFIX+chebirel%3A+%3Chttp%3A//purl.obolibrary.org/obo/CHEBI%23%3E%0APREFIX+oboInOwl%3A+%3Chttp%3A//www.geneontology.org/formats/oboInOwl%23%3E%0A%0APREFIX+bp3%3A+%3Chttp%3A//www.biopax.org/release/biopax-level3.owl%23%3E%0A%0A%23+Homo_sapiens-20170221.owl%0A%23PREFIX+reactome%3A+%3Chttp%3A//www.reactome.org/biopax/59/48887%23%3E+%0A%23%0A%23+Homo_sapiens-20210608.owl%0A%23PREFIX+reactome%3A+%3Chttp%3A//www.reactome.org/biopax/77/48887%23%3E%0A%23%0A%23+Homo_sapiens-20220614.owl%0A%23PREFIX+reactome%3A+%3Chttp%3A//www.reactome.org/biopax/81/48887%23%3E%0A%23%0A%23+Homo_sapiens-20221130.owl%0A%23PREFIX+reactome%3A+%3Chttp%3A//www.reactome.org/biopax/83/48887%23%3E%0A%0APREFIX+reactome%3A+%3Chttp%3A//www.reactome.org/biopax/87/48887%23%3E%0A%0ASELECT+%3Fmetric+%3Fcount%0A%23+Number+of+instances+of+Protein%0AWHERE+%7B%0A++++%7B%0A++++++++SELECT+%3Fmetric+%28COUNT%28DISTINCT+%3Fprotein%29+AS+%3Fcount%29%0A++++++++WHERE+%7B%0A++++++++++++BIND%28%22Protein%22+AS+%3Fmetric%29%0A++++++++++++%3Fprotein+rdf%3Atype/%28rdfs%3AsubClassOf%2A%29+bp3%3AProtein+.%0A++++++++%7D%0A++++++++GROUP+BY+%3Fmetric%0A++++%7D%0A++++UNION%0A++++%7B%0A++++++++SELECT+%3Fmetric+%28COUNT%28DISTINCT+%3Fprotein_ref%29+AS+%3Fcount%29%0A++++++++WHERE+%7B%0A++++++++++++BIND%28%22ProteinReference%22+AS+%3Fmetric%29%0A++++++++++++%3Fprotein_ref+rdf%3Atype+bp3%3AProteinReference+.%0A++++++++%7D%0A++++++++GROUP+BY+%3Fmetric%0A++++%7D%0A++++UNION%0A++++%7B%0A++++++++SELECT+%3Fmetric+%28COUNT%28DISTINCT+%3Fprotein_without_ref%29+AS+%3Fcount%29%0A++++++++WHERE+%7B%0A++++++BIND%28%22Protein+with+no+PR%22+AS+%3Fmetric%29%0A++++++OPTIONAL+%7B%0A++++++++++++%3Fprotein_without_ref+rdf%3Atype/%28rdfs%3AsubClassOf%2A%29+bp3%3AProtein+.%0A++++++++++++FILTER+NOT+EXISTS+%7B%0A++++++++++++++++%3Fprotein_without_ref+bp3%3AentityReference+%3Fref+.%0A++++++++++++++++%3Fref+rdf%3Atype+bp3%3AProteinReference+.%0A++++++++++++%7D%0A++++++++%7D%0A++++%7D%0A++++++++GROUP+BY+%3Fmetric%0A++++%7D%0A++++UNION%0A++++%7B%0A++++++++SELECT+%3Fmetric+%28COUNT%28DISTINCT+%3Fprotein_that_map_to_uniprot%29+AS+%3Fcount%29%0A++++++++WHERE+%7B%0A++++++++++++BIND%28%22Uniprot+mappings%22+AS+%3Fmetric%29%0A++++++++++++%3Fprotein_that_map_to_uniprot+rdf%3Atype+bp3%3AProtein+.%0A++++++++++++%3Fprotein_that_map_to_uniprot+bp3%3AentityReference+%3Fprotein_ref+.%0A++++++++++++%3Fprotein_ref+rdf%3Atype+bp3%3AProteinReference+.%0A++++++++++++%3Fprotein_ref+bp3%3Axref+%3Fprotein_ref_xref+.%0A++++++++++++%3Fprotein_ref_xref+rdf%3Atype+bp3%3AUnificationXref+.%0A++++++++++++%3Fprotein_ref_xref+bp3%3Adb+%22uniprot+knowledgebase%22+.%0A++++++++++++%3Fprotein_ref_xref+bp3%3Aid+%3Fup_id+.%0A++++++++%7D%0A++++++++GROUP+BY+%3Fmetric%0A++++%7D%0A++++UNION+%0A++++%7B%0A++++++++SELECT+%3Fmetric+%28COUNT%28DISTINCT+%3Fprotein_no_map_to_uniprot%29+AS+%3Fcount%29%0A++++++++WHERE+%7B%0A++++++++++++BIND%28%22Protein+with+no+mapping%22+AS+%3Fmetric%29%0A++++++++++++%3Fprotein_no_map_to_uniprot+rdf%3Atype/%28rdfs%3AsubClassOf%2A%29+bp3%3AProtein+.%0A++++++++++++%3Fprotein_no_map_to_uniprot+bp3%3AentityReference+%3Fprotein_ref+.%0A++++++++++++FILTER+NOT+EXISTS+%7B%0A++++++++++++++++%3Fprotein_ref+bp3%3Axref+%3Fxref+.%0A++++++++++++++++%3Fxref+rdf%3Atype+bp3%3AUnificationXref+.%0A++++++++++++++++%3Fxref+bp3%3Adb+%22uniprot+knowledgebase%22+.%0A++++++++++++++++%3Fxref+bp3%3Aid+%3Fid+.%0A++++++++++++%7D%0A++++++++%7D%0A++++++++GROUP+BY+%3Fmetric%0A++++%7D%0A++++UNION+%0A++++%7B%0A++++++++SELECT+%3Fmetric+%28COUNT%28DISTINCT+%3Fup_id%29+AS+%3Fcount%29%0A++++++++WHERE+%7B%0A++++++++++++BIND%28%22Unique+Uniprot%22+AS+%3Fmetric%29%0A++++++++++++%3Funif_xref+rdf%3Atype+bp3%3AUnificationXref+.%0A++++++++++++%3Funif_xref+bp3%3Adb+%22uniprot+knowledgebase%22+.%0A++++++++++++%3Funif_xref+bp3%3Aid+%3Fup_id+.%0A++++++++%7D%0A++++++++GROUP+BY+%3Fmetric%0A++++%7D%0A%7D%0AORDER+BY+%3Fmetric%0A%0A&format=json&output=json&results=json\n",
      "19:14:04 INFO  Fuseki          :: [1] Query =  PREFIX rdf: <http://www.w3.org/1999/02/22-rdf-syntax-ns#> PREFIX rdfs:<http://www.w3.org/2000/01/rdf-schema#> PREFIX owl: <http://www.w3.org/2002/07/owl#> PREFIX xsd: <http://www.w3.org/2001/XMLSchema#> PREFIX dc: <http://purl.org/dc/elements/1.1/> PREFIX dcterms: <http://purl.org/dc/terms/>  PREFIX chebi: <http://purl.obolibrary.org/obo/chebi/> PREFIX chebidb: <http://purl.obolibrary.org/obo/CHEBI_> PREFIX chebirel: <http://purl.obolibrary.org/obo/CHEBI#> PREFIX oboInOwl: <http://www.geneontology.org/formats/oboInOwl#>  PREFIX bp3: <http://www.biopax.org/release/biopax-level3.owl#>  # Homo_sapiens-20170221.owl #PREFIX reactome: <http://www.reactome.org/biopax/59/48887#>  # # Homo_sapiens-20210608.owl #PREFIX reactome: <http://www.reactome.org/biopax/77/48887#> # # Homo_sapiens-20220614.owl #PREFIX reactome: <http://www.reactome.org/biopax/81/48887#> # # Homo_sapiens-20221130.owl #PREFIX reactome: <http://www.reactome.org/biopax/83/48887#>  PREFIX reactome: <http://www.reactome.org/biopax/87/48887#>  SELECT ?metric ?count # Number of instances of Protein WHERE {     {         SELECT ?metric (COUNT(DISTINCT ?protein) AS ?count)         WHERE {             BIND(\"Protein\" AS ?metric)             ?protein rdf:type/(rdfs:subClassOf*) bp3:Protein .         }         GROUP BY ?metric     }     UNION     {         SELECT ?metric (COUNT(DISTINCT ?protein_ref) AS ?count)         WHERE {             BIND(\"ProteinReference\" AS ?metric)             ?protein_ref rdf:type bp3:ProteinReference .         }         GROUP BY ?metric     }     UNION     {         SELECT ?metric (COUNT(DISTINCT ?protein_without_ref) AS ?count)         WHERE {       BIND(\"Protein with no PR\" AS ?metric)       OPTIONAL {             ?protein_without_ref rdf:type/(rdfs:subClassOf*) bp3:Protein .             FILTER NOT EXISTS {                 ?protein_without_ref bp3:entityReference ?ref .                 ?ref rdf:type bp3:ProteinReference .             }         }     }         GROUP BY ?metric     }     UNION     {         SELECT ?metric (COUNT(DISTINCT ?protein_that_map_to_uniprot) AS ?count)         WHERE {             BIND(\"Uniprot mappings\" AS ?metric)             ?protein_that_map_to_uniprot rdf:type bp3:Protein .             ?protein_that_map_to_uniprot bp3:entityReference ?protein_ref .             ?protein_ref rdf:type bp3:ProteinReference .             ?protein_ref bp3:xref ?protein_ref_xref .             ?protein_ref_xref rdf:type bp3:UnificationXref .             ?protein_ref_xref bp3:db \"uniprot knowledgebase\" .             ?protein_ref_xref bp3:id ?up_id .         }         GROUP BY ?metric     }     UNION      {         SELECT ?metric (COUNT(DISTINCT ?protein_no_map_to_uniprot) AS ?count)         WHERE {             BIND(\"Protein with no mapping\" AS ?metric)             ?protein_no_map_to_uniprot rdf:type/(rdfs:subClassOf*) bp3:Protein .             ?protein_no_map_to_uniprot bp3:entityReference ?protein_ref .             FILTER NOT EXISTS {                 ?protein_ref bp3:xref ?xref .                 ?xref rdf:type bp3:UnificationXref .                 ?xref bp3:db \"uniprot knowledgebase\" .                 ?xref bp3:id ?id .             }         }         GROUP BY ?metric     }     UNION      {         SELECT ?metric (COUNT(DISTINCT ?up_id) AS ?count)         WHERE {             BIND(\"Unique Uniprot\" AS ?metric)             ?unif_xref rdf:type bp3:UnificationXref .             ?unif_xref bp3:db \"uniprot knowledgebase\" .             ?unif_xref bp3:id ?up_id .         }         GROUP BY ?metric     } } ORDER BY ?metric  \n",
      "19:14:06 INFO  Fuseki          :: [1] 200 OK (1.474 s)\n"
     ]
    },
    {
     "data": {
      "text/html": [
       "<table><tr><th>metric</th><th>count</th></tr><tr><td>Protein</td><td>26582</td></tr><tr><td>Protein with no PR</td><td>0</td></tr><tr><td>Protein with no mapping</td><td>2866</td></tr><tr><td>ProteinReference</td><td>12836</td></tr><tr><td>Uniprot mappings</td><td>23716</td></tr><tr><td>Unique Uniprot</td><td>10973</td></tr></table>"
      ],
      "text/plain": [
       "<IPython.core.display.HTML object>"
      ]
     },
     "metadata": {},
     "output_type": "display_data"
    },
    {
     "name": "stderr",
     "output_type": "stream",
     "text": [
      "19:14:06 INFO  Fuseki          :: [2] GET http://localhost:3030/reactome_pc/query?query=%0APREFIX+rdf%3A+%3Chttp%3A//www.w3.org/1999/02/22-rdf-syntax-ns%23%3E%0APREFIX+rdfs%3A%3Chttp%3A//www.w3.org/2000/01/rdf-schema%23%3E%0APREFIX+owl%3A+%3Chttp%3A//www.w3.org/2002/07/owl%23%3E%0APREFIX+xsd%3A+%3Chttp%3A//www.w3.org/2001/XMLSchema%23%3E%0APREFIX+dc%3A+%3Chttp%3A//purl.org/dc/elements/1.1/%3E%0APREFIX+dcterms%3A+%3Chttp%3A//purl.org/dc/terms/%3E%0A%0APREFIX+chebi%3A+%3Chttp%3A//purl.obolibrary.org/obo/chebi/%3E%0APREFIX+chebidb%3A+%3Chttp%3A//purl.obolibrary.org/obo/CHEBI_%3E%0APREFIX+chebirel%3A+%3Chttp%3A//purl.obolibrary.org/obo/CHEBI%23%3E%0APREFIX+oboInOwl%3A+%3Chttp%3A//www.geneontology.org/formats/oboInOwl%23%3E%0A%0APREFIX+bp3%3A+%3Chttp%3A//www.biopax.org/release/biopax-level3.owl%23%3E%0A%0A%23+Homo_sapiens-20170221.owl%0A%23PREFIX+reactome%3A+%3Chttp%3A//www.reactome.org/biopax/59/48887%23%3E+%0A%23%0A%23+Homo_sapiens-20210608.owl%0A%23PREFIX+reactome%3A+%3Chttp%3A//www.reactome.org/biopax/77/48887%23%3E%0A%23%0A%23+Homo_sapiens-20220614.owl%0A%23PREFIX+reactome%3A+%3Chttp%3A//www.reactome.org/biopax/81/48887%23%3E%0A%23%0A%23+Homo_sapiens-20221130.owl%0A%23PREFIX+reactome%3A+%3Chttp%3A//www.reactome.org/biopax/83/48887%23%3E%0A%0APREFIX+reactome%3A+%3Chttp%3A//www.reactome.org/biopax/87/48887%23%3E%0A%0ASELECT+%3Fmetric+%3Fcount%0A%23+Number+of+instances+of+Protein%0AWHERE+%7B%0A++++%7B%0A++++++++SELECT+%3Fmetric+%28COUNT%28DISTINCT+%3Fprotein%29+AS+%3Fcount%29%0A++++++++WHERE+%7B%0A++++++++++++BIND%28%22Protein%22+AS+%3Fmetric%29%0A++++++++++++%3Fprotein+rdf%3Atype/%28rdfs%3AsubClassOf%2A%29+bp3%3AProtein+.%0A++++++++%7D%0A++++++++GROUP+BY+%3Fmetric%0A++++%7D%0A++++UNION%0A++++%7B%0A++++++++SELECT+%3Fmetric+%28COUNT%28DISTINCT+%3Fprotein_ref%29+AS+%3Fcount%29%0A++++++++WHERE+%7B%0A++++++++++++BIND%28%22ProteinReference%22+AS+%3Fmetric%29%0A++++++++++++%3Fprotein_ref+rdf%3Atype+bp3%3AProteinReference+.%0A++++++++%7D%0A++++++++GROUP+BY+%3Fmetric%0A++++%7D%0A++++UNION%0A++++%7B%0A++++++++SELECT+%3Fmetric+%28COUNT%28DISTINCT+%3Fprotein_without_ref%29+AS+%3Fcount%29%0A++++++++WHERE+%7B%0A++++++BIND%28%22Protein+with+no+PR%22+AS+%3Fmetric%29%0A++++++OPTIONAL+%7B%0A++++++++++++%3Fprotein_without_ref+rdf%3Atype/%28rdfs%3AsubClassOf%2A%29+bp3%3AProtein+.%0A++++++++++++FILTER+NOT+EXISTS+%7B%0A++++++++++++++++%3Fprotein_without_ref+bp3%3AentityReference+%3Fref+.%0A++++++++++++++++%3Fref+rdf%3Atype+bp3%3AProteinReference+.%0A++++++++++++%7D%0A++++++++%7D%0A++++%7D%0A++++++++GROUP+BY+%3Fmetric%0A++++%7D%0A++++UNION%0A++++%7B%0A++++++++SELECT+%3Fmetric+%28COUNT%28DISTINCT+%3Fprotein_that_map_to_uniprot%29+AS+%3Fcount%29%0A++++++++WHERE+%7B%0A++++++++++++BIND%28%22Uniprot+mappings%22+AS+%3Fmetric%29%0A++++++++++++%3Fprotein_that_map_to_uniprot+rdf%3Atype+bp3%3AProtein+.%0A++++++++++++%3Fprotein_that_map_to_uniprot+bp3%3AentityReference+%3Fprotein_ref+.%0A++++++++++++%3Fprotein_ref+rdf%3Atype+bp3%3AProteinReference+.%0A++++++++++++%3Fprotein_ref+bp3%3Axref+%3Fprotein_ref_xref+.%0A++++++++++++%3Fprotein_ref_xref+rdf%3Atype+bp3%3AUnificationXref+.%0A++++++++++++%3Fprotein_ref_xref+bp3%3Adb+%22uniprot+knowledgebase%22+.%0A++++++++++++%3Fprotein_ref_xref+bp3%3Aid+%3Fup_id+.%0A++++++++%7D%0A++++++++GROUP+BY+%3Fmetric%0A++++%7D%0A++++UNION+%0A++++%7B%0A++++++++SELECT+%3Fmetric+%28COUNT%28DISTINCT+%3Fprotein_no_map_to_uniprot%29+AS+%3Fcount%29%0A++++++++WHERE+%7B%0A++++++++++++BIND%28%22Protein+with+no+mapping%22+AS+%3Fmetric%29%0A++++++++++++%3Fprotein_no_map_to_uniprot+rdf%3Atype/%28rdfs%3AsubClassOf%2A%29+bp3%3AProtein+.%0A++++++++++++%3Fprotein_no_map_to_uniprot+bp3%3AentityReference+%3Fprotein_ref+.%0A++++++++++++FILTER+NOT+EXISTS+%7B%0A++++++++++++++++%3Fprotein_ref+bp3%3Axref+%3Fxref+.%0A++++++++++++++++%3Fxref+rdf%3Atype+bp3%3AUnificationXref+.%0A++++++++++++++++%3Fxref+bp3%3Adb+%22uniprot+knowledgebase%22+.%0A++++++++++++++++%3Fxref+bp3%3Aid+%3Fid+.%0A++++++++++++%7D%0A++++++++%7D%0A++++++++GROUP+BY+%3Fmetric%0A++++%7D%0A++++UNION+%0A++++%7B%0A++++++++SELECT+%3Fmetric+%28COUNT%28DISTINCT+%3Fup_id%29+AS+%3Fcount%29%0A++++++++WHERE+%7B%0A++++++++++++BIND%28%22Unique+Uniprot%22+AS+%3Fmetric%29%0A++++++++++++%3Funif_xref+rdf%3Atype+bp3%3AUnificationXref+.%0A++++++++++++%3Funif_xref+bp3%3Adb+%22uniprot+knowledgebase%22+.%0A++++++++++++%3Funif_xref+bp3%3Aid+%3Fup_id+.%0A++++++++%7D%0A++++++++GROUP+BY+%3Fmetric%0A++++%7D%0A%7D%0AORDER+BY+%3Fmetric%0A%0A&format=csv&output=csv&results=csv\n",
      "19:14:06 INFO  Fuseki          :: [2] Query =  PREFIX rdf: <http://www.w3.org/1999/02/22-rdf-syntax-ns#> PREFIX rdfs:<http://www.w3.org/2000/01/rdf-schema#> PREFIX owl: <http://www.w3.org/2002/07/owl#> PREFIX xsd: <http://www.w3.org/2001/XMLSchema#> PREFIX dc: <http://purl.org/dc/elements/1.1/> PREFIX dcterms: <http://purl.org/dc/terms/>  PREFIX chebi: <http://purl.obolibrary.org/obo/chebi/> PREFIX chebidb: <http://purl.obolibrary.org/obo/CHEBI_> PREFIX chebirel: <http://purl.obolibrary.org/obo/CHEBI#> PREFIX oboInOwl: <http://www.geneontology.org/formats/oboInOwl#>  PREFIX bp3: <http://www.biopax.org/release/biopax-level3.owl#>  # Homo_sapiens-20170221.owl #PREFIX reactome: <http://www.reactome.org/biopax/59/48887#>  # # Homo_sapiens-20210608.owl #PREFIX reactome: <http://www.reactome.org/biopax/77/48887#> # # Homo_sapiens-20220614.owl #PREFIX reactome: <http://www.reactome.org/biopax/81/48887#> # # Homo_sapiens-20221130.owl #PREFIX reactome: <http://www.reactome.org/biopax/83/48887#>  PREFIX reactome: <http://www.reactome.org/biopax/87/48887#>  SELECT ?metric ?count # Number of instances of Protein WHERE {     {         SELECT ?metric (COUNT(DISTINCT ?protein) AS ?count)         WHERE {             BIND(\"Protein\" AS ?metric)             ?protein rdf:type/(rdfs:subClassOf*) bp3:Protein .         }         GROUP BY ?metric     }     UNION     {         SELECT ?metric (COUNT(DISTINCT ?protein_ref) AS ?count)         WHERE {             BIND(\"ProteinReference\" AS ?metric)             ?protein_ref rdf:type bp3:ProteinReference .         }         GROUP BY ?metric     }     UNION     {         SELECT ?metric (COUNT(DISTINCT ?protein_without_ref) AS ?count)         WHERE {       BIND(\"Protein with no PR\" AS ?metric)       OPTIONAL {             ?protein_without_ref rdf:type/(rdfs:subClassOf*) bp3:Protein .             FILTER NOT EXISTS {                 ?protein_without_ref bp3:entityReference ?ref .                 ?ref rdf:type bp3:ProteinReference .             }         }     }         GROUP BY ?metric     }     UNION     {         SELECT ?metric (COUNT(DISTINCT ?protein_that_map_to_uniprot) AS ?count)         WHERE {             BIND(\"Uniprot mappings\" AS ?metric)             ?protein_that_map_to_uniprot rdf:type bp3:Protein .             ?protein_that_map_to_uniprot bp3:entityReference ?protein_ref .             ?protein_ref rdf:type bp3:ProteinReference .             ?protein_ref bp3:xref ?protein_ref_xref .             ?protein_ref_xref rdf:type bp3:UnificationXref .             ?protein_ref_xref bp3:db \"uniprot knowledgebase\" .             ?protein_ref_xref bp3:id ?up_id .         }         GROUP BY ?metric     }     UNION      {         SELECT ?metric (COUNT(DISTINCT ?protein_no_map_to_uniprot) AS ?count)         WHERE {             BIND(\"Protein with no mapping\" AS ?metric)             ?protein_no_map_to_uniprot rdf:type/(rdfs:subClassOf*) bp3:Protein .             ?protein_no_map_to_uniprot bp3:entityReference ?protein_ref .             FILTER NOT EXISTS {                 ?protein_ref bp3:xref ?xref .                 ?xref rdf:type bp3:UnificationXref .                 ?xref bp3:db \"uniprot knowledgebase\" .                 ?xref bp3:id ?id .             }         }         GROUP BY ?metric     }     UNION      {         SELECT ?metric (COUNT(DISTINCT ?up_id) AS ?count)         WHERE {             BIND(\"Unique Uniprot\" AS ?metric)             ?unif_xref rdf:type bp3:UnificationXref .             ?unif_xref bp3:db \"uniprot knowledgebase\" .             ?unif_xref bp3:id ?up_id .         }         GROUP BY ?metric     } } ORDER BY ?metric  \n",
      "19:14:06 INFO  Fuseki          :: [2] 200 OK (401 ms)\n"
     ]
    }
   ],
   "source": [
    "# TODO: change path\n",
    "command = [\n",
    "    '/home/cbeust/Softwares/JenaFuseki/apache-jena-fuseki-4.9.0/fuseki-server',\n",
    "    '--file', '/home/cbeust/Projects/2024/BioPAX_Review/Compare_BioPAX_Files/PathwayCommonsFiles/PathwayCommons12.reactome.BIOPAX.owl',\n",
    "    '--file', '/home/cbeust/Projects/2024/BioPAX_Review/BioPAX_Ontology/biopax-level3.owl',\n",
    "    '/reactome_pc']\n",
    "process = subprocess.Popen(command)\n",
    "time.sleep(60)\n",
    "\n",
    "# execute SPARQL query\n",
    "sparql = SPARQLWrapper(endpointURL_reactome_pc)\n",
    "sparql.setQuery(prefixes+query2)\n",
    "\n",
    "# display results\n",
    "sparql.setReturnFormat(JSON)\n",
    "results = sparql.query().convert()\n",
    "displaySparqlResults(results)\n",
    "\n",
    "# export to CSV\n",
    "sparql.setReturnFormat(CSV)\n",
    "results = sparql.query().convert()\n",
    "with open(f\"../Results/reactome_pc_mappings_uniprot.csv\", \"wb\") as f:\n",
    "    f.write(results)\n",
    "\n",
    "# end process    \n",
    "process.kill()\n",
    "time.sleep(60)"
   ]
  },
  {
   "cell_type": "markdown",
   "metadata": {},
   "source": [
    "#### Query on BioPAX export of Panther from PathwayCommons"
   ]
  },
  {
   "cell_type": "code",
   "execution_count": 8,
   "metadata": {},
   "outputs": [
    {
     "name": "stderr",
     "output_type": "stream",
     "text": [
      "19:15:07 INFO  Server          :: Dataset: in-memory: load file: /home/cbeust/Projects/2024/BioPAX_Review/Compare_BioPAX_Files/PathwayCommonsFiles/PathwayCommons12.panther.BIOPAX.owl\n",
      "19:15:08 WARN  riot            :: [line: 80968, col: 73] {W137} Input is large. Switching off checking for illegal reuse of rdf:ID's.\n",
      "19:15:10 INFO  Server          :: Dataset: in-memory: load file: /home/cbeust/Projects/2024/BioPAX_Review/BioPAX_Ontology/biopax-level3.owl\n",
      "19:15:10 INFO  Server          :: Running in read-only mode for /panther_pc\n",
      "19:15:10 INFO  Server          :: Apache Jena Fuseki 4.9.0\n",
      "19:15:10 INFO  Config          :: FUSEKI_HOME=/home/cbeust/Softwares/JenaFuseki/apache-jena-fuseki-4.9.0\n",
      "19:15:10 INFO  Config          :: FUSEKI_BASE=/home/cbeust/Projects/2024/BioPAX_Review/BioPAXReview2024Codes/Figure4-5/Scripts/run\n",
      "19:15:10 INFO  Config          :: Shiro file: file:///home/cbeust/Projects/2024/BioPAX_Review/BioPAXReview2024Codes/Figure4-5/Scripts/run/shiro.ini\n",
      "19:15:10 INFO  Server          :: Database: in-memory, with files loaded\n",
      "19:15:10 INFO  Server          :: Path = /panther_pc\n",
      "19:15:10 INFO  Server          ::   Memory: 16.0 GiB\n",
      "19:15:10 INFO  Server          ::   Java:   17.0.11\n",
      "19:15:10 INFO  Server          ::   OS:     Linux 6.8.9-100.fc38.x86_64 amd64\n",
      "19:15:10 INFO  Server          ::   PID:    70403\n",
      "19:15:10 INFO  Server          :: Started 2024/07/29 19:15:10 CEST on port 3030\n",
      "19:16:06 INFO  Fuseki          :: [1] GET http://localhost:3030/panther_pc/query?query=%0APREFIX+rdf%3A+%3Chttp%3A//www.w3.org/1999/02/22-rdf-syntax-ns%23%3E%0APREFIX+rdfs%3A%3Chttp%3A//www.w3.org/2000/01/rdf-schema%23%3E%0APREFIX+owl%3A+%3Chttp%3A//www.w3.org/2002/07/owl%23%3E%0APREFIX+xsd%3A+%3Chttp%3A//www.w3.org/2001/XMLSchema%23%3E%0APREFIX+dc%3A+%3Chttp%3A//purl.org/dc/elements/1.1/%3E%0APREFIX+dcterms%3A+%3Chttp%3A//purl.org/dc/terms/%3E%0A%0APREFIX+chebi%3A+%3Chttp%3A//purl.obolibrary.org/obo/chebi/%3E%0APREFIX+chebidb%3A+%3Chttp%3A//purl.obolibrary.org/obo/CHEBI_%3E%0APREFIX+chebirel%3A+%3Chttp%3A//purl.obolibrary.org/obo/CHEBI%23%3E%0APREFIX+oboInOwl%3A+%3Chttp%3A//www.geneontology.org/formats/oboInOwl%23%3E%0A%0APREFIX+bp3%3A+%3Chttp%3A//www.biopax.org/release/biopax-level3.owl%23%3E%0A%0A%23+Homo_sapiens-20170221.owl%0A%23PREFIX+reactome%3A+%3Chttp%3A//www.reactome.org/biopax/59/48887%23%3E+%0A%23%0A%23+Homo_sapiens-20210608.owl%0A%23PREFIX+reactome%3A+%3Chttp%3A//www.reactome.org/biopax/77/48887%23%3E%0A%23%0A%23+Homo_sapiens-20220614.owl%0A%23PREFIX+reactome%3A+%3Chttp%3A//www.reactome.org/biopax/81/48887%23%3E%0A%23%0A%23+Homo_sapiens-20221130.owl%0A%23PREFIX+reactome%3A+%3Chttp%3A//www.reactome.org/biopax/83/48887%23%3E%0A%0APREFIX+reactome%3A+%3Chttp%3A//www.reactome.org/biopax/87/48887%23%3E%0A%0ASELECT+%3Fmetric+%3Fcount%0A%23+Number+of+instances+of+Protein%0AWHERE+%7B%0A++++%7B%0A++++++++SELECT+%3Fmetric+%28COUNT%28DISTINCT+%3Fprotein%29+AS+%3Fcount%29%0A++++++++WHERE+%7B%0A++++++++++++BIND%28%22Protein%22+AS+%3Fmetric%29%0A++++++++++++%3Fprotein+rdf%3Atype/%28rdfs%3AsubClassOf%2A%29+bp3%3AProtein+.%0A++++++++%7D%0A++++++++GROUP+BY+%3Fmetric%0A++++%7D%0A++++UNION%0A++++%7B%0A++++++++SELECT+%3Fmetric+%28COUNT%28DISTINCT+%3Fprotein_ref%29+AS+%3Fcount%29%0A++++++++WHERE+%7B%0A++++++++++++BIND%28%22ProteinReference%22+AS+%3Fmetric%29%0A++++++++++++%3Fprotein_ref+rdf%3Atype+bp3%3AProteinReference+.%0A++++++++%7D%0A++++++++GROUP+BY+%3Fmetric%0A++++%7D%0A++++UNION%0A++++%7B%0A++++++++SELECT+%3Fmetric+%28COUNT%28DISTINCT+%3Fprotein_without_ref%29+AS+%3Fcount%29%0A++++++++WHERE+%7B%0A++++++BIND%28%22Protein+with+no+PR%22+AS+%3Fmetric%29%0A++++++OPTIONAL+%7B%0A++++++++++++%3Fprotein_without_ref+rdf%3Atype/%28rdfs%3AsubClassOf%2A%29+bp3%3AProtein+.%0A++++++++++++FILTER+NOT+EXISTS+%7B%0A++++++++++++++++%3Fprotein_without_ref+bp3%3AentityReference+%3Fref+.%0A++++++++++++++++%3Fref+rdf%3Atype+bp3%3AProteinReference+.%0A++++++++++++%7D%0A++++++++%7D%0A++++%7D%0A++++++++GROUP+BY+%3Fmetric%0A++++%7D%0A++++UNION%0A++++%7B%0A++++++++SELECT+%3Fmetric+%28COUNT%28DISTINCT+%3Fprotein_that_map_to_uniprot%29+AS+%3Fcount%29%0A++++++++WHERE+%7B%0A++++++++++++BIND%28%22Uniprot+mappings%22+AS+%3Fmetric%29%0A++++++++++++%3Fprotein_that_map_to_uniprot+rdf%3Atype+bp3%3AProtein+.%0A++++++++++++%3Fprotein_that_map_to_uniprot+bp3%3AentityReference+%3Fprotein_ref+.%0A++++++++++++%3Fprotein_ref+rdf%3Atype+bp3%3AProteinReference+.%0A++++++++++++%3Fprotein_ref+bp3%3Axref+%3Fprotein_ref_xref+.%0A++++++++++++%3Fprotein_ref_xref+rdf%3Atype+bp3%3AUnificationXref+.%0A++++++++++++%3Fprotein_ref_xref+bp3%3Adb+%22uniprot+knowledgebase%22+.%0A++++++++++++%3Fprotein_ref_xref+bp3%3Aid+%3Fup_id+.%0A++++++++%7D%0A++++++++GROUP+BY+%3Fmetric%0A++++%7D%0A++++UNION+%0A++++%7B%0A++++++++SELECT+%3Fmetric+%28COUNT%28DISTINCT+%3Fprotein_no_map_to_uniprot%29+AS+%3Fcount%29%0A++++++++WHERE+%7B%0A++++++++++++BIND%28%22Protein+with+no+mapping%22+AS+%3Fmetric%29%0A++++++++++++%3Fprotein_no_map_to_uniprot+rdf%3Atype/%28rdfs%3AsubClassOf%2A%29+bp3%3AProtein+.%0A++++++++++++%3Fprotein_no_map_to_uniprot+bp3%3AentityReference+%3Fprotein_ref+.%0A++++++++++++FILTER+NOT+EXISTS+%7B%0A++++++++++++++++%3Fprotein_ref+bp3%3Axref+%3Fxref+.%0A++++++++++++++++%3Fxref+rdf%3Atype+bp3%3AUnificationXref+.%0A++++++++++++++++%3Fxref+bp3%3Adb+%22uniprot+knowledgebase%22+.%0A++++++++++++++++%3Fxref+bp3%3Aid+%3Fid+.%0A++++++++++++%7D%0A++++++++%7D%0A++++++++GROUP+BY+%3Fmetric%0A++++%7D%0A++++UNION+%0A++++%7B%0A++++++++SELECT+%3Fmetric+%28COUNT%28DISTINCT+%3Fup_id%29+AS+%3Fcount%29%0A++++++++WHERE+%7B%0A++++++++++++BIND%28%22Unique+Uniprot%22+AS+%3Fmetric%29%0A++++++++++++%3Funif_xref+rdf%3Atype+bp3%3AUnificationXref+.%0A++++++++++++%3Funif_xref+bp3%3Adb+%22uniprot+knowledgebase%22+.%0A++++++++++++%3Funif_xref+bp3%3Aid+%3Fup_id+.%0A++++++++%7D%0A++++++++GROUP+BY+%3Fmetric%0A++++%7D%0A%7D%0AORDER+BY+%3Fmetric%0A%0A&format=json&output=json&results=json\n",
      "19:16:06 INFO  Fuseki          :: [1] Query =  PREFIX rdf: <http://www.w3.org/1999/02/22-rdf-syntax-ns#> PREFIX rdfs:<http://www.w3.org/2000/01/rdf-schema#> PREFIX owl: <http://www.w3.org/2002/07/owl#> PREFIX xsd: <http://www.w3.org/2001/XMLSchema#> PREFIX dc: <http://purl.org/dc/elements/1.1/> PREFIX dcterms: <http://purl.org/dc/terms/>  PREFIX chebi: <http://purl.obolibrary.org/obo/chebi/> PREFIX chebidb: <http://purl.obolibrary.org/obo/CHEBI_> PREFIX chebirel: <http://purl.obolibrary.org/obo/CHEBI#> PREFIX oboInOwl: <http://www.geneontology.org/formats/oboInOwl#>  PREFIX bp3: <http://www.biopax.org/release/biopax-level3.owl#>  # Homo_sapiens-20170221.owl #PREFIX reactome: <http://www.reactome.org/biopax/59/48887#>  # # Homo_sapiens-20210608.owl #PREFIX reactome: <http://www.reactome.org/biopax/77/48887#> # # Homo_sapiens-20220614.owl #PREFIX reactome: <http://www.reactome.org/biopax/81/48887#> # # Homo_sapiens-20221130.owl #PREFIX reactome: <http://www.reactome.org/biopax/83/48887#>  PREFIX reactome: <http://www.reactome.org/biopax/87/48887#>  SELECT ?metric ?count # Number of instances of Protein WHERE {     {         SELECT ?metric (COUNT(DISTINCT ?protein) AS ?count)         WHERE {             BIND(\"Protein\" AS ?metric)             ?protein rdf:type/(rdfs:subClassOf*) bp3:Protein .         }         GROUP BY ?metric     }     UNION     {         SELECT ?metric (COUNT(DISTINCT ?protein_ref) AS ?count)         WHERE {             BIND(\"ProteinReference\" AS ?metric)             ?protein_ref rdf:type bp3:ProteinReference .         }         GROUP BY ?metric     }     UNION     {         SELECT ?metric (COUNT(DISTINCT ?protein_without_ref) AS ?count)         WHERE {       BIND(\"Protein with no PR\" AS ?metric)       OPTIONAL {             ?protein_without_ref rdf:type/(rdfs:subClassOf*) bp3:Protein .             FILTER NOT EXISTS {                 ?protein_without_ref bp3:entityReference ?ref .                 ?ref rdf:type bp3:ProteinReference .             }         }     }         GROUP BY ?metric     }     UNION     {         SELECT ?metric (COUNT(DISTINCT ?protein_that_map_to_uniprot) AS ?count)         WHERE {             BIND(\"Uniprot mappings\" AS ?metric)             ?protein_that_map_to_uniprot rdf:type bp3:Protein .             ?protein_that_map_to_uniprot bp3:entityReference ?protein_ref .             ?protein_ref rdf:type bp3:ProteinReference .             ?protein_ref bp3:xref ?protein_ref_xref .             ?protein_ref_xref rdf:type bp3:UnificationXref .             ?protein_ref_xref bp3:db \"uniprot knowledgebase\" .             ?protein_ref_xref bp3:id ?up_id .         }         GROUP BY ?metric     }     UNION      {         SELECT ?metric (COUNT(DISTINCT ?protein_no_map_to_uniprot) AS ?count)         WHERE {             BIND(\"Protein with no mapping\" AS ?metric)             ?protein_no_map_to_uniprot rdf:type/(rdfs:subClassOf*) bp3:Protein .             ?protein_no_map_to_uniprot bp3:entityReference ?protein_ref .             FILTER NOT EXISTS {                 ?protein_ref bp3:xref ?xref .                 ?xref rdf:type bp3:UnificationXref .                 ?xref bp3:db \"uniprot knowledgebase\" .                 ?xref bp3:id ?id .             }         }         GROUP BY ?metric     }     UNION      {         SELECT ?metric (COUNT(DISTINCT ?up_id) AS ?count)         WHERE {             BIND(\"Unique Uniprot\" AS ?metric)             ?unif_xref rdf:type bp3:UnificationXref .             ?unif_xref bp3:db \"uniprot knowledgebase\" .             ?unif_xref bp3:id ?up_id .         }         GROUP BY ?metric     } } ORDER BY ?metric  \n",
      "19:16:07 INFO  Fuseki          :: [1] 200 OK (651 ms)\n"
     ]
    },
    {
     "data": {
      "text/html": [
       "<table><tr><th>metric</th><th>count</th></tr><tr><td>Protein</td><td>5342</td></tr><tr><td>Protein with no PR</td><td>0</td></tr><tr><td>Protein with no mapping</td><td>3014</td></tr><tr><td>ProteinReference</td><td>3878</td></tr><tr><td>Uniprot mappings</td><td>2328</td></tr><tr><td>Unique Uniprot</td><td>2171</td></tr></table>"
      ],
      "text/plain": [
       "<IPython.core.display.HTML object>"
      ]
     },
     "metadata": {},
     "output_type": "display_data"
    },
    {
     "name": "stderr",
     "output_type": "stream",
     "text": [
      "19:16:07 INFO  Fuseki          :: [2] GET http://localhost:3030/panther_pc/query?query=%0APREFIX+rdf%3A+%3Chttp%3A//www.w3.org/1999/02/22-rdf-syntax-ns%23%3E%0APREFIX+rdfs%3A%3Chttp%3A//www.w3.org/2000/01/rdf-schema%23%3E%0APREFIX+owl%3A+%3Chttp%3A//www.w3.org/2002/07/owl%23%3E%0APREFIX+xsd%3A+%3Chttp%3A//www.w3.org/2001/XMLSchema%23%3E%0APREFIX+dc%3A+%3Chttp%3A//purl.org/dc/elements/1.1/%3E%0APREFIX+dcterms%3A+%3Chttp%3A//purl.org/dc/terms/%3E%0A%0APREFIX+chebi%3A+%3Chttp%3A//purl.obolibrary.org/obo/chebi/%3E%0APREFIX+chebidb%3A+%3Chttp%3A//purl.obolibrary.org/obo/CHEBI_%3E%0APREFIX+chebirel%3A+%3Chttp%3A//purl.obolibrary.org/obo/CHEBI%23%3E%0APREFIX+oboInOwl%3A+%3Chttp%3A//www.geneontology.org/formats/oboInOwl%23%3E%0A%0APREFIX+bp3%3A+%3Chttp%3A//www.biopax.org/release/biopax-level3.owl%23%3E%0A%0A%23+Homo_sapiens-20170221.owl%0A%23PREFIX+reactome%3A+%3Chttp%3A//www.reactome.org/biopax/59/48887%23%3E+%0A%23%0A%23+Homo_sapiens-20210608.owl%0A%23PREFIX+reactome%3A+%3Chttp%3A//www.reactome.org/biopax/77/48887%23%3E%0A%23%0A%23+Homo_sapiens-20220614.owl%0A%23PREFIX+reactome%3A+%3Chttp%3A//www.reactome.org/biopax/81/48887%23%3E%0A%23%0A%23+Homo_sapiens-20221130.owl%0A%23PREFIX+reactome%3A+%3Chttp%3A//www.reactome.org/biopax/83/48887%23%3E%0A%0APREFIX+reactome%3A+%3Chttp%3A//www.reactome.org/biopax/87/48887%23%3E%0A%0ASELECT+%3Fmetric+%3Fcount%0A%23+Number+of+instances+of+Protein%0AWHERE+%7B%0A++++%7B%0A++++++++SELECT+%3Fmetric+%28COUNT%28DISTINCT+%3Fprotein%29+AS+%3Fcount%29%0A++++++++WHERE+%7B%0A++++++++++++BIND%28%22Protein%22+AS+%3Fmetric%29%0A++++++++++++%3Fprotein+rdf%3Atype/%28rdfs%3AsubClassOf%2A%29+bp3%3AProtein+.%0A++++++++%7D%0A++++++++GROUP+BY+%3Fmetric%0A++++%7D%0A++++UNION%0A++++%7B%0A++++++++SELECT+%3Fmetric+%28COUNT%28DISTINCT+%3Fprotein_ref%29+AS+%3Fcount%29%0A++++++++WHERE+%7B%0A++++++++++++BIND%28%22ProteinReference%22+AS+%3Fmetric%29%0A++++++++++++%3Fprotein_ref+rdf%3Atype+bp3%3AProteinReference+.%0A++++++++%7D%0A++++++++GROUP+BY+%3Fmetric%0A++++%7D%0A++++UNION%0A++++%7B%0A++++++++SELECT+%3Fmetric+%28COUNT%28DISTINCT+%3Fprotein_without_ref%29+AS+%3Fcount%29%0A++++++++WHERE+%7B%0A++++++BIND%28%22Protein+with+no+PR%22+AS+%3Fmetric%29%0A++++++OPTIONAL+%7B%0A++++++++++++%3Fprotein_without_ref+rdf%3Atype/%28rdfs%3AsubClassOf%2A%29+bp3%3AProtein+.%0A++++++++++++FILTER+NOT+EXISTS+%7B%0A++++++++++++++++%3Fprotein_without_ref+bp3%3AentityReference+%3Fref+.%0A++++++++++++++++%3Fref+rdf%3Atype+bp3%3AProteinReference+.%0A++++++++++++%7D%0A++++++++%7D%0A++++%7D%0A++++++++GROUP+BY+%3Fmetric%0A++++%7D%0A++++UNION%0A++++%7B%0A++++++++SELECT+%3Fmetric+%28COUNT%28DISTINCT+%3Fprotein_that_map_to_uniprot%29+AS+%3Fcount%29%0A++++++++WHERE+%7B%0A++++++++++++BIND%28%22Uniprot+mappings%22+AS+%3Fmetric%29%0A++++++++++++%3Fprotein_that_map_to_uniprot+rdf%3Atype+bp3%3AProtein+.%0A++++++++++++%3Fprotein_that_map_to_uniprot+bp3%3AentityReference+%3Fprotein_ref+.%0A++++++++++++%3Fprotein_ref+rdf%3Atype+bp3%3AProteinReference+.%0A++++++++++++%3Fprotein_ref+bp3%3Axref+%3Fprotein_ref_xref+.%0A++++++++++++%3Fprotein_ref_xref+rdf%3Atype+bp3%3AUnificationXref+.%0A++++++++++++%3Fprotein_ref_xref+bp3%3Adb+%22uniprot+knowledgebase%22+.%0A++++++++++++%3Fprotein_ref_xref+bp3%3Aid+%3Fup_id+.%0A++++++++%7D%0A++++++++GROUP+BY+%3Fmetric%0A++++%7D%0A++++UNION+%0A++++%7B%0A++++++++SELECT+%3Fmetric+%28COUNT%28DISTINCT+%3Fprotein_no_map_to_uniprot%29+AS+%3Fcount%29%0A++++++++WHERE+%7B%0A++++++++++++BIND%28%22Protein+with+no+mapping%22+AS+%3Fmetric%29%0A++++++++++++%3Fprotein_no_map_to_uniprot+rdf%3Atype/%28rdfs%3AsubClassOf%2A%29+bp3%3AProtein+.%0A++++++++++++%3Fprotein_no_map_to_uniprot+bp3%3AentityReference+%3Fprotein_ref+.%0A++++++++++++FILTER+NOT+EXISTS+%7B%0A++++++++++++++++%3Fprotein_ref+bp3%3Axref+%3Fxref+.%0A++++++++++++++++%3Fxref+rdf%3Atype+bp3%3AUnificationXref+.%0A++++++++++++++++%3Fxref+bp3%3Adb+%22uniprot+knowledgebase%22+.%0A++++++++++++++++%3Fxref+bp3%3Aid+%3Fid+.%0A++++++++++++%7D%0A++++++++%7D%0A++++++++GROUP+BY+%3Fmetric%0A++++%7D%0A++++UNION+%0A++++%7B%0A++++++++SELECT+%3Fmetric+%28COUNT%28DISTINCT+%3Fup_id%29+AS+%3Fcount%29%0A++++++++WHERE+%7B%0A++++++++++++BIND%28%22Unique+Uniprot%22+AS+%3Fmetric%29%0A++++++++++++%3Funif_xref+rdf%3Atype+bp3%3AUnificationXref+.%0A++++++++++++%3Funif_xref+bp3%3Adb+%22uniprot+knowledgebase%22+.%0A++++++++++++%3Funif_xref+bp3%3Aid+%3Fup_id+.%0A++++++++%7D%0A++++++++GROUP+BY+%3Fmetric%0A++++%7D%0A%7D%0AORDER+BY+%3Fmetric%0A%0A&format=csv&output=csv&results=csv\n",
      "19:16:07 INFO  Fuseki          :: [2] Query =  PREFIX rdf: <http://www.w3.org/1999/02/22-rdf-syntax-ns#> PREFIX rdfs:<http://www.w3.org/2000/01/rdf-schema#> PREFIX owl: <http://www.w3.org/2002/07/owl#> PREFIX xsd: <http://www.w3.org/2001/XMLSchema#> PREFIX dc: <http://purl.org/dc/elements/1.1/> PREFIX dcterms: <http://purl.org/dc/terms/>  PREFIX chebi: <http://purl.obolibrary.org/obo/chebi/> PREFIX chebidb: <http://purl.obolibrary.org/obo/CHEBI_> PREFIX chebirel: <http://purl.obolibrary.org/obo/CHEBI#> PREFIX oboInOwl: <http://www.geneontology.org/formats/oboInOwl#>  PREFIX bp3: <http://www.biopax.org/release/biopax-level3.owl#>  # Homo_sapiens-20170221.owl #PREFIX reactome: <http://www.reactome.org/biopax/59/48887#>  # # Homo_sapiens-20210608.owl #PREFIX reactome: <http://www.reactome.org/biopax/77/48887#> # # Homo_sapiens-20220614.owl #PREFIX reactome: <http://www.reactome.org/biopax/81/48887#> # # Homo_sapiens-20221130.owl #PREFIX reactome: <http://www.reactome.org/biopax/83/48887#>  PREFIX reactome: <http://www.reactome.org/biopax/87/48887#>  SELECT ?metric ?count # Number of instances of Protein WHERE {     {         SELECT ?metric (COUNT(DISTINCT ?protein) AS ?count)         WHERE {             BIND(\"Protein\" AS ?metric)             ?protein rdf:type/(rdfs:subClassOf*) bp3:Protein .         }         GROUP BY ?metric     }     UNION     {         SELECT ?metric (COUNT(DISTINCT ?protein_ref) AS ?count)         WHERE {             BIND(\"ProteinReference\" AS ?metric)             ?protein_ref rdf:type bp3:ProteinReference .         }         GROUP BY ?metric     }     UNION     {         SELECT ?metric (COUNT(DISTINCT ?protein_without_ref) AS ?count)         WHERE {       BIND(\"Protein with no PR\" AS ?metric)       OPTIONAL {             ?protein_without_ref rdf:type/(rdfs:subClassOf*) bp3:Protein .             FILTER NOT EXISTS {                 ?protein_without_ref bp3:entityReference ?ref .                 ?ref rdf:type bp3:ProteinReference .             }         }     }         GROUP BY ?metric     }     UNION     {         SELECT ?metric (COUNT(DISTINCT ?protein_that_map_to_uniprot) AS ?count)         WHERE {             BIND(\"Uniprot mappings\" AS ?metric)             ?protein_that_map_to_uniprot rdf:type bp3:Protein .             ?protein_that_map_to_uniprot bp3:entityReference ?protein_ref .             ?protein_ref rdf:type bp3:ProteinReference .             ?protein_ref bp3:xref ?protein_ref_xref .             ?protein_ref_xref rdf:type bp3:UnificationXref .             ?protein_ref_xref bp3:db \"uniprot knowledgebase\" .             ?protein_ref_xref bp3:id ?up_id .         }         GROUP BY ?metric     }     UNION      {         SELECT ?metric (COUNT(DISTINCT ?protein_no_map_to_uniprot) AS ?count)         WHERE {             BIND(\"Protein with no mapping\" AS ?metric)             ?protein_no_map_to_uniprot rdf:type/(rdfs:subClassOf*) bp3:Protein .             ?protein_no_map_to_uniprot bp3:entityReference ?protein_ref .             FILTER NOT EXISTS {                 ?protein_ref bp3:xref ?xref .                 ?xref rdf:type bp3:UnificationXref .                 ?xref bp3:db \"uniprot knowledgebase\" .                 ?xref bp3:id ?id .             }         }         GROUP BY ?metric     }     UNION      {         SELECT ?metric (COUNT(DISTINCT ?up_id) AS ?count)         WHERE {             BIND(\"Unique Uniprot\" AS ?metric)             ?unif_xref rdf:type bp3:UnificationXref .             ?unif_xref bp3:db \"uniprot knowledgebase\" .             ?unif_xref bp3:id ?up_id .         }         GROUP BY ?metric     } } ORDER BY ?metric  \n",
      "19:16:07 INFO  Fuseki          :: [2] 200 OK (210 ms)\n"
     ]
    }
   ],
   "source": [
    "# TODO: change path\n",
    "command = [\n",
    "    '/home/cbeust/Softwares/JenaFuseki/apache-jena-fuseki-4.9.0/fuseki-server',\n",
    "    '--file', '/home/cbeust/Projects/2024/BioPAX_Review/Compare_BioPAX_Files/PathwayCommonsFiles/PathwayCommons12.panther.BIOPAX.owl',\n",
    "    '--file', '/home/cbeust/Projects/2024/BioPAX_Review/BioPAX_Ontology/biopax-level3.owl',\n",
    "    '/panther_pc']\n",
    "process = subprocess.Popen(command)\n",
    "time.sleep(60)\n",
    "\n",
    "# execute SPARQL query\n",
    "sparql = SPARQLWrapper(endpointURL_panther_pc)\n",
    "sparql.setQuery(prefixes+query2)\n",
    "\n",
    "# display results\n",
    "sparql.setReturnFormat(JSON)\n",
    "results = sparql.query().convert()\n",
    "displaySparqlResults(results)\n",
    "\n",
    "# export to CSV\n",
    "sparql.setReturnFormat(CSV)\n",
    "results = sparql.query().convert()\n",
    "with open(\"../Results/panther_pc_mappings_uniprot.csv\", \"wb\") as f:\n",
    "    f.write(results)\n",
    "\n",
    "# end process\n",
    "process.kill()\n",
    "time.sleep(60)"
   ]
  },
  {
   "cell_type": "markdown",
   "metadata": {},
   "source": [
    "#### Query on BioPAX export of PathBank from PathwayCommons"
   ]
  },
  {
   "cell_type": "code",
   "execution_count": 9,
   "metadata": {},
   "outputs": [
    {
     "name": "stderr",
     "output_type": "stream",
     "text": [
      "19:17:08 INFO  Server          :: Dataset: in-memory: load file: /home/cbeust/Projects/2024/BioPAX_Review/Compare_BioPAX_Files/PathwayCommonsFiles/PathwayCommons12.pathbank.BIOPAX.owl\n",
      "19:17:09 WARN  riot            :: [line: 89570, col: 87] {W137} Input is large. Switching off checking for illegal reuse of rdf:ID's.\n",
      "19:17:11 INFO  Server          :: Dataset: in-memory: load file: /home/cbeust/Projects/2024/BioPAX_Review/BioPAX_Ontology/biopax-level3.owl\n",
      "19:17:11 INFO  Server          :: Running in read-only mode for /pathbank_pc\n",
      "19:17:11 INFO  Server          :: Apache Jena Fuseki 4.9.0\n",
      "19:17:11 INFO  Config          :: FUSEKI_HOME=/home/cbeust/Softwares/JenaFuseki/apache-jena-fuseki-4.9.0\n",
      "19:17:11 INFO  Config          :: FUSEKI_BASE=/home/cbeust/Projects/2024/BioPAX_Review/BioPAXReview2024Codes/Figure4-5/Scripts/run\n",
      "19:17:11 INFO  Config          :: Shiro file: file:///home/cbeust/Projects/2024/BioPAX_Review/BioPAXReview2024Codes/Figure4-5/Scripts/run/shiro.ini\n",
      "19:17:11 INFO  Server          :: Database: in-memory, with files loaded\n",
      "19:17:11 INFO  Server          :: Path = /pathbank_pc\n",
      "19:17:11 INFO  Server          ::   Memory: 16.0 GiB\n",
      "19:17:11 INFO  Server          ::   Java:   17.0.11\n",
      "19:17:11 INFO  Server          ::   OS:     Linux 6.8.9-100.fc38.x86_64 amd64\n",
      "19:17:11 INFO  Server          ::   PID:    70766\n",
      "19:17:11 INFO  Server          :: Started 2024/07/29 19:17:11 CEST on port 3030\n",
      "19:18:07 INFO  Fuseki          :: [1] GET http://localhost:3030/pathbank_pc/query?query=%0APREFIX+rdf%3A+%3Chttp%3A//www.w3.org/1999/02/22-rdf-syntax-ns%23%3E%0APREFIX+rdfs%3A%3Chttp%3A//www.w3.org/2000/01/rdf-schema%23%3E%0APREFIX+owl%3A+%3Chttp%3A//www.w3.org/2002/07/owl%23%3E%0APREFIX+xsd%3A+%3Chttp%3A//www.w3.org/2001/XMLSchema%23%3E%0APREFIX+dc%3A+%3Chttp%3A//purl.org/dc/elements/1.1/%3E%0APREFIX+dcterms%3A+%3Chttp%3A//purl.org/dc/terms/%3E%0A%0APREFIX+chebi%3A+%3Chttp%3A//purl.obolibrary.org/obo/chebi/%3E%0APREFIX+chebidb%3A+%3Chttp%3A//purl.obolibrary.org/obo/CHEBI_%3E%0APREFIX+chebirel%3A+%3Chttp%3A//purl.obolibrary.org/obo/CHEBI%23%3E%0APREFIX+oboInOwl%3A+%3Chttp%3A//www.geneontology.org/formats/oboInOwl%23%3E%0A%0APREFIX+bp3%3A+%3Chttp%3A//www.biopax.org/release/biopax-level3.owl%23%3E%0A%0A%23+Homo_sapiens-20170221.owl%0A%23PREFIX+reactome%3A+%3Chttp%3A//www.reactome.org/biopax/59/48887%23%3E+%0A%23%0A%23+Homo_sapiens-20210608.owl%0A%23PREFIX+reactome%3A+%3Chttp%3A//www.reactome.org/biopax/77/48887%23%3E%0A%23%0A%23+Homo_sapiens-20220614.owl%0A%23PREFIX+reactome%3A+%3Chttp%3A//www.reactome.org/biopax/81/48887%23%3E%0A%23%0A%23+Homo_sapiens-20221130.owl%0A%23PREFIX+reactome%3A+%3Chttp%3A//www.reactome.org/biopax/83/48887%23%3E%0A%0APREFIX+reactome%3A+%3Chttp%3A//www.reactome.org/biopax/87/48887%23%3E%0A%0ASELECT+%3Fmetric+%3Fcount%0A%23+Number+of+instances+of+Protein%0AWHERE+%7B%0A++++%7B%0A++++++++SELECT+%3Fmetric+%28COUNT%28DISTINCT+%3Fprotein%29+AS+%3Fcount%29%0A++++++++WHERE+%7B%0A++++++++++++BIND%28%22Protein%22+AS+%3Fmetric%29%0A++++++++++++%3Fprotein+rdf%3Atype/%28rdfs%3AsubClassOf%2A%29+bp3%3AProtein+.%0A++++++++%7D%0A++++++++GROUP+BY+%3Fmetric%0A++++%7D%0A++++UNION%0A++++%7B%0A++++++++SELECT+%3Fmetric+%28COUNT%28DISTINCT+%3Fprotein_ref%29+AS+%3Fcount%29%0A++++++++WHERE+%7B%0A++++++++++++BIND%28%22ProteinReference%22+AS+%3Fmetric%29%0A++++++++++++%3Fprotein_ref+rdf%3Atype+bp3%3AProteinReference+.%0A++++++++%7D%0A++++++++GROUP+BY+%3Fmetric%0A++++%7D%0A++++UNION%0A++++%7B%0A++++++++SELECT+%3Fmetric+%28COUNT%28DISTINCT+%3Fprotein_without_ref%29+AS+%3Fcount%29%0A++++++++WHERE+%7B%0A++++++BIND%28%22Protein+with+no+PR%22+AS+%3Fmetric%29%0A++++++OPTIONAL+%7B%0A++++++++++++%3Fprotein_without_ref+rdf%3Atype/%28rdfs%3AsubClassOf%2A%29+bp3%3AProtein+.%0A++++++++++++FILTER+NOT+EXISTS+%7B%0A++++++++++++++++%3Fprotein_without_ref+bp3%3AentityReference+%3Fref+.%0A++++++++++++++++%3Fref+rdf%3Atype+bp3%3AProteinReference+.%0A++++++++++++%7D%0A++++++++%7D%0A++++%7D%0A++++++++GROUP+BY+%3Fmetric%0A++++%7D%0A++++UNION%0A++++%7B%0A++++++++SELECT+%3Fmetric+%28COUNT%28DISTINCT+%3Fprotein_that_map_to_uniprot%29+AS+%3Fcount%29%0A++++++++WHERE+%7B%0A++++++++++++BIND%28%22Uniprot+mappings%22+AS+%3Fmetric%29%0A++++++++++++%3Fprotein_that_map_to_uniprot+rdf%3Atype+bp3%3AProtein+.%0A++++++++++++%3Fprotein_that_map_to_uniprot+bp3%3AentityReference+%3Fprotein_ref+.%0A++++++++++++%3Fprotein_ref+rdf%3Atype+bp3%3AProteinReference+.%0A++++++++++++%3Fprotein_ref+bp3%3Axref+%3Fprotein_ref_xref+.%0A++++++++++++%3Fprotein_ref_xref+rdf%3Atype+bp3%3AUnificationXref+.%0A++++++++++++%3Fprotein_ref_xref+bp3%3Adb+%22uniprot+knowledgebase%22+.%0A++++++++++++%3Fprotein_ref_xref+bp3%3Aid+%3Fup_id+.%0A++++++++%7D%0A++++++++GROUP+BY+%3Fmetric%0A++++%7D%0A++++UNION+%0A++++%7B%0A++++++++SELECT+%3Fmetric+%28COUNT%28DISTINCT+%3Fprotein_no_map_to_uniprot%29+AS+%3Fcount%29%0A++++++++WHERE+%7B%0A++++++++++++BIND%28%22Protein+with+no+mapping%22+AS+%3Fmetric%29%0A++++++++++++%3Fprotein_no_map_to_uniprot+rdf%3Atype/%28rdfs%3AsubClassOf%2A%29+bp3%3AProtein+.%0A++++++++++++%3Fprotein_no_map_to_uniprot+bp3%3AentityReference+%3Fprotein_ref+.%0A++++++++++++FILTER+NOT+EXISTS+%7B%0A++++++++++++++++%3Fprotein_ref+bp3%3Axref+%3Fxref+.%0A++++++++++++++++%3Fxref+rdf%3Atype+bp3%3AUnificationXref+.%0A++++++++++++++++%3Fxref+bp3%3Adb+%22uniprot+knowledgebase%22+.%0A++++++++++++++++%3Fxref+bp3%3Aid+%3Fid+.%0A++++++++++++%7D%0A++++++++%7D%0A++++++++GROUP+BY+%3Fmetric%0A++++%7D%0A++++UNION+%0A++++%7B%0A++++++++SELECT+%3Fmetric+%28COUNT%28DISTINCT+%3Fup_id%29+AS+%3Fcount%29%0A++++++++WHERE+%7B%0A++++++++++++BIND%28%22Unique+Uniprot%22+AS+%3Fmetric%29%0A++++++++++++%3Funif_xref+rdf%3Atype+bp3%3AUnificationXref+.%0A++++++++++++%3Funif_xref+bp3%3Adb+%22uniprot+knowledgebase%22+.%0A++++++++++++%3Funif_xref+bp3%3Aid+%3Fup_id+.%0A++++++++%7D%0A++++++++GROUP+BY+%3Fmetric%0A++++%7D%0A%7D%0AORDER+BY+%3Fmetric%0A%0A&format=json&output=json&results=json\n",
      "19:18:07 INFO  Fuseki          :: [1] Query =  PREFIX rdf: <http://www.w3.org/1999/02/22-rdf-syntax-ns#> PREFIX rdfs:<http://www.w3.org/2000/01/rdf-schema#> PREFIX owl: <http://www.w3.org/2002/07/owl#> PREFIX xsd: <http://www.w3.org/2001/XMLSchema#> PREFIX dc: <http://purl.org/dc/elements/1.1/> PREFIX dcterms: <http://purl.org/dc/terms/>  PREFIX chebi: <http://purl.obolibrary.org/obo/chebi/> PREFIX chebidb: <http://purl.obolibrary.org/obo/CHEBI_> PREFIX chebirel: <http://purl.obolibrary.org/obo/CHEBI#> PREFIX oboInOwl: <http://www.geneontology.org/formats/oboInOwl#>  PREFIX bp3: <http://www.biopax.org/release/biopax-level3.owl#>  # Homo_sapiens-20170221.owl #PREFIX reactome: <http://www.reactome.org/biopax/59/48887#>  # # Homo_sapiens-20210608.owl #PREFIX reactome: <http://www.reactome.org/biopax/77/48887#> # # Homo_sapiens-20220614.owl #PREFIX reactome: <http://www.reactome.org/biopax/81/48887#> # # Homo_sapiens-20221130.owl #PREFIX reactome: <http://www.reactome.org/biopax/83/48887#>  PREFIX reactome: <http://www.reactome.org/biopax/87/48887#>  SELECT ?metric ?count # Number of instances of Protein WHERE {     {         SELECT ?metric (COUNT(DISTINCT ?protein) AS ?count)         WHERE {             BIND(\"Protein\" AS ?metric)             ?protein rdf:type/(rdfs:subClassOf*) bp3:Protein .         }         GROUP BY ?metric     }     UNION     {         SELECT ?metric (COUNT(DISTINCT ?protein_ref) AS ?count)         WHERE {             BIND(\"ProteinReference\" AS ?metric)             ?protein_ref rdf:type bp3:ProteinReference .         }         GROUP BY ?metric     }     UNION     {         SELECT ?metric (COUNT(DISTINCT ?protein_without_ref) AS ?count)         WHERE {       BIND(\"Protein with no PR\" AS ?metric)       OPTIONAL {             ?protein_without_ref rdf:type/(rdfs:subClassOf*) bp3:Protein .             FILTER NOT EXISTS {                 ?protein_without_ref bp3:entityReference ?ref .                 ?ref rdf:type bp3:ProteinReference .             }         }     }         GROUP BY ?metric     }     UNION     {         SELECT ?metric (COUNT(DISTINCT ?protein_that_map_to_uniprot) AS ?count)         WHERE {             BIND(\"Uniprot mappings\" AS ?metric)             ?protein_that_map_to_uniprot rdf:type bp3:Protein .             ?protein_that_map_to_uniprot bp3:entityReference ?protein_ref .             ?protein_ref rdf:type bp3:ProteinReference .             ?protein_ref bp3:xref ?protein_ref_xref .             ?protein_ref_xref rdf:type bp3:UnificationXref .             ?protein_ref_xref bp3:db \"uniprot knowledgebase\" .             ?protein_ref_xref bp3:id ?up_id .         }         GROUP BY ?metric     }     UNION      {         SELECT ?metric (COUNT(DISTINCT ?protein_no_map_to_uniprot) AS ?count)         WHERE {             BIND(\"Protein with no mapping\" AS ?metric)             ?protein_no_map_to_uniprot rdf:type/(rdfs:subClassOf*) bp3:Protein .             ?protein_no_map_to_uniprot bp3:entityReference ?protein_ref .             FILTER NOT EXISTS {                 ?protein_ref bp3:xref ?xref .                 ?xref rdf:type bp3:UnificationXref .                 ?xref bp3:db \"uniprot knowledgebase\" .                 ?xref bp3:id ?id .             }         }         GROUP BY ?metric     }     UNION      {         SELECT ?metric (COUNT(DISTINCT ?up_id) AS ?count)         WHERE {             BIND(\"Unique Uniprot\" AS ?metric)             ?unif_xref rdf:type bp3:UnificationXref .             ?unif_xref bp3:db \"uniprot knowledgebase\" .             ?unif_xref bp3:id ?up_id .         }         GROUP BY ?metric     } } ORDER BY ?metric  \n",
      "19:18:08 INFO  Fuseki          :: [1] 200 OK (570 ms)\n"
     ]
    },
    {
     "data": {
      "text/html": [
       "<table><tr><th>metric</th><th>count</th></tr><tr><td>Protein</td><td>2471</td></tr><tr><td>Protein with no PR</td><td>0</td></tr><tr><td>Protein with no mapping</td><td>71</td></tr><tr><td>ProteinReference</td><td>1606</td></tr><tr><td>Uniprot mappings</td><td>2400</td></tr><tr><td>Unique Uniprot</td><td>1555</td></tr></table>"
      ],
      "text/plain": [
       "<IPython.core.display.HTML object>"
      ]
     },
     "metadata": {},
     "output_type": "display_data"
    },
    {
     "name": "stderr",
     "output_type": "stream",
     "text": [
      "19:18:08 INFO  Fuseki          :: [2] GET http://localhost:3030/pathbank_pc/query?query=%0APREFIX+rdf%3A+%3Chttp%3A//www.w3.org/1999/02/22-rdf-syntax-ns%23%3E%0APREFIX+rdfs%3A%3Chttp%3A//www.w3.org/2000/01/rdf-schema%23%3E%0APREFIX+owl%3A+%3Chttp%3A//www.w3.org/2002/07/owl%23%3E%0APREFIX+xsd%3A+%3Chttp%3A//www.w3.org/2001/XMLSchema%23%3E%0APREFIX+dc%3A+%3Chttp%3A//purl.org/dc/elements/1.1/%3E%0APREFIX+dcterms%3A+%3Chttp%3A//purl.org/dc/terms/%3E%0A%0APREFIX+chebi%3A+%3Chttp%3A//purl.obolibrary.org/obo/chebi/%3E%0APREFIX+chebidb%3A+%3Chttp%3A//purl.obolibrary.org/obo/CHEBI_%3E%0APREFIX+chebirel%3A+%3Chttp%3A//purl.obolibrary.org/obo/CHEBI%23%3E%0APREFIX+oboInOwl%3A+%3Chttp%3A//www.geneontology.org/formats/oboInOwl%23%3E%0A%0APREFIX+bp3%3A+%3Chttp%3A//www.biopax.org/release/biopax-level3.owl%23%3E%0A%0A%23+Homo_sapiens-20170221.owl%0A%23PREFIX+reactome%3A+%3Chttp%3A//www.reactome.org/biopax/59/48887%23%3E+%0A%23%0A%23+Homo_sapiens-20210608.owl%0A%23PREFIX+reactome%3A+%3Chttp%3A//www.reactome.org/biopax/77/48887%23%3E%0A%23%0A%23+Homo_sapiens-20220614.owl%0A%23PREFIX+reactome%3A+%3Chttp%3A//www.reactome.org/biopax/81/48887%23%3E%0A%23%0A%23+Homo_sapiens-20221130.owl%0A%23PREFIX+reactome%3A+%3Chttp%3A//www.reactome.org/biopax/83/48887%23%3E%0A%0APREFIX+reactome%3A+%3Chttp%3A//www.reactome.org/biopax/87/48887%23%3E%0A%0ASELECT+%3Fmetric+%3Fcount%0A%23+Number+of+instances+of+Protein%0AWHERE+%7B%0A++++%7B%0A++++++++SELECT+%3Fmetric+%28COUNT%28DISTINCT+%3Fprotein%29+AS+%3Fcount%29%0A++++++++WHERE+%7B%0A++++++++++++BIND%28%22Protein%22+AS+%3Fmetric%29%0A++++++++++++%3Fprotein+rdf%3Atype/%28rdfs%3AsubClassOf%2A%29+bp3%3AProtein+.%0A++++++++%7D%0A++++++++GROUP+BY+%3Fmetric%0A++++%7D%0A++++UNION%0A++++%7B%0A++++++++SELECT+%3Fmetric+%28COUNT%28DISTINCT+%3Fprotein_ref%29+AS+%3Fcount%29%0A++++++++WHERE+%7B%0A++++++++++++BIND%28%22ProteinReference%22+AS+%3Fmetric%29%0A++++++++++++%3Fprotein_ref+rdf%3Atype+bp3%3AProteinReference+.%0A++++++++%7D%0A++++++++GROUP+BY+%3Fmetric%0A++++%7D%0A++++UNION%0A++++%7B%0A++++++++SELECT+%3Fmetric+%28COUNT%28DISTINCT+%3Fprotein_without_ref%29+AS+%3Fcount%29%0A++++++++WHERE+%7B%0A++++++BIND%28%22Protein+with+no+PR%22+AS+%3Fmetric%29%0A++++++OPTIONAL+%7B%0A++++++++++++%3Fprotein_without_ref+rdf%3Atype/%28rdfs%3AsubClassOf%2A%29+bp3%3AProtein+.%0A++++++++++++FILTER+NOT+EXISTS+%7B%0A++++++++++++++++%3Fprotein_without_ref+bp3%3AentityReference+%3Fref+.%0A++++++++++++++++%3Fref+rdf%3Atype+bp3%3AProteinReference+.%0A++++++++++++%7D%0A++++++++%7D%0A++++%7D%0A++++++++GROUP+BY+%3Fmetric%0A++++%7D%0A++++UNION%0A++++%7B%0A++++++++SELECT+%3Fmetric+%28COUNT%28DISTINCT+%3Fprotein_that_map_to_uniprot%29+AS+%3Fcount%29%0A++++++++WHERE+%7B%0A++++++++++++BIND%28%22Uniprot+mappings%22+AS+%3Fmetric%29%0A++++++++++++%3Fprotein_that_map_to_uniprot+rdf%3Atype+bp3%3AProtein+.%0A++++++++++++%3Fprotein_that_map_to_uniprot+bp3%3AentityReference+%3Fprotein_ref+.%0A++++++++++++%3Fprotein_ref+rdf%3Atype+bp3%3AProteinReference+.%0A++++++++++++%3Fprotein_ref+bp3%3Axref+%3Fprotein_ref_xref+.%0A++++++++++++%3Fprotein_ref_xref+rdf%3Atype+bp3%3AUnificationXref+.%0A++++++++++++%3Fprotein_ref_xref+bp3%3Adb+%22uniprot+knowledgebase%22+.%0A++++++++++++%3Fprotein_ref_xref+bp3%3Aid+%3Fup_id+.%0A++++++++%7D%0A++++++++GROUP+BY+%3Fmetric%0A++++%7D%0A++++UNION+%0A++++%7B%0A++++++++SELECT+%3Fmetric+%28COUNT%28DISTINCT+%3Fprotein_no_map_to_uniprot%29+AS+%3Fcount%29%0A++++++++WHERE+%7B%0A++++++++++++BIND%28%22Protein+with+no+mapping%22+AS+%3Fmetric%29%0A++++++++++++%3Fprotein_no_map_to_uniprot+rdf%3Atype/%28rdfs%3AsubClassOf%2A%29+bp3%3AProtein+.%0A++++++++++++%3Fprotein_no_map_to_uniprot+bp3%3AentityReference+%3Fprotein_ref+.%0A++++++++++++FILTER+NOT+EXISTS+%7B%0A++++++++++++++++%3Fprotein_ref+bp3%3Axref+%3Fxref+.%0A++++++++++++++++%3Fxref+rdf%3Atype+bp3%3AUnificationXref+.%0A++++++++++++++++%3Fxref+bp3%3Adb+%22uniprot+knowledgebase%22+.%0A++++++++++++++++%3Fxref+bp3%3Aid+%3Fid+.%0A++++++++++++%7D%0A++++++++%7D%0A++++++++GROUP+BY+%3Fmetric%0A++++%7D%0A++++UNION+%0A++++%7B%0A++++++++SELECT+%3Fmetric+%28COUNT%28DISTINCT+%3Fup_id%29+AS+%3Fcount%29%0A++++++++WHERE+%7B%0A++++++++++++BIND%28%22Unique+Uniprot%22+AS+%3Fmetric%29%0A++++++++++++%3Funif_xref+rdf%3Atype+bp3%3AUnificationXref+.%0A++++++++++++%3Funif_xref+bp3%3Adb+%22uniprot+knowledgebase%22+.%0A++++++++++++%3Funif_xref+bp3%3Aid+%3Fup_id+.%0A++++++++%7D%0A++++++++GROUP+BY+%3Fmetric%0A++++%7D%0A%7D%0AORDER+BY+%3Fmetric%0A%0A&format=csv&output=csv&results=csv\n",
      "19:18:08 INFO  Fuseki          :: [2] Query =  PREFIX rdf: <http://www.w3.org/1999/02/22-rdf-syntax-ns#> PREFIX rdfs:<http://www.w3.org/2000/01/rdf-schema#> PREFIX owl: <http://www.w3.org/2002/07/owl#> PREFIX xsd: <http://www.w3.org/2001/XMLSchema#> PREFIX dc: <http://purl.org/dc/elements/1.1/> PREFIX dcterms: <http://purl.org/dc/terms/>  PREFIX chebi: <http://purl.obolibrary.org/obo/chebi/> PREFIX chebidb: <http://purl.obolibrary.org/obo/CHEBI_> PREFIX chebirel: <http://purl.obolibrary.org/obo/CHEBI#> PREFIX oboInOwl: <http://www.geneontology.org/formats/oboInOwl#>  PREFIX bp3: <http://www.biopax.org/release/biopax-level3.owl#>  # Homo_sapiens-20170221.owl #PREFIX reactome: <http://www.reactome.org/biopax/59/48887#>  # # Homo_sapiens-20210608.owl #PREFIX reactome: <http://www.reactome.org/biopax/77/48887#> # # Homo_sapiens-20220614.owl #PREFIX reactome: <http://www.reactome.org/biopax/81/48887#> # # Homo_sapiens-20221130.owl #PREFIX reactome: <http://www.reactome.org/biopax/83/48887#>  PREFIX reactome: <http://www.reactome.org/biopax/87/48887#>  SELECT ?metric ?count # Number of instances of Protein WHERE {     {         SELECT ?metric (COUNT(DISTINCT ?protein) AS ?count)         WHERE {             BIND(\"Protein\" AS ?metric)             ?protein rdf:type/(rdfs:subClassOf*) bp3:Protein .         }         GROUP BY ?metric     }     UNION     {         SELECT ?metric (COUNT(DISTINCT ?protein_ref) AS ?count)         WHERE {             BIND(\"ProteinReference\" AS ?metric)             ?protein_ref rdf:type bp3:ProteinReference .         }         GROUP BY ?metric     }     UNION     {         SELECT ?metric (COUNT(DISTINCT ?protein_without_ref) AS ?count)         WHERE {       BIND(\"Protein with no PR\" AS ?metric)       OPTIONAL {             ?protein_without_ref rdf:type/(rdfs:subClassOf*) bp3:Protein .             FILTER NOT EXISTS {                 ?protein_without_ref bp3:entityReference ?ref .                 ?ref rdf:type bp3:ProteinReference .             }         }     }         GROUP BY ?metric     }     UNION     {         SELECT ?metric (COUNT(DISTINCT ?protein_that_map_to_uniprot) AS ?count)         WHERE {             BIND(\"Uniprot mappings\" AS ?metric)             ?protein_that_map_to_uniprot rdf:type bp3:Protein .             ?protein_that_map_to_uniprot bp3:entityReference ?protein_ref .             ?protein_ref rdf:type bp3:ProteinReference .             ?protein_ref bp3:xref ?protein_ref_xref .             ?protein_ref_xref rdf:type bp3:UnificationXref .             ?protein_ref_xref bp3:db \"uniprot knowledgebase\" .             ?protein_ref_xref bp3:id ?up_id .         }         GROUP BY ?metric     }     UNION      {         SELECT ?metric (COUNT(DISTINCT ?protein_no_map_to_uniprot) AS ?count)         WHERE {             BIND(\"Protein with no mapping\" AS ?metric)             ?protein_no_map_to_uniprot rdf:type/(rdfs:subClassOf*) bp3:Protein .             ?protein_no_map_to_uniprot bp3:entityReference ?protein_ref .             FILTER NOT EXISTS {                 ?protein_ref bp3:xref ?xref .                 ?xref rdf:type bp3:UnificationXref .                 ?xref bp3:db \"uniprot knowledgebase\" .                 ?xref bp3:id ?id .             }         }         GROUP BY ?metric     }     UNION      {         SELECT ?metric (COUNT(DISTINCT ?up_id) AS ?count)         WHERE {             BIND(\"Unique Uniprot\" AS ?metric)             ?unif_xref rdf:type bp3:UnificationXref .             ?unif_xref bp3:db \"uniprot knowledgebase\" .             ?unif_xref bp3:id ?up_id .         }         GROUP BY ?metric     } } ORDER BY ?metric  \n",
      "19:18:08 INFO  Fuseki          :: [2] 200 OK (161 ms)\n"
     ]
    }
   ],
   "source": [
    "# TODO: change path\n",
    "command = [\n",
    "    '/home/cbeust/Softwares/JenaFuseki/apache-jena-fuseki-4.9.0/fuseki-server',\n",
    "    '--file', '/home/cbeust/Projects/2024/BioPAX_Review/Compare_BioPAX_Files/PathwayCommonsFiles/PathwayCommons12.pathbank.BIOPAX.owl',\n",
    "    '--file', '/home/cbeust/Projects/2024/BioPAX_Review/BioPAX_Ontology/biopax-level3.owl',\n",
    "    '/pathbank_pc']\n",
    "process = subprocess.Popen(command)\n",
    "time.sleep(60)\n",
    "\n",
    "# execute SPARQL query\n",
    "sparql = SPARQLWrapper(endpointURL_pathbank_pc)\n",
    "sparql.setQuery(prefixes+query2)\n",
    "\n",
    "# display results\n",
    "sparql.setReturnFormat(JSON)\n",
    "results = sparql.query().convert()\n",
    "displaySparqlResults(results)\n",
    "\n",
    "# export to CSV\n",
    "sparql.setReturnFormat(CSV)\n",
    "results = sparql.query().convert()\n",
    "with open(\"../Results/pathbank_pc_mappings_uniprot.csv\", \"wb\") as f:\n",
    "    f.write(results)\n",
    "\n",
    "# end process\n",
    "process.kill()\n",
    "time.sleep(60)"
   ]
  },
  {
   "cell_type": "markdown",
   "metadata": {},
   "source": [
    "#### Query on BioPAX export of HumanCyc from PathwayCommons"
   ]
  },
  {
   "cell_type": "code",
   "execution_count": 10,
   "metadata": {},
   "outputs": [
    {
     "name": "stderr",
     "output_type": "stream",
     "text": [
      "19:19:09 INFO  Server          :: Dataset: in-memory: load file: /home/cbeust/Projects/2024/BioPAX_Review/Compare_BioPAX_Files/PathwayCommonsFiles/PathwayCommons12.humancyc.BIOPAX.owl\n",
      "19:19:10 WARN  riot            :: [line: 108021, col: 73] {W137} Input is large. Switching off checking for illegal reuse of rdf:ID's.\n",
      "19:19:13 INFO  Server          :: Dataset: in-memory: load file: /home/cbeust/Projects/2024/BioPAX_Review/BioPAX_Ontology/biopax-level3.owl\n",
      "19:19:13 INFO  Server          :: Running in read-only mode for /humancyc_pc\n",
      "19:19:13 INFO  Server          :: Apache Jena Fuseki 4.9.0\n",
      "19:19:13 INFO  Config          :: FUSEKI_HOME=/home/cbeust/Softwares/JenaFuseki/apache-jena-fuseki-4.9.0\n",
      "19:19:13 INFO  Config          :: FUSEKI_BASE=/home/cbeust/Projects/2024/BioPAX_Review/BioPAXReview2024Codes/Figure4-5/Scripts/run\n",
      "19:19:13 INFO  Config          :: Shiro file: file:///home/cbeust/Projects/2024/BioPAX_Review/BioPAXReview2024Codes/Figure4-5/Scripts/run/shiro.ini\n",
      "19:19:13 INFO  Server          :: Database: in-memory, with files loaded\n",
      "19:19:13 INFO  Server          :: Path = /humancyc_pc\n",
      "19:19:13 INFO  Server          ::   Memory: 16.0 GiB\n",
      "19:19:13 INFO  Server          ::   Java:   17.0.11\n",
      "19:19:13 INFO  Server          ::   OS:     Linux 6.8.9-100.fc38.x86_64 amd64\n",
      "19:19:13 INFO  Server          ::   PID:    71620\n",
      "19:19:13 INFO  Server          :: Started 2024/07/29 19:19:13 CEST on port 3030\n",
      "19:20:08 INFO  Fuseki          :: [1] GET http://localhost:3030/humancyc_pc/query?query=%0APREFIX+rdf%3A+%3Chttp%3A//www.w3.org/1999/02/22-rdf-syntax-ns%23%3E%0APREFIX+rdfs%3A%3Chttp%3A//www.w3.org/2000/01/rdf-schema%23%3E%0APREFIX+owl%3A+%3Chttp%3A//www.w3.org/2002/07/owl%23%3E%0APREFIX+xsd%3A+%3Chttp%3A//www.w3.org/2001/XMLSchema%23%3E%0APREFIX+dc%3A+%3Chttp%3A//purl.org/dc/elements/1.1/%3E%0APREFIX+dcterms%3A+%3Chttp%3A//purl.org/dc/terms/%3E%0A%0APREFIX+chebi%3A+%3Chttp%3A//purl.obolibrary.org/obo/chebi/%3E%0APREFIX+chebidb%3A+%3Chttp%3A//purl.obolibrary.org/obo/CHEBI_%3E%0APREFIX+chebirel%3A+%3Chttp%3A//purl.obolibrary.org/obo/CHEBI%23%3E%0APREFIX+oboInOwl%3A+%3Chttp%3A//www.geneontology.org/formats/oboInOwl%23%3E%0A%0APREFIX+bp3%3A+%3Chttp%3A//www.biopax.org/release/biopax-level3.owl%23%3E%0A%0A%23+Homo_sapiens-20170221.owl%0A%23PREFIX+reactome%3A+%3Chttp%3A//www.reactome.org/biopax/59/48887%23%3E+%0A%23%0A%23+Homo_sapiens-20210608.owl%0A%23PREFIX+reactome%3A+%3Chttp%3A//www.reactome.org/biopax/77/48887%23%3E%0A%23%0A%23+Homo_sapiens-20220614.owl%0A%23PREFIX+reactome%3A+%3Chttp%3A//www.reactome.org/biopax/81/48887%23%3E%0A%23%0A%23+Homo_sapiens-20221130.owl%0A%23PREFIX+reactome%3A+%3Chttp%3A//www.reactome.org/biopax/83/48887%23%3E%0A%0APREFIX+reactome%3A+%3Chttp%3A//www.reactome.org/biopax/87/48887%23%3E%0A%0ASELECT+%3Fmetric+%3Fcount%0A%23+Number+of+instances+of+Protein%0AWHERE+%7B%0A++++%7B%0A++++++++SELECT+%3Fmetric+%28COUNT%28DISTINCT+%3Fprotein%29+AS+%3Fcount%29%0A++++++++WHERE+%7B%0A++++++++++++BIND%28%22Protein%22+AS+%3Fmetric%29%0A++++++++++++%3Fprotein+rdf%3Atype/%28rdfs%3AsubClassOf%2A%29+bp3%3AProtein+.%0A++++++++%7D%0A++++++++GROUP+BY+%3Fmetric%0A++++%7D%0A++++UNION%0A++++%7B%0A++++++++SELECT+%3Fmetric+%28COUNT%28DISTINCT+%3Fprotein_ref%29+AS+%3Fcount%29%0A++++++++WHERE+%7B%0A++++++++++++BIND%28%22ProteinReference%22+AS+%3Fmetric%29%0A++++++++++++%3Fprotein_ref+rdf%3Atype+bp3%3AProteinReference+.%0A++++++++%7D%0A++++++++GROUP+BY+%3Fmetric%0A++++%7D%0A++++UNION%0A++++%7B%0A++++++++SELECT+%3Fmetric+%28COUNT%28DISTINCT+%3Fprotein_without_ref%29+AS+%3Fcount%29%0A++++++++WHERE+%7B%0A++++++BIND%28%22Protein+with+no+PR%22+AS+%3Fmetric%29%0A++++++OPTIONAL+%7B%0A++++++++++++%3Fprotein_without_ref+rdf%3Atype/%28rdfs%3AsubClassOf%2A%29+bp3%3AProtein+.%0A++++++++++++FILTER+NOT+EXISTS+%7B%0A++++++++++++++++%3Fprotein_without_ref+bp3%3AentityReference+%3Fref+.%0A++++++++++++++++%3Fref+rdf%3Atype+bp3%3AProteinReference+.%0A++++++++++++%7D%0A++++++++%7D%0A++++%7D%0A++++++++GROUP+BY+%3Fmetric%0A++++%7D%0A++++UNION%0A++++%7B%0A++++++++SELECT+%3Fmetric+%28COUNT%28DISTINCT+%3Fprotein_that_map_to_uniprot%29+AS+%3Fcount%29%0A++++++++WHERE+%7B%0A++++++++++++BIND%28%22Uniprot+mappings%22+AS+%3Fmetric%29%0A++++++++++++%3Fprotein_that_map_to_uniprot+rdf%3Atype+bp3%3AProtein+.%0A++++++++++++%3Fprotein_that_map_to_uniprot+bp3%3AentityReference+%3Fprotein_ref+.%0A++++++++++++%3Fprotein_ref+rdf%3Atype+bp3%3AProteinReference+.%0A++++++++++++%3Fprotein_ref+bp3%3Axref+%3Fprotein_ref_xref+.%0A++++++++++++%3Fprotein_ref_xref+rdf%3Atype+bp3%3AUnificationXref+.%0A++++++++++++%3Fprotein_ref_xref+bp3%3Adb+%22uniprot+knowledgebase%22+.%0A++++++++++++%3Fprotein_ref_xref+bp3%3Aid+%3Fup_id+.%0A++++++++%7D%0A++++++++GROUP+BY+%3Fmetric%0A++++%7D%0A++++UNION+%0A++++%7B%0A++++++++SELECT+%3Fmetric+%28COUNT%28DISTINCT+%3Fprotein_no_map_to_uniprot%29+AS+%3Fcount%29%0A++++++++WHERE+%7B%0A++++++++++++BIND%28%22Protein+with+no+mapping%22+AS+%3Fmetric%29%0A++++++++++++%3Fprotein_no_map_to_uniprot+rdf%3Atype/%28rdfs%3AsubClassOf%2A%29+bp3%3AProtein+.%0A++++++++++++%3Fprotein_no_map_to_uniprot+bp3%3AentityReference+%3Fprotein_ref+.%0A++++++++++++FILTER+NOT+EXISTS+%7B%0A++++++++++++++++%3Fprotein_ref+bp3%3Axref+%3Fxref+.%0A++++++++++++++++%3Fxref+rdf%3Atype+bp3%3AUnificationXref+.%0A++++++++++++++++%3Fxref+bp3%3Adb+%22uniprot+knowledgebase%22+.%0A++++++++++++++++%3Fxref+bp3%3Aid+%3Fid+.%0A++++++++++++%7D%0A++++++++%7D%0A++++++++GROUP+BY+%3Fmetric%0A++++%7D%0A++++UNION+%0A++++%7B%0A++++++++SELECT+%3Fmetric+%28COUNT%28DISTINCT+%3Fup_id%29+AS+%3Fcount%29%0A++++++++WHERE+%7B%0A++++++++++++BIND%28%22Unique+Uniprot%22+AS+%3Fmetric%29%0A++++++++++++%3Funif_xref+rdf%3Atype+bp3%3AUnificationXref+.%0A++++++++++++%3Funif_xref+bp3%3Adb+%22uniprot+knowledgebase%22+.%0A++++++++++++%3Funif_xref+bp3%3Aid+%3Fup_id+.%0A++++++++%7D%0A++++++++GROUP+BY+%3Fmetric%0A++++%7D%0A%7D%0AORDER+BY+%3Fmetric%0A%0A&format=json&output=json&results=json\n",
      "19:20:08 INFO  Fuseki          :: [1] Query =  PREFIX rdf: <http://www.w3.org/1999/02/22-rdf-syntax-ns#> PREFIX rdfs:<http://www.w3.org/2000/01/rdf-schema#> PREFIX owl: <http://www.w3.org/2002/07/owl#> PREFIX xsd: <http://www.w3.org/2001/XMLSchema#> PREFIX dc: <http://purl.org/dc/elements/1.1/> PREFIX dcterms: <http://purl.org/dc/terms/>  PREFIX chebi: <http://purl.obolibrary.org/obo/chebi/> PREFIX chebidb: <http://purl.obolibrary.org/obo/CHEBI_> PREFIX chebirel: <http://purl.obolibrary.org/obo/CHEBI#> PREFIX oboInOwl: <http://www.geneontology.org/formats/oboInOwl#>  PREFIX bp3: <http://www.biopax.org/release/biopax-level3.owl#>  # Homo_sapiens-20170221.owl #PREFIX reactome: <http://www.reactome.org/biopax/59/48887#>  # # Homo_sapiens-20210608.owl #PREFIX reactome: <http://www.reactome.org/biopax/77/48887#> # # Homo_sapiens-20220614.owl #PREFIX reactome: <http://www.reactome.org/biopax/81/48887#> # # Homo_sapiens-20221130.owl #PREFIX reactome: <http://www.reactome.org/biopax/83/48887#>  PREFIX reactome: <http://www.reactome.org/biopax/87/48887#>  SELECT ?metric ?count # Number of instances of Protein WHERE {     {         SELECT ?metric (COUNT(DISTINCT ?protein) AS ?count)         WHERE {             BIND(\"Protein\" AS ?metric)             ?protein rdf:type/(rdfs:subClassOf*) bp3:Protein .         }         GROUP BY ?metric     }     UNION     {         SELECT ?metric (COUNT(DISTINCT ?protein_ref) AS ?count)         WHERE {             BIND(\"ProteinReference\" AS ?metric)             ?protein_ref rdf:type bp3:ProteinReference .         }         GROUP BY ?metric     }     UNION     {         SELECT ?metric (COUNT(DISTINCT ?protein_without_ref) AS ?count)         WHERE {       BIND(\"Protein with no PR\" AS ?metric)       OPTIONAL {             ?protein_without_ref rdf:type/(rdfs:subClassOf*) bp3:Protein .             FILTER NOT EXISTS {                 ?protein_without_ref bp3:entityReference ?ref .                 ?ref rdf:type bp3:ProteinReference .             }         }     }         GROUP BY ?metric     }     UNION     {         SELECT ?metric (COUNT(DISTINCT ?protein_that_map_to_uniprot) AS ?count)         WHERE {             BIND(\"Uniprot mappings\" AS ?metric)             ?protein_that_map_to_uniprot rdf:type bp3:Protein .             ?protein_that_map_to_uniprot bp3:entityReference ?protein_ref .             ?protein_ref rdf:type bp3:ProteinReference .             ?protein_ref bp3:xref ?protein_ref_xref .             ?protein_ref_xref rdf:type bp3:UnificationXref .             ?protein_ref_xref bp3:db \"uniprot knowledgebase\" .             ?protein_ref_xref bp3:id ?up_id .         }         GROUP BY ?metric     }     UNION      {         SELECT ?metric (COUNT(DISTINCT ?protein_no_map_to_uniprot) AS ?count)         WHERE {             BIND(\"Protein with no mapping\" AS ?metric)             ?protein_no_map_to_uniprot rdf:type/(rdfs:subClassOf*) bp3:Protein .             ?protein_no_map_to_uniprot bp3:entityReference ?protein_ref .             FILTER NOT EXISTS {                 ?protein_ref bp3:xref ?xref .                 ?xref rdf:type bp3:UnificationXref .                 ?xref bp3:db \"uniprot knowledgebase\" .                 ?xref bp3:id ?id .             }         }         GROUP BY ?metric     }     UNION      {         SELECT ?metric (COUNT(DISTINCT ?up_id) AS ?count)         WHERE {             BIND(\"Unique Uniprot\" AS ?metric)             ?unif_xref rdf:type bp3:UnificationXref .             ?unif_xref bp3:db \"uniprot knowledgebase\" .             ?unif_xref bp3:id ?up_id .         }         GROUP BY ?metric     } } ORDER BY ?metric  \n",
      "19:20:09 INFO  Fuseki          :: [1] 200 OK (402 ms)\n"
     ]
    },
    {
     "data": {
      "text/html": [
       "<table><tr><th>metric</th><th>count</th></tr><tr><td>Protein</td><td>2652</td></tr><tr><td>Protein with no PR</td><td>0</td></tr><tr><td>Protein with no mapping</td><td>387</td></tr><tr><td>ProteinReference</td><td>2568</td></tr><tr><td>Uniprot mappings</td><td>2265</td></tr><tr><td>Unique Uniprot</td><td>2213</td></tr></table>"
      ],
      "text/plain": [
       "<IPython.core.display.HTML object>"
      ]
     },
     "metadata": {},
     "output_type": "display_data"
    },
    {
     "name": "stderr",
     "output_type": "stream",
     "text": [
      "19:20:09 INFO  Fuseki          :: [2] GET http://localhost:3030/humancyc_pc/query?query=%0APREFIX+rdf%3A+%3Chttp%3A//www.w3.org/1999/02/22-rdf-syntax-ns%23%3E%0APREFIX+rdfs%3A%3Chttp%3A//www.w3.org/2000/01/rdf-schema%23%3E%0APREFIX+owl%3A+%3Chttp%3A//www.w3.org/2002/07/owl%23%3E%0APREFIX+xsd%3A+%3Chttp%3A//www.w3.org/2001/XMLSchema%23%3E%0APREFIX+dc%3A+%3Chttp%3A//purl.org/dc/elements/1.1/%3E%0APREFIX+dcterms%3A+%3Chttp%3A//purl.org/dc/terms/%3E%0A%0APREFIX+chebi%3A+%3Chttp%3A//purl.obolibrary.org/obo/chebi/%3E%0APREFIX+chebidb%3A+%3Chttp%3A//purl.obolibrary.org/obo/CHEBI_%3E%0APREFIX+chebirel%3A+%3Chttp%3A//purl.obolibrary.org/obo/CHEBI%23%3E%0APREFIX+oboInOwl%3A+%3Chttp%3A//www.geneontology.org/formats/oboInOwl%23%3E%0A%0APREFIX+bp3%3A+%3Chttp%3A//www.biopax.org/release/biopax-level3.owl%23%3E%0A%0A%23+Homo_sapiens-20170221.owl%0A%23PREFIX+reactome%3A+%3Chttp%3A//www.reactome.org/biopax/59/48887%23%3E+%0A%23%0A%23+Homo_sapiens-20210608.owl%0A%23PREFIX+reactome%3A+%3Chttp%3A//www.reactome.org/biopax/77/48887%23%3E%0A%23%0A%23+Homo_sapiens-20220614.owl%0A%23PREFIX+reactome%3A+%3Chttp%3A//www.reactome.org/biopax/81/48887%23%3E%0A%23%0A%23+Homo_sapiens-20221130.owl%0A%23PREFIX+reactome%3A+%3Chttp%3A//www.reactome.org/biopax/83/48887%23%3E%0A%0APREFIX+reactome%3A+%3Chttp%3A//www.reactome.org/biopax/87/48887%23%3E%0A%0ASELECT+%3Fmetric+%3Fcount%0A%23+Number+of+instances+of+Protein%0AWHERE+%7B%0A++++%7B%0A++++++++SELECT+%3Fmetric+%28COUNT%28DISTINCT+%3Fprotein%29+AS+%3Fcount%29%0A++++++++WHERE+%7B%0A++++++++++++BIND%28%22Protein%22+AS+%3Fmetric%29%0A++++++++++++%3Fprotein+rdf%3Atype/%28rdfs%3AsubClassOf%2A%29+bp3%3AProtein+.%0A++++++++%7D%0A++++++++GROUP+BY+%3Fmetric%0A++++%7D%0A++++UNION%0A++++%7B%0A++++++++SELECT+%3Fmetric+%28COUNT%28DISTINCT+%3Fprotein_ref%29+AS+%3Fcount%29%0A++++++++WHERE+%7B%0A++++++++++++BIND%28%22ProteinReference%22+AS+%3Fmetric%29%0A++++++++++++%3Fprotein_ref+rdf%3Atype+bp3%3AProteinReference+.%0A++++++++%7D%0A++++++++GROUP+BY+%3Fmetric%0A++++%7D%0A++++UNION%0A++++%7B%0A++++++++SELECT+%3Fmetric+%28COUNT%28DISTINCT+%3Fprotein_without_ref%29+AS+%3Fcount%29%0A++++++++WHERE+%7B%0A++++++BIND%28%22Protein+with+no+PR%22+AS+%3Fmetric%29%0A++++++OPTIONAL+%7B%0A++++++++++++%3Fprotein_without_ref+rdf%3Atype/%28rdfs%3AsubClassOf%2A%29+bp3%3AProtein+.%0A++++++++++++FILTER+NOT+EXISTS+%7B%0A++++++++++++++++%3Fprotein_without_ref+bp3%3AentityReference+%3Fref+.%0A++++++++++++++++%3Fref+rdf%3Atype+bp3%3AProteinReference+.%0A++++++++++++%7D%0A++++++++%7D%0A++++%7D%0A++++++++GROUP+BY+%3Fmetric%0A++++%7D%0A++++UNION%0A++++%7B%0A++++++++SELECT+%3Fmetric+%28COUNT%28DISTINCT+%3Fprotein_that_map_to_uniprot%29+AS+%3Fcount%29%0A++++++++WHERE+%7B%0A++++++++++++BIND%28%22Uniprot+mappings%22+AS+%3Fmetric%29%0A++++++++++++%3Fprotein_that_map_to_uniprot+rdf%3Atype+bp3%3AProtein+.%0A++++++++++++%3Fprotein_that_map_to_uniprot+bp3%3AentityReference+%3Fprotein_ref+.%0A++++++++++++%3Fprotein_ref+rdf%3Atype+bp3%3AProteinReference+.%0A++++++++++++%3Fprotein_ref+bp3%3Axref+%3Fprotein_ref_xref+.%0A++++++++++++%3Fprotein_ref_xref+rdf%3Atype+bp3%3AUnificationXref+.%0A++++++++++++%3Fprotein_ref_xref+bp3%3Adb+%22uniprot+knowledgebase%22+.%0A++++++++++++%3Fprotein_ref_xref+bp3%3Aid+%3Fup_id+.%0A++++++++%7D%0A++++++++GROUP+BY+%3Fmetric%0A++++%7D%0A++++UNION+%0A++++%7B%0A++++++++SELECT+%3Fmetric+%28COUNT%28DISTINCT+%3Fprotein_no_map_to_uniprot%29+AS+%3Fcount%29%0A++++++++WHERE+%7B%0A++++++++++++BIND%28%22Protein+with+no+mapping%22+AS+%3Fmetric%29%0A++++++++++++%3Fprotein_no_map_to_uniprot+rdf%3Atype/%28rdfs%3AsubClassOf%2A%29+bp3%3AProtein+.%0A++++++++++++%3Fprotein_no_map_to_uniprot+bp3%3AentityReference+%3Fprotein_ref+.%0A++++++++++++FILTER+NOT+EXISTS+%7B%0A++++++++++++++++%3Fprotein_ref+bp3%3Axref+%3Fxref+.%0A++++++++++++++++%3Fxref+rdf%3Atype+bp3%3AUnificationXref+.%0A++++++++++++++++%3Fxref+bp3%3Adb+%22uniprot+knowledgebase%22+.%0A++++++++++++++++%3Fxref+bp3%3Aid+%3Fid+.%0A++++++++++++%7D%0A++++++++%7D%0A++++++++GROUP+BY+%3Fmetric%0A++++%7D%0A++++UNION+%0A++++%7B%0A++++++++SELECT+%3Fmetric+%28COUNT%28DISTINCT+%3Fup_id%29+AS+%3Fcount%29%0A++++++++WHERE+%7B%0A++++++++++++BIND%28%22Unique+Uniprot%22+AS+%3Fmetric%29%0A++++++++++++%3Funif_xref+rdf%3Atype+bp3%3AUnificationXref+.%0A++++++++++++%3Funif_xref+bp3%3Adb+%22uniprot+knowledgebase%22+.%0A++++++++++++%3Funif_xref+bp3%3Aid+%3Fup_id+.%0A++++++++%7D%0A++++++++GROUP+BY+%3Fmetric%0A++++%7D%0A%7D%0AORDER+BY+%3Fmetric%0A%0A&format=csv&output=csv&results=csv\n",
      "19:20:09 INFO  Fuseki          :: [2] Query =  PREFIX rdf: <http://www.w3.org/1999/02/22-rdf-syntax-ns#> PREFIX rdfs:<http://www.w3.org/2000/01/rdf-schema#> PREFIX owl: <http://www.w3.org/2002/07/owl#> PREFIX xsd: <http://www.w3.org/2001/XMLSchema#> PREFIX dc: <http://purl.org/dc/elements/1.1/> PREFIX dcterms: <http://purl.org/dc/terms/>  PREFIX chebi: <http://purl.obolibrary.org/obo/chebi/> PREFIX chebidb: <http://purl.obolibrary.org/obo/CHEBI_> PREFIX chebirel: <http://purl.obolibrary.org/obo/CHEBI#> PREFIX oboInOwl: <http://www.geneontology.org/formats/oboInOwl#>  PREFIX bp3: <http://www.biopax.org/release/biopax-level3.owl#>  # Homo_sapiens-20170221.owl #PREFIX reactome: <http://www.reactome.org/biopax/59/48887#>  # # Homo_sapiens-20210608.owl #PREFIX reactome: <http://www.reactome.org/biopax/77/48887#> # # Homo_sapiens-20220614.owl #PREFIX reactome: <http://www.reactome.org/biopax/81/48887#> # # Homo_sapiens-20221130.owl #PREFIX reactome: <http://www.reactome.org/biopax/83/48887#>  PREFIX reactome: <http://www.reactome.org/biopax/87/48887#>  SELECT ?metric ?count # Number of instances of Protein WHERE {     {         SELECT ?metric (COUNT(DISTINCT ?protein) AS ?count)         WHERE {             BIND(\"Protein\" AS ?metric)             ?protein rdf:type/(rdfs:subClassOf*) bp3:Protein .         }         GROUP BY ?metric     }     UNION     {         SELECT ?metric (COUNT(DISTINCT ?protein_ref) AS ?count)         WHERE {             BIND(\"ProteinReference\" AS ?metric)             ?protein_ref rdf:type bp3:ProteinReference .         }         GROUP BY ?metric     }     UNION     {         SELECT ?metric (COUNT(DISTINCT ?protein_without_ref) AS ?count)         WHERE {       BIND(\"Protein with no PR\" AS ?metric)       OPTIONAL {             ?protein_without_ref rdf:type/(rdfs:subClassOf*) bp3:Protein .             FILTER NOT EXISTS {                 ?protein_without_ref bp3:entityReference ?ref .                 ?ref rdf:type bp3:ProteinReference .             }         }     }         GROUP BY ?metric     }     UNION     {         SELECT ?metric (COUNT(DISTINCT ?protein_that_map_to_uniprot) AS ?count)         WHERE {             BIND(\"Uniprot mappings\" AS ?metric)             ?protein_that_map_to_uniprot rdf:type bp3:Protein .             ?protein_that_map_to_uniprot bp3:entityReference ?protein_ref .             ?protein_ref rdf:type bp3:ProteinReference .             ?protein_ref bp3:xref ?protein_ref_xref .             ?protein_ref_xref rdf:type bp3:UnificationXref .             ?protein_ref_xref bp3:db \"uniprot knowledgebase\" .             ?protein_ref_xref bp3:id ?up_id .         }         GROUP BY ?metric     }     UNION      {         SELECT ?metric (COUNT(DISTINCT ?protein_no_map_to_uniprot) AS ?count)         WHERE {             BIND(\"Protein with no mapping\" AS ?metric)             ?protein_no_map_to_uniprot rdf:type/(rdfs:subClassOf*) bp3:Protein .             ?protein_no_map_to_uniprot bp3:entityReference ?protein_ref .             FILTER NOT EXISTS {                 ?protein_ref bp3:xref ?xref .                 ?xref rdf:type bp3:UnificationXref .                 ?xref bp3:db \"uniprot knowledgebase\" .                 ?xref bp3:id ?id .             }         }         GROUP BY ?metric     }     UNION      {         SELECT ?metric (COUNT(DISTINCT ?up_id) AS ?count)         WHERE {             BIND(\"Unique Uniprot\" AS ?metric)             ?unif_xref rdf:type bp3:UnificationXref .             ?unif_xref bp3:db \"uniprot knowledgebase\" .             ?unif_xref bp3:id ?up_id .         }         GROUP BY ?metric     } } ORDER BY ?metric  \n",
      "19:20:09 INFO  Fuseki          :: [2] 200 OK (132 ms)\n"
     ]
    }
   ],
   "source": [
    "# TODO: change path\n",
    "command = [\n",
    "    '/home/cbeust/Softwares/JenaFuseki/apache-jena-fuseki-4.9.0/fuseki-server',\n",
    "    '--file', '/home/cbeust/Projects/2024/BioPAX_Review/Compare_BioPAX_Files/PathwayCommonsFiles/PathwayCommons12.humancyc.BIOPAX.owl',\n",
    "    '--file', '/home/cbeust/Projects/2024/BioPAX_Review/BioPAX_Ontology/biopax-level3.owl',\n",
    "    '/humancyc_pc']\n",
    "process = subprocess.Popen(command)\n",
    "time.sleep(60)\n",
    "\n",
    "# execute SPARQL query\n",
    "sparql = SPARQLWrapper(endpointURL_humancyc_pc)\n",
    "sparql.setQuery(prefixes+query2)\n",
    "\n",
    "# display results\n",
    "sparql.setReturnFormat(JSON)\n",
    "results = sparql.query().convert()\n",
    "displaySparqlResults(results)\n",
    "\n",
    "# export to CSV\n",
    "sparql.setReturnFormat(CSV)\n",
    "results = sparql.query().convert()\n",
    "with open(\"../Results/humancyc_pc_mappings_uniprot.csv\", \"wb\") as f:\n",
    "    f.write(results)\n",
    "\n",
    "# end process\n",
    "process.kill()\n",
    "time.sleep(60)"
   ]
  },
  {
   "cell_type": "markdown",
   "metadata": {},
   "source": [
    "#### Query on BioPAX export of KEGG from PathwayCommons"
   ]
  },
  {
   "cell_type": "code",
   "execution_count": 11,
   "metadata": {},
   "outputs": [
    {
     "name": "stderr",
     "output_type": "stream",
     "text": [
      "19:21:09 INFO  Server          :: Dataset: in-memory: load file: /home/cbeust/Projects/2024/BioPAX_Review/Compare_BioPAX_Files/PathwayCommonsFiles/PathwayCommons12.kegg.BIOPAX.owl\n",
      "19:21:11 WARN  riot            :: [line: 96269, col: 75] {W137} Input is large. Switching off checking for illegal reuse of rdf:ID's.\n",
      "19:21:12 INFO  Server          :: Dataset: in-memory: load file: /home/cbeust/Projects/2024/BioPAX_Review/BioPAX_Ontology/biopax-level3.owl\n",
      "19:21:12 INFO  Server          :: Running in read-only mode for /kegg_pc\n",
      "19:21:12 INFO  Server          :: Apache Jena Fuseki 4.9.0\n",
      "19:21:12 INFO  Config          :: FUSEKI_HOME=/home/cbeust/Softwares/JenaFuseki/apache-jena-fuseki-4.9.0\n",
      "19:21:12 INFO  Config          :: FUSEKI_BASE=/home/cbeust/Projects/2024/BioPAX_Review/BioPAXReview2024Codes/Figure4-5/Scripts/run\n",
      "19:21:12 INFO  Config          :: Shiro file: file:///home/cbeust/Projects/2024/BioPAX_Review/BioPAXReview2024Codes/Figure4-5/Scripts/run/shiro.ini\n",
      "19:21:13 INFO  Server          :: Database: in-memory, with files loaded\n",
      "19:21:13 INFO  Server          :: Path = /kegg_pc\n",
      "19:21:13 INFO  Server          ::   Memory: 16.0 GiB\n",
      "19:21:13 INFO  Server          ::   Java:   17.0.11\n",
      "19:21:13 INFO  Server          ::   OS:     Linux 6.8.9-100.fc38.x86_64 amd64\n",
      "19:21:13 INFO  Server          ::   PID:    72188\n",
      "19:21:13 INFO  Server          :: Started 2024/07/29 19:21:13 CEST on port 3030\n",
      "19:22:09 INFO  Fuseki          :: [1] GET http://localhost:3030/kegg_pc/query?query=%0APREFIX+rdf%3A+%3Chttp%3A//www.w3.org/1999/02/22-rdf-syntax-ns%23%3E%0APREFIX+rdfs%3A%3Chttp%3A//www.w3.org/2000/01/rdf-schema%23%3E%0APREFIX+owl%3A+%3Chttp%3A//www.w3.org/2002/07/owl%23%3E%0APREFIX+xsd%3A+%3Chttp%3A//www.w3.org/2001/XMLSchema%23%3E%0APREFIX+dc%3A+%3Chttp%3A//purl.org/dc/elements/1.1/%3E%0APREFIX+dcterms%3A+%3Chttp%3A//purl.org/dc/terms/%3E%0A%0APREFIX+chebi%3A+%3Chttp%3A//purl.obolibrary.org/obo/chebi/%3E%0APREFIX+chebidb%3A+%3Chttp%3A//purl.obolibrary.org/obo/CHEBI_%3E%0APREFIX+chebirel%3A+%3Chttp%3A//purl.obolibrary.org/obo/CHEBI%23%3E%0APREFIX+oboInOwl%3A+%3Chttp%3A//www.geneontology.org/formats/oboInOwl%23%3E%0A%0APREFIX+bp3%3A+%3Chttp%3A//www.biopax.org/release/biopax-level3.owl%23%3E%0A%0A%23+Homo_sapiens-20170221.owl%0A%23PREFIX+reactome%3A+%3Chttp%3A//www.reactome.org/biopax/59/48887%23%3E+%0A%23%0A%23+Homo_sapiens-20210608.owl%0A%23PREFIX+reactome%3A+%3Chttp%3A//www.reactome.org/biopax/77/48887%23%3E%0A%23%0A%23+Homo_sapiens-20220614.owl%0A%23PREFIX+reactome%3A+%3Chttp%3A//www.reactome.org/biopax/81/48887%23%3E%0A%23%0A%23+Homo_sapiens-20221130.owl%0A%23PREFIX+reactome%3A+%3Chttp%3A//www.reactome.org/biopax/83/48887%23%3E%0A%0APREFIX+reactome%3A+%3Chttp%3A//www.reactome.org/biopax/87/48887%23%3E%0A%0ASELECT+%3Fmetric+%3Fcount%0A%23+Number+of+instances+of+Protein%0AWHERE+%7B%0A++++%7B%0A++++++++SELECT+%3Fmetric+%28COUNT%28DISTINCT+%3Fprotein%29+AS+%3Fcount%29%0A++++++++WHERE+%7B%0A++++++++++++BIND%28%22Protein%22+AS+%3Fmetric%29%0A++++++++++++%3Fprotein+rdf%3Atype/%28rdfs%3AsubClassOf%2A%29+bp3%3AProtein+.%0A++++++++%7D%0A++++++++GROUP+BY+%3Fmetric%0A++++%7D%0A++++UNION%0A++++%7B%0A++++++++SELECT+%3Fmetric+%28COUNT%28DISTINCT+%3Fprotein_ref%29+AS+%3Fcount%29%0A++++++++WHERE+%7B%0A++++++++++++BIND%28%22ProteinReference%22+AS+%3Fmetric%29%0A++++++++++++%3Fprotein_ref+rdf%3Atype+bp3%3AProteinReference+.%0A++++++++%7D%0A++++++++GROUP+BY+%3Fmetric%0A++++%7D%0A++++UNION%0A++++%7B%0A++++++++SELECT+%3Fmetric+%28COUNT%28DISTINCT+%3Fprotein_without_ref%29+AS+%3Fcount%29%0A++++++++WHERE+%7B%0A++++++BIND%28%22Protein+with+no+PR%22+AS+%3Fmetric%29%0A++++++OPTIONAL+%7B%0A++++++++++++%3Fprotein_without_ref+rdf%3Atype/%28rdfs%3AsubClassOf%2A%29+bp3%3AProtein+.%0A++++++++++++FILTER+NOT+EXISTS+%7B%0A++++++++++++++++%3Fprotein_without_ref+bp3%3AentityReference+%3Fref+.%0A++++++++++++++++%3Fref+rdf%3Atype+bp3%3AProteinReference+.%0A++++++++++++%7D%0A++++++++%7D%0A++++%7D%0A++++++++GROUP+BY+%3Fmetric%0A++++%7D%0A++++UNION%0A++++%7B%0A++++++++SELECT+%3Fmetric+%28COUNT%28DISTINCT+%3Fprotein_that_map_to_uniprot%29+AS+%3Fcount%29%0A++++++++WHERE+%7B%0A++++++++++++BIND%28%22Uniprot+mappings%22+AS+%3Fmetric%29%0A++++++++++++%3Fprotein_that_map_to_uniprot+rdf%3Atype+bp3%3AProtein+.%0A++++++++++++%3Fprotein_that_map_to_uniprot+bp3%3AentityReference+%3Fprotein_ref+.%0A++++++++++++%3Fprotein_ref+rdf%3Atype+bp3%3AProteinReference+.%0A++++++++++++%3Fprotein_ref+bp3%3Axref+%3Fprotein_ref_xref+.%0A++++++++++++%3Fprotein_ref_xref+rdf%3Atype+bp3%3AUnificationXref+.%0A++++++++++++%3Fprotein_ref_xref+bp3%3Adb+%22uniprot+knowledgebase%22+.%0A++++++++++++%3Fprotein_ref_xref+bp3%3Aid+%3Fup_id+.%0A++++++++%7D%0A++++++++GROUP+BY+%3Fmetric%0A++++%7D%0A++++UNION+%0A++++%7B%0A++++++++SELECT+%3Fmetric+%28COUNT%28DISTINCT+%3Fprotein_no_map_to_uniprot%29+AS+%3Fcount%29%0A++++++++WHERE+%7B%0A++++++++++++BIND%28%22Protein+with+no+mapping%22+AS+%3Fmetric%29%0A++++++++++++%3Fprotein_no_map_to_uniprot+rdf%3Atype/%28rdfs%3AsubClassOf%2A%29+bp3%3AProtein+.%0A++++++++++++%3Fprotein_no_map_to_uniprot+bp3%3AentityReference+%3Fprotein_ref+.%0A++++++++++++FILTER+NOT+EXISTS+%7B%0A++++++++++++++++%3Fprotein_ref+bp3%3Axref+%3Fxref+.%0A++++++++++++++++%3Fxref+rdf%3Atype+bp3%3AUnificationXref+.%0A++++++++++++++++%3Fxref+bp3%3Adb+%22uniprot+knowledgebase%22+.%0A++++++++++++++++%3Fxref+bp3%3Aid+%3Fid+.%0A++++++++++++%7D%0A++++++++%7D%0A++++++++GROUP+BY+%3Fmetric%0A++++%7D%0A++++UNION+%0A++++%7B%0A++++++++SELECT+%3Fmetric+%28COUNT%28DISTINCT+%3Fup_id%29+AS+%3Fcount%29%0A++++++++WHERE+%7B%0A++++++++++++BIND%28%22Unique+Uniprot%22+AS+%3Fmetric%29%0A++++++++++++%3Funif_xref+rdf%3Atype+bp3%3AUnificationXref+.%0A++++++++++++%3Funif_xref+bp3%3Adb+%22uniprot+knowledgebase%22+.%0A++++++++++++%3Funif_xref+bp3%3Aid+%3Fup_id+.%0A++++++++%7D%0A++++++++GROUP+BY+%3Fmetric%0A++++%7D%0A%7D%0AORDER+BY+%3Fmetric%0A%0A&format=json&output=json&results=json\n",
      "19:22:09 INFO  Fuseki          :: [1] Query =  PREFIX rdf: <http://www.w3.org/1999/02/22-rdf-syntax-ns#> PREFIX rdfs:<http://www.w3.org/2000/01/rdf-schema#> PREFIX owl: <http://www.w3.org/2002/07/owl#> PREFIX xsd: <http://www.w3.org/2001/XMLSchema#> PREFIX dc: <http://purl.org/dc/elements/1.1/> PREFIX dcterms: <http://purl.org/dc/terms/>  PREFIX chebi: <http://purl.obolibrary.org/obo/chebi/> PREFIX chebidb: <http://purl.obolibrary.org/obo/CHEBI_> PREFIX chebirel: <http://purl.obolibrary.org/obo/CHEBI#> PREFIX oboInOwl: <http://www.geneontology.org/formats/oboInOwl#>  PREFIX bp3: <http://www.biopax.org/release/biopax-level3.owl#>  # Homo_sapiens-20170221.owl #PREFIX reactome: <http://www.reactome.org/biopax/59/48887#>  # # Homo_sapiens-20210608.owl #PREFIX reactome: <http://www.reactome.org/biopax/77/48887#> # # Homo_sapiens-20220614.owl #PREFIX reactome: <http://www.reactome.org/biopax/81/48887#> # # Homo_sapiens-20221130.owl #PREFIX reactome: <http://www.reactome.org/biopax/83/48887#>  PREFIX reactome: <http://www.reactome.org/biopax/87/48887#>  SELECT ?metric ?count # Number of instances of Protein WHERE {     {         SELECT ?metric (COUNT(DISTINCT ?protein) AS ?count)         WHERE {             BIND(\"Protein\" AS ?metric)             ?protein rdf:type/(rdfs:subClassOf*) bp3:Protein .         }         GROUP BY ?metric     }     UNION     {         SELECT ?metric (COUNT(DISTINCT ?protein_ref) AS ?count)         WHERE {             BIND(\"ProteinReference\" AS ?metric)             ?protein_ref rdf:type bp3:ProteinReference .         }         GROUP BY ?metric     }     UNION     {         SELECT ?metric (COUNT(DISTINCT ?protein_without_ref) AS ?count)         WHERE {       BIND(\"Protein with no PR\" AS ?metric)       OPTIONAL {             ?protein_without_ref rdf:type/(rdfs:subClassOf*) bp3:Protein .             FILTER NOT EXISTS {                 ?protein_without_ref bp3:entityReference ?ref .                 ?ref rdf:type bp3:ProteinReference .             }         }     }         GROUP BY ?metric     }     UNION     {         SELECT ?metric (COUNT(DISTINCT ?protein_that_map_to_uniprot) AS ?count)         WHERE {             BIND(\"Uniprot mappings\" AS ?metric)             ?protein_that_map_to_uniprot rdf:type bp3:Protein .             ?protein_that_map_to_uniprot bp3:entityReference ?protein_ref .             ?protein_ref rdf:type bp3:ProteinReference .             ?protein_ref bp3:xref ?protein_ref_xref .             ?protein_ref_xref rdf:type bp3:UnificationXref .             ?protein_ref_xref bp3:db \"uniprot knowledgebase\" .             ?protein_ref_xref bp3:id ?up_id .         }         GROUP BY ?metric     }     UNION      {         SELECT ?metric (COUNT(DISTINCT ?protein_no_map_to_uniprot) AS ?count)         WHERE {             BIND(\"Protein with no mapping\" AS ?metric)             ?protein_no_map_to_uniprot rdf:type/(rdfs:subClassOf*) bp3:Protein .             ?protein_no_map_to_uniprot bp3:entityReference ?protein_ref .             FILTER NOT EXISTS {                 ?protein_ref bp3:xref ?xref .                 ?xref rdf:type bp3:UnificationXref .                 ?xref bp3:db \"uniprot knowledgebase\" .                 ?xref bp3:id ?id .             }         }         GROUP BY ?metric     }     UNION      {         SELECT ?metric (COUNT(DISTINCT ?up_id) AS ?count)         WHERE {             BIND(\"Unique Uniprot\" AS ?metric)             ?unif_xref rdf:type bp3:UnificationXref .             ?unif_xref bp3:db \"uniprot knowledgebase\" .             ?unif_xref bp3:id ?up_id .         }         GROUP BY ?metric     } } ORDER BY ?metric  \n",
      "19:22:09 INFO  Fuseki          :: [1] 200 OK (508 ms)\n"
     ]
    },
    {
     "data": {
      "text/html": [
       "<table><tr><th>metric</th><th>count</th></tr><tr><td>Protein</td><td>1872</td></tr><tr><td>Protein with no PR</td><td>0</td></tr><tr><td>Protein with no mapping</td><td>927</td></tr><tr><td>ProteinReference</td><td>1704</td></tr><tr><td>Uniprot mappings</td><td>945</td></tr><tr><td>Unique Uniprot</td><td>795</td></tr></table>"
      ],
      "text/plain": [
       "<IPython.core.display.HTML object>"
      ]
     },
     "metadata": {},
     "output_type": "display_data"
    },
    {
     "name": "stderr",
     "output_type": "stream",
     "text": [
      "19:22:09 INFO  Fuseki          :: [2] GET http://localhost:3030/kegg_pc/query?query=%0APREFIX+rdf%3A+%3Chttp%3A//www.w3.org/1999/02/22-rdf-syntax-ns%23%3E%0APREFIX+rdfs%3A%3Chttp%3A//www.w3.org/2000/01/rdf-schema%23%3E%0APREFIX+owl%3A+%3Chttp%3A//www.w3.org/2002/07/owl%23%3E%0APREFIX+xsd%3A+%3Chttp%3A//www.w3.org/2001/XMLSchema%23%3E%0APREFIX+dc%3A+%3Chttp%3A//purl.org/dc/elements/1.1/%3E%0APREFIX+dcterms%3A+%3Chttp%3A//purl.org/dc/terms/%3E%0A%0APREFIX+chebi%3A+%3Chttp%3A//purl.obolibrary.org/obo/chebi/%3E%0APREFIX+chebidb%3A+%3Chttp%3A//purl.obolibrary.org/obo/CHEBI_%3E%0APREFIX+chebirel%3A+%3Chttp%3A//purl.obolibrary.org/obo/CHEBI%23%3E%0APREFIX+oboInOwl%3A+%3Chttp%3A//www.geneontology.org/formats/oboInOwl%23%3E%0A%0APREFIX+bp3%3A+%3Chttp%3A//www.biopax.org/release/biopax-level3.owl%23%3E%0A%0A%23+Homo_sapiens-20170221.owl%0A%23PREFIX+reactome%3A+%3Chttp%3A//www.reactome.org/biopax/59/48887%23%3E+%0A%23%0A%23+Homo_sapiens-20210608.owl%0A%23PREFIX+reactome%3A+%3Chttp%3A//www.reactome.org/biopax/77/48887%23%3E%0A%23%0A%23+Homo_sapiens-20220614.owl%0A%23PREFIX+reactome%3A+%3Chttp%3A//www.reactome.org/biopax/81/48887%23%3E%0A%23%0A%23+Homo_sapiens-20221130.owl%0A%23PREFIX+reactome%3A+%3Chttp%3A//www.reactome.org/biopax/83/48887%23%3E%0A%0APREFIX+reactome%3A+%3Chttp%3A//www.reactome.org/biopax/87/48887%23%3E%0A%0ASELECT+%3Fmetric+%3Fcount%0A%23+Number+of+instances+of+Protein%0AWHERE+%7B%0A++++%7B%0A++++++++SELECT+%3Fmetric+%28COUNT%28DISTINCT+%3Fprotein%29+AS+%3Fcount%29%0A++++++++WHERE+%7B%0A++++++++++++BIND%28%22Protein%22+AS+%3Fmetric%29%0A++++++++++++%3Fprotein+rdf%3Atype/%28rdfs%3AsubClassOf%2A%29+bp3%3AProtein+.%0A++++++++%7D%0A++++++++GROUP+BY+%3Fmetric%0A++++%7D%0A++++UNION%0A++++%7B%0A++++++++SELECT+%3Fmetric+%28COUNT%28DISTINCT+%3Fprotein_ref%29+AS+%3Fcount%29%0A++++++++WHERE+%7B%0A++++++++++++BIND%28%22ProteinReference%22+AS+%3Fmetric%29%0A++++++++++++%3Fprotein_ref+rdf%3Atype+bp3%3AProteinReference+.%0A++++++++%7D%0A++++++++GROUP+BY+%3Fmetric%0A++++%7D%0A++++UNION%0A++++%7B%0A++++++++SELECT+%3Fmetric+%28COUNT%28DISTINCT+%3Fprotein_without_ref%29+AS+%3Fcount%29%0A++++++++WHERE+%7B%0A++++++BIND%28%22Protein+with+no+PR%22+AS+%3Fmetric%29%0A++++++OPTIONAL+%7B%0A++++++++++++%3Fprotein_without_ref+rdf%3Atype/%28rdfs%3AsubClassOf%2A%29+bp3%3AProtein+.%0A++++++++++++FILTER+NOT+EXISTS+%7B%0A++++++++++++++++%3Fprotein_without_ref+bp3%3AentityReference+%3Fref+.%0A++++++++++++++++%3Fref+rdf%3Atype+bp3%3AProteinReference+.%0A++++++++++++%7D%0A++++++++%7D%0A++++%7D%0A++++++++GROUP+BY+%3Fmetric%0A++++%7D%0A++++UNION%0A++++%7B%0A++++++++SELECT+%3Fmetric+%28COUNT%28DISTINCT+%3Fprotein_that_map_to_uniprot%29+AS+%3Fcount%29%0A++++++++WHERE+%7B%0A++++++++++++BIND%28%22Uniprot+mappings%22+AS+%3Fmetric%29%0A++++++++++++%3Fprotein_that_map_to_uniprot+rdf%3Atype+bp3%3AProtein+.%0A++++++++++++%3Fprotein_that_map_to_uniprot+bp3%3AentityReference+%3Fprotein_ref+.%0A++++++++++++%3Fprotein_ref+rdf%3Atype+bp3%3AProteinReference+.%0A++++++++++++%3Fprotein_ref+bp3%3Axref+%3Fprotein_ref_xref+.%0A++++++++++++%3Fprotein_ref_xref+rdf%3Atype+bp3%3AUnificationXref+.%0A++++++++++++%3Fprotein_ref_xref+bp3%3Adb+%22uniprot+knowledgebase%22+.%0A++++++++++++%3Fprotein_ref_xref+bp3%3Aid+%3Fup_id+.%0A++++++++%7D%0A++++++++GROUP+BY+%3Fmetric%0A++++%7D%0A++++UNION+%0A++++%7B%0A++++++++SELECT+%3Fmetric+%28COUNT%28DISTINCT+%3Fprotein_no_map_to_uniprot%29+AS+%3Fcount%29%0A++++++++WHERE+%7B%0A++++++++++++BIND%28%22Protein+with+no+mapping%22+AS+%3Fmetric%29%0A++++++++++++%3Fprotein_no_map_to_uniprot+rdf%3Atype/%28rdfs%3AsubClassOf%2A%29+bp3%3AProtein+.%0A++++++++++++%3Fprotein_no_map_to_uniprot+bp3%3AentityReference+%3Fprotein_ref+.%0A++++++++++++FILTER+NOT+EXISTS+%7B%0A++++++++++++++++%3Fprotein_ref+bp3%3Axref+%3Fxref+.%0A++++++++++++++++%3Fxref+rdf%3Atype+bp3%3AUnificationXref+.%0A++++++++++++++++%3Fxref+bp3%3Adb+%22uniprot+knowledgebase%22+.%0A++++++++++++++++%3Fxref+bp3%3Aid+%3Fid+.%0A++++++++++++%7D%0A++++++++%7D%0A++++++++GROUP+BY+%3Fmetric%0A++++%7D%0A++++UNION+%0A++++%7B%0A++++++++SELECT+%3Fmetric+%28COUNT%28DISTINCT+%3Fup_id%29+AS+%3Fcount%29%0A++++++++WHERE+%7B%0A++++++++++++BIND%28%22Unique+Uniprot%22+AS+%3Fmetric%29%0A++++++++++++%3Funif_xref+rdf%3Atype+bp3%3AUnificationXref+.%0A++++++++++++%3Funif_xref+bp3%3Adb+%22uniprot+knowledgebase%22+.%0A++++++++++++%3Funif_xref+bp3%3Aid+%3Fup_id+.%0A++++++++%7D%0A++++++++GROUP+BY+%3Fmetric%0A++++%7D%0A%7D%0AORDER+BY+%3Fmetric%0A%0A&format=csv&output=csv&results=csv\n",
      "19:22:09 INFO  Fuseki          :: [2] Query =  PREFIX rdf: <http://www.w3.org/1999/02/22-rdf-syntax-ns#> PREFIX rdfs:<http://www.w3.org/2000/01/rdf-schema#> PREFIX owl: <http://www.w3.org/2002/07/owl#> PREFIX xsd: <http://www.w3.org/2001/XMLSchema#> PREFIX dc: <http://purl.org/dc/elements/1.1/> PREFIX dcterms: <http://purl.org/dc/terms/>  PREFIX chebi: <http://purl.obolibrary.org/obo/chebi/> PREFIX chebidb: <http://purl.obolibrary.org/obo/CHEBI_> PREFIX chebirel: <http://purl.obolibrary.org/obo/CHEBI#> PREFIX oboInOwl: <http://www.geneontology.org/formats/oboInOwl#>  PREFIX bp3: <http://www.biopax.org/release/biopax-level3.owl#>  # Homo_sapiens-20170221.owl #PREFIX reactome: <http://www.reactome.org/biopax/59/48887#>  # # Homo_sapiens-20210608.owl #PREFIX reactome: <http://www.reactome.org/biopax/77/48887#> # # Homo_sapiens-20220614.owl #PREFIX reactome: <http://www.reactome.org/biopax/81/48887#> # # Homo_sapiens-20221130.owl #PREFIX reactome: <http://www.reactome.org/biopax/83/48887#>  PREFIX reactome: <http://www.reactome.org/biopax/87/48887#>  SELECT ?metric ?count # Number of instances of Protein WHERE {     {         SELECT ?metric (COUNT(DISTINCT ?protein) AS ?count)         WHERE {             BIND(\"Protein\" AS ?metric)             ?protein rdf:type/(rdfs:subClassOf*) bp3:Protein .         }         GROUP BY ?metric     }     UNION     {         SELECT ?metric (COUNT(DISTINCT ?protein_ref) AS ?count)         WHERE {             BIND(\"ProteinReference\" AS ?metric)             ?protein_ref rdf:type bp3:ProteinReference .         }         GROUP BY ?metric     }     UNION     {         SELECT ?metric (COUNT(DISTINCT ?protein_without_ref) AS ?count)         WHERE {       BIND(\"Protein with no PR\" AS ?metric)       OPTIONAL {             ?protein_without_ref rdf:type/(rdfs:subClassOf*) bp3:Protein .             FILTER NOT EXISTS {                 ?protein_without_ref bp3:entityReference ?ref .                 ?ref rdf:type bp3:ProteinReference .             }         }     }         GROUP BY ?metric     }     UNION     {         SELECT ?metric (COUNT(DISTINCT ?protein_that_map_to_uniprot) AS ?count)         WHERE {             BIND(\"Uniprot mappings\" AS ?metric)             ?protein_that_map_to_uniprot rdf:type bp3:Protein .             ?protein_that_map_to_uniprot bp3:entityReference ?protein_ref .             ?protein_ref rdf:type bp3:ProteinReference .             ?protein_ref bp3:xref ?protein_ref_xref .             ?protein_ref_xref rdf:type bp3:UnificationXref .             ?protein_ref_xref bp3:db \"uniprot knowledgebase\" .             ?protein_ref_xref bp3:id ?up_id .         }         GROUP BY ?metric     }     UNION      {         SELECT ?metric (COUNT(DISTINCT ?protein_no_map_to_uniprot) AS ?count)         WHERE {             BIND(\"Protein with no mapping\" AS ?metric)             ?protein_no_map_to_uniprot rdf:type/(rdfs:subClassOf*) bp3:Protein .             ?protein_no_map_to_uniprot bp3:entityReference ?protein_ref .             FILTER NOT EXISTS {                 ?protein_ref bp3:xref ?xref .                 ?xref rdf:type bp3:UnificationXref .                 ?xref bp3:db \"uniprot knowledgebase\" .                 ?xref bp3:id ?id .             }         }         GROUP BY ?metric     }     UNION      {         SELECT ?metric (COUNT(DISTINCT ?up_id) AS ?count)         WHERE {             BIND(\"Unique Uniprot\" AS ?metric)             ?unif_xref rdf:type bp3:UnificationXref .             ?unif_xref bp3:db \"uniprot knowledgebase\" .             ?unif_xref bp3:id ?up_id .         }         GROUP BY ?metric     } } ORDER BY ?metric  \n",
      "19:22:09 INFO  Fuseki          :: [2] 200 OK (173 ms)\n"
     ]
    }
   ],
   "source": [
    "# TODO: change path\n",
    "command = [\n",
    "    '/home/cbeust/Softwares/JenaFuseki/apache-jena-fuseki-4.9.0/fuseki-server',\n",
    "    '--file', '/home/cbeust/Projects/2024/BioPAX_Review/Compare_BioPAX_Files/PathwayCommonsFiles/PathwayCommons12.kegg.BIOPAX.owl',\n",
    "    '--file', '/home/cbeust/Projects/2024/BioPAX_Review/BioPAX_Ontology/biopax-level3.owl',\n",
    "    '/kegg_pc']\n",
    "process = subprocess.Popen(command)\n",
    "time.sleep(60)\n",
    "\n",
    "# execute SPARQL query\n",
    "sparql = SPARQLWrapper(endpointURL_kegg_pc)\n",
    "sparql.setQuery(prefixes+query2)\n",
    "\n",
    "# display results\n",
    "sparql.setReturnFormat(JSON)\n",
    "results = sparql.query().convert()\n",
    "displaySparqlResults(results)\n",
    "\n",
    "# export to CSV\n",
    "sparql.setReturnFormat(CSV)\n",
    "results = sparql.query().convert()\n",
    "with open(\"../Results/kegg_pc_mappings_uniprot.csv\", \"wb\") as f:\n",
    "    f.write(results)\n",
    "\n",
    "# end process\n",
    "process.kill()\n",
    "time.sleep(60)"
   ]
  },
  {
   "cell_type": "markdown",
   "metadata": {},
   "source": [
    "#### Query on BioPAX export of PID from PathwayCommons"
   ]
  },
  {
   "cell_type": "code",
   "execution_count": 12,
   "metadata": {},
   "outputs": [
    {
     "name": "stderr",
     "output_type": "stream",
     "text": [
      "19:23:10 INFO  Server          :: Dataset: in-memory: load file: /home/cbeust/Projects/2024/BioPAX_Review/Compare_BioPAX_Files/PathwayCommonsFiles/PathwayCommons12.pid.BIOPAX.owl\n",
      "19:23:11 WARN  riot            :: [line: 77671, col: 87] {W137} Input is large. Switching off checking for illegal reuse of rdf:ID's.\n",
      "19:23:16 INFO  Server          :: Dataset: in-memory: load file: /home/cbeust/Projects/2024/BioPAX_Review/BioPAX_Ontology/biopax-level3.owl\n",
      "19:23:16 INFO  Server          :: Running in read-only mode for /pid_pc\n",
      "19:23:16 INFO  Server          :: Apache Jena Fuseki 4.9.0\n",
      "19:23:16 INFO  Config          :: FUSEKI_HOME=/home/cbeust/Softwares/JenaFuseki/apache-jena-fuseki-4.9.0\n",
      "19:23:16 INFO  Config          :: FUSEKI_BASE=/home/cbeust/Projects/2024/BioPAX_Review/BioPAXReview2024Codes/Figure4-5/Scripts/run\n",
      "19:23:16 INFO  Config          :: Shiro file: file:///home/cbeust/Projects/2024/BioPAX_Review/BioPAXReview2024Codes/Figure4-5/Scripts/run/shiro.ini\n",
      "19:23:16 INFO  Server          :: Database: in-memory, with files loaded\n",
      "19:23:16 INFO  Server          :: Path = /pid_pc\n",
      "19:23:16 INFO  Server          ::   Memory: 16.0 GiB\n",
      "19:23:16 INFO  Server          ::   Java:   17.0.11\n",
      "19:23:16 INFO  Server          ::   OS:     Linux 6.8.9-100.fc38.x86_64 amd64\n",
      "19:23:16 INFO  Server          ::   PID:    72635\n",
      "19:23:16 INFO  Server          :: Started 2024/07/29 19:23:16 CEST on port 3030\n",
      "19:24:10 INFO  Fuseki          :: [1] GET http://localhost:3030/pid_pc/query?query=%0APREFIX+rdf%3A+%3Chttp%3A//www.w3.org/1999/02/22-rdf-syntax-ns%23%3E%0APREFIX+rdfs%3A%3Chttp%3A//www.w3.org/2000/01/rdf-schema%23%3E%0APREFIX+owl%3A+%3Chttp%3A//www.w3.org/2002/07/owl%23%3E%0APREFIX+xsd%3A+%3Chttp%3A//www.w3.org/2001/XMLSchema%23%3E%0APREFIX+dc%3A+%3Chttp%3A//purl.org/dc/elements/1.1/%3E%0APREFIX+dcterms%3A+%3Chttp%3A//purl.org/dc/terms/%3E%0A%0APREFIX+chebi%3A+%3Chttp%3A//purl.obolibrary.org/obo/chebi/%3E%0APREFIX+chebidb%3A+%3Chttp%3A//purl.obolibrary.org/obo/CHEBI_%3E%0APREFIX+chebirel%3A+%3Chttp%3A//purl.obolibrary.org/obo/CHEBI%23%3E%0APREFIX+oboInOwl%3A+%3Chttp%3A//www.geneontology.org/formats/oboInOwl%23%3E%0A%0APREFIX+bp3%3A+%3Chttp%3A//www.biopax.org/release/biopax-level3.owl%23%3E%0A%0A%23+Homo_sapiens-20170221.owl%0A%23PREFIX+reactome%3A+%3Chttp%3A//www.reactome.org/biopax/59/48887%23%3E+%0A%23%0A%23+Homo_sapiens-20210608.owl%0A%23PREFIX+reactome%3A+%3Chttp%3A//www.reactome.org/biopax/77/48887%23%3E%0A%23%0A%23+Homo_sapiens-20220614.owl%0A%23PREFIX+reactome%3A+%3Chttp%3A//www.reactome.org/biopax/81/48887%23%3E%0A%23%0A%23+Homo_sapiens-20221130.owl%0A%23PREFIX+reactome%3A+%3Chttp%3A//www.reactome.org/biopax/83/48887%23%3E%0A%0APREFIX+reactome%3A+%3Chttp%3A//www.reactome.org/biopax/87/48887%23%3E%0A%0ASELECT+%3Fmetric+%3Fcount%0A%23+Number+of+instances+of+Protein%0AWHERE+%7B%0A++++%7B%0A++++++++SELECT+%3Fmetric+%28COUNT%28DISTINCT+%3Fprotein%29+AS+%3Fcount%29%0A++++++++WHERE+%7B%0A++++++++++++BIND%28%22Protein%22+AS+%3Fmetric%29%0A++++++++++++%3Fprotein+rdf%3Atype/%28rdfs%3AsubClassOf%2A%29+bp3%3AProtein+.%0A++++++++%7D%0A++++++++GROUP+BY+%3Fmetric%0A++++%7D%0A++++UNION%0A++++%7B%0A++++++++SELECT+%3Fmetric+%28COUNT%28DISTINCT+%3Fprotein_ref%29+AS+%3Fcount%29%0A++++++++WHERE+%7B%0A++++++++++++BIND%28%22ProteinReference%22+AS+%3Fmetric%29%0A++++++++++++%3Fprotein_ref+rdf%3Atype+bp3%3AProteinReference+.%0A++++++++%7D%0A++++++++GROUP+BY+%3Fmetric%0A++++%7D%0A++++UNION%0A++++%7B%0A++++++++SELECT+%3Fmetric+%28COUNT%28DISTINCT+%3Fprotein_without_ref%29+AS+%3Fcount%29%0A++++++++WHERE+%7B%0A++++++BIND%28%22Protein+with+no+PR%22+AS+%3Fmetric%29%0A++++++OPTIONAL+%7B%0A++++++++++++%3Fprotein_without_ref+rdf%3Atype/%28rdfs%3AsubClassOf%2A%29+bp3%3AProtein+.%0A++++++++++++FILTER+NOT+EXISTS+%7B%0A++++++++++++++++%3Fprotein_without_ref+bp3%3AentityReference+%3Fref+.%0A++++++++++++++++%3Fref+rdf%3Atype+bp3%3AProteinReference+.%0A++++++++++++%7D%0A++++++++%7D%0A++++%7D%0A++++++++GROUP+BY+%3Fmetric%0A++++%7D%0A++++UNION%0A++++%7B%0A++++++++SELECT+%3Fmetric+%28COUNT%28DISTINCT+%3Fprotein_that_map_to_uniprot%29+AS+%3Fcount%29%0A++++++++WHERE+%7B%0A++++++++++++BIND%28%22Uniprot+mappings%22+AS+%3Fmetric%29%0A++++++++++++%3Fprotein_that_map_to_uniprot+rdf%3Atype+bp3%3AProtein+.%0A++++++++++++%3Fprotein_that_map_to_uniprot+bp3%3AentityReference+%3Fprotein_ref+.%0A++++++++++++%3Fprotein_ref+rdf%3Atype+bp3%3AProteinReference+.%0A++++++++++++%3Fprotein_ref+bp3%3Axref+%3Fprotein_ref_xref+.%0A++++++++++++%3Fprotein_ref_xref+rdf%3Atype+bp3%3AUnificationXref+.%0A++++++++++++%3Fprotein_ref_xref+bp3%3Adb+%22uniprot+knowledgebase%22+.%0A++++++++++++%3Fprotein_ref_xref+bp3%3Aid+%3Fup_id+.%0A++++++++%7D%0A++++++++GROUP+BY+%3Fmetric%0A++++%7D%0A++++UNION+%0A++++%7B%0A++++++++SELECT+%3Fmetric+%28COUNT%28DISTINCT+%3Fprotein_no_map_to_uniprot%29+AS+%3Fcount%29%0A++++++++WHERE+%7B%0A++++++++++++BIND%28%22Protein+with+no+mapping%22+AS+%3Fmetric%29%0A++++++++++++%3Fprotein_no_map_to_uniprot+rdf%3Atype/%28rdfs%3AsubClassOf%2A%29+bp3%3AProtein+.%0A++++++++++++%3Fprotein_no_map_to_uniprot+bp3%3AentityReference+%3Fprotein_ref+.%0A++++++++++++FILTER+NOT+EXISTS+%7B%0A++++++++++++++++%3Fprotein_ref+bp3%3Axref+%3Fxref+.%0A++++++++++++++++%3Fxref+rdf%3Atype+bp3%3AUnificationXref+.%0A++++++++++++++++%3Fxref+bp3%3Adb+%22uniprot+knowledgebase%22+.%0A++++++++++++++++%3Fxref+bp3%3Aid+%3Fid+.%0A++++++++++++%7D%0A++++++++%7D%0A++++++++GROUP+BY+%3Fmetric%0A++++%7D%0A++++UNION+%0A++++%7B%0A++++++++SELECT+%3Fmetric+%28COUNT%28DISTINCT+%3Fup_id%29+AS+%3Fcount%29%0A++++++++WHERE+%7B%0A++++++++++++BIND%28%22Unique+Uniprot%22+AS+%3Fmetric%29%0A++++++++++++%3Funif_xref+rdf%3Atype+bp3%3AUnificationXref+.%0A++++++++++++%3Funif_xref+bp3%3Adb+%22uniprot+knowledgebase%22+.%0A++++++++++++%3Funif_xref+bp3%3Aid+%3Fup_id+.%0A++++++++%7D%0A++++++++GROUP+BY+%3Fmetric%0A++++%7D%0A%7D%0AORDER+BY+%3Fmetric%0A%0A&format=json&output=json&results=json\n",
      "19:24:10 INFO  Fuseki          :: [1] Query =  PREFIX rdf: <http://www.w3.org/1999/02/22-rdf-syntax-ns#> PREFIX rdfs:<http://www.w3.org/2000/01/rdf-schema#> PREFIX owl: <http://www.w3.org/2002/07/owl#> PREFIX xsd: <http://www.w3.org/2001/XMLSchema#> PREFIX dc: <http://purl.org/dc/elements/1.1/> PREFIX dcterms: <http://purl.org/dc/terms/>  PREFIX chebi: <http://purl.obolibrary.org/obo/chebi/> PREFIX chebidb: <http://purl.obolibrary.org/obo/CHEBI_> PREFIX chebirel: <http://purl.obolibrary.org/obo/CHEBI#> PREFIX oboInOwl: <http://www.geneontology.org/formats/oboInOwl#>  PREFIX bp3: <http://www.biopax.org/release/biopax-level3.owl#>  # Homo_sapiens-20170221.owl #PREFIX reactome: <http://www.reactome.org/biopax/59/48887#>  # # Homo_sapiens-20210608.owl #PREFIX reactome: <http://www.reactome.org/biopax/77/48887#> # # Homo_sapiens-20220614.owl #PREFIX reactome: <http://www.reactome.org/biopax/81/48887#> # # Homo_sapiens-20221130.owl #PREFIX reactome: <http://www.reactome.org/biopax/83/48887#>  PREFIX reactome: <http://www.reactome.org/biopax/87/48887#>  SELECT ?metric ?count # Number of instances of Protein WHERE {     {         SELECT ?metric (COUNT(DISTINCT ?protein) AS ?count)         WHERE {             BIND(\"Protein\" AS ?metric)             ?protein rdf:type/(rdfs:subClassOf*) bp3:Protein .         }         GROUP BY ?metric     }     UNION     {         SELECT ?metric (COUNT(DISTINCT ?protein_ref) AS ?count)         WHERE {             BIND(\"ProteinReference\" AS ?metric)             ?protein_ref rdf:type bp3:ProteinReference .         }         GROUP BY ?metric     }     UNION     {         SELECT ?metric (COUNT(DISTINCT ?protein_without_ref) AS ?count)         WHERE {       BIND(\"Protein with no PR\" AS ?metric)       OPTIONAL {             ?protein_without_ref rdf:type/(rdfs:subClassOf*) bp3:Protein .             FILTER NOT EXISTS {                 ?protein_without_ref bp3:entityReference ?ref .                 ?ref rdf:type bp3:ProteinReference .             }         }     }         GROUP BY ?metric     }     UNION     {         SELECT ?metric (COUNT(DISTINCT ?protein_that_map_to_uniprot) AS ?count)         WHERE {             BIND(\"Uniprot mappings\" AS ?metric)             ?protein_that_map_to_uniprot rdf:type bp3:Protein .             ?protein_that_map_to_uniprot bp3:entityReference ?protein_ref .             ?protein_ref rdf:type bp3:ProteinReference .             ?protein_ref bp3:xref ?protein_ref_xref .             ?protein_ref_xref rdf:type bp3:UnificationXref .             ?protein_ref_xref bp3:db \"uniprot knowledgebase\" .             ?protein_ref_xref bp3:id ?up_id .         }         GROUP BY ?metric     }     UNION      {         SELECT ?metric (COUNT(DISTINCT ?protein_no_map_to_uniprot) AS ?count)         WHERE {             BIND(\"Protein with no mapping\" AS ?metric)             ?protein_no_map_to_uniprot rdf:type/(rdfs:subClassOf*) bp3:Protein .             ?protein_no_map_to_uniprot bp3:entityReference ?protein_ref .             FILTER NOT EXISTS {                 ?protein_ref bp3:xref ?xref .                 ?xref rdf:type bp3:UnificationXref .                 ?xref bp3:db \"uniprot knowledgebase\" .                 ?xref bp3:id ?id .             }         }         GROUP BY ?metric     }     UNION      {         SELECT ?metric (COUNT(DISTINCT ?up_id) AS ?count)         WHERE {             BIND(\"Unique Uniprot\" AS ?metric)             ?unif_xref rdf:type bp3:UnificationXref .             ?unif_xref bp3:db \"uniprot knowledgebase\" .             ?unif_xref bp3:id ?up_id .         }         GROUP BY ?metric     } } ORDER BY ?metric  \n",
      "19:24:10 INFO  Fuseki          :: [1] 200 OK (616 ms)\n"
     ]
    },
    {
     "data": {
      "text/html": [
       "<table><tr><th>metric</th><th>count</th></tr><tr><td>Protein</td><td>6584</td></tr><tr><td>Protein with no PR</td><td>0</td></tr><tr><td>Protein with no mapping</td><td>175</td></tr><tr><td>ProteinReference</td><td>2735</td></tr><tr><td>Uniprot mappings</td><td>6409</td></tr><tr><td>Unique Uniprot</td><td>2620</td></tr></table>"
      ],
      "text/plain": [
       "<IPython.core.display.HTML object>"
      ]
     },
     "metadata": {},
     "output_type": "display_data"
    },
    {
     "name": "stderr",
     "output_type": "stream",
     "text": [
      "19:24:10 INFO  Fuseki          :: [2] GET http://localhost:3030/pid_pc/query?query=%0APREFIX+rdf%3A+%3Chttp%3A//www.w3.org/1999/02/22-rdf-syntax-ns%23%3E%0APREFIX+rdfs%3A%3Chttp%3A//www.w3.org/2000/01/rdf-schema%23%3E%0APREFIX+owl%3A+%3Chttp%3A//www.w3.org/2002/07/owl%23%3E%0APREFIX+xsd%3A+%3Chttp%3A//www.w3.org/2001/XMLSchema%23%3E%0APREFIX+dc%3A+%3Chttp%3A//purl.org/dc/elements/1.1/%3E%0APREFIX+dcterms%3A+%3Chttp%3A//purl.org/dc/terms/%3E%0A%0APREFIX+chebi%3A+%3Chttp%3A//purl.obolibrary.org/obo/chebi/%3E%0APREFIX+chebidb%3A+%3Chttp%3A//purl.obolibrary.org/obo/CHEBI_%3E%0APREFIX+chebirel%3A+%3Chttp%3A//purl.obolibrary.org/obo/CHEBI%23%3E%0APREFIX+oboInOwl%3A+%3Chttp%3A//www.geneontology.org/formats/oboInOwl%23%3E%0A%0APREFIX+bp3%3A+%3Chttp%3A//www.biopax.org/release/biopax-level3.owl%23%3E%0A%0A%23+Homo_sapiens-20170221.owl%0A%23PREFIX+reactome%3A+%3Chttp%3A//www.reactome.org/biopax/59/48887%23%3E+%0A%23%0A%23+Homo_sapiens-20210608.owl%0A%23PREFIX+reactome%3A+%3Chttp%3A//www.reactome.org/biopax/77/48887%23%3E%0A%23%0A%23+Homo_sapiens-20220614.owl%0A%23PREFIX+reactome%3A+%3Chttp%3A//www.reactome.org/biopax/81/48887%23%3E%0A%23%0A%23+Homo_sapiens-20221130.owl%0A%23PREFIX+reactome%3A+%3Chttp%3A//www.reactome.org/biopax/83/48887%23%3E%0A%0APREFIX+reactome%3A+%3Chttp%3A//www.reactome.org/biopax/87/48887%23%3E%0A%0ASELECT+%3Fmetric+%3Fcount%0A%23+Number+of+instances+of+Protein%0AWHERE+%7B%0A++++%7B%0A++++++++SELECT+%3Fmetric+%28COUNT%28DISTINCT+%3Fprotein%29+AS+%3Fcount%29%0A++++++++WHERE+%7B%0A++++++++++++BIND%28%22Protein%22+AS+%3Fmetric%29%0A++++++++++++%3Fprotein+rdf%3Atype/%28rdfs%3AsubClassOf%2A%29+bp3%3AProtein+.%0A++++++++%7D%0A++++++++GROUP+BY+%3Fmetric%0A++++%7D%0A++++UNION%0A++++%7B%0A++++++++SELECT+%3Fmetric+%28COUNT%28DISTINCT+%3Fprotein_ref%29+AS+%3Fcount%29%0A++++++++WHERE+%7B%0A++++++++++++BIND%28%22ProteinReference%22+AS+%3Fmetric%29%0A++++++++++++%3Fprotein_ref+rdf%3Atype+bp3%3AProteinReference+.%0A++++++++%7D%0A++++++++GROUP+BY+%3Fmetric%0A++++%7D%0A++++UNION%0A++++%7B%0A++++++++SELECT+%3Fmetric+%28COUNT%28DISTINCT+%3Fprotein_without_ref%29+AS+%3Fcount%29%0A++++++++WHERE+%7B%0A++++++BIND%28%22Protein+with+no+PR%22+AS+%3Fmetric%29%0A++++++OPTIONAL+%7B%0A++++++++++++%3Fprotein_without_ref+rdf%3Atype/%28rdfs%3AsubClassOf%2A%29+bp3%3AProtein+.%0A++++++++++++FILTER+NOT+EXISTS+%7B%0A++++++++++++++++%3Fprotein_without_ref+bp3%3AentityReference+%3Fref+.%0A++++++++++++++++%3Fref+rdf%3Atype+bp3%3AProteinReference+.%0A++++++++++++%7D%0A++++++++%7D%0A++++%7D%0A++++++++GROUP+BY+%3Fmetric%0A++++%7D%0A++++UNION%0A++++%7B%0A++++++++SELECT+%3Fmetric+%28COUNT%28DISTINCT+%3Fprotein_that_map_to_uniprot%29+AS+%3Fcount%29%0A++++++++WHERE+%7B%0A++++++++++++BIND%28%22Uniprot+mappings%22+AS+%3Fmetric%29%0A++++++++++++%3Fprotein_that_map_to_uniprot+rdf%3Atype+bp3%3AProtein+.%0A++++++++++++%3Fprotein_that_map_to_uniprot+bp3%3AentityReference+%3Fprotein_ref+.%0A++++++++++++%3Fprotein_ref+rdf%3Atype+bp3%3AProteinReference+.%0A++++++++++++%3Fprotein_ref+bp3%3Axref+%3Fprotein_ref_xref+.%0A++++++++++++%3Fprotein_ref_xref+rdf%3Atype+bp3%3AUnificationXref+.%0A++++++++++++%3Fprotein_ref_xref+bp3%3Adb+%22uniprot+knowledgebase%22+.%0A++++++++++++%3Fprotein_ref_xref+bp3%3Aid+%3Fup_id+.%0A++++++++%7D%0A++++++++GROUP+BY+%3Fmetric%0A++++%7D%0A++++UNION+%0A++++%7B%0A++++++++SELECT+%3Fmetric+%28COUNT%28DISTINCT+%3Fprotein_no_map_to_uniprot%29+AS+%3Fcount%29%0A++++++++WHERE+%7B%0A++++++++++++BIND%28%22Protein+with+no+mapping%22+AS+%3Fmetric%29%0A++++++++++++%3Fprotein_no_map_to_uniprot+rdf%3Atype/%28rdfs%3AsubClassOf%2A%29+bp3%3AProtein+.%0A++++++++++++%3Fprotein_no_map_to_uniprot+bp3%3AentityReference+%3Fprotein_ref+.%0A++++++++++++FILTER+NOT+EXISTS+%7B%0A++++++++++++++++%3Fprotein_ref+bp3%3Axref+%3Fxref+.%0A++++++++++++++++%3Fxref+rdf%3Atype+bp3%3AUnificationXref+.%0A++++++++++++++++%3Fxref+bp3%3Adb+%22uniprot+knowledgebase%22+.%0A++++++++++++++++%3Fxref+bp3%3Aid+%3Fid+.%0A++++++++++++%7D%0A++++++++%7D%0A++++++++GROUP+BY+%3Fmetric%0A++++%7D%0A++++UNION+%0A++++%7B%0A++++++++SELECT+%3Fmetric+%28COUNT%28DISTINCT+%3Fup_id%29+AS+%3Fcount%29%0A++++++++WHERE+%7B%0A++++++++++++BIND%28%22Unique+Uniprot%22+AS+%3Fmetric%29%0A++++++++++++%3Funif_xref+rdf%3Atype+bp3%3AUnificationXref+.%0A++++++++++++%3Funif_xref+bp3%3Adb+%22uniprot+knowledgebase%22+.%0A++++++++++++%3Funif_xref+bp3%3Aid+%3Fup_id+.%0A++++++++%7D%0A++++++++GROUP+BY+%3Fmetric%0A++++%7D%0A%7D%0AORDER+BY+%3Fmetric%0A%0A&format=csv&output=csv&results=csv\n",
      "19:24:10 INFO  Fuseki          :: [2] Query =  PREFIX rdf: <http://www.w3.org/1999/02/22-rdf-syntax-ns#> PREFIX rdfs:<http://www.w3.org/2000/01/rdf-schema#> PREFIX owl: <http://www.w3.org/2002/07/owl#> PREFIX xsd: <http://www.w3.org/2001/XMLSchema#> PREFIX dc: <http://purl.org/dc/elements/1.1/> PREFIX dcterms: <http://purl.org/dc/terms/>  PREFIX chebi: <http://purl.obolibrary.org/obo/chebi/> PREFIX chebidb: <http://purl.obolibrary.org/obo/CHEBI_> PREFIX chebirel: <http://purl.obolibrary.org/obo/CHEBI#> PREFIX oboInOwl: <http://www.geneontology.org/formats/oboInOwl#>  PREFIX bp3: <http://www.biopax.org/release/biopax-level3.owl#>  # Homo_sapiens-20170221.owl #PREFIX reactome: <http://www.reactome.org/biopax/59/48887#>  # # Homo_sapiens-20210608.owl #PREFIX reactome: <http://www.reactome.org/biopax/77/48887#> # # Homo_sapiens-20220614.owl #PREFIX reactome: <http://www.reactome.org/biopax/81/48887#> # # Homo_sapiens-20221130.owl #PREFIX reactome: <http://www.reactome.org/biopax/83/48887#>  PREFIX reactome: <http://www.reactome.org/biopax/87/48887#>  SELECT ?metric ?count # Number of instances of Protein WHERE {     {         SELECT ?metric (COUNT(DISTINCT ?protein) AS ?count)         WHERE {             BIND(\"Protein\" AS ?metric)             ?protein rdf:type/(rdfs:subClassOf*) bp3:Protein .         }         GROUP BY ?metric     }     UNION     {         SELECT ?metric (COUNT(DISTINCT ?protein_ref) AS ?count)         WHERE {             BIND(\"ProteinReference\" AS ?metric)             ?protein_ref rdf:type bp3:ProteinReference .         }         GROUP BY ?metric     }     UNION     {         SELECT ?metric (COUNT(DISTINCT ?protein_without_ref) AS ?count)         WHERE {       BIND(\"Protein with no PR\" AS ?metric)       OPTIONAL {             ?protein_without_ref rdf:type/(rdfs:subClassOf*) bp3:Protein .             FILTER NOT EXISTS {                 ?protein_without_ref bp3:entityReference ?ref .                 ?ref rdf:type bp3:ProteinReference .             }         }     }         GROUP BY ?metric     }     UNION     {         SELECT ?metric (COUNT(DISTINCT ?protein_that_map_to_uniprot) AS ?count)         WHERE {             BIND(\"Uniprot mappings\" AS ?metric)             ?protein_that_map_to_uniprot rdf:type bp3:Protein .             ?protein_that_map_to_uniprot bp3:entityReference ?protein_ref .             ?protein_ref rdf:type bp3:ProteinReference .             ?protein_ref bp3:xref ?protein_ref_xref .             ?protein_ref_xref rdf:type bp3:UnificationXref .             ?protein_ref_xref bp3:db \"uniprot knowledgebase\" .             ?protein_ref_xref bp3:id ?up_id .         }         GROUP BY ?metric     }     UNION      {         SELECT ?metric (COUNT(DISTINCT ?protein_no_map_to_uniprot) AS ?count)         WHERE {             BIND(\"Protein with no mapping\" AS ?metric)             ?protein_no_map_to_uniprot rdf:type/(rdfs:subClassOf*) bp3:Protein .             ?protein_no_map_to_uniprot bp3:entityReference ?protein_ref .             FILTER NOT EXISTS {                 ?protein_ref bp3:xref ?xref .                 ?xref rdf:type bp3:UnificationXref .                 ?xref bp3:db \"uniprot knowledgebase\" .                 ?xref bp3:id ?id .             }         }         GROUP BY ?metric     }     UNION      {         SELECT ?metric (COUNT(DISTINCT ?up_id) AS ?count)         WHERE {             BIND(\"Unique Uniprot\" AS ?metric)             ?unif_xref rdf:type bp3:UnificationXref .             ?unif_xref bp3:db \"uniprot knowledgebase\" .             ?unif_xref bp3:id ?up_id .         }         GROUP BY ?metric     } } ORDER BY ?metric  \n",
      "19:24:10 INFO  Fuseki          :: [2] 200 OK (178 ms)\n"
     ]
    }
   ],
   "source": [
    "# TODO: change path\n",
    "command = [\n",
    "    '/home/cbeust/Softwares/JenaFuseki/apache-jena-fuseki-4.9.0/fuseki-server',\n",
    "    '--file', '/home/cbeust/Projects/2024/BioPAX_Review/Compare_BioPAX_Files/PathwayCommonsFiles/PathwayCommons12.pid.BIOPAX.owl',\n",
    "    '--file', '/home/cbeust/Projects/2024/BioPAX_Review/BioPAX_Ontology/biopax-level3.owl',\n",
    "    '/pid_pc']\n",
    "process = subprocess.Popen(command)\n",
    "time.sleep(60)\n",
    "\n",
    "# execute SPARQL query\n",
    "sparql = SPARQLWrapper(endpointURL_pid_pc)\n",
    "sparql.setQuery(prefixes+query2)\n",
    "\n",
    "# display results\n",
    "sparql.setReturnFormat(JSON)\n",
    "results = sparql.query().convert()\n",
    "displaySparqlResults(results)\n",
    "\n",
    "# export to CSV\n",
    "sparql.setReturnFormat(CSV)\n",
    "results = sparql.query().convert()\n",
    "with open(\"../Results/pid_pc_mappings_uniprot.csv\", \"wb\") as f:\n",
    "    f.write(results)\n",
    "\n",
    "# end process\n",
    "process.kill()\n",
    "time.sleep(60)"
   ]
  },
  {
   "cell_type": "markdown",
   "metadata": {},
   "source": [
    "#### Query on BioPAX export of INOH from PathwayCommons"
   ]
  },
  {
   "cell_type": "code",
   "execution_count": 13,
   "metadata": {},
   "outputs": [
    {
     "name": "stderr",
     "output_type": "stream",
     "text": [
      "19:25:11 INFO  Server          :: Dataset: in-memory: load file: /home/cbeust/Projects/2024/BioPAX_Review/Compare_BioPAX_Files/PathwayCommonsFiles/PathwayCommons12.inoh.BIOPAX.owl\n",
      "19:25:12 WARN  riot            :: [line: 100079, col: 94] {W137} Input is large. Switching off checking for illegal reuse of rdf:ID's.\n",
      "19:25:19 INFO  Server          :: Dataset: in-memory: load file: /home/cbeust/Projects/2024/BioPAX_Review/BioPAX_Ontology/biopax-level3.owl\n",
      "19:25:19 INFO  Server          :: Running in read-only mode for /inoh_pc\n",
      "19:25:19 INFO  Server          :: Apache Jena Fuseki 4.9.0\n",
      "19:25:19 INFO  Config          :: FUSEKI_HOME=/home/cbeust/Softwares/JenaFuseki/apache-jena-fuseki-4.9.0\n",
      "19:25:19 INFO  Config          :: FUSEKI_BASE=/home/cbeust/Projects/2024/BioPAX_Review/BioPAXReview2024Codes/Figure4-5/Scripts/run\n",
      "19:25:19 INFO  Config          :: Shiro file: file:///home/cbeust/Projects/2024/BioPAX_Review/BioPAXReview2024Codes/Figure4-5/Scripts/run/shiro.ini\n",
      "19:25:19 INFO  Server          :: Database: in-memory, with files loaded\n",
      "19:25:19 INFO  Server          :: Path = /inoh_pc\n",
      "19:25:19 INFO  Server          ::   Memory: 16.0 GiB\n",
      "19:25:19 INFO  Server          ::   Java:   17.0.11\n",
      "19:25:19 INFO  Server          ::   OS:     Linux 6.8.9-100.fc38.x86_64 amd64\n",
      "19:25:19 INFO  Server          ::   PID:    73091\n",
      "19:25:19 INFO  Server          :: Started 2024/07/29 19:25:19 CEST on port 3030\n",
      "19:26:10 INFO  Fuseki          :: [1] GET http://localhost:3030/inoh_pc/query?query=%0APREFIX+rdf%3A+%3Chttp%3A//www.w3.org/1999/02/22-rdf-syntax-ns%23%3E%0APREFIX+rdfs%3A%3Chttp%3A//www.w3.org/2000/01/rdf-schema%23%3E%0APREFIX+owl%3A+%3Chttp%3A//www.w3.org/2002/07/owl%23%3E%0APREFIX+xsd%3A+%3Chttp%3A//www.w3.org/2001/XMLSchema%23%3E%0APREFIX+dc%3A+%3Chttp%3A//purl.org/dc/elements/1.1/%3E%0APREFIX+dcterms%3A+%3Chttp%3A//purl.org/dc/terms/%3E%0A%0APREFIX+chebi%3A+%3Chttp%3A//purl.obolibrary.org/obo/chebi/%3E%0APREFIX+chebidb%3A+%3Chttp%3A//purl.obolibrary.org/obo/CHEBI_%3E%0APREFIX+chebirel%3A+%3Chttp%3A//purl.obolibrary.org/obo/CHEBI%23%3E%0APREFIX+oboInOwl%3A+%3Chttp%3A//www.geneontology.org/formats/oboInOwl%23%3E%0A%0APREFIX+bp3%3A+%3Chttp%3A//www.biopax.org/release/biopax-level3.owl%23%3E%0A%0A%23+Homo_sapiens-20170221.owl%0A%23PREFIX+reactome%3A+%3Chttp%3A//www.reactome.org/biopax/59/48887%23%3E+%0A%23%0A%23+Homo_sapiens-20210608.owl%0A%23PREFIX+reactome%3A+%3Chttp%3A//www.reactome.org/biopax/77/48887%23%3E%0A%23%0A%23+Homo_sapiens-20220614.owl%0A%23PREFIX+reactome%3A+%3Chttp%3A//www.reactome.org/biopax/81/48887%23%3E%0A%23%0A%23+Homo_sapiens-20221130.owl%0A%23PREFIX+reactome%3A+%3Chttp%3A//www.reactome.org/biopax/83/48887%23%3E%0A%0APREFIX+reactome%3A+%3Chttp%3A//www.reactome.org/biopax/87/48887%23%3E%0A%0ASELECT+%3Fmetric+%3Fcount%0A%23+Number+of+instances+of+Protein%0AWHERE+%7B%0A++++%7B%0A++++++++SELECT+%3Fmetric+%28COUNT%28DISTINCT+%3Fprotein%29+AS+%3Fcount%29%0A++++++++WHERE+%7B%0A++++++++++++BIND%28%22Protein%22+AS+%3Fmetric%29%0A++++++++++++%3Fprotein+rdf%3Atype/%28rdfs%3AsubClassOf%2A%29+bp3%3AProtein+.%0A++++++++%7D%0A++++++++GROUP+BY+%3Fmetric%0A++++%7D%0A++++UNION%0A++++%7B%0A++++++++SELECT+%3Fmetric+%28COUNT%28DISTINCT+%3Fprotein_ref%29+AS+%3Fcount%29%0A++++++++WHERE+%7B%0A++++++++++++BIND%28%22ProteinReference%22+AS+%3Fmetric%29%0A++++++++++++%3Fprotein_ref+rdf%3Atype+bp3%3AProteinReference+.%0A++++++++%7D%0A++++++++GROUP+BY+%3Fmetric%0A++++%7D%0A++++UNION%0A++++%7B%0A++++++++SELECT+%3Fmetric+%28COUNT%28DISTINCT+%3Fprotein_without_ref%29+AS+%3Fcount%29%0A++++++++WHERE+%7B%0A++++++BIND%28%22Protein+with+no+PR%22+AS+%3Fmetric%29%0A++++++OPTIONAL+%7B%0A++++++++++++%3Fprotein_without_ref+rdf%3Atype/%28rdfs%3AsubClassOf%2A%29+bp3%3AProtein+.%0A++++++++++++FILTER+NOT+EXISTS+%7B%0A++++++++++++++++%3Fprotein_without_ref+bp3%3AentityReference+%3Fref+.%0A++++++++++++++++%3Fref+rdf%3Atype+bp3%3AProteinReference+.%0A++++++++++++%7D%0A++++++++%7D%0A++++%7D%0A++++++++GROUP+BY+%3Fmetric%0A++++%7D%0A++++UNION%0A++++%7B%0A++++++++SELECT+%3Fmetric+%28COUNT%28DISTINCT+%3Fprotein_that_map_to_uniprot%29+AS+%3Fcount%29%0A++++++++WHERE+%7B%0A++++++++++++BIND%28%22Uniprot+mappings%22+AS+%3Fmetric%29%0A++++++++++++%3Fprotein_that_map_to_uniprot+rdf%3Atype+bp3%3AProtein+.%0A++++++++++++%3Fprotein_that_map_to_uniprot+bp3%3AentityReference+%3Fprotein_ref+.%0A++++++++++++%3Fprotein_ref+rdf%3Atype+bp3%3AProteinReference+.%0A++++++++++++%3Fprotein_ref+bp3%3Axref+%3Fprotein_ref_xref+.%0A++++++++++++%3Fprotein_ref_xref+rdf%3Atype+bp3%3AUnificationXref+.%0A++++++++++++%3Fprotein_ref_xref+bp3%3Adb+%22uniprot+knowledgebase%22+.%0A++++++++++++%3Fprotein_ref_xref+bp3%3Aid+%3Fup_id+.%0A++++++++%7D%0A++++++++GROUP+BY+%3Fmetric%0A++++%7D%0A++++UNION+%0A++++%7B%0A++++++++SELECT+%3Fmetric+%28COUNT%28DISTINCT+%3Fprotein_no_map_to_uniprot%29+AS+%3Fcount%29%0A++++++++WHERE+%7B%0A++++++++++++BIND%28%22Protein+with+no+mapping%22+AS+%3Fmetric%29%0A++++++++++++%3Fprotein_no_map_to_uniprot+rdf%3Atype/%28rdfs%3AsubClassOf%2A%29+bp3%3AProtein+.%0A++++++++++++%3Fprotein_no_map_to_uniprot+bp3%3AentityReference+%3Fprotein_ref+.%0A++++++++++++FILTER+NOT+EXISTS+%7B%0A++++++++++++++++%3Fprotein_ref+bp3%3Axref+%3Fxref+.%0A++++++++++++++++%3Fxref+rdf%3Atype+bp3%3AUnificationXref+.%0A++++++++++++++++%3Fxref+bp3%3Adb+%22uniprot+knowledgebase%22+.%0A++++++++++++++++%3Fxref+bp3%3Aid+%3Fid+.%0A++++++++++++%7D%0A++++++++%7D%0A++++++++GROUP+BY+%3Fmetric%0A++++%7D%0A++++UNION+%0A++++%7B%0A++++++++SELECT+%3Fmetric+%28COUNT%28DISTINCT+%3Fup_id%29+AS+%3Fcount%29%0A++++++++WHERE+%7B%0A++++++++++++BIND%28%22Unique+Uniprot%22+AS+%3Fmetric%29%0A++++++++++++%3Funif_xref+rdf%3Atype+bp3%3AUnificationXref+.%0A++++++++++++%3Funif_xref+bp3%3Adb+%22uniprot+knowledgebase%22+.%0A++++++++++++%3Funif_xref+bp3%3Aid+%3Fup_id+.%0A++++++++%7D%0A++++++++GROUP+BY+%3Fmetric%0A++++%7D%0A%7D%0AORDER+BY+%3Fmetric%0A%0A&format=json&output=json&results=json\n",
      "19:26:10 INFO  Fuseki          :: [1] Query =  PREFIX rdf: <http://www.w3.org/1999/02/22-rdf-syntax-ns#> PREFIX rdfs:<http://www.w3.org/2000/01/rdf-schema#> PREFIX owl: <http://www.w3.org/2002/07/owl#> PREFIX xsd: <http://www.w3.org/2001/XMLSchema#> PREFIX dc: <http://purl.org/dc/elements/1.1/> PREFIX dcterms: <http://purl.org/dc/terms/>  PREFIX chebi: <http://purl.obolibrary.org/obo/chebi/> PREFIX chebidb: <http://purl.obolibrary.org/obo/CHEBI_> PREFIX chebirel: <http://purl.obolibrary.org/obo/CHEBI#> PREFIX oboInOwl: <http://www.geneontology.org/formats/oboInOwl#>  PREFIX bp3: <http://www.biopax.org/release/biopax-level3.owl#>  # Homo_sapiens-20170221.owl #PREFIX reactome: <http://www.reactome.org/biopax/59/48887#>  # # Homo_sapiens-20210608.owl #PREFIX reactome: <http://www.reactome.org/biopax/77/48887#> # # Homo_sapiens-20220614.owl #PREFIX reactome: <http://www.reactome.org/biopax/81/48887#> # # Homo_sapiens-20221130.owl #PREFIX reactome: <http://www.reactome.org/biopax/83/48887#>  PREFIX reactome: <http://www.reactome.org/biopax/87/48887#>  SELECT ?metric ?count # Number of instances of Protein WHERE {     {         SELECT ?metric (COUNT(DISTINCT ?protein) AS ?count)         WHERE {             BIND(\"Protein\" AS ?metric)             ?protein rdf:type/(rdfs:subClassOf*) bp3:Protein .         }         GROUP BY ?metric     }     UNION     {         SELECT ?metric (COUNT(DISTINCT ?protein_ref) AS ?count)         WHERE {             BIND(\"ProteinReference\" AS ?metric)             ?protein_ref rdf:type bp3:ProteinReference .         }         GROUP BY ?metric     }     UNION     {         SELECT ?metric (COUNT(DISTINCT ?protein_without_ref) AS ?count)         WHERE {       BIND(\"Protein with no PR\" AS ?metric)       OPTIONAL {             ?protein_without_ref rdf:type/(rdfs:subClassOf*) bp3:Protein .             FILTER NOT EXISTS {                 ?protein_without_ref bp3:entityReference ?ref .                 ?ref rdf:type bp3:ProteinReference .             }         }     }         GROUP BY ?metric     }     UNION     {         SELECT ?metric (COUNT(DISTINCT ?protein_that_map_to_uniprot) AS ?count)         WHERE {             BIND(\"Uniprot mappings\" AS ?metric)             ?protein_that_map_to_uniprot rdf:type bp3:Protein .             ?protein_that_map_to_uniprot bp3:entityReference ?protein_ref .             ?protein_ref rdf:type bp3:ProteinReference .             ?protein_ref bp3:xref ?protein_ref_xref .             ?protein_ref_xref rdf:type bp3:UnificationXref .             ?protein_ref_xref bp3:db \"uniprot knowledgebase\" .             ?protein_ref_xref bp3:id ?up_id .         }         GROUP BY ?metric     }     UNION      {         SELECT ?metric (COUNT(DISTINCT ?protein_no_map_to_uniprot) AS ?count)         WHERE {             BIND(\"Protein with no mapping\" AS ?metric)             ?protein_no_map_to_uniprot rdf:type/(rdfs:subClassOf*) bp3:Protein .             ?protein_no_map_to_uniprot bp3:entityReference ?protein_ref .             FILTER NOT EXISTS {                 ?protein_ref bp3:xref ?xref .                 ?xref rdf:type bp3:UnificationXref .                 ?xref bp3:db \"uniprot knowledgebase\" .                 ?xref bp3:id ?id .             }         }         GROUP BY ?metric     }     UNION      {         SELECT ?metric (COUNT(DISTINCT ?up_id) AS ?count)         WHERE {             BIND(\"Unique Uniprot\" AS ?metric)             ?unif_xref rdf:type bp3:UnificationXref .             ?unif_xref bp3:db \"uniprot knowledgebase\" .             ?unif_xref bp3:id ?up_id .         }         GROUP BY ?metric     } } ORDER BY ?metric  \n",
      "19:26:11 INFO  Fuseki          :: [1] 200 OK (684 ms)\n"
     ]
    },
    {
     "data": {
      "text/html": [
       "<table><tr><th>metric</th><th>count</th></tr><tr><td>Protein</td><td>12804</td></tr><tr><td>Protein with no PR</td><td>0</td></tr><tr><td>Protein with no mapping</td><td>9938</td></tr><tr><td>ProteinReference</td><td>2296</td></tr><tr><td>Uniprot mappings</td><td>2866</td></tr><tr><td>Unique Uniprot</td><td>1642</td></tr></table>"
      ],
      "text/plain": [
       "<IPython.core.display.HTML object>"
      ]
     },
     "metadata": {},
     "output_type": "display_data"
    },
    {
     "name": "stderr",
     "output_type": "stream",
     "text": [
      "19:26:11 INFO  Fuseki          :: [2] GET http://localhost:3030/inoh_pc/query?query=%0APREFIX+rdf%3A+%3Chttp%3A//www.w3.org/1999/02/22-rdf-syntax-ns%23%3E%0APREFIX+rdfs%3A%3Chttp%3A//www.w3.org/2000/01/rdf-schema%23%3E%0APREFIX+owl%3A+%3Chttp%3A//www.w3.org/2002/07/owl%23%3E%0APREFIX+xsd%3A+%3Chttp%3A//www.w3.org/2001/XMLSchema%23%3E%0APREFIX+dc%3A+%3Chttp%3A//purl.org/dc/elements/1.1/%3E%0APREFIX+dcterms%3A+%3Chttp%3A//purl.org/dc/terms/%3E%0A%0APREFIX+chebi%3A+%3Chttp%3A//purl.obolibrary.org/obo/chebi/%3E%0APREFIX+chebidb%3A+%3Chttp%3A//purl.obolibrary.org/obo/CHEBI_%3E%0APREFIX+chebirel%3A+%3Chttp%3A//purl.obolibrary.org/obo/CHEBI%23%3E%0APREFIX+oboInOwl%3A+%3Chttp%3A//www.geneontology.org/formats/oboInOwl%23%3E%0A%0APREFIX+bp3%3A+%3Chttp%3A//www.biopax.org/release/biopax-level3.owl%23%3E%0A%0A%23+Homo_sapiens-20170221.owl%0A%23PREFIX+reactome%3A+%3Chttp%3A//www.reactome.org/biopax/59/48887%23%3E+%0A%23%0A%23+Homo_sapiens-20210608.owl%0A%23PREFIX+reactome%3A+%3Chttp%3A//www.reactome.org/biopax/77/48887%23%3E%0A%23%0A%23+Homo_sapiens-20220614.owl%0A%23PREFIX+reactome%3A+%3Chttp%3A//www.reactome.org/biopax/81/48887%23%3E%0A%23%0A%23+Homo_sapiens-20221130.owl%0A%23PREFIX+reactome%3A+%3Chttp%3A//www.reactome.org/biopax/83/48887%23%3E%0A%0APREFIX+reactome%3A+%3Chttp%3A//www.reactome.org/biopax/87/48887%23%3E%0A%0ASELECT+%3Fmetric+%3Fcount%0A%23+Number+of+instances+of+Protein%0AWHERE+%7B%0A++++%7B%0A++++++++SELECT+%3Fmetric+%28COUNT%28DISTINCT+%3Fprotein%29+AS+%3Fcount%29%0A++++++++WHERE+%7B%0A++++++++++++BIND%28%22Protein%22+AS+%3Fmetric%29%0A++++++++++++%3Fprotein+rdf%3Atype/%28rdfs%3AsubClassOf%2A%29+bp3%3AProtein+.%0A++++++++%7D%0A++++++++GROUP+BY+%3Fmetric%0A++++%7D%0A++++UNION%0A++++%7B%0A++++++++SELECT+%3Fmetric+%28COUNT%28DISTINCT+%3Fprotein_ref%29+AS+%3Fcount%29%0A++++++++WHERE+%7B%0A++++++++++++BIND%28%22ProteinReference%22+AS+%3Fmetric%29%0A++++++++++++%3Fprotein_ref+rdf%3Atype+bp3%3AProteinReference+.%0A++++++++%7D%0A++++++++GROUP+BY+%3Fmetric%0A++++%7D%0A++++UNION%0A++++%7B%0A++++++++SELECT+%3Fmetric+%28COUNT%28DISTINCT+%3Fprotein_without_ref%29+AS+%3Fcount%29%0A++++++++WHERE+%7B%0A++++++BIND%28%22Protein+with+no+PR%22+AS+%3Fmetric%29%0A++++++OPTIONAL+%7B%0A++++++++++++%3Fprotein_without_ref+rdf%3Atype/%28rdfs%3AsubClassOf%2A%29+bp3%3AProtein+.%0A++++++++++++FILTER+NOT+EXISTS+%7B%0A++++++++++++++++%3Fprotein_without_ref+bp3%3AentityReference+%3Fref+.%0A++++++++++++++++%3Fref+rdf%3Atype+bp3%3AProteinReference+.%0A++++++++++++%7D%0A++++++++%7D%0A++++%7D%0A++++++++GROUP+BY+%3Fmetric%0A++++%7D%0A++++UNION%0A++++%7B%0A++++++++SELECT+%3Fmetric+%28COUNT%28DISTINCT+%3Fprotein_that_map_to_uniprot%29+AS+%3Fcount%29%0A++++++++WHERE+%7B%0A++++++++++++BIND%28%22Uniprot+mappings%22+AS+%3Fmetric%29%0A++++++++++++%3Fprotein_that_map_to_uniprot+rdf%3Atype+bp3%3AProtein+.%0A++++++++++++%3Fprotein_that_map_to_uniprot+bp3%3AentityReference+%3Fprotein_ref+.%0A++++++++++++%3Fprotein_ref+rdf%3Atype+bp3%3AProteinReference+.%0A++++++++++++%3Fprotein_ref+bp3%3Axref+%3Fprotein_ref_xref+.%0A++++++++++++%3Fprotein_ref_xref+rdf%3Atype+bp3%3AUnificationXref+.%0A++++++++++++%3Fprotein_ref_xref+bp3%3Adb+%22uniprot+knowledgebase%22+.%0A++++++++++++%3Fprotein_ref_xref+bp3%3Aid+%3Fup_id+.%0A++++++++%7D%0A++++++++GROUP+BY+%3Fmetric%0A++++%7D%0A++++UNION+%0A++++%7B%0A++++++++SELECT+%3Fmetric+%28COUNT%28DISTINCT+%3Fprotein_no_map_to_uniprot%29+AS+%3Fcount%29%0A++++++++WHERE+%7B%0A++++++++++++BIND%28%22Protein+with+no+mapping%22+AS+%3Fmetric%29%0A++++++++++++%3Fprotein_no_map_to_uniprot+rdf%3Atype/%28rdfs%3AsubClassOf%2A%29+bp3%3AProtein+.%0A++++++++++++%3Fprotein_no_map_to_uniprot+bp3%3AentityReference+%3Fprotein_ref+.%0A++++++++++++FILTER+NOT+EXISTS+%7B%0A++++++++++++++++%3Fprotein_ref+bp3%3Axref+%3Fxref+.%0A++++++++++++++++%3Fxref+rdf%3Atype+bp3%3AUnificationXref+.%0A++++++++++++++++%3Fxref+bp3%3Adb+%22uniprot+knowledgebase%22+.%0A++++++++++++++++%3Fxref+bp3%3Aid+%3Fid+.%0A++++++++++++%7D%0A++++++++%7D%0A++++++++GROUP+BY+%3Fmetric%0A++++%7D%0A++++UNION+%0A++++%7B%0A++++++++SELECT+%3Fmetric+%28COUNT%28DISTINCT+%3Fup_id%29+AS+%3Fcount%29%0A++++++++WHERE+%7B%0A++++++++++++BIND%28%22Unique+Uniprot%22+AS+%3Fmetric%29%0A++++++++++++%3Funif_xref+rdf%3Atype+bp3%3AUnificationXref+.%0A++++++++++++%3Funif_xref+bp3%3Adb+%22uniprot+knowledgebase%22+.%0A++++++++++++%3Funif_xref+bp3%3Aid+%3Fup_id+.%0A++++++++%7D%0A++++++++GROUP+BY+%3Fmetric%0A++++%7D%0A%7D%0AORDER+BY+%3Fmetric%0A%0A&format=csv&output=csv&results=csv\n",
      "19:26:11 INFO  Fuseki          :: [2] Query =  PREFIX rdf: <http://www.w3.org/1999/02/22-rdf-syntax-ns#> PREFIX rdfs:<http://www.w3.org/2000/01/rdf-schema#> PREFIX owl: <http://www.w3.org/2002/07/owl#> PREFIX xsd: <http://www.w3.org/2001/XMLSchema#> PREFIX dc: <http://purl.org/dc/elements/1.1/> PREFIX dcterms: <http://purl.org/dc/terms/>  PREFIX chebi: <http://purl.obolibrary.org/obo/chebi/> PREFIX chebidb: <http://purl.obolibrary.org/obo/CHEBI_> PREFIX chebirel: <http://purl.obolibrary.org/obo/CHEBI#> PREFIX oboInOwl: <http://www.geneontology.org/formats/oboInOwl#>  PREFIX bp3: <http://www.biopax.org/release/biopax-level3.owl#>  # Homo_sapiens-20170221.owl #PREFIX reactome: <http://www.reactome.org/biopax/59/48887#>  # # Homo_sapiens-20210608.owl #PREFIX reactome: <http://www.reactome.org/biopax/77/48887#> # # Homo_sapiens-20220614.owl #PREFIX reactome: <http://www.reactome.org/biopax/81/48887#> # # Homo_sapiens-20221130.owl #PREFIX reactome: <http://www.reactome.org/biopax/83/48887#>  PREFIX reactome: <http://www.reactome.org/biopax/87/48887#>  SELECT ?metric ?count # Number of instances of Protein WHERE {     {         SELECT ?metric (COUNT(DISTINCT ?protein) AS ?count)         WHERE {             BIND(\"Protein\" AS ?metric)             ?protein rdf:type/(rdfs:subClassOf*) bp3:Protein .         }         GROUP BY ?metric     }     UNION     {         SELECT ?metric (COUNT(DISTINCT ?protein_ref) AS ?count)         WHERE {             BIND(\"ProteinReference\" AS ?metric)             ?protein_ref rdf:type bp3:ProteinReference .         }         GROUP BY ?metric     }     UNION     {         SELECT ?metric (COUNT(DISTINCT ?protein_without_ref) AS ?count)         WHERE {       BIND(\"Protein with no PR\" AS ?metric)       OPTIONAL {             ?protein_without_ref rdf:type/(rdfs:subClassOf*) bp3:Protein .             FILTER NOT EXISTS {                 ?protein_without_ref bp3:entityReference ?ref .                 ?ref rdf:type bp3:ProteinReference .             }         }     }         GROUP BY ?metric     }     UNION     {         SELECT ?metric (COUNT(DISTINCT ?protein_that_map_to_uniprot) AS ?count)         WHERE {             BIND(\"Uniprot mappings\" AS ?metric)             ?protein_that_map_to_uniprot rdf:type bp3:Protein .             ?protein_that_map_to_uniprot bp3:entityReference ?protein_ref .             ?protein_ref rdf:type bp3:ProteinReference .             ?protein_ref bp3:xref ?protein_ref_xref .             ?protein_ref_xref rdf:type bp3:UnificationXref .             ?protein_ref_xref bp3:db \"uniprot knowledgebase\" .             ?protein_ref_xref bp3:id ?up_id .         }         GROUP BY ?metric     }     UNION      {         SELECT ?metric (COUNT(DISTINCT ?protein_no_map_to_uniprot) AS ?count)         WHERE {             BIND(\"Protein with no mapping\" AS ?metric)             ?protein_no_map_to_uniprot rdf:type/(rdfs:subClassOf*) bp3:Protein .             ?protein_no_map_to_uniprot bp3:entityReference ?protein_ref .             FILTER NOT EXISTS {                 ?protein_ref bp3:xref ?xref .                 ?xref rdf:type bp3:UnificationXref .                 ?xref bp3:db \"uniprot knowledgebase\" .                 ?xref bp3:id ?id .             }         }         GROUP BY ?metric     }     UNION      {         SELECT ?metric (COUNT(DISTINCT ?up_id) AS ?count)         WHERE {             BIND(\"Unique Uniprot\" AS ?metric)             ?unif_xref rdf:type bp3:UnificationXref .             ?unif_xref bp3:db \"uniprot knowledgebase\" .             ?unif_xref bp3:id ?up_id .         }         GROUP BY ?metric     } } ORDER BY ?metric  \n",
      "19:26:11 INFO  Fuseki          :: [2] 200 OK (201 ms)\n"
     ]
    }
   ],
   "source": [
    "# TODO: change path\n",
    "command = [\n",
    "    '/home/cbeust/Softwares/JenaFuseki/apache-jena-fuseki-4.9.0/fuseki-server',\n",
    "    '--file', '/home/cbeust/Projects/2024/BioPAX_Review/Compare_BioPAX_Files/PathwayCommonsFiles/PathwayCommons12.inoh.BIOPAX.owl',\n",
    "    '--file', '/home/cbeust/Projects/2024/BioPAX_Review/BioPAX_Ontology/biopax-level3.owl',\n",
    "    '/inoh_pc']\n",
    "process = subprocess.Popen(command)\n",
    "time.sleep(60)\n",
    "\n",
    "# execute SPARQL query\n",
    "sparql = SPARQLWrapper(endpointURL_inoh_pc)\n",
    "sparql.setQuery(prefixes+query2)\n",
    "\n",
    "# display results\n",
    "sparql.setReturnFormat(JSON)\n",
    "results = sparql.query().convert()\n",
    "displaySparqlResults(results)\n",
    "\n",
    "# export to CSV\n",
    "sparql.setReturnFormat(CSV)\n",
    "results = sparql.query().convert()\n",
    "with open(\"../Results/inoh_pc_mappings_uniprot.csv\", \"wb\") as f:\n",
    "    f.write(results)\n",
    "\n",
    "# end process\n",
    "process.kill()\n",
    "time.sleep(60)"
   ]
  },
  {
   "cell_type": "markdown",
   "metadata": {},
   "source": [
    "#### Query on BioPAX export of NetPath from PathwayCommons"
   ]
  },
  {
   "cell_type": "code",
   "execution_count": 14,
   "metadata": {},
   "outputs": [
    {
     "name": "stderr",
     "output_type": "stream",
     "text": [
      "19:27:12 INFO  Server          :: Dataset: in-memory: load file: /home/cbeust/Projects/2024/BioPAX_Review/Compare_BioPAX_Files/PathwayCommonsFiles/PathwayCommons12.netpath.BIOPAX.owl\n",
      "19:27:13 WARN  riot            :: [line: 83771, col: 87] {W137} Input is large. Switching off checking for illegal reuse of rdf:ID's.\n",
      "19:27:14 INFO  Server          :: Dataset: in-memory: load file: /home/cbeust/Projects/2024/BioPAX_Review/BioPAX_Ontology/biopax-level3.owl\n",
      "19:27:14 INFO  Server          :: Running in read-only mode for /netpath_pc\n",
      "19:27:14 INFO  Server          :: Apache Jena Fuseki 4.9.0\n",
      "19:27:15 INFO  Config          :: FUSEKI_HOME=/home/cbeust/Softwares/JenaFuseki/apache-jena-fuseki-4.9.0\n",
      "19:27:15 INFO  Config          :: FUSEKI_BASE=/home/cbeust/Projects/2024/BioPAX_Review/BioPAXReview2024Codes/Figure4-5/Scripts/run\n",
      "19:27:15 INFO  Config          :: Shiro file: file:///home/cbeust/Projects/2024/BioPAX_Review/BioPAXReview2024Codes/Figure4-5/Scripts/run/shiro.ini\n",
      "19:27:15 INFO  Server          :: Database: in-memory, with files loaded\n",
      "19:27:15 INFO  Server          :: Path = /netpath_pc\n",
      "19:27:15 INFO  Server          ::   Memory: 16.0 GiB\n",
      "19:27:15 INFO  Server          ::   Java:   17.0.11\n",
      "19:27:15 INFO  Server          ::   OS:     Linux 6.8.9-100.fc38.x86_64 amd64\n",
      "19:27:15 INFO  Server          ::   PID:    73446\n",
      "19:27:15 INFO  Server          :: Started 2024/07/29 19:27:15 CEST on port 3030\n",
      "19:28:11 INFO  Fuseki          :: [1] GET http://localhost:3030/netpath_pc/query?query=%0APREFIX+rdf%3A+%3Chttp%3A//www.w3.org/1999/02/22-rdf-syntax-ns%23%3E%0APREFIX+rdfs%3A%3Chttp%3A//www.w3.org/2000/01/rdf-schema%23%3E%0APREFIX+owl%3A+%3Chttp%3A//www.w3.org/2002/07/owl%23%3E%0APREFIX+xsd%3A+%3Chttp%3A//www.w3.org/2001/XMLSchema%23%3E%0APREFIX+dc%3A+%3Chttp%3A//purl.org/dc/elements/1.1/%3E%0APREFIX+dcterms%3A+%3Chttp%3A//purl.org/dc/terms/%3E%0A%0APREFIX+chebi%3A+%3Chttp%3A//purl.obolibrary.org/obo/chebi/%3E%0APREFIX+chebidb%3A+%3Chttp%3A//purl.obolibrary.org/obo/CHEBI_%3E%0APREFIX+chebirel%3A+%3Chttp%3A//purl.obolibrary.org/obo/CHEBI%23%3E%0APREFIX+oboInOwl%3A+%3Chttp%3A//www.geneontology.org/formats/oboInOwl%23%3E%0A%0APREFIX+bp3%3A+%3Chttp%3A//www.biopax.org/release/biopax-level3.owl%23%3E%0A%0A%23+Homo_sapiens-20170221.owl%0A%23PREFIX+reactome%3A+%3Chttp%3A//www.reactome.org/biopax/59/48887%23%3E+%0A%23%0A%23+Homo_sapiens-20210608.owl%0A%23PREFIX+reactome%3A+%3Chttp%3A//www.reactome.org/biopax/77/48887%23%3E%0A%23%0A%23+Homo_sapiens-20220614.owl%0A%23PREFIX+reactome%3A+%3Chttp%3A//www.reactome.org/biopax/81/48887%23%3E%0A%23%0A%23+Homo_sapiens-20221130.owl%0A%23PREFIX+reactome%3A+%3Chttp%3A//www.reactome.org/biopax/83/48887%23%3E%0A%0APREFIX+reactome%3A+%3Chttp%3A//www.reactome.org/biopax/87/48887%23%3E%0A%0ASELECT+%3Fmetric+%3Fcount%0A%23+Number+of+instances+of+Protein%0AWHERE+%7B%0A++++%7B%0A++++++++SELECT+%3Fmetric+%28COUNT%28DISTINCT+%3Fprotein%29+AS+%3Fcount%29%0A++++++++WHERE+%7B%0A++++++++++++BIND%28%22Protein%22+AS+%3Fmetric%29%0A++++++++++++%3Fprotein+rdf%3Atype/%28rdfs%3AsubClassOf%2A%29+bp3%3AProtein+.%0A++++++++%7D%0A++++++++GROUP+BY+%3Fmetric%0A++++%7D%0A++++UNION%0A++++%7B%0A++++++++SELECT+%3Fmetric+%28COUNT%28DISTINCT+%3Fprotein_ref%29+AS+%3Fcount%29%0A++++++++WHERE+%7B%0A++++++++++++BIND%28%22ProteinReference%22+AS+%3Fmetric%29%0A++++++++++++%3Fprotein_ref+rdf%3Atype+bp3%3AProteinReference+.%0A++++++++%7D%0A++++++++GROUP+BY+%3Fmetric%0A++++%7D%0A++++UNION%0A++++%7B%0A++++++++SELECT+%3Fmetric+%28COUNT%28DISTINCT+%3Fprotein_without_ref%29+AS+%3Fcount%29%0A++++++++WHERE+%7B%0A++++++BIND%28%22Protein+with+no+PR%22+AS+%3Fmetric%29%0A++++++OPTIONAL+%7B%0A++++++++++++%3Fprotein_without_ref+rdf%3Atype/%28rdfs%3AsubClassOf%2A%29+bp3%3AProtein+.%0A++++++++++++FILTER+NOT+EXISTS+%7B%0A++++++++++++++++%3Fprotein_without_ref+bp3%3AentityReference+%3Fref+.%0A++++++++++++++++%3Fref+rdf%3Atype+bp3%3AProteinReference+.%0A++++++++++++%7D%0A++++++++%7D%0A++++%7D%0A++++++++GROUP+BY+%3Fmetric%0A++++%7D%0A++++UNION%0A++++%7B%0A++++++++SELECT+%3Fmetric+%28COUNT%28DISTINCT+%3Fprotein_that_map_to_uniprot%29+AS+%3Fcount%29%0A++++++++WHERE+%7B%0A++++++++++++BIND%28%22Uniprot+mappings%22+AS+%3Fmetric%29%0A++++++++++++%3Fprotein_that_map_to_uniprot+rdf%3Atype+bp3%3AProtein+.%0A++++++++++++%3Fprotein_that_map_to_uniprot+bp3%3AentityReference+%3Fprotein_ref+.%0A++++++++++++%3Fprotein_ref+rdf%3Atype+bp3%3AProteinReference+.%0A++++++++++++%3Fprotein_ref+bp3%3Axref+%3Fprotein_ref_xref+.%0A++++++++++++%3Fprotein_ref_xref+rdf%3Atype+bp3%3AUnificationXref+.%0A++++++++++++%3Fprotein_ref_xref+bp3%3Adb+%22uniprot+knowledgebase%22+.%0A++++++++++++%3Fprotein_ref_xref+bp3%3Aid+%3Fup_id+.%0A++++++++%7D%0A++++++++GROUP+BY+%3Fmetric%0A++++%7D%0A++++UNION+%0A++++%7B%0A++++++++SELECT+%3Fmetric+%28COUNT%28DISTINCT+%3Fprotein_no_map_to_uniprot%29+AS+%3Fcount%29%0A++++++++WHERE+%7B%0A++++++++++++BIND%28%22Protein+with+no+mapping%22+AS+%3Fmetric%29%0A++++++++++++%3Fprotein_no_map_to_uniprot+rdf%3Atype/%28rdfs%3AsubClassOf%2A%29+bp3%3AProtein+.%0A++++++++++++%3Fprotein_no_map_to_uniprot+bp3%3AentityReference+%3Fprotein_ref+.%0A++++++++++++FILTER+NOT+EXISTS+%7B%0A++++++++++++++++%3Fprotein_ref+bp3%3Axref+%3Fxref+.%0A++++++++++++++++%3Fxref+rdf%3Atype+bp3%3AUnificationXref+.%0A++++++++++++++++%3Fxref+bp3%3Adb+%22uniprot+knowledgebase%22+.%0A++++++++++++++++%3Fxref+bp3%3Aid+%3Fid+.%0A++++++++++++%7D%0A++++++++%7D%0A++++++++GROUP+BY+%3Fmetric%0A++++%7D%0A++++UNION+%0A++++%7B%0A++++++++SELECT+%3Fmetric+%28COUNT%28DISTINCT+%3Fup_id%29+AS+%3Fcount%29%0A++++++++WHERE+%7B%0A++++++++++++BIND%28%22Unique+Uniprot%22+AS+%3Fmetric%29%0A++++++++++++%3Funif_xref+rdf%3Atype+bp3%3AUnificationXref+.%0A++++++++++++%3Funif_xref+bp3%3Adb+%22uniprot+knowledgebase%22+.%0A++++++++++++%3Funif_xref+bp3%3Aid+%3Fup_id+.%0A++++++++%7D%0A++++++++GROUP+BY+%3Fmetric%0A++++%7D%0A%7D%0AORDER+BY+%3Fmetric%0A%0A&format=json&output=json&results=json\n",
      "19:28:11 INFO  Fuseki          :: [1] Query =  PREFIX rdf: <http://www.w3.org/1999/02/22-rdf-syntax-ns#> PREFIX rdfs:<http://www.w3.org/2000/01/rdf-schema#> PREFIX owl: <http://www.w3.org/2002/07/owl#> PREFIX xsd: <http://www.w3.org/2001/XMLSchema#> PREFIX dc: <http://purl.org/dc/elements/1.1/> PREFIX dcterms: <http://purl.org/dc/terms/>  PREFIX chebi: <http://purl.obolibrary.org/obo/chebi/> PREFIX chebidb: <http://purl.obolibrary.org/obo/CHEBI_> PREFIX chebirel: <http://purl.obolibrary.org/obo/CHEBI#> PREFIX oboInOwl: <http://www.geneontology.org/formats/oboInOwl#>  PREFIX bp3: <http://www.biopax.org/release/biopax-level3.owl#>  # Homo_sapiens-20170221.owl #PREFIX reactome: <http://www.reactome.org/biopax/59/48887#>  # # Homo_sapiens-20210608.owl #PREFIX reactome: <http://www.reactome.org/biopax/77/48887#> # # Homo_sapiens-20220614.owl #PREFIX reactome: <http://www.reactome.org/biopax/81/48887#> # # Homo_sapiens-20221130.owl #PREFIX reactome: <http://www.reactome.org/biopax/83/48887#>  PREFIX reactome: <http://www.reactome.org/biopax/87/48887#>  SELECT ?metric ?count # Number of instances of Protein WHERE {     {         SELECT ?metric (COUNT(DISTINCT ?protein) AS ?count)         WHERE {             BIND(\"Protein\" AS ?metric)             ?protein rdf:type/(rdfs:subClassOf*) bp3:Protein .         }         GROUP BY ?metric     }     UNION     {         SELECT ?metric (COUNT(DISTINCT ?protein_ref) AS ?count)         WHERE {             BIND(\"ProteinReference\" AS ?metric)             ?protein_ref rdf:type bp3:ProteinReference .         }         GROUP BY ?metric     }     UNION     {         SELECT ?metric (COUNT(DISTINCT ?protein_without_ref) AS ?count)         WHERE {       BIND(\"Protein with no PR\" AS ?metric)       OPTIONAL {             ?protein_without_ref rdf:type/(rdfs:subClassOf*) bp3:Protein .             FILTER NOT EXISTS {                 ?protein_without_ref bp3:entityReference ?ref .                 ?ref rdf:type bp3:ProteinReference .             }         }     }         GROUP BY ?metric     }     UNION     {         SELECT ?metric (COUNT(DISTINCT ?protein_that_map_to_uniprot) AS ?count)         WHERE {             BIND(\"Uniprot mappings\" AS ?metric)             ?protein_that_map_to_uniprot rdf:type bp3:Protein .             ?protein_that_map_to_uniprot bp3:entityReference ?protein_ref .             ?protein_ref rdf:type bp3:ProteinReference .             ?protein_ref bp3:xref ?protein_ref_xref .             ?protein_ref_xref rdf:type bp3:UnificationXref .             ?protein_ref_xref bp3:db \"uniprot knowledgebase\" .             ?protein_ref_xref bp3:id ?up_id .         }         GROUP BY ?metric     }     UNION      {         SELECT ?metric (COUNT(DISTINCT ?protein_no_map_to_uniprot) AS ?count)         WHERE {             BIND(\"Protein with no mapping\" AS ?metric)             ?protein_no_map_to_uniprot rdf:type/(rdfs:subClassOf*) bp3:Protein .             ?protein_no_map_to_uniprot bp3:entityReference ?protein_ref .             FILTER NOT EXISTS {                 ?protein_ref bp3:xref ?xref .                 ?xref rdf:type bp3:UnificationXref .                 ?xref bp3:db \"uniprot knowledgebase\" .                 ?xref bp3:id ?id .             }         }         GROUP BY ?metric     }     UNION      {         SELECT ?metric (COUNT(DISTINCT ?up_id) AS ?count)         WHERE {             BIND(\"Unique Uniprot\" AS ?metric)             ?unif_xref rdf:type bp3:UnificationXref .             ?unif_xref bp3:db \"uniprot knowledgebase\" .             ?unif_xref bp3:id ?up_id .         }         GROUP BY ?metric     } } ORDER BY ?metric  \n",
      "19:28:12 INFO  Fuseki          :: [1] 200 OK (418 ms)\n"
     ]
    },
    {
     "data": {
      "text/html": [
       "<table><tr><th>metric</th><th>count</th></tr><tr><td>Protein</td><td>4861</td></tr><tr><td>Protein with no PR</td><td>0</td></tr><tr><td>Protein with no mapping</td><td>39</td></tr><tr><td>ProteinReference</td><td>1507</td></tr><tr><td>Uniprot mappings</td><td>4822</td></tr><tr><td>Unique Uniprot</td><td>1485</td></tr></table>"
      ],
      "text/plain": [
       "<IPython.core.display.HTML object>"
      ]
     },
     "metadata": {},
     "output_type": "display_data"
    },
    {
     "name": "stderr",
     "output_type": "stream",
     "text": [
      "19:28:12 INFO  Fuseki          :: [2] GET http://localhost:3030/netpath_pc/query?query=%0APREFIX+rdf%3A+%3Chttp%3A//www.w3.org/1999/02/22-rdf-syntax-ns%23%3E%0APREFIX+rdfs%3A%3Chttp%3A//www.w3.org/2000/01/rdf-schema%23%3E%0APREFIX+owl%3A+%3Chttp%3A//www.w3.org/2002/07/owl%23%3E%0APREFIX+xsd%3A+%3Chttp%3A//www.w3.org/2001/XMLSchema%23%3E%0APREFIX+dc%3A+%3Chttp%3A//purl.org/dc/elements/1.1/%3E%0APREFIX+dcterms%3A+%3Chttp%3A//purl.org/dc/terms/%3E%0A%0APREFIX+chebi%3A+%3Chttp%3A//purl.obolibrary.org/obo/chebi/%3E%0APREFIX+chebidb%3A+%3Chttp%3A//purl.obolibrary.org/obo/CHEBI_%3E%0APREFIX+chebirel%3A+%3Chttp%3A//purl.obolibrary.org/obo/CHEBI%23%3E%0APREFIX+oboInOwl%3A+%3Chttp%3A//www.geneontology.org/formats/oboInOwl%23%3E%0A%0APREFIX+bp3%3A+%3Chttp%3A//www.biopax.org/release/biopax-level3.owl%23%3E%0A%0A%23+Homo_sapiens-20170221.owl%0A%23PREFIX+reactome%3A+%3Chttp%3A//www.reactome.org/biopax/59/48887%23%3E+%0A%23%0A%23+Homo_sapiens-20210608.owl%0A%23PREFIX+reactome%3A+%3Chttp%3A//www.reactome.org/biopax/77/48887%23%3E%0A%23%0A%23+Homo_sapiens-20220614.owl%0A%23PREFIX+reactome%3A+%3Chttp%3A//www.reactome.org/biopax/81/48887%23%3E%0A%23%0A%23+Homo_sapiens-20221130.owl%0A%23PREFIX+reactome%3A+%3Chttp%3A//www.reactome.org/biopax/83/48887%23%3E%0A%0APREFIX+reactome%3A+%3Chttp%3A//www.reactome.org/biopax/87/48887%23%3E%0A%0ASELECT+%3Fmetric+%3Fcount%0A%23+Number+of+instances+of+Protein%0AWHERE+%7B%0A++++%7B%0A++++++++SELECT+%3Fmetric+%28COUNT%28DISTINCT+%3Fprotein%29+AS+%3Fcount%29%0A++++++++WHERE+%7B%0A++++++++++++BIND%28%22Protein%22+AS+%3Fmetric%29%0A++++++++++++%3Fprotein+rdf%3Atype/%28rdfs%3AsubClassOf%2A%29+bp3%3AProtein+.%0A++++++++%7D%0A++++++++GROUP+BY+%3Fmetric%0A++++%7D%0A++++UNION%0A++++%7B%0A++++++++SELECT+%3Fmetric+%28COUNT%28DISTINCT+%3Fprotein_ref%29+AS+%3Fcount%29%0A++++++++WHERE+%7B%0A++++++++++++BIND%28%22ProteinReference%22+AS+%3Fmetric%29%0A++++++++++++%3Fprotein_ref+rdf%3Atype+bp3%3AProteinReference+.%0A++++++++%7D%0A++++++++GROUP+BY+%3Fmetric%0A++++%7D%0A++++UNION%0A++++%7B%0A++++++++SELECT+%3Fmetric+%28COUNT%28DISTINCT+%3Fprotein_without_ref%29+AS+%3Fcount%29%0A++++++++WHERE+%7B%0A++++++BIND%28%22Protein+with+no+PR%22+AS+%3Fmetric%29%0A++++++OPTIONAL+%7B%0A++++++++++++%3Fprotein_without_ref+rdf%3Atype/%28rdfs%3AsubClassOf%2A%29+bp3%3AProtein+.%0A++++++++++++FILTER+NOT+EXISTS+%7B%0A++++++++++++++++%3Fprotein_without_ref+bp3%3AentityReference+%3Fref+.%0A++++++++++++++++%3Fref+rdf%3Atype+bp3%3AProteinReference+.%0A++++++++++++%7D%0A++++++++%7D%0A++++%7D%0A++++++++GROUP+BY+%3Fmetric%0A++++%7D%0A++++UNION%0A++++%7B%0A++++++++SELECT+%3Fmetric+%28COUNT%28DISTINCT+%3Fprotein_that_map_to_uniprot%29+AS+%3Fcount%29%0A++++++++WHERE+%7B%0A++++++++++++BIND%28%22Uniprot+mappings%22+AS+%3Fmetric%29%0A++++++++++++%3Fprotein_that_map_to_uniprot+rdf%3Atype+bp3%3AProtein+.%0A++++++++++++%3Fprotein_that_map_to_uniprot+bp3%3AentityReference+%3Fprotein_ref+.%0A++++++++++++%3Fprotein_ref+rdf%3Atype+bp3%3AProteinReference+.%0A++++++++++++%3Fprotein_ref+bp3%3Axref+%3Fprotein_ref_xref+.%0A++++++++++++%3Fprotein_ref_xref+rdf%3Atype+bp3%3AUnificationXref+.%0A++++++++++++%3Fprotein_ref_xref+bp3%3Adb+%22uniprot+knowledgebase%22+.%0A++++++++++++%3Fprotein_ref_xref+bp3%3Aid+%3Fup_id+.%0A++++++++%7D%0A++++++++GROUP+BY+%3Fmetric%0A++++%7D%0A++++UNION+%0A++++%7B%0A++++++++SELECT+%3Fmetric+%28COUNT%28DISTINCT+%3Fprotein_no_map_to_uniprot%29+AS+%3Fcount%29%0A++++++++WHERE+%7B%0A++++++++++++BIND%28%22Protein+with+no+mapping%22+AS+%3Fmetric%29%0A++++++++++++%3Fprotein_no_map_to_uniprot+rdf%3Atype/%28rdfs%3AsubClassOf%2A%29+bp3%3AProtein+.%0A++++++++++++%3Fprotein_no_map_to_uniprot+bp3%3AentityReference+%3Fprotein_ref+.%0A++++++++++++FILTER+NOT+EXISTS+%7B%0A++++++++++++++++%3Fprotein_ref+bp3%3Axref+%3Fxref+.%0A++++++++++++++++%3Fxref+rdf%3Atype+bp3%3AUnificationXref+.%0A++++++++++++++++%3Fxref+bp3%3Adb+%22uniprot+knowledgebase%22+.%0A++++++++++++++++%3Fxref+bp3%3Aid+%3Fid+.%0A++++++++++++%7D%0A++++++++%7D%0A++++++++GROUP+BY+%3Fmetric%0A++++%7D%0A++++UNION+%0A++++%7B%0A++++++++SELECT+%3Fmetric+%28COUNT%28DISTINCT+%3Fup_id%29+AS+%3Fcount%29%0A++++++++WHERE+%7B%0A++++++++++++BIND%28%22Unique+Uniprot%22+AS+%3Fmetric%29%0A++++++++++++%3Funif_xref+rdf%3Atype+bp3%3AUnificationXref+.%0A++++++++++++%3Funif_xref+bp3%3Adb+%22uniprot+knowledgebase%22+.%0A++++++++++++%3Funif_xref+bp3%3Aid+%3Fup_id+.%0A++++++++%7D%0A++++++++GROUP+BY+%3Fmetric%0A++++%7D%0A%7D%0AORDER+BY+%3Fmetric%0A%0A&format=csv&output=csv&results=csv\n",
      "19:28:12 INFO  Fuseki          :: [2] Query =  PREFIX rdf: <http://www.w3.org/1999/02/22-rdf-syntax-ns#> PREFIX rdfs:<http://www.w3.org/2000/01/rdf-schema#> PREFIX owl: <http://www.w3.org/2002/07/owl#> PREFIX xsd: <http://www.w3.org/2001/XMLSchema#> PREFIX dc: <http://purl.org/dc/elements/1.1/> PREFIX dcterms: <http://purl.org/dc/terms/>  PREFIX chebi: <http://purl.obolibrary.org/obo/chebi/> PREFIX chebidb: <http://purl.obolibrary.org/obo/CHEBI_> PREFIX chebirel: <http://purl.obolibrary.org/obo/CHEBI#> PREFIX oboInOwl: <http://www.geneontology.org/formats/oboInOwl#>  PREFIX bp3: <http://www.biopax.org/release/biopax-level3.owl#>  # Homo_sapiens-20170221.owl #PREFIX reactome: <http://www.reactome.org/biopax/59/48887#>  # # Homo_sapiens-20210608.owl #PREFIX reactome: <http://www.reactome.org/biopax/77/48887#> # # Homo_sapiens-20220614.owl #PREFIX reactome: <http://www.reactome.org/biopax/81/48887#> # # Homo_sapiens-20221130.owl #PREFIX reactome: <http://www.reactome.org/biopax/83/48887#>  PREFIX reactome: <http://www.reactome.org/biopax/87/48887#>  SELECT ?metric ?count # Number of instances of Protein WHERE {     {         SELECT ?metric (COUNT(DISTINCT ?protein) AS ?count)         WHERE {             BIND(\"Protein\" AS ?metric)             ?protein rdf:type/(rdfs:subClassOf*) bp3:Protein .         }         GROUP BY ?metric     }     UNION     {         SELECT ?metric (COUNT(DISTINCT ?protein_ref) AS ?count)         WHERE {             BIND(\"ProteinReference\" AS ?metric)             ?protein_ref rdf:type bp3:ProteinReference .         }         GROUP BY ?metric     }     UNION     {         SELECT ?metric (COUNT(DISTINCT ?protein_without_ref) AS ?count)         WHERE {       BIND(\"Protein with no PR\" AS ?metric)       OPTIONAL {             ?protein_without_ref rdf:type/(rdfs:subClassOf*) bp3:Protein .             FILTER NOT EXISTS {                 ?protein_without_ref bp3:entityReference ?ref .                 ?ref rdf:type bp3:ProteinReference .             }         }     }         GROUP BY ?metric     }     UNION     {         SELECT ?metric (COUNT(DISTINCT ?protein_that_map_to_uniprot) AS ?count)         WHERE {             BIND(\"Uniprot mappings\" AS ?metric)             ?protein_that_map_to_uniprot rdf:type bp3:Protein .             ?protein_that_map_to_uniprot bp3:entityReference ?protein_ref .             ?protein_ref rdf:type bp3:ProteinReference .             ?protein_ref bp3:xref ?protein_ref_xref .             ?protein_ref_xref rdf:type bp3:UnificationXref .             ?protein_ref_xref bp3:db \"uniprot knowledgebase\" .             ?protein_ref_xref bp3:id ?up_id .         }         GROUP BY ?metric     }     UNION      {         SELECT ?metric (COUNT(DISTINCT ?protein_no_map_to_uniprot) AS ?count)         WHERE {             BIND(\"Protein with no mapping\" AS ?metric)             ?protein_no_map_to_uniprot rdf:type/(rdfs:subClassOf*) bp3:Protein .             ?protein_no_map_to_uniprot bp3:entityReference ?protein_ref .             FILTER NOT EXISTS {                 ?protein_ref bp3:xref ?xref .                 ?xref rdf:type bp3:UnificationXref .                 ?xref bp3:db \"uniprot knowledgebase\" .                 ?xref bp3:id ?id .             }         }         GROUP BY ?metric     }     UNION      {         SELECT ?metric (COUNT(DISTINCT ?up_id) AS ?count)         WHERE {             BIND(\"Unique Uniprot\" AS ?metric)             ?unif_xref rdf:type bp3:UnificationXref .             ?unif_xref bp3:db \"uniprot knowledgebase\" .             ?unif_xref bp3:id ?up_id .         }         GROUP BY ?metric     } } ORDER BY ?metric  \n",
      "19:28:12 INFO  Fuseki          :: [2] 200 OK (291 ms)\n"
     ]
    }
   ],
   "source": [
    "# TODO: change path\n",
    "command = [\n",
    "    '/home/cbeust/Softwares/JenaFuseki/apache-jena-fuseki-4.9.0/fuseki-server',\n",
    "    '--file', '/home/cbeust/Projects/2024/BioPAX_Review/Compare_BioPAX_Files/PathwayCommonsFiles/PathwayCommons12.netpath.BIOPAX.owl',\n",
    "    '--file', '/home/cbeust/Projects/2024/BioPAX_Review/BioPAX_Ontology/biopax-level3.owl',\n",
    "    '/netpath_pc']\n",
    "process = subprocess.Popen(command)\n",
    "time.sleep(60)\n",
    "\n",
    "# execute SPARQL query\n",
    "sparql = SPARQLWrapper(endpointURL_netpath_pc)\n",
    "sparql.setQuery(prefixes+query2)\n",
    "\n",
    "# display results\n",
    "sparql.setReturnFormat(JSON)\n",
    "results = sparql.query().convert()\n",
    "displaySparqlResults(results)\n",
    "\n",
    "# export to CSV\n",
    "sparql.setReturnFormat(CSV)\n",
    "results = sparql.query().convert()\n",
    "with open(\"../Results/netpath_pc_mappings_uniprot.csv\", \"wb\") as f:\n",
    "    f.write(results)\n",
    "\n",
    "# end process\n",
    "process.kill()\n",
    "time.sleep(60)"
   ]
  }
 ],
 "metadata": {
  "kernelspec": {
   "display_name": "biopax_sparql_queries",
   "language": "python",
   "name": "python3"
  },
  "language_info": {
   "codemirror_mode": {
    "name": "ipython",
    "version": 3
   },
   "file_extension": ".py",
   "mimetype": "text/x-python",
   "name": "python",
   "nbconvert_exporter": "python",
   "pygments_lexer": "ipython3",
   "version": "3.12.4"
  }
 },
 "nbformat": 4,
 "nbformat_minor": 2
}
