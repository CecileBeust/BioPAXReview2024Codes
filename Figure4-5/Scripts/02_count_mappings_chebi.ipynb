{
 "cells": [
  {
   "cell_type": "code",
   "execution_count": 1,
   "metadata": {},
   "outputs": [],
   "source": [
    "from SPARQLWrapper import SPARQLWrapper, JSON, CSV\n",
    "import IPython\n",
    "import subprocess\n",
    "import time"
   ]
  },
  {
   "cell_type": "code",
   "execution_count": 2,
   "metadata": {},
   "outputs": [],
   "source": [
    "endpointURL_reactome_v87 = \"http://localhost:3030/reactome_v87/query\"\n",
    "endpointURL_reactome_pc = \"http://localhost:3030/reactome_pc/query\"\n",
    "endpointURL_panther_pc = \"http://localhost:3030/panther_pc/query\"\n",
    "endpointURL_pathbank_pc = \"http://localhost:3030/pathbank_pc/query\"\n",
    "endpointURL_humancyc_pc = \"http://localhost:3030/humancyc_pc/query\"\n",
    "endpointURL_kegg_pc = \"http://localhost:3030/kegg_pc/query\"\n",
    "endpointURL_pid_pc = \"http://localhost:3030/pid_pc/query\"\n",
    "endpointURL_inoh_pc = \"http://localhost:3030/inoh_pc/query\"\n",
    "endpointURL_netpath_pc = \"http://localhost:3030/netpath_pc/query\"\n",
    "rdfFormat = \"turtle\""
   ]
  },
  {
   "cell_type": "code",
   "execution_count": 3,
   "metadata": {},
   "outputs": [],
   "source": [
    "reactomeVersion = 87\n",
    "prefixes = \"\"\"\n",
    "PREFIX rdf: <http://www.w3.org/1999/02/22-rdf-syntax-ns#>\n",
    "PREFIX rdfs:<http://www.w3.org/2000/01/rdf-schema#>\n",
    "PREFIX owl: <http://www.w3.org/2002/07/owl#>\n",
    "PREFIX xsd: <http://www.w3.org/2001/XMLSchema#>\n",
    "PREFIX dc: <http://purl.org/dc/elements/1.1/>\n",
    "PREFIX dcterms: <http://purl.org/dc/terms/>\n",
    "\n",
    "PREFIX chebi: <http://purl.obolibrary.org/obo/chebi/>\n",
    "PREFIX chebidb: <http://purl.obolibrary.org/obo/CHEBI_>\n",
    "PREFIX chebirel: <http://purl.obolibrary.org/obo/CHEBI#>\n",
    "PREFIX oboInOwl: <http://www.geneontology.org/formats/oboInOwl#>\n",
    "\n",
    "PREFIX bp3: <http://www.biopax.org/release/biopax-level3.owl#>\n",
    "\n",
    "# Homo_sapiens-20170221.owl\n",
    "#PREFIX reactome: <http://www.reactome.org/biopax/59/48887#> \n",
    "#\n",
    "# Homo_sapiens-20210608.owl\n",
    "#PREFIX reactome: <http://www.reactome.org/biopax/77/48887#>\n",
    "#\n",
    "# Homo_sapiens-20220614.owl\n",
    "#PREFIX reactome: <http://www.reactome.org/biopax/81/48887#>\n",
    "#\n",
    "# Homo_sapiens-20221130.owl\n",
    "#PREFIX reactome: <http://www.reactome.org/biopax/83/48887#>\n",
    "\n",
    "PREFIX reactome: <http://www.reactome.org/biopax/{}/48887#>\n",
    "\"\"\".format(reactomeVersion)\n",
    "\n",
    "biopaxURI = \"http://www.biopax.org/release/biopax-level3.owl#\""
   ]
  },
  {
   "cell_type": "code",
   "execution_count": 4,
   "metadata": {},
   "outputs": [],
   "source": [
    "def displaySparqlResults(results):\n",
    "    '''\n",
    "    Displays as HTML the result of a SPARQLWrapper query in a Jupyter notebook.\n",
    "    \n",
    "        Parameters:\n",
    "            results (dictionnary): the result of a call to SPARQLWrapper.query().convert()\n",
    "    '''\n",
    "    variableNames = results['head']['vars']\n",
    "    tableCode = '<table><tr><th>{}</th></tr><tr>{}</tr></table>'.format('</th><th>'.join(variableNames), '</tr><tr>'.join('<td>{}</td>'.format('</td><td>'.join([row[vName]['value'] if vName in row.keys() else \"&nbsp;\" for vName in variableNames]))for row in results[\"results\"][\"bindings\"]))\n",
    "    IPython.display.display(IPython.display.HTML(tableCode))"
   ]
  },
  {
   "cell_type": "markdown",
   "metadata": {},
   "source": [
    "## Mappings to ChEBI"
   ]
  },
  {
   "cell_type": "code",
   "execution_count": 5,
   "metadata": {},
   "outputs": [],
   "source": [
    "# First SPARQL query using the string \"ChEBI\" to map to ChEBI resources\n",
    "query1 = \"\"\"\n",
    "SELECT ?metric ?count\n",
    "# Number of instances of SmallMolecule\n",
    "WHERE {\n",
    "    {\n",
    "        SELECT ?metric (COUNT(DISTINCT ?small_molecule) AS ?count)\n",
    "        WHERE {\n",
    "            BIND(\"SmallMolecule\" AS ?metric)\n",
    "            OPTIONAL {\n",
    "            ?small_molecule rdf:type/(rdfs:subClassOf*) bp3:SmallMolecule .\n",
    "        }\n",
    "        }\n",
    "        GROUP BY ?metric\n",
    "    }\n",
    "    UNION\n",
    "    {\n",
    "        SELECT ?metric (COUNT(DISTINCT ?small_molecule_ref) AS ?count)\n",
    "        WHERE {\n",
    "            BIND(\"SmallMoleculeReference\" AS ?metric)\n",
    "            OPTIONAL {\n",
    "            ?small_molecule_ref rdf:type bp3:SmallMoleculeReference .\n",
    "        }\n",
    "        }\n",
    "        GROUP BY ?metric\n",
    "    }\n",
    "    UNION\n",
    "    {\n",
    "        SELECT ?metric (COUNT(DISTINCT ?small_molecule_without_ref) AS ?count)\n",
    "        WHERE {\n",
    "            BIND(\"noSMR\" AS ?metric)\n",
    "            OPTIONAL {\n",
    "            ?small_molecule_without_ref rdf:type/(rdfs:subClassOf*) bp3:SmallMolecule .\n",
    "            FILTER NOT EXISTS {\n",
    "                ?small_molecule_without_ref bp3:entityReference ?ref .\n",
    "                ?ref rdf:type bp3:SmallMoleculeReference .\n",
    "            }\n",
    "            }\n",
    "        }\n",
    "        GROUP BY ?metric\n",
    "    }\n",
    "    UNION\n",
    "    {\n",
    "        SELECT ?metric (COUNT(DISTINCT ?small_molecule_that_map_to_chebi) AS ?count)\n",
    "        WHERE {\n",
    "            BIND(\"ChEBI mappings\" AS ?metric)\n",
    "            OPTIONAL {\n",
    "            ?small_molecule_that_map_to_chebi rdf:type bp3:SmallMolecule .\n",
    "            ?small_molecule_that_map_to_chebi bp3:entityReference ?small_molecule_ref .\n",
    "            ?small_molecule_ref rdf:type bp3:SmallMoleculeReference .\n",
    "            ?small_molecule_ref bp3:xref ?small_molecule_ref_xref .\n",
    "            ?small_molecule_ref_xref rdf:type bp3:UnificationXref .\n",
    "            ?small_molecule_ref_xref bp3:db \"ChEBI\" .\n",
    "            ?small_molecule_ref_xref bp3:id ?chebi_id .\n",
    "        }\n",
    "        }\n",
    "        GROUP BY ?metric\n",
    "    }\n",
    "    UNION \n",
    "    {\n",
    "        SELECT ?metric (COUNT(DISTINCT ?small_molecule_no_map_to_chebi) AS ?count)\n",
    "        WHERE {\n",
    "            BIND(\"Smnomapping\" AS ?metric)\n",
    "            OPTIONAL {\n",
    "            ?small_molecule_no_map_to_chebi rdf:type/(rdfs:subClassOf*) bp3:SmallMolecule .\n",
    "            ?small_molecule_no_map_to_chebi bp3:entityReference ?small_molecule_ref .\n",
    "            FILTER NOT EXISTS {\n",
    "                ?small_molecule_ref bp3:xref ?xref .\n",
    "                ?xref rdf:type bp3:UnificationXref .\n",
    "                ?xref bp3:db \"ChEBI\" .\n",
    "                ?xref bp3:id ?chebi_id .\n",
    "            }\n",
    "            }\n",
    "        }\n",
    "        GROUP BY ?metric\n",
    "    }\n",
    "    UNION \n",
    "    {\n",
    "        SELECT ?metric (COUNT(DISTINCT ?chebi_id) AS ?count)\n",
    "        WHERE {\n",
    "            BIND(\"Unique ChEBI\" AS ?metric)\n",
    "            OPTIONAL {\n",
    "            ?unif_xref rdf:type bp3:UnificationXref .\n",
    "            ?unif_xref bp3:db \"ChEBI\" .\n",
    "            ?unif_xref bp3:id ?chebi_id .\n",
    "        }\n",
    "        }\n",
    "        GROUP BY ?metric\n",
    "    }\n",
    "}\n",
    "ORDER BY ?metric\n",
    "\n",
    "\"\"\"\n",
    "\n",
    "# Second SPARQL query using the string \"chebi\" to map to ChEBI resources\n",
    "query2 = \"\"\"\n",
    "SELECT ?metric ?count\n",
    "# Number of instances of SmallMolecule\n",
    "WHERE {\n",
    "    {\n",
    "        SELECT ?metric (COUNT(DISTINCT ?small_molecule) AS ?count)\n",
    "        WHERE {\n",
    "            BIND(\"SmallMolecule\" AS ?metric)\n",
    "            ?small_molecule rdf:type/(rdfs:subClassOf*) bp3:SmallMolecule .\n",
    "        }\n",
    "        GROUP BY ?metric\n",
    "    }\n",
    "    UNION\n",
    "    {\n",
    "        SELECT ?metric (COUNT(DISTINCT ?small_molecule_ref) AS ?count)\n",
    "        WHERE {\n",
    "            BIND(\"SmallMoleculeReference\" AS ?metric)\n",
    "            ?small_molecule_ref rdf:type bp3:SmallMoleculeReference .\n",
    "        }\n",
    "        GROUP BY ?metric\n",
    "    }\n",
    "    UNION\n",
    "    {\n",
    "        SELECT ?metric (COUNT(DISTINCT ?small_molecule_without_ref) AS ?count)\n",
    "        WHERE {\n",
    "            BIND(\"noSMR\" AS ?metric)\n",
    "            OPTIONAL {\n",
    "            ?small_molecule_without_ref rdf:type/(rdfs:subClassOf*) bp3:SmallMolecule .\n",
    "            FILTER NOT EXISTS {\n",
    "                ?small_molecule_without_ref bp3:entityReference ?ref .\n",
    "                ?ref rdf:type bp3:SmallMoleculeReference .\n",
    "            }\n",
    "            }\n",
    "        }\n",
    "        GROUP BY ?metric\n",
    "    }\n",
    "    UNION\n",
    "    {\n",
    "        SELECT ?metric (COUNT(DISTINCT ?small_molecule_that_map_to_chebi) AS ?count)\n",
    "        WHERE {\n",
    "            BIND(\"ChEBI mappings\" AS ?metric)\n",
    "            ?small_molecule_that_map_to_chebi rdf:type bp3:SmallMolecule .\n",
    "            ?small_molecule_that_map_to_chebi bp3:entityReference ?small_molecule_ref .\n",
    "            ?small_molecule_ref rdf:type bp3:SmallMoleculeReference .\n",
    "            ?small_molecule_ref bp3:xref ?small_molecule_ref_xref .\n",
    "            ?small_molecule_ref_xref rdf:type bp3:UnificationXref .\n",
    "            ?small_molecule_ref_xref bp3:db \"chebi\" .\n",
    "            ?small_molecule_ref_xref bp3:id ?chebi_id .\n",
    "        }\n",
    "        GROUP BY ?metric\n",
    "    }\n",
    "    UNION \n",
    "    {\n",
    "        SELECT ?metric (COUNT(DISTINCT ?small_molecule_no_map_to_chebi) AS ?count)\n",
    "        WHERE {\n",
    "            BIND(\"Smnomapping\" AS ?metric)\n",
    "            ?small_molecule_no_map_to_chebi rdf:type/(rdfs:subClassOf*) bp3:SmallMolecule .\n",
    "            ?small_molecule_no_map_to_chebi bp3:entityReference ?small_molecule_ref .\n",
    "            FILTER NOT EXISTS {\n",
    "                ?small_molecule_ref bp3:xref ?xref .\n",
    "                ?xref rdf:type bp3:UnificationXref .\n",
    "                ?xref bp3:db \"chebi\" .\n",
    "                ?xref bp3:id ?chebi_id .\n",
    "            }\n",
    "        }\n",
    "        GROUP BY ?metric\n",
    "    }\n",
    "    UNION \n",
    "    {\n",
    "        SELECT ?metric (COUNT(DISTINCT ?chebi_id) AS ?count)\n",
    "        WHERE {\n",
    "            BIND(\"Unique ChEBI\" AS ?metric)\n",
    "            ?unif_xref rdf:type bp3:UnificationXref .\n",
    "            ?unif_xref bp3:db \"chebi\" .\n",
    "            ?unif_xref bp3:id ?chebi_id .\n",
    "        }\n",
    "        GROUP BY ?metric\n",
    "    }\n",
    "}\n",
    "ORDER BY ?metric\n",
    "\n",
    "\"\"\""
   ]
  },
  {
   "cell_type": "markdown",
   "metadata": {},
   "source": [
    "TODO: change the path to fuseki server and BioPAX files + BioPAX ontology in the command line to launch the SPARQL endpoint"
   ]
  },
  {
   "cell_type": "markdown",
   "metadata": {},
   "source": [
    "#### Query on Reactome BioPAX standalone export version 87"
   ]
  },
  {
   "cell_type": "code",
   "execution_count": 6,
   "metadata": {},
   "outputs": [
    {
     "name": "stderr",
     "output_type": "stream",
     "text": [
      "09:27:04 INFO  Server          :: Dataset: in-memory: load file: /home/cbeust/Projects/2024/BioPAX_Review/Compare_BioPAX_Files/ReactomeBioPAX/_00_Reactome_Data_v87/Homo_sapiens.owl\n",
      "09:27:05 WARN  riot            :: [line: 67280, col: 52] {W137} Input is large. Switching off checking for illegal reuse of rdf:ID's.\n",
      "09:27:25 INFO  Server          :: Dataset: in-memory: load file: /home/cbeust/Projects/2024/BioPAX_Review/BioPAX_Ontology/biopax-level3.owl\n",
      "09:27:25 INFO  Server          :: Running in read-only mode for /reactome_v87\n",
      "09:27:25 INFO  Server          :: Apache Jena Fuseki 4.9.0\n",
      "09:27:25 INFO  Config          :: FUSEKI_HOME=/home/cbeust/Softwares/JenaFuseki/apache-jena-fuseki-4.9.0\n",
      "09:27:25 INFO  Config          :: FUSEKI_BASE=/home/cbeust/Projects/2024/BioPAX_Review/BioPAXReview2024Codes/Figure4-5/Scripts/run\n",
      "09:27:25 INFO  Config          :: Shiro file: file:///home/cbeust/Projects/2024/BioPAX_Review/BioPAXReview2024Codes/Figure4-5/Scripts/run/shiro.ini\n",
      "09:27:25 INFO  Server          :: Database: in-memory, with files loaded\n",
      "09:27:25 INFO  Server          :: Path = /reactome_v87\n",
      "09:27:25 INFO  Server          ::   Memory: 16.0 GiB\n",
      "09:27:25 INFO  Server          ::   Java:   17.0.11\n",
      "09:27:25 INFO  Server          ::   OS:     Linux 6.8.9-100.fc38.x86_64 amd64\n",
      "09:27:25 INFO  Server          ::   PID:    13149\n",
      "09:27:26 INFO  Server          :: Started 2024/07/30 09:27:25 CEST on port 3030\n",
      "09:28:03 INFO  Fuseki          :: [1] GET http://localhost:3030/reactome_v87/query?query=%0APREFIX+rdf%3A+%3Chttp%3A//www.w3.org/1999/02/22-rdf-syntax-ns%23%3E%0APREFIX+rdfs%3A%3Chttp%3A//www.w3.org/2000/01/rdf-schema%23%3E%0APREFIX+owl%3A+%3Chttp%3A//www.w3.org/2002/07/owl%23%3E%0APREFIX+xsd%3A+%3Chttp%3A//www.w3.org/2001/XMLSchema%23%3E%0APREFIX+dc%3A+%3Chttp%3A//purl.org/dc/elements/1.1/%3E%0APREFIX+dcterms%3A+%3Chttp%3A//purl.org/dc/terms/%3E%0A%0APREFIX+chebi%3A+%3Chttp%3A//purl.obolibrary.org/obo/chebi/%3E%0APREFIX+chebidb%3A+%3Chttp%3A//purl.obolibrary.org/obo/CHEBI_%3E%0APREFIX+chebirel%3A+%3Chttp%3A//purl.obolibrary.org/obo/CHEBI%23%3E%0APREFIX+oboInOwl%3A+%3Chttp%3A//www.geneontology.org/formats/oboInOwl%23%3E%0A%0APREFIX+bp3%3A+%3Chttp%3A//www.biopax.org/release/biopax-level3.owl%23%3E%0A%0A%23+Homo_sapiens-20170221.owl%0A%23PREFIX+reactome%3A+%3Chttp%3A//www.reactome.org/biopax/59/48887%23%3E+%0A%23%0A%23+Homo_sapiens-20210608.owl%0A%23PREFIX+reactome%3A+%3Chttp%3A//www.reactome.org/biopax/77/48887%23%3E%0A%23%0A%23+Homo_sapiens-20220614.owl%0A%23PREFIX+reactome%3A+%3Chttp%3A//www.reactome.org/biopax/81/48887%23%3E%0A%23%0A%23+Homo_sapiens-20221130.owl%0A%23PREFIX+reactome%3A+%3Chttp%3A//www.reactome.org/biopax/83/48887%23%3E%0A%0APREFIX+reactome%3A+%3Chttp%3A//www.reactome.org/biopax/87/48887%23%3E%0A%0ASELECT+%3Fmetric+%3Fcount%0A%23+Number+of+instances+of+SmallMolecule%0AWHERE+%7B%0A++++%7B%0A++++++++SELECT+%3Fmetric+%28COUNT%28DISTINCT+%3Fsmall_molecule%29+AS+%3Fcount%29%0A++++++++WHERE+%7B%0A++++++++++++BIND%28%22SmallMolecule%22+AS+%3Fmetric%29%0A++++++++++++OPTIONAL+%7B%0A++++++++++++%3Fsmall_molecule+rdf%3Atype/%28rdfs%3AsubClassOf%2A%29+bp3%3ASmallMolecule+.%0A++++++++%7D%0A++++++++%7D%0A++++++++GROUP+BY+%3Fmetric%0A++++%7D%0A++++UNION%0A++++%7B%0A++++++++SELECT+%3Fmetric+%28COUNT%28DISTINCT+%3Fsmall_molecule_ref%29+AS+%3Fcount%29%0A++++++++WHERE+%7B%0A++++++++++++BIND%28%22SmallMoleculeReference%22+AS+%3Fmetric%29%0A++++++++++++OPTIONAL+%7B%0A++++++++++++%3Fsmall_molecule_ref+rdf%3Atype+bp3%3ASmallMoleculeReference+.%0A++++++++%7D%0A++++++++%7D%0A++++++++GROUP+BY+%3Fmetric%0A++++%7D%0A++++UNION%0A++++%7B%0A++++++++SELECT+%3Fmetric+%28COUNT%28DISTINCT+%3Fsmall_molecule_without_ref%29+AS+%3Fcount%29%0A++++++++WHERE+%7B%0A++++++++++++BIND%28%22noSMR%22+AS+%3Fmetric%29%0A++++++++++++OPTIONAL+%7B%0A++++++++++++%3Fsmall_molecule_without_ref+rdf%3Atype/%28rdfs%3AsubClassOf%2A%29+bp3%3ASmallMolecule+.%0A++++++++++++FILTER+NOT+EXISTS+%7B%0A++++++++++++++++%3Fsmall_molecule_without_ref+bp3%3AentityReference+%3Fref+.%0A++++++++++++++++%3Fref+rdf%3Atype+bp3%3ASmallMoleculeReference+.%0A++++++++++++%7D%0A++++++++++++%7D%0A++++++++%7D%0A++++++++GROUP+BY+%3Fmetric%0A++++%7D%0A++++UNION%0A++++%7B%0A++++++++SELECT+%3Fmetric+%28COUNT%28DISTINCT+%3Fsmall_molecule_that_map_to_chebi%29+AS+%3Fcount%29%0A++++++++WHERE+%7B%0A++++++++++++BIND%28%22ChEBI+mappings%22+AS+%3Fmetric%29%0A++++++++++++OPTIONAL+%7B%0A++++++++++++%3Fsmall_molecule_that_map_to_chebi+rdf%3Atype+bp3%3ASmallMolecule+.%0A++++++++++++%3Fsmall_molecule_that_map_to_chebi+bp3%3AentityReference+%3Fsmall_molecule_ref+.%0A++++++++++++%3Fsmall_molecule_ref+rdf%3Atype+bp3%3ASmallMoleculeReference+.%0A++++++++++++%3Fsmall_molecule_ref+bp3%3Axref+%3Fsmall_molecule_ref_xref+.%0A++++++++++++%3Fsmall_molecule_ref_xref+rdf%3Atype+bp3%3AUnificationXref+.%0A++++++++++++%3Fsmall_molecule_ref_xref+bp3%3Adb+%22ChEBI%22+.%0A++++++++++++%3Fsmall_molecule_ref_xref+bp3%3Aid+%3Fchebi_id+.%0A++++++++%7D%0A++++++++%7D%0A++++++++GROUP+BY+%3Fmetric%0A++++%7D%0A++++UNION+%0A++++%7B%0A++++++++SELECT+%3Fmetric+%28COUNT%28DISTINCT+%3Fsmall_molecule_no_map_to_chebi%29+AS+%3Fcount%29%0A++++++++WHERE+%7B%0A++++++++++++BIND%28%22Smnomapping%22+AS+%3Fmetric%29%0A++++++++++++OPTIONAL+%7B%0A++++++++++++%3Fsmall_molecule_no_map_to_chebi+rdf%3Atype/%28rdfs%3AsubClassOf%2A%29+bp3%3ASmallMolecule+.%0A++++++++++++%3Fsmall_molecule_no_map_to_chebi+bp3%3AentityReference+%3Fsmall_molecule_ref+.%0A++++++++++++FILTER+NOT+EXISTS+%7B%0A++++++++++++++++%3Fsmall_molecule_ref+bp3%3Axref+%3Fxref+.%0A++++++++++++++++%3Fxref+rdf%3Atype+bp3%3AUnificationXref+.%0A++++++++++++++++%3Fxref+bp3%3Adb+%22ChEBI%22+.%0A++++++++++++++++%3Fxref+bp3%3Aid+%3Fchebi_id+.%0A++++++++++++%7D%0A++++++++++++%7D%0A++++++++%7D%0A++++++++GROUP+BY+%3Fmetric%0A++++%7D%0A++++UNION+%0A++++%7B%0A++++++++SELECT+%3Fmetric+%28COUNT%28DISTINCT+%3Fchebi_id%29+AS+%3Fcount%29%0A++++++++WHERE+%7B%0A++++++++++++BIND%28%22Unique+ChEBI%22+AS+%3Fmetric%29%0A++++++++++++OPTIONAL+%7B%0A++++++++++++%3Funif_xref+rdf%3Atype+bp3%3AUnificationXref+.%0A++++++++++++%3Funif_xref+bp3%3Adb+%22ChEBI%22+.%0A++++++++++++%3Funif_xref+bp3%3Aid+%3Fchebi_id+.%0A++++++++%7D%0A++++++++%7D%0A++++++++GROUP+BY+%3Fmetric%0A++++%7D%0A%7D%0AORDER+BY+%3Fmetric%0A%0A&format=json&output=json&results=json\n",
      "09:28:03 INFO  Fuseki          :: [1] Query =  PREFIX rdf: <http://www.w3.org/1999/02/22-rdf-syntax-ns#> PREFIX rdfs:<http://www.w3.org/2000/01/rdf-schema#> PREFIX owl: <http://www.w3.org/2002/07/owl#> PREFIX xsd: <http://www.w3.org/2001/XMLSchema#> PREFIX dc: <http://purl.org/dc/elements/1.1/> PREFIX dcterms: <http://purl.org/dc/terms/>  PREFIX chebi: <http://purl.obolibrary.org/obo/chebi/> PREFIX chebidb: <http://purl.obolibrary.org/obo/CHEBI_> PREFIX chebirel: <http://purl.obolibrary.org/obo/CHEBI#> PREFIX oboInOwl: <http://www.geneontology.org/formats/oboInOwl#>  PREFIX bp3: <http://www.biopax.org/release/biopax-level3.owl#>  # Homo_sapiens-20170221.owl #PREFIX reactome: <http://www.reactome.org/biopax/59/48887#>  # # Homo_sapiens-20210608.owl #PREFIX reactome: <http://www.reactome.org/biopax/77/48887#> # # Homo_sapiens-20220614.owl #PREFIX reactome: <http://www.reactome.org/biopax/81/48887#> # # Homo_sapiens-20221130.owl #PREFIX reactome: <http://www.reactome.org/biopax/83/48887#>  PREFIX reactome: <http://www.reactome.org/biopax/87/48887#>  SELECT ?metric ?count # Number of instances of SmallMolecule WHERE {     {         SELECT ?metric (COUNT(DISTINCT ?small_molecule) AS ?count)         WHERE {             BIND(\"SmallMolecule\" AS ?metric)             OPTIONAL {             ?small_molecule rdf:type/(rdfs:subClassOf*) bp3:SmallMolecule .         }         }         GROUP BY ?metric     }     UNION     {         SELECT ?metric (COUNT(DISTINCT ?small_molecule_ref) AS ?count)         WHERE {             BIND(\"SmallMoleculeReference\" AS ?metric)             OPTIONAL {             ?small_molecule_ref rdf:type bp3:SmallMoleculeReference .         }         }         GROUP BY ?metric     }     UNION     {         SELECT ?metric (COUNT(DISTINCT ?small_molecule_without_ref) AS ?count)         WHERE {             BIND(\"noSMR\" AS ?metric)             OPTIONAL {             ?small_molecule_without_ref rdf:type/(rdfs:subClassOf*) bp3:SmallMolecule .             FILTER NOT EXISTS {                 ?small_molecule_without_ref bp3:entityReference ?ref .                 ?ref rdf:type bp3:SmallMoleculeReference .             }             }         }         GROUP BY ?metric     }     UNION     {         SELECT ?metric (COUNT(DISTINCT ?small_molecule_that_map_to_chebi) AS ?count)         WHERE {             BIND(\"ChEBI mappings\" AS ?metric)             OPTIONAL {             ?small_molecule_that_map_to_chebi rdf:type bp3:SmallMolecule .             ?small_molecule_that_map_to_chebi bp3:entityReference ?small_molecule_ref .             ?small_molecule_ref rdf:type bp3:SmallMoleculeReference .             ?small_molecule_ref bp3:xref ?small_molecule_ref_xref .             ?small_molecule_ref_xref rdf:type bp3:UnificationXref .             ?small_molecule_ref_xref bp3:db \"ChEBI\" .             ?small_molecule_ref_xref bp3:id ?chebi_id .         }         }         GROUP BY ?metric     }     UNION      {         SELECT ?metric (COUNT(DISTINCT ?small_molecule_no_map_to_chebi) AS ?count)         WHERE {             BIND(\"Smnomapping\" AS ?metric)             OPTIONAL {             ?small_molecule_no_map_to_chebi rdf:type/(rdfs:subClassOf*) bp3:SmallMolecule .             ?small_molecule_no_map_to_chebi bp3:entityReference ?small_molecule_ref .             FILTER NOT EXISTS {                 ?small_molecule_ref bp3:xref ?xref .                 ?xref rdf:type bp3:UnificationXref .                 ?xref bp3:db \"ChEBI\" .                 ?xref bp3:id ?chebi_id .             }             }         }         GROUP BY ?metric     }     UNION      {         SELECT ?metric (COUNT(DISTINCT ?chebi_id) AS ?count)         WHERE {             BIND(\"Unique ChEBI\" AS ?metric)             OPTIONAL {             ?unif_xref rdf:type bp3:UnificationXref .             ?unif_xref bp3:db \"ChEBI\" .             ?unif_xref bp3:id ?chebi_id .         }         }         GROUP BY ?metric     } } ORDER BY ?metric  \n",
      "09:28:04 INFO  Fuseki          :: [1] 200 OK (711 ms)\n"
     ]
    },
    {
     "data": {
      "text/html": [
       "<table><tr><th>metric</th><th>count</th></tr><tr><td>ChEBI mappings</td><td>3645</td></tr><tr><td>SmallMolecule</td><td>5196</td></tr><tr><td>SmallMoleculeReference</td><td>2956</td></tr><tr><td>Smnomapping</td><td>1045</td></tr><tr><td>Unique ChEBI</td><td>2000</td></tr><tr><td>noSMR</td><td>506</td></tr></table>"
      ],
      "text/plain": [
       "<IPython.core.display.HTML object>"
      ]
     },
     "metadata": {},
     "output_type": "display_data"
    },
    {
     "name": "stderr",
     "output_type": "stream",
     "text": [
      "09:28:04 INFO  Fuseki          :: [2] GET http://localhost:3030/reactome_v87/query?query=%0APREFIX+rdf%3A+%3Chttp%3A//www.w3.org/1999/02/22-rdf-syntax-ns%23%3E%0APREFIX+rdfs%3A%3Chttp%3A//www.w3.org/2000/01/rdf-schema%23%3E%0APREFIX+owl%3A+%3Chttp%3A//www.w3.org/2002/07/owl%23%3E%0APREFIX+xsd%3A+%3Chttp%3A//www.w3.org/2001/XMLSchema%23%3E%0APREFIX+dc%3A+%3Chttp%3A//purl.org/dc/elements/1.1/%3E%0APREFIX+dcterms%3A+%3Chttp%3A//purl.org/dc/terms/%3E%0A%0APREFIX+chebi%3A+%3Chttp%3A//purl.obolibrary.org/obo/chebi/%3E%0APREFIX+chebidb%3A+%3Chttp%3A//purl.obolibrary.org/obo/CHEBI_%3E%0APREFIX+chebirel%3A+%3Chttp%3A//purl.obolibrary.org/obo/CHEBI%23%3E%0APREFIX+oboInOwl%3A+%3Chttp%3A//www.geneontology.org/formats/oboInOwl%23%3E%0A%0APREFIX+bp3%3A+%3Chttp%3A//www.biopax.org/release/biopax-level3.owl%23%3E%0A%0A%23+Homo_sapiens-20170221.owl%0A%23PREFIX+reactome%3A+%3Chttp%3A//www.reactome.org/biopax/59/48887%23%3E+%0A%23%0A%23+Homo_sapiens-20210608.owl%0A%23PREFIX+reactome%3A+%3Chttp%3A//www.reactome.org/biopax/77/48887%23%3E%0A%23%0A%23+Homo_sapiens-20220614.owl%0A%23PREFIX+reactome%3A+%3Chttp%3A//www.reactome.org/biopax/81/48887%23%3E%0A%23%0A%23+Homo_sapiens-20221130.owl%0A%23PREFIX+reactome%3A+%3Chttp%3A//www.reactome.org/biopax/83/48887%23%3E%0A%0APREFIX+reactome%3A+%3Chttp%3A//www.reactome.org/biopax/87/48887%23%3E%0A%0ASELECT+%3Fmetric+%3Fcount%0A%23+Number+of+instances+of+SmallMolecule%0AWHERE+%7B%0A++++%7B%0A++++++++SELECT+%3Fmetric+%28COUNT%28DISTINCT+%3Fsmall_molecule%29+AS+%3Fcount%29%0A++++++++WHERE+%7B%0A++++++++++++BIND%28%22SmallMolecule%22+AS+%3Fmetric%29%0A++++++++++++OPTIONAL+%7B%0A++++++++++++%3Fsmall_molecule+rdf%3Atype/%28rdfs%3AsubClassOf%2A%29+bp3%3ASmallMolecule+.%0A++++++++%7D%0A++++++++%7D%0A++++++++GROUP+BY+%3Fmetric%0A++++%7D%0A++++UNION%0A++++%7B%0A++++++++SELECT+%3Fmetric+%28COUNT%28DISTINCT+%3Fsmall_molecule_ref%29+AS+%3Fcount%29%0A++++++++WHERE+%7B%0A++++++++++++BIND%28%22SmallMoleculeReference%22+AS+%3Fmetric%29%0A++++++++++++OPTIONAL+%7B%0A++++++++++++%3Fsmall_molecule_ref+rdf%3Atype+bp3%3ASmallMoleculeReference+.%0A++++++++%7D%0A++++++++%7D%0A++++++++GROUP+BY+%3Fmetric%0A++++%7D%0A++++UNION%0A++++%7B%0A++++++++SELECT+%3Fmetric+%28COUNT%28DISTINCT+%3Fsmall_molecule_without_ref%29+AS+%3Fcount%29%0A++++++++WHERE+%7B%0A++++++++++++BIND%28%22noSMR%22+AS+%3Fmetric%29%0A++++++++++++OPTIONAL+%7B%0A++++++++++++%3Fsmall_molecule_without_ref+rdf%3Atype/%28rdfs%3AsubClassOf%2A%29+bp3%3ASmallMolecule+.%0A++++++++++++FILTER+NOT+EXISTS+%7B%0A++++++++++++++++%3Fsmall_molecule_without_ref+bp3%3AentityReference+%3Fref+.%0A++++++++++++++++%3Fref+rdf%3Atype+bp3%3ASmallMoleculeReference+.%0A++++++++++++%7D%0A++++++++++++%7D%0A++++++++%7D%0A++++++++GROUP+BY+%3Fmetric%0A++++%7D%0A++++UNION%0A++++%7B%0A++++++++SELECT+%3Fmetric+%28COUNT%28DISTINCT+%3Fsmall_molecule_that_map_to_chebi%29+AS+%3Fcount%29%0A++++++++WHERE+%7B%0A++++++++++++BIND%28%22ChEBI+mappings%22+AS+%3Fmetric%29%0A++++++++++++OPTIONAL+%7B%0A++++++++++++%3Fsmall_molecule_that_map_to_chebi+rdf%3Atype+bp3%3ASmallMolecule+.%0A++++++++++++%3Fsmall_molecule_that_map_to_chebi+bp3%3AentityReference+%3Fsmall_molecule_ref+.%0A++++++++++++%3Fsmall_molecule_ref+rdf%3Atype+bp3%3ASmallMoleculeReference+.%0A++++++++++++%3Fsmall_molecule_ref+bp3%3Axref+%3Fsmall_molecule_ref_xref+.%0A++++++++++++%3Fsmall_molecule_ref_xref+rdf%3Atype+bp3%3AUnificationXref+.%0A++++++++++++%3Fsmall_molecule_ref_xref+bp3%3Adb+%22ChEBI%22+.%0A++++++++++++%3Fsmall_molecule_ref_xref+bp3%3Aid+%3Fchebi_id+.%0A++++++++%7D%0A++++++++%7D%0A++++++++GROUP+BY+%3Fmetric%0A++++%7D%0A++++UNION+%0A++++%7B%0A++++++++SELECT+%3Fmetric+%28COUNT%28DISTINCT+%3Fsmall_molecule_no_map_to_chebi%29+AS+%3Fcount%29%0A++++++++WHERE+%7B%0A++++++++++++BIND%28%22Smnomapping%22+AS+%3Fmetric%29%0A++++++++++++OPTIONAL+%7B%0A++++++++++++%3Fsmall_molecule_no_map_to_chebi+rdf%3Atype/%28rdfs%3AsubClassOf%2A%29+bp3%3ASmallMolecule+.%0A++++++++++++%3Fsmall_molecule_no_map_to_chebi+bp3%3AentityReference+%3Fsmall_molecule_ref+.%0A++++++++++++FILTER+NOT+EXISTS+%7B%0A++++++++++++++++%3Fsmall_molecule_ref+bp3%3Axref+%3Fxref+.%0A++++++++++++++++%3Fxref+rdf%3Atype+bp3%3AUnificationXref+.%0A++++++++++++++++%3Fxref+bp3%3Adb+%22ChEBI%22+.%0A++++++++++++++++%3Fxref+bp3%3Aid+%3Fchebi_id+.%0A++++++++++++%7D%0A++++++++++++%7D%0A++++++++%7D%0A++++++++GROUP+BY+%3Fmetric%0A++++%7D%0A++++UNION+%0A++++%7B%0A++++++++SELECT+%3Fmetric+%28COUNT%28DISTINCT+%3Fchebi_id%29+AS+%3Fcount%29%0A++++++++WHERE+%7B%0A++++++++++++BIND%28%22Unique+ChEBI%22+AS+%3Fmetric%29%0A++++++++++++OPTIONAL+%7B%0A++++++++++++%3Funif_xref+rdf%3Atype+bp3%3AUnificationXref+.%0A++++++++++++%3Funif_xref+bp3%3Adb+%22ChEBI%22+.%0A++++++++++++%3Funif_xref+bp3%3Aid+%3Fchebi_id+.%0A++++++++%7D%0A++++++++%7D%0A++++++++GROUP+BY+%3Fmetric%0A++++%7D%0A%7D%0AORDER+BY+%3Fmetric%0A%0A&format=csv&output=csv&results=csv\n",
      "09:28:04 INFO  Fuseki          :: [2] Query =  PREFIX rdf: <http://www.w3.org/1999/02/22-rdf-syntax-ns#> PREFIX rdfs:<http://www.w3.org/2000/01/rdf-schema#> PREFIX owl: <http://www.w3.org/2002/07/owl#> PREFIX xsd: <http://www.w3.org/2001/XMLSchema#> PREFIX dc: <http://purl.org/dc/elements/1.1/> PREFIX dcterms: <http://purl.org/dc/terms/>  PREFIX chebi: <http://purl.obolibrary.org/obo/chebi/> PREFIX chebidb: <http://purl.obolibrary.org/obo/CHEBI_> PREFIX chebirel: <http://purl.obolibrary.org/obo/CHEBI#> PREFIX oboInOwl: <http://www.geneontology.org/formats/oboInOwl#>  PREFIX bp3: <http://www.biopax.org/release/biopax-level3.owl#>  # Homo_sapiens-20170221.owl #PREFIX reactome: <http://www.reactome.org/biopax/59/48887#>  # # Homo_sapiens-20210608.owl #PREFIX reactome: <http://www.reactome.org/biopax/77/48887#> # # Homo_sapiens-20220614.owl #PREFIX reactome: <http://www.reactome.org/biopax/81/48887#> # # Homo_sapiens-20221130.owl #PREFIX reactome: <http://www.reactome.org/biopax/83/48887#>  PREFIX reactome: <http://www.reactome.org/biopax/87/48887#>  SELECT ?metric ?count # Number of instances of SmallMolecule WHERE {     {         SELECT ?metric (COUNT(DISTINCT ?small_molecule) AS ?count)         WHERE {             BIND(\"SmallMolecule\" AS ?metric)             OPTIONAL {             ?small_molecule rdf:type/(rdfs:subClassOf*) bp3:SmallMolecule .         }         }         GROUP BY ?metric     }     UNION     {         SELECT ?metric (COUNT(DISTINCT ?small_molecule_ref) AS ?count)         WHERE {             BIND(\"SmallMoleculeReference\" AS ?metric)             OPTIONAL {             ?small_molecule_ref rdf:type bp3:SmallMoleculeReference .         }         }         GROUP BY ?metric     }     UNION     {         SELECT ?metric (COUNT(DISTINCT ?small_molecule_without_ref) AS ?count)         WHERE {             BIND(\"noSMR\" AS ?metric)             OPTIONAL {             ?small_molecule_without_ref rdf:type/(rdfs:subClassOf*) bp3:SmallMolecule .             FILTER NOT EXISTS {                 ?small_molecule_without_ref bp3:entityReference ?ref .                 ?ref rdf:type bp3:SmallMoleculeReference .             }             }         }         GROUP BY ?metric     }     UNION     {         SELECT ?metric (COUNT(DISTINCT ?small_molecule_that_map_to_chebi) AS ?count)         WHERE {             BIND(\"ChEBI mappings\" AS ?metric)             OPTIONAL {             ?small_molecule_that_map_to_chebi rdf:type bp3:SmallMolecule .             ?small_molecule_that_map_to_chebi bp3:entityReference ?small_molecule_ref .             ?small_molecule_ref rdf:type bp3:SmallMoleculeReference .             ?small_molecule_ref bp3:xref ?small_molecule_ref_xref .             ?small_molecule_ref_xref rdf:type bp3:UnificationXref .             ?small_molecule_ref_xref bp3:db \"ChEBI\" .             ?small_molecule_ref_xref bp3:id ?chebi_id .         }         }         GROUP BY ?metric     }     UNION      {         SELECT ?metric (COUNT(DISTINCT ?small_molecule_no_map_to_chebi) AS ?count)         WHERE {             BIND(\"Smnomapping\" AS ?metric)             OPTIONAL {             ?small_molecule_no_map_to_chebi rdf:type/(rdfs:subClassOf*) bp3:SmallMolecule .             ?small_molecule_no_map_to_chebi bp3:entityReference ?small_molecule_ref .             FILTER NOT EXISTS {                 ?small_molecule_ref bp3:xref ?xref .                 ?xref rdf:type bp3:UnificationXref .                 ?xref bp3:db \"ChEBI\" .                 ?xref bp3:id ?chebi_id .             }             }         }         GROUP BY ?metric     }     UNION      {         SELECT ?metric (COUNT(DISTINCT ?chebi_id) AS ?count)         WHERE {             BIND(\"Unique ChEBI\" AS ?metric)             OPTIONAL {             ?unif_xref rdf:type bp3:UnificationXref .             ?unif_xref bp3:db \"ChEBI\" .             ?unif_xref bp3:id ?chebi_id .         }         }         GROUP BY ?metric     } } ORDER BY ?metric  \n",
      "09:28:04 INFO  Fuseki          :: [2] 200 OK (167 ms)\n"
     ]
    }
   ],
   "source": [
    "# TODO: change path\n",
    "command = [\n",
    "    '/home/cbeust/Softwares/JenaFuseki/apache-jena-fuseki-4.9.0/fuseki-server',\n",
    "    '--file', '/home/cbeust/Projects/2024/BioPAX_Review/Compare_BioPAX_Files/ReactomeBioPAX/_00_Reactome_Data_v87/Homo_sapiens.owl',\n",
    "    '--file', '/home/cbeust/Projects/2024/BioPAX_Review/BioPAX_Ontology/biopax-level3.owl',\n",
    "    '/reactome_v87']\n",
    "process = subprocess.Popen(command)\n",
    "time.sleep(60)\n",
    "\n",
    "# execute SPARQL query\n",
    "sparql = SPARQLWrapper(endpointURL_reactome_v87)\n",
    "sparql.setQuery(prefixes+query1)\n",
    "\n",
    "# display results\n",
    "sparql.setReturnFormat(JSON)\n",
    "results = sparql.query().convert()\n",
    "displaySparqlResults(results)\n",
    "\n",
    "# export results to CSV\n",
    "sparql.setReturnFormat(CSV)\n",
    "results = sparql.query().convert()\n",
    "with open(f\"../Results/reactome_v87_mappings_chebi.csv\", \"wb\") as f:\n",
    "    f.write(results)\n",
    "\n",
    "# end process\n",
    "process.kill()\n",
    "time.sleep(60)"
   ]
  },
  {
   "cell_type": "markdown",
   "metadata": {},
   "source": [
    "#### Query on BioPAX export of Reactome from PathwayCommons"
   ]
  },
  {
   "cell_type": "code",
   "execution_count": 7,
   "metadata": {},
   "outputs": [
    {
     "name": "stderr",
     "output_type": "stream",
     "text": [
      "09:29:04 INFO  Server          :: Dataset: in-memory: load file: /home/cbeust/Projects/2024/BioPAX_Review/Compare_BioPAX_Files/PathwayCommonsFiles/PathwayCommons12.reactome.BIOPAX.owl\n",
      "09:29:06 WARN  riot            :: [line: 100212, col: 81] {W137} Input is large. Switching off checking for illegal reuse of rdf:ID's.\n",
      "09:29:26 INFO  Server          :: Dataset: in-memory: load file: /home/cbeust/Projects/2024/BioPAX_Review/BioPAX_Ontology/biopax-level3.owl\n",
      "09:29:26 INFO  Server          :: Running in read-only mode for /reactome_pc\n",
      "09:29:26 INFO  Server          :: Apache Jena Fuseki 4.9.0\n",
      "09:29:26 INFO  Config          :: FUSEKI_HOME=/home/cbeust/Softwares/JenaFuseki/apache-jena-fuseki-4.9.0\n",
      "09:29:26 INFO  Config          :: FUSEKI_BASE=/home/cbeust/Projects/2024/BioPAX_Review/BioPAXReview2024Codes/Figure4-5/Scripts/run\n",
      "09:29:26 INFO  Config          :: Shiro file: file:///home/cbeust/Projects/2024/BioPAX_Review/BioPAXReview2024Codes/Figure4-5/Scripts/run/shiro.ini\n",
      "09:29:27 INFO  Server          :: Database: in-memory, with files loaded\n",
      "09:29:27 INFO  Server          :: Path = /reactome_pc\n",
      "09:29:27 INFO  Server          ::   Memory: 16.0 GiB\n",
      "09:29:27 INFO  Server          ::   Java:   17.0.11\n",
      "09:29:27 INFO  Server          ::   OS:     Linux 6.8.9-100.fc38.x86_64 amd64\n",
      "09:29:27 INFO  Server          ::   PID:    13961\n",
      "09:29:27 INFO  Server          :: Started 2024/07/30 09:29:27 CEST on port 3030\n",
      "09:30:04 INFO  Fuseki          :: [1] GET http://localhost:3030/reactome_pc/query?query=%0APREFIX+rdf%3A+%3Chttp%3A//www.w3.org/1999/02/22-rdf-syntax-ns%23%3E%0APREFIX+rdfs%3A%3Chttp%3A//www.w3.org/2000/01/rdf-schema%23%3E%0APREFIX+owl%3A+%3Chttp%3A//www.w3.org/2002/07/owl%23%3E%0APREFIX+xsd%3A+%3Chttp%3A//www.w3.org/2001/XMLSchema%23%3E%0APREFIX+dc%3A+%3Chttp%3A//purl.org/dc/elements/1.1/%3E%0APREFIX+dcterms%3A+%3Chttp%3A//purl.org/dc/terms/%3E%0A%0APREFIX+chebi%3A+%3Chttp%3A//purl.obolibrary.org/obo/chebi/%3E%0APREFIX+chebidb%3A+%3Chttp%3A//purl.obolibrary.org/obo/CHEBI_%3E%0APREFIX+chebirel%3A+%3Chttp%3A//purl.obolibrary.org/obo/CHEBI%23%3E%0APREFIX+oboInOwl%3A+%3Chttp%3A//www.geneontology.org/formats/oboInOwl%23%3E%0A%0APREFIX+bp3%3A+%3Chttp%3A//www.biopax.org/release/biopax-level3.owl%23%3E%0A%0A%23+Homo_sapiens-20170221.owl%0A%23PREFIX+reactome%3A+%3Chttp%3A//www.reactome.org/biopax/59/48887%23%3E+%0A%23%0A%23+Homo_sapiens-20210608.owl%0A%23PREFIX+reactome%3A+%3Chttp%3A//www.reactome.org/biopax/77/48887%23%3E%0A%23%0A%23+Homo_sapiens-20220614.owl%0A%23PREFIX+reactome%3A+%3Chttp%3A//www.reactome.org/biopax/81/48887%23%3E%0A%23%0A%23+Homo_sapiens-20221130.owl%0A%23PREFIX+reactome%3A+%3Chttp%3A//www.reactome.org/biopax/83/48887%23%3E%0A%0APREFIX+reactome%3A+%3Chttp%3A//www.reactome.org/biopax/87/48887%23%3E%0A%0ASELECT+%3Fmetric+%3Fcount%0A%23+Number+of+instances+of+SmallMolecule%0AWHERE+%7B%0A++++%7B%0A++++++++SELECT+%3Fmetric+%28COUNT%28DISTINCT+%3Fsmall_molecule%29+AS+%3Fcount%29%0A++++++++WHERE+%7B%0A++++++++++++BIND%28%22SmallMolecule%22+AS+%3Fmetric%29%0A++++++++++++%3Fsmall_molecule+rdf%3Atype/%28rdfs%3AsubClassOf%2A%29+bp3%3ASmallMolecule+.%0A++++++++%7D%0A++++++++GROUP+BY+%3Fmetric%0A++++%7D%0A++++UNION%0A++++%7B%0A++++++++SELECT+%3Fmetric+%28COUNT%28DISTINCT+%3Fsmall_molecule_ref%29+AS+%3Fcount%29%0A++++++++WHERE+%7B%0A++++++++++++BIND%28%22SmallMoleculeReference%22+AS+%3Fmetric%29%0A++++++++++++%3Fsmall_molecule_ref+rdf%3Atype+bp3%3ASmallMoleculeReference+.%0A++++++++%7D%0A++++++++GROUP+BY+%3Fmetric%0A++++%7D%0A++++UNION%0A++++%7B%0A++++++++SELECT+%3Fmetric+%28COUNT%28DISTINCT+%3Fsmall_molecule_without_ref%29+AS+%3Fcount%29%0A++++++++WHERE+%7B%0A++++++++++++BIND%28%22noSMR%22+AS+%3Fmetric%29%0A++++++++++++OPTIONAL+%7B%0A++++++++++++%3Fsmall_molecule_without_ref+rdf%3Atype/%28rdfs%3AsubClassOf%2A%29+bp3%3ASmallMolecule+.%0A++++++++++++FILTER+NOT+EXISTS+%7B%0A++++++++++++++++%3Fsmall_molecule_without_ref+bp3%3AentityReference+%3Fref+.%0A++++++++++++++++%3Fref+rdf%3Atype+bp3%3ASmallMoleculeReference+.%0A++++++++++++%7D%0A++++++++++++%7D%0A++++++++%7D%0A++++++++GROUP+BY+%3Fmetric%0A++++%7D%0A++++UNION%0A++++%7B%0A++++++++SELECT+%3Fmetric+%28COUNT%28DISTINCT+%3Fsmall_molecule_that_map_to_chebi%29+AS+%3Fcount%29%0A++++++++WHERE+%7B%0A++++++++++++BIND%28%22ChEBI+mappings%22+AS+%3Fmetric%29%0A++++++++++++%3Fsmall_molecule_that_map_to_chebi+rdf%3Atype+bp3%3ASmallMolecule+.%0A++++++++++++%3Fsmall_molecule_that_map_to_chebi+bp3%3AentityReference+%3Fsmall_molecule_ref+.%0A++++++++++++%3Fsmall_molecule_ref+rdf%3Atype+bp3%3ASmallMoleculeReference+.%0A++++++++++++%3Fsmall_molecule_ref+bp3%3Axref+%3Fsmall_molecule_ref_xref+.%0A++++++++++++%3Fsmall_molecule_ref_xref+rdf%3Atype+bp3%3AUnificationXref+.%0A++++++++++++%3Fsmall_molecule_ref_xref+bp3%3Adb+%22chebi%22+.%0A++++++++++++%3Fsmall_molecule_ref_xref+bp3%3Aid+%3Fchebi_id+.%0A++++++++%7D%0A++++++++GROUP+BY+%3Fmetric%0A++++%7D%0A++++UNION+%0A++++%7B%0A++++++++SELECT+%3Fmetric+%28COUNT%28DISTINCT+%3Fsmall_molecule_no_map_to_chebi%29+AS+%3Fcount%29%0A++++++++WHERE+%7B%0A++++++++++++BIND%28%22Smnomapping%22+AS+%3Fmetric%29%0A++++++++++++%3Fsmall_molecule_no_map_to_chebi+rdf%3Atype/%28rdfs%3AsubClassOf%2A%29+bp3%3ASmallMolecule+.%0A++++++++++++%3Fsmall_molecule_no_map_to_chebi+bp3%3AentityReference+%3Fsmall_molecule_ref+.%0A++++++++++++FILTER+NOT+EXISTS+%7B%0A++++++++++++++++%3Fsmall_molecule_ref+bp3%3Axref+%3Fxref+.%0A++++++++++++++++%3Fxref+rdf%3Atype+bp3%3AUnificationXref+.%0A++++++++++++++++%3Fxref+bp3%3Adb+%22chebi%22+.%0A++++++++++++++++%3Fxref+bp3%3Aid+%3Fchebi_id+.%0A++++++++++++%7D%0A++++++++%7D%0A++++++++GROUP+BY+%3Fmetric%0A++++%7D%0A++++UNION+%0A++++%7B%0A++++++++SELECT+%3Fmetric+%28COUNT%28DISTINCT+%3Fchebi_id%29+AS+%3Fcount%29%0A++++++++WHERE+%7B%0A++++++++++++BIND%28%22Unique+ChEBI%22+AS+%3Fmetric%29%0A++++++++++++%3Funif_xref+rdf%3Atype+bp3%3AUnificationXref+.%0A++++++++++++%3Funif_xref+bp3%3Adb+%22chebi%22+.%0A++++++++++++%3Funif_xref+bp3%3Aid+%3Fchebi_id+.%0A++++++++%7D%0A++++++++GROUP+BY+%3Fmetric%0A++++%7D%0A%7D%0AORDER+BY+%3Fmetric%0A%0A&format=json&output=json&results=json\n",
      "09:30:04 INFO  Fuseki          :: [1] Query =  PREFIX rdf: <http://www.w3.org/1999/02/22-rdf-syntax-ns#> PREFIX rdfs:<http://www.w3.org/2000/01/rdf-schema#> PREFIX owl: <http://www.w3.org/2002/07/owl#> PREFIX xsd: <http://www.w3.org/2001/XMLSchema#> PREFIX dc: <http://purl.org/dc/elements/1.1/> PREFIX dcterms: <http://purl.org/dc/terms/>  PREFIX chebi: <http://purl.obolibrary.org/obo/chebi/> PREFIX chebidb: <http://purl.obolibrary.org/obo/CHEBI_> PREFIX chebirel: <http://purl.obolibrary.org/obo/CHEBI#> PREFIX oboInOwl: <http://www.geneontology.org/formats/oboInOwl#>  PREFIX bp3: <http://www.biopax.org/release/biopax-level3.owl#>  # Homo_sapiens-20170221.owl #PREFIX reactome: <http://www.reactome.org/biopax/59/48887#>  # # Homo_sapiens-20210608.owl #PREFIX reactome: <http://www.reactome.org/biopax/77/48887#> # # Homo_sapiens-20220614.owl #PREFIX reactome: <http://www.reactome.org/biopax/81/48887#> # # Homo_sapiens-20221130.owl #PREFIX reactome: <http://www.reactome.org/biopax/83/48887#>  PREFIX reactome: <http://www.reactome.org/biopax/87/48887#>  SELECT ?metric ?count # Number of instances of SmallMolecule WHERE {     {         SELECT ?metric (COUNT(DISTINCT ?small_molecule) AS ?count)         WHERE {             BIND(\"SmallMolecule\" AS ?metric)             ?small_molecule rdf:type/(rdfs:subClassOf*) bp3:SmallMolecule .         }         GROUP BY ?metric     }     UNION     {         SELECT ?metric (COUNT(DISTINCT ?small_molecule_ref) AS ?count)         WHERE {             BIND(\"SmallMoleculeReference\" AS ?metric)             ?small_molecule_ref rdf:type bp3:SmallMoleculeReference .         }         GROUP BY ?metric     }     UNION     {         SELECT ?metric (COUNT(DISTINCT ?small_molecule_without_ref) AS ?count)         WHERE {             BIND(\"noSMR\" AS ?metric)             OPTIONAL {             ?small_molecule_without_ref rdf:type/(rdfs:subClassOf*) bp3:SmallMolecule .             FILTER NOT EXISTS {                 ?small_molecule_without_ref bp3:entityReference ?ref .                 ?ref rdf:type bp3:SmallMoleculeReference .             }             }         }         GROUP BY ?metric     }     UNION     {         SELECT ?metric (COUNT(DISTINCT ?small_molecule_that_map_to_chebi) AS ?count)         WHERE {             BIND(\"ChEBI mappings\" AS ?metric)             ?small_molecule_that_map_to_chebi rdf:type bp3:SmallMolecule .             ?small_molecule_that_map_to_chebi bp3:entityReference ?small_molecule_ref .             ?small_molecule_ref rdf:type bp3:SmallMoleculeReference .             ?small_molecule_ref bp3:xref ?small_molecule_ref_xref .             ?small_molecule_ref_xref rdf:type bp3:UnificationXref .             ?small_molecule_ref_xref bp3:db \"chebi\" .             ?small_molecule_ref_xref bp3:id ?chebi_id .         }         GROUP BY ?metric     }     UNION      {         SELECT ?metric (COUNT(DISTINCT ?small_molecule_no_map_to_chebi) AS ?count)         WHERE {             BIND(\"Smnomapping\" AS ?metric)             ?small_molecule_no_map_to_chebi rdf:type/(rdfs:subClassOf*) bp3:SmallMolecule .             ?small_molecule_no_map_to_chebi bp3:entityReference ?small_molecule_ref .             FILTER NOT EXISTS {                 ?small_molecule_ref bp3:xref ?xref .                 ?xref rdf:type bp3:UnificationXref .                 ?xref bp3:db \"chebi\" .                 ?xref bp3:id ?chebi_id .             }         }         GROUP BY ?metric     }     UNION      {         SELECT ?metric (COUNT(DISTINCT ?chebi_id) AS ?count)         WHERE {             BIND(\"Unique ChEBI\" AS ?metric)             ?unif_xref rdf:type bp3:UnificationXref .             ?unif_xref bp3:db \"chebi\" .             ?unif_xref bp3:id ?chebi_id .         }         GROUP BY ?metric     } } ORDER BY ?metric  \n",
      "09:30:05 INFO  Fuseki          :: [1] 200 OK (821 ms)\n"
     ]
    },
    {
     "data": {
      "text/html": [
       "<table><tr><th>metric</th><th>count</th></tr><tr><td>ChEBI mappings</td><td>3522</td></tr><tr><td>SmallMolecule</td><td>3983</td></tr><tr><td>SmallMoleculeReference</td><td>2289</td></tr><tr><td>Smnomapping</td><td>461</td></tr><tr><td>Unique ChEBI</td><td>1960</td></tr><tr><td>noSMR</td><td>0</td></tr></table>"
      ],
      "text/plain": [
       "<IPython.core.display.HTML object>"
      ]
     },
     "metadata": {},
     "output_type": "display_data"
    },
    {
     "name": "stderr",
     "output_type": "stream",
     "text": [
      "09:30:05 INFO  Fuseki          :: [2] GET http://localhost:3030/reactome_pc/query?query=%0APREFIX+rdf%3A+%3Chttp%3A//www.w3.org/1999/02/22-rdf-syntax-ns%23%3E%0APREFIX+rdfs%3A%3Chttp%3A//www.w3.org/2000/01/rdf-schema%23%3E%0APREFIX+owl%3A+%3Chttp%3A//www.w3.org/2002/07/owl%23%3E%0APREFIX+xsd%3A+%3Chttp%3A//www.w3.org/2001/XMLSchema%23%3E%0APREFIX+dc%3A+%3Chttp%3A//purl.org/dc/elements/1.1/%3E%0APREFIX+dcterms%3A+%3Chttp%3A//purl.org/dc/terms/%3E%0A%0APREFIX+chebi%3A+%3Chttp%3A//purl.obolibrary.org/obo/chebi/%3E%0APREFIX+chebidb%3A+%3Chttp%3A//purl.obolibrary.org/obo/CHEBI_%3E%0APREFIX+chebirel%3A+%3Chttp%3A//purl.obolibrary.org/obo/CHEBI%23%3E%0APREFIX+oboInOwl%3A+%3Chttp%3A//www.geneontology.org/formats/oboInOwl%23%3E%0A%0APREFIX+bp3%3A+%3Chttp%3A//www.biopax.org/release/biopax-level3.owl%23%3E%0A%0A%23+Homo_sapiens-20170221.owl%0A%23PREFIX+reactome%3A+%3Chttp%3A//www.reactome.org/biopax/59/48887%23%3E+%0A%23%0A%23+Homo_sapiens-20210608.owl%0A%23PREFIX+reactome%3A+%3Chttp%3A//www.reactome.org/biopax/77/48887%23%3E%0A%23%0A%23+Homo_sapiens-20220614.owl%0A%23PREFIX+reactome%3A+%3Chttp%3A//www.reactome.org/biopax/81/48887%23%3E%0A%23%0A%23+Homo_sapiens-20221130.owl%0A%23PREFIX+reactome%3A+%3Chttp%3A//www.reactome.org/biopax/83/48887%23%3E%0A%0APREFIX+reactome%3A+%3Chttp%3A//www.reactome.org/biopax/87/48887%23%3E%0A%0ASELECT+%3Fmetric+%3Fcount%0A%23+Number+of+instances+of+SmallMolecule%0AWHERE+%7B%0A++++%7B%0A++++++++SELECT+%3Fmetric+%28COUNT%28DISTINCT+%3Fsmall_molecule%29+AS+%3Fcount%29%0A++++++++WHERE+%7B%0A++++++++++++BIND%28%22SmallMolecule%22+AS+%3Fmetric%29%0A++++++++++++%3Fsmall_molecule+rdf%3Atype/%28rdfs%3AsubClassOf%2A%29+bp3%3ASmallMolecule+.%0A++++++++%7D%0A++++++++GROUP+BY+%3Fmetric%0A++++%7D%0A++++UNION%0A++++%7B%0A++++++++SELECT+%3Fmetric+%28COUNT%28DISTINCT+%3Fsmall_molecule_ref%29+AS+%3Fcount%29%0A++++++++WHERE+%7B%0A++++++++++++BIND%28%22SmallMoleculeReference%22+AS+%3Fmetric%29%0A++++++++++++%3Fsmall_molecule_ref+rdf%3Atype+bp3%3ASmallMoleculeReference+.%0A++++++++%7D%0A++++++++GROUP+BY+%3Fmetric%0A++++%7D%0A++++UNION%0A++++%7B%0A++++++++SELECT+%3Fmetric+%28COUNT%28DISTINCT+%3Fsmall_molecule_without_ref%29+AS+%3Fcount%29%0A++++++++WHERE+%7B%0A++++++++++++BIND%28%22noSMR%22+AS+%3Fmetric%29%0A++++++++++++OPTIONAL+%7B%0A++++++++++++%3Fsmall_molecule_without_ref+rdf%3Atype/%28rdfs%3AsubClassOf%2A%29+bp3%3ASmallMolecule+.%0A++++++++++++FILTER+NOT+EXISTS+%7B%0A++++++++++++++++%3Fsmall_molecule_without_ref+bp3%3AentityReference+%3Fref+.%0A++++++++++++++++%3Fref+rdf%3Atype+bp3%3ASmallMoleculeReference+.%0A++++++++++++%7D%0A++++++++++++%7D%0A++++++++%7D%0A++++++++GROUP+BY+%3Fmetric%0A++++%7D%0A++++UNION%0A++++%7B%0A++++++++SELECT+%3Fmetric+%28COUNT%28DISTINCT+%3Fsmall_molecule_that_map_to_chebi%29+AS+%3Fcount%29%0A++++++++WHERE+%7B%0A++++++++++++BIND%28%22ChEBI+mappings%22+AS+%3Fmetric%29%0A++++++++++++%3Fsmall_molecule_that_map_to_chebi+rdf%3Atype+bp3%3ASmallMolecule+.%0A++++++++++++%3Fsmall_molecule_that_map_to_chebi+bp3%3AentityReference+%3Fsmall_molecule_ref+.%0A++++++++++++%3Fsmall_molecule_ref+rdf%3Atype+bp3%3ASmallMoleculeReference+.%0A++++++++++++%3Fsmall_molecule_ref+bp3%3Axref+%3Fsmall_molecule_ref_xref+.%0A++++++++++++%3Fsmall_molecule_ref_xref+rdf%3Atype+bp3%3AUnificationXref+.%0A++++++++++++%3Fsmall_molecule_ref_xref+bp3%3Adb+%22chebi%22+.%0A++++++++++++%3Fsmall_molecule_ref_xref+bp3%3Aid+%3Fchebi_id+.%0A++++++++%7D%0A++++++++GROUP+BY+%3Fmetric%0A++++%7D%0A++++UNION+%0A++++%7B%0A++++++++SELECT+%3Fmetric+%28COUNT%28DISTINCT+%3Fsmall_molecule_no_map_to_chebi%29+AS+%3Fcount%29%0A++++++++WHERE+%7B%0A++++++++++++BIND%28%22Smnomapping%22+AS+%3Fmetric%29%0A++++++++++++%3Fsmall_molecule_no_map_to_chebi+rdf%3Atype/%28rdfs%3AsubClassOf%2A%29+bp3%3ASmallMolecule+.%0A++++++++++++%3Fsmall_molecule_no_map_to_chebi+bp3%3AentityReference+%3Fsmall_molecule_ref+.%0A++++++++++++FILTER+NOT+EXISTS+%7B%0A++++++++++++++++%3Fsmall_molecule_ref+bp3%3Axref+%3Fxref+.%0A++++++++++++++++%3Fxref+rdf%3Atype+bp3%3AUnificationXref+.%0A++++++++++++++++%3Fxref+bp3%3Adb+%22chebi%22+.%0A++++++++++++++++%3Fxref+bp3%3Aid+%3Fchebi_id+.%0A++++++++++++%7D%0A++++++++%7D%0A++++++++GROUP+BY+%3Fmetric%0A++++%7D%0A++++UNION+%0A++++%7B%0A++++++++SELECT+%3Fmetric+%28COUNT%28DISTINCT+%3Fchebi_id%29+AS+%3Fcount%29%0A++++++++WHERE+%7B%0A++++++++++++BIND%28%22Unique+ChEBI%22+AS+%3Fmetric%29%0A++++++++++++%3Funif_xref+rdf%3Atype+bp3%3AUnificationXref+.%0A++++++++++++%3Funif_xref+bp3%3Adb+%22chebi%22+.%0A++++++++++++%3Funif_xref+bp3%3Aid+%3Fchebi_id+.%0A++++++++%7D%0A++++++++GROUP+BY+%3Fmetric%0A++++%7D%0A%7D%0AORDER+BY+%3Fmetric%0A%0A&format=csv&output=csv&results=csv\n",
      "09:30:05 INFO  Fuseki          :: [2] Query =  PREFIX rdf: <http://www.w3.org/1999/02/22-rdf-syntax-ns#> PREFIX rdfs:<http://www.w3.org/2000/01/rdf-schema#> PREFIX owl: <http://www.w3.org/2002/07/owl#> PREFIX xsd: <http://www.w3.org/2001/XMLSchema#> PREFIX dc: <http://purl.org/dc/elements/1.1/> PREFIX dcterms: <http://purl.org/dc/terms/>  PREFIX chebi: <http://purl.obolibrary.org/obo/chebi/> PREFIX chebidb: <http://purl.obolibrary.org/obo/CHEBI_> PREFIX chebirel: <http://purl.obolibrary.org/obo/CHEBI#> PREFIX oboInOwl: <http://www.geneontology.org/formats/oboInOwl#>  PREFIX bp3: <http://www.biopax.org/release/biopax-level3.owl#>  # Homo_sapiens-20170221.owl #PREFIX reactome: <http://www.reactome.org/biopax/59/48887#>  # # Homo_sapiens-20210608.owl #PREFIX reactome: <http://www.reactome.org/biopax/77/48887#> # # Homo_sapiens-20220614.owl #PREFIX reactome: <http://www.reactome.org/biopax/81/48887#> # # Homo_sapiens-20221130.owl #PREFIX reactome: <http://www.reactome.org/biopax/83/48887#>  PREFIX reactome: <http://www.reactome.org/biopax/87/48887#>  SELECT ?metric ?count # Number of instances of SmallMolecule WHERE {     {         SELECT ?metric (COUNT(DISTINCT ?small_molecule) AS ?count)         WHERE {             BIND(\"SmallMolecule\" AS ?metric)             ?small_molecule rdf:type/(rdfs:subClassOf*) bp3:SmallMolecule .         }         GROUP BY ?metric     }     UNION     {         SELECT ?metric (COUNT(DISTINCT ?small_molecule_ref) AS ?count)         WHERE {             BIND(\"SmallMoleculeReference\" AS ?metric)             ?small_molecule_ref rdf:type bp3:SmallMoleculeReference .         }         GROUP BY ?metric     }     UNION     {         SELECT ?metric (COUNT(DISTINCT ?small_molecule_without_ref) AS ?count)         WHERE {             BIND(\"noSMR\" AS ?metric)             OPTIONAL {             ?small_molecule_without_ref rdf:type/(rdfs:subClassOf*) bp3:SmallMolecule .             FILTER NOT EXISTS {                 ?small_molecule_without_ref bp3:entityReference ?ref .                 ?ref rdf:type bp3:SmallMoleculeReference .             }             }         }         GROUP BY ?metric     }     UNION     {         SELECT ?metric (COUNT(DISTINCT ?small_molecule_that_map_to_chebi) AS ?count)         WHERE {             BIND(\"ChEBI mappings\" AS ?metric)             ?small_molecule_that_map_to_chebi rdf:type bp3:SmallMolecule .             ?small_molecule_that_map_to_chebi bp3:entityReference ?small_molecule_ref .             ?small_molecule_ref rdf:type bp3:SmallMoleculeReference .             ?small_molecule_ref bp3:xref ?small_molecule_ref_xref .             ?small_molecule_ref_xref rdf:type bp3:UnificationXref .             ?small_molecule_ref_xref bp3:db \"chebi\" .             ?small_molecule_ref_xref bp3:id ?chebi_id .         }         GROUP BY ?metric     }     UNION      {         SELECT ?metric (COUNT(DISTINCT ?small_molecule_no_map_to_chebi) AS ?count)         WHERE {             BIND(\"Smnomapping\" AS ?metric)             ?small_molecule_no_map_to_chebi rdf:type/(rdfs:subClassOf*) bp3:SmallMolecule .             ?small_molecule_no_map_to_chebi bp3:entityReference ?small_molecule_ref .             FILTER NOT EXISTS {                 ?small_molecule_ref bp3:xref ?xref .                 ?xref rdf:type bp3:UnificationXref .                 ?xref bp3:db \"chebi\" .                 ?xref bp3:id ?chebi_id .             }         }         GROUP BY ?metric     }     UNION      {         SELECT ?metric (COUNT(DISTINCT ?chebi_id) AS ?count)         WHERE {             BIND(\"Unique ChEBI\" AS ?metric)             ?unif_xref rdf:type bp3:UnificationXref .             ?unif_xref bp3:db \"chebi\" .             ?unif_xref bp3:id ?chebi_id .         }         GROUP BY ?metric     } } ORDER BY ?metric  \n",
      "09:30:05 INFO  Fuseki          :: [2] 200 OK (260 ms)\n"
     ]
    }
   ],
   "source": [
    "# TODO: change path\n",
    "command = [\n",
    "    '/home/cbeust/Softwares/JenaFuseki/apache-jena-fuseki-4.9.0/fuseki-server',\n",
    "    '--file', '/home/cbeust/Projects/2024/BioPAX_Review/Compare_BioPAX_Files/PathwayCommonsFiles/PathwayCommons12.reactome.BIOPAX.owl',\n",
    "    '--file', '/home/cbeust/Projects/2024/BioPAX_Review/BioPAX_Ontology/biopax-level3.owl',\n",
    "    '/reactome_pc']\n",
    "process = subprocess.Popen(command)\n",
    "time.sleep(60)\n",
    "\n",
    "# execute SPARQL query\n",
    "sparql = SPARQLWrapper(endpointURL_reactome_pc)\n",
    "sparql.setQuery(prefixes+query2)\n",
    "\n",
    "# display results\n",
    "sparql.setReturnFormat(JSON)\n",
    "results = sparql.query().convert()\n",
    "displaySparqlResults(results)\n",
    "\n",
    "# export results to CSV\n",
    "sparql.setReturnFormat(CSV)\n",
    "results = sparql.query().convert()\n",
    "with open(f\"../Results/reactome_pc_mappings_chebi.csv\", \"wb\") as f:\n",
    "    f.write(results)\n",
    "\n",
    "# end process\n",
    "process.kill()\n",
    "time.sleep(60)"
   ]
  },
  {
   "cell_type": "markdown",
   "metadata": {},
   "source": [
    "#### Query on BioPAX export of Panther from PathwayCommons"
   ]
  },
  {
   "cell_type": "code",
   "execution_count": 8,
   "metadata": {},
   "outputs": [
    {
     "name": "stderr",
     "output_type": "stream",
     "text": [
      "09:31:05 INFO  Server          :: Dataset: in-memory: load file: /home/cbeust/Projects/2024/BioPAX_Review/Compare_BioPAX_Files/PathwayCommonsFiles/PathwayCommons12.panther.BIOPAX.owl\n",
      "09:31:07 WARN  riot            :: [line: 80968, col: 73] {W137} Input is large. Switching off checking for illegal reuse of rdf:ID's.\n",
      "09:31:09 INFO  Server          :: Dataset: in-memory: load file: /home/cbeust/Projects/2024/BioPAX_Review/BioPAX_Ontology/biopax-level3.owl\n",
      "09:31:09 INFO  Server          :: Running in read-only mode for /panther_pc\n",
      "09:31:09 INFO  Server          :: Apache Jena Fuseki 4.9.0\n",
      "09:31:09 INFO  Config          :: FUSEKI_HOME=/home/cbeust/Softwares/JenaFuseki/apache-jena-fuseki-4.9.0\n",
      "09:31:09 INFO  Config          :: FUSEKI_BASE=/home/cbeust/Projects/2024/BioPAX_Review/BioPAXReview2024Codes/Figure4-5/Scripts/run\n",
      "09:31:09 INFO  Config          :: Shiro file: file:///home/cbeust/Projects/2024/BioPAX_Review/BioPAXReview2024Codes/Figure4-5/Scripts/run/shiro.ini\n",
      "09:31:09 INFO  Server          :: Database: in-memory, with files loaded\n",
      "09:31:09 INFO  Server          :: Path = /panther_pc\n",
      "09:31:09 INFO  Server          ::   Memory: 16.0 GiB\n",
      "09:31:09 INFO  Server          ::   Java:   17.0.11\n",
      "09:31:09 INFO  Server          ::   OS:     Linux 6.8.9-100.fc38.x86_64 amd64\n",
      "09:31:09 INFO  Server          ::   PID:    14847\n",
      "09:31:09 INFO  Server          :: Started 2024/07/30 09:31:09 CEST on port 3030\n",
      "09:32:05 INFO  Fuseki          :: [1] GET http://localhost:3030/panther_pc/query?query=%0APREFIX+rdf%3A+%3Chttp%3A//www.w3.org/1999/02/22-rdf-syntax-ns%23%3E%0APREFIX+rdfs%3A%3Chttp%3A//www.w3.org/2000/01/rdf-schema%23%3E%0APREFIX+owl%3A+%3Chttp%3A//www.w3.org/2002/07/owl%23%3E%0APREFIX+xsd%3A+%3Chttp%3A//www.w3.org/2001/XMLSchema%23%3E%0APREFIX+dc%3A+%3Chttp%3A//purl.org/dc/elements/1.1/%3E%0APREFIX+dcterms%3A+%3Chttp%3A//purl.org/dc/terms/%3E%0A%0APREFIX+chebi%3A+%3Chttp%3A//purl.obolibrary.org/obo/chebi/%3E%0APREFIX+chebidb%3A+%3Chttp%3A//purl.obolibrary.org/obo/CHEBI_%3E%0APREFIX+chebirel%3A+%3Chttp%3A//purl.obolibrary.org/obo/CHEBI%23%3E%0APREFIX+oboInOwl%3A+%3Chttp%3A//www.geneontology.org/formats/oboInOwl%23%3E%0A%0APREFIX+bp3%3A+%3Chttp%3A//www.biopax.org/release/biopax-level3.owl%23%3E%0A%0A%23+Homo_sapiens-20170221.owl%0A%23PREFIX+reactome%3A+%3Chttp%3A//www.reactome.org/biopax/59/48887%23%3E+%0A%23%0A%23+Homo_sapiens-20210608.owl%0A%23PREFIX+reactome%3A+%3Chttp%3A//www.reactome.org/biopax/77/48887%23%3E%0A%23%0A%23+Homo_sapiens-20220614.owl%0A%23PREFIX+reactome%3A+%3Chttp%3A//www.reactome.org/biopax/81/48887%23%3E%0A%23%0A%23+Homo_sapiens-20221130.owl%0A%23PREFIX+reactome%3A+%3Chttp%3A//www.reactome.org/biopax/83/48887%23%3E%0A%0APREFIX+reactome%3A+%3Chttp%3A//www.reactome.org/biopax/87/48887%23%3E%0A%0ASELECT+%3Fmetric+%3Fcount%0A%23+Number+of+instances+of+SmallMolecule%0AWHERE+%7B%0A++++%7B%0A++++++++SELECT+%3Fmetric+%28COUNT%28DISTINCT+%3Fsmall_molecule%29+AS+%3Fcount%29%0A++++++++WHERE+%7B%0A++++++++++++BIND%28%22SmallMolecule%22+AS+%3Fmetric%29%0A++++++++++++%3Fsmall_molecule+rdf%3Atype/%28rdfs%3AsubClassOf%2A%29+bp3%3ASmallMolecule+.%0A++++++++%7D%0A++++++++GROUP+BY+%3Fmetric%0A++++%7D%0A++++UNION%0A++++%7B%0A++++++++SELECT+%3Fmetric+%28COUNT%28DISTINCT+%3Fsmall_molecule_ref%29+AS+%3Fcount%29%0A++++++++WHERE+%7B%0A++++++++++++BIND%28%22SmallMoleculeReference%22+AS+%3Fmetric%29%0A++++++++++++%3Fsmall_molecule_ref+rdf%3Atype+bp3%3ASmallMoleculeReference+.%0A++++++++%7D%0A++++++++GROUP+BY+%3Fmetric%0A++++%7D%0A++++UNION%0A++++%7B%0A++++++++SELECT+%3Fmetric+%28COUNT%28DISTINCT+%3Fsmall_molecule_without_ref%29+AS+%3Fcount%29%0A++++++++WHERE+%7B%0A++++++++++++BIND%28%22noSMR%22+AS+%3Fmetric%29%0A++++++++++++OPTIONAL+%7B%0A++++++++++++%3Fsmall_molecule_without_ref+rdf%3Atype/%28rdfs%3AsubClassOf%2A%29+bp3%3ASmallMolecule+.%0A++++++++++++FILTER+NOT+EXISTS+%7B%0A++++++++++++++++%3Fsmall_molecule_without_ref+bp3%3AentityReference+%3Fref+.%0A++++++++++++++++%3Fref+rdf%3Atype+bp3%3ASmallMoleculeReference+.%0A++++++++++++%7D%0A++++++++++++%7D%0A++++++++%7D%0A++++++++GROUP+BY+%3Fmetric%0A++++%7D%0A++++UNION%0A++++%7B%0A++++++++SELECT+%3Fmetric+%28COUNT%28DISTINCT+%3Fsmall_molecule_that_map_to_chebi%29+AS+%3Fcount%29%0A++++++++WHERE+%7B%0A++++++++++++BIND%28%22ChEBI+mappings%22+AS+%3Fmetric%29%0A++++++++++++%3Fsmall_molecule_that_map_to_chebi+rdf%3Atype+bp3%3ASmallMolecule+.%0A++++++++++++%3Fsmall_molecule_that_map_to_chebi+bp3%3AentityReference+%3Fsmall_molecule_ref+.%0A++++++++++++%3Fsmall_molecule_ref+rdf%3Atype+bp3%3ASmallMoleculeReference+.%0A++++++++++++%3Fsmall_molecule_ref+bp3%3Axref+%3Fsmall_molecule_ref_xref+.%0A++++++++++++%3Fsmall_molecule_ref_xref+rdf%3Atype+bp3%3AUnificationXref+.%0A++++++++++++%3Fsmall_molecule_ref_xref+bp3%3Adb+%22chebi%22+.%0A++++++++++++%3Fsmall_molecule_ref_xref+bp3%3Aid+%3Fchebi_id+.%0A++++++++%7D%0A++++++++GROUP+BY+%3Fmetric%0A++++%7D%0A++++UNION+%0A++++%7B%0A++++++++SELECT+%3Fmetric+%28COUNT%28DISTINCT+%3Fsmall_molecule_no_map_to_chebi%29+AS+%3Fcount%29%0A++++++++WHERE+%7B%0A++++++++++++BIND%28%22Smnomapping%22+AS+%3Fmetric%29%0A++++++++++++%3Fsmall_molecule_no_map_to_chebi+rdf%3Atype/%28rdfs%3AsubClassOf%2A%29+bp3%3ASmallMolecule+.%0A++++++++++++%3Fsmall_molecule_no_map_to_chebi+bp3%3AentityReference+%3Fsmall_molecule_ref+.%0A++++++++++++FILTER+NOT+EXISTS+%7B%0A++++++++++++++++%3Fsmall_molecule_ref+bp3%3Axref+%3Fxref+.%0A++++++++++++++++%3Fxref+rdf%3Atype+bp3%3AUnificationXref+.%0A++++++++++++++++%3Fxref+bp3%3Adb+%22chebi%22+.%0A++++++++++++++++%3Fxref+bp3%3Aid+%3Fchebi_id+.%0A++++++++++++%7D%0A++++++++%7D%0A++++++++GROUP+BY+%3Fmetric%0A++++%7D%0A++++UNION+%0A++++%7B%0A++++++++SELECT+%3Fmetric+%28COUNT%28DISTINCT+%3Fchebi_id%29+AS+%3Fcount%29%0A++++++++WHERE+%7B%0A++++++++++++BIND%28%22Unique+ChEBI%22+AS+%3Fmetric%29%0A++++++++++++%3Funif_xref+rdf%3Atype+bp3%3AUnificationXref+.%0A++++++++++++%3Funif_xref+bp3%3Adb+%22chebi%22+.%0A++++++++++++%3Funif_xref+bp3%3Aid+%3Fchebi_id+.%0A++++++++%7D%0A++++++++GROUP+BY+%3Fmetric%0A++++%7D%0A%7D%0AORDER+BY+%3Fmetric%0A%0A&format=json&output=json&results=json\n",
      "09:32:05 INFO  Fuseki          :: [1] Query =  PREFIX rdf: <http://www.w3.org/1999/02/22-rdf-syntax-ns#> PREFIX rdfs:<http://www.w3.org/2000/01/rdf-schema#> PREFIX owl: <http://www.w3.org/2002/07/owl#> PREFIX xsd: <http://www.w3.org/2001/XMLSchema#> PREFIX dc: <http://purl.org/dc/elements/1.1/> PREFIX dcterms: <http://purl.org/dc/terms/>  PREFIX chebi: <http://purl.obolibrary.org/obo/chebi/> PREFIX chebidb: <http://purl.obolibrary.org/obo/CHEBI_> PREFIX chebirel: <http://purl.obolibrary.org/obo/CHEBI#> PREFIX oboInOwl: <http://www.geneontology.org/formats/oboInOwl#>  PREFIX bp3: <http://www.biopax.org/release/biopax-level3.owl#>  # Homo_sapiens-20170221.owl #PREFIX reactome: <http://www.reactome.org/biopax/59/48887#>  # # Homo_sapiens-20210608.owl #PREFIX reactome: <http://www.reactome.org/biopax/77/48887#> # # Homo_sapiens-20220614.owl #PREFIX reactome: <http://www.reactome.org/biopax/81/48887#> # # Homo_sapiens-20221130.owl #PREFIX reactome: <http://www.reactome.org/biopax/83/48887#>  PREFIX reactome: <http://www.reactome.org/biopax/87/48887#>  SELECT ?metric ?count # Number of instances of SmallMolecule WHERE {     {         SELECT ?metric (COUNT(DISTINCT ?small_molecule) AS ?count)         WHERE {             BIND(\"SmallMolecule\" AS ?metric)             ?small_molecule rdf:type/(rdfs:subClassOf*) bp3:SmallMolecule .         }         GROUP BY ?metric     }     UNION     {         SELECT ?metric (COUNT(DISTINCT ?small_molecule_ref) AS ?count)         WHERE {             BIND(\"SmallMoleculeReference\" AS ?metric)             ?small_molecule_ref rdf:type bp3:SmallMoleculeReference .         }         GROUP BY ?metric     }     UNION     {         SELECT ?metric (COUNT(DISTINCT ?small_molecule_without_ref) AS ?count)         WHERE {             BIND(\"noSMR\" AS ?metric)             OPTIONAL {             ?small_molecule_without_ref rdf:type/(rdfs:subClassOf*) bp3:SmallMolecule .             FILTER NOT EXISTS {                 ?small_molecule_without_ref bp3:entityReference ?ref .                 ?ref rdf:type bp3:SmallMoleculeReference .             }             }         }         GROUP BY ?metric     }     UNION     {         SELECT ?metric (COUNT(DISTINCT ?small_molecule_that_map_to_chebi) AS ?count)         WHERE {             BIND(\"ChEBI mappings\" AS ?metric)             ?small_molecule_that_map_to_chebi rdf:type bp3:SmallMolecule .             ?small_molecule_that_map_to_chebi bp3:entityReference ?small_molecule_ref .             ?small_molecule_ref rdf:type bp3:SmallMoleculeReference .             ?small_molecule_ref bp3:xref ?small_molecule_ref_xref .             ?small_molecule_ref_xref rdf:type bp3:UnificationXref .             ?small_molecule_ref_xref bp3:db \"chebi\" .             ?small_molecule_ref_xref bp3:id ?chebi_id .         }         GROUP BY ?metric     }     UNION      {         SELECT ?metric (COUNT(DISTINCT ?small_molecule_no_map_to_chebi) AS ?count)         WHERE {             BIND(\"Smnomapping\" AS ?metric)             ?small_molecule_no_map_to_chebi rdf:type/(rdfs:subClassOf*) bp3:SmallMolecule .             ?small_molecule_no_map_to_chebi bp3:entityReference ?small_molecule_ref .             FILTER NOT EXISTS {                 ?small_molecule_ref bp3:xref ?xref .                 ?xref rdf:type bp3:UnificationXref .                 ?xref bp3:db \"chebi\" .                 ?xref bp3:id ?chebi_id .             }         }         GROUP BY ?metric     }     UNION      {         SELECT ?metric (COUNT(DISTINCT ?chebi_id) AS ?count)         WHERE {             BIND(\"Unique ChEBI\" AS ?metric)             ?unif_xref rdf:type bp3:UnificationXref .             ?unif_xref bp3:db \"chebi\" .             ?unif_xref bp3:id ?chebi_id .         }         GROUP BY ?metric     } } ORDER BY ?metric  \n",
      "09:32:05 INFO  Fuseki          :: [1] 200 OK (320 ms)\n"
     ]
    },
    {
     "data": {
      "text/html": [
       "<table><tr><th>metric</th><th>count</th></tr><tr><td>ChEBI mappings</td><td>657</td></tr><tr><td>SmallMolecule</td><td>1936</td></tr><tr><td>SmallMoleculeReference</td><td>1458</td></tr><tr><td>Smnomapping</td><td>1279</td></tr><tr><td>Unique ChEBI</td><td>179</td></tr><tr><td>noSMR</td><td>0</td></tr></table>"
      ],
      "text/plain": [
       "<IPython.core.display.HTML object>"
      ]
     },
     "metadata": {},
     "output_type": "display_data"
    },
    {
     "name": "stderr",
     "output_type": "stream",
     "text": [
      "09:32:05 INFO  Fuseki          :: [2] GET http://localhost:3030/panther_pc/query?query=%0APREFIX+rdf%3A+%3Chttp%3A//www.w3.org/1999/02/22-rdf-syntax-ns%23%3E%0APREFIX+rdfs%3A%3Chttp%3A//www.w3.org/2000/01/rdf-schema%23%3E%0APREFIX+owl%3A+%3Chttp%3A//www.w3.org/2002/07/owl%23%3E%0APREFIX+xsd%3A+%3Chttp%3A//www.w3.org/2001/XMLSchema%23%3E%0APREFIX+dc%3A+%3Chttp%3A//purl.org/dc/elements/1.1/%3E%0APREFIX+dcterms%3A+%3Chttp%3A//purl.org/dc/terms/%3E%0A%0APREFIX+chebi%3A+%3Chttp%3A//purl.obolibrary.org/obo/chebi/%3E%0APREFIX+chebidb%3A+%3Chttp%3A//purl.obolibrary.org/obo/CHEBI_%3E%0APREFIX+chebirel%3A+%3Chttp%3A//purl.obolibrary.org/obo/CHEBI%23%3E%0APREFIX+oboInOwl%3A+%3Chttp%3A//www.geneontology.org/formats/oboInOwl%23%3E%0A%0APREFIX+bp3%3A+%3Chttp%3A//www.biopax.org/release/biopax-level3.owl%23%3E%0A%0A%23+Homo_sapiens-20170221.owl%0A%23PREFIX+reactome%3A+%3Chttp%3A//www.reactome.org/biopax/59/48887%23%3E+%0A%23%0A%23+Homo_sapiens-20210608.owl%0A%23PREFIX+reactome%3A+%3Chttp%3A//www.reactome.org/biopax/77/48887%23%3E%0A%23%0A%23+Homo_sapiens-20220614.owl%0A%23PREFIX+reactome%3A+%3Chttp%3A//www.reactome.org/biopax/81/48887%23%3E%0A%23%0A%23+Homo_sapiens-20221130.owl%0A%23PREFIX+reactome%3A+%3Chttp%3A//www.reactome.org/biopax/83/48887%23%3E%0A%0APREFIX+reactome%3A+%3Chttp%3A//www.reactome.org/biopax/87/48887%23%3E%0A%0ASELECT+%3Fmetric+%3Fcount%0A%23+Number+of+instances+of+SmallMolecule%0AWHERE+%7B%0A++++%7B%0A++++++++SELECT+%3Fmetric+%28COUNT%28DISTINCT+%3Fsmall_molecule%29+AS+%3Fcount%29%0A++++++++WHERE+%7B%0A++++++++++++BIND%28%22SmallMolecule%22+AS+%3Fmetric%29%0A++++++++++++%3Fsmall_molecule+rdf%3Atype/%28rdfs%3AsubClassOf%2A%29+bp3%3ASmallMolecule+.%0A++++++++%7D%0A++++++++GROUP+BY+%3Fmetric%0A++++%7D%0A++++UNION%0A++++%7B%0A++++++++SELECT+%3Fmetric+%28COUNT%28DISTINCT+%3Fsmall_molecule_ref%29+AS+%3Fcount%29%0A++++++++WHERE+%7B%0A++++++++++++BIND%28%22SmallMoleculeReference%22+AS+%3Fmetric%29%0A++++++++++++%3Fsmall_molecule_ref+rdf%3Atype+bp3%3ASmallMoleculeReference+.%0A++++++++%7D%0A++++++++GROUP+BY+%3Fmetric%0A++++%7D%0A++++UNION%0A++++%7B%0A++++++++SELECT+%3Fmetric+%28COUNT%28DISTINCT+%3Fsmall_molecule_without_ref%29+AS+%3Fcount%29%0A++++++++WHERE+%7B%0A++++++++++++BIND%28%22noSMR%22+AS+%3Fmetric%29%0A++++++++++++OPTIONAL+%7B%0A++++++++++++%3Fsmall_molecule_without_ref+rdf%3Atype/%28rdfs%3AsubClassOf%2A%29+bp3%3ASmallMolecule+.%0A++++++++++++FILTER+NOT+EXISTS+%7B%0A++++++++++++++++%3Fsmall_molecule_without_ref+bp3%3AentityReference+%3Fref+.%0A++++++++++++++++%3Fref+rdf%3Atype+bp3%3ASmallMoleculeReference+.%0A++++++++++++%7D%0A++++++++++++%7D%0A++++++++%7D%0A++++++++GROUP+BY+%3Fmetric%0A++++%7D%0A++++UNION%0A++++%7B%0A++++++++SELECT+%3Fmetric+%28COUNT%28DISTINCT+%3Fsmall_molecule_that_map_to_chebi%29+AS+%3Fcount%29%0A++++++++WHERE+%7B%0A++++++++++++BIND%28%22ChEBI+mappings%22+AS+%3Fmetric%29%0A++++++++++++%3Fsmall_molecule_that_map_to_chebi+rdf%3Atype+bp3%3ASmallMolecule+.%0A++++++++++++%3Fsmall_molecule_that_map_to_chebi+bp3%3AentityReference+%3Fsmall_molecule_ref+.%0A++++++++++++%3Fsmall_molecule_ref+rdf%3Atype+bp3%3ASmallMoleculeReference+.%0A++++++++++++%3Fsmall_molecule_ref+bp3%3Axref+%3Fsmall_molecule_ref_xref+.%0A++++++++++++%3Fsmall_molecule_ref_xref+rdf%3Atype+bp3%3AUnificationXref+.%0A++++++++++++%3Fsmall_molecule_ref_xref+bp3%3Adb+%22chebi%22+.%0A++++++++++++%3Fsmall_molecule_ref_xref+bp3%3Aid+%3Fchebi_id+.%0A++++++++%7D%0A++++++++GROUP+BY+%3Fmetric%0A++++%7D%0A++++UNION+%0A++++%7B%0A++++++++SELECT+%3Fmetric+%28COUNT%28DISTINCT+%3Fsmall_molecule_no_map_to_chebi%29+AS+%3Fcount%29%0A++++++++WHERE+%7B%0A++++++++++++BIND%28%22Smnomapping%22+AS+%3Fmetric%29%0A++++++++++++%3Fsmall_molecule_no_map_to_chebi+rdf%3Atype/%28rdfs%3AsubClassOf%2A%29+bp3%3ASmallMolecule+.%0A++++++++++++%3Fsmall_molecule_no_map_to_chebi+bp3%3AentityReference+%3Fsmall_molecule_ref+.%0A++++++++++++FILTER+NOT+EXISTS+%7B%0A++++++++++++++++%3Fsmall_molecule_ref+bp3%3Axref+%3Fxref+.%0A++++++++++++++++%3Fxref+rdf%3Atype+bp3%3AUnificationXref+.%0A++++++++++++++++%3Fxref+bp3%3Adb+%22chebi%22+.%0A++++++++++++++++%3Fxref+bp3%3Aid+%3Fchebi_id+.%0A++++++++++++%7D%0A++++++++%7D%0A++++++++GROUP+BY+%3Fmetric%0A++++%7D%0A++++UNION+%0A++++%7B%0A++++++++SELECT+%3Fmetric+%28COUNT%28DISTINCT+%3Fchebi_id%29+AS+%3Fcount%29%0A++++++++WHERE+%7B%0A++++++++++++BIND%28%22Unique+ChEBI%22+AS+%3Fmetric%29%0A++++++++++++%3Funif_xref+rdf%3Atype+bp3%3AUnificationXref+.%0A++++++++++++%3Funif_xref+bp3%3Adb+%22chebi%22+.%0A++++++++++++%3Funif_xref+bp3%3Aid+%3Fchebi_id+.%0A++++++++%7D%0A++++++++GROUP+BY+%3Fmetric%0A++++%7D%0A%7D%0AORDER+BY+%3Fmetric%0A%0A&format=csv&output=csv&results=csv\n",
      "09:32:05 INFO  Fuseki          :: [2] Query =  PREFIX rdf: <http://www.w3.org/1999/02/22-rdf-syntax-ns#> PREFIX rdfs:<http://www.w3.org/2000/01/rdf-schema#> PREFIX owl: <http://www.w3.org/2002/07/owl#> PREFIX xsd: <http://www.w3.org/2001/XMLSchema#> PREFIX dc: <http://purl.org/dc/elements/1.1/> PREFIX dcterms: <http://purl.org/dc/terms/>  PREFIX chebi: <http://purl.obolibrary.org/obo/chebi/> PREFIX chebidb: <http://purl.obolibrary.org/obo/CHEBI_> PREFIX chebirel: <http://purl.obolibrary.org/obo/CHEBI#> PREFIX oboInOwl: <http://www.geneontology.org/formats/oboInOwl#>  PREFIX bp3: <http://www.biopax.org/release/biopax-level3.owl#>  # Homo_sapiens-20170221.owl #PREFIX reactome: <http://www.reactome.org/biopax/59/48887#>  # # Homo_sapiens-20210608.owl #PREFIX reactome: <http://www.reactome.org/biopax/77/48887#> # # Homo_sapiens-20220614.owl #PREFIX reactome: <http://www.reactome.org/biopax/81/48887#> # # Homo_sapiens-20221130.owl #PREFIX reactome: <http://www.reactome.org/biopax/83/48887#>  PREFIX reactome: <http://www.reactome.org/biopax/87/48887#>  SELECT ?metric ?count # Number of instances of SmallMolecule WHERE {     {         SELECT ?metric (COUNT(DISTINCT ?small_molecule) AS ?count)         WHERE {             BIND(\"SmallMolecule\" AS ?metric)             ?small_molecule rdf:type/(rdfs:subClassOf*) bp3:SmallMolecule .         }         GROUP BY ?metric     }     UNION     {         SELECT ?metric (COUNT(DISTINCT ?small_molecule_ref) AS ?count)         WHERE {             BIND(\"SmallMoleculeReference\" AS ?metric)             ?small_molecule_ref rdf:type bp3:SmallMoleculeReference .         }         GROUP BY ?metric     }     UNION     {         SELECT ?metric (COUNT(DISTINCT ?small_molecule_without_ref) AS ?count)         WHERE {             BIND(\"noSMR\" AS ?metric)             OPTIONAL {             ?small_molecule_without_ref rdf:type/(rdfs:subClassOf*) bp3:SmallMolecule .             FILTER NOT EXISTS {                 ?small_molecule_without_ref bp3:entityReference ?ref .                 ?ref rdf:type bp3:SmallMoleculeReference .             }             }         }         GROUP BY ?metric     }     UNION     {         SELECT ?metric (COUNT(DISTINCT ?small_molecule_that_map_to_chebi) AS ?count)         WHERE {             BIND(\"ChEBI mappings\" AS ?metric)             ?small_molecule_that_map_to_chebi rdf:type bp3:SmallMolecule .             ?small_molecule_that_map_to_chebi bp3:entityReference ?small_molecule_ref .             ?small_molecule_ref rdf:type bp3:SmallMoleculeReference .             ?small_molecule_ref bp3:xref ?small_molecule_ref_xref .             ?small_molecule_ref_xref rdf:type bp3:UnificationXref .             ?small_molecule_ref_xref bp3:db \"chebi\" .             ?small_molecule_ref_xref bp3:id ?chebi_id .         }         GROUP BY ?metric     }     UNION      {         SELECT ?metric (COUNT(DISTINCT ?small_molecule_no_map_to_chebi) AS ?count)         WHERE {             BIND(\"Smnomapping\" AS ?metric)             ?small_molecule_no_map_to_chebi rdf:type/(rdfs:subClassOf*) bp3:SmallMolecule .             ?small_molecule_no_map_to_chebi bp3:entityReference ?small_molecule_ref .             FILTER NOT EXISTS {                 ?small_molecule_ref bp3:xref ?xref .                 ?xref rdf:type bp3:UnificationXref .                 ?xref bp3:db \"chebi\" .                 ?xref bp3:id ?chebi_id .             }         }         GROUP BY ?metric     }     UNION      {         SELECT ?metric (COUNT(DISTINCT ?chebi_id) AS ?count)         WHERE {             BIND(\"Unique ChEBI\" AS ?metric)             ?unif_xref rdf:type bp3:UnificationXref .             ?unif_xref bp3:db \"chebi\" .             ?unif_xref bp3:id ?chebi_id .         }         GROUP BY ?metric     } } ORDER BY ?metric  \n",
      "09:32:06 INFO  Fuseki          :: [2] 200 OK (198 ms)\n"
     ]
    }
   ],
   "source": [
    "# TODO: change path\n",
    "command = [\n",
    "    '/home/cbeust/Softwares/JenaFuseki/apache-jena-fuseki-4.9.0/fuseki-server',\n",
    "    '--file', '/home/cbeust/Projects/2024/BioPAX_Review/Compare_BioPAX_Files/PathwayCommonsFiles/PathwayCommons12.panther.BIOPAX.owl',\n",
    "    '--file', '/home/cbeust/Projects/2024/BioPAX_Review/BioPAX_Ontology/biopax-level3.owl',\n",
    "    '/panther_pc']\n",
    "process = subprocess.Popen(command)\n",
    "time.sleep(60)\n",
    "\n",
    "# execute SPARQL query\n",
    "sparql = SPARQLWrapper(endpointURL_panther_pc)\n",
    "sparql.setQuery(prefixes+query2)\n",
    "\n",
    "# display results\n",
    "sparql.setReturnFormat(JSON)\n",
    "results = sparql.query().convert()\n",
    "displaySparqlResults(results)\n",
    "\n",
    "# export results to CSV\n",
    "sparql.setReturnFormat(CSV)\n",
    "results = sparql.query().convert()\n",
    "with open(\"../Results/panther_pc_mappings_chebi.csv\", \"wb\") as f:\n",
    "    f.write(results)\n",
    "\n",
    "# end process\n",
    "process.kill()\n",
    "time.sleep(60)"
   ]
  },
  {
   "cell_type": "markdown",
   "metadata": {},
   "source": [
    "#### Query on BioPAX export of PathBank from PathwayCommons"
   ]
  },
  {
   "cell_type": "code",
   "execution_count": 9,
   "metadata": {},
   "outputs": [
    {
     "name": "stderr",
     "output_type": "stream",
     "text": [
      "09:33:06 INFO  Server          :: Dataset: in-memory: load file: /home/cbeust/Projects/2024/BioPAX_Review/Compare_BioPAX_Files/PathwayCommonsFiles/PathwayCommons12.pathbank.BIOPAX.owl\n",
      "09:33:08 WARN  riot            :: [line: 89570, col: 87] {W137} Input is large. Switching off checking for illegal reuse of rdf:ID's.\n",
      "09:33:09 INFO  Server          :: Dataset: in-memory: load file: /home/cbeust/Projects/2024/BioPAX_Review/BioPAX_Ontology/biopax-level3.owl\n",
      "09:33:10 INFO  Server          :: Running in read-only mode for /pathbank_pc\n",
      "09:33:10 INFO  Server          :: Apache Jena Fuseki 4.9.0\n",
      "09:33:10 INFO  Config          :: FUSEKI_HOME=/home/cbeust/Softwares/JenaFuseki/apache-jena-fuseki-4.9.0\n",
      "09:33:10 INFO  Config          :: FUSEKI_BASE=/home/cbeust/Projects/2024/BioPAX_Review/BioPAXReview2024Codes/Figure4-5/Scripts/run\n",
      "09:33:10 INFO  Config          :: Shiro file: file:///home/cbeust/Projects/2024/BioPAX_Review/BioPAXReview2024Codes/Figure4-5/Scripts/run/shiro.ini\n",
      "09:33:10 INFO  Server          :: Database: in-memory, with files loaded\n",
      "09:33:10 INFO  Server          :: Path = /pathbank_pc\n",
      "09:33:10 INFO  Server          ::   Memory: 16.0 GiB\n",
      "09:33:10 INFO  Server          ::   Java:   17.0.11\n",
      "09:33:10 INFO  Server          ::   OS:     Linux 6.8.9-100.fc38.x86_64 amd64\n",
      "09:33:10 INFO  Server          ::   PID:    15491\n",
      "09:33:10 INFO  Server          :: Started 2024/07/30 09:33:10 CEST on port 3030\n",
      "09:34:06 INFO  Fuseki          :: [1] GET http://localhost:3030/pathbank_pc/query?query=%0APREFIX+rdf%3A+%3Chttp%3A//www.w3.org/1999/02/22-rdf-syntax-ns%23%3E%0APREFIX+rdfs%3A%3Chttp%3A//www.w3.org/2000/01/rdf-schema%23%3E%0APREFIX+owl%3A+%3Chttp%3A//www.w3.org/2002/07/owl%23%3E%0APREFIX+xsd%3A+%3Chttp%3A//www.w3.org/2001/XMLSchema%23%3E%0APREFIX+dc%3A+%3Chttp%3A//purl.org/dc/elements/1.1/%3E%0APREFIX+dcterms%3A+%3Chttp%3A//purl.org/dc/terms/%3E%0A%0APREFIX+chebi%3A+%3Chttp%3A//purl.obolibrary.org/obo/chebi/%3E%0APREFIX+chebidb%3A+%3Chttp%3A//purl.obolibrary.org/obo/CHEBI_%3E%0APREFIX+chebirel%3A+%3Chttp%3A//purl.obolibrary.org/obo/CHEBI%23%3E%0APREFIX+oboInOwl%3A+%3Chttp%3A//www.geneontology.org/formats/oboInOwl%23%3E%0A%0APREFIX+bp3%3A+%3Chttp%3A//www.biopax.org/release/biopax-level3.owl%23%3E%0A%0A%23+Homo_sapiens-20170221.owl%0A%23PREFIX+reactome%3A+%3Chttp%3A//www.reactome.org/biopax/59/48887%23%3E+%0A%23%0A%23+Homo_sapiens-20210608.owl%0A%23PREFIX+reactome%3A+%3Chttp%3A//www.reactome.org/biopax/77/48887%23%3E%0A%23%0A%23+Homo_sapiens-20220614.owl%0A%23PREFIX+reactome%3A+%3Chttp%3A//www.reactome.org/biopax/81/48887%23%3E%0A%23%0A%23+Homo_sapiens-20221130.owl%0A%23PREFIX+reactome%3A+%3Chttp%3A//www.reactome.org/biopax/83/48887%23%3E%0A%0APREFIX+reactome%3A+%3Chttp%3A//www.reactome.org/biopax/87/48887%23%3E%0A%0ASELECT+%3Fmetric+%3Fcount%0A%23+Number+of+instances+of+SmallMolecule%0AWHERE+%7B%0A++++%7B%0A++++++++SELECT+%3Fmetric+%28COUNT%28DISTINCT+%3Fsmall_molecule%29+AS+%3Fcount%29%0A++++++++WHERE+%7B%0A++++++++++++BIND%28%22SmallMolecule%22+AS+%3Fmetric%29%0A++++++++++++%3Fsmall_molecule+rdf%3Atype/%28rdfs%3AsubClassOf%2A%29+bp3%3ASmallMolecule+.%0A++++++++%7D%0A++++++++GROUP+BY+%3Fmetric%0A++++%7D%0A++++UNION%0A++++%7B%0A++++++++SELECT+%3Fmetric+%28COUNT%28DISTINCT+%3Fsmall_molecule_ref%29+AS+%3Fcount%29%0A++++++++WHERE+%7B%0A++++++++++++BIND%28%22SmallMoleculeReference%22+AS+%3Fmetric%29%0A++++++++++++%3Fsmall_molecule_ref+rdf%3Atype+bp3%3ASmallMoleculeReference+.%0A++++++++%7D%0A++++++++GROUP+BY+%3Fmetric%0A++++%7D%0A++++UNION%0A++++%7B%0A++++++++SELECT+%3Fmetric+%28COUNT%28DISTINCT+%3Fsmall_molecule_without_ref%29+AS+%3Fcount%29%0A++++++++WHERE+%7B%0A++++++++++++BIND%28%22noSMR%22+AS+%3Fmetric%29%0A++++++++++++OPTIONAL+%7B%0A++++++++++++%3Fsmall_molecule_without_ref+rdf%3Atype/%28rdfs%3AsubClassOf%2A%29+bp3%3ASmallMolecule+.%0A++++++++++++FILTER+NOT+EXISTS+%7B%0A++++++++++++++++%3Fsmall_molecule_without_ref+bp3%3AentityReference+%3Fref+.%0A++++++++++++++++%3Fref+rdf%3Atype+bp3%3ASmallMoleculeReference+.%0A++++++++++++%7D%0A++++++++++++%7D%0A++++++++%7D%0A++++++++GROUP+BY+%3Fmetric%0A++++%7D%0A++++UNION%0A++++%7B%0A++++++++SELECT+%3Fmetric+%28COUNT%28DISTINCT+%3Fsmall_molecule_that_map_to_chebi%29+AS+%3Fcount%29%0A++++++++WHERE+%7B%0A++++++++++++BIND%28%22ChEBI+mappings%22+AS+%3Fmetric%29%0A++++++++++++%3Fsmall_molecule_that_map_to_chebi+rdf%3Atype+bp3%3ASmallMolecule+.%0A++++++++++++%3Fsmall_molecule_that_map_to_chebi+bp3%3AentityReference+%3Fsmall_molecule_ref+.%0A++++++++++++%3Fsmall_molecule_ref+rdf%3Atype+bp3%3ASmallMoleculeReference+.%0A++++++++++++%3Fsmall_molecule_ref+bp3%3Axref+%3Fsmall_molecule_ref_xref+.%0A++++++++++++%3Fsmall_molecule_ref_xref+rdf%3Atype+bp3%3AUnificationXref+.%0A++++++++++++%3Fsmall_molecule_ref_xref+bp3%3Adb+%22chebi%22+.%0A++++++++++++%3Fsmall_molecule_ref_xref+bp3%3Aid+%3Fchebi_id+.%0A++++++++%7D%0A++++++++GROUP+BY+%3Fmetric%0A++++%7D%0A++++UNION+%0A++++%7B%0A++++++++SELECT+%3Fmetric+%28COUNT%28DISTINCT+%3Fsmall_molecule_no_map_to_chebi%29+AS+%3Fcount%29%0A++++++++WHERE+%7B%0A++++++++++++BIND%28%22Smnomapping%22+AS+%3Fmetric%29%0A++++++++++++%3Fsmall_molecule_no_map_to_chebi+rdf%3Atype/%28rdfs%3AsubClassOf%2A%29+bp3%3ASmallMolecule+.%0A++++++++++++%3Fsmall_molecule_no_map_to_chebi+bp3%3AentityReference+%3Fsmall_molecule_ref+.%0A++++++++++++FILTER+NOT+EXISTS+%7B%0A++++++++++++++++%3Fsmall_molecule_ref+bp3%3Axref+%3Fxref+.%0A++++++++++++++++%3Fxref+rdf%3Atype+bp3%3AUnificationXref+.%0A++++++++++++++++%3Fxref+bp3%3Adb+%22chebi%22+.%0A++++++++++++++++%3Fxref+bp3%3Aid+%3Fchebi_id+.%0A++++++++++++%7D%0A++++++++%7D%0A++++++++GROUP+BY+%3Fmetric%0A++++%7D%0A++++UNION+%0A++++%7B%0A++++++++SELECT+%3Fmetric+%28COUNT%28DISTINCT+%3Fchebi_id%29+AS+%3Fcount%29%0A++++++++WHERE+%7B%0A++++++++++++BIND%28%22Unique+ChEBI%22+AS+%3Fmetric%29%0A++++++++++++%3Funif_xref+rdf%3Atype+bp3%3AUnificationXref+.%0A++++++++++++%3Funif_xref+bp3%3Adb+%22chebi%22+.%0A++++++++++++%3Funif_xref+bp3%3Aid+%3Fchebi_id+.%0A++++++++%7D%0A++++++++GROUP+BY+%3Fmetric%0A++++%7D%0A%7D%0AORDER+BY+%3Fmetric%0A%0A&format=json&output=json&results=json\n",
      "09:34:06 INFO  Fuseki          :: [1] Query =  PREFIX rdf: <http://www.w3.org/1999/02/22-rdf-syntax-ns#> PREFIX rdfs:<http://www.w3.org/2000/01/rdf-schema#> PREFIX owl: <http://www.w3.org/2002/07/owl#> PREFIX xsd: <http://www.w3.org/2001/XMLSchema#> PREFIX dc: <http://purl.org/dc/elements/1.1/> PREFIX dcterms: <http://purl.org/dc/terms/>  PREFIX chebi: <http://purl.obolibrary.org/obo/chebi/> PREFIX chebidb: <http://purl.obolibrary.org/obo/CHEBI_> PREFIX chebirel: <http://purl.obolibrary.org/obo/CHEBI#> PREFIX oboInOwl: <http://www.geneontology.org/formats/oboInOwl#>  PREFIX bp3: <http://www.biopax.org/release/biopax-level3.owl#>  # Homo_sapiens-20170221.owl #PREFIX reactome: <http://www.reactome.org/biopax/59/48887#>  # # Homo_sapiens-20210608.owl #PREFIX reactome: <http://www.reactome.org/biopax/77/48887#> # # Homo_sapiens-20220614.owl #PREFIX reactome: <http://www.reactome.org/biopax/81/48887#> # # Homo_sapiens-20221130.owl #PREFIX reactome: <http://www.reactome.org/biopax/83/48887#>  PREFIX reactome: <http://www.reactome.org/biopax/87/48887#>  SELECT ?metric ?count # Number of instances of SmallMolecule WHERE {     {         SELECT ?metric (COUNT(DISTINCT ?small_molecule) AS ?count)         WHERE {             BIND(\"SmallMolecule\" AS ?metric)             ?small_molecule rdf:type/(rdfs:subClassOf*) bp3:SmallMolecule .         }         GROUP BY ?metric     }     UNION     {         SELECT ?metric (COUNT(DISTINCT ?small_molecule_ref) AS ?count)         WHERE {             BIND(\"SmallMoleculeReference\" AS ?metric)             ?small_molecule_ref rdf:type bp3:SmallMoleculeReference .         }         GROUP BY ?metric     }     UNION     {         SELECT ?metric (COUNT(DISTINCT ?small_molecule_without_ref) AS ?count)         WHERE {             BIND(\"noSMR\" AS ?metric)             OPTIONAL {             ?small_molecule_without_ref rdf:type/(rdfs:subClassOf*) bp3:SmallMolecule .             FILTER NOT EXISTS {                 ?small_molecule_without_ref bp3:entityReference ?ref .                 ?ref rdf:type bp3:SmallMoleculeReference .             }             }         }         GROUP BY ?metric     }     UNION     {         SELECT ?metric (COUNT(DISTINCT ?small_molecule_that_map_to_chebi) AS ?count)         WHERE {             BIND(\"ChEBI mappings\" AS ?metric)             ?small_molecule_that_map_to_chebi rdf:type bp3:SmallMolecule .             ?small_molecule_that_map_to_chebi bp3:entityReference ?small_molecule_ref .             ?small_molecule_ref rdf:type bp3:SmallMoleculeReference .             ?small_molecule_ref bp3:xref ?small_molecule_ref_xref .             ?small_molecule_ref_xref rdf:type bp3:UnificationXref .             ?small_molecule_ref_xref bp3:db \"chebi\" .             ?small_molecule_ref_xref bp3:id ?chebi_id .         }         GROUP BY ?metric     }     UNION      {         SELECT ?metric (COUNT(DISTINCT ?small_molecule_no_map_to_chebi) AS ?count)         WHERE {             BIND(\"Smnomapping\" AS ?metric)             ?small_molecule_no_map_to_chebi rdf:type/(rdfs:subClassOf*) bp3:SmallMolecule .             ?small_molecule_no_map_to_chebi bp3:entityReference ?small_molecule_ref .             FILTER NOT EXISTS {                 ?small_molecule_ref bp3:xref ?xref .                 ?xref rdf:type bp3:UnificationXref .                 ?xref bp3:db \"chebi\" .                 ?xref bp3:id ?chebi_id .             }         }         GROUP BY ?metric     }     UNION      {         SELECT ?metric (COUNT(DISTINCT ?chebi_id) AS ?count)         WHERE {             BIND(\"Unique ChEBI\" AS ?metric)             ?unif_xref rdf:type bp3:UnificationXref .             ?unif_xref bp3:db \"chebi\" .             ?unif_xref bp3:id ?chebi_id .         }         GROUP BY ?metric     } } ORDER BY ?metric  \n",
      "09:34:06 INFO  Fuseki          :: [1] 200 OK (689 ms)\n"
     ]
    },
    {
     "data": {
      "text/html": [
       "<table><tr><th>metric</th><th>count</th></tr><tr><td>ChEBI mappings</td><td>3012</td></tr><tr><td>SmallMolecule</td><td>3326</td></tr><tr><td>SmallMoleculeReference</td><td>1776</td></tr><tr><td>Smnomapping</td><td>314</td></tr><tr><td>Unique ChEBI</td><td>1601</td></tr><tr><td>noSMR</td><td>0</td></tr></table>"
      ],
      "text/plain": [
       "<IPython.core.display.HTML object>"
      ]
     },
     "metadata": {},
     "output_type": "display_data"
    },
    {
     "name": "stderr",
     "output_type": "stream",
     "text": [
      "09:34:06 INFO  Fuseki          :: [2] GET http://localhost:3030/pathbank_pc/query?query=%0APREFIX+rdf%3A+%3Chttp%3A//www.w3.org/1999/02/22-rdf-syntax-ns%23%3E%0APREFIX+rdfs%3A%3Chttp%3A//www.w3.org/2000/01/rdf-schema%23%3E%0APREFIX+owl%3A+%3Chttp%3A//www.w3.org/2002/07/owl%23%3E%0APREFIX+xsd%3A+%3Chttp%3A//www.w3.org/2001/XMLSchema%23%3E%0APREFIX+dc%3A+%3Chttp%3A//purl.org/dc/elements/1.1/%3E%0APREFIX+dcterms%3A+%3Chttp%3A//purl.org/dc/terms/%3E%0A%0APREFIX+chebi%3A+%3Chttp%3A//purl.obolibrary.org/obo/chebi/%3E%0APREFIX+chebidb%3A+%3Chttp%3A//purl.obolibrary.org/obo/CHEBI_%3E%0APREFIX+chebirel%3A+%3Chttp%3A//purl.obolibrary.org/obo/CHEBI%23%3E%0APREFIX+oboInOwl%3A+%3Chttp%3A//www.geneontology.org/formats/oboInOwl%23%3E%0A%0APREFIX+bp3%3A+%3Chttp%3A//www.biopax.org/release/biopax-level3.owl%23%3E%0A%0A%23+Homo_sapiens-20170221.owl%0A%23PREFIX+reactome%3A+%3Chttp%3A//www.reactome.org/biopax/59/48887%23%3E+%0A%23%0A%23+Homo_sapiens-20210608.owl%0A%23PREFIX+reactome%3A+%3Chttp%3A//www.reactome.org/biopax/77/48887%23%3E%0A%23%0A%23+Homo_sapiens-20220614.owl%0A%23PREFIX+reactome%3A+%3Chttp%3A//www.reactome.org/biopax/81/48887%23%3E%0A%23%0A%23+Homo_sapiens-20221130.owl%0A%23PREFIX+reactome%3A+%3Chttp%3A//www.reactome.org/biopax/83/48887%23%3E%0A%0APREFIX+reactome%3A+%3Chttp%3A//www.reactome.org/biopax/87/48887%23%3E%0A%0ASELECT+%3Fmetric+%3Fcount%0A%23+Number+of+instances+of+SmallMolecule%0AWHERE+%7B%0A++++%7B%0A++++++++SELECT+%3Fmetric+%28COUNT%28DISTINCT+%3Fsmall_molecule%29+AS+%3Fcount%29%0A++++++++WHERE+%7B%0A++++++++++++BIND%28%22SmallMolecule%22+AS+%3Fmetric%29%0A++++++++++++%3Fsmall_molecule+rdf%3Atype/%28rdfs%3AsubClassOf%2A%29+bp3%3ASmallMolecule+.%0A++++++++%7D%0A++++++++GROUP+BY+%3Fmetric%0A++++%7D%0A++++UNION%0A++++%7B%0A++++++++SELECT+%3Fmetric+%28COUNT%28DISTINCT+%3Fsmall_molecule_ref%29+AS+%3Fcount%29%0A++++++++WHERE+%7B%0A++++++++++++BIND%28%22SmallMoleculeReference%22+AS+%3Fmetric%29%0A++++++++++++%3Fsmall_molecule_ref+rdf%3Atype+bp3%3ASmallMoleculeReference+.%0A++++++++%7D%0A++++++++GROUP+BY+%3Fmetric%0A++++%7D%0A++++UNION%0A++++%7B%0A++++++++SELECT+%3Fmetric+%28COUNT%28DISTINCT+%3Fsmall_molecule_without_ref%29+AS+%3Fcount%29%0A++++++++WHERE+%7B%0A++++++++++++BIND%28%22noSMR%22+AS+%3Fmetric%29%0A++++++++++++OPTIONAL+%7B%0A++++++++++++%3Fsmall_molecule_without_ref+rdf%3Atype/%28rdfs%3AsubClassOf%2A%29+bp3%3ASmallMolecule+.%0A++++++++++++FILTER+NOT+EXISTS+%7B%0A++++++++++++++++%3Fsmall_molecule_without_ref+bp3%3AentityReference+%3Fref+.%0A++++++++++++++++%3Fref+rdf%3Atype+bp3%3ASmallMoleculeReference+.%0A++++++++++++%7D%0A++++++++++++%7D%0A++++++++%7D%0A++++++++GROUP+BY+%3Fmetric%0A++++%7D%0A++++UNION%0A++++%7B%0A++++++++SELECT+%3Fmetric+%28COUNT%28DISTINCT+%3Fsmall_molecule_that_map_to_chebi%29+AS+%3Fcount%29%0A++++++++WHERE+%7B%0A++++++++++++BIND%28%22ChEBI+mappings%22+AS+%3Fmetric%29%0A++++++++++++%3Fsmall_molecule_that_map_to_chebi+rdf%3Atype+bp3%3ASmallMolecule+.%0A++++++++++++%3Fsmall_molecule_that_map_to_chebi+bp3%3AentityReference+%3Fsmall_molecule_ref+.%0A++++++++++++%3Fsmall_molecule_ref+rdf%3Atype+bp3%3ASmallMoleculeReference+.%0A++++++++++++%3Fsmall_molecule_ref+bp3%3Axref+%3Fsmall_molecule_ref_xref+.%0A++++++++++++%3Fsmall_molecule_ref_xref+rdf%3Atype+bp3%3AUnificationXref+.%0A++++++++++++%3Fsmall_molecule_ref_xref+bp3%3Adb+%22chebi%22+.%0A++++++++++++%3Fsmall_molecule_ref_xref+bp3%3Aid+%3Fchebi_id+.%0A++++++++%7D%0A++++++++GROUP+BY+%3Fmetric%0A++++%7D%0A++++UNION+%0A++++%7B%0A++++++++SELECT+%3Fmetric+%28COUNT%28DISTINCT+%3Fsmall_molecule_no_map_to_chebi%29+AS+%3Fcount%29%0A++++++++WHERE+%7B%0A++++++++++++BIND%28%22Smnomapping%22+AS+%3Fmetric%29%0A++++++++++++%3Fsmall_molecule_no_map_to_chebi+rdf%3Atype/%28rdfs%3AsubClassOf%2A%29+bp3%3ASmallMolecule+.%0A++++++++++++%3Fsmall_molecule_no_map_to_chebi+bp3%3AentityReference+%3Fsmall_molecule_ref+.%0A++++++++++++FILTER+NOT+EXISTS+%7B%0A++++++++++++++++%3Fsmall_molecule_ref+bp3%3Axref+%3Fxref+.%0A++++++++++++++++%3Fxref+rdf%3Atype+bp3%3AUnificationXref+.%0A++++++++++++++++%3Fxref+bp3%3Adb+%22chebi%22+.%0A++++++++++++++++%3Fxref+bp3%3Aid+%3Fchebi_id+.%0A++++++++++++%7D%0A++++++++%7D%0A++++++++GROUP+BY+%3Fmetric%0A++++%7D%0A++++UNION+%0A++++%7B%0A++++++++SELECT+%3Fmetric+%28COUNT%28DISTINCT+%3Fchebi_id%29+AS+%3Fcount%29%0A++++++++WHERE+%7B%0A++++++++++++BIND%28%22Unique+ChEBI%22+AS+%3Fmetric%29%0A++++++++++++%3Funif_xref+rdf%3Atype+bp3%3AUnificationXref+.%0A++++++++++++%3Funif_xref+bp3%3Adb+%22chebi%22+.%0A++++++++++++%3Funif_xref+bp3%3Aid+%3Fchebi_id+.%0A++++++++%7D%0A++++++++GROUP+BY+%3Fmetric%0A++++%7D%0A%7D%0AORDER+BY+%3Fmetric%0A%0A&format=csv&output=csv&results=csv\n",
      "09:34:06 INFO  Fuseki          :: [2] Query =  PREFIX rdf: <http://www.w3.org/1999/02/22-rdf-syntax-ns#> PREFIX rdfs:<http://www.w3.org/2000/01/rdf-schema#> PREFIX owl: <http://www.w3.org/2002/07/owl#> PREFIX xsd: <http://www.w3.org/2001/XMLSchema#> PREFIX dc: <http://purl.org/dc/elements/1.1/> PREFIX dcterms: <http://purl.org/dc/terms/>  PREFIX chebi: <http://purl.obolibrary.org/obo/chebi/> PREFIX chebidb: <http://purl.obolibrary.org/obo/CHEBI_> PREFIX chebirel: <http://purl.obolibrary.org/obo/CHEBI#> PREFIX oboInOwl: <http://www.geneontology.org/formats/oboInOwl#>  PREFIX bp3: <http://www.biopax.org/release/biopax-level3.owl#>  # Homo_sapiens-20170221.owl #PREFIX reactome: <http://www.reactome.org/biopax/59/48887#>  # # Homo_sapiens-20210608.owl #PREFIX reactome: <http://www.reactome.org/biopax/77/48887#> # # Homo_sapiens-20220614.owl #PREFIX reactome: <http://www.reactome.org/biopax/81/48887#> # # Homo_sapiens-20221130.owl #PREFIX reactome: <http://www.reactome.org/biopax/83/48887#>  PREFIX reactome: <http://www.reactome.org/biopax/87/48887#>  SELECT ?metric ?count # Number of instances of SmallMolecule WHERE {     {         SELECT ?metric (COUNT(DISTINCT ?small_molecule) AS ?count)         WHERE {             BIND(\"SmallMolecule\" AS ?metric)             ?small_molecule rdf:type/(rdfs:subClassOf*) bp3:SmallMolecule .         }         GROUP BY ?metric     }     UNION     {         SELECT ?metric (COUNT(DISTINCT ?small_molecule_ref) AS ?count)         WHERE {             BIND(\"SmallMoleculeReference\" AS ?metric)             ?small_molecule_ref rdf:type bp3:SmallMoleculeReference .         }         GROUP BY ?metric     }     UNION     {         SELECT ?metric (COUNT(DISTINCT ?small_molecule_without_ref) AS ?count)         WHERE {             BIND(\"noSMR\" AS ?metric)             OPTIONAL {             ?small_molecule_without_ref rdf:type/(rdfs:subClassOf*) bp3:SmallMolecule .             FILTER NOT EXISTS {                 ?small_molecule_without_ref bp3:entityReference ?ref .                 ?ref rdf:type bp3:SmallMoleculeReference .             }             }         }         GROUP BY ?metric     }     UNION     {         SELECT ?metric (COUNT(DISTINCT ?small_molecule_that_map_to_chebi) AS ?count)         WHERE {             BIND(\"ChEBI mappings\" AS ?metric)             ?small_molecule_that_map_to_chebi rdf:type bp3:SmallMolecule .             ?small_molecule_that_map_to_chebi bp3:entityReference ?small_molecule_ref .             ?small_molecule_ref rdf:type bp3:SmallMoleculeReference .             ?small_molecule_ref bp3:xref ?small_molecule_ref_xref .             ?small_molecule_ref_xref rdf:type bp3:UnificationXref .             ?small_molecule_ref_xref bp3:db \"chebi\" .             ?small_molecule_ref_xref bp3:id ?chebi_id .         }         GROUP BY ?metric     }     UNION      {         SELECT ?metric (COUNT(DISTINCT ?small_molecule_no_map_to_chebi) AS ?count)         WHERE {             BIND(\"Smnomapping\" AS ?metric)             ?small_molecule_no_map_to_chebi rdf:type/(rdfs:subClassOf*) bp3:SmallMolecule .             ?small_molecule_no_map_to_chebi bp3:entityReference ?small_molecule_ref .             FILTER NOT EXISTS {                 ?small_molecule_ref bp3:xref ?xref .                 ?xref rdf:type bp3:UnificationXref .                 ?xref bp3:db \"chebi\" .                 ?xref bp3:id ?chebi_id .             }         }         GROUP BY ?metric     }     UNION      {         SELECT ?metric (COUNT(DISTINCT ?chebi_id) AS ?count)         WHERE {             BIND(\"Unique ChEBI\" AS ?metric)             ?unif_xref rdf:type bp3:UnificationXref .             ?unif_xref bp3:db \"chebi\" .             ?unif_xref bp3:id ?chebi_id .         }         GROUP BY ?metric     } } ORDER BY ?metric  \n",
      "09:34:06 INFO  Fuseki          :: [2] 200 OK (141 ms)\n"
     ]
    }
   ],
   "source": [
    "# TODO: change path\n",
    "command = [\n",
    "    '/home/cbeust/Softwares/JenaFuseki/apache-jena-fuseki-4.9.0/fuseki-server',\n",
    "    '--file', '/home/cbeust/Projects/2024/BioPAX_Review/Compare_BioPAX_Files/PathwayCommonsFiles/PathwayCommons12.pathbank.BIOPAX.owl',\n",
    "    '--file', '/home/cbeust/Projects/2024/BioPAX_Review/BioPAX_Ontology/biopax-level3.owl',\n",
    "    '/pathbank_pc']\n",
    "process = subprocess.Popen(command)\n",
    "time.sleep(60)\n",
    "\n",
    "# execute SPARQL query\n",
    "sparql = SPARQLWrapper(endpointURL_pathbank_pc)\n",
    "sparql.setQuery(prefixes+query2)\n",
    "\n",
    "# display results\n",
    "sparql.setReturnFormat(JSON)\n",
    "results = sparql.query().convert()\n",
    "displaySparqlResults(results)\n",
    "\n",
    "# export results to CSV\n",
    "sparql.setReturnFormat(CSV)\n",
    "results = sparql.query().convert()\n",
    "with open(\"../Results/pathbank_pc_mappings_chebi.csv\", \"wb\") as f:\n",
    "    f.write(results)\n",
    "\n",
    "# end process\n",
    "process.kill()\n",
    "time.sleep(60)"
   ]
  },
  {
   "cell_type": "markdown",
   "metadata": {},
   "source": [
    "#### Query on BioPAX export of HumanCyc from PathwayCommons"
   ]
  },
  {
   "cell_type": "code",
   "execution_count": 10,
   "metadata": {},
   "outputs": [
    {
     "name": "stderr",
     "output_type": "stream",
     "text": [
      "09:35:07 INFO  Server          :: Dataset: in-memory: load file: /home/cbeust/Projects/2024/BioPAX_Review/Compare_BioPAX_Files/PathwayCommonsFiles/PathwayCommons12.humancyc.BIOPAX.owl\n",
      "09:35:09 WARN  riot            :: [line: 108021, col: 73] {W137} Input is large. Switching off checking for illegal reuse of rdf:ID's.\n",
      "09:35:12 INFO  Server          :: Dataset: in-memory: load file: /home/cbeust/Projects/2024/BioPAX_Review/BioPAX_Ontology/biopax-level3.owl\n",
      "09:35:12 INFO  Server          :: Running in read-only mode for /humancyc_pc\n",
      "09:35:12 INFO  Server          :: Apache Jena Fuseki 4.9.0\n",
      "09:35:12 INFO  Config          :: FUSEKI_HOME=/home/cbeust/Softwares/JenaFuseki/apache-jena-fuseki-4.9.0\n",
      "09:35:12 INFO  Config          :: FUSEKI_BASE=/home/cbeust/Projects/2024/BioPAX_Review/BioPAXReview2024Codes/Figure4-5/Scripts/run\n",
      "09:35:12 INFO  Config          :: Shiro file: file:///home/cbeust/Projects/2024/BioPAX_Review/BioPAXReview2024Codes/Figure4-5/Scripts/run/shiro.ini\n",
      "09:35:12 INFO  Server          :: Database: in-memory, with files loaded\n",
      "09:35:12 INFO  Server          :: Path = /humancyc_pc\n",
      "09:35:12 INFO  Server          ::   Memory: 16.0 GiB\n",
      "09:35:12 INFO  Server          ::   Java:   17.0.11\n",
      "09:35:12 INFO  Server          ::   OS:     Linux 6.8.9-100.fc38.x86_64 amd64\n",
      "09:35:12 INFO  Server          ::   PID:    16111\n",
      "09:35:12 INFO  Server          :: Started 2024/07/30 09:35:12 CEST on port 3030\n",
      "09:36:07 INFO  Fuseki          :: [1] GET http://localhost:3030/humancyc_pc/query?query=%0APREFIX+rdf%3A+%3Chttp%3A//www.w3.org/1999/02/22-rdf-syntax-ns%23%3E%0APREFIX+rdfs%3A%3Chttp%3A//www.w3.org/2000/01/rdf-schema%23%3E%0APREFIX+owl%3A+%3Chttp%3A//www.w3.org/2002/07/owl%23%3E%0APREFIX+xsd%3A+%3Chttp%3A//www.w3.org/2001/XMLSchema%23%3E%0APREFIX+dc%3A+%3Chttp%3A//purl.org/dc/elements/1.1/%3E%0APREFIX+dcterms%3A+%3Chttp%3A//purl.org/dc/terms/%3E%0A%0APREFIX+chebi%3A+%3Chttp%3A//purl.obolibrary.org/obo/chebi/%3E%0APREFIX+chebidb%3A+%3Chttp%3A//purl.obolibrary.org/obo/CHEBI_%3E%0APREFIX+chebirel%3A+%3Chttp%3A//purl.obolibrary.org/obo/CHEBI%23%3E%0APREFIX+oboInOwl%3A+%3Chttp%3A//www.geneontology.org/formats/oboInOwl%23%3E%0A%0APREFIX+bp3%3A+%3Chttp%3A//www.biopax.org/release/biopax-level3.owl%23%3E%0A%0A%23+Homo_sapiens-20170221.owl%0A%23PREFIX+reactome%3A+%3Chttp%3A//www.reactome.org/biopax/59/48887%23%3E+%0A%23%0A%23+Homo_sapiens-20210608.owl%0A%23PREFIX+reactome%3A+%3Chttp%3A//www.reactome.org/biopax/77/48887%23%3E%0A%23%0A%23+Homo_sapiens-20220614.owl%0A%23PREFIX+reactome%3A+%3Chttp%3A//www.reactome.org/biopax/81/48887%23%3E%0A%23%0A%23+Homo_sapiens-20221130.owl%0A%23PREFIX+reactome%3A+%3Chttp%3A//www.reactome.org/biopax/83/48887%23%3E%0A%0APREFIX+reactome%3A+%3Chttp%3A//www.reactome.org/biopax/87/48887%23%3E%0A%0ASELECT+%3Fmetric+%3Fcount%0A%23+Number+of+instances+of+SmallMolecule%0AWHERE+%7B%0A++++%7B%0A++++++++SELECT+%3Fmetric+%28COUNT%28DISTINCT+%3Fsmall_molecule%29+AS+%3Fcount%29%0A++++++++WHERE+%7B%0A++++++++++++BIND%28%22SmallMolecule%22+AS+%3Fmetric%29%0A++++++++++++%3Fsmall_molecule+rdf%3Atype/%28rdfs%3AsubClassOf%2A%29+bp3%3ASmallMolecule+.%0A++++++++%7D%0A++++++++GROUP+BY+%3Fmetric%0A++++%7D%0A++++UNION%0A++++%7B%0A++++++++SELECT+%3Fmetric+%28COUNT%28DISTINCT+%3Fsmall_molecule_ref%29+AS+%3Fcount%29%0A++++++++WHERE+%7B%0A++++++++++++BIND%28%22SmallMoleculeReference%22+AS+%3Fmetric%29%0A++++++++++++%3Fsmall_molecule_ref+rdf%3Atype+bp3%3ASmallMoleculeReference+.%0A++++++++%7D%0A++++++++GROUP+BY+%3Fmetric%0A++++%7D%0A++++UNION%0A++++%7B%0A++++++++SELECT+%3Fmetric+%28COUNT%28DISTINCT+%3Fsmall_molecule_without_ref%29+AS+%3Fcount%29%0A++++++++WHERE+%7B%0A++++++++++++BIND%28%22noSMR%22+AS+%3Fmetric%29%0A++++++++++++OPTIONAL+%7B%0A++++++++++++%3Fsmall_molecule_without_ref+rdf%3Atype/%28rdfs%3AsubClassOf%2A%29+bp3%3ASmallMolecule+.%0A++++++++++++FILTER+NOT+EXISTS+%7B%0A++++++++++++++++%3Fsmall_molecule_without_ref+bp3%3AentityReference+%3Fref+.%0A++++++++++++++++%3Fref+rdf%3Atype+bp3%3ASmallMoleculeReference+.%0A++++++++++++%7D%0A++++++++++++%7D%0A++++++++%7D%0A++++++++GROUP+BY+%3Fmetric%0A++++%7D%0A++++UNION%0A++++%7B%0A++++++++SELECT+%3Fmetric+%28COUNT%28DISTINCT+%3Fsmall_molecule_that_map_to_chebi%29+AS+%3Fcount%29%0A++++++++WHERE+%7B%0A++++++++++++BIND%28%22ChEBI+mappings%22+AS+%3Fmetric%29%0A++++++++++++%3Fsmall_molecule_that_map_to_chebi+rdf%3Atype+bp3%3ASmallMolecule+.%0A++++++++++++%3Fsmall_molecule_that_map_to_chebi+bp3%3AentityReference+%3Fsmall_molecule_ref+.%0A++++++++++++%3Fsmall_molecule_ref+rdf%3Atype+bp3%3ASmallMoleculeReference+.%0A++++++++++++%3Fsmall_molecule_ref+bp3%3Axref+%3Fsmall_molecule_ref_xref+.%0A++++++++++++%3Fsmall_molecule_ref_xref+rdf%3Atype+bp3%3AUnificationXref+.%0A++++++++++++%3Fsmall_molecule_ref_xref+bp3%3Adb+%22chebi%22+.%0A++++++++++++%3Fsmall_molecule_ref_xref+bp3%3Aid+%3Fchebi_id+.%0A++++++++%7D%0A++++++++GROUP+BY+%3Fmetric%0A++++%7D%0A++++UNION+%0A++++%7B%0A++++++++SELECT+%3Fmetric+%28COUNT%28DISTINCT+%3Fsmall_molecule_no_map_to_chebi%29+AS+%3Fcount%29%0A++++++++WHERE+%7B%0A++++++++++++BIND%28%22Smnomapping%22+AS+%3Fmetric%29%0A++++++++++++%3Fsmall_molecule_no_map_to_chebi+rdf%3Atype/%28rdfs%3AsubClassOf%2A%29+bp3%3ASmallMolecule+.%0A++++++++++++%3Fsmall_molecule_no_map_to_chebi+bp3%3AentityReference+%3Fsmall_molecule_ref+.%0A++++++++++++FILTER+NOT+EXISTS+%7B%0A++++++++++++++++%3Fsmall_molecule_ref+bp3%3Axref+%3Fxref+.%0A++++++++++++++++%3Fxref+rdf%3Atype+bp3%3AUnificationXref+.%0A++++++++++++++++%3Fxref+bp3%3Adb+%22chebi%22+.%0A++++++++++++++++%3Fxref+bp3%3Aid+%3Fchebi_id+.%0A++++++++++++%7D%0A++++++++%7D%0A++++++++GROUP+BY+%3Fmetric%0A++++%7D%0A++++UNION+%0A++++%7B%0A++++++++SELECT+%3Fmetric+%28COUNT%28DISTINCT+%3Fchebi_id%29+AS+%3Fcount%29%0A++++++++WHERE+%7B%0A++++++++++++BIND%28%22Unique+ChEBI%22+AS+%3Fmetric%29%0A++++++++++++%3Funif_xref+rdf%3Atype+bp3%3AUnificationXref+.%0A++++++++++++%3Funif_xref+bp3%3Adb+%22chebi%22+.%0A++++++++++++%3Funif_xref+bp3%3Aid+%3Fchebi_id+.%0A++++++++%7D%0A++++++++GROUP+BY+%3Fmetric%0A++++%7D%0A%7D%0AORDER+BY+%3Fmetric%0A%0A&format=json&output=json&results=json\n",
      "09:36:07 INFO  Fuseki          :: [1] Query =  PREFIX rdf: <http://www.w3.org/1999/02/22-rdf-syntax-ns#> PREFIX rdfs:<http://www.w3.org/2000/01/rdf-schema#> PREFIX owl: <http://www.w3.org/2002/07/owl#> PREFIX xsd: <http://www.w3.org/2001/XMLSchema#> PREFIX dc: <http://purl.org/dc/elements/1.1/> PREFIX dcterms: <http://purl.org/dc/terms/>  PREFIX chebi: <http://purl.obolibrary.org/obo/chebi/> PREFIX chebidb: <http://purl.obolibrary.org/obo/CHEBI_> PREFIX chebirel: <http://purl.obolibrary.org/obo/CHEBI#> PREFIX oboInOwl: <http://www.geneontology.org/formats/oboInOwl#>  PREFIX bp3: <http://www.biopax.org/release/biopax-level3.owl#>  # Homo_sapiens-20170221.owl #PREFIX reactome: <http://www.reactome.org/biopax/59/48887#>  # # Homo_sapiens-20210608.owl #PREFIX reactome: <http://www.reactome.org/biopax/77/48887#> # # Homo_sapiens-20220614.owl #PREFIX reactome: <http://www.reactome.org/biopax/81/48887#> # # Homo_sapiens-20221130.owl #PREFIX reactome: <http://www.reactome.org/biopax/83/48887#>  PREFIX reactome: <http://www.reactome.org/biopax/87/48887#>  SELECT ?metric ?count # Number of instances of SmallMolecule WHERE {     {         SELECT ?metric (COUNT(DISTINCT ?small_molecule) AS ?count)         WHERE {             BIND(\"SmallMolecule\" AS ?metric)             ?small_molecule rdf:type/(rdfs:subClassOf*) bp3:SmallMolecule .         }         GROUP BY ?metric     }     UNION     {         SELECT ?metric (COUNT(DISTINCT ?small_molecule_ref) AS ?count)         WHERE {             BIND(\"SmallMoleculeReference\" AS ?metric)             ?small_molecule_ref rdf:type bp3:SmallMoleculeReference .         }         GROUP BY ?metric     }     UNION     {         SELECT ?metric (COUNT(DISTINCT ?small_molecule_without_ref) AS ?count)         WHERE {             BIND(\"noSMR\" AS ?metric)             OPTIONAL {             ?small_molecule_without_ref rdf:type/(rdfs:subClassOf*) bp3:SmallMolecule .             FILTER NOT EXISTS {                 ?small_molecule_without_ref bp3:entityReference ?ref .                 ?ref rdf:type bp3:SmallMoleculeReference .             }             }         }         GROUP BY ?metric     }     UNION     {         SELECT ?metric (COUNT(DISTINCT ?small_molecule_that_map_to_chebi) AS ?count)         WHERE {             BIND(\"ChEBI mappings\" AS ?metric)             ?small_molecule_that_map_to_chebi rdf:type bp3:SmallMolecule .             ?small_molecule_that_map_to_chebi bp3:entityReference ?small_molecule_ref .             ?small_molecule_ref rdf:type bp3:SmallMoleculeReference .             ?small_molecule_ref bp3:xref ?small_molecule_ref_xref .             ?small_molecule_ref_xref rdf:type bp3:UnificationXref .             ?small_molecule_ref_xref bp3:db \"chebi\" .             ?small_molecule_ref_xref bp3:id ?chebi_id .         }         GROUP BY ?metric     }     UNION      {         SELECT ?metric (COUNT(DISTINCT ?small_molecule_no_map_to_chebi) AS ?count)         WHERE {             BIND(\"Smnomapping\" AS ?metric)             ?small_molecule_no_map_to_chebi rdf:type/(rdfs:subClassOf*) bp3:SmallMolecule .             ?small_molecule_no_map_to_chebi bp3:entityReference ?small_molecule_ref .             FILTER NOT EXISTS {                 ?small_molecule_ref bp3:xref ?xref .                 ?xref rdf:type bp3:UnificationXref .                 ?xref bp3:db \"chebi\" .                 ?xref bp3:id ?chebi_id .             }         }         GROUP BY ?metric     }     UNION      {         SELECT ?metric (COUNT(DISTINCT ?chebi_id) AS ?count)         WHERE {             BIND(\"Unique ChEBI\" AS ?metric)             ?unif_xref rdf:type bp3:UnificationXref .             ?unif_xref bp3:db \"chebi\" .             ?unif_xref bp3:id ?chebi_id .         }         GROUP BY ?metric     } } ORDER BY ?metric  \n",
      "09:36:07 INFO  Fuseki          :: [1] 200 OK (430 ms)\n"
     ]
    },
    {
     "data": {
      "text/html": [
       "<table><tr><th>metric</th><th>count</th></tr><tr><td>ChEBI mappings</td><td>1705</td></tr><tr><td>SmallMolecule</td><td>2174</td></tr><tr><td>SmallMoleculeReference</td><td>1925</td></tr><tr><td>Smnomapping</td><td>469</td></tr><tr><td>Unique ChEBI</td><td>1473</td></tr><tr><td>noSMR</td><td>0</td></tr></table>"
      ],
      "text/plain": [
       "<IPython.core.display.HTML object>"
      ]
     },
     "metadata": {},
     "output_type": "display_data"
    },
    {
     "name": "stderr",
     "output_type": "stream",
     "text": [
      "09:36:07 INFO  Fuseki          :: [2] GET http://localhost:3030/humancyc_pc/query?query=%0APREFIX+rdf%3A+%3Chttp%3A//www.w3.org/1999/02/22-rdf-syntax-ns%23%3E%0APREFIX+rdfs%3A%3Chttp%3A//www.w3.org/2000/01/rdf-schema%23%3E%0APREFIX+owl%3A+%3Chttp%3A//www.w3.org/2002/07/owl%23%3E%0APREFIX+xsd%3A+%3Chttp%3A//www.w3.org/2001/XMLSchema%23%3E%0APREFIX+dc%3A+%3Chttp%3A//purl.org/dc/elements/1.1/%3E%0APREFIX+dcterms%3A+%3Chttp%3A//purl.org/dc/terms/%3E%0A%0APREFIX+chebi%3A+%3Chttp%3A//purl.obolibrary.org/obo/chebi/%3E%0APREFIX+chebidb%3A+%3Chttp%3A//purl.obolibrary.org/obo/CHEBI_%3E%0APREFIX+chebirel%3A+%3Chttp%3A//purl.obolibrary.org/obo/CHEBI%23%3E%0APREFIX+oboInOwl%3A+%3Chttp%3A//www.geneontology.org/formats/oboInOwl%23%3E%0A%0APREFIX+bp3%3A+%3Chttp%3A//www.biopax.org/release/biopax-level3.owl%23%3E%0A%0A%23+Homo_sapiens-20170221.owl%0A%23PREFIX+reactome%3A+%3Chttp%3A//www.reactome.org/biopax/59/48887%23%3E+%0A%23%0A%23+Homo_sapiens-20210608.owl%0A%23PREFIX+reactome%3A+%3Chttp%3A//www.reactome.org/biopax/77/48887%23%3E%0A%23%0A%23+Homo_sapiens-20220614.owl%0A%23PREFIX+reactome%3A+%3Chttp%3A//www.reactome.org/biopax/81/48887%23%3E%0A%23%0A%23+Homo_sapiens-20221130.owl%0A%23PREFIX+reactome%3A+%3Chttp%3A//www.reactome.org/biopax/83/48887%23%3E%0A%0APREFIX+reactome%3A+%3Chttp%3A//www.reactome.org/biopax/87/48887%23%3E%0A%0ASELECT+%3Fmetric+%3Fcount%0A%23+Number+of+instances+of+SmallMolecule%0AWHERE+%7B%0A++++%7B%0A++++++++SELECT+%3Fmetric+%28COUNT%28DISTINCT+%3Fsmall_molecule%29+AS+%3Fcount%29%0A++++++++WHERE+%7B%0A++++++++++++BIND%28%22SmallMolecule%22+AS+%3Fmetric%29%0A++++++++++++%3Fsmall_molecule+rdf%3Atype/%28rdfs%3AsubClassOf%2A%29+bp3%3ASmallMolecule+.%0A++++++++%7D%0A++++++++GROUP+BY+%3Fmetric%0A++++%7D%0A++++UNION%0A++++%7B%0A++++++++SELECT+%3Fmetric+%28COUNT%28DISTINCT+%3Fsmall_molecule_ref%29+AS+%3Fcount%29%0A++++++++WHERE+%7B%0A++++++++++++BIND%28%22SmallMoleculeReference%22+AS+%3Fmetric%29%0A++++++++++++%3Fsmall_molecule_ref+rdf%3Atype+bp3%3ASmallMoleculeReference+.%0A++++++++%7D%0A++++++++GROUP+BY+%3Fmetric%0A++++%7D%0A++++UNION%0A++++%7B%0A++++++++SELECT+%3Fmetric+%28COUNT%28DISTINCT+%3Fsmall_molecule_without_ref%29+AS+%3Fcount%29%0A++++++++WHERE+%7B%0A++++++++++++BIND%28%22noSMR%22+AS+%3Fmetric%29%0A++++++++++++OPTIONAL+%7B%0A++++++++++++%3Fsmall_molecule_without_ref+rdf%3Atype/%28rdfs%3AsubClassOf%2A%29+bp3%3ASmallMolecule+.%0A++++++++++++FILTER+NOT+EXISTS+%7B%0A++++++++++++++++%3Fsmall_molecule_without_ref+bp3%3AentityReference+%3Fref+.%0A++++++++++++++++%3Fref+rdf%3Atype+bp3%3ASmallMoleculeReference+.%0A++++++++++++%7D%0A++++++++++++%7D%0A++++++++%7D%0A++++++++GROUP+BY+%3Fmetric%0A++++%7D%0A++++UNION%0A++++%7B%0A++++++++SELECT+%3Fmetric+%28COUNT%28DISTINCT+%3Fsmall_molecule_that_map_to_chebi%29+AS+%3Fcount%29%0A++++++++WHERE+%7B%0A++++++++++++BIND%28%22ChEBI+mappings%22+AS+%3Fmetric%29%0A++++++++++++%3Fsmall_molecule_that_map_to_chebi+rdf%3Atype+bp3%3ASmallMolecule+.%0A++++++++++++%3Fsmall_molecule_that_map_to_chebi+bp3%3AentityReference+%3Fsmall_molecule_ref+.%0A++++++++++++%3Fsmall_molecule_ref+rdf%3Atype+bp3%3ASmallMoleculeReference+.%0A++++++++++++%3Fsmall_molecule_ref+bp3%3Axref+%3Fsmall_molecule_ref_xref+.%0A++++++++++++%3Fsmall_molecule_ref_xref+rdf%3Atype+bp3%3AUnificationXref+.%0A++++++++++++%3Fsmall_molecule_ref_xref+bp3%3Adb+%22chebi%22+.%0A++++++++++++%3Fsmall_molecule_ref_xref+bp3%3Aid+%3Fchebi_id+.%0A++++++++%7D%0A++++++++GROUP+BY+%3Fmetric%0A++++%7D%0A++++UNION+%0A++++%7B%0A++++++++SELECT+%3Fmetric+%28COUNT%28DISTINCT+%3Fsmall_molecule_no_map_to_chebi%29+AS+%3Fcount%29%0A++++++++WHERE+%7B%0A++++++++++++BIND%28%22Smnomapping%22+AS+%3Fmetric%29%0A++++++++++++%3Fsmall_molecule_no_map_to_chebi+rdf%3Atype/%28rdfs%3AsubClassOf%2A%29+bp3%3ASmallMolecule+.%0A++++++++++++%3Fsmall_molecule_no_map_to_chebi+bp3%3AentityReference+%3Fsmall_molecule_ref+.%0A++++++++++++FILTER+NOT+EXISTS+%7B%0A++++++++++++++++%3Fsmall_molecule_ref+bp3%3Axref+%3Fxref+.%0A++++++++++++++++%3Fxref+rdf%3Atype+bp3%3AUnificationXref+.%0A++++++++++++++++%3Fxref+bp3%3Adb+%22chebi%22+.%0A++++++++++++++++%3Fxref+bp3%3Aid+%3Fchebi_id+.%0A++++++++++++%7D%0A++++++++%7D%0A++++++++GROUP+BY+%3Fmetric%0A++++%7D%0A++++UNION+%0A++++%7B%0A++++++++SELECT+%3Fmetric+%28COUNT%28DISTINCT+%3Fchebi_id%29+AS+%3Fcount%29%0A++++++++WHERE+%7B%0A++++++++++++BIND%28%22Unique+ChEBI%22+AS+%3Fmetric%29%0A++++++++++++%3Funif_xref+rdf%3Atype+bp3%3AUnificationXref+.%0A++++++++++++%3Funif_xref+bp3%3Adb+%22chebi%22+.%0A++++++++++++%3Funif_xref+bp3%3Aid+%3Fchebi_id+.%0A++++++++%7D%0A++++++++GROUP+BY+%3Fmetric%0A++++%7D%0A%7D%0AORDER+BY+%3Fmetric%0A%0A&format=csv&output=csv&results=csv\n",
      "09:36:07 INFO  Fuseki          :: [2] Query =  PREFIX rdf: <http://www.w3.org/1999/02/22-rdf-syntax-ns#> PREFIX rdfs:<http://www.w3.org/2000/01/rdf-schema#> PREFIX owl: <http://www.w3.org/2002/07/owl#> PREFIX xsd: <http://www.w3.org/2001/XMLSchema#> PREFIX dc: <http://purl.org/dc/elements/1.1/> PREFIX dcterms: <http://purl.org/dc/terms/>  PREFIX chebi: <http://purl.obolibrary.org/obo/chebi/> PREFIX chebidb: <http://purl.obolibrary.org/obo/CHEBI_> PREFIX chebirel: <http://purl.obolibrary.org/obo/CHEBI#> PREFIX oboInOwl: <http://www.geneontology.org/formats/oboInOwl#>  PREFIX bp3: <http://www.biopax.org/release/biopax-level3.owl#>  # Homo_sapiens-20170221.owl #PREFIX reactome: <http://www.reactome.org/biopax/59/48887#>  # # Homo_sapiens-20210608.owl #PREFIX reactome: <http://www.reactome.org/biopax/77/48887#> # # Homo_sapiens-20220614.owl #PREFIX reactome: <http://www.reactome.org/biopax/81/48887#> # # Homo_sapiens-20221130.owl #PREFIX reactome: <http://www.reactome.org/biopax/83/48887#>  PREFIX reactome: <http://www.reactome.org/biopax/87/48887#>  SELECT ?metric ?count # Number of instances of SmallMolecule WHERE {     {         SELECT ?metric (COUNT(DISTINCT ?small_molecule) AS ?count)         WHERE {             BIND(\"SmallMolecule\" AS ?metric)             ?small_molecule rdf:type/(rdfs:subClassOf*) bp3:SmallMolecule .         }         GROUP BY ?metric     }     UNION     {         SELECT ?metric (COUNT(DISTINCT ?small_molecule_ref) AS ?count)         WHERE {             BIND(\"SmallMoleculeReference\" AS ?metric)             ?small_molecule_ref rdf:type bp3:SmallMoleculeReference .         }         GROUP BY ?metric     }     UNION     {         SELECT ?metric (COUNT(DISTINCT ?small_molecule_without_ref) AS ?count)         WHERE {             BIND(\"noSMR\" AS ?metric)             OPTIONAL {             ?small_molecule_without_ref rdf:type/(rdfs:subClassOf*) bp3:SmallMolecule .             FILTER NOT EXISTS {                 ?small_molecule_without_ref bp3:entityReference ?ref .                 ?ref rdf:type bp3:SmallMoleculeReference .             }             }         }         GROUP BY ?metric     }     UNION     {         SELECT ?metric (COUNT(DISTINCT ?small_molecule_that_map_to_chebi) AS ?count)         WHERE {             BIND(\"ChEBI mappings\" AS ?metric)             ?small_molecule_that_map_to_chebi rdf:type bp3:SmallMolecule .             ?small_molecule_that_map_to_chebi bp3:entityReference ?small_molecule_ref .             ?small_molecule_ref rdf:type bp3:SmallMoleculeReference .             ?small_molecule_ref bp3:xref ?small_molecule_ref_xref .             ?small_molecule_ref_xref rdf:type bp3:UnificationXref .             ?small_molecule_ref_xref bp3:db \"chebi\" .             ?small_molecule_ref_xref bp3:id ?chebi_id .         }         GROUP BY ?metric     }     UNION      {         SELECT ?metric (COUNT(DISTINCT ?small_molecule_no_map_to_chebi) AS ?count)         WHERE {             BIND(\"Smnomapping\" AS ?metric)             ?small_molecule_no_map_to_chebi rdf:type/(rdfs:subClassOf*) bp3:SmallMolecule .             ?small_molecule_no_map_to_chebi bp3:entityReference ?small_molecule_ref .             FILTER NOT EXISTS {                 ?small_molecule_ref bp3:xref ?xref .                 ?xref rdf:type bp3:UnificationXref .                 ?xref bp3:db \"chebi\" .                 ?xref bp3:id ?chebi_id .             }         }         GROUP BY ?metric     }     UNION      {         SELECT ?metric (COUNT(DISTINCT ?chebi_id) AS ?count)         WHERE {             BIND(\"Unique ChEBI\" AS ?metric)             ?unif_xref rdf:type bp3:UnificationXref .             ?unif_xref bp3:db \"chebi\" .             ?unif_xref bp3:id ?chebi_id .         }         GROUP BY ?metric     } } ORDER BY ?metric  \n",
      "09:36:07 INFO  Fuseki          :: [2] 200 OK (143 ms)\n"
     ]
    }
   ],
   "source": [
    "# TODO: change path\n",
    "command = [\n",
    "    '/home/cbeust/Softwares/JenaFuseki/apache-jena-fuseki-4.9.0/fuseki-server',\n",
    "    '--file', '/home/cbeust/Projects/2024/BioPAX_Review/Compare_BioPAX_Files/PathwayCommonsFiles/PathwayCommons12.humancyc.BIOPAX.owl',\n",
    "    '--file', '/home/cbeust/Projects/2024/BioPAX_Review/BioPAX_Ontology/biopax-level3.owl',\n",
    "    '/humancyc_pc']\n",
    "process = subprocess.Popen(command)\n",
    "time.sleep(60)\n",
    "\n",
    "# execute SPARQL query\n",
    "sparql = SPARQLWrapper(endpointURL_humancyc_pc)\n",
    "sparql.setQuery(prefixes+query2)\n",
    "\n",
    "# display results\n",
    "sparql.setReturnFormat(JSON)\n",
    "results = sparql.query().convert()\n",
    "displaySparqlResults(results)\n",
    "\n",
    "# export results to CSV\n",
    "sparql.setReturnFormat(CSV)\n",
    "results = sparql.query().convert()\n",
    "with open(\"../Results/humancyc_pc_mappings_chebi.csv\", \"wb\") as f:\n",
    "    f.write(results)\n",
    "\n",
    "# end process\n",
    "process.kill()\n",
    "time.sleep(60)"
   ]
  },
  {
   "cell_type": "markdown",
   "metadata": {},
   "source": [
    "#### Query on BioPAX export of KEGG from PathwayCommons"
   ]
  },
  {
   "cell_type": "code",
   "execution_count": 11,
   "metadata": {},
   "outputs": [
    {
     "name": "stderr",
     "output_type": "stream",
     "text": [
      "09:37:08 INFO  Server          :: Dataset: in-memory: load file: /home/cbeust/Projects/2024/BioPAX_Review/Compare_BioPAX_Files/PathwayCommonsFiles/PathwayCommons12.kegg.BIOPAX.owl\n",
      "09:37:09 WARN  riot            :: [line: 96269, col: 75] {W137} Input is large. Switching off checking for illegal reuse of rdf:ID's.\n",
      "09:37:11 INFO  Server          :: Dataset: in-memory: load file: /home/cbeust/Projects/2024/BioPAX_Review/BioPAX_Ontology/biopax-level3.owl\n",
      "09:37:11 INFO  Server          :: Running in read-only mode for /kegg_pc\n",
      "09:37:11 INFO  Server          :: Apache Jena Fuseki 4.9.0\n",
      "09:37:11 INFO  Config          :: FUSEKI_HOME=/home/cbeust/Softwares/JenaFuseki/apache-jena-fuseki-4.9.0\n",
      "09:37:11 INFO  Config          :: FUSEKI_BASE=/home/cbeust/Projects/2024/BioPAX_Review/BioPAXReview2024Codes/Figure4-5/Scripts/run\n",
      "09:37:11 INFO  Config          :: Shiro file: file:///home/cbeust/Projects/2024/BioPAX_Review/BioPAXReview2024Codes/Figure4-5/Scripts/run/shiro.ini\n",
      "09:37:11 INFO  Server          :: Database: in-memory, with files loaded\n",
      "09:37:11 INFO  Server          :: Path = /kegg_pc\n",
      "09:37:11 INFO  Server          ::   Memory: 16.0 GiB\n",
      "09:37:11 INFO  Server          ::   Java:   17.0.11\n",
      "09:37:11 INFO  Server          ::   OS:     Linux 6.8.9-100.fc38.x86_64 amd64\n",
      "09:37:11 INFO  Server          ::   PID:    16703\n",
      "09:37:11 INFO  Server          :: Started 2024/07/30 09:37:11 CEST on port 3030\n",
      "09:38:07 INFO  Fuseki          :: [1] GET http://localhost:3030/kegg_pc/query?query=%0APREFIX+rdf%3A+%3Chttp%3A//www.w3.org/1999/02/22-rdf-syntax-ns%23%3E%0APREFIX+rdfs%3A%3Chttp%3A//www.w3.org/2000/01/rdf-schema%23%3E%0APREFIX+owl%3A+%3Chttp%3A//www.w3.org/2002/07/owl%23%3E%0APREFIX+xsd%3A+%3Chttp%3A//www.w3.org/2001/XMLSchema%23%3E%0APREFIX+dc%3A+%3Chttp%3A//purl.org/dc/elements/1.1/%3E%0APREFIX+dcterms%3A+%3Chttp%3A//purl.org/dc/terms/%3E%0A%0APREFIX+chebi%3A+%3Chttp%3A//purl.obolibrary.org/obo/chebi/%3E%0APREFIX+chebidb%3A+%3Chttp%3A//purl.obolibrary.org/obo/CHEBI_%3E%0APREFIX+chebirel%3A+%3Chttp%3A//purl.obolibrary.org/obo/CHEBI%23%3E%0APREFIX+oboInOwl%3A+%3Chttp%3A//www.geneontology.org/formats/oboInOwl%23%3E%0A%0APREFIX+bp3%3A+%3Chttp%3A//www.biopax.org/release/biopax-level3.owl%23%3E%0A%0A%23+Homo_sapiens-20170221.owl%0A%23PREFIX+reactome%3A+%3Chttp%3A//www.reactome.org/biopax/59/48887%23%3E+%0A%23%0A%23+Homo_sapiens-20210608.owl%0A%23PREFIX+reactome%3A+%3Chttp%3A//www.reactome.org/biopax/77/48887%23%3E%0A%23%0A%23+Homo_sapiens-20220614.owl%0A%23PREFIX+reactome%3A+%3Chttp%3A//www.reactome.org/biopax/81/48887%23%3E%0A%23%0A%23+Homo_sapiens-20221130.owl%0A%23PREFIX+reactome%3A+%3Chttp%3A//www.reactome.org/biopax/83/48887%23%3E%0A%0APREFIX+reactome%3A+%3Chttp%3A//www.reactome.org/biopax/87/48887%23%3E%0A%0ASELECT+%3Fmetric+%3Fcount%0A%23+Number+of+instances+of+SmallMolecule%0AWHERE+%7B%0A++++%7B%0A++++++++SELECT+%3Fmetric+%28COUNT%28DISTINCT+%3Fsmall_molecule%29+AS+%3Fcount%29%0A++++++++WHERE+%7B%0A++++++++++++BIND%28%22SmallMolecule%22+AS+%3Fmetric%29%0A++++++++++++%3Fsmall_molecule+rdf%3Atype/%28rdfs%3AsubClassOf%2A%29+bp3%3ASmallMolecule+.%0A++++++++%7D%0A++++++++GROUP+BY+%3Fmetric%0A++++%7D%0A++++UNION%0A++++%7B%0A++++++++SELECT+%3Fmetric+%28COUNT%28DISTINCT+%3Fsmall_molecule_ref%29+AS+%3Fcount%29%0A++++++++WHERE+%7B%0A++++++++++++BIND%28%22SmallMoleculeReference%22+AS+%3Fmetric%29%0A++++++++++++%3Fsmall_molecule_ref+rdf%3Atype+bp3%3ASmallMoleculeReference+.%0A++++++++%7D%0A++++++++GROUP+BY+%3Fmetric%0A++++%7D%0A++++UNION%0A++++%7B%0A++++++++SELECT+%3Fmetric+%28COUNT%28DISTINCT+%3Fsmall_molecule_without_ref%29+AS+%3Fcount%29%0A++++++++WHERE+%7B%0A++++++++++++BIND%28%22noSMR%22+AS+%3Fmetric%29%0A++++++++++++OPTIONAL+%7B%0A++++++++++++%3Fsmall_molecule_without_ref+rdf%3Atype/%28rdfs%3AsubClassOf%2A%29+bp3%3ASmallMolecule+.%0A++++++++++++FILTER+NOT+EXISTS+%7B%0A++++++++++++++++%3Fsmall_molecule_without_ref+bp3%3AentityReference+%3Fref+.%0A++++++++++++++++%3Fref+rdf%3Atype+bp3%3ASmallMoleculeReference+.%0A++++++++++++%7D%0A++++++++++++%7D%0A++++++++%7D%0A++++++++GROUP+BY+%3Fmetric%0A++++%7D%0A++++UNION%0A++++%7B%0A++++++++SELECT+%3Fmetric+%28COUNT%28DISTINCT+%3Fsmall_molecule_that_map_to_chebi%29+AS+%3Fcount%29%0A++++++++WHERE+%7B%0A++++++++++++BIND%28%22ChEBI+mappings%22+AS+%3Fmetric%29%0A++++++++++++%3Fsmall_molecule_that_map_to_chebi+rdf%3Atype+bp3%3ASmallMolecule+.%0A++++++++++++%3Fsmall_molecule_that_map_to_chebi+bp3%3AentityReference+%3Fsmall_molecule_ref+.%0A++++++++++++%3Fsmall_molecule_ref+rdf%3Atype+bp3%3ASmallMoleculeReference+.%0A++++++++++++%3Fsmall_molecule_ref+bp3%3Axref+%3Fsmall_molecule_ref_xref+.%0A++++++++++++%3Fsmall_molecule_ref_xref+rdf%3Atype+bp3%3AUnificationXref+.%0A++++++++++++%3Fsmall_molecule_ref_xref+bp3%3Adb+%22chebi%22+.%0A++++++++++++%3Fsmall_molecule_ref_xref+bp3%3Aid+%3Fchebi_id+.%0A++++++++%7D%0A++++++++GROUP+BY+%3Fmetric%0A++++%7D%0A++++UNION+%0A++++%7B%0A++++++++SELECT+%3Fmetric+%28COUNT%28DISTINCT+%3Fsmall_molecule_no_map_to_chebi%29+AS+%3Fcount%29%0A++++++++WHERE+%7B%0A++++++++++++BIND%28%22Smnomapping%22+AS+%3Fmetric%29%0A++++++++++++%3Fsmall_molecule_no_map_to_chebi+rdf%3Atype/%28rdfs%3AsubClassOf%2A%29+bp3%3ASmallMolecule+.%0A++++++++++++%3Fsmall_molecule_no_map_to_chebi+bp3%3AentityReference+%3Fsmall_molecule_ref+.%0A++++++++++++FILTER+NOT+EXISTS+%7B%0A++++++++++++++++%3Fsmall_molecule_ref+bp3%3Axref+%3Fxref+.%0A++++++++++++++++%3Fxref+rdf%3Atype+bp3%3AUnificationXref+.%0A++++++++++++++++%3Fxref+bp3%3Adb+%22chebi%22+.%0A++++++++++++++++%3Fxref+bp3%3Aid+%3Fchebi_id+.%0A++++++++++++%7D%0A++++++++%7D%0A++++++++GROUP+BY+%3Fmetric%0A++++%7D%0A++++UNION+%0A++++%7B%0A++++++++SELECT+%3Fmetric+%28COUNT%28DISTINCT+%3Fchebi_id%29+AS+%3Fcount%29%0A++++++++WHERE+%7B%0A++++++++++++BIND%28%22Unique+ChEBI%22+AS+%3Fmetric%29%0A++++++++++++%3Funif_xref+rdf%3Atype+bp3%3AUnificationXref+.%0A++++++++++++%3Funif_xref+bp3%3Adb+%22chebi%22+.%0A++++++++++++%3Funif_xref+bp3%3Aid+%3Fchebi_id+.%0A++++++++%7D%0A++++++++GROUP+BY+%3Fmetric%0A++++%7D%0A%7D%0AORDER+BY+%3Fmetric%0A%0A&format=json&output=json&results=json\n",
      "09:38:07 INFO  Fuseki          :: [1] Query =  PREFIX rdf: <http://www.w3.org/1999/02/22-rdf-syntax-ns#> PREFIX rdfs:<http://www.w3.org/2000/01/rdf-schema#> PREFIX owl: <http://www.w3.org/2002/07/owl#> PREFIX xsd: <http://www.w3.org/2001/XMLSchema#> PREFIX dc: <http://purl.org/dc/elements/1.1/> PREFIX dcterms: <http://purl.org/dc/terms/>  PREFIX chebi: <http://purl.obolibrary.org/obo/chebi/> PREFIX chebidb: <http://purl.obolibrary.org/obo/CHEBI_> PREFIX chebirel: <http://purl.obolibrary.org/obo/CHEBI#> PREFIX oboInOwl: <http://www.geneontology.org/formats/oboInOwl#>  PREFIX bp3: <http://www.biopax.org/release/biopax-level3.owl#>  # Homo_sapiens-20170221.owl #PREFIX reactome: <http://www.reactome.org/biopax/59/48887#>  # # Homo_sapiens-20210608.owl #PREFIX reactome: <http://www.reactome.org/biopax/77/48887#> # # Homo_sapiens-20220614.owl #PREFIX reactome: <http://www.reactome.org/biopax/81/48887#> # # Homo_sapiens-20221130.owl #PREFIX reactome: <http://www.reactome.org/biopax/83/48887#>  PREFIX reactome: <http://www.reactome.org/biopax/87/48887#>  SELECT ?metric ?count # Number of instances of SmallMolecule WHERE {     {         SELECT ?metric (COUNT(DISTINCT ?small_molecule) AS ?count)         WHERE {             BIND(\"SmallMolecule\" AS ?metric)             ?small_molecule rdf:type/(rdfs:subClassOf*) bp3:SmallMolecule .         }         GROUP BY ?metric     }     UNION     {         SELECT ?metric (COUNT(DISTINCT ?small_molecule_ref) AS ?count)         WHERE {             BIND(\"SmallMoleculeReference\" AS ?metric)             ?small_molecule_ref rdf:type bp3:SmallMoleculeReference .         }         GROUP BY ?metric     }     UNION     {         SELECT ?metric (COUNT(DISTINCT ?small_molecule_without_ref) AS ?count)         WHERE {             BIND(\"noSMR\" AS ?metric)             OPTIONAL {             ?small_molecule_without_ref rdf:type/(rdfs:subClassOf*) bp3:SmallMolecule .             FILTER NOT EXISTS {                 ?small_molecule_without_ref bp3:entityReference ?ref .                 ?ref rdf:type bp3:SmallMoleculeReference .             }             }         }         GROUP BY ?metric     }     UNION     {         SELECT ?metric (COUNT(DISTINCT ?small_molecule_that_map_to_chebi) AS ?count)         WHERE {             BIND(\"ChEBI mappings\" AS ?metric)             ?small_molecule_that_map_to_chebi rdf:type bp3:SmallMolecule .             ?small_molecule_that_map_to_chebi bp3:entityReference ?small_molecule_ref .             ?small_molecule_ref rdf:type bp3:SmallMoleculeReference .             ?small_molecule_ref bp3:xref ?small_molecule_ref_xref .             ?small_molecule_ref_xref rdf:type bp3:UnificationXref .             ?small_molecule_ref_xref bp3:db \"chebi\" .             ?small_molecule_ref_xref bp3:id ?chebi_id .         }         GROUP BY ?metric     }     UNION      {         SELECT ?metric (COUNT(DISTINCT ?small_molecule_no_map_to_chebi) AS ?count)         WHERE {             BIND(\"Smnomapping\" AS ?metric)             ?small_molecule_no_map_to_chebi rdf:type/(rdfs:subClassOf*) bp3:SmallMolecule .             ?small_molecule_no_map_to_chebi bp3:entityReference ?small_molecule_ref .             FILTER NOT EXISTS {                 ?small_molecule_ref bp3:xref ?xref .                 ?xref rdf:type bp3:UnificationXref .                 ?xref bp3:db \"chebi\" .                 ?xref bp3:id ?chebi_id .             }         }         GROUP BY ?metric     }     UNION      {         SELECT ?metric (COUNT(DISTINCT ?chebi_id) AS ?count)         WHERE {             BIND(\"Unique ChEBI\" AS ?metric)             ?unif_xref rdf:type bp3:UnificationXref .             ?unif_xref bp3:db \"chebi\" .             ?unif_xref bp3:id ?chebi_id .         }         GROUP BY ?metric     } } ORDER BY ?metric  \n",
      "09:38:08 INFO  Fuseki          :: [1] 200 OK (355 ms)\n"
     ]
    },
    {
     "data": {
      "text/html": [
       "<table><tr><th>metric</th><th>count</th></tr><tr><td>ChEBI mappings</td><td>1465</td></tr><tr><td>SmallMolecule</td><td>1664</td></tr><tr><td>SmallMoleculeReference</td><td>1644</td></tr><tr><td>Smnomapping</td><td>199</td></tr><tr><td>Unique ChEBI</td><td>1445</td></tr><tr><td>noSMR</td><td>0</td></tr></table>"
      ],
      "text/plain": [
       "<IPython.core.display.HTML object>"
      ]
     },
     "metadata": {},
     "output_type": "display_data"
    },
    {
     "name": "stderr",
     "output_type": "stream",
     "text": [
      "09:38:08 INFO  Fuseki          :: [2] GET http://localhost:3030/kegg_pc/query?query=%0APREFIX+rdf%3A+%3Chttp%3A//www.w3.org/1999/02/22-rdf-syntax-ns%23%3E%0APREFIX+rdfs%3A%3Chttp%3A//www.w3.org/2000/01/rdf-schema%23%3E%0APREFIX+owl%3A+%3Chttp%3A//www.w3.org/2002/07/owl%23%3E%0APREFIX+xsd%3A+%3Chttp%3A//www.w3.org/2001/XMLSchema%23%3E%0APREFIX+dc%3A+%3Chttp%3A//purl.org/dc/elements/1.1/%3E%0APREFIX+dcterms%3A+%3Chttp%3A//purl.org/dc/terms/%3E%0A%0APREFIX+chebi%3A+%3Chttp%3A//purl.obolibrary.org/obo/chebi/%3E%0APREFIX+chebidb%3A+%3Chttp%3A//purl.obolibrary.org/obo/CHEBI_%3E%0APREFIX+chebirel%3A+%3Chttp%3A//purl.obolibrary.org/obo/CHEBI%23%3E%0APREFIX+oboInOwl%3A+%3Chttp%3A//www.geneontology.org/formats/oboInOwl%23%3E%0A%0APREFIX+bp3%3A+%3Chttp%3A//www.biopax.org/release/biopax-level3.owl%23%3E%0A%0A%23+Homo_sapiens-20170221.owl%0A%23PREFIX+reactome%3A+%3Chttp%3A//www.reactome.org/biopax/59/48887%23%3E+%0A%23%0A%23+Homo_sapiens-20210608.owl%0A%23PREFIX+reactome%3A+%3Chttp%3A//www.reactome.org/biopax/77/48887%23%3E%0A%23%0A%23+Homo_sapiens-20220614.owl%0A%23PREFIX+reactome%3A+%3Chttp%3A//www.reactome.org/biopax/81/48887%23%3E%0A%23%0A%23+Homo_sapiens-20221130.owl%0A%23PREFIX+reactome%3A+%3Chttp%3A//www.reactome.org/biopax/83/48887%23%3E%0A%0APREFIX+reactome%3A+%3Chttp%3A//www.reactome.org/biopax/87/48887%23%3E%0A%0ASELECT+%3Fmetric+%3Fcount%0A%23+Number+of+instances+of+SmallMolecule%0AWHERE+%7B%0A++++%7B%0A++++++++SELECT+%3Fmetric+%28COUNT%28DISTINCT+%3Fsmall_molecule%29+AS+%3Fcount%29%0A++++++++WHERE+%7B%0A++++++++++++BIND%28%22SmallMolecule%22+AS+%3Fmetric%29%0A++++++++++++%3Fsmall_molecule+rdf%3Atype/%28rdfs%3AsubClassOf%2A%29+bp3%3ASmallMolecule+.%0A++++++++%7D%0A++++++++GROUP+BY+%3Fmetric%0A++++%7D%0A++++UNION%0A++++%7B%0A++++++++SELECT+%3Fmetric+%28COUNT%28DISTINCT+%3Fsmall_molecule_ref%29+AS+%3Fcount%29%0A++++++++WHERE+%7B%0A++++++++++++BIND%28%22SmallMoleculeReference%22+AS+%3Fmetric%29%0A++++++++++++%3Fsmall_molecule_ref+rdf%3Atype+bp3%3ASmallMoleculeReference+.%0A++++++++%7D%0A++++++++GROUP+BY+%3Fmetric%0A++++%7D%0A++++UNION%0A++++%7B%0A++++++++SELECT+%3Fmetric+%28COUNT%28DISTINCT+%3Fsmall_molecule_without_ref%29+AS+%3Fcount%29%0A++++++++WHERE+%7B%0A++++++++++++BIND%28%22noSMR%22+AS+%3Fmetric%29%0A++++++++++++OPTIONAL+%7B%0A++++++++++++%3Fsmall_molecule_without_ref+rdf%3Atype/%28rdfs%3AsubClassOf%2A%29+bp3%3ASmallMolecule+.%0A++++++++++++FILTER+NOT+EXISTS+%7B%0A++++++++++++++++%3Fsmall_molecule_without_ref+bp3%3AentityReference+%3Fref+.%0A++++++++++++++++%3Fref+rdf%3Atype+bp3%3ASmallMoleculeReference+.%0A++++++++++++%7D%0A++++++++++++%7D%0A++++++++%7D%0A++++++++GROUP+BY+%3Fmetric%0A++++%7D%0A++++UNION%0A++++%7B%0A++++++++SELECT+%3Fmetric+%28COUNT%28DISTINCT+%3Fsmall_molecule_that_map_to_chebi%29+AS+%3Fcount%29%0A++++++++WHERE+%7B%0A++++++++++++BIND%28%22ChEBI+mappings%22+AS+%3Fmetric%29%0A++++++++++++%3Fsmall_molecule_that_map_to_chebi+rdf%3Atype+bp3%3ASmallMolecule+.%0A++++++++++++%3Fsmall_molecule_that_map_to_chebi+bp3%3AentityReference+%3Fsmall_molecule_ref+.%0A++++++++++++%3Fsmall_molecule_ref+rdf%3Atype+bp3%3ASmallMoleculeReference+.%0A++++++++++++%3Fsmall_molecule_ref+bp3%3Axref+%3Fsmall_molecule_ref_xref+.%0A++++++++++++%3Fsmall_molecule_ref_xref+rdf%3Atype+bp3%3AUnificationXref+.%0A++++++++++++%3Fsmall_molecule_ref_xref+bp3%3Adb+%22chebi%22+.%0A++++++++++++%3Fsmall_molecule_ref_xref+bp3%3Aid+%3Fchebi_id+.%0A++++++++%7D%0A++++++++GROUP+BY+%3Fmetric%0A++++%7D%0A++++UNION+%0A++++%7B%0A++++++++SELECT+%3Fmetric+%28COUNT%28DISTINCT+%3Fsmall_molecule_no_map_to_chebi%29+AS+%3Fcount%29%0A++++++++WHERE+%7B%0A++++++++++++BIND%28%22Smnomapping%22+AS+%3Fmetric%29%0A++++++++++++%3Fsmall_molecule_no_map_to_chebi+rdf%3Atype/%28rdfs%3AsubClassOf%2A%29+bp3%3ASmallMolecule+.%0A++++++++++++%3Fsmall_molecule_no_map_to_chebi+bp3%3AentityReference+%3Fsmall_molecule_ref+.%0A++++++++++++FILTER+NOT+EXISTS+%7B%0A++++++++++++++++%3Fsmall_molecule_ref+bp3%3Axref+%3Fxref+.%0A++++++++++++++++%3Fxref+rdf%3Atype+bp3%3AUnificationXref+.%0A++++++++++++++++%3Fxref+bp3%3Adb+%22chebi%22+.%0A++++++++++++++++%3Fxref+bp3%3Aid+%3Fchebi_id+.%0A++++++++++++%7D%0A++++++++%7D%0A++++++++GROUP+BY+%3Fmetric%0A++++%7D%0A++++UNION+%0A++++%7B%0A++++++++SELECT+%3Fmetric+%28COUNT%28DISTINCT+%3Fchebi_id%29+AS+%3Fcount%29%0A++++++++WHERE+%7B%0A++++++++++++BIND%28%22Unique+ChEBI%22+AS+%3Fmetric%29%0A++++++++++++%3Funif_xref+rdf%3Atype+bp3%3AUnificationXref+.%0A++++++++++++%3Funif_xref+bp3%3Adb+%22chebi%22+.%0A++++++++++++%3Funif_xref+bp3%3Aid+%3Fchebi_id+.%0A++++++++%7D%0A++++++++GROUP+BY+%3Fmetric%0A++++%7D%0A%7D%0AORDER+BY+%3Fmetric%0A%0A&format=csv&output=csv&results=csv\n",
      "09:38:08 INFO  Fuseki          :: [2] Query =  PREFIX rdf: <http://www.w3.org/1999/02/22-rdf-syntax-ns#> PREFIX rdfs:<http://www.w3.org/2000/01/rdf-schema#> PREFIX owl: <http://www.w3.org/2002/07/owl#> PREFIX xsd: <http://www.w3.org/2001/XMLSchema#> PREFIX dc: <http://purl.org/dc/elements/1.1/> PREFIX dcterms: <http://purl.org/dc/terms/>  PREFIX chebi: <http://purl.obolibrary.org/obo/chebi/> PREFIX chebidb: <http://purl.obolibrary.org/obo/CHEBI_> PREFIX chebirel: <http://purl.obolibrary.org/obo/CHEBI#> PREFIX oboInOwl: <http://www.geneontology.org/formats/oboInOwl#>  PREFIX bp3: <http://www.biopax.org/release/biopax-level3.owl#>  # Homo_sapiens-20170221.owl #PREFIX reactome: <http://www.reactome.org/biopax/59/48887#>  # # Homo_sapiens-20210608.owl #PREFIX reactome: <http://www.reactome.org/biopax/77/48887#> # # Homo_sapiens-20220614.owl #PREFIX reactome: <http://www.reactome.org/biopax/81/48887#> # # Homo_sapiens-20221130.owl #PREFIX reactome: <http://www.reactome.org/biopax/83/48887#>  PREFIX reactome: <http://www.reactome.org/biopax/87/48887#>  SELECT ?metric ?count # Number of instances of SmallMolecule WHERE {     {         SELECT ?metric (COUNT(DISTINCT ?small_molecule) AS ?count)         WHERE {             BIND(\"SmallMolecule\" AS ?metric)             ?small_molecule rdf:type/(rdfs:subClassOf*) bp3:SmallMolecule .         }         GROUP BY ?metric     }     UNION     {         SELECT ?metric (COUNT(DISTINCT ?small_molecule_ref) AS ?count)         WHERE {             BIND(\"SmallMoleculeReference\" AS ?metric)             ?small_molecule_ref rdf:type bp3:SmallMoleculeReference .         }         GROUP BY ?metric     }     UNION     {         SELECT ?metric (COUNT(DISTINCT ?small_molecule_without_ref) AS ?count)         WHERE {             BIND(\"noSMR\" AS ?metric)             OPTIONAL {             ?small_molecule_without_ref rdf:type/(rdfs:subClassOf*) bp3:SmallMolecule .             FILTER NOT EXISTS {                 ?small_molecule_without_ref bp3:entityReference ?ref .                 ?ref rdf:type bp3:SmallMoleculeReference .             }             }         }         GROUP BY ?metric     }     UNION     {         SELECT ?metric (COUNT(DISTINCT ?small_molecule_that_map_to_chebi) AS ?count)         WHERE {             BIND(\"ChEBI mappings\" AS ?metric)             ?small_molecule_that_map_to_chebi rdf:type bp3:SmallMolecule .             ?small_molecule_that_map_to_chebi bp3:entityReference ?small_molecule_ref .             ?small_molecule_ref rdf:type bp3:SmallMoleculeReference .             ?small_molecule_ref bp3:xref ?small_molecule_ref_xref .             ?small_molecule_ref_xref rdf:type bp3:UnificationXref .             ?small_molecule_ref_xref bp3:db \"chebi\" .             ?small_molecule_ref_xref bp3:id ?chebi_id .         }         GROUP BY ?metric     }     UNION      {         SELECT ?metric (COUNT(DISTINCT ?small_molecule_no_map_to_chebi) AS ?count)         WHERE {             BIND(\"Smnomapping\" AS ?metric)             ?small_molecule_no_map_to_chebi rdf:type/(rdfs:subClassOf*) bp3:SmallMolecule .             ?small_molecule_no_map_to_chebi bp3:entityReference ?small_molecule_ref .             FILTER NOT EXISTS {                 ?small_molecule_ref bp3:xref ?xref .                 ?xref rdf:type bp3:UnificationXref .                 ?xref bp3:db \"chebi\" .                 ?xref bp3:id ?chebi_id .             }         }         GROUP BY ?metric     }     UNION      {         SELECT ?metric (COUNT(DISTINCT ?chebi_id) AS ?count)         WHERE {             BIND(\"Unique ChEBI\" AS ?metric)             ?unif_xref rdf:type bp3:UnificationXref .             ?unif_xref bp3:db \"chebi\" .             ?unif_xref bp3:id ?chebi_id .         }         GROUP BY ?metric     } } ORDER BY ?metric  \n",
      "09:38:08 INFO  Fuseki          :: [2] 200 OK (193 ms)\n"
     ]
    }
   ],
   "source": [
    "# TODO: change path\n",
    "command = [\n",
    "    '/home/cbeust/Softwares/JenaFuseki/apache-jena-fuseki-4.9.0/fuseki-server',\n",
    "    '--file', '/home/cbeust/Projects/2024/BioPAX_Review/Compare_BioPAX_Files/PathwayCommonsFiles/PathwayCommons12.kegg.BIOPAX.owl',\n",
    "    '--file', '/home/cbeust/Projects/2024/BioPAX_Review/BioPAX_Ontology/biopax-level3.owl',\n",
    "    '/kegg_pc']\n",
    "process = subprocess.Popen(command)\n",
    "time.sleep(60)\n",
    "\n",
    "# execute SPARQL query\n",
    "sparql = SPARQLWrapper(endpointURL_kegg_pc)\n",
    "sparql.setQuery(prefixes+query2)\n",
    "\n",
    "# display results\n",
    "sparql.setReturnFormat(JSON)\n",
    "results = sparql.query().convert()\n",
    "displaySparqlResults(results)\n",
    "\n",
    "# export results to CSV\n",
    "sparql.setReturnFormat(CSV)\n",
    "results = sparql.query().convert()\n",
    "with open(\"../Results/kegg_pc_mappings_chebi.csv\", \"wb\") as f:\n",
    "    f.write(results)\n",
    "\n",
    "# end process\n",
    "process.kill()\n",
    "time.sleep(60)"
   ]
  },
  {
   "cell_type": "markdown",
   "metadata": {},
   "source": [
    "#### Query on BioPAX export of PID from PathwayCommons"
   ]
  },
  {
   "cell_type": "code",
   "execution_count": 12,
   "metadata": {},
   "outputs": [
    {
     "name": "stderr",
     "output_type": "stream",
     "text": [
      "09:39:08 INFO  Server          :: Dataset: in-memory: load file: /home/cbeust/Projects/2024/BioPAX_Review/Compare_BioPAX_Files/PathwayCommonsFiles/PathwayCommons12.pid.BIOPAX.owl\n",
      "09:39:10 WARN  riot            :: [line: 77671, col: 87] {W137} Input is large. Switching off checking for illegal reuse of rdf:ID's.\n",
      "09:39:14 INFO  Server          :: Dataset: in-memory: load file: /home/cbeust/Projects/2024/BioPAX_Review/BioPAX_Ontology/biopax-level3.owl\n",
      "09:39:14 INFO  Server          :: Running in read-only mode for /pid_pc\n",
      "09:39:14 INFO  Server          :: Apache Jena Fuseki 4.9.0\n",
      "09:39:14 INFO  Config          :: FUSEKI_HOME=/home/cbeust/Softwares/JenaFuseki/apache-jena-fuseki-4.9.0\n",
      "09:39:14 INFO  Config          :: FUSEKI_BASE=/home/cbeust/Projects/2024/BioPAX_Review/BioPAXReview2024Codes/Figure4-5/Scripts/run\n",
      "09:39:14 INFO  Config          :: Shiro file: file:///home/cbeust/Projects/2024/BioPAX_Review/BioPAXReview2024Codes/Figure4-5/Scripts/run/shiro.ini\n",
      "09:39:15 INFO  Server          :: Database: in-memory, with files loaded\n",
      "09:39:15 INFO  Server          :: Path = /pid_pc\n",
      "09:39:15 INFO  Server          ::   Memory: 16.0 GiB\n",
      "09:39:15 INFO  Server          ::   Java:   17.0.11\n",
      "09:39:15 INFO  Server          ::   OS:     Linux 6.8.9-100.fc38.x86_64 amd64\n",
      "09:39:15 INFO  Server          ::   PID:    17508\n",
      "09:39:15 INFO  Server          :: Started 2024/07/30 09:39:15 CEST on port 3030\n",
      "09:40:08 INFO  Fuseki          :: [1] GET http://localhost:3030/pid_pc/query?query=%0APREFIX+rdf%3A+%3Chttp%3A//www.w3.org/1999/02/22-rdf-syntax-ns%23%3E%0APREFIX+rdfs%3A%3Chttp%3A//www.w3.org/2000/01/rdf-schema%23%3E%0APREFIX+owl%3A+%3Chttp%3A//www.w3.org/2002/07/owl%23%3E%0APREFIX+xsd%3A+%3Chttp%3A//www.w3.org/2001/XMLSchema%23%3E%0APREFIX+dc%3A+%3Chttp%3A//purl.org/dc/elements/1.1/%3E%0APREFIX+dcterms%3A+%3Chttp%3A//purl.org/dc/terms/%3E%0A%0APREFIX+chebi%3A+%3Chttp%3A//purl.obolibrary.org/obo/chebi/%3E%0APREFIX+chebidb%3A+%3Chttp%3A//purl.obolibrary.org/obo/CHEBI_%3E%0APREFIX+chebirel%3A+%3Chttp%3A//purl.obolibrary.org/obo/CHEBI%23%3E%0APREFIX+oboInOwl%3A+%3Chttp%3A//www.geneontology.org/formats/oboInOwl%23%3E%0A%0APREFIX+bp3%3A+%3Chttp%3A//www.biopax.org/release/biopax-level3.owl%23%3E%0A%0A%23+Homo_sapiens-20170221.owl%0A%23PREFIX+reactome%3A+%3Chttp%3A//www.reactome.org/biopax/59/48887%23%3E+%0A%23%0A%23+Homo_sapiens-20210608.owl%0A%23PREFIX+reactome%3A+%3Chttp%3A//www.reactome.org/biopax/77/48887%23%3E%0A%23%0A%23+Homo_sapiens-20220614.owl%0A%23PREFIX+reactome%3A+%3Chttp%3A//www.reactome.org/biopax/81/48887%23%3E%0A%23%0A%23+Homo_sapiens-20221130.owl%0A%23PREFIX+reactome%3A+%3Chttp%3A//www.reactome.org/biopax/83/48887%23%3E%0A%0APREFIX+reactome%3A+%3Chttp%3A//www.reactome.org/biopax/87/48887%23%3E%0A%0ASELECT+%3Fmetric+%3Fcount%0A%23+Number+of+instances+of+SmallMolecule%0AWHERE+%7B%0A++++%7B%0A++++++++SELECT+%3Fmetric+%28COUNT%28DISTINCT+%3Fsmall_molecule%29+AS+%3Fcount%29%0A++++++++WHERE+%7B%0A++++++++++++BIND%28%22SmallMolecule%22+AS+%3Fmetric%29%0A++++++++++++%3Fsmall_molecule+rdf%3Atype/%28rdfs%3AsubClassOf%2A%29+bp3%3ASmallMolecule+.%0A++++++++%7D%0A++++++++GROUP+BY+%3Fmetric%0A++++%7D%0A++++UNION%0A++++%7B%0A++++++++SELECT+%3Fmetric+%28COUNT%28DISTINCT+%3Fsmall_molecule_ref%29+AS+%3Fcount%29%0A++++++++WHERE+%7B%0A++++++++++++BIND%28%22SmallMoleculeReference%22+AS+%3Fmetric%29%0A++++++++++++%3Fsmall_molecule_ref+rdf%3Atype+bp3%3ASmallMoleculeReference+.%0A++++++++%7D%0A++++++++GROUP+BY+%3Fmetric%0A++++%7D%0A++++UNION%0A++++%7B%0A++++++++SELECT+%3Fmetric+%28COUNT%28DISTINCT+%3Fsmall_molecule_without_ref%29+AS+%3Fcount%29%0A++++++++WHERE+%7B%0A++++++++++++BIND%28%22noSMR%22+AS+%3Fmetric%29%0A++++++++++++OPTIONAL+%7B%0A++++++++++++%3Fsmall_molecule_without_ref+rdf%3Atype/%28rdfs%3AsubClassOf%2A%29+bp3%3ASmallMolecule+.%0A++++++++++++FILTER+NOT+EXISTS+%7B%0A++++++++++++++++%3Fsmall_molecule_without_ref+bp3%3AentityReference+%3Fref+.%0A++++++++++++++++%3Fref+rdf%3Atype+bp3%3ASmallMoleculeReference+.%0A++++++++++++%7D%0A++++++++++++%7D%0A++++++++%7D%0A++++++++GROUP+BY+%3Fmetric%0A++++%7D%0A++++UNION%0A++++%7B%0A++++++++SELECT+%3Fmetric+%28COUNT%28DISTINCT+%3Fsmall_molecule_that_map_to_chebi%29+AS+%3Fcount%29%0A++++++++WHERE+%7B%0A++++++++++++BIND%28%22ChEBI+mappings%22+AS+%3Fmetric%29%0A++++++++++++%3Fsmall_molecule_that_map_to_chebi+rdf%3Atype+bp3%3ASmallMolecule+.%0A++++++++++++%3Fsmall_molecule_that_map_to_chebi+bp3%3AentityReference+%3Fsmall_molecule_ref+.%0A++++++++++++%3Fsmall_molecule_ref+rdf%3Atype+bp3%3ASmallMoleculeReference+.%0A++++++++++++%3Fsmall_molecule_ref+bp3%3Axref+%3Fsmall_molecule_ref_xref+.%0A++++++++++++%3Fsmall_molecule_ref_xref+rdf%3Atype+bp3%3AUnificationXref+.%0A++++++++++++%3Fsmall_molecule_ref_xref+bp3%3Adb+%22chebi%22+.%0A++++++++++++%3Fsmall_molecule_ref_xref+bp3%3Aid+%3Fchebi_id+.%0A++++++++%7D%0A++++++++GROUP+BY+%3Fmetric%0A++++%7D%0A++++UNION+%0A++++%7B%0A++++++++SELECT+%3Fmetric+%28COUNT%28DISTINCT+%3Fsmall_molecule_no_map_to_chebi%29+AS+%3Fcount%29%0A++++++++WHERE+%7B%0A++++++++++++BIND%28%22Smnomapping%22+AS+%3Fmetric%29%0A++++++++++++%3Fsmall_molecule_no_map_to_chebi+rdf%3Atype/%28rdfs%3AsubClassOf%2A%29+bp3%3ASmallMolecule+.%0A++++++++++++%3Fsmall_molecule_no_map_to_chebi+bp3%3AentityReference+%3Fsmall_molecule_ref+.%0A++++++++++++FILTER+NOT+EXISTS+%7B%0A++++++++++++++++%3Fsmall_molecule_ref+bp3%3Axref+%3Fxref+.%0A++++++++++++++++%3Fxref+rdf%3Atype+bp3%3AUnificationXref+.%0A++++++++++++++++%3Fxref+bp3%3Adb+%22chebi%22+.%0A++++++++++++++++%3Fxref+bp3%3Aid+%3Fchebi_id+.%0A++++++++++++%7D%0A++++++++%7D%0A++++++++GROUP+BY+%3Fmetric%0A++++%7D%0A++++UNION+%0A++++%7B%0A++++++++SELECT+%3Fmetric+%28COUNT%28DISTINCT+%3Fchebi_id%29+AS+%3Fcount%29%0A++++++++WHERE+%7B%0A++++++++++++BIND%28%22Unique+ChEBI%22+AS+%3Fmetric%29%0A++++++++++++%3Funif_xref+rdf%3Atype+bp3%3AUnificationXref+.%0A++++++++++++%3Funif_xref+bp3%3Adb+%22chebi%22+.%0A++++++++++++%3Funif_xref+bp3%3Aid+%3Fchebi_id+.%0A++++++++%7D%0A++++++++GROUP+BY+%3Fmetric%0A++++%7D%0A%7D%0AORDER+BY+%3Fmetric%0A%0A&format=json&output=json&results=json\n",
      "09:40:08 INFO  Fuseki          :: [1] Query =  PREFIX rdf: <http://www.w3.org/1999/02/22-rdf-syntax-ns#> PREFIX rdfs:<http://www.w3.org/2000/01/rdf-schema#> PREFIX owl: <http://www.w3.org/2002/07/owl#> PREFIX xsd: <http://www.w3.org/2001/XMLSchema#> PREFIX dc: <http://purl.org/dc/elements/1.1/> PREFIX dcterms: <http://purl.org/dc/terms/>  PREFIX chebi: <http://purl.obolibrary.org/obo/chebi/> PREFIX chebidb: <http://purl.obolibrary.org/obo/CHEBI_> PREFIX chebirel: <http://purl.obolibrary.org/obo/CHEBI#> PREFIX oboInOwl: <http://www.geneontology.org/formats/oboInOwl#>  PREFIX bp3: <http://www.biopax.org/release/biopax-level3.owl#>  # Homo_sapiens-20170221.owl #PREFIX reactome: <http://www.reactome.org/biopax/59/48887#>  # # Homo_sapiens-20210608.owl #PREFIX reactome: <http://www.reactome.org/biopax/77/48887#> # # Homo_sapiens-20220614.owl #PREFIX reactome: <http://www.reactome.org/biopax/81/48887#> # # Homo_sapiens-20221130.owl #PREFIX reactome: <http://www.reactome.org/biopax/83/48887#>  PREFIX reactome: <http://www.reactome.org/biopax/87/48887#>  SELECT ?metric ?count # Number of instances of SmallMolecule WHERE {     {         SELECT ?metric (COUNT(DISTINCT ?small_molecule) AS ?count)         WHERE {             BIND(\"SmallMolecule\" AS ?metric)             ?small_molecule rdf:type/(rdfs:subClassOf*) bp3:SmallMolecule .         }         GROUP BY ?metric     }     UNION     {         SELECT ?metric (COUNT(DISTINCT ?small_molecule_ref) AS ?count)         WHERE {             BIND(\"SmallMoleculeReference\" AS ?metric)             ?small_molecule_ref rdf:type bp3:SmallMoleculeReference .         }         GROUP BY ?metric     }     UNION     {         SELECT ?metric (COUNT(DISTINCT ?small_molecule_without_ref) AS ?count)         WHERE {             BIND(\"noSMR\" AS ?metric)             OPTIONAL {             ?small_molecule_without_ref rdf:type/(rdfs:subClassOf*) bp3:SmallMolecule .             FILTER NOT EXISTS {                 ?small_molecule_without_ref bp3:entityReference ?ref .                 ?ref rdf:type bp3:SmallMoleculeReference .             }             }         }         GROUP BY ?metric     }     UNION     {         SELECT ?metric (COUNT(DISTINCT ?small_molecule_that_map_to_chebi) AS ?count)         WHERE {             BIND(\"ChEBI mappings\" AS ?metric)             ?small_molecule_that_map_to_chebi rdf:type bp3:SmallMolecule .             ?small_molecule_that_map_to_chebi bp3:entityReference ?small_molecule_ref .             ?small_molecule_ref rdf:type bp3:SmallMoleculeReference .             ?small_molecule_ref bp3:xref ?small_molecule_ref_xref .             ?small_molecule_ref_xref rdf:type bp3:UnificationXref .             ?small_molecule_ref_xref bp3:db \"chebi\" .             ?small_molecule_ref_xref bp3:id ?chebi_id .         }         GROUP BY ?metric     }     UNION      {         SELECT ?metric (COUNT(DISTINCT ?small_molecule_no_map_to_chebi) AS ?count)         WHERE {             BIND(\"Smnomapping\" AS ?metric)             ?small_molecule_no_map_to_chebi rdf:type/(rdfs:subClassOf*) bp3:SmallMolecule .             ?small_molecule_no_map_to_chebi bp3:entityReference ?small_molecule_ref .             FILTER NOT EXISTS {                 ?small_molecule_ref bp3:xref ?xref .                 ?xref rdf:type bp3:UnificationXref .                 ?xref bp3:db \"chebi\" .                 ?xref bp3:id ?chebi_id .             }         }         GROUP BY ?metric     }     UNION      {         SELECT ?metric (COUNT(DISTINCT ?chebi_id) AS ?count)         WHERE {             BIND(\"Unique ChEBI\" AS ?metric)             ?unif_xref rdf:type bp3:UnificationXref .             ?unif_xref bp3:db \"chebi\" .             ?unif_xref bp3:id ?chebi_id .         }         GROUP BY ?metric     } } ORDER BY ?metric  \n",
      "09:40:08 INFO  Fuseki          :: [1] 200 OK (208 ms)\n"
     ]
    },
    {
     "data": {
      "text/html": [
       "<table><tr><th>metric</th><th>count</th></tr><tr><td>ChEBI mappings</td><td>113</td></tr><tr><td>SmallMolecule</td><td>188</td></tr><tr><td>SmallMoleculeReference</td><td>123</td></tr><tr><td>Smnomapping</td><td>75</td></tr><tr><td>Unique ChEBI</td><td>80</td></tr><tr><td>noSMR</td><td>0</td></tr></table>"
      ],
      "text/plain": [
       "<IPython.core.display.HTML object>"
      ]
     },
     "metadata": {},
     "output_type": "display_data"
    },
    {
     "name": "stderr",
     "output_type": "stream",
     "text": [
      "09:40:08 INFO  Fuseki          :: [2] GET http://localhost:3030/pid_pc/query?query=%0APREFIX+rdf%3A+%3Chttp%3A//www.w3.org/1999/02/22-rdf-syntax-ns%23%3E%0APREFIX+rdfs%3A%3Chttp%3A//www.w3.org/2000/01/rdf-schema%23%3E%0APREFIX+owl%3A+%3Chttp%3A//www.w3.org/2002/07/owl%23%3E%0APREFIX+xsd%3A+%3Chttp%3A//www.w3.org/2001/XMLSchema%23%3E%0APREFIX+dc%3A+%3Chttp%3A//purl.org/dc/elements/1.1/%3E%0APREFIX+dcterms%3A+%3Chttp%3A//purl.org/dc/terms/%3E%0A%0APREFIX+chebi%3A+%3Chttp%3A//purl.obolibrary.org/obo/chebi/%3E%0APREFIX+chebidb%3A+%3Chttp%3A//purl.obolibrary.org/obo/CHEBI_%3E%0APREFIX+chebirel%3A+%3Chttp%3A//purl.obolibrary.org/obo/CHEBI%23%3E%0APREFIX+oboInOwl%3A+%3Chttp%3A//www.geneontology.org/formats/oboInOwl%23%3E%0A%0APREFIX+bp3%3A+%3Chttp%3A//www.biopax.org/release/biopax-level3.owl%23%3E%0A%0A%23+Homo_sapiens-20170221.owl%0A%23PREFIX+reactome%3A+%3Chttp%3A//www.reactome.org/biopax/59/48887%23%3E+%0A%23%0A%23+Homo_sapiens-20210608.owl%0A%23PREFIX+reactome%3A+%3Chttp%3A//www.reactome.org/biopax/77/48887%23%3E%0A%23%0A%23+Homo_sapiens-20220614.owl%0A%23PREFIX+reactome%3A+%3Chttp%3A//www.reactome.org/biopax/81/48887%23%3E%0A%23%0A%23+Homo_sapiens-20221130.owl%0A%23PREFIX+reactome%3A+%3Chttp%3A//www.reactome.org/biopax/83/48887%23%3E%0A%0APREFIX+reactome%3A+%3Chttp%3A//www.reactome.org/biopax/87/48887%23%3E%0A%0ASELECT+%3Fmetric+%3Fcount%0A%23+Number+of+instances+of+SmallMolecule%0AWHERE+%7B%0A++++%7B%0A++++++++SELECT+%3Fmetric+%28COUNT%28DISTINCT+%3Fsmall_molecule%29+AS+%3Fcount%29%0A++++++++WHERE+%7B%0A++++++++++++BIND%28%22SmallMolecule%22+AS+%3Fmetric%29%0A++++++++++++%3Fsmall_molecule+rdf%3Atype/%28rdfs%3AsubClassOf%2A%29+bp3%3ASmallMolecule+.%0A++++++++%7D%0A++++++++GROUP+BY+%3Fmetric%0A++++%7D%0A++++UNION%0A++++%7B%0A++++++++SELECT+%3Fmetric+%28COUNT%28DISTINCT+%3Fsmall_molecule_ref%29+AS+%3Fcount%29%0A++++++++WHERE+%7B%0A++++++++++++BIND%28%22SmallMoleculeReference%22+AS+%3Fmetric%29%0A++++++++++++%3Fsmall_molecule_ref+rdf%3Atype+bp3%3ASmallMoleculeReference+.%0A++++++++%7D%0A++++++++GROUP+BY+%3Fmetric%0A++++%7D%0A++++UNION%0A++++%7B%0A++++++++SELECT+%3Fmetric+%28COUNT%28DISTINCT+%3Fsmall_molecule_without_ref%29+AS+%3Fcount%29%0A++++++++WHERE+%7B%0A++++++++++++BIND%28%22noSMR%22+AS+%3Fmetric%29%0A++++++++++++OPTIONAL+%7B%0A++++++++++++%3Fsmall_molecule_without_ref+rdf%3Atype/%28rdfs%3AsubClassOf%2A%29+bp3%3ASmallMolecule+.%0A++++++++++++FILTER+NOT+EXISTS+%7B%0A++++++++++++++++%3Fsmall_molecule_without_ref+bp3%3AentityReference+%3Fref+.%0A++++++++++++++++%3Fref+rdf%3Atype+bp3%3ASmallMoleculeReference+.%0A++++++++++++%7D%0A++++++++++++%7D%0A++++++++%7D%0A++++++++GROUP+BY+%3Fmetric%0A++++%7D%0A++++UNION%0A++++%7B%0A++++++++SELECT+%3Fmetric+%28COUNT%28DISTINCT+%3Fsmall_molecule_that_map_to_chebi%29+AS+%3Fcount%29%0A++++++++WHERE+%7B%0A++++++++++++BIND%28%22ChEBI+mappings%22+AS+%3Fmetric%29%0A++++++++++++%3Fsmall_molecule_that_map_to_chebi+rdf%3Atype+bp3%3ASmallMolecule+.%0A++++++++++++%3Fsmall_molecule_that_map_to_chebi+bp3%3AentityReference+%3Fsmall_molecule_ref+.%0A++++++++++++%3Fsmall_molecule_ref+rdf%3Atype+bp3%3ASmallMoleculeReference+.%0A++++++++++++%3Fsmall_molecule_ref+bp3%3Axref+%3Fsmall_molecule_ref_xref+.%0A++++++++++++%3Fsmall_molecule_ref_xref+rdf%3Atype+bp3%3AUnificationXref+.%0A++++++++++++%3Fsmall_molecule_ref_xref+bp3%3Adb+%22chebi%22+.%0A++++++++++++%3Fsmall_molecule_ref_xref+bp3%3Aid+%3Fchebi_id+.%0A++++++++%7D%0A++++++++GROUP+BY+%3Fmetric%0A++++%7D%0A++++UNION+%0A++++%7B%0A++++++++SELECT+%3Fmetric+%28COUNT%28DISTINCT+%3Fsmall_molecule_no_map_to_chebi%29+AS+%3Fcount%29%0A++++++++WHERE+%7B%0A++++++++++++BIND%28%22Smnomapping%22+AS+%3Fmetric%29%0A++++++++++++%3Fsmall_molecule_no_map_to_chebi+rdf%3Atype/%28rdfs%3AsubClassOf%2A%29+bp3%3ASmallMolecule+.%0A++++++++++++%3Fsmall_molecule_no_map_to_chebi+bp3%3AentityReference+%3Fsmall_molecule_ref+.%0A++++++++++++FILTER+NOT+EXISTS+%7B%0A++++++++++++++++%3Fsmall_molecule_ref+bp3%3Axref+%3Fxref+.%0A++++++++++++++++%3Fxref+rdf%3Atype+bp3%3AUnificationXref+.%0A++++++++++++++++%3Fxref+bp3%3Adb+%22chebi%22+.%0A++++++++++++++++%3Fxref+bp3%3Aid+%3Fchebi_id+.%0A++++++++++++%7D%0A++++++++%7D%0A++++++++GROUP+BY+%3Fmetric%0A++++%7D%0A++++UNION+%0A++++%7B%0A++++++++SELECT+%3Fmetric+%28COUNT%28DISTINCT+%3Fchebi_id%29+AS+%3Fcount%29%0A++++++++WHERE+%7B%0A++++++++++++BIND%28%22Unique+ChEBI%22+AS+%3Fmetric%29%0A++++++++++++%3Funif_xref+rdf%3Atype+bp3%3AUnificationXref+.%0A++++++++++++%3Funif_xref+bp3%3Adb+%22chebi%22+.%0A++++++++++++%3Funif_xref+bp3%3Aid+%3Fchebi_id+.%0A++++++++%7D%0A++++++++GROUP+BY+%3Fmetric%0A++++%7D%0A%7D%0AORDER+BY+%3Fmetric%0A%0A&format=csv&output=csv&results=csv\n",
      "09:40:08 INFO  Fuseki          :: [2] Query =  PREFIX rdf: <http://www.w3.org/1999/02/22-rdf-syntax-ns#> PREFIX rdfs:<http://www.w3.org/2000/01/rdf-schema#> PREFIX owl: <http://www.w3.org/2002/07/owl#> PREFIX xsd: <http://www.w3.org/2001/XMLSchema#> PREFIX dc: <http://purl.org/dc/elements/1.1/> PREFIX dcterms: <http://purl.org/dc/terms/>  PREFIX chebi: <http://purl.obolibrary.org/obo/chebi/> PREFIX chebidb: <http://purl.obolibrary.org/obo/CHEBI_> PREFIX chebirel: <http://purl.obolibrary.org/obo/CHEBI#> PREFIX oboInOwl: <http://www.geneontology.org/formats/oboInOwl#>  PREFIX bp3: <http://www.biopax.org/release/biopax-level3.owl#>  # Homo_sapiens-20170221.owl #PREFIX reactome: <http://www.reactome.org/biopax/59/48887#>  # # Homo_sapiens-20210608.owl #PREFIX reactome: <http://www.reactome.org/biopax/77/48887#> # # Homo_sapiens-20220614.owl #PREFIX reactome: <http://www.reactome.org/biopax/81/48887#> # # Homo_sapiens-20221130.owl #PREFIX reactome: <http://www.reactome.org/biopax/83/48887#>  PREFIX reactome: <http://www.reactome.org/biopax/87/48887#>  SELECT ?metric ?count # Number of instances of SmallMolecule WHERE {     {         SELECT ?metric (COUNT(DISTINCT ?small_molecule) AS ?count)         WHERE {             BIND(\"SmallMolecule\" AS ?metric)             ?small_molecule rdf:type/(rdfs:subClassOf*) bp3:SmallMolecule .         }         GROUP BY ?metric     }     UNION     {         SELECT ?metric (COUNT(DISTINCT ?small_molecule_ref) AS ?count)         WHERE {             BIND(\"SmallMoleculeReference\" AS ?metric)             ?small_molecule_ref rdf:type bp3:SmallMoleculeReference .         }         GROUP BY ?metric     }     UNION     {         SELECT ?metric (COUNT(DISTINCT ?small_molecule_without_ref) AS ?count)         WHERE {             BIND(\"noSMR\" AS ?metric)             OPTIONAL {             ?small_molecule_without_ref rdf:type/(rdfs:subClassOf*) bp3:SmallMolecule .             FILTER NOT EXISTS {                 ?small_molecule_without_ref bp3:entityReference ?ref .                 ?ref rdf:type bp3:SmallMoleculeReference .             }             }         }         GROUP BY ?metric     }     UNION     {         SELECT ?metric (COUNT(DISTINCT ?small_molecule_that_map_to_chebi) AS ?count)         WHERE {             BIND(\"ChEBI mappings\" AS ?metric)             ?small_molecule_that_map_to_chebi rdf:type bp3:SmallMolecule .             ?small_molecule_that_map_to_chebi bp3:entityReference ?small_molecule_ref .             ?small_molecule_ref rdf:type bp3:SmallMoleculeReference .             ?small_molecule_ref bp3:xref ?small_molecule_ref_xref .             ?small_molecule_ref_xref rdf:type bp3:UnificationXref .             ?small_molecule_ref_xref bp3:db \"chebi\" .             ?small_molecule_ref_xref bp3:id ?chebi_id .         }         GROUP BY ?metric     }     UNION      {         SELECT ?metric (COUNT(DISTINCT ?small_molecule_no_map_to_chebi) AS ?count)         WHERE {             BIND(\"Smnomapping\" AS ?metric)             ?small_molecule_no_map_to_chebi rdf:type/(rdfs:subClassOf*) bp3:SmallMolecule .             ?small_molecule_no_map_to_chebi bp3:entityReference ?small_molecule_ref .             FILTER NOT EXISTS {                 ?small_molecule_ref bp3:xref ?xref .                 ?xref rdf:type bp3:UnificationXref .                 ?xref bp3:db \"chebi\" .                 ?xref bp3:id ?chebi_id .             }         }         GROUP BY ?metric     }     UNION      {         SELECT ?metric (COUNT(DISTINCT ?chebi_id) AS ?count)         WHERE {             BIND(\"Unique ChEBI\" AS ?metric)             ?unif_xref rdf:type bp3:UnificationXref .             ?unif_xref bp3:db \"chebi\" .             ?unif_xref bp3:id ?chebi_id .         }         GROUP BY ?metric     } } ORDER BY ?metric  \n",
      "09:40:08 INFO  Fuseki          :: [2] 200 OK (34 ms)\n"
     ]
    }
   ],
   "source": [
    "# TODO: change path\n",
    "command = [\n",
    "    '/home/cbeust/Softwares/JenaFuseki/apache-jena-fuseki-4.9.0/fuseki-server',\n",
    "    '--file', '/home/cbeust/Projects/2024/BioPAX_Review/Compare_BioPAX_Files/PathwayCommonsFiles/PathwayCommons12.pid.BIOPAX.owl',\n",
    "    '--file', '/home/cbeust/Projects/2024/BioPAX_Review/BioPAX_Ontology/biopax-level3.owl',\n",
    "    '/pid_pc']\n",
    "process = subprocess.Popen(command)\n",
    "time.sleep(60)\n",
    "\n",
    "# execute SPARQL query\n",
    "sparql = SPARQLWrapper(endpointURL_pid_pc)\n",
    "sparql.setQuery(prefixes+query2)\n",
    "\n",
    "# display results\n",
    "sparql.setReturnFormat(JSON)\n",
    "results = sparql.query().convert()\n",
    "displaySparqlResults(results)\n",
    "\n",
    "# export results to CSV\n",
    "sparql.setReturnFormat(CSV)\n",
    "results = sparql.query().convert()\n",
    "with open(\"../Results/pid_pc_mappings_chebi.csv\", \"wb\") as f:\n",
    "    f.write(results)\n",
    "\n",
    "# end process\n",
    "process.kill()\n",
    "time.sleep(60)"
   ]
  },
  {
   "cell_type": "markdown",
   "metadata": {},
   "source": [
    "#### Query on BioPAX export of INOH from PathwayCommons"
   ]
  },
  {
   "cell_type": "code",
   "execution_count": 13,
   "metadata": {},
   "outputs": [
    {
     "name": "stderr",
     "output_type": "stream",
     "text": [
      "09:41:09 INFO  Server          :: Dataset: in-memory: load file: /home/cbeust/Projects/2024/BioPAX_Review/Compare_BioPAX_Files/PathwayCommonsFiles/PathwayCommons12.inoh.BIOPAX.owl\n",
      "09:41:10 WARN  riot            :: [line: 100079, col: 94] {W137} Input is large. Switching off checking for illegal reuse of rdf:ID's.\n",
      "09:41:16 INFO  Server          :: Dataset: in-memory: load file: /home/cbeust/Projects/2024/BioPAX_Review/BioPAX_Ontology/biopax-level3.owl\n",
      "09:41:16 INFO  Server          :: Running in read-only mode for /inoh_pc\n",
      "09:41:16 INFO  Server          :: Apache Jena Fuseki 4.9.0\n",
      "09:41:17 INFO  Config          :: FUSEKI_HOME=/home/cbeust/Softwares/JenaFuseki/apache-jena-fuseki-4.9.0\n",
      "09:41:17 INFO  Config          :: FUSEKI_BASE=/home/cbeust/Projects/2024/BioPAX_Review/BioPAXReview2024Codes/Figure4-5/Scripts/run\n",
      "09:41:17 INFO  Config          :: Shiro file: file:///home/cbeust/Projects/2024/BioPAX_Review/BioPAXReview2024Codes/Figure4-5/Scripts/run/shiro.ini\n",
      "09:41:17 INFO  Server          :: Database: in-memory, with files loaded\n",
      "09:41:17 INFO  Server          :: Path = /inoh_pc\n",
      "09:41:17 INFO  Server          ::   Memory: 16.0 GiB\n",
      "09:41:17 INFO  Server          ::   Java:   17.0.11\n",
      "09:41:17 INFO  Server          ::   OS:     Linux 6.8.9-100.fc38.x86_64 amd64\n",
      "09:41:17 INFO  Server          ::   PID:    18274\n",
      "09:41:17 INFO  Server          :: Started 2024/07/30 09:41:17 CEST on port 3030\n",
      "09:42:08 INFO  Fuseki          :: [1] GET http://localhost:3030/inoh_pc/query?query=%0APREFIX+rdf%3A+%3Chttp%3A//www.w3.org/1999/02/22-rdf-syntax-ns%23%3E%0APREFIX+rdfs%3A%3Chttp%3A//www.w3.org/2000/01/rdf-schema%23%3E%0APREFIX+owl%3A+%3Chttp%3A//www.w3.org/2002/07/owl%23%3E%0APREFIX+xsd%3A+%3Chttp%3A//www.w3.org/2001/XMLSchema%23%3E%0APREFIX+dc%3A+%3Chttp%3A//purl.org/dc/elements/1.1/%3E%0APREFIX+dcterms%3A+%3Chttp%3A//purl.org/dc/terms/%3E%0A%0APREFIX+chebi%3A+%3Chttp%3A//purl.obolibrary.org/obo/chebi/%3E%0APREFIX+chebidb%3A+%3Chttp%3A//purl.obolibrary.org/obo/CHEBI_%3E%0APREFIX+chebirel%3A+%3Chttp%3A//purl.obolibrary.org/obo/CHEBI%23%3E%0APREFIX+oboInOwl%3A+%3Chttp%3A//www.geneontology.org/formats/oboInOwl%23%3E%0A%0APREFIX+bp3%3A+%3Chttp%3A//www.biopax.org/release/biopax-level3.owl%23%3E%0A%0A%23+Homo_sapiens-20170221.owl%0A%23PREFIX+reactome%3A+%3Chttp%3A//www.reactome.org/biopax/59/48887%23%3E+%0A%23%0A%23+Homo_sapiens-20210608.owl%0A%23PREFIX+reactome%3A+%3Chttp%3A//www.reactome.org/biopax/77/48887%23%3E%0A%23%0A%23+Homo_sapiens-20220614.owl%0A%23PREFIX+reactome%3A+%3Chttp%3A//www.reactome.org/biopax/81/48887%23%3E%0A%23%0A%23+Homo_sapiens-20221130.owl%0A%23PREFIX+reactome%3A+%3Chttp%3A//www.reactome.org/biopax/83/48887%23%3E%0A%0APREFIX+reactome%3A+%3Chttp%3A//www.reactome.org/biopax/87/48887%23%3E%0A%0ASELECT+%3Fmetric+%3Fcount%0A%23+Number+of+instances+of+SmallMolecule%0AWHERE+%7B%0A++++%7B%0A++++++++SELECT+%3Fmetric+%28COUNT%28DISTINCT+%3Fsmall_molecule%29+AS+%3Fcount%29%0A++++++++WHERE+%7B%0A++++++++++++BIND%28%22SmallMolecule%22+AS+%3Fmetric%29%0A++++++++++++%3Fsmall_molecule+rdf%3Atype/%28rdfs%3AsubClassOf%2A%29+bp3%3ASmallMolecule+.%0A++++++++%7D%0A++++++++GROUP+BY+%3Fmetric%0A++++%7D%0A++++UNION%0A++++%7B%0A++++++++SELECT+%3Fmetric+%28COUNT%28DISTINCT+%3Fsmall_molecule_ref%29+AS+%3Fcount%29%0A++++++++WHERE+%7B%0A++++++++++++BIND%28%22SmallMoleculeReference%22+AS+%3Fmetric%29%0A++++++++++++%3Fsmall_molecule_ref+rdf%3Atype+bp3%3ASmallMoleculeReference+.%0A++++++++%7D%0A++++++++GROUP+BY+%3Fmetric%0A++++%7D%0A++++UNION%0A++++%7B%0A++++++++SELECT+%3Fmetric+%28COUNT%28DISTINCT+%3Fsmall_molecule_without_ref%29+AS+%3Fcount%29%0A++++++++WHERE+%7B%0A++++++++++++BIND%28%22noSMR%22+AS+%3Fmetric%29%0A++++++++++++OPTIONAL+%7B%0A++++++++++++%3Fsmall_molecule_without_ref+rdf%3Atype/%28rdfs%3AsubClassOf%2A%29+bp3%3ASmallMolecule+.%0A++++++++++++FILTER+NOT+EXISTS+%7B%0A++++++++++++++++%3Fsmall_molecule_without_ref+bp3%3AentityReference+%3Fref+.%0A++++++++++++++++%3Fref+rdf%3Atype+bp3%3ASmallMoleculeReference+.%0A++++++++++++%7D%0A++++++++++++%7D%0A++++++++%7D%0A++++++++GROUP+BY+%3Fmetric%0A++++%7D%0A++++UNION%0A++++%7B%0A++++++++SELECT+%3Fmetric+%28COUNT%28DISTINCT+%3Fsmall_molecule_that_map_to_chebi%29+AS+%3Fcount%29%0A++++++++WHERE+%7B%0A++++++++++++BIND%28%22ChEBI+mappings%22+AS+%3Fmetric%29%0A++++++++++++%3Fsmall_molecule_that_map_to_chebi+rdf%3Atype+bp3%3ASmallMolecule+.%0A++++++++++++%3Fsmall_molecule_that_map_to_chebi+bp3%3AentityReference+%3Fsmall_molecule_ref+.%0A++++++++++++%3Fsmall_molecule_ref+rdf%3Atype+bp3%3ASmallMoleculeReference+.%0A++++++++++++%3Fsmall_molecule_ref+bp3%3Axref+%3Fsmall_molecule_ref_xref+.%0A++++++++++++%3Fsmall_molecule_ref_xref+rdf%3Atype+bp3%3AUnificationXref+.%0A++++++++++++%3Fsmall_molecule_ref_xref+bp3%3Adb+%22chebi%22+.%0A++++++++++++%3Fsmall_molecule_ref_xref+bp3%3Aid+%3Fchebi_id+.%0A++++++++%7D%0A++++++++GROUP+BY+%3Fmetric%0A++++%7D%0A++++UNION+%0A++++%7B%0A++++++++SELECT+%3Fmetric+%28COUNT%28DISTINCT+%3Fsmall_molecule_no_map_to_chebi%29+AS+%3Fcount%29%0A++++++++WHERE+%7B%0A++++++++++++BIND%28%22Smnomapping%22+AS+%3Fmetric%29%0A++++++++++++%3Fsmall_molecule_no_map_to_chebi+rdf%3Atype/%28rdfs%3AsubClassOf%2A%29+bp3%3ASmallMolecule+.%0A++++++++++++%3Fsmall_molecule_no_map_to_chebi+bp3%3AentityReference+%3Fsmall_molecule_ref+.%0A++++++++++++FILTER+NOT+EXISTS+%7B%0A++++++++++++++++%3Fsmall_molecule_ref+bp3%3Axref+%3Fxref+.%0A++++++++++++++++%3Fxref+rdf%3Atype+bp3%3AUnificationXref+.%0A++++++++++++++++%3Fxref+bp3%3Adb+%22chebi%22+.%0A++++++++++++++++%3Fxref+bp3%3Aid+%3Fchebi_id+.%0A++++++++++++%7D%0A++++++++%7D%0A++++++++GROUP+BY+%3Fmetric%0A++++%7D%0A++++UNION+%0A++++%7B%0A++++++++SELECT+%3Fmetric+%28COUNT%28DISTINCT+%3Fchebi_id%29+AS+%3Fcount%29%0A++++++++WHERE+%7B%0A++++++++++++BIND%28%22Unique+ChEBI%22+AS+%3Fmetric%29%0A++++++++++++%3Funif_xref+rdf%3Atype+bp3%3AUnificationXref+.%0A++++++++++++%3Funif_xref+bp3%3Adb+%22chebi%22+.%0A++++++++++++%3Funif_xref+bp3%3Aid+%3Fchebi_id+.%0A++++++++%7D%0A++++++++GROUP+BY+%3Fmetric%0A++++%7D%0A%7D%0AORDER+BY+%3Fmetric%0A%0A&format=json&output=json&results=json\n",
      "09:42:08 INFO  Fuseki          :: [1] Query =  PREFIX rdf: <http://www.w3.org/1999/02/22-rdf-syntax-ns#> PREFIX rdfs:<http://www.w3.org/2000/01/rdf-schema#> PREFIX owl: <http://www.w3.org/2002/07/owl#> PREFIX xsd: <http://www.w3.org/2001/XMLSchema#> PREFIX dc: <http://purl.org/dc/elements/1.1/> PREFIX dcterms: <http://purl.org/dc/terms/>  PREFIX chebi: <http://purl.obolibrary.org/obo/chebi/> PREFIX chebidb: <http://purl.obolibrary.org/obo/CHEBI_> PREFIX chebirel: <http://purl.obolibrary.org/obo/CHEBI#> PREFIX oboInOwl: <http://www.geneontology.org/formats/oboInOwl#>  PREFIX bp3: <http://www.biopax.org/release/biopax-level3.owl#>  # Homo_sapiens-20170221.owl #PREFIX reactome: <http://www.reactome.org/biopax/59/48887#>  # # Homo_sapiens-20210608.owl #PREFIX reactome: <http://www.reactome.org/biopax/77/48887#> # # Homo_sapiens-20220614.owl #PREFIX reactome: <http://www.reactome.org/biopax/81/48887#> # # Homo_sapiens-20221130.owl #PREFIX reactome: <http://www.reactome.org/biopax/83/48887#>  PREFIX reactome: <http://www.reactome.org/biopax/87/48887#>  SELECT ?metric ?count # Number of instances of SmallMolecule WHERE {     {         SELECT ?metric (COUNT(DISTINCT ?small_molecule) AS ?count)         WHERE {             BIND(\"SmallMolecule\" AS ?metric)             ?small_molecule rdf:type/(rdfs:subClassOf*) bp3:SmallMolecule .         }         GROUP BY ?metric     }     UNION     {         SELECT ?metric (COUNT(DISTINCT ?small_molecule_ref) AS ?count)         WHERE {             BIND(\"SmallMoleculeReference\" AS ?metric)             ?small_molecule_ref rdf:type bp3:SmallMoleculeReference .         }         GROUP BY ?metric     }     UNION     {         SELECT ?metric (COUNT(DISTINCT ?small_molecule_without_ref) AS ?count)         WHERE {             BIND(\"noSMR\" AS ?metric)             OPTIONAL {             ?small_molecule_without_ref rdf:type/(rdfs:subClassOf*) bp3:SmallMolecule .             FILTER NOT EXISTS {                 ?small_molecule_without_ref bp3:entityReference ?ref .                 ?ref rdf:type bp3:SmallMoleculeReference .             }             }         }         GROUP BY ?metric     }     UNION     {         SELECT ?metric (COUNT(DISTINCT ?small_molecule_that_map_to_chebi) AS ?count)         WHERE {             BIND(\"ChEBI mappings\" AS ?metric)             ?small_molecule_that_map_to_chebi rdf:type bp3:SmallMolecule .             ?small_molecule_that_map_to_chebi bp3:entityReference ?small_molecule_ref .             ?small_molecule_ref rdf:type bp3:SmallMoleculeReference .             ?small_molecule_ref bp3:xref ?small_molecule_ref_xref .             ?small_molecule_ref_xref rdf:type bp3:UnificationXref .             ?small_molecule_ref_xref bp3:db \"chebi\" .             ?small_molecule_ref_xref bp3:id ?chebi_id .         }         GROUP BY ?metric     }     UNION      {         SELECT ?metric (COUNT(DISTINCT ?small_molecule_no_map_to_chebi) AS ?count)         WHERE {             BIND(\"Smnomapping\" AS ?metric)             ?small_molecule_no_map_to_chebi rdf:type/(rdfs:subClassOf*) bp3:SmallMolecule .             ?small_molecule_no_map_to_chebi bp3:entityReference ?small_molecule_ref .             FILTER NOT EXISTS {                 ?small_molecule_ref bp3:xref ?xref .                 ?xref rdf:type bp3:UnificationXref .                 ?xref bp3:db \"chebi\" .                 ?xref bp3:id ?chebi_id .             }         }         GROUP BY ?metric     }     UNION      {         SELECT ?metric (COUNT(DISTINCT ?chebi_id) AS ?count)         WHERE {             BIND(\"Unique ChEBI\" AS ?metric)             ?unif_xref rdf:type bp3:UnificationXref .             ?unif_xref bp3:db \"chebi\" .             ?unif_xref bp3:id ?chebi_id .         }         GROUP BY ?metric     } } ORDER BY ?metric  \n",
      "09:42:09 INFO  Fuseki          :: [1] 200 OK (616 ms)\n"
     ]
    },
    {
     "data": {
      "text/html": [
       "<table><tr><th>metric</th><th>count</th></tr><tr><td>ChEBI mappings</td><td>3423</td></tr><tr><td>SmallMolecule</td><td>4273</td></tr><tr><td>SmallMoleculeReference</td><td>529</td></tr><tr><td>Smnomapping</td><td>850</td></tr><tr><td>Unique ChEBI</td><td>439</td></tr><tr><td>noSMR</td><td>0</td></tr></table>"
      ],
      "text/plain": [
       "<IPython.core.display.HTML object>"
      ]
     },
     "metadata": {},
     "output_type": "display_data"
    },
    {
     "name": "stderr",
     "output_type": "stream",
     "text": [
      "09:42:09 INFO  Fuseki          :: [2] GET http://localhost:3030/inoh_pc/query?query=%0APREFIX+rdf%3A+%3Chttp%3A//www.w3.org/1999/02/22-rdf-syntax-ns%23%3E%0APREFIX+rdfs%3A%3Chttp%3A//www.w3.org/2000/01/rdf-schema%23%3E%0APREFIX+owl%3A+%3Chttp%3A//www.w3.org/2002/07/owl%23%3E%0APREFIX+xsd%3A+%3Chttp%3A//www.w3.org/2001/XMLSchema%23%3E%0APREFIX+dc%3A+%3Chttp%3A//purl.org/dc/elements/1.1/%3E%0APREFIX+dcterms%3A+%3Chttp%3A//purl.org/dc/terms/%3E%0A%0APREFIX+chebi%3A+%3Chttp%3A//purl.obolibrary.org/obo/chebi/%3E%0APREFIX+chebidb%3A+%3Chttp%3A//purl.obolibrary.org/obo/CHEBI_%3E%0APREFIX+chebirel%3A+%3Chttp%3A//purl.obolibrary.org/obo/CHEBI%23%3E%0APREFIX+oboInOwl%3A+%3Chttp%3A//www.geneontology.org/formats/oboInOwl%23%3E%0A%0APREFIX+bp3%3A+%3Chttp%3A//www.biopax.org/release/biopax-level3.owl%23%3E%0A%0A%23+Homo_sapiens-20170221.owl%0A%23PREFIX+reactome%3A+%3Chttp%3A//www.reactome.org/biopax/59/48887%23%3E+%0A%23%0A%23+Homo_sapiens-20210608.owl%0A%23PREFIX+reactome%3A+%3Chttp%3A//www.reactome.org/biopax/77/48887%23%3E%0A%23%0A%23+Homo_sapiens-20220614.owl%0A%23PREFIX+reactome%3A+%3Chttp%3A//www.reactome.org/biopax/81/48887%23%3E%0A%23%0A%23+Homo_sapiens-20221130.owl%0A%23PREFIX+reactome%3A+%3Chttp%3A//www.reactome.org/biopax/83/48887%23%3E%0A%0APREFIX+reactome%3A+%3Chttp%3A//www.reactome.org/biopax/87/48887%23%3E%0A%0ASELECT+%3Fmetric+%3Fcount%0A%23+Number+of+instances+of+SmallMolecule%0AWHERE+%7B%0A++++%7B%0A++++++++SELECT+%3Fmetric+%28COUNT%28DISTINCT+%3Fsmall_molecule%29+AS+%3Fcount%29%0A++++++++WHERE+%7B%0A++++++++++++BIND%28%22SmallMolecule%22+AS+%3Fmetric%29%0A++++++++++++%3Fsmall_molecule+rdf%3Atype/%28rdfs%3AsubClassOf%2A%29+bp3%3ASmallMolecule+.%0A++++++++%7D%0A++++++++GROUP+BY+%3Fmetric%0A++++%7D%0A++++UNION%0A++++%7B%0A++++++++SELECT+%3Fmetric+%28COUNT%28DISTINCT+%3Fsmall_molecule_ref%29+AS+%3Fcount%29%0A++++++++WHERE+%7B%0A++++++++++++BIND%28%22SmallMoleculeReference%22+AS+%3Fmetric%29%0A++++++++++++%3Fsmall_molecule_ref+rdf%3Atype+bp3%3ASmallMoleculeReference+.%0A++++++++%7D%0A++++++++GROUP+BY+%3Fmetric%0A++++%7D%0A++++UNION%0A++++%7B%0A++++++++SELECT+%3Fmetric+%28COUNT%28DISTINCT+%3Fsmall_molecule_without_ref%29+AS+%3Fcount%29%0A++++++++WHERE+%7B%0A++++++++++++BIND%28%22noSMR%22+AS+%3Fmetric%29%0A++++++++++++OPTIONAL+%7B%0A++++++++++++%3Fsmall_molecule_without_ref+rdf%3Atype/%28rdfs%3AsubClassOf%2A%29+bp3%3ASmallMolecule+.%0A++++++++++++FILTER+NOT+EXISTS+%7B%0A++++++++++++++++%3Fsmall_molecule_without_ref+bp3%3AentityReference+%3Fref+.%0A++++++++++++++++%3Fref+rdf%3Atype+bp3%3ASmallMoleculeReference+.%0A++++++++++++%7D%0A++++++++++++%7D%0A++++++++%7D%0A++++++++GROUP+BY+%3Fmetric%0A++++%7D%0A++++UNION%0A++++%7B%0A++++++++SELECT+%3Fmetric+%28COUNT%28DISTINCT+%3Fsmall_molecule_that_map_to_chebi%29+AS+%3Fcount%29%0A++++++++WHERE+%7B%0A++++++++++++BIND%28%22ChEBI+mappings%22+AS+%3Fmetric%29%0A++++++++++++%3Fsmall_molecule_that_map_to_chebi+rdf%3Atype+bp3%3ASmallMolecule+.%0A++++++++++++%3Fsmall_molecule_that_map_to_chebi+bp3%3AentityReference+%3Fsmall_molecule_ref+.%0A++++++++++++%3Fsmall_molecule_ref+rdf%3Atype+bp3%3ASmallMoleculeReference+.%0A++++++++++++%3Fsmall_molecule_ref+bp3%3Axref+%3Fsmall_molecule_ref_xref+.%0A++++++++++++%3Fsmall_molecule_ref_xref+rdf%3Atype+bp3%3AUnificationXref+.%0A++++++++++++%3Fsmall_molecule_ref_xref+bp3%3Adb+%22chebi%22+.%0A++++++++++++%3Fsmall_molecule_ref_xref+bp3%3Aid+%3Fchebi_id+.%0A++++++++%7D%0A++++++++GROUP+BY+%3Fmetric%0A++++%7D%0A++++UNION+%0A++++%7B%0A++++++++SELECT+%3Fmetric+%28COUNT%28DISTINCT+%3Fsmall_molecule_no_map_to_chebi%29+AS+%3Fcount%29%0A++++++++WHERE+%7B%0A++++++++++++BIND%28%22Smnomapping%22+AS+%3Fmetric%29%0A++++++++++++%3Fsmall_molecule_no_map_to_chebi+rdf%3Atype/%28rdfs%3AsubClassOf%2A%29+bp3%3ASmallMolecule+.%0A++++++++++++%3Fsmall_molecule_no_map_to_chebi+bp3%3AentityReference+%3Fsmall_molecule_ref+.%0A++++++++++++FILTER+NOT+EXISTS+%7B%0A++++++++++++++++%3Fsmall_molecule_ref+bp3%3Axref+%3Fxref+.%0A++++++++++++++++%3Fxref+rdf%3Atype+bp3%3AUnificationXref+.%0A++++++++++++++++%3Fxref+bp3%3Adb+%22chebi%22+.%0A++++++++++++++++%3Fxref+bp3%3Aid+%3Fchebi_id+.%0A++++++++++++%7D%0A++++++++%7D%0A++++++++GROUP+BY+%3Fmetric%0A++++%7D%0A++++UNION+%0A++++%7B%0A++++++++SELECT+%3Fmetric+%28COUNT%28DISTINCT+%3Fchebi_id%29+AS+%3Fcount%29%0A++++++++WHERE+%7B%0A++++++++++++BIND%28%22Unique+ChEBI%22+AS+%3Fmetric%29%0A++++++++++++%3Funif_xref+rdf%3Atype+bp3%3AUnificationXref+.%0A++++++++++++%3Funif_xref+bp3%3Adb+%22chebi%22+.%0A++++++++++++%3Funif_xref+bp3%3Aid+%3Fchebi_id+.%0A++++++++%7D%0A++++++++GROUP+BY+%3Fmetric%0A++++%7D%0A%7D%0AORDER+BY+%3Fmetric%0A%0A&format=csv&output=csv&results=csv\n",
      "09:42:09 INFO  Fuseki          :: [2] Query =  PREFIX rdf: <http://www.w3.org/1999/02/22-rdf-syntax-ns#> PREFIX rdfs:<http://www.w3.org/2000/01/rdf-schema#> PREFIX owl: <http://www.w3.org/2002/07/owl#> PREFIX xsd: <http://www.w3.org/2001/XMLSchema#> PREFIX dc: <http://purl.org/dc/elements/1.1/> PREFIX dcterms: <http://purl.org/dc/terms/>  PREFIX chebi: <http://purl.obolibrary.org/obo/chebi/> PREFIX chebidb: <http://purl.obolibrary.org/obo/CHEBI_> PREFIX chebirel: <http://purl.obolibrary.org/obo/CHEBI#> PREFIX oboInOwl: <http://www.geneontology.org/formats/oboInOwl#>  PREFIX bp3: <http://www.biopax.org/release/biopax-level3.owl#>  # Homo_sapiens-20170221.owl #PREFIX reactome: <http://www.reactome.org/biopax/59/48887#>  # # Homo_sapiens-20210608.owl #PREFIX reactome: <http://www.reactome.org/biopax/77/48887#> # # Homo_sapiens-20220614.owl #PREFIX reactome: <http://www.reactome.org/biopax/81/48887#> # # Homo_sapiens-20221130.owl #PREFIX reactome: <http://www.reactome.org/biopax/83/48887#>  PREFIX reactome: <http://www.reactome.org/biopax/87/48887#>  SELECT ?metric ?count # Number of instances of SmallMolecule WHERE {     {         SELECT ?metric (COUNT(DISTINCT ?small_molecule) AS ?count)         WHERE {             BIND(\"SmallMolecule\" AS ?metric)             ?small_molecule rdf:type/(rdfs:subClassOf*) bp3:SmallMolecule .         }         GROUP BY ?metric     }     UNION     {         SELECT ?metric (COUNT(DISTINCT ?small_molecule_ref) AS ?count)         WHERE {             BIND(\"SmallMoleculeReference\" AS ?metric)             ?small_molecule_ref rdf:type bp3:SmallMoleculeReference .         }         GROUP BY ?metric     }     UNION     {         SELECT ?metric (COUNT(DISTINCT ?small_molecule_without_ref) AS ?count)         WHERE {             BIND(\"noSMR\" AS ?metric)             OPTIONAL {             ?small_molecule_without_ref rdf:type/(rdfs:subClassOf*) bp3:SmallMolecule .             FILTER NOT EXISTS {                 ?small_molecule_without_ref bp3:entityReference ?ref .                 ?ref rdf:type bp3:SmallMoleculeReference .             }             }         }         GROUP BY ?metric     }     UNION     {         SELECT ?metric (COUNT(DISTINCT ?small_molecule_that_map_to_chebi) AS ?count)         WHERE {             BIND(\"ChEBI mappings\" AS ?metric)             ?small_molecule_that_map_to_chebi rdf:type bp3:SmallMolecule .             ?small_molecule_that_map_to_chebi bp3:entityReference ?small_molecule_ref .             ?small_molecule_ref rdf:type bp3:SmallMoleculeReference .             ?small_molecule_ref bp3:xref ?small_molecule_ref_xref .             ?small_molecule_ref_xref rdf:type bp3:UnificationXref .             ?small_molecule_ref_xref bp3:db \"chebi\" .             ?small_molecule_ref_xref bp3:id ?chebi_id .         }         GROUP BY ?metric     }     UNION      {         SELECT ?metric (COUNT(DISTINCT ?small_molecule_no_map_to_chebi) AS ?count)         WHERE {             BIND(\"Smnomapping\" AS ?metric)             ?small_molecule_no_map_to_chebi rdf:type/(rdfs:subClassOf*) bp3:SmallMolecule .             ?small_molecule_no_map_to_chebi bp3:entityReference ?small_molecule_ref .             FILTER NOT EXISTS {                 ?small_molecule_ref bp3:xref ?xref .                 ?xref rdf:type bp3:UnificationXref .                 ?xref bp3:db \"chebi\" .                 ?xref bp3:id ?chebi_id .             }         }         GROUP BY ?metric     }     UNION      {         SELECT ?metric (COUNT(DISTINCT ?chebi_id) AS ?count)         WHERE {             BIND(\"Unique ChEBI\" AS ?metric)             ?unif_xref rdf:type bp3:UnificationXref .             ?unif_xref bp3:db \"chebi\" .             ?unif_xref bp3:id ?chebi_id .         }         GROUP BY ?metric     } } ORDER BY ?metric  \n",
      "09:42:09 INFO  Fuseki          :: [2] 200 OK (181 ms)\n"
     ]
    }
   ],
   "source": [
    "# TODO: change path\n",
    "command = [\n",
    "    '/home/cbeust/Softwares/JenaFuseki/apache-jena-fuseki-4.9.0/fuseki-server',\n",
    "    '--file', '/home/cbeust/Projects/2024/BioPAX_Review/Compare_BioPAX_Files/PathwayCommonsFiles/PathwayCommons12.inoh.BIOPAX.owl',\n",
    "    '--file', '/home/cbeust/Projects/2024/BioPAX_Review/BioPAX_Ontology/biopax-level3.owl',\n",
    "    '/inoh_pc']\n",
    "process = subprocess.Popen(command)\n",
    "time.sleep(60)\n",
    "\n",
    "# execute SPARQL query\n",
    "sparql = SPARQLWrapper(endpointURL_inoh_pc)\n",
    "sparql.setQuery(prefixes+query2)\n",
    "\n",
    "# display results\n",
    "sparql.setReturnFormat(JSON)\n",
    "results = sparql.query().convert()\n",
    "displaySparqlResults(results)\n",
    "\n",
    "# export results to CSV\n",
    "sparql.setReturnFormat(CSV)\n",
    "results = sparql.query().convert()\n",
    "with open(\"../Results/inoh_pc_mappings_chebi.csv\", \"wb\") as f:\n",
    "    f.write(results)\n",
    "\n",
    "# end process\n",
    "process.kill()\n",
    "time.sleep(60)"
   ]
  },
  {
   "cell_type": "markdown",
   "metadata": {},
   "source": [
    "#### Query on BioPAX export of NetPath from PathwayCommons"
   ]
  },
  {
   "cell_type": "code",
   "execution_count": 14,
   "metadata": {},
   "outputs": [
    {
     "name": "stderr",
     "output_type": "stream",
     "text": [
      "09:43:10 INFO  Server          :: Dataset: in-memory: load file: /home/cbeust/Projects/2024/BioPAX_Review/Compare_BioPAX_Files/PathwayCommonsFiles/PathwayCommons12.netpath.BIOPAX.owl\n",
      "09:43:11 WARN  riot            :: [line: 83771, col: 87] {W137} Input is large. Switching off checking for illegal reuse of rdf:ID's.\n",
      "09:43:12 INFO  Server          :: Dataset: in-memory: load file: /home/cbeust/Projects/2024/BioPAX_Review/BioPAX_Ontology/biopax-level3.owl\n",
      "09:43:12 INFO  Server          :: Running in read-only mode for /netpath_pc\n",
      "09:43:12 INFO  Server          :: Apache Jena Fuseki 4.9.0\n",
      "09:43:12 INFO  Config          :: FUSEKI_HOME=/home/cbeust/Softwares/JenaFuseki/apache-jena-fuseki-4.9.0\n",
      "09:43:12 INFO  Config          :: FUSEKI_BASE=/home/cbeust/Projects/2024/BioPAX_Review/BioPAXReview2024Codes/Figure4-5/Scripts/run\n",
      "09:43:12 INFO  Config          :: Shiro file: file:///home/cbeust/Projects/2024/BioPAX_Review/BioPAXReview2024Codes/Figure4-5/Scripts/run/shiro.ini\n",
      "09:43:13 INFO  Server          :: Database: in-memory, with files loaded\n",
      "09:43:13 INFO  Server          :: Path = /netpath_pc\n",
      "09:43:13 INFO  Server          ::   Memory: 16.0 GiB\n",
      "09:43:13 INFO  Server          ::   Java:   17.0.11\n",
      "09:43:13 INFO  Server          ::   OS:     Linux 6.8.9-100.fc38.x86_64 amd64\n",
      "09:43:13 INFO  Server          ::   PID:    18930\n",
      "09:43:13 INFO  Server          :: Started 2024/07/30 09:43:13 CEST on port 3030\n",
      "09:44:09 INFO  Fuseki          :: [1] GET http://localhost:3030/netpath_pc/query?query=%0APREFIX+rdf%3A+%3Chttp%3A//www.w3.org/1999/02/22-rdf-syntax-ns%23%3E%0APREFIX+rdfs%3A%3Chttp%3A//www.w3.org/2000/01/rdf-schema%23%3E%0APREFIX+owl%3A+%3Chttp%3A//www.w3.org/2002/07/owl%23%3E%0APREFIX+xsd%3A+%3Chttp%3A//www.w3.org/2001/XMLSchema%23%3E%0APREFIX+dc%3A+%3Chttp%3A//purl.org/dc/elements/1.1/%3E%0APREFIX+dcterms%3A+%3Chttp%3A//purl.org/dc/terms/%3E%0A%0APREFIX+chebi%3A+%3Chttp%3A//purl.obolibrary.org/obo/chebi/%3E%0APREFIX+chebidb%3A+%3Chttp%3A//purl.obolibrary.org/obo/CHEBI_%3E%0APREFIX+chebirel%3A+%3Chttp%3A//purl.obolibrary.org/obo/CHEBI%23%3E%0APREFIX+oboInOwl%3A+%3Chttp%3A//www.geneontology.org/formats/oboInOwl%23%3E%0A%0APREFIX+bp3%3A+%3Chttp%3A//www.biopax.org/release/biopax-level3.owl%23%3E%0A%0A%23+Homo_sapiens-20170221.owl%0A%23PREFIX+reactome%3A+%3Chttp%3A//www.reactome.org/biopax/59/48887%23%3E+%0A%23%0A%23+Homo_sapiens-20210608.owl%0A%23PREFIX+reactome%3A+%3Chttp%3A//www.reactome.org/biopax/77/48887%23%3E%0A%23%0A%23+Homo_sapiens-20220614.owl%0A%23PREFIX+reactome%3A+%3Chttp%3A//www.reactome.org/biopax/81/48887%23%3E%0A%23%0A%23+Homo_sapiens-20221130.owl%0A%23PREFIX+reactome%3A+%3Chttp%3A//www.reactome.org/biopax/83/48887%23%3E%0A%0APREFIX+reactome%3A+%3Chttp%3A//www.reactome.org/biopax/87/48887%23%3E%0A%0ASELECT+%3Fmetric+%3Fcount%0A%23+Number+of+instances+of+SmallMolecule%0AWHERE+%7B%0A++++%7B%0A++++++++SELECT+%3Fmetric+%28COUNT%28DISTINCT+%3Fsmall_molecule%29+AS+%3Fcount%29%0A++++++++WHERE+%7B%0A++++++++++++BIND%28%22SmallMolecule%22+AS+%3Fmetric%29%0A++++++++++++OPTIONAL+%7B%0A++++++++++++%3Fsmall_molecule+rdf%3Atype/%28rdfs%3AsubClassOf%2A%29+bp3%3ASmallMolecule+.%0A++++++++%7D%0A++++++++%7D%0A++++++++GROUP+BY+%3Fmetric%0A++++%7D%0A++++UNION%0A++++%7B%0A++++++++SELECT+%3Fmetric+%28COUNT%28DISTINCT+%3Fsmall_molecule_ref%29+AS+%3Fcount%29%0A++++++++WHERE+%7B%0A++++++++++++BIND%28%22SmallMoleculeReference%22+AS+%3Fmetric%29%0A++++++++++++OPTIONAL+%7B%0A++++++++++++%3Fsmall_molecule_ref+rdf%3Atype+bp3%3ASmallMoleculeReference+.%0A++++++++%7D%0A++++++++%7D%0A++++++++GROUP+BY+%3Fmetric%0A++++%7D%0A++++UNION%0A++++%7B%0A++++++++SELECT+%3Fmetric+%28COUNT%28DISTINCT+%3Fsmall_molecule_without_ref%29+AS+%3Fcount%29%0A++++++++WHERE+%7B%0A++++++++++++BIND%28%22noSMR%22+AS+%3Fmetric%29%0A++++++++++++OPTIONAL+%7B%0A++++++++++++%3Fsmall_molecule_without_ref+rdf%3Atype/%28rdfs%3AsubClassOf%2A%29+bp3%3ASmallMolecule+.%0A++++++++++++FILTER+NOT+EXISTS+%7B%0A++++++++++++++++%3Fsmall_molecule_without_ref+bp3%3AentityReference+%3Fref+.%0A++++++++++++++++%3Fref+rdf%3Atype+bp3%3ASmallMoleculeReference+.%0A++++++++++++%7D%0A++++++++++++%7D%0A++++++++%7D%0A++++++++GROUP+BY+%3Fmetric%0A++++%7D%0A++++UNION%0A++++%7B%0A++++++++SELECT+%3Fmetric+%28COUNT%28DISTINCT+%3Fsmall_molecule_that_map_to_chebi%29+AS+%3Fcount%29%0A++++++++WHERE+%7B%0A++++++++++++BIND%28%22ChEBI+mappings%22+AS+%3Fmetric%29%0A++++++++++++OPTIONAL+%7B%0A++++++++++++%3Fsmall_molecule_that_map_to_chebi+rdf%3Atype+bp3%3ASmallMolecule+.%0A++++++++++++%3Fsmall_molecule_that_map_to_chebi+bp3%3AentityReference+%3Fsmall_molecule_ref+.%0A++++++++++++%3Fsmall_molecule_ref+rdf%3Atype+bp3%3ASmallMoleculeReference+.%0A++++++++++++%3Fsmall_molecule_ref+bp3%3Axref+%3Fsmall_molecule_ref_xref+.%0A++++++++++++%3Fsmall_molecule_ref_xref+rdf%3Atype+bp3%3AUnificationXref+.%0A++++++++++++%3Fsmall_molecule_ref_xref+bp3%3Adb+%22ChEBI%22+.%0A++++++++++++%3Fsmall_molecule_ref_xref+bp3%3Aid+%3Fchebi_id+.%0A++++++++%7D%0A++++++++%7D%0A++++++++GROUP+BY+%3Fmetric%0A++++%7D%0A++++UNION+%0A++++%7B%0A++++++++SELECT+%3Fmetric+%28COUNT%28DISTINCT+%3Fsmall_molecule_no_map_to_chebi%29+AS+%3Fcount%29%0A++++++++WHERE+%7B%0A++++++++++++BIND%28%22Smnomapping%22+AS+%3Fmetric%29%0A++++++++++++OPTIONAL+%7B%0A++++++++++++%3Fsmall_molecule_no_map_to_chebi+rdf%3Atype/%28rdfs%3AsubClassOf%2A%29+bp3%3ASmallMolecule+.%0A++++++++++++%3Fsmall_molecule_no_map_to_chebi+bp3%3AentityReference+%3Fsmall_molecule_ref+.%0A++++++++++++FILTER+NOT+EXISTS+%7B%0A++++++++++++++++%3Fsmall_molecule_ref+bp3%3Axref+%3Fxref+.%0A++++++++++++++++%3Fxref+rdf%3Atype+bp3%3AUnificationXref+.%0A++++++++++++++++%3Fxref+bp3%3Adb+%22ChEBI%22+.%0A++++++++++++++++%3Fxref+bp3%3Aid+%3Fchebi_id+.%0A++++++++++++%7D%0A++++++++++++%7D%0A++++++++%7D%0A++++++++GROUP+BY+%3Fmetric%0A++++%7D%0A++++UNION+%0A++++%7B%0A++++++++SELECT+%3Fmetric+%28COUNT%28DISTINCT+%3Fchebi_id%29+AS+%3Fcount%29%0A++++++++WHERE+%7B%0A++++++++++++BIND%28%22Unique+ChEBI%22+AS+%3Fmetric%29%0A++++++++++++OPTIONAL+%7B%0A++++++++++++%3Funif_xref+rdf%3Atype+bp3%3AUnificationXref+.%0A++++++++++++%3Funif_xref+bp3%3Adb+%22ChEBI%22+.%0A++++++++++++%3Funif_xref+bp3%3Aid+%3Fchebi_id+.%0A++++++++%7D%0A++++++++%7D%0A++++++++GROUP+BY+%3Fmetric%0A++++%7D%0A%7D%0AORDER+BY+%3Fmetric%0A%0A&format=json&output=json&results=json\n",
      "09:44:09 INFO  Fuseki          :: [1] Query =  PREFIX rdf: <http://www.w3.org/1999/02/22-rdf-syntax-ns#> PREFIX rdfs:<http://www.w3.org/2000/01/rdf-schema#> PREFIX owl: <http://www.w3.org/2002/07/owl#> PREFIX xsd: <http://www.w3.org/2001/XMLSchema#> PREFIX dc: <http://purl.org/dc/elements/1.1/> PREFIX dcterms: <http://purl.org/dc/terms/>  PREFIX chebi: <http://purl.obolibrary.org/obo/chebi/> PREFIX chebidb: <http://purl.obolibrary.org/obo/CHEBI_> PREFIX chebirel: <http://purl.obolibrary.org/obo/CHEBI#> PREFIX oboInOwl: <http://www.geneontology.org/formats/oboInOwl#>  PREFIX bp3: <http://www.biopax.org/release/biopax-level3.owl#>  # Homo_sapiens-20170221.owl #PREFIX reactome: <http://www.reactome.org/biopax/59/48887#>  # # Homo_sapiens-20210608.owl #PREFIX reactome: <http://www.reactome.org/biopax/77/48887#> # # Homo_sapiens-20220614.owl #PREFIX reactome: <http://www.reactome.org/biopax/81/48887#> # # Homo_sapiens-20221130.owl #PREFIX reactome: <http://www.reactome.org/biopax/83/48887#>  PREFIX reactome: <http://www.reactome.org/biopax/87/48887#>  SELECT ?metric ?count # Number of instances of SmallMolecule WHERE {     {         SELECT ?metric (COUNT(DISTINCT ?small_molecule) AS ?count)         WHERE {             BIND(\"SmallMolecule\" AS ?metric)             OPTIONAL {             ?small_molecule rdf:type/(rdfs:subClassOf*) bp3:SmallMolecule .         }         }         GROUP BY ?metric     }     UNION     {         SELECT ?metric (COUNT(DISTINCT ?small_molecule_ref) AS ?count)         WHERE {             BIND(\"SmallMoleculeReference\" AS ?metric)             OPTIONAL {             ?small_molecule_ref rdf:type bp3:SmallMoleculeReference .         }         }         GROUP BY ?metric     }     UNION     {         SELECT ?metric (COUNT(DISTINCT ?small_molecule_without_ref) AS ?count)         WHERE {             BIND(\"noSMR\" AS ?metric)             OPTIONAL {             ?small_molecule_without_ref rdf:type/(rdfs:subClassOf*) bp3:SmallMolecule .             FILTER NOT EXISTS {                 ?small_molecule_without_ref bp3:entityReference ?ref .                 ?ref rdf:type bp3:SmallMoleculeReference .             }             }         }         GROUP BY ?metric     }     UNION     {         SELECT ?metric (COUNT(DISTINCT ?small_molecule_that_map_to_chebi) AS ?count)         WHERE {             BIND(\"ChEBI mappings\" AS ?metric)             OPTIONAL {             ?small_molecule_that_map_to_chebi rdf:type bp3:SmallMolecule .             ?small_molecule_that_map_to_chebi bp3:entityReference ?small_molecule_ref .             ?small_molecule_ref rdf:type bp3:SmallMoleculeReference .             ?small_molecule_ref bp3:xref ?small_molecule_ref_xref .             ?small_molecule_ref_xref rdf:type bp3:UnificationXref .             ?small_molecule_ref_xref bp3:db \"ChEBI\" .             ?small_molecule_ref_xref bp3:id ?chebi_id .         }         }         GROUP BY ?metric     }     UNION      {         SELECT ?metric (COUNT(DISTINCT ?small_molecule_no_map_to_chebi) AS ?count)         WHERE {             BIND(\"Smnomapping\" AS ?metric)             OPTIONAL {             ?small_molecule_no_map_to_chebi rdf:type/(rdfs:subClassOf*) bp3:SmallMolecule .             ?small_molecule_no_map_to_chebi bp3:entityReference ?small_molecule_ref .             FILTER NOT EXISTS {                 ?small_molecule_ref bp3:xref ?xref .                 ?xref rdf:type bp3:UnificationXref .                 ?xref bp3:db \"ChEBI\" .                 ?xref bp3:id ?chebi_id .             }             }         }         GROUP BY ?metric     }     UNION      {         SELECT ?metric (COUNT(DISTINCT ?chebi_id) AS ?count)         WHERE {             BIND(\"Unique ChEBI\" AS ?metric)             OPTIONAL {             ?unif_xref rdf:type bp3:UnificationXref .             ?unif_xref bp3:db \"ChEBI\" .             ?unif_xref bp3:id ?chebi_id .         }         }         GROUP BY ?metric     } } ORDER BY ?metric  \n",
      "09:44:09 INFO  Fuseki          :: [1] 200 OK (81 ms)\n"
     ]
    },
    {
     "data": {
      "text/html": [
       "<table><tr><th>metric</th><th>count</th></tr><tr><td>ChEBI mappings</td><td>0</td></tr><tr><td>SmallMolecule</td><td>0</td></tr><tr><td>SmallMoleculeReference</td><td>0</td></tr><tr><td>Smnomapping</td><td>0</td></tr><tr><td>Unique ChEBI</td><td>0</td></tr><tr><td>noSMR</td><td>0</td></tr></table>"
      ],
      "text/plain": [
       "<IPython.core.display.HTML object>"
      ]
     },
     "metadata": {},
     "output_type": "display_data"
    },
    {
     "name": "stderr",
     "output_type": "stream",
     "text": [
      "09:44:09 INFO  Fuseki          :: [2] GET http://localhost:3030/netpath_pc/query?query=%0APREFIX+rdf%3A+%3Chttp%3A//www.w3.org/1999/02/22-rdf-syntax-ns%23%3E%0APREFIX+rdfs%3A%3Chttp%3A//www.w3.org/2000/01/rdf-schema%23%3E%0APREFIX+owl%3A+%3Chttp%3A//www.w3.org/2002/07/owl%23%3E%0APREFIX+xsd%3A+%3Chttp%3A//www.w3.org/2001/XMLSchema%23%3E%0APREFIX+dc%3A+%3Chttp%3A//purl.org/dc/elements/1.1/%3E%0APREFIX+dcterms%3A+%3Chttp%3A//purl.org/dc/terms/%3E%0A%0APREFIX+chebi%3A+%3Chttp%3A//purl.obolibrary.org/obo/chebi/%3E%0APREFIX+chebidb%3A+%3Chttp%3A//purl.obolibrary.org/obo/CHEBI_%3E%0APREFIX+chebirel%3A+%3Chttp%3A//purl.obolibrary.org/obo/CHEBI%23%3E%0APREFIX+oboInOwl%3A+%3Chttp%3A//www.geneontology.org/formats/oboInOwl%23%3E%0A%0APREFIX+bp3%3A+%3Chttp%3A//www.biopax.org/release/biopax-level3.owl%23%3E%0A%0A%23+Homo_sapiens-20170221.owl%0A%23PREFIX+reactome%3A+%3Chttp%3A//www.reactome.org/biopax/59/48887%23%3E+%0A%23%0A%23+Homo_sapiens-20210608.owl%0A%23PREFIX+reactome%3A+%3Chttp%3A//www.reactome.org/biopax/77/48887%23%3E%0A%23%0A%23+Homo_sapiens-20220614.owl%0A%23PREFIX+reactome%3A+%3Chttp%3A//www.reactome.org/biopax/81/48887%23%3E%0A%23%0A%23+Homo_sapiens-20221130.owl%0A%23PREFIX+reactome%3A+%3Chttp%3A//www.reactome.org/biopax/83/48887%23%3E%0A%0APREFIX+reactome%3A+%3Chttp%3A//www.reactome.org/biopax/87/48887%23%3E%0A%0ASELECT+%3Fmetric+%3Fcount%0A%23+Number+of+instances+of+SmallMolecule%0AWHERE+%7B%0A++++%7B%0A++++++++SELECT+%3Fmetric+%28COUNT%28DISTINCT+%3Fsmall_molecule%29+AS+%3Fcount%29%0A++++++++WHERE+%7B%0A++++++++++++BIND%28%22SmallMolecule%22+AS+%3Fmetric%29%0A++++++++++++OPTIONAL+%7B%0A++++++++++++%3Fsmall_molecule+rdf%3Atype/%28rdfs%3AsubClassOf%2A%29+bp3%3ASmallMolecule+.%0A++++++++%7D%0A++++++++%7D%0A++++++++GROUP+BY+%3Fmetric%0A++++%7D%0A++++UNION%0A++++%7B%0A++++++++SELECT+%3Fmetric+%28COUNT%28DISTINCT+%3Fsmall_molecule_ref%29+AS+%3Fcount%29%0A++++++++WHERE+%7B%0A++++++++++++BIND%28%22SmallMoleculeReference%22+AS+%3Fmetric%29%0A++++++++++++OPTIONAL+%7B%0A++++++++++++%3Fsmall_molecule_ref+rdf%3Atype+bp3%3ASmallMoleculeReference+.%0A++++++++%7D%0A++++++++%7D%0A++++++++GROUP+BY+%3Fmetric%0A++++%7D%0A++++UNION%0A++++%7B%0A++++++++SELECT+%3Fmetric+%28COUNT%28DISTINCT+%3Fsmall_molecule_without_ref%29+AS+%3Fcount%29%0A++++++++WHERE+%7B%0A++++++++++++BIND%28%22noSMR%22+AS+%3Fmetric%29%0A++++++++++++OPTIONAL+%7B%0A++++++++++++%3Fsmall_molecule_without_ref+rdf%3Atype/%28rdfs%3AsubClassOf%2A%29+bp3%3ASmallMolecule+.%0A++++++++++++FILTER+NOT+EXISTS+%7B%0A++++++++++++++++%3Fsmall_molecule_without_ref+bp3%3AentityReference+%3Fref+.%0A++++++++++++++++%3Fref+rdf%3Atype+bp3%3ASmallMoleculeReference+.%0A++++++++++++%7D%0A++++++++++++%7D%0A++++++++%7D%0A++++++++GROUP+BY+%3Fmetric%0A++++%7D%0A++++UNION%0A++++%7B%0A++++++++SELECT+%3Fmetric+%28COUNT%28DISTINCT+%3Fsmall_molecule_that_map_to_chebi%29+AS+%3Fcount%29%0A++++++++WHERE+%7B%0A++++++++++++BIND%28%22ChEBI+mappings%22+AS+%3Fmetric%29%0A++++++++++++OPTIONAL+%7B%0A++++++++++++%3Fsmall_molecule_that_map_to_chebi+rdf%3Atype+bp3%3ASmallMolecule+.%0A++++++++++++%3Fsmall_molecule_that_map_to_chebi+bp3%3AentityReference+%3Fsmall_molecule_ref+.%0A++++++++++++%3Fsmall_molecule_ref+rdf%3Atype+bp3%3ASmallMoleculeReference+.%0A++++++++++++%3Fsmall_molecule_ref+bp3%3Axref+%3Fsmall_molecule_ref_xref+.%0A++++++++++++%3Fsmall_molecule_ref_xref+rdf%3Atype+bp3%3AUnificationXref+.%0A++++++++++++%3Fsmall_molecule_ref_xref+bp3%3Adb+%22ChEBI%22+.%0A++++++++++++%3Fsmall_molecule_ref_xref+bp3%3Aid+%3Fchebi_id+.%0A++++++++%7D%0A++++++++%7D%0A++++++++GROUP+BY+%3Fmetric%0A++++%7D%0A++++UNION+%0A++++%7B%0A++++++++SELECT+%3Fmetric+%28COUNT%28DISTINCT+%3Fsmall_molecule_no_map_to_chebi%29+AS+%3Fcount%29%0A++++++++WHERE+%7B%0A++++++++++++BIND%28%22Smnomapping%22+AS+%3Fmetric%29%0A++++++++++++OPTIONAL+%7B%0A++++++++++++%3Fsmall_molecule_no_map_to_chebi+rdf%3Atype/%28rdfs%3AsubClassOf%2A%29+bp3%3ASmallMolecule+.%0A++++++++++++%3Fsmall_molecule_no_map_to_chebi+bp3%3AentityReference+%3Fsmall_molecule_ref+.%0A++++++++++++FILTER+NOT+EXISTS+%7B%0A++++++++++++++++%3Fsmall_molecule_ref+bp3%3Axref+%3Fxref+.%0A++++++++++++++++%3Fxref+rdf%3Atype+bp3%3AUnificationXref+.%0A++++++++++++++++%3Fxref+bp3%3Adb+%22ChEBI%22+.%0A++++++++++++++++%3Fxref+bp3%3Aid+%3Fchebi_id+.%0A++++++++++++%7D%0A++++++++++++%7D%0A++++++++%7D%0A++++++++GROUP+BY+%3Fmetric%0A++++%7D%0A++++UNION+%0A++++%7B%0A++++++++SELECT+%3Fmetric+%28COUNT%28DISTINCT+%3Fchebi_id%29+AS+%3Fcount%29%0A++++++++WHERE+%7B%0A++++++++++++BIND%28%22Unique+ChEBI%22+AS+%3Fmetric%29%0A++++++++++++OPTIONAL+%7B%0A++++++++++++%3Funif_xref+rdf%3Atype+bp3%3AUnificationXref+.%0A++++++++++++%3Funif_xref+bp3%3Adb+%22ChEBI%22+.%0A++++++++++++%3Funif_xref+bp3%3Aid+%3Fchebi_id+.%0A++++++++%7D%0A++++++++%7D%0A++++++++GROUP+BY+%3Fmetric%0A++++%7D%0A%7D%0AORDER+BY+%3Fmetric%0A%0A&format=csv&output=csv&results=csv\n",
      "09:44:09 INFO  Fuseki          :: [2] Query =  PREFIX rdf: <http://www.w3.org/1999/02/22-rdf-syntax-ns#> PREFIX rdfs:<http://www.w3.org/2000/01/rdf-schema#> PREFIX owl: <http://www.w3.org/2002/07/owl#> PREFIX xsd: <http://www.w3.org/2001/XMLSchema#> PREFIX dc: <http://purl.org/dc/elements/1.1/> PREFIX dcterms: <http://purl.org/dc/terms/>  PREFIX chebi: <http://purl.obolibrary.org/obo/chebi/> PREFIX chebidb: <http://purl.obolibrary.org/obo/CHEBI_> PREFIX chebirel: <http://purl.obolibrary.org/obo/CHEBI#> PREFIX oboInOwl: <http://www.geneontology.org/formats/oboInOwl#>  PREFIX bp3: <http://www.biopax.org/release/biopax-level3.owl#>  # Homo_sapiens-20170221.owl #PREFIX reactome: <http://www.reactome.org/biopax/59/48887#>  # # Homo_sapiens-20210608.owl #PREFIX reactome: <http://www.reactome.org/biopax/77/48887#> # # Homo_sapiens-20220614.owl #PREFIX reactome: <http://www.reactome.org/biopax/81/48887#> # # Homo_sapiens-20221130.owl #PREFIX reactome: <http://www.reactome.org/biopax/83/48887#>  PREFIX reactome: <http://www.reactome.org/biopax/87/48887#>  SELECT ?metric ?count # Number of instances of SmallMolecule WHERE {     {         SELECT ?metric (COUNT(DISTINCT ?small_molecule) AS ?count)         WHERE {             BIND(\"SmallMolecule\" AS ?metric)             OPTIONAL {             ?small_molecule rdf:type/(rdfs:subClassOf*) bp3:SmallMolecule .         }         }         GROUP BY ?metric     }     UNION     {         SELECT ?metric (COUNT(DISTINCT ?small_molecule_ref) AS ?count)         WHERE {             BIND(\"SmallMoleculeReference\" AS ?metric)             OPTIONAL {             ?small_molecule_ref rdf:type bp3:SmallMoleculeReference .         }         }         GROUP BY ?metric     }     UNION     {         SELECT ?metric (COUNT(DISTINCT ?small_molecule_without_ref) AS ?count)         WHERE {             BIND(\"noSMR\" AS ?metric)             OPTIONAL {             ?small_molecule_without_ref rdf:type/(rdfs:subClassOf*) bp3:SmallMolecule .             FILTER NOT EXISTS {                 ?small_molecule_without_ref bp3:entityReference ?ref .                 ?ref rdf:type bp3:SmallMoleculeReference .             }             }         }         GROUP BY ?metric     }     UNION     {         SELECT ?metric (COUNT(DISTINCT ?small_molecule_that_map_to_chebi) AS ?count)         WHERE {             BIND(\"ChEBI mappings\" AS ?metric)             OPTIONAL {             ?small_molecule_that_map_to_chebi rdf:type bp3:SmallMolecule .             ?small_molecule_that_map_to_chebi bp3:entityReference ?small_molecule_ref .             ?small_molecule_ref rdf:type bp3:SmallMoleculeReference .             ?small_molecule_ref bp3:xref ?small_molecule_ref_xref .             ?small_molecule_ref_xref rdf:type bp3:UnificationXref .             ?small_molecule_ref_xref bp3:db \"ChEBI\" .             ?small_molecule_ref_xref bp3:id ?chebi_id .         }         }         GROUP BY ?metric     }     UNION      {         SELECT ?metric (COUNT(DISTINCT ?small_molecule_no_map_to_chebi) AS ?count)         WHERE {             BIND(\"Smnomapping\" AS ?metric)             OPTIONAL {             ?small_molecule_no_map_to_chebi rdf:type/(rdfs:subClassOf*) bp3:SmallMolecule .             ?small_molecule_no_map_to_chebi bp3:entityReference ?small_molecule_ref .             FILTER NOT EXISTS {                 ?small_molecule_ref bp3:xref ?xref .                 ?xref rdf:type bp3:UnificationXref .                 ?xref bp3:db \"ChEBI\" .                 ?xref bp3:id ?chebi_id .             }             }         }         GROUP BY ?metric     }     UNION      {         SELECT ?metric (COUNT(DISTINCT ?chebi_id) AS ?count)         WHERE {             BIND(\"Unique ChEBI\" AS ?metric)             OPTIONAL {             ?unif_xref rdf:type bp3:UnificationXref .             ?unif_xref bp3:db \"ChEBI\" .             ?unif_xref bp3:id ?chebi_id .         }         }         GROUP BY ?metric     } } ORDER BY ?metric  \n",
      "09:44:09 INFO  Fuseki          :: [2] 200 OK (28 ms)\n"
     ]
    }
   ],
   "source": [
    "# TODO: change path\n",
    "command = [\n",
    "    '/home/cbeust/Softwares/JenaFuseki/apache-jena-fuseki-4.9.0/fuseki-server',\n",
    "    '--file', '/home/cbeust/Projects/2024/BioPAX_Review/Compare_BioPAX_Files/PathwayCommonsFiles/PathwayCommons12.netpath.BIOPAX.owl',\n",
    "    '--file', '/home/cbeust/Projects/2024/BioPAX_Review/BioPAX_Ontology/biopax-level3.owl',\n",
    "    '/netpath_pc']\n",
    "process = subprocess.Popen(command)\n",
    "time.sleep(60)\n",
    "\n",
    "# execute SPARQL query\n",
    "sparql = SPARQLWrapper(endpointURL_netpath_pc)\n",
    "sparql.setQuery(prefixes+query1)\n",
    "\n",
    "# display results\n",
    "sparql.setReturnFormat(JSON)\n",
    "results = sparql.query().convert()\n",
    "displaySparqlResults(results)\n",
    "\n",
    "# export results to CSV\n",
    "sparql.setReturnFormat(CSV)\n",
    "results = sparql.query().convert()\n",
    "with open(\"../Results/netpath_pc_mappings_chebi.csv\", \"wb\") as f:\n",
    "    f.write(results)\n",
    "\n",
    "# end process\n",
    "process.kill()\n",
    "time.sleep(60)"
   ]
  }
 ],
 "metadata": {
  "kernelspec": {
   "display_name": "biopax_sparql_queries",
   "language": "python",
   "name": "python3"
  },
  "language_info": {
   "codemirror_mode": {
    "name": "ipython",
    "version": 3
   },
   "file_extension": ".py",
   "mimetype": "text/x-python",
   "name": "python",
   "nbconvert_exporter": "python",
   "pygments_lexer": "ipython3",
   "version": "3.12.4"
  }
 },
 "nbformat": 4,
 "nbformat_minor": 2
}
